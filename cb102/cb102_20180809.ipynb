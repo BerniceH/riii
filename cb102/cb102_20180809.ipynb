{
 "cells": [
  {
   "cell_type": "markdown",
   "metadata": {},
   "source": [
    "### 2018 popular programming language\n",
    "- https://www.kdnuggets.com/2018/05/poll-tools-analytics-data-science-machine-learning-results.html\n",
    "- https://spectrum.ieee.org/at-work/innovation/the-2018-top-programming-languages\n",
    "\n",
    "### R vs Python\n",
    "- https://www.datacamp.com/community/tutorials/r-or-python-for-data-analysis"
   ]
  },
  {
   "cell_type": "code",
   "execution_count": 3,
   "metadata": {},
   "outputs": [
    {
     "data": {},
     "metadata": {},
     "output_type": "display_data"
    }
   ],
   "source": [
    "help(package = 'base')"
   ]
  },
  {
   "cell_type": "code",
   "execution_count": 4,
   "metadata": {},
   "outputs": [],
   "source": [
    "?sum"
   ]
  },
  {
   "cell_type": "code",
   "execution_count": 8,
   "metadata": {},
   "outputs": [
    {
     "data": {
      "text/html": [
       "6"
      ],
      "text/latex": [
       "6"
      ],
      "text/markdown": [
       "6"
      ],
      "text/plain": [
       "[1] 6"
      ]
     },
     "metadata": {},
     "output_type": "display_data"
    }
   ],
   "source": [
    "sum(c(1,2,3,NA),na.rm = T)"
   ]
  },
  {
   "cell_type": "code",
   "execution_count": 9,
   "metadata": {},
   "outputs": [],
   "source": [
    "?base::sum"
   ]
  },
  {
   "cell_type": "code",
   "execution_count": 10,
   "metadata": {},
   "outputs": [
    {
     "data": {},
     "metadata": {},
     "output_type": "display_data"
    }
   ],
   "source": [
    "help.search(\"sum\")"
   ]
  },
  {
   "cell_type": "code",
   "execution_count": 11,
   "metadata": {},
   "outputs": [
    {
     "data": {},
     "metadata": {},
     "output_type": "display_data"
    }
   ],
   "source": [
    "??sum"
   ]
  },
  {
   "cell_type": "code",
   "execution_count": 13,
   "metadata": {},
   "outputs": [],
   "source": [
    "data('iris')"
   ]
  },
  {
   "cell_type": "code",
   "execution_count": 14,
   "metadata": {},
   "outputs": [
    {
     "data": {
      "text/html": [
       "'iris'"
      ],
      "text/latex": [
       "'iris'"
      ],
      "text/markdown": [
       "'iris'"
      ],
      "text/plain": [
       "[1] \"iris\""
      ]
     },
     "metadata": {},
     "output_type": "display_data"
    }
   ],
   "source": [
    "ls()"
   ]
  },
  {
   "cell_type": "code",
   "execution_count": 15,
   "metadata": {
    "scrolled": true
   },
   "outputs": [
    {
     "data": {
      "text/html": [
       "<table>\n",
       "<thead><tr><th scope=col>Sepal.Length</th><th scope=col>Sepal.Width</th><th scope=col>Petal.Length</th><th scope=col>Petal.Width</th><th scope=col>Species</th></tr></thead>\n",
       "<tbody>\n",
       "\t<tr><td>5.1   </td><td>3.5   </td><td>1.4   </td><td>0.2   </td><td>setosa</td></tr>\n",
       "\t<tr><td>4.9   </td><td>3.0   </td><td>1.4   </td><td>0.2   </td><td>setosa</td></tr>\n",
       "\t<tr><td>4.7   </td><td>3.2   </td><td>1.3   </td><td>0.2   </td><td>setosa</td></tr>\n",
       "\t<tr><td>4.6   </td><td>3.1   </td><td>1.5   </td><td>0.2   </td><td>setosa</td></tr>\n",
       "\t<tr><td>5.0   </td><td>3.6   </td><td>1.4   </td><td>0.2   </td><td>setosa</td></tr>\n",
       "\t<tr><td>5.4   </td><td>3.9   </td><td>1.7   </td><td>0.4   </td><td>setosa</td></tr>\n",
       "\t<tr><td>4.6   </td><td>3.4   </td><td>1.4   </td><td>0.3   </td><td>setosa</td></tr>\n",
       "\t<tr><td>5.0   </td><td>3.4   </td><td>1.5   </td><td>0.2   </td><td>setosa</td></tr>\n",
       "\t<tr><td>4.4   </td><td>2.9   </td><td>1.4   </td><td>0.2   </td><td>setosa</td></tr>\n",
       "\t<tr><td>4.9   </td><td>3.1   </td><td>1.5   </td><td>0.1   </td><td>setosa</td></tr>\n",
       "\t<tr><td>5.4   </td><td>3.7   </td><td>1.5   </td><td>0.2   </td><td>setosa</td></tr>\n",
       "\t<tr><td>4.8   </td><td>3.4   </td><td>1.6   </td><td>0.2   </td><td>setosa</td></tr>\n",
       "\t<tr><td>4.8   </td><td>3.0   </td><td>1.4   </td><td>0.1   </td><td>setosa</td></tr>\n",
       "\t<tr><td>4.3   </td><td>3.0   </td><td>1.1   </td><td>0.1   </td><td>setosa</td></tr>\n",
       "\t<tr><td>5.8   </td><td>4.0   </td><td>1.2   </td><td>0.2   </td><td>setosa</td></tr>\n",
       "\t<tr><td>5.7   </td><td>4.4   </td><td>1.5   </td><td>0.4   </td><td>setosa</td></tr>\n",
       "\t<tr><td>5.4   </td><td>3.9   </td><td>1.3   </td><td>0.4   </td><td>setosa</td></tr>\n",
       "\t<tr><td>5.1   </td><td>3.5   </td><td>1.4   </td><td>0.3   </td><td>setosa</td></tr>\n",
       "\t<tr><td>5.7   </td><td>3.8   </td><td>1.7   </td><td>0.3   </td><td>setosa</td></tr>\n",
       "\t<tr><td>5.1   </td><td>3.8   </td><td>1.5   </td><td>0.3   </td><td>setosa</td></tr>\n",
       "\t<tr><td>5.4   </td><td>3.4   </td><td>1.7   </td><td>0.2   </td><td>setosa</td></tr>\n",
       "\t<tr><td>5.1   </td><td>3.7   </td><td>1.5   </td><td>0.4   </td><td>setosa</td></tr>\n",
       "\t<tr><td>4.6   </td><td>3.6   </td><td>1.0   </td><td>0.2   </td><td>setosa</td></tr>\n",
       "\t<tr><td>5.1   </td><td>3.3   </td><td>1.7   </td><td>0.5   </td><td>setosa</td></tr>\n",
       "\t<tr><td>4.8   </td><td>3.4   </td><td>1.9   </td><td>0.2   </td><td>setosa</td></tr>\n",
       "\t<tr><td>5.0   </td><td>3.0   </td><td>1.6   </td><td>0.2   </td><td>setosa</td></tr>\n",
       "\t<tr><td>5.0   </td><td>3.4   </td><td>1.6   </td><td>0.4   </td><td>setosa</td></tr>\n",
       "\t<tr><td>5.2   </td><td>3.5   </td><td>1.5   </td><td>0.2   </td><td>setosa</td></tr>\n",
       "\t<tr><td>5.2   </td><td>3.4   </td><td>1.4   </td><td>0.2   </td><td>setosa</td></tr>\n",
       "\t<tr><td>4.7   </td><td>3.2   </td><td>1.6   </td><td>0.2   </td><td>setosa</td></tr>\n",
       "\t<tr><td>⋮</td><td>⋮</td><td>⋮</td><td>⋮</td><td>⋮</td></tr>\n",
       "\t<tr><td>6.9      </td><td>3.2      </td><td>5.7      </td><td>2.3      </td><td>virginica</td></tr>\n",
       "\t<tr><td>5.6      </td><td>2.8      </td><td>4.9      </td><td>2.0      </td><td>virginica</td></tr>\n",
       "\t<tr><td>7.7      </td><td>2.8      </td><td>6.7      </td><td>2.0      </td><td>virginica</td></tr>\n",
       "\t<tr><td>6.3      </td><td>2.7      </td><td>4.9      </td><td>1.8      </td><td>virginica</td></tr>\n",
       "\t<tr><td>6.7      </td><td>3.3      </td><td>5.7      </td><td>2.1      </td><td>virginica</td></tr>\n",
       "\t<tr><td>7.2      </td><td>3.2      </td><td>6.0      </td><td>1.8      </td><td>virginica</td></tr>\n",
       "\t<tr><td>6.2      </td><td>2.8      </td><td>4.8      </td><td>1.8      </td><td>virginica</td></tr>\n",
       "\t<tr><td>6.1      </td><td>3.0      </td><td>4.9      </td><td>1.8      </td><td>virginica</td></tr>\n",
       "\t<tr><td>6.4      </td><td>2.8      </td><td>5.6      </td><td>2.1      </td><td>virginica</td></tr>\n",
       "\t<tr><td>7.2      </td><td>3.0      </td><td>5.8      </td><td>1.6      </td><td>virginica</td></tr>\n",
       "\t<tr><td>7.4      </td><td>2.8      </td><td>6.1      </td><td>1.9      </td><td>virginica</td></tr>\n",
       "\t<tr><td>7.9      </td><td>3.8      </td><td>6.4      </td><td>2.0      </td><td>virginica</td></tr>\n",
       "\t<tr><td>6.4      </td><td>2.8      </td><td>5.6      </td><td>2.2      </td><td>virginica</td></tr>\n",
       "\t<tr><td>6.3      </td><td>2.8      </td><td>5.1      </td><td>1.5      </td><td>virginica</td></tr>\n",
       "\t<tr><td>6.1      </td><td>2.6      </td><td>5.6      </td><td>1.4      </td><td>virginica</td></tr>\n",
       "\t<tr><td>7.7      </td><td>3.0      </td><td>6.1      </td><td>2.3      </td><td>virginica</td></tr>\n",
       "\t<tr><td>6.3      </td><td>3.4      </td><td>5.6      </td><td>2.4      </td><td>virginica</td></tr>\n",
       "\t<tr><td>6.4      </td><td>3.1      </td><td>5.5      </td><td>1.8      </td><td>virginica</td></tr>\n",
       "\t<tr><td>6.0      </td><td>3.0      </td><td>4.8      </td><td>1.8      </td><td>virginica</td></tr>\n",
       "\t<tr><td>6.9      </td><td>3.1      </td><td>5.4      </td><td>2.1      </td><td>virginica</td></tr>\n",
       "\t<tr><td>6.7      </td><td>3.1      </td><td>5.6      </td><td>2.4      </td><td>virginica</td></tr>\n",
       "\t<tr><td>6.9      </td><td>3.1      </td><td>5.1      </td><td>2.3      </td><td>virginica</td></tr>\n",
       "\t<tr><td>5.8      </td><td>2.7      </td><td>5.1      </td><td>1.9      </td><td>virginica</td></tr>\n",
       "\t<tr><td>6.8      </td><td>3.2      </td><td>5.9      </td><td>2.3      </td><td>virginica</td></tr>\n",
       "\t<tr><td>6.7      </td><td>3.3      </td><td>5.7      </td><td>2.5      </td><td>virginica</td></tr>\n",
       "\t<tr><td>6.7      </td><td>3.0      </td><td>5.2      </td><td>2.3      </td><td>virginica</td></tr>\n",
       "\t<tr><td>6.3      </td><td>2.5      </td><td>5.0      </td><td>1.9      </td><td>virginica</td></tr>\n",
       "\t<tr><td>6.5      </td><td>3.0      </td><td>5.2      </td><td>2.0      </td><td>virginica</td></tr>\n",
       "\t<tr><td>6.2      </td><td>3.4      </td><td>5.4      </td><td>2.3      </td><td>virginica</td></tr>\n",
       "\t<tr><td>5.9      </td><td>3.0      </td><td>5.1      </td><td>1.8      </td><td>virginica</td></tr>\n",
       "</tbody>\n",
       "</table>\n"
      ],
      "text/latex": [
       "\\begin{tabular}{r|lllll}\n",
       " Sepal.Length & Sepal.Width & Petal.Length & Petal.Width & Species\\\\\n",
       "\\hline\n",
       "\t 5.1    & 3.5    & 1.4    & 0.2    & setosa\\\\\n",
       "\t 4.9    & 3.0    & 1.4    & 0.2    & setosa\\\\\n",
       "\t 4.7    & 3.2    & 1.3    & 0.2    & setosa\\\\\n",
       "\t 4.6    & 3.1    & 1.5    & 0.2    & setosa\\\\\n",
       "\t 5.0    & 3.6    & 1.4    & 0.2    & setosa\\\\\n",
       "\t 5.4    & 3.9    & 1.7    & 0.4    & setosa\\\\\n",
       "\t 4.6    & 3.4    & 1.4    & 0.3    & setosa\\\\\n",
       "\t 5.0    & 3.4    & 1.5    & 0.2    & setosa\\\\\n",
       "\t 4.4    & 2.9    & 1.4    & 0.2    & setosa\\\\\n",
       "\t 4.9    & 3.1    & 1.5    & 0.1    & setosa\\\\\n",
       "\t 5.4    & 3.7    & 1.5    & 0.2    & setosa\\\\\n",
       "\t 4.8    & 3.4    & 1.6    & 0.2    & setosa\\\\\n",
       "\t 4.8    & 3.0    & 1.4    & 0.1    & setosa\\\\\n",
       "\t 4.3    & 3.0    & 1.1    & 0.1    & setosa\\\\\n",
       "\t 5.8    & 4.0    & 1.2    & 0.2    & setosa\\\\\n",
       "\t 5.7    & 4.4    & 1.5    & 0.4    & setosa\\\\\n",
       "\t 5.4    & 3.9    & 1.3    & 0.4    & setosa\\\\\n",
       "\t 5.1    & 3.5    & 1.4    & 0.3    & setosa\\\\\n",
       "\t 5.7    & 3.8    & 1.7    & 0.3    & setosa\\\\\n",
       "\t 5.1    & 3.8    & 1.5    & 0.3    & setosa\\\\\n",
       "\t 5.4    & 3.4    & 1.7    & 0.2    & setosa\\\\\n",
       "\t 5.1    & 3.7    & 1.5    & 0.4    & setosa\\\\\n",
       "\t 4.6    & 3.6    & 1.0    & 0.2    & setosa\\\\\n",
       "\t 5.1    & 3.3    & 1.7    & 0.5    & setosa\\\\\n",
       "\t 4.8    & 3.4    & 1.9    & 0.2    & setosa\\\\\n",
       "\t 5.0    & 3.0    & 1.6    & 0.2    & setosa\\\\\n",
       "\t 5.0    & 3.4    & 1.6    & 0.4    & setosa\\\\\n",
       "\t 5.2    & 3.5    & 1.5    & 0.2    & setosa\\\\\n",
       "\t 5.2    & 3.4    & 1.4    & 0.2    & setosa\\\\\n",
       "\t 4.7    & 3.2    & 1.6    & 0.2    & setosa\\\\\n",
       "\t ⋮ & ⋮ & ⋮ & ⋮ & ⋮\\\\\n",
       "\t 6.9       & 3.2       & 5.7       & 2.3       & virginica\\\\\n",
       "\t 5.6       & 2.8       & 4.9       & 2.0       & virginica\\\\\n",
       "\t 7.7       & 2.8       & 6.7       & 2.0       & virginica\\\\\n",
       "\t 6.3       & 2.7       & 4.9       & 1.8       & virginica\\\\\n",
       "\t 6.7       & 3.3       & 5.7       & 2.1       & virginica\\\\\n",
       "\t 7.2       & 3.2       & 6.0       & 1.8       & virginica\\\\\n",
       "\t 6.2       & 2.8       & 4.8       & 1.8       & virginica\\\\\n",
       "\t 6.1       & 3.0       & 4.9       & 1.8       & virginica\\\\\n",
       "\t 6.4       & 2.8       & 5.6       & 2.1       & virginica\\\\\n",
       "\t 7.2       & 3.0       & 5.8       & 1.6       & virginica\\\\\n",
       "\t 7.4       & 2.8       & 6.1       & 1.9       & virginica\\\\\n",
       "\t 7.9       & 3.8       & 6.4       & 2.0       & virginica\\\\\n",
       "\t 6.4       & 2.8       & 5.6       & 2.2       & virginica\\\\\n",
       "\t 6.3       & 2.8       & 5.1       & 1.5       & virginica\\\\\n",
       "\t 6.1       & 2.6       & 5.6       & 1.4       & virginica\\\\\n",
       "\t 7.7       & 3.0       & 6.1       & 2.3       & virginica\\\\\n",
       "\t 6.3       & 3.4       & 5.6       & 2.4       & virginica\\\\\n",
       "\t 6.4       & 3.1       & 5.5       & 1.8       & virginica\\\\\n",
       "\t 6.0       & 3.0       & 4.8       & 1.8       & virginica\\\\\n",
       "\t 6.9       & 3.1       & 5.4       & 2.1       & virginica\\\\\n",
       "\t 6.7       & 3.1       & 5.6       & 2.4       & virginica\\\\\n",
       "\t 6.9       & 3.1       & 5.1       & 2.3       & virginica\\\\\n",
       "\t 5.8       & 2.7       & 5.1       & 1.9       & virginica\\\\\n",
       "\t 6.8       & 3.2       & 5.9       & 2.3       & virginica\\\\\n",
       "\t 6.7       & 3.3       & 5.7       & 2.5       & virginica\\\\\n",
       "\t 6.7       & 3.0       & 5.2       & 2.3       & virginica\\\\\n",
       "\t 6.3       & 2.5       & 5.0       & 1.9       & virginica\\\\\n",
       "\t 6.5       & 3.0       & 5.2       & 2.0       & virginica\\\\\n",
       "\t 6.2       & 3.4       & 5.4       & 2.3       & virginica\\\\\n",
       "\t 5.9       & 3.0       & 5.1       & 1.8       & virginica\\\\\n",
       "\\end{tabular}\n"
      ],
      "text/markdown": [
       "\n",
       "Sepal.Length | Sepal.Width | Petal.Length | Petal.Width | Species | \n",
       "|---|---|---|---|---|---|---|---|---|---|---|---|---|---|---|---|---|---|---|---|---|---|---|---|---|---|---|---|---|---|---|---|---|---|---|---|---|---|---|---|---|---|---|---|---|---|---|---|---|---|---|---|---|---|---|---|---|---|---|---|---|\n",
       "| 5.1    | 3.5    | 1.4    | 0.2    | setosa | \n",
       "| 4.9    | 3.0    | 1.4    | 0.2    | setosa | \n",
       "| 4.7    | 3.2    | 1.3    | 0.2    | setosa | \n",
       "| 4.6    | 3.1    | 1.5    | 0.2    | setosa | \n",
       "| 5.0    | 3.6    | 1.4    | 0.2    | setosa | \n",
       "| 5.4    | 3.9    | 1.7    | 0.4    | setosa | \n",
       "| 4.6    | 3.4    | 1.4    | 0.3    | setosa | \n",
       "| 5.0    | 3.4    | 1.5    | 0.2    | setosa | \n",
       "| 4.4    | 2.9    | 1.4    | 0.2    | setosa | \n",
       "| 4.9    | 3.1    | 1.5    | 0.1    | setosa | \n",
       "| 5.4    | 3.7    | 1.5    | 0.2    | setosa | \n",
       "| 4.8    | 3.4    | 1.6    | 0.2    | setosa | \n",
       "| 4.8    | 3.0    | 1.4    | 0.1    | setosa | \n",
       "| 4.3    | 3.0    | 1.1    | 0.1    | setosa | \n",
       "| 5.8    | 4.0    | 1.2    | 0.2    | setosa | \n",
       "| 5.7    | 4.4    | 1.5    | 0.4    | setosa | \n",
       "| 5.4    | 3.9    | 1.3    | 0.4    | setosa | \n",
       "| 5.1    | 3.5    | 1.4    | 0.3    | setosa | \n",
       "| 5.7    | 3.8    | 1.7    | 0.3    | setosa | \n",
       "| 5.1    | 3.8    | 1.5    | 0.3    | setosa | \n",
       "| 5.4    | 3.4    | 1.7    | 0.2    | setosa | \n",
       "| 5.1    | 3.7    | 1.5    | 0.4    | setosa | \n",
       "| 4.6    | 3.6    | 1.0    | 0.2    | setosa | \n",
       "| 5.1    | 3.3    | 1.7    | 0.5    | setosa | \n",
       "| 4.8    | 3.4    | 1.9    | 0.2    | setosa | \n",
       "| 5.0    | 3.0    | 1.6    | 0.2    | setosa | \n",
       "| 5.0    | 3.4    | 1.6    | 0.4    | setosa | \n",
       "| 5.2    | 3.5    | 1.5    | 0.2    | setosa | \n",
       "| 5.2    | 3.4    | 1.4    | 0.2    | setosa | \n",
       "| 4.7    | 3.2    | 1.6    | 0.2    | setosa | \n",
       "| ⋮ | ⋮ | ⋮ | ⋮ | ⋮ | \n",
       "| 6.9       | 3.2       | 5.7       | 2.3       | virginica | \n",
       "| 5.6       | 2.8       | 4.9       | 2.0       | virginica | \n",
       "| 7.7       | 2.8       | 6.7       | 2.0       | virginica | \n",
       "| 6.3       | 2.7       | 4.9       | 1.8       | virginica | \n",
       "| 6.7       | 3.3       | 5.7       | 2.1       | virginica | \n",
       "| 7.2       | 3.2       | 6.0       | 1.8       | virginica | \n",
       "| 6.2       | 2.8       | 4.8       | 1.8       | virginica | \n",
       "| 6.1       | 3.0       | 4.9       | 1.8       | virginica | \n",
       "| 6.4       | 2.8       | 5.6       | 2.1       | virginica | \n",
       "| 7.2       | 3.0       | 5.8       | 1.6       | virginica | \n",
       "| 7.4       | 2.8       | 6.1       | 1.9       | virginica | \n",
       "| 7.9       | 3.8       | 6.4       | 2.0       | virginica | \n",
       "| 6.4       | 2.8       | 5.6       | 2.2       | virginica | \n",
       "| 6.3       | 2.8       | 5.1       | 1.5       | virginica | \n",
       "| 6.1       | 2.6       | 5.6       | 1.4       | virginica | \n",
       "| 7.7       | 3.0       | 6.1       | 2.3       | virginica | \n",
       "| 6.3       | 3.4       | 5.6       | 2.4       | virginica | \n",
       "| 6.4       | 3.1       | 5.5       | 1.8       | virginica | \n",
       "| 6.0       | 3.0       | 4.8       | 1.8       | virginica | \n",
       "| 6.9       | 3.1       | 5.4       | 2.1       | virginica | \n",
       "| 6.7       | 3.1       | 5.6       | 2.4       | virginica | \n",
       "| 6.9       | 3.1       | 5.1       | 2.3       | virginica | \n",
       "| 5.8       | 2.7       | 5.1       | 1.9       | virginica | \n",
       "| 6.8       | 3.2       | 5.9       | 2.3       | virginica | \n",
       "| 6.7       | 3.3       | 5.7       | 2.5       | virginica | \n",
       "| 6.7       | 3.0       | 5.2       | 2.3       | virginica | \n",
       "| 6.3       | 2.5       | 5.0       | 1.9       | virginica | \n",
       "| 6.5       | 3.0       | 5.2       | 2.0       | virginica | \n",
       "| 6.2       | 3.4       | 5.4       | 2.3       | virginica | \n",
       "| 5.9       | 3.0       | 5.1       | 1.8       | virginica | \n",
       "\n",
       "\n"
      ],
      "text/plain": [
       "    Sepal.Length Sepal.Width Petal.Length Petal.Width Species  \n",
       "1   5.1          3.5         1.4          0.2         setosa   \n",
       "2   4.9          3.0         1.4          0.2         setosa   \n",
       "3   4.7          3.2         1.3          0.2         setosa   \n",
       "4   4.6          3.1         1.5          0.2         setosa   \n",
       "5   5.0          3.6         1.4          0.2         setosa   \n",
       "6   5.4          3.9         1.7          0.4         setosa   \n",
       "7   4.6          3.4         1.4          0.3         setosa   \n",
       "8   5.0          3.4         1.5          0.2         setosa   \n",
       "9   4.4          2.9         1.4          0.2         setosa   \n",
       "10  4.9          3.1         1.5          0.1         setosa   \n",
       "11  5.4          3.7         1.5          0.2         setosa   \n",
       "12  4.8          3.4         1.6          0.2         setosa   \n",
       "13  4.8          3.0         1.4          0.1         setosa   \n",
       "14  4.3          3.0         1.1          0.1         setosa   \n",
       "15  5.8          4.0         1.2          0.2         setosa   \n",
       "16  5.7          4.4         1.5          0.4         setosa   \n",
       "17  5.4          3.9         1.3          0.4         setosa   \n",
       "18  5.1          3.5         1.4          0.3         setosa   \n",
       "19  5.7          3.8         1.7          0.3         setosa   \n",
       "20  5.1          3.8         1.5          0.3         setosa   \n",
       "21  5.4          3.4         1.7          0.2         setosa   \n",
       "22  5.1          3.7         1.5          0.4         setosa   \n",
       "23  4.6          3.6         1.0          0.2         setosa   \n",
       "24  5.1          3.3         1.7          0.5         setosa   \n",
       "25  4.8          3.4         1.9          0.2         setosa   \n",
       "26  5.0          3.0         1.6          0.2         setosa   \n",
       "27  5.0          3.4         1.6          0.4         setosa   \n",
       "28  5.2          3.5         1.5          0.2         setosa   \n",
       "29  5.2          3.4         1.4          0.2         setosa   \n",
       "30  4.7          3.2         1.6          0.2         setosa   \n",
       "⋮   ⋮            ⋮           ⋮            ⋮           ⋮        \n",
       "121 6.9          3.2         5.7          2.3         virginica\n",
       "122 5.6          2.8         4.9          2.0         virginica\n",
       "123 7.7          2.8         6.7          2.0         virginica\n",
       "124 6.3          2.7         4.9          1.8         virginica\n",
       "125 6.7          3.3         5.7          2.1         virginica\n",
       "126 7.2          3.2         6.0          1.8         virginica\n",
       "127 6.2          2.8         4.8          1.8         virginica\n",
       "128 6.1          3.0         4.9          1.8         virginica\n",
       "129 6.4          2.8         5.6          2.1         virginica\n",
       "130 7.2          3.0         5.8          1.6         virginica\n",
       "131 7.4          2.8         6.1          1.9         virginica\n",
       "132 7.9          3.8         6.4          2.0         virginica\n",
       "133 6.4          2.8         5.6          2.2         virginica\n",
       "134 6.3          2.8         5.1          1.5         virginica\n",
       "135 6.1          2.6         5.6          1.4         virginica\n",
       "136 7.7          3.0         6.1          2.3         virginica\n",
       "137 6.3          3.4         5.6          2.4         virginica\n",
       "138 6.4          3.1         5.5          1.8         virginica\n",
       "139 6.0          3.0         4.8          1.8         virginica\n",
       "140 6.9          3.1         5.4          2.1         virginica\n",
       "141 6.7          3.1         5.6          2.4         virginica\n",
       "142 6.9          3.1         5.1          2.3         virginica\n",
       "143 5.8          2.7         5.1          1.9         virginica\n",
       "144 6.8          3.2         5.9          2.3         virginica\n",
       "145 6.7          3.3         5.7          2.5         virginica\n",
       "146 6.7          3.0         5.2          2.3         virginica\n",
       "147 6.3          2.5         5.0          1.9         virginica\n",
       "148 6.5          3.0         5.2          2.0         virginica\n",
       "149 6.2          3.4         5.4          2.3         virginica\n",
       "150 5.9          3.0         5.1          1.8         virginica"
      ]
     },
     "metadata": {},
     "output_type": "display_data"
    }
   ],
   "source": [
    "iris"
   ]
  },
  {
   "cell_type": "code",
   "execution_count": 16,
   "metadata": {},
   "outputs": [],
   "source": [
    "rm(iris)"
   ]
  },
  {
   "cell_type": "code",
   "execution_count": 17,
   "metadata": {},
   "outputs": [
    {
     "data": {
      "text/html": [],
      "text/latex": [],
      "text/markdown": [],
      "text/plain": [
       "character(0)"
      ]
     },
     "metadata": {},
     "output_type": "display_data"
    }
   ],
   "source": [
    "ls()"
   ]
  },
  {
   "cell_type": "code",
   "execution_count": 18,
   "metadata": {},
   "outputs": [],
   "source": [
    "data(iris)"
   ]
  },
  {
   "cell_type": "code",
   "execution_count": 19,
   "metadata": {
    "scrolled": true
   },
   "outputs": [
    {
     "data": {
      "text/html": [
       "<table>\n",
       "<thead><tr><th scope=col>Sepal.Length</th><th scope=col>Sepal.Width</th><th scope=col>Petal.Length</th><th scope=col>Petal.Width</th><th scope=col>Species</th></tr></thead>\n",
       "<tbody>\n",
       "\t<tr><td>5.1   </td><td>3.5   </td><td>1.4   </td><td>0.2   </td><td>setosa</td></tr>\n",
       "\t<tr><td>4.9   </td><td>3.0   </td><td>1.4   </td><td>0.2   </td><td>setosa</td></tr>\n",
       "\t<tr><td>4.7   </td><td>3.2   </td><td>1.3   </td><td>0.2   </td><td>setosa</td></tr>\n",
       "\t<tr><td>4.6   </td><td>3.1   </td><td>1.5   </td><td>0.2   </td><td>setosa</td></tr>\n",
       "\t<tr><td>5.0   </td><td>3.6   </td><td>1.4   </td><td>0.2   </td><td>setosa</td></tr>\n",
       "\t<tr><td>5.4   </td><td>3.9   </td><td>1.7   </td><td>0.4   </td><td>setosa</td></tr>\n",
       "\t<tr><td>4.6   </td><td>3.4   </td><td>1.4   </td><td>0.3   </td><td>setosa</td></tr>\n",
       "\t<tr><td>5.0   </td><td>3.4   </td><td>1.5   </td><td>0.2   </td><td>setosa</td></tr>\n",
       "\t<tr><td>4.4   </td><td>2.9   </td><td>1.4   </td><td>0.2   </td><td>setosa</td></tr>\n",
       "\t<tr><td>4.9   </td><td>3.1   </td><td>1.5   </td><td>0.1   </td><td>setosa</td></tr>\n",
       "\t<tr><td>5.4   </td><td>3.7   </td><td>1.5   </td><td>0.2   </td><td>setosa</td></tr>\n",
       "\t<tr><td>4.8   </td><td>3.4   </td><td>1.6   </td><td>0.2   </td><td>setosa</td></tr>\n",
       "\t<tr><td>4.8   </td><td>3.0   </td><td>1.4   </td><td>0.1   </td><td>setosa</td></tr>\n",
       "\t<tr><td>4.3   </td><td>3.0   </td><td>1.1   </td><td>0.1   </td><td>setosa</td></tr>\n",
       "\t<tr><td>5.8   </td><td>4.0   </td><td>1.2   </td><td>0.2   </td><td>setosa</td></tr>\n",
       "\t<tr><td>5.7   </td><td>4.4   </td><td>1.5   </td><td>0.4   </td><td>setosa</td></tr>\n",
       "\t<tr><td>5.4   </td><td>3.9   </td><td>1.3   </td><td>0.4   </td><td>setosa</td></tr>\n",
       "\t<tr><td>5.1   </td><td>3.5   </td><td>1.4   </td><td>0.3   </td><td>setosa</td></tr>\n",
       "\t<tr><td>5.7   </td><td>3.8   </td><td>1.7   </td><td>0.3   </td><td>setosa</td></tr>\n",
       "\t<tr><td>5.1   </td><td>3.8   </td><td>1.5   </td><td>0.3   </td><td>setosa</td></tr>\n",
       "\t<tr><td>5.4   </td><td>3.4   </td><td>1.7   </td><td>0.2   </td><td>setosa</td></tr>\n",
       "\t<tr><td>5.1   </td><td>3.7   </td><td>1.5   </td><td>0.4   </td><td>setosa</td></tr>\n",
       "\t<tr><td>4.6   </td><td>3.6   </td><td>1.0   </td><td>0.2   </td><td>setosa</td></tr>\n",
       "\t<tr><td>5.1   </td><td>3.3   </td><td>1.7   </td><td>0.5   </td><td>setosa</td></tr>\n",
       "\t<tr><td>4.8   </td><td>3.4   </td><td>1.9   </td><td>0.2   </td><td>setosa</td></tr>\n",
       "\t<tr><td>5.0   </td><td>3.0   </td><td>1.6   </td><td>0.2   </td><td>setosa</td></tr>\n",
       "\t<tr><td>5.0   </td><td>3.4   </td><td>1.6   </td><td>0.4   </td><td>setosa</td></tr>\n",
       "\t<tr><td>5.2   </td><td>3.5   </td><td>1.5   </td><td>0.2   </td><td>setosa</td></tr>\n",
       "\t<tr><td>5.2   </td><td>3.4   </td><td>1.4   </td><td>0.2   </td><td>setosa</td></tr>\n",
       "\t<tr><td>4.7   </td><td>3.2   </td><td>1.6   </td><td>0.2   </td><td>setosa</td></tr>\n",
       "\t<tr><td>⋮</td><td>⋮</td><td>⋮</td><td>⋮</td><td>⋮</td></tr>\n",
       "\t<tr><td>6.9      </td><td>3.2      </td><td>5.7      </td><td>2.3      </td><td>virginica</td></tr>\n",
       "\t<tr><td>5.6      </td><td>2.8      </td><td>4.9      </td><td>2.0      </td><td>virginica</td></tr>\n",
       "\t<tr><td>7.7      </td><td>2.8      </td><td>6.7      </td><td>2.0      </td><td>virginica</td></tr>\n",
       "\t<tr><td>6.3      </td><td>2.7      </td><td>4.9      </td><td>1.8      </td><td>virginica</td></tr>\n",
       "\t<tr><td>6.7      </td><td>3.3      </td><td>5.7      </td><td>2.1      </td><td>virginica</td></tr>\n",
       "\t<tr><td>7.2      </td><td>3.2      </td><td>6.0      </td><td>1.8      </td><td>virginica</td></tr>\n",
       "\t<tr><td>6.2      </td><td>2.8      </td><td>4.8      </td><td>1.8      </td><td>virginica</td></tr>\n",
       "\t<tr><td>6.1      </td><td>3.0      </td><td>4.9      </td><td>1.8      </td><td>virginica</td></tr>\n",
       "\t<tr><td>6.4      </td><td>2.8      </td><td>5.6      </td><td>2.1      </td><td>virginica</td></tr>\n",
       "\t<tr><td>7.2      </td><td>3.0      </td><td>5.8      </td><td>1.6      </td><td>virginica</td></tr>\n",
       "\t<tr><td>7.4      </td><td>2.8      </td><td>6.1      </td><td>1.9      </td><td>virginica</td></tr>\n",
       "\t<tr><td>7.9      </td><td>3.8      </td><td>6.4      </td><td>2.0      </td><td>virginica</td></tr>\n",
       "\t<tr><td>6.4      </td><td>2.8      </td><td>5.6      </td><td>2.2      </td><td>virginica</td></tr>\n",
       "\t<tr><td>6.3      </td><td>2.8      </td><td>5.1      </td><td>1.5      </td><td>virginica</td></tr>\n",
       "\t<tr><td>6.1      </td><td>2.6      </td><td>5.6      </td><td>1.4      </td><td>virginica</td></tr>\n",
       "\t<tr><td>7.7      </td><td>3.0      </td><td>6.1      </td><td>2.3      </td><td>virginica</td></tr>\n",
       "\t<tr><td>6.3      </td><td>3.4      </td><td>5.6      </td><td>2.4      </td><td>virginica</td></tr>\n",
       "\t<tr><td>6.4      </td><td>3.1      </td><td>5.5      </td><td>1.8      </td><td>virginica</td></tr>\n",
       "\t<tr><td>6.0      </td><td>3.0      </td><td>4.8      </td><td>1.8      </td><td>virginica</td></tr>\n",
       "\t<tr><td>6.9      </td><td>3.1      </td><td>5.4      </td><td>2.1      </td><td>virginica</td></tr>\n",
       "\t<tr><td>6.7      </td><td>3.1      </td><td>5.6      </td><td>2.4      </td><td>virginica</td></tr>\n",
       "\t<tr><td>6.9      </td><td>3.1      </td><td>5.1      </td><td>2.3      </td><td>virginica</td></tr>\n",
       "\t<tr><td>5.8      </td><td>2.7      </td><td>5.1      </td><td>1.9      </td><td>virginica</td></tr>\n",
       "\t<tr><td>6.8      </td><td>3.2      </td><td>5.9      </td><td>2.3      </td><td>virginica</td></tr>\n",
       "\t<tr><td>6.7      </td><td>3.3      </td><td>5.7      </td><td>2.5      </td><td>virginica</td></tr>\n",
       "\t<tr><td>6.7      </td><td>3.0      </td><td>5.2      </td><td>2.3      </td><td>virginica</td></tr>\n",
       "\t<tr><td>6.3      </td><td>2.5      </td><td>5.0      </td><td>1.9      </td><td>virginica</td></tr>\n",
       "\t<tr><td>6.5      </td><td>3.0      </td><td>5.2      </td><td>2.0      </td><td>virginica</td></tr>\n",
       "\t<tr><td>6.2      </td><td>3.4      </td><td>5.4      </td><td>2.3      </td><td>virginica</td></tr>\n",
       "\t<tr><td>5.9      </td><td>3.0      </td><td>5.1      </td><td>1.8      </td><td>virginica</td></tr>\n",
       "</tbody>\n",
       "</table>\n"
      ],
      "text/latex": [
       "\\begin{tabular}{r|lllll}\n",
       " Sepal.Length & Sepal.Width & Petal.Length & Petal.Width & Species\\\\\n",
       "\\hline\n",
       "\t 5.1    & 3.5    & 1.4    & 0.2    & setosa\\\\\n",
       "\t 4.9    & 3.0    & 1.4    & 0.2    & setosa\\\\\n",
       "\t 4.7    & 3.2    & 1.3    & 0.2    & setosa\\\\\n",
       "\t 4.6    & 3.1    & 1.5    & 0.2    & setosa\\\\\n",
       "\t 5.0    & 3.6    & 1.4    & 0.2    & setosa\\\\\n",
       "\t 5.4    & 3.9    & 1.7    & 0.4    & setosa\\\\\n",
       "\t 4.6    & 3.4    & 1.4    & 0.3    & setosa\\\\\n",
       "\t 5.0    & 3.4    & 1.5    & 0.2    & setosa\\\\\n",
       "\t 4.4    & 2.9    & 1.4    & 0.2    & setosa\\\\\n",
       "\t 4.9    & 3.1    & 1.5    & 0.1    & setosa\\\\\n",
       "\t 5.4    & 3.7    & 1.5    & 0.2    & setosa\\\\\n",
       "\t 4.8    & 3.4    & 1.6    & 0.2    & setosa\\\\\n",
       "\t 4.8    & 3.0    & 1.4    & 0.1    & setosa\\\\\n",
       "\t 4.3    & 3.0    & 1.1    & 0.1    & setosa\\\\\n",
       "\t 5.8    & 4.0    & 1.2    & 0.2    & setosa\\\\\n",
       "\t 5.7    & 4.4    & 1.5    & 0.4    & setosa\\\\\n",
       "\t 5.4    & 3.9    & 1.3    & 0.4    & setosa\\\\\n",
       "\t 5.1    & 3.5    & 1.4    & 0.3    & setosa\\\\\n",
       "\t 5.7    & 3.8    & 1.7    & 0.3    & setosa\\\\\n",
       "\t 5.1    & 3.8    & 1.5    & 0.3    & setosa\\\\\n",
       "\t 5.4    & 3.4    & 1.7    & 0.2    & setosa\\\\\n",
       "\t 5.1    & 3.7    & 1.5    & 0.4    & setosa\\\\\n",
       "\t 4.6    & 3.6    & 1.0    & 0.2    & setosa\\\\\n",
       "\t 5.1    & 3.3    & 1.7    & 0.5    & setosa\\\\\n",
       "\t 4.8    & 3.4    & 1.9    & 0.2    & setosa\\\\\n",
       "\t 5.0    & 3.0    & 1.6    & 0.2    & setosa\\\\\n",
       "\t 5.0    & 3.4    & 1.6    & 0.4    & setosa\\\\\n",
       "\t 5.2    & 3.5    & 1.5    & 0.2    & setosa\\\\\n",
       "\t 5.2    & 3.4    & 1.4    & 0.2    & setosa\\\\\n",
       "\t 4.7    & 3.2    & 1.6    & 0.2    & setosa\\\\\n",
       "\t ⋮ & ⋮ & ⋮ & ⋮ & ⋮\\\\\n",
       "\t 6.9       & 3.2       & 5.7       & 2.3       & virginica\\\\\n",
       "\t 5.6       & 2.8       & 4.9       & 2.0       & virginica\\\\\n",
       "\t 7.7       & 2.8       & 6.7       & 2.0       & virginica\\\\\n",
       "\t 6.3       & 2.7       & 4.9       & 1.8       & virginica\\\\\n",
       "\t 6.7       & 3.3       & 5.7       & 2.1       & virginica\\\\\n",
       "\t 7.2       & 3.2       & 6.0       & 1.8       & virginica\\\\\n",
       "\t 6.2       & 2.8       & 4.8       & 1.8       & virginica\\\\\n",
       "\t 6.1       & 3.0       & 4.9       & 1.8       & virginica\\\\\n",
       "\t 6.4       & 2.8       & 5.6       & 2.1       & virginica\\\\\n",
       "\t 7.2       & 3.0       & 5.8       & 1.6       & virginica\\\\\n",
       "\t 7.4       & 2.8       & 6.1       & 1.9       & virginica\\\\\n",
       "\t 7.9       & 3.8       & 6.4       & 2.0       & virginica\\\\\n",
       "\t 6.4       & 2.8       & 5.6       & 2.2       & virginica\\\\\n",
       "\t 6.3       & 2.8       & 5.1       & 1.5       & virginica\\\\\n",
       "\t 6.1       & 2.6       & 5.6       & 1.4       & virginica\\\\\n",
       "\t 7.7       & 3.0       & 6.1       & 2.3       & virginica\\\\\n",
       "\t 6.3       & 3.4       & 5.6       & 2.4       & virginica\\\\\n",
       "\t 6.4       & 3.1       & 5.5       & 1.8       & virginica\\\\\n",
       "\t 6.0       & 3.0       & 4.8       & 1.8       & virginica\\\\\n",
       "\t 6.9       & 3.1       & 5.4       & 2.1       & virginica\\\\\n",
       "\t 6.7       & 3.1       & 5.6       & 2.4       & virginica\\\\\n",
       "\t 6.9       & 3.1       & 5.1       & 2.3       & virginica\\\\\n",
       "\t 5.8       & 2.7       & 5.1       & 1.9       & virginica\\\\\n",
       "\t 6.8       & 3.2       & 5.9       & 2.3       & virginica\\\\\n",
       "\t 6.7       & 3.3       & 5.7       & 2.5       & virginica\\\\\n",
       "\t 6.7       & 3.0       & 5.2       & 2.3       & virginica\\\\\n",
       "\t 6.3       & 2.5       & 5.0       & 1.9       & virginica\\\\\n",
       "\t 6.5       & 3.0       & 5.2       & 2.0       & virginica\\\\\n",
       "\t 6.2       & 3.4       & 5.4       & 2.3       & virginica\\\\\n",
       "\t 5.9       & 3.0       & 5.1       & 1.8       & virginica\\\\\n",
       "\\end{tabular}\n"
      ],
      "text/markdown": [
       "\n",
       "Sepal.Length | Sepal.Width | Petal.Length | Petal.Width | Species | \n",
       "|---|---|---|---|---|---|---|---|---|---|---|---|---|---|---|---|---|---|---|---|---|---|---|---|---|---|---|---|---|---|---|---|---|---|---|---|---|---|---|---|---|---|---|---|---|---|---|---|---|---|---|---|---|---|---|---|---|---|---|---|---|\n",
       "| 5.1    | 3.5    | 1.4    | 0.2    | setosa | \n",
       "| 4.9    | 3.0    | 1.4    | 0.2    | setosa | \n",
       "| 4.7    | 3.2    | 1.3    | 0.2    | setosa | \n",
       "| 4.6    | 3.1    | 1.5    | 0.2    | setosa | \n",
       "| 5.0    | 3.6    | 1.4    | 0.2    | setosa | \n",
       "| 5.4    | 3.9    | 1.7    | 0.4    | setosa | \n",
       "| 4.6    | 3.4    | 1.4    | 0.3    | setosa | \n",
       "| 5.0    | 3.4    | 1.5    | 0.2    | setosa | \n",
       "| 4.4    | 2.9    | 1.4    | 0.2    | setosa | \n",
       "| 4.9    | 3.1    | 1.5    | 0.1    | setosa | \n",
       "| 5.4    | 3.7    | 1.5    | 0.2    | setosa | \n",
       "| 4.8    | 3.4    | 1.6    | 0.2    | setosa | \n",
       "| 4.8    | 3.0    | 1.4    | 0.1    | setosa | \n",
       "| 4.3    | 3.0    | 1.1    | 0.1    | setosa | \n",
       "| 5.8    | 4.0    | 1.2    | 0.2    | setosa | \n",
       "| 5.7    | 4.4    | 1.5    | 0.4    | setosa | \n",
       "| 5.4    | 3.9    | 1.3    | 0.4    | setosa | \n",
       "| 5.1    | 3.5    | 1.4    | 0.3    | setosa | \n",
       "| 5.7    | 3.8    | 1.7    | 0.3    | setosa | \n",
       "| 5.1    | 3.8    | 1.5    | 0.3    | setosa | \n",
       "| 5.4    | 3.4    | 1.7    | 0.2    | setosa | \n",
       "| 5.1    | 3.7    | 1.5    | 0.4    | setosa | \n",
       "| 4.6    | 3.6    | 1.0    | 0.2    | setosa | \n",
       "| 5.1    | 3.3    | 1.7    | 0.5    | setosa | \n",
       "| 4.8    | 3.4    | 1.9    | 0.2    | setosa | \n",
       "| 5.0    | 3.0    | 1.6    | 0.2    | setosa | \n",
       "| 5.0    | 3.4    | 1.6    | 0.4    | setosa | \n",
       "| 5.2    | 3.5    | 1.5    | 0.2    | setosa | \n",
       "| 5.2    | 3.4    | 1.4    | 0.2    | setosa | \n",
       "| 4.7    | 3.2    | 1.6    | 0.2    | setosa | \n",
       "| ⋮ | ⋮ | ⋮ | ⋮ | ⋮ | \n",
       "| 6.9       | 3.2       | 5.7       | 2.3       | virginica | \n",
       "| 5.6       | 2.8       | 4.9       | 2.0       | virginica | \n",
       "| 7.7       | 2.8       | 6.7       | 2.0       | virginica | \n",
       "| 6.3       | 2.7       | 4.9       | 1.8       | virginica | \n",
       "| 6.7       | 3.3       | 5.7       | 2.1       | virginica | \n",
       "| 7.2       | 3.2       | 6.0       | 1.8       | virginica | \n",
       "| 6.2       | 2.8       | 4.8       | 1.8       | virginica | \n",
       "| 6.1       | 3.0       | 4.9       | 1.8       | virginica | \n",
       "| 6.4       | 2.8       | 5.6       | 2.1       | virginica | \n",
       "| 7.2       | 3.0       | 5.8       | 1.6       | virginica | \n",
       "| 7.4       | 2.8       | 6.1       | 1.9       | virginica | \n",
       "| 7.9       | 3.8       | 6.4       | 2.0       | virginica | \n",
       "| 6.4       | 2.8       | 5.6       | 2.2       | virginica | \n",
       "| 6.3       | 2.8       | 5.1       | 1.5       | virginica | \n",
       "| 6.1       | 2.6       | 5.6       | 1.4       | virginica | \n",
       "| 7.7       | 3.0       | 6.1       | 2.3       | virginica | \n",
       "| 6.3       | 3.4       | 5.6       | 2.4       | virginica | \n",
       "| 6.4       | 3.1       | 5.5       | 1.8       | virginica | \n",
       "| 6.0       | 3.0       | 4.8       | 1.8       | virginica | \n",
       "| 6.9       | 3.1       | 5.4       | 2.1       | virginica | \n",
       "| 6.7       | 3.1       | 5.6       | 2.4       | virginica | \n",
       "| 6.9       | 3.1       | 5.1       | 2.3       | virginica | \n",
       "| 5.8       | 2.7       | 5.1       | 1.9       | virginica | \n",
       "| 6.8       | 3.2       | 5.9       | 2.3       | virginica | \n",
       "| 6.7       | 3.3       | 5.7       | 2.5       | virginica | \n",
       "| 6.7       | 3.0       | 5.2       | 2.3       | virginica | \n",
       "| 6.3       | 2.5       | 5.0       | 1.9       | virginica | \n",
       "| 6.5       | 3.0       | 5.2       | 2.0       | virginica | \n",
       "| 6.2       | 3.4       | 5.4       | 2.3       | virginica | \n",
       "| 5.9       | 3.0       | 5.1       | 1.8       | virginica | \n",
       "\n",
       "\n"
      ],
      "text/plain": [
       "    Sepal.Length Sepal.Width Petal.Length Petal.Width Species  \n",
       "1   5.1          3.5         1.4          0.2         setosa   \n",
       "2   4.9          3.0         1.4          0.2         setosa   \n",
       "3   4.7          3.2         1.3          0.2         setosa   \n",
       "4   4.6          3.1         1.5          0.2         setosa   \n",
       "5   5.0          3.6         1.4          0.2         setosa   \n",
       "6   5.4          3.9         1.7          0.4         setosa   \n",
       "7   4.6          3.4         1.4          0.3         setosa   \n",
       "8   5.0          3.4         1.5          0.2         setosa   \n",
       "9   4.4          2.9         1.4          0.2         setosa   \n",
       "10  4.9          3.1         1.5          0.1         setosa   \n",
       "11  5.4          3.7         1.5          0.2         setosa   \n",
       "12  4.8          3.4         1.6          0.2         setosa   \n",
       "13  4.8          3.0         1.4          0.1         setosa   \n",
       "14  4.3          3.0         1.1          0.1         setosa   \n",
       "15  5.8          4.0         1.2          0.2         setosa   \n",
       "16  5.7          4.4         1.5          0.4         setosa   \n",
       "17  5.4          3.9         1.3          0.4         setosa   \n",
       "18  5.1          3.5         1.4          0.3         setosa   \n",
       "19  5.7          3.8         1.7          0.3         setosa   \n",
       "20  5.1          3.8         1.5          0.3         setosa   \n",
       "21  5.4          3.4         1.7          0.2         setosa   \n",
       "22  5.1          3.7         1.5          0.4         setosa   \n",
       "23  4.6          3.6         1.0          0.2         setosa   \n",
       "24  5.1          3.3         1.7          0.5         setosa   \n",
       "25  4.8          3.4         1.9          0.2         setosa   \n",
       "26  5.0          3.0         1.6          0.2         setosa   \n",
       "27  5.0          3.4         1.6          0.4         setosa   \n",
       "28  5.2          3.5         1.5          0.2         setosa   \n",
       "29  5.2          3.4         1.4          0.2         setosa   \n",
       "30  4.7          3.2         1.6          0.2         setosa   \n",
       "⋮   ⋮            ⋮           ⋮            ⋮           ⋮        \n",
       "121 6.9          3.2         5.7          2.3         virginica\n",
       "122 5.6          2.8         4.9          2.0         virginica\n",
       "123 7.7          2.8         6.7          2.0         virginica\n",
       "124 6.3          2.7         4.9          1.8         virginica\n",
       "125 6.7          3.3         5.7          2.1         virginica\n",
       "126 7.2          3.2         6.0          1.8         virginica\n",
       "127 6.2          2.8         4.8          1.8         virginica\n",
       "128 6.1          3.0         4.9          1.8         virginica\n",
       "129 6.4          2.8         5.6          2.1         virginica\n",
       "130 7.2          3.0         5.8          1.6         virginica\n",
       "131 7.4          2.8         6.1          1.9         virginica\n",
       "132 7.9          3.8         6.4          2.0         virginica\n",
       "133 6.4          2.8         5.6          2.2         virginica\n",
       "134 6.3          2.8         5.1          1.5         virginica\n",
       "135 6.1          2.6         5.6          1.4         virginica\n",
       "136 7.7          3.0         6.1          2.3         virginica\n",
       "137 6.3          3.4         5.6          2.4         virginica\n",
       "138 6.4          3.1         5.5          1.8         virginica\n",
       "139 6.0          3.0         4.8          1.8         virginica\n",
       "140 6.9          3.1         5.4          2.1         virginica\n",
       "141 6.7          3.1         5.6          2.4         virginica\n",
       "142 6.9          3.1         5.1          2.3         virginica\n",
       "143 5.8          2.7         5.1          1.9         virginica\n",
       "144 6.8          3.2         5.9          2.3         virginica\n",
       "145 6.7          3.3         5.7          2.5         virginica\n",
       "146 6.7          3.0         5.2          2.3         virginica\n",
       "147 6.3          2.5         5.0          1.9         virginica\n",
       "148 6.5          3.0         5.2          2.0         virginica\n",
       "149 6.2          3.4         5.4          2.3         virginica\n",
       "150 5.9          3.0         5.1          1.8         virginica"
      ]
     },
     "metadata": {},
     "output_type": "display_data"
    }
   ],
   "source": [
    "iris"
   ]
  },
  {
   "cell_type": "code",
   "execution_count": 20,
   "metadata": {},
   "outputs": [
    {
     "name": "stdout",
     "output_type": "stream",
     "text": [
      "'data.frame':\t150 obs. of  5 variables:\n",
      " $ Sepal.Length: num  5.1 4.9 4.7 4.6 5 5.4 4.6 5 4.4 4.9 ...\n",
      " $ Sepal.Width : num  3.5 3 3.2 3.1 3.6 3.9 3.4 3.4 2.9 3.1 ...\n",
      " $ Petal.Length: num  1.4 1.4 1.3 1.5 1.4 1.7 1.4 1.5 1.4 1.5 ...\n",
      " $ Petal.Width : num  0.2 0.2 0.2 0.2 0.2 0.4 0.3 0.2 0.2 0.1 ...\n",
      " $ Species     : Factor w/ 3 levels \"setosa\",\"versicolor\",..: 1 1 1 1 1 1 1 1 1 1 ...\n"
     ]
    }
   ],
   "source": [
    "str(iris)"
   ]
  },
  {
   "cell_type": "code",
   "execution_count": 21,
   "metadata": {},
   "outputs": [
    {
     "data": {
      "text/html": [
       "'data.frame'"
      ],
      "text/latex": [
       "'data.frame'"
      ],
      "text/markdown": [
       "'data.frame'"
      ],
      "text/plain": [
       "[1] \"data.frame\""
      ]
     },
     "metadata": {},
     "output_type": "display_data"
    }
   ],
   "source": [
    "class(iris)"
   ]
  },
  {
   "cell_type": "code",
   "execution_count": 23,
   "metadata": {},
   "outputs": [
    {
     "data": {
      "text/html": [
       "'numeric'"
      ],
      "text/latex": [
       "'numeric'"
      ],
      "text/markdown": [
       "'numeric'"
      ],
      "text/plain": [
       "[1] \"numeric\""
      ]
     },
     "metadata": {},
     "output_type": "display_data"
    }
   ],
   "source": [
    "class(1.3)"
   ]
  },
  {
   "cell_type": "code",
   "execution_count": 24,
   "metadata": {},
   "outputs": [
    {
     "data": {
      "text/html": [
       "1"
      ],
      "text/latex": [
       "1"
      ],
      "text/markdown": [
       "1"
      ],
      "text/plain": [
       "[1] 1"
      ]
     },
     "metadata": {},
     "output_type": "display_data"
    }
   ],
   "source": [
    "1L"
   ]
  },
  {
   "cell_type": "code",
   "execution_count": 26,
   "metadata": {},
   "outputs": [
    {
     "data": {
      "text/html": [
       "'integer'"
      ],
      "text/latex": [
       "'integer'"
      ],
      "text/markdown": [
       "'integer'"
      ],
      "text/plain": [
       "[1] \"integer\""
      ]
     },
     "metadata": {},
     "output_type": "display_data"
    }
   ],
   "source": [
    "class(3L)"
   ]
  },
  {
   "cell_type": "code",
   "execution_count": 28,
   "metadata": {},
   "outputs": [
    {
     "data": {
      "text/html": [
       "'character'"
      ],
      "text/latex": [
       "'character'"
      ],
      "text/markdown": [
       "'character'"
      ],
      "text/plain": [
       "[1] \"character\""
      ]
     },
     "metadata": {},
     "output_type": "display_data"
    }
   ],
   "source": [
    "class('aaa')"
   ]
  },
  {
   "cell_type": "code",
   "execution_count": 29,
   "metadata": {},
   "outputs": [
    {
     "data": {
      "text/html": [
       "'character'"
      ],
      "text/latex": [
       "'character'"
      ],
      "text/markdown": [
       "'character'"
      ],
      "text/plain": [
       "[1] \"character\""
      ]
     },
     "metadata": {},
     "output_type": "display_data"
    }
   ],
   "source": [
    "class(\"aaa\")"
   ]
  },
  {
   "cell_type": "code",
   "execution_count": 30,
   "metadata": {},
   "outputs": [
    {
     "data": {
      "text/html": [
       "TRUE"
      ],
      "text/latex": [
       "TRUE"
      ],
      "text/markdown": [
       "TRUE"
      ],
      "text/plain": [
       "[1] TRUE"
      ]
     },
     "metadata": {},
     "output_type": "display_data"
    }
   ],
   "source": [
    "TRUE"
   ]
  },
  {
   "cell_type": "code",
   "execution_count": 31,
   "metadata": {},
   "outputs": [
    {
     "data": {
      "text/html": [
       "TRUE"
      ],
      "text/latex": [
       "TRUE"
      ],
      "text/markdown": [
       "TRUE"
      ],
      "text/plain": [
       "[1] TRUE"
      ]
     },
     "metadata": {},
     "output_type": "display_data"
    }
   ],
   "source": [
    "T"
   ]
  },
  {
   "cell_type": "code",
   "execution_count": 32,
   "metadata": {},
   "outputs": [
    {
     "data": {
      "text/html": [
       "TRUE"
      ],
      "text/latex": [
       "TRUE"
      ],
      "text/markdown": [
       "TRUE"
      ],
      "text/plain": [
       "[1] TRUE"
      ]
     },
     "metadata": {},
     "output_type": "display_data"
    }
   ],
   "source": [
    "TRUE == T"
   ]
  },
  {
   "cell_type": "code",
   "execution_count": 33,
   "metadata": {},
   "outputs": [
    {
     "data": {
      "text/html": [
       "'logical'"
      ],
      "text/latex": [
       "'logical'"
      ],
      "text/markdown": [
       "'logical'"
      ],
      "text/plain": [
       "[1] \"logical\""
      ]
     },
     "metadata": {},
     "output_type": "display_data"
    }
   ],
   "source": [
    "class(TRUE)"
   ]
  },
  {
   "cell_type": "code",
   "execution_count": 35,
   "metadata": {},
   "outputs": [
    {
     "data": {
      "text/html": [
       "'complex'"
      ],
      "text/latex": [
       "'complex'"
      ],
      "text/markdown": [
       "'complex'"
      ],
      "text/plain": [
       "[1] \"complex\""
      ]
     },
     "metadata": {},
     "output_type": "display_data"
    }
   ],
   "source": [
    "class(1+4i)"
   ]
  },
  {
   "cell_type": "code",
   "execution_count": 39,
   "metadata": {},
   "outputs": [],
   "source": [
    "dt = '2018/05/01'"
   ]
  },
  {
   "cell_type": "code",
   "execution_count": 40,
   "metadata": {},
   "outputs": [
    {
     "data": {
      "text/html": [
       "'character'"
      ],
      "text/latex": [
       "'character'"
      ],
      "text/markdown": [
       "'character'"
      ],
      "text/plain": [
       "[1] \"character\""
      ]
     },
     "metadata": {},
     "output_type": "display_data"
    }
   ],
   "source": [
    "class(dt)"
   ]
  },
  {
   "cell_type": "code",
   "execution_count": 41,
   "metadata": {},
   "outputs": [
    {
     "data": {
      "text/html": [
       "<time datetime=\"2018-05-01\">2018-05-01</time>"
      ],
      "text/latex": [
       "2018-05-01"
      ],
      "text/markdown": [
       "2018-05-01"
      ],
      "text/plain": [
       "[1] \"2018-05-01\""
      ]
     },
     "metadata": {},
     "output_type": "display_data"
    }
   ],
   "source": [
    "as.Date(dt,format = '%Y/%m/%d')"
   ]
  },
  {
   "cell_type": "code",
   "execution_count": 42,
   "metadata": {},
   "outputs": [
    {
     "data": {
      "text/html": [
       "'Date'"
      ],
      "text/latex": [
       "'Date'"
      ],
      "text/markdown": [
       "'Date'"
      ],
      "text/plain": [
       "[1] \"Date\""
      ]
     },
     "metadata": {},
     "output_type": "display_data"
    }
   ],
   "source": [
    "class( as.Date(dt,format = '%Y/%m/%d') )"
   ]
  },
  {
   "cell_type": "code",
   "execution_count": 43,
   "metadata": {},
   "outputs": [
    {
     "data": {
      "text/html": [
       "11"
      ],
      "text/latex": [
       "11"
      ],
      "text/markdown": [
       "11"
      ],
      "text/plain": [
       "[1] 11"
      ]
     },
     "metadata": {},
     "output_type": "display_data"
    }
   ],
   "source": [
    "3+8"
   ]
  },
  {
   "cell_type": "code",
   "execution_count": 44,
   "metadata": {},
   "outputs": [
    {
     "data": {
      "text/html": [
       "-5"
      ],
      "text/latex": [
       "-5"
      ],
      "text/markdown": [
       "-5"
      ],
      "text/plain": [
       "[1] -5"
      ]
     },
     "metadata": {},
     "output_type": "display_data"
    }
   ],
   "source": [
    "3-8"
   ]
  },
  {
   "cell_type": "code",
   "execution_count": 45,
   "metadata": {},
   "outputs": [
    {
     "data": {
      "text/html": [
       "3"
      ],
      "text/latex": [
       "3"
      ],
      "text/markdown": [
       "3"
      ],
      "text/plain": [
       "[1] 3"
      ]
     },
     "metadata": {},
     "output_type": "display_data"
    }
   ],
   "source": [
    "3"
   ]
  },
  {
   "cell_type": "code",
   "execution_count": 47,
   "metadata": {},
   "outputs": [
    {
     "data": {
      "text/html": [
       "TRUE"
      ],
      "text/latex": [
       "TRUE"
      ],
      "text/markdown": [
       "TRUE"
      ],
      "text/plain": [
       "[1] TRUE"
      ]
     },
     "metadata": {},
     "output_type": "display_data"
    }
   ],
   "source": [
    "c(3) == 3"
   ]
  },
  {
   "cell_type": "code",
   "execution_count": 48,
   "metadata": {},
   "outputs": [
    {
     "data": {
      "text/html": [
       "1024"
      ],
      "text/latex": [
       "1024"
      ],
      "text/markdown": [
       "1024"
      ],
      "text/plain": [
       "[1] 1024"
      ]
     },
     "metadata": {},
     "output_type": "display_data"
    }
   ],
   "source": [
    "2^10"
   ]
  },
  {
   "cell_type": "code",
   "execution_count": 49,
   "metadata": {},
   "outputs": [
    {
     "data": {
      "text/html": [
       "1"
      ],
      "text/latex": [
       "1"
      ],
      "text/markdown": [
       "1"
      ],
      "text/plain": [
       "[1] 1"
      ]
     },
     "metadata": {},
     "output_type": "display_data"
    }
   ],
   "source": [
    "11%%2"
   ]
  },
  {
   "cell_type": "code",
   "execution_count": 50,
   "metadata": {},
   "outputs": [],
   "source": [
    "x <- 3"
   ]
  },
  {
   "cell_type": "code",
   "execution_count": 51,
   "metadata": {},
   "outputs": [
    {
     "data": {
      "text/html": [
       "3"
      ],
      "text/latex": [
       "3"
      ],
      "text/markdown": [
       "3"
      ],
      "text/plain": [
       "[1] 3"
      ]
     },
     "metadata": {},
     "output_type": "display_data"
    }
   ],
   "source": [
    "x"
   ]
  },
  {
   "cell_type": "code",
   "execution_count": 52,
   "metadata": {},
   "outputs": [],
   "source": [
    "x = 5"
   ]
  },
  {
   "cell_type": "code",
   "execution_count": 53,
   "metadata": {},
   "outputs": [
    {
     "data": {
      "text/html": [
       "5"
      ],
      "text/latex": [
       "5"
      ],
      "text/markdown": [
       "5"
      ],
      "text/plain": [
       "[1] 5"
      ]
     },
     "metadata": {},
     "output_type": "display_data"
    }
   ],
   "source": [
    "x"
   ]
  },
  {
   "cell_type": "code",
   "execution_count": 56,
   "metadata": {},
   "outputs": [],
   "source": [
    "assign(\"x\",3)"
   ]
  },
  {
   "cell_type": "code",
   "execution_count": 57,
   "metadata": {},
   "outputs": [
    {
     "data": {
      "text/html": [
       "3"
      ],
      "text/latex": [
       "3"
      ],
      "text/markdown": [
       "3"
      ],
      "text/plain": [
       "[1] 3"
      ]
     },
     "metadata": {},
     "output_type": "display_data"
    }
   ],
   "source": [
    "x"
   ]
  },
  {
   "cell_type": "code",
   "execution_count": 59,
   "metadata": {},
   "outputs": [],
   "source": [
    "height_vec = c(156,198,147,165)"
   ]
  },
  {
   "cell_type": "code",
   "execution_count": 60,
   "metadata": {},
   "outputs": [
    {
     "data": {
      "text/html": [
       "<ol class=list-inline>\n",
       "\t<li>156</li>\n",
       "\t<li>198</li>\n",
       "\t<li>147</li>\n",
       "\t<li>165</li>\n",
       "</ol>\n"
      ],
      "text/latex": [
       "\\begin{enumerate*}\n",
       "\\item 156\n",
       "\\item 198\n",
       "\\item 147\n",
       "\\item 165\n",
       "\\end{enumerate*}\n"
      ],
      "text/markdown": [
       "1. 156\n",
       "2. 198\n",
       "3. 147\n",
       "4. 165\n",
       "\n",
       "\n"
      ],
      "text/plain": [
       "[1] 156 198 147 165"
      ]
     },
     "metadata": {},
     "output_type": "display_data"
    }
   ],
   "source": [
    "height_vec"
   ]
  },
  {
   "cell_type": "code",
   "execution_count": 61,
   "metadata": {},
   "outputs": [
    {
     "data": {
      "text/html": [
       "<table>\n",
       "<tbody>\n",
       "\t<tr><td>156</td><td>198</td></tr>\n",
       "\t<tr><td>147</td><td>165</td></tr>\n",
       "</tbody>\n",
       "</table>\n"
      ],
      "text/latex": [
       "\\begin{tabular}{ll}\n",
       "\t 156 & 198\\\\\n",
       "\t 147 & 165\\\\\n",
       "\\end{tabular}\n"
      ],
      "text/markdown": [
       "\n",
       "| 156 | 198 | \n",
       "| 147 | 165 | \n",
       "\n",
       "\n"
      ],
      "text/plain": [
       "     [,1] [,2]\n",
       "[1,] 156  198 \n",
       "[2,] 147  165 "
      ]
     },
     "metadata": {},
     "output_type": "display_data"
    }
   ],
   "source": [
    "matrix(height_vec,byrow=T,nrow=2)"
   ]
  },
  {
   "cell_type": "code",
   "execution_count": 63,
   "metadata": {},
   "outputs": [
    {
     "data": {
      "text/html": [
       "<ol class=list-inline>\n",
       "\t<li>A</li>\n",
       "\t<li>AB</li>\n",
       "\t<li>O</li>\n",
       "\t<li>A</li>\n",
       "</ol>\n",
       "\n",
       "<details>\n",
       "\t<summary style=display:list-item;cursor:pointer>\n",
       "\t\t<strong>Levels</strong>:\n",
       "\t</summary>\n",
       "\t<ol class=list-inline>\n",
       "\t\t<li>'A'</li>\n",
       "\t\t<li>'AB'</li>\n",
       "\t\t<li>'O'</li>\n",
       "\t</ol>\n",
       "</details>"
      ],
      "text/latex": [
       "\\begin{enumerate*}\n",
       "\\item A\n",
       "\\item AB\n",
       "\\item O\n",
       "\\item A\n",
       "\\end{enumerate*}\n",
       "\n",
       "\\emph{Levels}: \\begin{enumerate*}\n",
       "\\item 'A'\n",
       "\\item 'AB'\n",
       "\\item 'O'\n",
       "\\end{enumerate*}\n"
      ],
      "text/markdown": [
       "1. A\n",
       "2. AB\n",
       "3. O\n",
       "4. A\n",
       "\n",
       "\n",
       "\n",
       "**Levels**: 1. 'A'\n",
       "2. 'AB'\n",
       "3. 'O'\n",
       "\n",
       "\n"
      ],
      "text/plain": [
       "[1] A  AB O  A \n",
       "Levels: A AB O"
      ]
     },
     "metadata": {},
     "output_type": "display_data"
    }
   ],
   "source": [
    "factor(c('A','AB','O','A'))"
   ]
  },
  {
   "cell_type": "code",
   "execution_count": 65,
   "metadata": {},
   "outputs": [
    {
     "name": "stdout",
     "output_type": "stream",
     "text": [
      "'data.frame':\t150 obs. of  5 variables:\n",
      " $ Sepal.Length: num  5.1 4.9 4.7 4.6 5 5.4 4.6 5 4.4 4.9 ...\n",
      " $ Sepal.Width : num  3.5 3 3.2 3.1 3.6 3.9 3.4 3.4 2.9 3.1 ...\n",
      " $ Petal.Length: num  1.4 1.4 1.3 1.5 1.4 1.7 1.4 1.5 1.4 1.5 ...\n",
      " $ Petal.Width : num  0.2 0.2 0.2 0.2 0.2 0.4 0.3 0.2 0.2 0.1 ...\n",
      " $ Species     : Factor w/ 3 levels \"setosa\",\"versicolor\",..: 1 1 1 1 1 1 1 1 1 1 ...\n"
     ]
    }
   ],
   "source": [
    "str(iris)"
   ]
  },
  {
   "cell_type": "code",
   "execution_count": 66,
   "metadata": {},
   "outputs": [
    {
     "data": {
      "text/html": [
       "<ol class=list-inline>\n",
       "\t<li>setosa</li>\n",
       "\t<li>setosa</li>\n",
       "\t<li>setosa</li>\n",
       "\t<li>setosa</li>\n",
       "\t<li>setosa</li>\n",
       "\t<li>setosa</li>\n",
       "\t<li>setosa</li>\n",
       "\t<li>setosa</li>\n",
       "\t<li>setosa</li>\n",
       "\t<li>setosa</li>\n",
       "\t<li>setosa</li>\n",
       "\t<li>setosa</li>\n",
       "\t<li>setosa</li>\n",
       "\t<li>setosa</li>\n",
       "\t<li>setosa</li>\n",
       "\t<li>setosa</li>\n",
       "\t<li>setosa</li>\n",
       "\t<li>setosa</li>\n",
       "\t<li>setosa</li>\n",
       "\t<li>setosa</li>\n",
       "\t<li>setosa</li>\n",
       "\t<li>setosa</li>\n",
       "\t<li>setosa</li>\n",
       "\t<li>setosa</li>\n",
       "\t<li>setosa</li>\n",
       "\t<li>setosa</li>\n",
       "\t<li>setosa</li>\n",
       "\t<li>setosa</li>\n",
       "\t<li>setosa</li>\n",
       "\t<li>setosa</li>\n",
       "\t<li>setosa</li>\n",
       "\t<li>setosa</li>\n",
       "\t<li>setosa</li>\n",
       "\t<li>setosa</li>\n",
       "\t<li>setosa</li>\n",
       "\t<li>setosa</li>\n",
       "\t<li>setosa</li>\n",
       "\t<li>setosa</li>\n",
       "\t<li>setosa</li>\n",
       "\t<li>setosa</li>\n",
       "\t<li>setosa</li>\n",
       "\t<li>setosa</li>\n",
       "\t<li>setosa</li>\n",
       "\t<li>setosa</li>\n",
       "\t<li>setosa</li>\n",
       "\t<li>setosa</li>\n",
       "\t<li>setosa</li>\n",
       "\t<li>setosa</li>\n",
       "\t<li>setosa</li>\n",
       "\t<li>setosa</li>\n",
       "\t<li>versicolor</li>\n",
       "\t<li>versicolor</li>\n",
       "\t<li>versicolor</li>\n",
       "\t<li>versicolor</li>\n",
       "\t<li>versicolor</li>\n",
       "\t<li>versicolor</li>\n",
       "\t<li>versicolor</li>\n",
       "\t<li>versicolor</li>\n",
       "\t<li>versicolor</li>\n",
       "\t<li>versicolor</li>\n",
       "\t<li>versicolor</li>\n",
       "\t<li>versicolor</li>\n",
       "\t<li>versicolor</li>\n",
       "\t<li>versicolor</li>\n",
       "\t<li>versicolor</li>\n",
       "\t<li>versicolor</li>\n",
       "\t<li>versicolor</li>\n",
       "\t<li>versicolor</li>\n",
       "\t<li>versicolor</li>\n",
       "\t<li>versicolor</li>\n",
       "\t<li>versicolor</li>\n",
       "\t<li>versicolor</li>\n",
       "\t<li>versicolor</li>\n",
       "\t<li>versicolor</li>\n",
       "\t<li>versicolor</li>\n",
       "\t<li>versicolor</li>\n",
       "\t<li>versicolor</li>\n",
       "\t<li>versicolor</li>\n",
       "\t<li>versicolor</li>\n",
       "\t<li>versicolor</li>\n",
       "\t<li>versicolor</li>\n",
       "\t<li>versicolor</li>\n",
       "\t<li>versicolor</li>\n",
       "\t<li>versicolor</li>\n",
       "\t<li>versicolor</li>\n",
       "\t<li>versicolor</li>\n",
       "\t<li>versicolor</li>\n",
       "\t<li>versicolor</li>\n",
       "\t<li>versicolor</li>\n",
       "\t<li>versicolor</li>\n",
       "\t<li>versicolor</li>\n",
       "\t<li>versicolor</li>\n",
       "\t<li>versicolor</li>\n",
       "\t<li>versicolor</li>\n",
       "\t<li>versicolor</li>\n",
       "\t<li>versicolor</li>\n",
       "\t<li>versicolor</li>\n",
       "\t<li>versicolor</li>\n",
       "\t<li>versicolor</li>\n",
       "\t<li>versicolor</li>\n",
       "\t<li>virginica</li>\n",
       "\t<li>virginica</li>\n",
       "\t<li>virginica</li>\n",
       "\t<li>virginica</li>\n",
       "\t<li>virginica</li>\n",
       "\t<li>virginica</li>\n",
       "\t<li>virginica</li>\n",
       "\t<li>virginica</li>\n",
       "\t<li>virginica</li>\n",
       "\t<li>virginica</li>\n",
       "\t<li>virginica</li>\n",
       "\t<li>virginica</li>\n",
       "\t<li>virginica</li>\n",
       "\t<li>virginica</li>\n",
       "\t<li>virginica</li>\n",
       "\t<li>virginica</li>\n",
       "\t<li>virginica</li>\n",
       "\t<li>virginica</li>\n",
       "\t<li>virginica</li>\n",
       "\t<li>virginica</li>\n",
       "\t<li>virginica</li>\n",
       "\t<li>virginica</li>\n",
       "\t<li>virginica</li>\n",
       "\t<li>virginica</li>\n",
       "\t<li>virginica</li>\n",
       "\t<li>virginica</li>\n",
       "\t<li>virginica</li>\n",
       "\t<li>virginica</li>\n",
       "\t<li>virginica</li>\n",
       "\t<li>virginica</li>\n",
       "\t<li>virginica</li>\n",
       "\t<li>virginica</li>\n",
       "\t<li>virginica</li>\n",
       "\t<li>virginica</li>\n",
       "\t<li>virginica</li>\n",
       "\t<li>virginica</li>\n",
       "\t<li>virginica</li>\n",
       "\t<li>virginica</li>\n",
       "\t<li>virginica</li>\n",
       "\t<li>virginica</li>\n",
       "\t<li>virginica</li>\n",
       "\t<li>virginica</li>\n",
       "\t<li>virginica</li>\n",
       "\t<li>virginica</li>\n",
       "\t<li>virginica</li>\n",
       "\t<li>virginica</li>\n",
       "\t<li>virginica</li>\n",
       "\t<li>virginica</li>\n",
       "\t<li>virginica</li>\n",
       "\t<li>virginica</li>\n",
       "</ol>\n",
       "\n",
       "<details>\n",
       "\t<summary style=display:list-item;cursor:pointer>\n",
       "\t\t<strong>Levels</strong>:\n",
       "\t</summary>\n",
       "\t<ol class=list-inline>\n",
       "\t\t<li>'setosa'</li>\n",
       "\t\t<li>'versicolor'</li>\n",
       "\t\t<li>'virginica'</li>\n",
       "\t</ol>\n",
       "</details>"
      ],
      "text/latex": [
       "\\begin{enumerate*}\n",
       "\\item setosa\n",
       "\\item setosa\n",
       "\\item setosa\n",
       "\\item setosa\n",
       "\\item setosa\n",
       "\\item setosa\n",
       "\\item setosa\n",
       "\\item setosa\n",
       "\\item setosa\n",
       "\\item setosa\n",
       "\\item setosa\n",
       "\\item setosa\n",
       "\\item setosa\n",
       "\\item setosa\n",
       "\\item setosa\n",
       "\\item setosa\n",
       "\\item setosa\n",
       "\\item setosa\n",
       "\\item setosa\n",
       "\\item setosa\n",
       "\\item setosa\n",
       "\\item setosa\n",
       "\\item setosa\n",
       "\\item setosa\n",
       "\\item setosa\n",
       "\\item setosa\n",
       "\\item setosa\n",
       "\\item setosa\n",
       "\\item setosa\n",
       "\\item setosa\n",
       "\\item setosa\n",
       "\\item setosa\n",
       "\\item setosa\n",
       "\\item setosa\n",
       "\\item setosa\n",
       "\\item setosa\n",
       "\\item setosa\n",
       "\\item setosa\n",
       "\\item setosa\n",
       "\\item setosa\n",
       "\\item setosa\n",
       "\\item setosa\n",
       "\\item setosa\n",
       "\\item setosa\n",
       "\\item setosa\n",
       "\\item setosa\n",
       "\\item setosa\n",
       "\\item setosa\n",
       "\\item setosa\n",
       "\\item setosa\n",
       "\\item versicolor\n",
       "\\item versicolor\n",
       "\\item versicolor\n",
       "\\item versicolor\n",
       "\\item versicolor\n",
       "\\item versicolor\n",
       "\\item versicolor\n",
       "\\item versicolor\n",
       "\\item versicolor\n",
       "\\item versicolor\n",
       "\\item versicolor\n",
       "\\item versicolor\n",
       "\\item versicolor\n",
       "\\item versicolor\n",
       "\\item versicolor\n",
       "\\item versicolor\n",
       "\\item versicolor\n",
       "\\item versicolor\n",
       "\\item versicolor\n",
       "\\item versicolor\n",
       "\\item versicolor\n",
       "\\item versicolor\n",
       "\\item versicolor\n",
       "\\item versicolor\n",
       "\\item versicolor\n",
       "\\item versicolor\n",
       "\\item versicolor\n",
       "\\item versicolor\n",
       "\\item versicolor\n",
       "\\item versicolor\n",
       "\\item versicolor\n",
       "\\item versicolor\n",
       "\\item versicolor\n",
       "\\item versicolor\n",
       "\\item versicolor\n",
       "\\item versicolor\n",
       "\\item versicolor\n",
       "\\item versicolor\n",
       "\\item versicolor\n",
       "\\item versicolor\n",
       "\\item versicolor\n",
       "\\item versicolor\n",
       "\\item versicolor\n",
       "\\item versicolor\n",
       "\\item versicolor\n",
       "\\item versicolor\n",
       "\\item versicolor\n",
       "\\item versicolor\n",
       "\\item versicolor\n",
       "\\item versicolor\n",
       "\\item virginica\n",
       "\\item virginica\n",
       "\\item virginica\n",
       "\\item virginica\n",
       "\\item virginica\n",
       "\\item virginica\n",
       "\\item virginica\n",
       "\\item virginica\n",
       "\\item virginica\n",
       "\\item virginica\n",
       "\\item virginica\n",
       "\\item virginica\n",
       "\\item virginica\n",
       "\\item virginica\n",
       "\\item virginica\n",
       "\\item virginica\n",
       "\\item virginica\n",
       "\\item virginica\n",
       "\\item virginica\n",
       "\\item virginica\n",
       "\\item virginica\n",
       "\\item virginica\n",
       "\\item virginica\n",
       "\\item virginica\n",
       "\\item virginica\n",
       "\\item virginica\n",
       "\\item virginica\n",
       "\\item virginica\n",
       "\\item virginica\n",
       "\\item virginica\n",
       "\\item virginica\n",
       "\\item virginica\n",
       "\\item virginica\n",
       "\\item virginica\n",
       "\\item virginica\n",
       "\\item virginica\n",
       "\\item virginica\n",
       "\\item virginica\n",
       "\\item virginica\n",
       "\\item virginica\n",
       "\\item virginica\n",
       "\\item virginica\n",
       "\\item virginica\n",
       "\\item virginica\n",
       "\\item virginica\n",
       "\\item virginica\n",
       "\\item virginica\n",
       "\\item virginica\n",
       "\\item virginica\n",
       "\\item virginica\n",
       "\\end{enumerate*}\n",
       "\n",
       "\\emph{Levels}: \\begin{enumerate*}\n",
       "\\item 'setosa'\n",
       "\\item 'versicolor'\n",
       "\\item 'virginica'\n",
       "\\end{enumerate*}\n"
      ],
      "text/markdown": [
       "1. setosa\n",
       "2. setosa\n",
       "3. setosa\n",
       "4. setosa\n",
       "5. setosa\n",
       "6. setosa\n",
       "7. setosa\n",
       "8. setosa\n",
       "9. setosa\n",
       "10. setosa\n",
       "11. setosa\n",
       "12. setosa\n",
       "13. setosa\n",
       "14. setosa\n",
       "15. setosa\n",
       "16. setosa\n",
       "17. setosa\n",
       "18. setosa\n",
       "19. setosa\n",
       "20. setosa\n",
       "21. setosa\n",
       "22. setosa\n",
       "23. setosa\n",
       "24. setosa\n",
       "25. setosa\n",
       "26. setosa\n",
       "27. setosa\n",
       "28. setosa\n",
       "29. setosa\n",
       "30. setosa\n",
       "31. setosa\n",
       "32. setosa\n",
       "33. setosa\n",
       "34. setosa\n",
       "35. setosa\n",
       "36. setosa\n",
       "37. setosa\n",
       "38. setosa\n",
       "39. setosa\n",
       "40. setosa\n",
       "41. setosa\n",
       "42. setosa\n",
       "43. setosa\n",
       "44. setosa\n",
       "45. setosa\n",
       "46. setosa\n",
       "47. setosa\n",
       "48. setosa\n",
       "49. setosa\n",
       "50. setosa\n",
       "51. versicolor\n",
       "52. versicolor\n",
       "53. versicolor\n",
       "54. versicolor\n",
       "55. versicolor\n",
       "56. versicolor\n",
       "57. versicolor\n",
       "58. versicolor\n",
       "59. versicolor\n",
       "60. versicolor\n",
       "61. versicolor\n",
       "62. versicolor\n",
       "63. versicolor\n",
       "64. versicolor\n",
       "65. versicolor\n",
       "66. versicolor\n",
       "67. versicolor\n",
       "68. versicolor\n",
       "69. versicolor\n",
       "70. versicolor\n",
       "71. versicolor\n",
       "72. versicolor\n",
       "73. versicolor\n",
       "74. versicolor\n",
       "75. versicolor\n",
       "76. versicolor\n",
       "77. versicolor\n",
       "78. versicolor\n",
       "79. versicolor\n",
       "80. versicolor\n",
       "81. versicolor\n",
       "82. versicolor\n",
       "83. versicolor\n",
       "84. versicolor\n",
       "85. versicolor\n",
       "86. versicolor\n",
       "87. versicolor\n",
       "88. versicolor\n",
       "89. versicolor\n",
       "90. versicolor\n",
       "91. versicolor\n",
       "92. versicolor\n",
       "93. versicolor\n",
       "94. versicolor\n",
       "95. versicolor\n",
       "96. versicolor\n",
       "97. versicolor\n",
       "98. versicolor\n",
       "99. versicolor\n",
       "100. versicolor\n",
       "101. virginica\n",
       "102. virginica\n",
       "103. virginica\n",
       "104. virginica\n",
       "105. virginica\n",
       "106. virginica\n",
       "107. virginica\n",
       "108. virginica\n",
       "109. virginica\n",
       "110. virginica\n",
       "111. virginica\n",
       "112. virginica\n",
       "113. virginica\n",
       "114. virginica\n",
       "115. virginica\n",
       "116. virginica\n",
       "117. virginica\n",
       "118. virginica\n",
       "119. virginica\n",
       "120. virginica\n",
       "121. virginica\n",
       "122. virginica\n",
       "123. virginica\n",
       "124. virginica\n",
       "125. virginica\n",
       "126. virginica\n",
       "127. virginica\n",
       "128. virginica\n",
       "129. virginica\n",
       "130. virginica\n",
       "131. virginica\n",
       "132. virginica\n",
       "133. virginica\n",
       "134. virginica\n",
       "135. virginica\n",
       "136. virginica\n",
       "137. virginica\n",
       "138. virginica\n",
       "139. virginica\n",
       "140. virginica\n",
       "141. virginica\n",
       "142. virginica\n",
       "143. virginica\n",
       "144. virginica\n",
       "145. virginica\n",
       "146. virginica\n",
       "147. virginica\n",
       "148. virginica\n",
       "149. virginica\n",
       "150. virginica\n",
       "\n",
       "\n",
       "\n",
       "**Levels**: 1. 'setosa'\n",
       "2. 'versicolor'\n",
       "3. 'virginica'\n",
       "\n",
       "\n"
      ],
      "text/plain": [
       "  [1] setosa     setosa     setosa     setosa     setosa     setosa    \n",
       "  [7] setosa     setosa     setosa     setosa     setosa     setosa    \n",
       " [13] setosa     setosa     setosa     setosa     setosa     setosa    \n",
       " [19] setosa     setosa     setosa     setosa     setosa     setosa    \n",
       " [25] setosa     setosa     setosa     setosa     setosa     setosa    \n",
       " [31] setosa     setosa     setosa     setosa     setosa     setosa    \n",
       " [37] setosa     setosa     setosa     setosa     setosa     setosa    \n",
       " [43] setosa     setosa     setosa     setosa     setosa     setosa    \n",
       " [49] setosa     setosa     versicolor versicolor versicolor versicolor\n",
       " [55] versicolor versicolor versicolor versicolor versicolor versicolor\n",
       " [61] versicolor versicolor versicolor versicolor versicolor versicolor\n",
       " [67] versicolor versicolor versicolor versicolor versicolor versicolor\n",
       " [73] versicolor versicolor versicolor versicolor versicolor versicolor\n",
       " [79] versicolor versicolor versicolor versicolor versicolor versicolor\n",
       " [85] versicolor versicolor versicolor versicolor versicolor versicolor\n",
       " [91] versicolor versicolor versicolor versicolor versicolor versicolor\n",
       " [97] versicolor versicolor versicolor versicolor virginica  virginica \n",
       "[103] virginica  virginica  virginica  virginica  virginica  virginica \n",
       "[109] virginica  virginica  virginica  virginica  virginica  virginica \n",
       "[115] virginica  virginica  virginica  virginica  virginica  virginica \n",
       "[121] virginica  virginica  virginica  virginica  virginica  virginica \n",
       "[127] virginica  virginica  virginica  virginica  virginica  virginica \n",
       "[133] virginica  virginica  virginica  virginica  virginica  virginica \n",
       "[139] virginica  virginica  virginica  virginica  virginica  virginica \n",
       "[145] virginica  virginica  virginica  virginica  virginica  virginica \n",
       "Levels: setosa versicolor virginica"
      ]
     },
     "metadata": {},
     "output_type": "display_data"
    }
   ],
   "source": [
    "iris$Species"
   ]
  },
  {
   "cell_type": "code",
   "execution_count": 67,
   "metadata": {},
   "outputs": [
    {
     "data": {
      "text/html": [
       "<ol class=list-inline>\n",
       "\t<li>5.1</li>\n",
       "\t<li>4.9</li>\n",
       "\t<li>4.7</li>\n",
       "\t<li>4.6</li>\n",
       "\t<li>5</li>\n",
       "\t<li>5.4</li>\n",
       "\t<li>4.6</li>\n",
       "\t<li>5</li>\n",
       "\t<li>4.4</li>\n",
       "\t<li>4.9</li>\n",
       "\t<li>5.4</li>\n",
       "\t<li>4.8</li>\n",
       "\t<li>4.8</li>\n",
       "\t<li>4.3</li>\n",
       "\t<li>5.8</li>\n",
       "\t<li>5.7</li>\n",
       "\t<li>5.4</li>\n",
       "\t<li>5.1</li>\n",
       "\t<li>5.7</li>\n",
       "\t<li>5.1</li>\n",
       "\t<li>5.4</li>\n",
       "\t<li>5.1</li>\n",
       "\t<li>4.6</li>\n",
       "\t<li>5.1</li>\n",
       "\t<li>4.8</li>\n",
       "\t<li>5</li>\n",
       "\t<li>5</li>\n",
       "\t<li>5.2</li>\n",
       "\t<li>5.2</li>\n",
       "\t<li>4.7</li>\n",
       "\t<li>4.8</li>\n",
       "\t<li>5.4</li>\n",
       "\t<li>5.2</li>\n",
       "\t<li>5.5</li>\n",
       "\t<li>4.9</li>\n",
       "\t<li>5</li>\n",
       "\t<li>5.5</li>\n",
       "\t<li>4.9</li>\n",
       "\t<li>4.4</li>\n",
       "\t<li>5.1</li>\n",
       "\t<li>5</li>\n",
       "\t<li>4.5</li>\n",
       "\t<li>4.4</li>\n",
       "\t<li>5</li>\n",
       "\t<li>5.1</li>\n",
       "\t<li>4.8</li>\n",
       "\t<li>5.1</li>\n",
       "\t<li>4.6</li>\n",
       "\t<li>5.3</li>\n",
       "\t<li>5</li>\n",
       "\t<li>7</li>\n",
       "\t<li>6.4</li>\n",
       "\t<li>6.9</li>\n",
       "\t<li>5.5</li>\n",
       "\t<li>6.5</li>\n",
       "\t<li>5.7</li>\n",
       "\t<li>6.3</li>\n",
       "\t<li>4.9</li>\n",
       "\t<li>6.6</li>\n",
       "\t<li>5.2</li>\n",
       "\t<li>5</li>\n",
       "\t<li>5.9</li>\n",
       "\t<li>6</li>\n",
       "\t<li>6.1</li>\n",
       "\t<li>5.6</li>\n",
       "\t<li>6.7</li>\n",
       "\t<li>5.6</li>\n",
       "\t<li>5.8</li>\n",
       "\t<li>6.2</li>\n",
       "\t<li>5.6</li>\n",
       "\t<li>5.9</li>\n",
       "\t<li>6.1</li>\n",
       "\t<li>6.3</li>\n",
       "\t<li>6.1</li>\n",
       "\t<li>6.4</li>\n",
       "\t<li>6.6</li>\n",
       "\t<li>6.8</li>\n",
       "\t<li>6.7</li>\n",
       "\t<li>6</li>\n",
       "\t<li>5.7</li>\n",
       "\t<li>5.5</li>\n",
       "\t<li>5.5</li>\n",
       "\t<li>5.8</li>\n",
       "\t<li>6</li>\n",
       "\t<li>5.4</li>\n",
       "\t<li>6</li>\n",
       "\t<li>6.7</li>\n",
       "\t<li>6.3</li>\n",
       "\t<li>5.6</li>\n",
       "\t<li>5.5</li>\n",
       "\t<li>5.5</li>\n",
       "\t<li>6.1</li>\n",
       "\t<li>5.8</li>\n",
       "\t<li>5</li>\n",
       "\t<li>5.6</li>\n",
       "\t<li>5.7</li>\n",
       "\t<li>5.7</li>\n",
       "\t<li>6.2</li>\n",
       "\t<li>5.1</li>\n",
       "\t<li>5.7</li>\n",
       "\t<li>6.3</li>\n",
       "\t<li>5.8</li>\n",
       "\t<li>7.1</li>\n",
       "\t<li>6.3</li>\n",
       "\t<li>6.5</li>\n",
       "\t<li>7.6</li>\n",
       "\t<li>4.9</li>\n",
       "\t<li>7.3</li>\n",
       "\t<li>6.7</li>\n",
       "\t<li>7.2</li>\n",
       "\t<li>6.5</li>\n",
       "\t<li>6.4</li>\n",
       "\t<li>6.8</li>\n",
       "\t<li>5.7</li>\n",
       "\t<li>5.8</li>\n",
       "\t<li>6.4</li>\n",
       "\t<li>6.5</li>\n",
       "\t<li>7.7</li>\n",
       "\t<li>7.7</li>\n",
       "\t<li>6</li>\n",
       "\t<li>6.9</li>\n",
       "\t<li>5.6</li>\n",
       "\t<li>7.7</li>\n",
       "\t<li>6.3</li>\n",
       "\t<li>6.7</li>\n",
       "\t<li>7.2</li>\n",
       "\t<li>6.2</li>\n",
       "\t<li>6.1</li>\n",
       "\t<li>6.4</li>\n",
       "\t<li>7.2</li>\n",
       "\t<li>7.4</li>\n",
       "\t<li>7.9</li>\n",
       "\t<li>6.4</li>\n",
       "\t<li>6.3</li>\n",
       "\t<li>6.1</li>\n",
       "\t<li>7.7</li>\n",
       "\t<li>6.3</li>\n",
       "\t<li>6.4</li>\n",
       "\t<li>6</li>\n",
       "\t<li>6.9</li>\n",
       "\t<li>6.7</li>\n",
       "\t<li>6.9</li>\n",
       "\t<li>5.8</li>\n",
       "\t<li>6.8</li>\n",
       "\t<li>6.7</li>\n",
       "\t<li>6.7</li>\n",
       "\t<li>6.3</li>\n",
       "\t<li>6.5</li>\n",
       "\t<li>6.2</li>\n",
       "\t<li>5.9</li>\n",
       "</ol>\n"
      ],
      "text/latex": [
       "\\begin{enumerate*}\n",
       "\\item 5.1\n",
       "\\item 4.9\n",
       "\\item 4.7\n",
       "\\item 4.6\n",
       "\\item 5\n",
       "\\item 5.4\n",
       "\\item 4.6\n",
       "\\item 5\n",
       "\\item 4.4\n",
       "\\item 4.9\n",
       "\\item 5.4\n",
       "\\item 4.8\n",
       "\\item 4.8\n",
       "\\item 4.3\n",
       "\\item 5.8\n",
       "\\item 5.7\n",
       "\\item 5.4\n",
       "\\item 5.1\n",
       "\\item 5.7\n",
       "\\item 5.1\n",
       "\\item 5.4\n",
       "\\item 5.1\n",
       "\\item 4.6\n",
       "\\item 5.1\n",
       "\\item 4.8\n",
       "\\item 5\n",
       "\\item 5\n",
       "\\item 5.2\n",
       "\\item 5.2\n",
       "\\item 4.7\n",
       "\\item 4.8\n",
       "\\item 5.4\n",
       "\\item 5.2\n",
       "\\item 5.5\n",
       "\\item 4.9\n",
       "\\item 5\n",
       "\\item 5.5\n",
       "\\item 4.9\n",
       "\\item 4.4\n",
       "\\item 5.1\n",
       "\\item 5\n",
       "\\item 4.5\n",
       "\\item 4.4\n",
       "\\item 5\n",
       "\\item 5.1\n",
       "\\item 4.8\n",
       "\\item 5.1\n",
       "\\item 4.6\n",
       "\\item 5.3\n",
       "\\item 5\n",
       "\\item 7\n",
       "\\item 6.4\n",
       "\\item 6.9\n",
       "\\item 5.5\n",
       "\\item 6.5\n",
       "\\item 5.7\n",
       "\\item 6.3\n",
       "\\item 4.9\n",
       "\\item 6.6\n",
       "\\item 5.2\n",
       "\\item 5\n",
       "\\item 5.9\n",
       "\\item 6\n",
       "\\item 6.1\n",
       "\\item 5.6\n",
       "\\item 6.7\n",
       "\\item 5.6\n",
       "\\item 5.8\n",
       "\\item 6.2\n",
       "\\item 5.6\n",
       "\\item 5.9\n",
       "\\item 6.1\n",
       "\\item 6.3\n",
       "\\item 6.1\n",
       "\\item 6.4\n",
       "\\item 6.6\n",
       "\\item 6.8\n",
       "\\item 6.7\n",
       "\\item 6\n",
       "\\item 5.7\n",
       "\\item 5.5\n",
       "\\item 5.5\n",
       "\\item 5.8\n",
       "\\item 6\n",
       "\\item 5.4\n",
       "\\item 6\n",
       "\\item 6.7\n",
       "\\item 6.3\n",
       "\\item 5.6\n",
       "\\item 5.5\n",
       "\\item 5.5\n",
       "\\item 6.1\n",
       "\\item 5.8\n",
       "\\item 5\n",
       "\\item 5.6\n",
       "\\item 5.7\n",
       "\\item 5.7\n",
       "\\item 6.2\n",
       "\\item 5.1\n",
       "\\item 5.7\n",
       "\\item 6.3\n",
       "\\item 5.8\n",
       "\\item 7.1\n",
       "\\item 6.3\n",
       "\\item 6.5\n",
       "\\item 7.6\n",
       "\\item 4.9\n",
       "\\item 7.3\n",
       "\\item 6.7\n",
       "\\item 7.2\n",
       "\\item 6.5\n",
       "\\item 6.4\n",
       "\\item 6.8\n",
       "\\item 5.7\n",
       "\\item 5.8\n",
       "\\item 6.4\n",
       "\\item 6.5\n",
       "\\item 7.7\n",
       "\\item 7.7\n",
       "\\item 6\n",
       "\\item 6.9\n",
       "\\item 5.6\n",
       "\\item 7.7\n",
       "\\item 6.3\n",
       "\\item 6.7\n",
       "\\item 7.2\n",
       "\\item 6.2\n",
       "\\item 6.1\n",
       "\\item 6.4\n",
       "\\item 7.2\n",
       "\\item 7.4\n",
       "\\item 7.9\n",
       "\\item 6.4\n",
       "\\item 6.3\n",
       "\\item 6.1\n",
       "\\item 7.7\n",
       "\\item 6.3\n",
       "\\item 6.4\n",
       "\\item 6\n",
       "\\item 6.9\n",
       "\\item 6.7\n",
       "\\item 6.9\n",
       "\\item 5.8\n",
       "\\item 6.8\n",
       "\\item 6.7\n",
       "\\item 6.7\n",
       "\\item 6.3\n",
       "\\item 6.5\n",
       "\\item 6.2\n",
       "\\item 5.9\n",
       "\\end{enumerate*}\n"
      ],
      "text/markdown": [
       "1. 5.1\n",
       "2. 4.9\n",
       "3. 4.7\n",
       "4. 4.6\n",
       "5. 5\n",
       "6. 5.4\n",
       "7. 4.6\n",
       "8. 5\n",
       "9. 4.4\n",
       "10. 4.9\n",
       "11. 5.4\n",
       "12. 4.8\n",
       "13. 4.8\n",
       "14. 4.3\n",
       "15. 5.8\n",
       "16. 5.7\n",
       "17. 5.4\n",
       "18. 5.1\n",
       "19. 5.7\n",
       "20. 5.1\n",
       "21. 5.4\n",
       "22. 5.1\n",
       "23. 4.6\n",
       "24. 5.1\n",
       "25. 4.8\n",
       "26. 5\n",
       "27. 5\n",
       "28. 5.2\n",
       "29. 5.2\n",
       "30. 4.7\n",
       "31. 4.8\n",
       "32. 5.4\n",
       "33. 5.2\n",
       "34. 5.5\n",
       "35. 4.9\n",
       "36. 5\n",
       "37. 5.5\n",
       "38. 4.9\n",
       "39. 4.4\n",
       "40. 5.1\n",
       "41. 5\n",
       "42. 4.5\n",
       "43. 4.4\n",
       "44. 5\n",
       "45. 5.1\n",
       "46. 4.8\n",
       "47. 5.1\n",
       "48. 4.6\n",
       "49. 5.3\n",
       "50. 5\n",
       "51. 7\n",
       "52. 6.4\n",
       "53. 6.9\n",
       "54. 5.5\n",
       "55. 6.5\n",
       "56. 5.7\n",
       "57. 6.3\n",
       "58. 4.9\n",
       "59. 6.6\n",
       "60. 5.2\n",
       "61. 5\n",
       "62. 5.9\n",
       "63. 6\n",
       "64. 6.1\n",
       "65. 5.6\n",
       "66. 6.7\n",
       "67. 5.6\n",
       "68. 5.8\n",
       "69. 6.2\n",
       "70. 5.6\n",
       "71. 5.9\n",
       "72. 6.1\n",
       "73. 6.3\n",
       "74. 6.1\n",
       "75. 6.4\n",
       "76. 6.6\n",
       "77. 6.8\n",
       "78. 6.7\n",
       "79. 6\n",
       "80. 5.7\n",
       "81. 5.5\n",
       "82. 5.5\n",
       "83. 5.8\n",
       "84. 6\n",
       "85. 5.4\n",
       "86. 6\n",
       "87. 6.7\n",
       "88. 6.3\n",
       "89. 5.6\n",
       "90. 5.5\n",
       "91. 5.5\n",
       "92. 6.1\n",
       "93. 5.8\n",
       "94. 5\n",
       "95. 5.6\n",
       "96. 5.7\n",
       "97. 5.7\n",
       "98. 6.2\n",
       "99. 5.1\n",
       "100. 5.7\n",
       "101. 6.3\n",
       "102. 5.8\n",
       "103. 7.1\n",
       "104. 6.3\n",
       "105. 6.5\n",
       "106. 7.6\n",
       "107. 4.9\n",
       "108. 7.3\n",
       "109. 6.7\n",
       "110. 7.2\n",
       "111. 6.5\n",
       "112. 6.4\n",
       "113. 6.8\n",
       "114. 5.7\n",
       "115. 5.8\n",
       "116. 6.4\n",
       "117. 6.5\n",
       "118. 7.7\n",
       "119. 7.7\n",
       "120. 6\n",
       "121. 6.9\n",
       "122. 5.6\n",
       "123. 7.7\n",
       "124. 6.3\n",
       "125. 6.7\n",
       "126. 7.2\n",
       "127. 6.2\n",
       "128. 6.1\n",
       "129. 6.4\n",
       "130. 7.2\n",
       "131. 7.4\n",
       "132. 7.9\n",
       "133. 6.4\n",
       "134. 6.3\n",
       "135. 6.1\n",
       "136. 7.7\n",
       "137. 6.3\n",
       "138. 6.4\n",
       "139. 6\n",
       "140. 6.9\n",
       "141. 6.7\n",
       "142. 6.9\n",
       "143. 5.8\n",
       "144. 6.8\n",
       "145. 6.7\n",
       "146. 6.7\n",
       "147. 6.3\n",
       "148. 6.5\n",
       "149. 6.2\n",
       "150. 5.9\n",
       "\n",
       "\n"
      ],
      "text/plain": [
       "  [1] 5.1 4.9 4.7 4.6 5.0 5.4 4.6 5.0 4.4 4.9 5.4 4.8 4.8 4.3 5.8 5.7 5.4 5.1\n",
       " [19] 5.7 5.1 5.4 5.1 4.6 5.1 4.8 5.0 5.0 5.2 5.2 4.7 4.8 5.4 5.2 5.5 4.9 5.0\n",
       " [37] 5.5 4.9 4.4 5.1 5.0 4.5 4.4 5.0 5.1 4.8 5.1 4.6 5.3 5.0 7.0 6.4 6.9 5.5\n",
       " [55] 6.5 5.7 6.3 4.9 6.6 5.2 5.0 5.9 6.0 6.1 5.6 6.7 5.6 5.8 6.2 5.6 5.9 6.1\n",
       " [73] 6.3 6.1 6.4 6.6 6.8 6.7 6.0 5.7 5.5 5.5 5.8 6.0 5.4 6.0 6.7 6.3 5.6 5.5\n",
       " [91] 5.5 6.1 5.8 5.0 5.6 5.7 5.7 6.2 5.1 5.7 6.3 5.8 7.1 6.3 6.5 7.6 4.9 7.3\n",
       "[109] 6.7 7.2 6.5 6.4 6.8 5.7 5.8 6.4 6.5 7.7 7.7 6.0 6.9 5.6 7.7 6.3 6.7 7.2\n",
       "[127] 6.2 6.1 6.4 7.2 7.4 7.9 6.4 6.3 6.1 7.7 6.3 6.4 6.0 6.9 6.7 6.9 5.8 6.8\n",
       "[145] 6.7 6.7 6.3 6.5 6.2 5.9"
      ]
     },
     "metadata": {},
     "output_type": "display_data"
    }
   ],
   "source": [
    "iris$Sepal.Length"
   ]
  },
  {
   "cell_type": "code",
   "execution_count": 73,
   "metadata": {},
   "outputs": [],
   "source": [
    "li = list(x=3,y='aaa',z=iris)"
   ]
  },
  {
   "cell_type": "code",
   "execution_count": 69,
   "metadata": {},
   "outputs": [
    {
     "data": {
      "text/html": [
       "<ol>\n",
       "\t<li>3</li>\n",
       "\t<li>'y'</li>\n",
       "</ol>\n"
      ],
      "text/latex": [
       "\\begin{enumerate}\n",
       "\\item 3\n",
       "\\item 'y'\n",
       "\\end{enumerate}\n"
      ],
      "text/markdown": [
       "1. 3\n",
       "2. 'y'\n",
       "\n",
       "\n"
      ],
      "text/plain": [
       "[[1]]\n",
       "[1] 3\n",
       "\n",
       "[[2]]\n",
       "[1] \"y\"\n"
      ]
     },
     "metadata": {},
     "output_type": "display_data"
    }
   ],
   "source": [
    "list(3,\"y\")"
   ]
  },
  {
   "cell_type": "code",
   "execution_count": 71,
   "metadata": {},
   "outputs": [
    {
     "data": {
      "text/html": [
       "3"
      ],
      "text/latex": [
       "3"
      ],
      "text/markdown": [
       "3"
      ],
      "text/plain": [
       "[1] 3"
      ]
     },
     "metadata": {},
     "output_type": "display_data"
    }
   ],
   "source": [
    "li$x"
   ]
  },
  {
   "cell_type": "code",
   "execution_count": 72,
   "metadata": {},
   "outputs": [
    {
     "data": {
      "text/html": [
       "'aaa'"
      ],
      "text/latex": [
       "'aaa'"
      ],
      "text/markdown": [
       "'aaa'"
      ],
      "text/plain": [
       "[1] \"aaa\""
      ]
     },
     "metadata": {},
     "output_type": "display_data"
    }
   ],
   "source": [
    "li$y"
   ]
  },
  {
   "cell_type": "code",
   "execution_count": 74,
   "metadata": {
    "scrolled": true
   },
   "outputs": [
    {
     "data": {
      "text/html": [
       "<table>\n",
       "<thead><tr><th scope=col>Sepal.Length</th><th scope=col>Sepal.Width</th><th scope=col>Petal.Length</th><th scope=col>Petal.Width</th><th scope=col>Species</th></tr></thead>\n",
       "<tbody>\n",
       "\t<tr><td>5.1   </td><td>3.5   </td><td>1.4   </td><td>0.2   </td><td>setosa</td></tr>\n",
       "\t<tr><td>4.9   </td><td>3.0   </td><td>1.4   </td><td>0.2   </td><td>setosa</td></tr>\n",
       "\t<tr><td>4.7   </td><td>3.2   </td><td>1.3   </td><td>0.2   </td><td>setosa</td></tr>\n",
       "\t<tr><td>4.6   </td><td>3.1   </td><td>1.5   </td><td>0.2   </td><td>setosa</td></tr>\n",
       "\t<tr><td>5.0   </td><td>3.6   </td><td>1.4   </td><td>0.2   </td><td>setosa</td></tr>\n",
       "\t<tr><td>5.4   </td><td>3.9   </td><td>1.7   </td><td>0.4   </td><td>setosa</td></tr>\n",
       "\t<tr><td>4.6   </td><td>3.4   </td><td>1.4   </td><td>0.3   </td><td>setosa</td></tr>\n",
       "\t<tr><td>5.0   </td><td>3.4   </td><td>1.5   </td><td>0.2   </td><td>setosa</td></tr>\n",
       "\t<tr><td>4.4   </td><td>2.9   </td><td>1.4   </td><td>0.2   </td><td>setosa</td></tr>\n",
       "\t<tr><td>4.9   </td><td>3.1   </td><td>1.5   </td><td>0.1   </td><td>setosa</td></tr>\n",
       "\t<tr><td>5.4   </td><td>3.7   </td><td>1.5   </td><td>0.2   </td><td>setosa</td></tr>\n",
       "\t<tr><td>4.8   </td><td>3.4   </td><td>1.6   </td><td>0.2   </td><td>setosa</td></tr>\n",
       "\t<tr><td>4.8   </td><td>3.0   </td><td>1.4   </td><td>0.1   </td><td>setosa</td></tr>\n",
       "\t<tr><td>4.3   </td><td>3.0   </td><td>1.1   </td><td>0.1   </td><td>setosa</td></tr>\n",
       "\t<tr><td>5.8   </td><td>4.0   </td><td>1.2   </td><td>0.2   </td><td>setosa</td></tr>\n",
       "\t<tr><td>5.7   </td><td>4.4   </td><td>1.5   </td><td>0.4   </td><td>setosa</td></tr>\n",
       "\t<tr><td>5.4   </td><td>3.9   </td><td>1.3   </td><td>0.4   </td><td>setosa</td></tr>\n",
       "\t<tr><td>5.1   </td><td>3.5   </td><td>1.4   </td><td>0.3   </td><td>setosa</td></tr>\n",
       "\t<tr><td>5.7   </td><td>3.8   </td><td>1.7   </td><td>0.3   </td><td>setosa</td></tr>\n",
       "\t<tr><td>5.1   </td><td>3.8   </td><td>1.5   </td><td>0.3   </td><td>setosa</td></tr>\n",
       "\t<tr><td>5.4   </td><td>3.4   </td><td>1.7   </td><td>0.2   </td><td>setosa</td></tr>\n",
       "\t<tr><td>5.1   </td><td>3.7   </td><td>1.5   </td><td>0.4   </td><td>setosa</td></tr>\n",
       "\t<tr><td>4.6   </td><td>3.6   </td><td>1.0   </td><td>0.2   </td><td>setosa</td></tr>\n",
       "\t<tr><td>5.1   </td><td>3.3   </td><td>1.7   </td><td>0.5   </td><td>setosa</td></tr>\n",
       "\t<tr><td>4.8   </td><td>3.4   </td><td>1.9   </td><td>0.2   </td><td>setosa</td></tr>\n",
       "\t<tr><td>5.0   </td><td>3.0   </td><td>1.6   </td><td>0.2   </td><td>setosa</td></tr>\n",
       "\t<tr><td>5.0   </td><td>3.4   </td><td>1.6   </td><td>0.4   </td><td>setosa</td></tr>\n",
       "\t<tr><td>5.2   </td><td>3.5   </td><td>1.5   </td><td>0.2   </td><td>setosa</td></tr>\n",
       "\t<tr><td>5.2   </td><td>3.4   </td><td>1.4   </td><td>0.2   </td><td>setosa</td></tr>\n",
       "\t<tr><td>4.7   </td><td>3.2   </td><td>1.6   </td><td>0.2   </td><td>setosa</td></tr>\n",
       "\t<tr><td>⋮</td><td>⋮</td><td>⋮</td><td>⋮</td><td>⋮</td></tr>\n",
       "\t<tr><td>6.9      </td><td>3.2      </td><td>5.7      </td><td>2.3      </td><td>virginica</td></tr>\n",
       "\t<tr><td>5.6      </td><td>2.8      </td><td>4.9      </td><td>2.0      </td><td>virginica</td></tr>\n",
       "\t<tr><td>7.7      </td><td>2.8      </td><td>6.7      </td><td>2.0      </td><td>virginica</td></tr>\n",
       "\t<tr><td>6.3      </td><td>2.7      </td><td>4.9      </td><td>1.8      </td><td>virginica</td></tr>\n",
       "\t<tr><td>6.7      </td><td>3.3      </td><td>5.7      </td><td>2.1      </td><td>virginica</td></tr>\n",
       "\t<tr><td>7.2      </td><td>3.2      </td><td>6.0      </td><td>1.8      </td><td>virginica</td></tr>\n",
       "\t<tr><td>6.2      </td><td>2.8      </td><td>4.8      </td><td>1.8      </td><td>virginica</td></tr>\n",
       "\t<tr><td>6.1      </td><td>3.0      </td><td>4.9      </td><td>1.8      </td><td>virginica</td></tr>\n",
       "\t<tr><td>6.4      </td><td>2.8      </td><td>5.6      </td><td>2.1      </td><td>virginica</td></tr>\n",
       "\t<tr><td>7.2      </td><td>3.0      </td><td>5.8      </td><td>1.6      </td><td>virginica</td></tr>\n",
       "\t<tr><td>7.4      </td><td>2.8      </td><td>6.1      </td><td>1.9      </td><td>virginica</td></tr>\n",
       "\t<tr><td>7.9      </td><td>3.8      </td><td>6.4      </td><td>2.0      </td><td>virginica</td></tr>\n",
       "\t<tr><td>6.4      </td><td>2.8      </td><td>5.6      </td><td>2.2      </td><td>virginica</td></tr>\n",
       "\t<tr><td>6.3      </td><td>2.8      </td><td>5.1      </td><td>1.5      </td><td>virginica</td></tr>\n",
       "\t<tr><td>6.1      </td><td>2.6      </td><td>5.6      </td><td>1.4      </td><td>virginica</td></tr>\n",
       "\t<tr><td>7.7      </td><td>3.0      </td><td>6.1      </td><td>2.3      </td><td>virginica</td></tr>\n",
       "\t<tr><td>6.3      </td><td>3.4      </td><td>5.6      </td><td>2.4      </td><td>virginica</td></tr>\n",
       "\t<tr><td>6.4      </td><td>3.1      </td><td>5.5      </td><td>1.8      </td><td>virginica</td></tr>\n",
       "\t<tr><td>6.0      </td><td>3.0      </td><td>4.8      </td><td>1.8      </td><td>virginica</td></tr>\n",
       "\t<tr><td>6.9      </td><td>3.1      </td><td>5.4      </td><td>2.1      </td><td>virginica</td></tr>\n",
       "\t<tr><td>6.7      </td><td>3.1      </td><td>5.6      </td><td>2.4      </td><td>virginica</td></tr>\n",
       "\t<tr><td>6.9      </td><td>3.1      </td><td>5.1      </td><td>2.3      </td><td>virginica</td></tr>\n",
       "\t<tr><td>5.8      </td><td>2.7      </td><td>5.1      </td><td>1.9      </td><td>virginica</td></tr>\n",
       "\t<tr><td>6.8      </td><td>3.2      </td><td>5.9      </td><td>2.3      </td><td>virginica</td></tr>\n",
       "\t<tr><td>6.7      </td><td>3.3      </td><td>5.7      </td><td>2.5      </td><td>virginica</td></tr>\n",
       "\t<tr><td>6.7      </td><td>3.0      </td><td>5.2      </td><td>2.3      </td><td>virginica</td></tr>\n",
       "\t<tr><td>6.3      </td><td>2.5      </td><td>5.0      </td><td>1.9      </td><td>virginica</td></tr>\n",
       "\t<tr><td>6.5      </td><td>3.0      </td><td>5.2      </td><td>2.0      </td><td>virginica</td></tr>\n",
       "\t<tr><td>6.2      </td><td>3.4      </td><td>5.4      </td><td>2.3      </td><td>virginica</td></tr>\n",
       "\t<tr><td>5.9      </td><td>3.0      </td><td>5.1      </td><td>1.8      </td><td>virginica</td></tr>\n",
       "</tbody>\n",
       "</table>\n"
      ],
      "text/latex": [
       "\\begin{tabular}{r|lllll}\n",
       " Sepal.Length & Sepal.Width & Petal.Length & Petal.Width & Species\\\\\n",
       "\\hline\n",
       "\t 5.1    & 3.5    & 1.4    & 0.2    & setosa\\\\\n",
       "\t 4.9    & 3.0    & 1.4    & 0.2    & setosa\\\\\n",
       "\t 4.7    & 3.2    & 1.3    & 0.2    & setosa\\\\\n",
       "\t 4.6    & 3.1    & 1.5    & 0.2    & setosa\\\\\n",
       "\t 5.0    & 3.6    & 1.4    & 0.2    & setosa\\\\\n",
       "\t 5.4    & 3.9    & 1.7    & 0.4    & setosa\\\\\n",
       "\t 4.6    & 3.4    & 1.4    & 0.3    & setosa\\\\\n",
       "\t 5.0    & 3.4    & 1.5    & 0.2    & setosa\\\\\n",
       "\t 4.4    & 2.9    & 1.4    & 0.2    & setosa\\\\\n",
       "\t 4.9    & 3.1    & 1.5    & 0.1    & setosa\\\\\n",
       "\t 5.4    & 3.7    & 1.5    & 0.2    & setosa\\\\\n",
       "\t 4.8    & 3.4    & 1.6    & 0.2    & setosa\\\\\n",
       "\t 4.8    & 3.0    & 1.4    & 0.1    & setosa\\\\\n",
       "\t 4.3    & 3.0    & 1.1    & 0.1    & setosa\\\\\n",
       "\t 5.8    & 4.0    & 1.2    & 0.2    & setosa\\\\\n",
       "\t 5.7    & 4.4    & 1.5    & 0.4    & setosa\\\\\n",
       "\t 5.4    & 3.9    & 1.3    & 0.4    & setosa\\\\\n",
       "\t 5.1    & 3.5    & 1.4    & 0.3    & setosa\\\\\n",
       "\t 5.7    & 3.8    & 1.7    & 0.3    & setosa\\\\\n",
       "\t 5.1    & 3.8    & 1.5    & 0.3    & setosa\\\\\n",
       "\t 5.4    & 3.4    & 1.7    & 0.2    & setosa\\\\\n",
       "\t 5.1    & 3.7    & 1.5    & 0.4    & setosa\\\\\n",
       "\t 4.6    & 3.6    & 1.0    & 0.2    & setosa\\\\\n",
       "\t 5.1    & 3.3    & 1.7    & 0.5    & setosa\\\\\n",
       "\t 4.8    & 3.4    & 1.9    & 0.2    & setosa\\\\\n",
       "\t 5.0    & 3.0    & 1.6    & 0.2    & setosa\\\\\n",
       "\t 5.0    & 3.4    & 1.6    & 0.4    & setosa\\\\\n",
       "\t 5.2    & 3.5    & 1.5    & 0.2    & setosa\\\\\n",
       "\t 5.2    & 3.4    & 1.4    & 0.2    & setosa\\\\\n",
       "\t 4.7    & 3.2    & 1.6    & 0.2    & setosa\\\\\n",
       "\t ⋮ & ⋮ & ⋮ & ⋮ & ⋮\\\\\n",
       "\t 6.9       & 3.2       & 5.7       & 2.3       & virginica\\\\\n",
       "\t 5.6       & 2.8       & 4.9       & 2.0       & virginica\\\\\n",
       "\t 7.7       & 2.8       & 6.7       & 2.0       & virginica\\\\\n",
       "\t 6.3       & 2.7       & 4.9       & 1.8       & virginica\\\\\n",
       "\t 6.7       & 3.3       & 5.7       & 2.1       & virginica\\\\\n",
       "\t 7.2       & 3.2       & 6.0       & 1.8       & virginica\\\\\n",
       "\t 6.2       & 2.8       & 4.8       & 1.8       & virginica\\\\\n",
       "\t 6.1       & 3.0       & 4.9       & 1.8       & virginica\\\\\n",
       "\t 6.4       & 2.8       & 5.6       & 2.1       & virginica\\\\\n",
       "\t 7.2       & 3.0       & 5.8       & 1.6       & virginica\\\\\n",
       "\t 7.4       & 2.8       & 6.1       & 1.9       & virginica\\\\\n",
       "\t 7.9       & 3.8       & 6.4       & 2.0       & virginica\\\\\n",
       "\t 6.4       & 2.8       & 5.6       & 2.2       & virginica\\\\\n",
       "\t 6.3       & 2.8       & 5.1       & 1.5       & virginica\\\\\n",
       "\t 6.1       & 2.6       & 5.6       & 1.4       & virginica\\\\\n",
       "\t 7.7       & 3.0       & 6.1       & 2.3       & virginica\\\\\n",
       "\t 6.3       & 3.4       & 5.6       & 2.4       & virginica\\\\\n",
       "\t 6.4       & 3.1       & 5.5       & 1.8       & virginica\\\\\n",
       "\t 6.0       & 3.0       & 4.8       & 1.8       & virginica\\\\\n",
       "\t 6.9       & 3.1       & 5.4       & 2.1       & virginica\\\\\n",
       "\t 6.7       & 3.1       & 5.6       & 2.4       & virginica\\\\\n",
       "\t 6.9       & 3.1       & 5.1       & 2.3       & virginica\\\\\n",
       "\t 5.8       & 2.7       & 5.1       & 1.9       & virginica\\\\\n",
       "\t 6.8       & 3.2       & 5.9       & 2.3       & virginica\\\\\n",
       "\t 6.7       & 3.3       & 5.7       & 2.5       & virginica\\\\\n",
       "\t 6.7       & 3.0       & 5.2       & 2.3       & virginica\\\\\n",
       "\t 6.3       & 2.5       & 5.0       & 1.9       & virginica\\\\\n",
       "\t 6.5       & 3.0       & 5.2       & 2.0       & virginica\\\\\n",
       "\t 6.2       & 3.4       & 5.4       & 2.3       & virginica\\\\\n",
       "\t 5.9       & 3.0       & 5.1       & 1.8       & virginica\\\\\n",
       "\\end{tabular}\n"
      ],
      "text/markdown": [
       "\n",
       "Sepal.Length | Sepal.Width | Petal.Length | Petal.Width | Species | \n",
       "|---|---|---|---|---|---|---|---|---|---|---|---|---|---|---|---|---|---|---|---|---|---|---|---|---|---|---|---|---|---|---|---|---|---|---|---|---|---|---|---|---|---|---|---|---|---|---|---|---|---|---|---|---|---|---|---|---|---|---|---|---|\n",
       "| 5.1    | 3.5    | 1.4    | 0.2    | setosa | \n",
       "| 4.9    | 3.0    | 1.4    | 0.2    | setosa | \n",
       "| 4.7    | 3.2    | 1.3    | 0.2    | setosa | \n",
       "| 4.6    | 3.1    | 1.5    | 0.2    | setosa | \n",
       "| 5.0    | 3.6    | 1.4    | 0.2    | setosa | \n",
       "| 5.4    | 3.9    | 1.7    | 0.4    | setosa | \n",
       "| 4.6    | 3.4    | 1.4    | 0.3    | setosa | \n",
       "| 5.0    | 3.4    | 1.5    | 0.2    | setosa | \n",
       "| 4.4    | 2.9    | 1.4    | 0.2    | setosa | \n",
       "| 4.9    | 3.1    | 1.5    | 0.1    | setosa | \n",
       "| 5.4    | 3.7    | 1.5    | 0.2    | setosa | \n",
       "| 4.8    | 3.4    | 1.6    | 0.2    | setosa | \n",
       "| 4.8    | 3.0    | 1.4    | 0.1    | setosa | \n",
       "| 4.3    | 3.0    | 1.1    | 0.1    | setosa | \n",
       "| 5.8    | 4.0    | 1.2    | 0.2    | setosa | \n",
       "| 5.7    | 4.4    | 1.5    | 0.4    | setosa | \n",
       "| 5.4    | 3.9    | 1.3    | 0.4    | setosa | \n",
       "| 5.1    | 3.5    | 1.4    | 0.3    | setosa | \n",
       "| 5.7    | 3.8    | 1.7    | 0.3    | setosa | \n",
       "| 5.1    | 3.8    | 1.5    | 0.3    | setosa | \n",
       "| 5.4    | 3.4    | 1.7    | 0.2    | setosa | \n",
       "| 5.1    | 3.7    | 1.5    | 0.4    | setosa | \n",
       "| 4.6    | 3.6    | 1.0    | 0.2    | setosa | \n",
       "| 5.1    | 3.3    | 1.7    | 0.5    | setosa | \n",
       "| 4.8    | 3.4    | 1.9    | 0.2    | setosa | \n",
       "| 5.0    | 3.0    | 1.6    | 0.2    | setosa | \n",
       "| 5.0    | 3.4    | 1.6    | 0.4    | setosa | \n",
       "| 5.2    | 3.5    | 1.5    | 0.2    | setosa | \n",
       "| 5.2    | 3.4    | 1.4    | 0.2    | setosa | \n",
       "| 4.7    | 3.2    | 1.6    | 0.2    | setosa | \n",
       "| ⋮ | ⋮ | ⋮ | ⋮ | ⋮ | \n",
       "| 6.9       | 3.2       | 5.7       | 2.3       | virginica | \n",
       "| 5.6       | 2.8       | 4.9       | 2.0       | virginica | \n",
       "| 7.7       | 2.8       | 6.7       | 2.0       | virginica | \n",
       "| 6.3       | 2.7       | 4.9       | 1.8       | virginica | \n",
       "| 6.7       | 3.3       | 5.7       | 2.1       | virginica | \n",
       "| 7.2       | 3.2       | 6.0       | 1.8       | virginica | \n",
       "| 6.2       | 2.8       | 4.8       | 1.8       | virginica | \n",
       "| 6.1       | 3.0       | 4.9       | 1.8       | virginica | \n",
       "| 6.4       | 2.8       | 5.6       | 2.1       | virginica | \n",
       "| 7.2       | 3.0       | 5.8       | 1.6       | virginica | \n",
       "| 7.4       | 2.8       | 6.1       | 1.9       | virginica | \n",
       "| 7.9       | 3.8       | 6.4       | 2.0       | virginica | \n",
       "| 6.4       | 2.8       | 5.6       | 2.2       | virginica | \n",
       "| 6.3       | 2.8       | 5.1       | 1.5       | virginica | \n",
       "| 6.1       | 2.6       | 5.6       | 1.4       | virginica | \n",
       "| 7.7       | 3.0       | 6.1       | 2.3       | virginica | \n",
       "| 6.3       | 3.4       | 5.6       | 2.4       | virginica | \n",
       "| 6.4       | 3.1       | 5.5       | 1.8       | virginica | \n",
       "| 6.0       | 3.0       | 4.8       | 1.8       | virginica | \n",
       "| 6.9       | 3.1       | 5.4       | 2.1       | virginica | \n",
       "| 6.7       | 3.1       | 5.6       | 2.4       | virginica | \n",
       "| 6.9       | 3.1       | 5.1       | 2.3       | virginica | \n",
       "| 5.8       | 2.7       | 5.1       | 1.9       | virginica | \n",
       "| 6.8       | 3.2       | 5.9       | 2.3       | virginica | \n",
       "| 6.7       | 3.3       | 5.7       | 2.5       | virginica | \n",
       "| 6.7       | 3.0       | 5.2       | 2.3       | virginica | \n",
       "| 6.3       | 2.5       | 5.0       | 1.9       | virginica | \n",
       "| 6.5       | 3.0       | 5.2       | 2.0       | virginica | \n",
       "| 6.2       | 3.4       | 5.4       | 2.3       | virginica | \n",
       "| 5.9       | 3.0       | 5.1       | 1.8       | virginica | \n",
       "\n",
       "\n"
      ],
      "text/plain": [
       "    Sepal.Length Sepal.Width Petal.Length Petal.Width Species  \n",
       "1   5.1          3.5         1.4          0.2         setosa   \n",
       "2   4.9          3.0         1.4          0.2         setosa   \n",
       "3   4.7          3.2         1.3          0.2         setosa   \n",
       "4   4.6          3.1         1.5          0.2         setosa   \n",
       "5   5.0          3.6         1.4          0.2         setosa   \n",
       "6   5.4          3.9         1.7          0.4         setosa   \n",
       "7   4.6          3.4         1.4          0.3         setosa   \n",
       "8   5.0          3.4         1.5          0.2         setosa   \n",
       "9   4.4          2.9         1.4          0.2         setosa   \n",
       "10  4.9          3.1         1.5          0.1         setosa   \n",
       "11  5.4          3.7         1.5          0.2         setosa   \n",
       "12  4.8          3.4         1.6          0.2         setosa   \n",
       "13  4.8          3.0         1.4          0.1         setosa   \n",
       "14  4.3          3.0         1.1          0.1         setosa   \n",
       "15  5.8          4.0         1.2          0.2         setosa   \n",
       "16  5.7          4.4         1.5          0.4         setosa   \n",
       "17  5.4          3.9         1.3          0.4         setosa   \n",
       "18  5.1          3.5         1.4          0.3         setosa   \n",
       "19  5.7          3.8         1.7          0.3         setosa   \n",
       "20  5.1          3.8         1.5          0.3         setosa   \n",
       "21  5.4          3.4         1.7          0.2         setosa   \n",
       "22  5.1          3.7         1.5          0.4         setosa   \n",
       "23  4.6          3.6         1.0          0.2         setosa   \n",
       "24  5.1          3.3         1.7          0.5         setosa   \n",
       "25  4.8          3.4         1.9          0.2         setosa   \n",
       "26  5.0          3.0         1.6          0.2         setosa   \n",
       "27  5.0          3.4         1.6          0.4         setosa   \n",
       "28  5.2          3.5         1.5          0.2         setosa   \n",
       "29  5.2          3.4         1.4          0.2         setosa   \n",
       "30  4.7          3.2         1.6          0.2         setosa   \n",
       "⋮   ⋮            ⋮           ⋮            ⋮           ⋮        \n",
       "121 6.9          3.2         5.7          2.3         virginica\n",
       "122 5.6          2.8         4.9          2.0         virginica\n",
       "123 7.7          2.8         6.7          2.0         virginica\n",
       "124 6.3          2.7         4.9          1.8         virginica\n",
       "125 6.7          3.3         5.7          2.1         virginica\n",
       "126 7.2          3.2         6.0          1.8         virginica\n",
       "127 6.2          2.8         4.8          1.8         virginica\n",
       "128 6.1          3.0         4.9          1.8         virginica\n",
       "129 6.4          2.8         5.6          2.1         virginica\n",
       "130 7.2          3.0         5.8          1.6         virginica\n",
       "131 7.4          2.8         6.1          1.9         virginica\n",
       "132 7.9          3.8         6.4          2.0         virginica\n",
       "133 6.4          2.8         5.6          2.2         virginica\n",
       "134 6.3          2.8         5.1          1.5         virginica\n",
       "135 6.1          2.6         5.6          1.4         virginica\n",
       "136 7.7          3.0         6.1          2.3         virginica\n",
       "137 6.3          3.4         5.6          2.4         virginica\n",
       "138 6.4          3.1         5.5          1.8         virginica\n",
       "139 6.0          3.0         4.8          1.8         virginica\n",
       "140 6.9          3.1         5.4          2.1         virginica\n",
       "141 6.7          3.1         5.6          2.4         virginica\n",
       "142 6.9          3.1         5.1          2.3         virginica\n",
       "143 5.8          2.7         5.1          1.9         virginica\n",
       "144 6.8          3.2         5.9          2.3         virginica\n",
       "145 6.7          3.3         5.7          2.5         virginica\n",
       "146 6.7          3.0         5.2          2.3         virginica\n",
       "147 6.3          2.5         5.0          1.9         virginica\n",
       "148 6.5          3.0         5.2          2.0         virginica\n",
       "149 6.2          3.4         5.4          2.3         virginica\n",
       "150 5.9          3.0         5.1          1.8         virginica"
      ]
     },
     "metadata": {},
     "output_type": "display_data"
    }
   ],
   "source": [
    "li$z"
   ]
  },
  {
   "cell_type": "code",
   "execution_count": 76,
   "metadata": {},
   "outputs": [
    {
     "data": {
      "text/html": [
       "<ol class=list-inline>\n",
       "\t<li>0</li>\n",
       "\t<li>0</li>\n",
       "\t<li>0</li>\n",
       "\t<li>0</li>\n",
       "\t<li>0</li>\n",
       "</ol>\n"
      ],
      "text/latex": [
       "\\begin{enumerate*}\n",
       "\\item 0\n",
       "\\item 0\n",
       "\\item 0\n",
       "\\item 0\n",
       "\\item 0\n",
       "\\end{enumerate*}\n"
      ],
      "text/markdown": [
       "1. 0\n",
       "2. 0\n",
       "3. 0\n",
       "4. 0\n",
       "5. 0\n",
       "\n",
       "\n"
      ],
      "text/plain": [
       "[1] 0 0 0 0 0"
      ]
     },
     "metadata": {},
     "output_type": "display_data"
    }
   ],
   "source": [
    "numeric(5)"
   ]
  },
  {
   "cell_type": "code",
   "execution_count": 77,
   "metadata": {},
   "outputs": [
    {
     "data": {
      "text/html": [
       "'numeric'"
      ],
      "text/latex": [
       "'numeric'"
      ],
      "text/markdown": [
       "'numeric'"
      ],
      "text/plain": [
       "[1] \"numeric\""
      ]
     },
     "metadata": {},
     "output_type": "display_data"
    }
   ],
   "source": [
    "class(numeric(5))"
   ]
  },
  {
   "cell_type": "code",
   "execution_count": 78,
   "metadata": {},
   "outputs": [
    {
     "data": {
      "text/html": [
       "<ol class=list-inline>\n",
       "\t<li>0</li>\n",
       "\t<li>0</li>\n",
       "\t<li>0</li>\n",
       "\t<li>0</li>\n",
       "\t<li>0</li>\n",
       "</ol>\n"
      ],
      "text/latex": [
       "\\begin{enumerate*}\n",
       "\\item 0\n",
       "\\item 0\n",
       "\\item 0\n",
       "\\item 0\n",
       "\\item 0\n",
       "\\end{enumerate*}\n"
      ],
      "text/markdown": [
       "1. 0\n",
       "2. 0\n",
       "3. 0\n",
       "4. 0\n",
       "5. 0\n",
       "\n",
       "\n"
      ],
      "text/plain": [
       "[1] 0 0 0 0 0"
      ]
     },
     "metadata": {},
     "output_type": "display_data"
    }
   ],
   "source": [
    "integer(5)"
   ]
  },
  {
   "cell_type": "code",
   "execution_count": 79,
   "metadata": {
    "scrolled": true
   },
   "outputs": [
    {
     "data": {
      "text/html": [
       "<ol class=list-inline>\n",
       "\t<li>FALSE</li>\n",
       "\t<li>FALSE</li>\n",
       "\t<li>FALSE</li>\n",
       "\t<li>FALSE</li>\n",
       "\t<li>FALSE</li>\n",
       "</ol>\n"
      ],
      "text/latex": [
       "\\begin{enumerate*}\n",
       "\\item FALSE\n",
       "\\item FALSE\n",
       "\\item FALSE\n",
       "\\item FALSE\n",
       "\\item FALSE\n",
       "\\end{enumerate*}\n"
      ],
      "text/markdown": [
       "1. FALSE\n",
       "2. FALSE\n",
       "3. FALSE\n",
       "4. FALSE\n",
       "5. FALSE\n",
       "\n",
       "\n"
      ],
      "text/plain": [
       "[1] FALSE FALSE FALSE FALSE FALSE"
      ]
     },
     "metadata": {},
     "output_type": "display_data"
    }
   ],
   "source": [
    "logical(5)"
   ]
  },
  {
   "cell_type": "code",
   "execution_count": 80,
   "metadata": {},
   "outputs": [
    {
     "data": {
      "text/html": [
       "<ol class=list-inline>\n",
       "\t<li>''</li>\n",
       "\t<li>''</li>\n",
       "\t<li>''</li>\n",
       "\t<li>''</li>\n",
       "\t<li>''</li>\n",
       "</ol>\n"
      ],
      "text/latex": [
       "\\begin{enumerate*}\n",
       "\\item ''\n",
       "\\item ''\n",
       "\\item ''\n",
       "\\item ''\n",
       "\\item ''\n",
       "\\end{enumerate*}\n"
      ],
      "text/markdown": [
       "1. ''\n",
       "2. ''\n",
       "3. ''\n",
       "4. ''\n",
       "5. ''\n",
       "\n",
       "\n"
      ],
      "text/plain": [
       "[1] \"\" \"\" \"\" \"\" \"\""
      ]
     },
     "metadata": {},
     "output_type": "display_data"
    }
   ],
   "source": [
    "character(5)"
   ]
  },
  {
   "cell_type": "code",
   "execution_count": 81,
   "metadata": {},
   "outputs": [],
   "source": [
    "x=c(1,2,3,7)\n",
    "y=c(2,3,5,1)"
   ]
  },
  {
   "cell_type": "code",
   "execution_count": 82,
   "metadata": {},
   "outputs": [
    {
     "data": {
      "text/html": [
       "<ol class=list-inline>\n",
       "\t<li>1</li>\n",
       "\t<li>2</li>\n",
       "\t<li>3</li>\n",
       "\t<li>7</li>\n",
       "</ol>\n"
      ],
      "text/latex": [
       "\\begin{enumerate*}\n",
       "\\item 1\n",
       "\\item 2\n",
       "\\item 3\n",
       "\\item 7\n",
       "\\end{enumerate*}\n"
      ],
      "text/markdown": [
       "1. 1\n",
       "2. 2\n",
       "3. 3\n",
       "4. 7\n",
       "\n",
       "\n"
      ],
      "text/plain": [
       "[1] 1 2 3 7"
      ]
     },
     "metadata": {},
     "output_type": "display_data"
    }
   ],
   "source": [
    "x"
   ]
  },
  {
   "cell_type": "code",
   "execution_count": 83,
   "metadata": {},
   "outputs": [
    {
     "data": {
      "text/html": [
       "<ol class=list-inline>\n",
       "\t<li>2</li>\n",
       "\t<li>3</li>\n",
       "\t<li>5</li>\n",
       "\t<li>1</li>\n",
       "</ol>\n"
      ],
      "text/latex": [
       "\\begin{enumerate*}\n",
       "\\item 2\n",
       "\\item 3\n",
       "\\item 5\n",
       "\\item 1\n",
       "\\end{enumerate*}\n"
      ],
      "text/markdown": [
       "1. 2\n",
       "2. 3\n",
       "3. 5\n",
       "4. 1\n",
       "\n",
       "\n"
      ],
      "text/plain": [
       "[1] 2 3 5 1"
      ]
     },
     "metadata": {},
     "output_type": "display_data"
    }
   ],
   "source": [
    "y"
   ]
  },
  {
   "cell_type": "code",
   "execution_count": 84,
   "metadata": {},
   "outputs": [
    {
     "data": {
      "text/html": [
       "<ol class=list-inline>\n",
       "\t<li>3</li>\n",
       "\t<li>5</li>\n",
       "\t<li>8</li>\n",
       "\t<li>8</li>\n",
       "</ol>\n"
      ],
      "text/latex": [
       "\\begin{enumerate*}\n",
       "\\item 3\n",
       "\\item 5\n",
       "\\item 8\n",
       "\\item 8\n",
       "\\end{enumerate*}\n"
      ],
      "text/markdown": [
       "1. 3\n",
       "2. 5\n",
       "3. 8\n",
       "4. 8\n",
       "\n",
       "\n"
      ],
      "text/plain": [
       "[1] 3 5 8 8"
      ]
     },
     "metadata": {},
     "output_type": "display_data"
    }
   ],
   "source": [
    "x+y"
   ]
  },
  {
   "cell_type": "code",
   "execution_count": 85,
   "metadata": {},
   "outputs": [
    {
     "data": {
      "text/html": [
       "<ol class=list-inline>\n",
       "\t<li>-1</li>\n",
       "\t<li>-1</li>\n",
       "\t<li>-2</li>\n",
       "\t<li>6</li>\n",
       "</ol>\n"
      ],
      "text/latex": [
       "\\begin{enumerate*}\n",
       "\\item -1\n",
       "\\item -1\n",
       "\\item -2\n",
       "\\item 6\n",
       "\\end{enumerate*}\n"
      ],
      "text/markdown": [
       "1. -1\n",
       "2. -1\n",
       "3. -2\n",
       "4. 6\n",
       "\n",
       "\n"
      ],
      "text/plain": [
       "[1] -1 -1 -2  6"
      ]
     },
     "metadata": {},
     "output_type": "display_data"
    }
   ],
   "source": [
    "x-y"
   ]
  },
  {
   "cell_type": "code",
   "execution_count": 86,
   "metadata": {},
   "outputs": [
    {
     "data": {
      "text/html": [
       "<ol class=list-inline>\n",
       "\t<li>2</li>\n",
       "\t<li>6</li>\n",
       "\t<li>15</li>\n",
       "\t<li>7</li>\n",
       "</ol>\n"
      ],
      "text/latex": [
       "\\begin{enumerate*}\n",
       "\\item 2\n",
       "\\item 6\n",
       "\\item 15\n",
       "\\item 7\n",
       "\\end{enumerate*}\n"
      ],
      "text/markdown": [
       "1. 2\n",
       "2. 6\n",
       "3. 15\n",
       "4. 7\n",
       "\n",
       "\n"
      ],
      "text/plain": [
       "[1]  2  6 15  7"
      ]
     },
     "metadata": {},
     "output_type": "display_data"
    }
   ],
   "source": [
    "x * y"
   ]
  },
  {
   "cell_type": "code",
   "execution_count": 87,
   "metadata": {},
   "outputs": [
    {
     "data": {
      "text/html": [
       "<ol class=list-inline>\n",
       "\t<li>0.5</li>\n",
       "\t<li>0.666666666666667</li>\n",
       "\t<li>0.6</li>\n",
       "\t<li>7</li>\n",
       "</ol>\n"
      ],
      "text/latex": [
       "\\begin{enumerate*}\n",
       "\\item 0.5\n",
       "\\item 0.666666666666667\n",
       "\\item 0.6\n",
       "\\item 7\n",
       "\\end{enumerate*}\n"
      ],
      "text/markdown": [
       "1. 0.5\n",
       "2. 0.666666666666667\n",
       "3. 0.6\n",
       "4. 7\n",
       "\n",
       "\n"
      ],
      "text/plain": [
       "[1] 0.5000000 0.6666667 0.6000000 7.0000000"
      ]
     },
     "metadata": {},
     "output_type": "display_data"
    }
   ],
   "source": [
    "x/y"
   ]
  },
  {
   "cell_type": "code",
   "execution_count": 89,
   "metadata": {},
   "outputs": [
    {
     "data": {
      "text/html": [
       "<ol class=list-inline>\n",
       "\t<li>11</li>\n",
       "\t<li>12</li>\n",
       "\t<li>13</li>\n",
       "\t<li>17</li>\n",
       "</ol>\n"
      ],
      "text/latex": [
       "\\begin{enumerate*}\n",
       "\\item 11\n",
       "\\item 12\n",
       "\\item 13\n",
       "\\item 17\n",
       "\\end{enumerate*}\n"
      ],
      "text/markdown": [
       "1. 11\n",
       "2. 12\n",
       "3. 13\n",
       "4. 17\n",
       "\n",
       "\n"
      ],
      "text/plain": [
       "[1] 11 12 13 17"
      ]
     },
     "metadata": {},
     "output_type": "display_data"
    }
   ],
   "source": [
    "x + c(10)"
   ]
  },
  {
   "cell_type": "code",
   "execution_count": 90,
   "metadata": {},
   "outputs": [
    {
     "data": {
      "text/html": [
       "<ol class=list-inline>\n",
       "\t<li>11</li>\n",
       "\t<li>12</li>\n",
       "\t<li>13</li>\n",
       "\t<li>17</li>\n",
       "</ol>\n"
      ],
      "text/latex": [
       "\\begin{enumerate*}\n",
       "\\item 11\n",
       "\\item 12\n",
       "\\item 13\n",
       "\\item 17\n",
       "\\end{enumerate*}\n"
      ],
      "text/markdown": [
       "1. 11\n",
       "2. 12\n",
       "3. 13\n",
       "4. 17\n",
       "\n",
       "\n"
      ],
      "text/plain": [
       "[1] 11 12 13 17"
      ]
     },
     "metadata": {},
     "output_type": "display_data"
    }
   ],
   "source": [
    "x + c(10,10,10,10)"
   ]
  },
  {
   "cell_type": "code",
   "execution_count": 91,
   "metadata": {},
   "outputs": [
    {
     "data": {
      "text/html": [
       "<ol class=list-inline>\n",
       "\t<li>2</li>\n",
       "\t<li>4</li>\n",
       "\t<li>4</li>\n",
       "\t<li>9</li>\n",
       "</ol>\n"
      ],
      "text/latex": [
       "\\begin{enumerate*}\n",
       "\\item 2\n",
       "\\item 4\n",
       "\\item 4\n",
       "\\item 9\n",
       "\\end{enumerate*}\n"
      ],
      "text/markdown": [
       "1. 2\n",
       "2. 4\n",
       "3. 4\n",
       "4. 9\n",
       "\n",
       "\n"
      ],
      "text/plain": [
       "[1] 2 4 4 9"
      ]
     },
     "metadata": {},
     "output_type": "display_data"
    }
   ],
   "source": [
    "x + c(1,2)"
   ]
  },
  {
   "cell_type": "code",
   "execution_count": 92,
   "metadata": {},
   "outputs": [
    {
     "data": {
      "text/html": [
       "4"
      ],
      "text/latex": [
       "4"
      ],
      "text/markdown": [
       "4"
      ],
      "text/plain": [
       "[1] 4"
      ]
     },
     "metadata": {},
     "output_type": "display_data"
    }
   ],
   "source": [
    "length(x)"
   ]
  },
  {
   "cell_type": "code",
   "execution_count": 93,
   "metadata": {},
   "outputs": [
    {
     "data": {
      "text/html": [
       "<ol class=list-inline>\n",
       "\t<li>1</li>\n",
       "\t<li>2</li>\n",
       "\t<li>3</li>\n",
       "\t<li>7</li>\n",
       "\t<li>10</li>\n",
       "</ol>\n"
      ],
      "text/latex": [
       "\\begin{enumerate*}\n",
       "\\item 1\n",
       "\\item 2\n",
       "\\item 3\n",
       "\\item 7\n",
       "\\item 10\n",
       "\\end{enumerate*}\n"
      ],
      "text/markdown": [
       "1. 1\n",
       "2. 2\n",
       "3. 3\n",
       "4. 7\n",
       "5. 10\n",
       "\n",
       "\n"
      ],
      "text/plain": [
       "[1]  1  2  3  7 10"
      ]
     },
     "metadata": {},
     "output_type": "display_data"
    }
   ],
   "source": [
    "c(c(1,2,3,7),c(10))"
   ]
  },
  {
   "cell_type": "code",
   "execution_count": 94,
   "metadata": {},
   "outputs": [
    {
     "data": {
      "text/html": [
       "<ol class=list-inline>\n",
       "\t<li>1</li>\n",
       "\t<li>2</li>\n",
       "\t<li>3</li>\n",
       "\t<li>7</li>\n",
       "\t<li>10</li>\n",
       "\t<li>15</li>\n",
       "\t<li>40</li>\n",
       "</ol>\n"
      ],
      "text/latex": [
       "\\begin{enumerate*}\n",
       "\\item 1\n",
       "\\item 2\n",
       "\\item 3\n",
       "\\item 7\n",
       "\\item 10\n",
       "\\item 15\n",
       "\\item 40\n",
       "\\end{enumerate*}\n"
      ],
      "text/markdown": [
       "1. 1\n",
       "2. 2\n",
       "3. 3\n",
       "4. 7\n",
       "5. 10\n",
       "6. 15\n",
       "7. 40\n",
       "\n",
       "\n"
      ],
      "text/plain": [
       "[1]  1  2  3  7 10 15 40"
      ]
     },
     "metadata": {},
     "output_type": "display_data"
    }
   ],
   "source": [
    "c(c(1,2,3,7),c(10),15,40)"
   ]
  },
  {
   "cell_type": "code",
   "execution_count": 95,
   "metadata": {},
   "outputs": [
    {
     "data": {
      "text/html": [
       "<ol class=list-inline>\n",
       "\t<li>1</li>\n",
       "\t<li>2</li>\n",
       "\t<li>3</li>\n",
       "\t<li>7</li>\n",
       "\t<li>10</li>\n",
       "\t<li>15</li>\n",
       "\t<li>40</li>\n",
       "</ol>\n"
      ],
      "text/latex": [
       "\\begin{enumerate*}\n",
       "\\item 1\n",
       "\\item 2\n",
       "\\item 3\n",
       "\\item 7\n",
       "\\item 10\n",
       "\\item 15\n",
       "\\item 40\n",
       "\\end{enumerate*}\n"
      ],
      "text/markdown": [
       "1. 1\n",
       "2. 2\n",
       "3. 3\n",
       "4. 7\n",
       "5. 10\n",
       "6. 15\n",
       "7. 40\n",
       "\n",
       "\n"
      ],
      "text/plain": [
       "[1]  1  2  3  7 10 15 40"
      ]
     },
     "metadata": {},
     "output_type": "display_data"
    }
   ],
   "source": [
    "c(c(1,2,3,7),c(10),c(15,40))"
   ]
  },
  {
   "cell_type": "code",
   "execution_count": 96,
   "metadata": {},
   "outputs": [],
   "source": [
    "height_vec = c(180,169,173)"
   ]
  },
  {
   "cell_type": "code",
   "execution_count": 97,
   "metadata": {},
   "outputs": [
    {
     "data": {
      "text/html": [
       "<ol class=list-inline>\n",
       "\t<li>180</li>\n",
       "\t<li>169</li>\n",
       "\t<li>173</li>\n",
       "</ol>\n"
      ],
      "text/latex": [
       "\\begin{enumerate*}\n",
       "\\item 180\n",
       "\\item 169\n",
       "\\item 173\n",
       "\\end{enumerate*}\n"
      ],
      "text/markdown": [
       "1. 180\n",
       "2. 169\n",
       "3. 173\n",
       "\n",
       "\n"
      ],
      "text/plain": [
       "[1] 180 169 173"
      ]
     },
     "metadata": {},
     "output_type": "display_data"
    }
   ],
   "source": [
    "height_vec"
   ]
  },
  {
   "cell_type": "code",
   "execution_count": 99,
   "metadata": {},
   "outputs": [],
   "source": [
    "names(height_vec) = c(\"Brain\",\"Toby\",\"Sherry\")"
   ]
  },
  {
   "cell_type": "code",
   "execution_count": 101,
   "metadata": {},
   "outputs": [
    {
     "name": "stdout",
     "output_type": "stream",
     "text": [
      " Brain   Toby Sherry \n",
      "   180    169    173 \n"
     ]
    }
   ],
   "source": [
    "print( height_vec )"
   ]
  },
  {
   "cell_type": "code",
   "execution_count": 102,
   "metadata": {},
   "outputs": [
    {
     "data": {
      "text/html": [
       "<ol class=list-inline>\n",
       "\t<li>'Brain'</li>\n",
       "\t<li>'Toby'</li>\n",
       "\t<li>'Sherry'</li>\n",
       "</ol>\n"
      ],
      "text/latex": [
       "\\begin{enumerate*}\n",
       "\\item 'Brain'\n",
       "\\item 'Toby'\n",
       "\\item 'Sherry'\n",
       "\\end{enumerate*}\n"
      ],
      "text/markdown": [
       "1. 'Brain'\n",
       "2. 'Toby'\n",
       "3. 'Sherry'\n",
       "\n",
       "\n"
      ],
      "text/plain": [
       "[1] \"Brain\"  \"Toby\"   \"Sherry\""
      ]
     },
     "metadata": {},
     "output_type": "display_data"
    }
   ],
   "source": [
    "names(height_vec)"
   ]
  },
  {
   "cell_type": "code",
   "execution_count": 104,
   "metadata": {},
   "outputs": [],
   "source": [
    "names(height_vec)[1] = 'Tom'"
   ]
  },
  {
   "cell_type": "code",
   "execution_count": 106,
   "metadata": {},
   "outputs": [
    {
     "name": "stdout",
     "output_type": "stream",
     "text": [
      "   Tom   Toby Sherry \n",
      "   180    169    173 \n"
     ]
    }
   ],
   "source": [
    "print(height_vec)"
   ]
  },
  {
   "cell_type": "code",
   "execution_count": 108,
   "metadata": {},
   "outputs": [
    {
     "name": "stdout",
     "output_type": "stream",
     "text": [
      "   Tom   Toby Sherry \n",
      "  TRUE  FALSE  FALSE \n"
     ]
    }
   ],
   "source": [
    "print( height_vec > 175 )"
   ]
  },
  {
   "cell_type": "code",
   "execution_count": 109,
   "metadata": {},
   "outputs": [
    {
     "name": "stdout",
     "output_type": "stream",
     "text": [
      "   Tom   Toby Sherry \n",
      " FALSE  FALSE  FALSE \n"
     ]
    }
   ],
   "source": [
    "print( height_vec == 175 )"
   ]
  },
  {
   "cell_type": "code",
   "execution_count": 110,
   "metadata": {},
   "outputs": [
    {
     "name": "stdout",
     "output_type": "stream",
     "text": [
      "   Tom   Toby Sherry \n",
      "  TRUE   TRUE   TRUE \n"
     ]
    }
   ],
   "source": [
    "print( height_vec != 175 )"
   ]
  },
  {
   "cell_type": "code",
   "execution_count": 111,
   "metadata": {},
   "outputs": [
    {
     "data": {
      "text/html": [
       "<strong>Tom:</strong> 180"
      ],
      "text/latex": [
       "\\textbf{Tom:} 180"
      ],
      "text/markdown": [
       "**Tom:** 180"
      ],
      "text/plain": [
       "Tom \n",
       "180 "
      ]
     },
     "metadata": {},
     "output_type": "display_data"
    }
   ],
   "source": [
    "height_vec[1]"
   ]
  },
  {
   "cell_type": "code",
   "execution_count": 115,
   "metadata": {},
   "outputs": [
    {
     "data": {
      "text/html": [
       "<dl class=dl-horizontal>\n",
       "\t<dt>Tom</dt>\n",
       "\t\t<dd>180</dd>\n",
       "\t<dt>Sherry</dt>\n",
       "\t\t<dd>173</dd>\n",
       "</dl>\n"
      ],
      "text/latex": [
       "\\begin{description*}\n",
       "\\item[Tom] 180\n",
       "\\item[Sherry] 173\n",
       "\\end{description*}\n"
      ],
      "text/markdown": [
       "Tom\n",
       ":   180Sherry\n",
       ":   173\n",
       "\n"
      ],
      "text/plain": [
       "   Tom Sherry \n",
       "   180    173 "
      ]
     },
     "metadata": {},
     "output_type": "display_data"
    }
   ],
   "source": [
    "height_vec[c(1,3)]"
   ]
  },
  {
   "cell_type": "code",
   "execution_count": 112,
   "metadata": {},
   "outputs": [
    {
     "data": {
      "text/html": [
       "<strong>Tom:</strong> 180"
      ],
      "text/latex": [
       "\\textbf{Tom:} 180"
      ],
      "text/markdown": [
       "**Tom:** 180"
      ],
      "text/plain": [
       "Tom \n",
       "180 "
      ]
     },
     "metadata": {},
     "output_type": "display_data"
    }
   ],
   "source": [
    "height_vec['Tom']"
   ]
  },
  {
   "cell_type": "code",
   "execution_count": 113,
   "metadata": {},
   "outputs": [
    {
     "data": {
      "text/html": [
       "<strong>Sherry:</strong> 173"
      ],
      "text/latex": [
       "\\textbf{Sherry:} 173"
      ],
      "text/markdown": [
       "**Sherry:** 173"
      ],
      "text/plain": [
       "Sherry \n",
       "   173 "
      ]
     },
     "metadata": {},
     "output_type": "display_data"
    }
   ],
   "source": [
    "height_vec['Sherry']"
   ]
  },
  {
   "cell_type": "code",
   "execution_count": 114,
   "metadata": {},
   "outputs": [
    {
     "data": {
      "text/html": [
       "<dl class=dl-horizontal>\n",
       "\t<dt>Tom</dt>\n",
       "\t\t<dd>180</dd>\n",
       "\t<dt>Sherry</dt>\n",
       "\t\t<dd>173</dd>\n",
       "</dl>\n"
      ],
      "text/latex": [
       "\\begin{description*}\n",
       "\\item[Tom] 180\n",
       "\\item[Sherry] 173\n",
       "\\end{description*}\n"
      ],
      "text/markdown": [
       "Tom\n",
       ":   180Sherry\n",
       ":   173\n",
       "\n"
      ],
      "text/plain": [
       "   Tom Sherry \n",
       "   180    173 "
      ]
     },
     "metadata": {},
     "output_type": "display_data"
    }
   ],
   "source": [
    "height_vec[c('Tom','Sherry')]"
   ]
  },
  {
   "cell_type": "code",
   "execution_count": 117,
   "metadata": {},
   "outputs": [
    {
     "data": {
      "text/html": [
       "<strong>Tom:</strong> 180"
      ],
      "text/latex": [
       "\\textbf{Tom:} 180"
      ],
      "text/markdown": [
       "**Tom:** 180"
      ],
      "text/plain": [
       "Tom \n",
       "180 "
      ]
     },
     "metadata": {},
     "output_type": "display_data"
    }
   ],
   "source": [
    "height_vec[height_vec > 175]"
   ]
  },
  {
   "cell_type": "code",
   "execution_count": 118,
   "metadata": {},
   "outputs": [
    {
     "data": {
      "text/html": [
       "<strong>Tom:</strong> 180"
      ],
      "text/latex": [
       "\\textbf{Tom:} 180"
      ],
      "text/markdown": [
       "**Tom:** 180"
      ],
      "text/plain": [
       "Tom \n",
       "180 "
      ]
     },
     "metadata": {},
     "output_type": "display_data"
    }
   ],
   "source": [
    "height_vec[c(T,F,F)]"
   ]
  },
  {
   "cell_type": "code",
   "execution_count": 120,
   "metadata": {},
   "outputs": [
    {
     "data": {
      "text/html": [
       "<dl class=dl-horizontal>\n",
       "\t<dt>Tom</dt>\n",
       "\t\t<dd>FALSE</dd>\n",
       "\t<dt>Toby</dt>\n",
       "\t\t<dd>FALSE</dd>\n",
       "\t<dt>Sherry</dt>\n",
       "\t\t<dd>TRUE</dd>\n",
       "</dl>\n"
      ],
      "text/latex": [
       "\\begin{description*}\n",
       "\\item[Tom] FALSE\n",
       "\\item[Toby] FALSE\n",
       "\\item[Sherry] TRUE\n",
       "\\end{description*}\n"
      ],
      "text/markdown": [
       "Tom\n",
       ":   FALSEToby\n",
       ":   FALSESherry\n",
       ":   TRUE\n",
       "\n"
      ],
      "text/plain": [
       "   Tom   Toby Sherry \n",
       " FALSE  FALSE   TRUE "
      ]
     },
     "metadata": {},
     "output_type": "display_data"
    }
   ],
   "source": [
    "height_vec > 170 & height_vec < 175"
   ]
  },
  {
   "cell_type": "code",
   "execution_count": 121,
   "metadata": {},
   "outputs": [
    {
     "data": {
      "text/html": [
       "<strong>Sherry:</strong> 173"
      ],
      "text/latex": [
       "\\textbf{Sherry:} 173"
      ],
      "text/markdown": [
       "**Sherry:** 173"
      ],
      "text/plain": [
       "Sherry \n",
       "   173 "
      ]
     },
     "metadata": {},
     "output_type": "display_data"
    }
   ],
   "source": [
    "height_vec[height_vec > 170 & height_vec < 175]"
   ]
  },
  {
   "cell_type": "code",
   "execution_count": 123,
   "metadata": {},
   "outputs": [
    {
     "data": {
      "text/html": [
       "<dl class=dl-horizontal>\n",
       "\t<dt>Tom</dt>\n",
       "\t\t<dd>180</dd>\n",
       "\t<dt>Toby</dt>\n",
       "\t\t<dd>169</dd>\n",
       "</dl>\n"
      ],
      "text/latex": [
       "\\begin{description*}\n",
       "\\item[Tom] 180\n",
       "\\item[Toby] 169\n",
       "\\end{description*}\n"
      ],
      "text/markdown": [
       "Tom\n",
       ":   180Toby\n",
       ":   169\n",
       "\n"
      ],
      "text/plain": [
       " Tom Toby \n",
       " 180  169 "
      ]
     },
     "metadata": {},
     "output_type": "display_data"
    }
   ],
   "source": [
    "height_vec[height_vec < 170 | height_vec > 175]"
   ]
  },
  {
   "cell_type": "code",
   "execution_count": 124,
   "metadata": {},
   "outputs": [],
   "source": [
    "#p38 example\n",
    "h=c(180,169,173)\n",
    "w=c(73,87,43)"
   ]
  },
  {
   "cell_type": "code",
   "execution_count": 126,
   "metadata": {},
   "outputs": [],
   "source": [
    "bmi = w/(h/100)^2"
   ]
  },
  {
   "cell_type": "code",
   "execution_count": 127,
   "metadata": {},
   "outputs": [],
   "source": [
    "names(bmi) = c(\"Brian\",\"Toby\",\"Sherry\")"
   ]
  },
  {
   "cell_type": "code",
   "execution_count": 128,
   "metadata": {},
   "outputs": [
    {
     "data": {
      "text/html": [
       "<dl class=dl-horizontal>\n",
       "\t<dt>Brian</dt>\n",
       "\t\t<dd>22.5308641975309</dd>\n",
       "\t<dt>Toby</dt>\n",
       "\t\t<dd>30.4611183081825</dd>\n",
       "\t<dt>Sherry</dt>\n",
       "\t\t<dd>14.367336028601</dd>\n",
       "</dl>\n"
      ],
      "text/latex": [
       "\\begin{description*}\n",
       "\\item[Brian] 22.5308641975309\n",
       "\\item[Toby] 30.4611183081825\n",
       "\\item[Sherry] 14.367336028601\n",
       "\\end{description*}\n"
      ],
      "text/markdown": [
       "Brian\n",
       ":   22.5308641975309Toby\n",
       ":   30.4611183081825Sherry\n",
       ":   14.367336028601\n",
       "\n"
      ],
      "text/plain": [
       "   Brian     Toby   Sherry \n",
       "22.53086 30.46112 14.36734 "
      ]
     },
     "metadata": {},
     "output_type": "display_data"
    }
   ],
   "source": [
    "bmi"
   ]
  },
  {
   "cell_type": "code",
   "execution_count": 129,
   "metadata": {},
   "outputs": [
    {
     "name": "stdout",
     "output_type": "stream",
     "text": [
      "    Toby   Sherry \n",
      "30.46112 14.36734 \n"
     ]
    }
   ],
   "source": [
    "print( bmi[bmi < 18.5 | bmi >= 24] )"
   ]
  },
  {
   "cell_type": "markdown",
   "metadata": {},
   "source": [
    "### seq(),rep(),paste()"
   ]
  },
  {
   "cell_type": "code",
   "execution_count": 130,
   "metadata": {},
   "outputs": [],
   "source": [
    "?seq"
   ]
  },
  {
   "cell_type": "code",
   "execution_count": 131,
   "metadata": {},
   "outputs": [
    {
     "data": {
      "text/html": [
       "<ol class=list-inline>\n",
       "\t<li>1</li>\n",
       "\t<li>2</li>\n",
       "\t<li>3</li>\n",
       "\t<li>4</li>\n",
       "\t<li>5</li>\n",
       "\t<li>6</li>\n",
       "\t<li>7</li>\n",
       "\t<li>8</li>\n",
       "\t<li>9</li>\n",
       "\t<li>10</li>\n",
       "\t<li>11</li>\n",
       "\t<li>12</li>\n",
       "\t<li>13</li>\n",
       "\t<li>14</li>\n",
       "\t<li>15</li>\n",
       "\t<li>16</li>\n",
       "\t<li>17</li>\n",
       "\t<li>18</li>\n",
       "\t<li>19</li>\n",
       "\t<li>20</li>\n",
       "</ol>\n"
      ],
      "text/latex": [
       "\\begin{enumerate*}\n",
       "\\item 1\n",
       "\\item 2\n",
       "\\item 3\n",
       "\\item 4\n",
       "\\item 5\n",
       "\\item 6\n",
       "\\item 7\n",
       "\\item 8\n",
       "\\item 9\n",
       "\\item 10\n",
       "\\item 11\n",
       "\\item 12\n",
       "\\item 13\n",
       "\\item 14\n",
       "\\item 15\n",
       "\\item 16\n",
       "\\item 17\n",
       "\\item 18\n",
       "\\item 19\n",
       "\\item 20\n",
       "\\end{enumerate*}\n"
      ],
      "text/markdown": [
       "1. 1\n",
       "2. 2\n",
       "3. 3\n",
       "4. 4\n",
       "5. 5\n",
       "6. 6\n",
       "7. 7\n",
       "8. 8\n",
       "9. 9\n",
       "10. 10\n",
       "11. 11\n",
       "12. 12\n",
       "13. 13\n",
       "14. 14\n",
       "15. 15\n",
       "16. 16\n",
       "17. 17\n",
       "18. 18\n",
       "19. 19\n",
       "20. 20\n",
       "\n",
       "\n"
      ],
      "text/plain": [
       " [1]  1  2  3  4  5  6  7  8  9 10 11 12 13 14 15 16 17 18 19 20"
      ]
     },
     "metadata": {},
     "output_type": "display_data"
    }
   ],
   "source": [
    "seq(from = 1,to = 20)"
   ]
  },
  {
   "cell_type": "code",
   "execution_count": 132,
   "metadata": {},
   "outputs": [
    {
     "data": {
      "text/html": [
       "<ol class=list-inline>\n",
       "\t<li>20</li>\n",
       "\t<li>19</li>\n",
       "\t<li>18</li>\n",
       "\t<li>17</li>\n",
       "\t<li>16</li>\n",
       "\t<li>15</li>\n",
       "\t<li>14</li>\n",
       "\t<li>13</li>\n",
       "\t<li>12</li>\n",
       "\t<li>11</li>\n",
       "\t<li>10</li>\n",
       "\t<li>9</li>\n",
       "\t<li>8</li>\n",
       "\t<li>7</li>\n",
       "\t<li>6</li>\n",
       "\t<li>5</li>\n",
       "\t<li>4</li>\n",
       "\t<li>3</li>\n",
       "\t<li>2</li>\n",
       "\t<li>1</li>\n",
       "</ol>\n"
      ],
      "text/latex": [
       "\\begin{enumerate*}\n",
       "\\item 20\n",
       "\\item 19\n",
       "\\item 18\n",
       "\\item 17\n",
       "\\item 16\n",
       "\\item 15\n",
       "\\item 14\n",
       "\\item 13\n",
       "\\item 12\n",
       "\\item 11\n",
       "\\item 10\n",
       "\\item 9\n",
       "\\item 8\n",
       "\\item 7\n",
       "\\item 6\n",
       "\\item 5\n",
       "\\item 4\n",
       "\\item 3\n",
       "\\item 2\n",
       "\\item 1\n",
       "\\end{enumerate*}\n"
      ],
      "text/markdown": [
       "1. 20\n",
       "2. 19\n",
       "3. 18\n",
       "4. 17\n",
       "5. 16\n",
       "6. 15\n",
       "7. 14\n",
       "8. 13\n",
       "9. 12\n",
       "10. 11\n",
       "11. 10\n",
       "12. 9\n",
       "13. 8\n",
       "14. 7\n",
       "15. 6\n",
       "16. 5\n",
       "17. 4\n",
       "18. 3\n",
       "19. 2\n",
       "20. 1\n",
       "\n",
       "\n"
      ],
      "text/plain": [
       " [1] 20 19 18 17 16 15 14 13 12 11 10  9  8  7  6  5  4  3  2  1"
      ]
     },
     "metadata": {},
     "output_type": "display_data"
    }
   ],
   "source": [
    "seq(from=20,to=1)"
   ]
  },
  {
   "cell_type": "code",
   "execution_count": 133,
   "metadata": {},
   "outputs": [
    {
     "data": {
      "text/html": [
       "<ol class=list-inline>\n",
       "\t<li>1</li>\n",
       "\t<li>3</li>\n",
       "\t<li>5</li>\n",
       "\t<li>7</li>\n",
       "\t<li>9</li>\n",
       "\t<li>11</li>\n",
       "\t<li>13</li>\n",
       "\t<li>15</li>\n",
       "\t<li>17</li>\n",
       "\t<li>19</li>\n",
       "</ol>\n"
      ],
      "text/latex": [
       "\\begin{enumerate*}\n",
       "\\item 1\n",
       "\\item 3\n",
       "\\item 5\n",
       "\\item 7\n",
       "\\item 9\n",
       "\\item 11\n",
       "\\item 13\n",
       "\\item 15\n",
       "\\item 17\n",
       "\\item 19\n",
       "\\end{enumerate*}\n"
      ],
      "text/markdown": [
       "1. 1\n",
       "2. 3\n",
       "3. 5\n",
       "4. 7\n",
       "5. 9\n",
       "6. 11\n",
       "7. 13\n",
       "8. 15\n",
       "9. 17\n",
       "10. 19\n",
       "\n",
       "\n"
      ],
      "text/plain": [
       " [1]  1  3  5  7  9 11 13 15 17 19"
      ]
     },
     "metadata": {},
     "output_type": "display_data"
    }
   ],
   "source": [
    "seq(from=1,to=20,by=2)"
   ]
  },
  {
   "cell_type": "code",
   "execution_count": 134,
   "metadata": {},
   "outputs": [
    {
     "data": {
      "text/html": [
       "<ol class=list-inline>\n",
       "\t<li>2</li>\n",
       "\t<li>4</li>\n",
       "\t<li>6</li>\n",
       "\t<li>8</li>\n",
       "\t<li>10</li>\n",
       "\t<li>12</li>\n",
       "\t<li>14</li>\n",
       "\t<li>16</li>\n",
       "\t<li>18</li>\n",
       "\t<li>20</li>\n",
       "</ol>\n"
      ],
      "text/latex": [
       "\\begin{enumerate*}\n",
       "\\item 2\n",
       "\\item 4\n",
       "\\item 6\n",
       "\\item 8\n",
       "\\item 10\n",
       "\\item 12\n",
       "\\item 14\n",
       "\\item 16\n",
       "\\item 18\n",
       "\\item 20\n",
       "\\end{enumerate*}\n"
      ],
      "text/markdown": [
       "1. 2\n",
       "2. 4\n",
       "3. 6\n",
       "4. 8\n",
       "5. 10\n",
       "6. 12\n",
       "7. 14\n",
       "8. 16\n",
       "9. 18\n",
       "10. 20\n",
       "\n",
       "\n"
      ],
      "text/plain": [
       " [1]  2  4  6  8 10 12 14 16 18 20"
      ]
     },
     "metadata": {},
     "output_type": "display_data"
    }
   ],
   "source": [
    "seq(from=2,to=20,by=2)"
   ]
  },
  {
   "cell_type": "code",
   "execution_count": 136,
   "metadata": {},
   "outputs": [
    {
     "data": {
      "text/html": [
       "<ol class=list-inline>\n",
       "\t<li>1</li>\n",
       "\t<li>5.75</li>\n",
       "\t<li>10.5</li>\n",
       "\t<li>15.25</li>\n",
       "\t<li>20</li>\n",
       "</ol>\n"
      ],
      "text/latex": [
       "\\begin{enumerate*}\n",
       "\\item 1\n",
       "\\item 5.75\n",
       "\\item 10.5\n",
       "\\item 15.25\n",
       "\\item 20\n",
       "\\end{enumerate*}\n"
      ],
      "text/markdown": [
       "1. 1\n",
       "2. 5.75\n",
       "3. 10.5\n",
       "4. 15.25\n",
       "5. 20\n",
       "\n",
       "\n"
      ],
      "text/plain": [
       "[1]  1.00  5.75 10.50 15.25 20.00"
      ]
     },
     "metadata": {},
     "output_type": "display_data"
    }
   ],
   "source": [
    "seq(from=1,to=20,length.out = 5)"
   ]
  },
  {
   "cell_type": "code",
   "execution_count": 137,
   "metadata": {},
   "outputs": [
    {
     "data": {
      "text/html": [
       "<ol class=list-inline>\n",
       "\t<li>1</li>\n",
       "\t<li>5.75</li>\n",
       "\t<li>10.5</li>\n",
       "\t<li>15.25</li>\n",
       "\t<li>20</li>\n",
       "</ol>\n"
      ],
      "text/latex": [
       "\\begin{enumerate*}\n",
       "\\item 1\n",
       "\\item 5.75\n",
       "\\item 10.5\n",
       "\\item 15.25\n",
       "\\item 20\n",
       "\\end{enumerate*}\n"
      ],
      "text/markdown": [
       "1. 1\n",
       "2. 5.75\n",
       "3. 10.5\n",
       "4. 15.25\n",
       "5. 20\n",
       "\n",
       "\n"
      ],
      "text/plain": [
       "[1]  1.00  5.75 10.50 15.25 20.00"
      ]
     },
     "metadata": {},
     "output_type": "display_data"
    }
   ],
   "source": [
    "seq(from = 1,to=20,length=5)"
   ]
  },
  {
   "cell_type": "code",
   "execution_count": 140,
   "metadata": {
    "scrolled": true
   },
   "outputs": [
    {
     "name": "stdout",
     "output_type": "stream",
     "text": [
      "[1] 1\n",
      "[1] 2\n",
      "[1] 3\n",
      "[1] 4\n",
      "[1] 5\n",
      "[1] 6\n",
      "[1] 7\n",
      "[1] 8\n",
      "[1] 9\n",
      "[1] 10\n",
      "[1] 11\n",
      "[1] 12\n",
      "[1] 13\n",
      "[1] 14\n",
      "[1] 15\n",
      "[1] 16\n",
      "[1] 17\n",
      "[1] 18\n",
      "[1] 19\n",
      "[1] 20\n"
     ]
    }
   ],
   "source": [
    "for(i in 1:20){\n",
    "  print(i)    \n",
    "}"
   ]
  },
  {
   "cell_type": "code",
   "execution_count": 141,
   "metadata": {},
   "outputs": [
    {
     "data": {
      "text/html": [
       "<ol class=list-inline>\n",
       "\t<li>20</li>\n",
       "\t<li>19</li>\n",
       "\t<li>18</li>\n",
       "\t<li>17</li>\n",
       "\t<li>16</li>\n",
       "\t<li>15</li>\n",
       "\t<li>14</li>\n",
       "\t<li>13</li>\n",
       "\t<li>12</li>\n",
       "\t<li>11</li>\n",
       "\t<li>10</li>\n",
       "\t<li>9</li>\n",
       "\t<li>8</li>\n",
       "\t<li>7</li>\n",
       "\t<li>6</li>\n",
       "\t<li>5</li>\n",
       "\t<li>4</li>\n",
       "\t<li>3</li>\n",
       "\t<li>2</li>\n",
       "\t<li>1</li>\n",
       "</ol>\n"
      ],
      "text/latex": [
       "\\begin{enumerate*}\n",
       "\\item 20\n",
       "\\item 19\n",
       "\\item 18\n",
       "\\item 17\n",
       "\\item 16\n",
       "\\item 15\n",
       "\\item 14\n",
       "\\item 13\n",
       "\\item 12\n",
       "\\item 11\n",
       "\\item 10\n",
       "\\item 9\n",
       "\\item 8\n",
       "\\item 7\n",
       "\\item 6\n",
       "\\item 5\n",
       "\\item 4\n",
       "\\item 3\n",
       "\\item 2\n",
       "\\item 1\n",
       "\\end{enumerate*}\n"
      ],
      "text/markdown": [
       "1. 20\n",
       "2. 19\n",
       "3. 18\n",
       "4. 17\n",
       "5. 16\n",
       "6. 15\n",
       "7. 14\n",
       "8. 13\n",
       "9. 12\n",
       "10. 11\n",
       "11. 10\n",
       "12. 9\n",
       "13. 8\n",
       "14. 7\n",
       "15. 6\n",
       "16. 5\n",
       "17. 4\n",
       "18. 3\n",
       "19. 2\n",
       "20. 1\n",
       "\n",
       "\n"
      ],
      "text/plain": [
       " [1] 20 19 18 17 16 15 14 13 12 11 10  9  8  7  6  5  4  3  2  1"
      ]
     },
     "metadata": {},
     "output_type": "display_data"
    }
   ],
   "source": [
    "20:1"
   ]
  },
  {
   "cell_type": "code",
   "execution_count": 142,
   "metadata": {},
   "outputs": [
    {
     "data": {
      "text/html": [
       "<ol class=list-inline>\n",
       "\t<li>1</li>\n",
       "\t<li>1</li>\n",
       "\t<li>1</li>\n",
       "\t<li>1</li>\n",
       "\t<li>1</li>\n",
       "</ol>\n"
      ],
      "text/latex": [
       "\\begin{enumerate*}\n",
       "\\item 1\n",
       "\\item 1\n",
       "\\item 1\n",
       "\\item 1\n",
       "\\item 1\n",
       "\\end{enumerate*}\n"
      ],
      "text/markdown": [
       "1. 1\n",
       "2. 1\n",
       "3. 1\n",
       "4. 1\n",
       "5. 1\n",
       "\n",
       "\n"
      ],
      "text/plain": [
       "[1] 1 1 1 1 1"
      ]
     },
     "metadata": {},
     "output_type": "display_data"
    }
   ],
   "source": [
    "rep(c(1),times=5)"
   ]
  },
  {
   "cell_type": "code",
   "execution_count": 143,
   "metadata": {},
   "outputs": [],
   "source": [
    "?rep"
   ]
  },
  {
   "cell_type": "code",
   "execution_count": 144,
   "metadata": {},
   "outputs": [
    {
     "data": {
      "text/html": [
       "<ol class=list-inline>\n",
       "\t<li>1</li>\n",
       "\t<li>2</li>\n",
       "\t<li>1</li>\n",
       "\t<li>2</li>\n",
       "\t<li>1</li>\n",
       "\t<li>2</li>\n",
       "\t<li>1</li>\n",
       "\t<li>2</li>\n",
       "\t<li>1</li>\n",
       "\t<li>2</li>\n",
       "</ol>\n"
      ],
      "text/latex": [
       "\\begin{enumerate*}\n",
       "\\item 1\n",
       "\\item 2\n",
       "\\item 1\n",
       "\\item 2\n",
       "\\item 1\n",
       "\\item 2\n",
       "\\item 1\n",
       "\\item 2\n",
       "\\item 1\n",
       "\\item 2\n",
       "\\end{enumerate*}\n"
      ],
      "text/markdown": [
       "1. 1\n",
       "2. 2\n",
       "3. 1\n",
       "4. 2\n",
       "5. 1\n",
       "6. 2\n",
       "7. 1\n",
       "8. 2\n",
       "9. 1\n",
       "10. 2\n",
       "\n",
       "\n"
      ],
      "text/plain": [
       " [1] 1 2 1 2 1 2 1 2 1 2"
      ]
     },
     "metadata": {},
     "output_type": "display_data"
    }
   ],
   "source": [
    "rep(c(1,2),times=5)"
   ]
  },
  {
   "cell_type": "code",
   "execution_count": 150,
   "metadata": {},
   "outputs": [
    {
     "data": {
      "text/html": [
       "<ol class=list-inline>\n",
       "\t<li>1</li>\n",
       "\t<li>1</li>\n",
       "\t<li>1</li>\n",
       "\t<li>2</li>\n",
       "\t<li>2</li>\n",
       "\t<li>2</li>\n",
       "\t<li>2</li>\n",
       "</ol>\n"
      ],
      "text/latex": [
       "\\begin{enumerate*}\n",
       "\\item 1\n",
       "\\item 1\n",
       "\\item 1\n",
       "\\item 2\n",
       "\\item 2\n",
       "\\item 2\n",
       "\\item 2\n",
       "\\end{enumerate*}\n"
      ],
      "text/markdown": [
       "1. 1\n",
       "2. 1\n",
       "3. 1\n",
       "4. 2\n",
       "5. 2\n",
       "6. 2\n",
       "7. 2\n",
       "\n",
       "\n"
      ],
      "text/plain": [
       "[1] 1 1 1 2 2 2 2"
      ]
     },
     "metadata": {},
     "output_type": "display_data"
    }
   ],
   "source": [
    "rep(c(1,2),times=c(3,4))"
   ]
  },
  {
   "cell_type": "code",
   "execution_count": 145,
   "metadata": {},
   "outputs": [
    {
     "data": {
      "text/html": [
       "<ol class=list-inline>\n",
       "\t<li>1</li>\n",
       "\t<li>1</li>\n",
       "\t<li>1</li>\n",
       "\t<li>1</li>\n",
       "\t<li>1</li>\n",
       "\t<li>2</li>\n",
       "\t<li>2</li>\n",
       "\t<li>2</li>\n",
       "\t<li>2</li>\n",
       "\t<li>2</li>\n",
       "</ol>\n"
      ],
      "text/latex": [
       "\\begin{enumerate*}\n",
       "\\item 1\n",
       "\\item 1\n",
       "\\item 1\n",
       "\\item 1\n",
       "\\item 1\n",
       "\\item 2\n",
       "\\item 2\n",
       "\\item 2\n",
       "\\item 2\n",
       "\\item 2\n",
       "\\end{enumerate*}\n"
      ],
      "text/markdown": [
       "1. 1\n",
       "2. 1\n",
       "3. 1\n",
       "4. 1\n",
       "5. 1\n",
       "6. 2\n",
       "7. 2\n",
       "8. 2\n",
       "9. 2\n",
       "10. 2\n",
       "\n",
       "\n"
      ],
      "text/plain": [
       " [1] 1 1 1 1 1 2 2 2 2 2"
      ]
     },
     "metadata": {},
     "output_type": "display_data"
    }
   ],
   "source": [
    "rep(c(1,2),each=5)"
   ]
  },
  {
   "cell_type": "code",
   "execution_count": 151,
   "metadata": {},
   "outputs": [
    {
     "data": {
      "text/html": [
       "<ol class=list-inline>\n",
       "\t<li>1</li>\n",
       "\t<li>2</li>\n",
       "\t<li>1</li>\n",
       "\t<li>2</li>\n",
       "\t<li>1</li>\n",
       "</ol>\n"
      ],
      "text/latex": [
       "\\begin{enumerate*}\n",
       "\\item 1\n",
       "\\item 2\n",
       "\\item 1\n",
       "\\item 2\n",
       "\\item 1\n",
       "\\end{enumerate*}\n"
      ],
      "text/markdown": [
       "1. 1\n",
       "2. 2\n",
       "3. 1\n",
       "4. 2\n",
       "5. 1\n",
       "\n",
       "\n"
      ],
      "text/plain": [
       "[1] 1 2 1 2 1"
      ]
     },
     "metadata": {},
     "output_type": "display_data"
    }
   ],
   "source": [
    "rep(c(1,2),length.out = 5)"
   ]
  },
  {
   "cell_type": "code",
   "execution_count": 152,
   "metadata": {},
   "outputs": [
    {
     "data": {
      "text/html": [
       "<ol class=list-inline>\n",
       "\t<li>1</li>\n",
       "\t<li>2</li>\n",
       "\t<li>1</li>\n",
       "\t<li>2</li>\n",
       "\t<li>1</li>\n",
       "</ol>\n"
      ],
      "text/latex": [
       "\\begin{enumerate*}\n",
       "\\item 1\n",
       "\\item 2\n",
       "\\item 1\n",
       "\\item 2\n",
       "\\item 1\n",
       "\\end{enumerate*}\n"
      ],
      "text/markdown": [
       "1. 1\n",
       "2. 2\n",
       "3. 1\n",
       "4. 2\n",
       "5. 1\n",
       "\n",
       "\n"
      ],
      "text/plain": [
       "[1] 1 2 1 2 1"
      ]
     },
     "metadata": {},
     "output_type": "display_data"
    }
   ],
   "source": [
    "rep_len(c(1,2),5)"
   ]
  },
  {
   "cell_type": "code",
   "execution_count": 153,
   "metadata": {},
   "outputs": [
    {
     "data": {
      "text/html": [
       "'the big bang theory'"
      ],
      "text/latex": [
       "'the big bang theory'"
      ],
      "text/markdown": [
       "'the big bang theory'"
      ],
      "text/plain": [
       "[1] \"the big bang theory\""
      ]
     },
     "metadata": {},
     "output_type": "display_data"
    }
   ],
   "source": [
    "paste(\"the\",\"big\",\"bang\",\"theory\")"
   ]
  },
  {
   "cell_type": "code",
   "execution_count": 160,
   "metadata": {},
   "outputs": [
    {
     "data": {
      "text/html": [
       "'the-big-bang-theory'"
      ],
      "text/latex": [
       "'the-big-bang-theory'"
      ],
      "text/markdown": [
       "'the-big-bang-theory'"
      ],
      "text/plain": [
       "[1] \"the-big-bang-theory\""
      ]
     },
     "metadata": {},
     "output_type": "display_data"
    }
   ],
   "source": [
    "paste(\"the\",\"big\",\"bang\",\"theory\",sep='-')"
   ]
  },
  {
   "cell_type": "code",
   "execution_count": 161,
   "metadata": {},
   "outputs": [
    {
     "data": {
      "text/html": [
       "1"
      ],
      "text/latex": [
       "1"
      ],
      "text/markdown": [
       "1"
      ],
      "text/plain": [
       "[1] 1"
      ]
     },
     "metadata": {},
     "output_type": "display_data"
    }
   ],
   "source": [
    "length( paste(\"the\",\"big\",\"bang\",\"theory\",sep='-') )"
   ]
  },
  {
   "cell_type": "code",
   "execution_count": 163,
   "metadata": {},
   "outputs": [
    {
     "data": {
      "text/html": [
       "<ol class=list-inline>\n",
       "\t<li>'big-1'</li>\n",
       "\t<li>'bang-2'</li>\n",
       "</ol>\n"
      ],
      "text/latex": [
       "\\begin{enumerate*}\n",
       "\\item 'big-1'\n",
       "\\item 'bang-2'\n",
       "\\end{enumerate*}\n"
      ],
      "text/markdown": [
       "1. 'big-1'\n",
       "2. 'bang-2'\n",
       "\n",
       "\n"
      ],
      "text/plain": [
       "[1] \"big-1\"  \"bang-2\""
      ]
     },
     "metadata": {},
     "output_type": "display_data"
    }
   ],
   "source": [
    "paste(c(\"big\",\"bang\"),c(1,2),sep='-')"
   ]
  },
  {
   "cell_type": "code",
   "execution_count": 164,
   "metadata": {},
   "outputs": [
    {
     "data": {
      "text/html": [
       "2"
      ],
      "text/latex": [
       "2"
      ],
      "text/markdown": [
       "2"
      ],
      "text/plain": [
       "[1] 2"
      ]
     },
     "metadata": {},
     "output_type": "display_data"
    }
   ],
   "source": [
    "length( paste(c(\"big\",\"bang\"),c(1,2),sep='-') )"
   ]
  },
  {
   "cell_type": "code",
   "execution_count": 166,
   "metadata": {},
   "outputs": [
    {
     "data": {
      "text/html": [
       "'big-1 bang-2'"
      ],
      "text/latex": [
       "'big-1 bang-2'"
      ],
      "text/markdown": [
       "'big-1 bang-2'"
      ],
      "text/plain": [
       "[1] \"big-1 bang-2\""
      ]
     },
     "metadata": {},
     "output_type": "display_data"
    }
   ],
   "source": [
    "paste(c(\"big\",\"bang\"),c(1,2),sep='-',collapse = ' ')"
   ]
  },
  {
   "cell_type": "code",
   "execution_count": 167,
   "metadata": {},
   "outputs": [
    {
     "data": {
      "text/html": [
       "1"
      ],
      "text/latex": [
       "1"
      ],
      "text/markdown": [
       "1"
      ],
      "text/plain": [
       "[1] 1"
      ]
     },
     "metadata": {},
     "output_type": "display_data"
    }
   ],
   "source": [
    "length( paste(c(\"big\",\"bang\"),c(1,2),sep='-',collapse = ' ') )"
   ]
  },
  {
   "cell_type": "code",
   "execution_count": 168,
   "metadata": {},
   "outputs": [
    {
     "data": {
      "text/html": [
       "<ol class=list-inline>\n",
       "\t<li>'2'</li>\n",
       "\t<li>'TRUE'</li>\n",
       "\t<li>'1+4i'</li>\n",
       "\t<li>'aaa'</li>\n",
       "</ol>\n"
      ],
      "text/latex": [
       "\\begin{enumerate*}\n",
       "\\item '2'\n",
       "\\item 'TRUE'\n",
       "\\item '1+4i'\n",
       "\\item 'aaa'\n",
       "\\end{enumerate*}\n"
      ],
      "text/markdown": [
       "1. '2'\n",
       "2. 'TRUE'\n",
       "3. '1+4i'\n",
       "4. 'aaa'\n",
       "\n",
       "\n"
      ],
      "text/plain": [
       "[1] \"2\"    \"TRUE\" \"1+4i\" \"aaa\" "
      ]
     },
     "metadata": {},
     "output_type": "display_data"
    }
   ],
   "source": [
    "c(2,T,1+4i,'aaa')"
   ]
  },
  {
   "cell_type": "code",
   "execution_count": 169,
   "metadata": {},
   "outputs": [
    {
     "data": {
      "text/html": [
       "<ol class=list-inline>\n",
       "\t<li>2+0i</li>\n",
       "\t<li>1+0i</li>\n",
       "\t<li>1+4i</li>\n",
       "</ol>\n"
      ],
      "text/latex": [
       "\\begin{enumerate*}\n",
       "\\item 2+0i\n",
       "\\item 1+0i\n",
       "\\item 1+4i\n",
       "\\end{enumerate*}\n"
      ],
      "text/markdown": [
       "1. 2+0i\n",
       "2. 1+0i\n",
       "3. 1+4i\n",
       "\n",
       "\n"
      ],
      "text/plain": [
       "[1] 2+0i 1+0i 1+4i"
      ]
     },
     "metadata": {},
     "output_type": "display_data"
    }
   ],
   "source": [
    "c(2,T,1+4i)"
   ]
  },
  {
   "cell_type": "code",
   "execution_count": 170,
   "metadata": {},
   "outputs": [
    {
     "data": {
      "text/html": [
       "<ol class=list-inline>\n",
       "\t<li>2</li>\n",
       "\t<li>1</li>\n",
       "</ol>\n"
      ],
      "text/latex": [
       "\\begin{enumerate*}\n",
       "\\item 2\n",
       "\\item 1\n",
       "\\end{enumerate*}\n"
      ],
      "text/markdown": [
       "1. 2\n",
       "2. 1\n",
       "\n",
       "\n"
      ],
      "text/plain": [
       "[1] 2 1"
      ]
     },
     "metadata": {},
     "output_type": "display_data"
    }
   ],
   "source": [
    "c(2,T)"
   ]
  },
  {
   "cell_type": "code",
   "execution_count": 171,
   "metadata": {},
   "outputs": [],
   "source": [
    "?sum"
   ]
  },
  {
   "cell_type": "code",
   "execution_count": 176,
   "metadata": {},
   "outputs": [
    {
     "data": {
      "text/html": [
       "1"
      ],
      "text/latex": [
       "1"
      ],
      "text/markdown": [
       "1"
      ],
      "text/plain": [
       "[1] 1"
      ]
     },
     "metadata": {},
     "output_type": "display_data"
    }
   ],
   "source": [
    "sum(height_vec > 175)"
   ]
  },
  {
   "cell_type": "code",
   "execution_count": 177,
   "metadata": {},
   "outputs": [
    {
     "data": {
      "text/html": [
       "<ol class=list-inline>\n",
       "\t<li>180</li>\n",
       "\t<li>169</li>\n",
       "\t<li>173</li>\n",
       "</ol>\n"
      ],
      "text/latex": [
       "\\begin{enumerate*}\n",
       "\\item 180\n",
       "\\item 169\n",
       "\\item 173\n",
       "\\end{enumerate*}\n"
      ],
      "text/markdown": [
       "1. 180\n",
       "2. 169\n",
       "3. 173\n",
       "\n",
       "\n"
      ],
      "text/plain": [
       "[1] 180 169 173"
      ]
     },
     "metadata": {},
     "output_type": "display_data"
    }
   ],
   "source": [
    "h"
   ]
  },
  {
   "cell_type": "code",
   "execution_count": 178,
   "metadata": {},
   "outputs": [
    {
     "data": {
      "text/html": [
       "<ol class=list-inline>\n",
       "\t<li>73</li>\n",
       "\t<li>87</li>\n",
       "\t<li>43</li>\n",
       "</ol>\n"
      ],
      "text/latex": [
       "\\begin{enumerate*}\n",
       "\\item 73\n",
       "\\item 87\n",
       "\\item 43\n",
       "\\end{enumerate*}\n"
      ],
      "text/markdown": [
       "1. 73\n",
       "2. 87\n",
       "3. 43\n",
       "\n",
       "\n"
      ],
      "text/plain": [
       "[1] 73 87 43"
      ]
     },
     "metadata": {},
     "output_type": "display_data"
    }
   ],
   "source": [
    "w"
   ]
  },
  {
   "cell_type": "code",
   "execution_count": 179,
   "metadata": {},
   "outputs": [],
   "source": [
    "?matrix"
   ]
  },
  {
   "cell_type": "code",
   "execution_count": 180,
   "metadata": {},
   "outputs": [
    {
     "data": {
      "text/html": [
       "<table>\n",
       "<tbody>\n",
       "\t<tr><td>180</td><td>73 </td></tr>\n",
       "\t<tr><td>169</td><td>87 </td></tr>\n",
       "\t<tr><td>173</td><td>43 </td></tr>\n",
       "</tbody>\n",
       "</table>\n"
      ],
      "text/latex": [
       "\\begin{tabular}{ll}\n",
       "\t 180 & 73 \\\\\n",
       "\t 169 & 87 \\\\\n",
       "\t 173 & 43 \\\\\n",
       "\\end{tabular}\n"
      ],
      "text/markdown": [
       "\n",
       "| 180 | 73  | \n",
       "| 169 | 87  | \n",
       "| 173 | 43  | \n",
       "\n",
       "\n"
      ],
      "text/plain": [
       "     [,1] [,2]\n",
       "[1,] 180  73  \n",
       "[2,] 169  87  \n",
       "[3,] 173  43  "
      ]
     },
     "metadata": {},
     "output_type": "display_data"
    }
   ],
   "source": [
    "matrix(data=c(h,w),byrow=F,nrow=3)"
   ]
  },
  {
   "cell_type": "code",
   "execution_count": 181,
   "metadata": {},
   "outputs": [],
   "source": [
    "kevin = c(85,73)\n",
    "marry = c(72,64)\n",
    "jerry = c(59,66)"
   ]
  },
  {
   "cell_type": "code",
   "execution_count": 185,
   "metadata": {},
   "outputs": [
    {
     "data": {
      "text/html": [
       "<table>\n",
       "<tbody>\n",
       "\t<tr><td>85</td><td>73</td></tr>\n",
       "\t<tr><td>72</td><td>64</td></tr>\n",
       "\t<tr><td>59</td><td>66</td></tr>\n",
       "</tbody>\n",
       "</table>\n"
      ],
      "text/latex": [
       "\\begin{tabular}{ll}\n",
       "\t 85 & 73\\\\\n",
       "\t 72 & 64\\\\\n",
       "\t 59 & 66\\\\\n",
       "\\end{tabular}\n"
      ],
      "text/markdown": [
       "\n",
       "| 85 | 73 | \n",
       "| 72 | 64 | \n",
       "| 59 | 66 | \n",
       "\n",
       "\n"
      ],
      "text/plain": [
       "     [,1] [,2]\n",
       "[1,] 85   73  \n",
       "[2,] 72   64  \n",
       "[3,] 59   66  "
      ]
     },
     "metadata": {},
     "output_type": "display_data"
    }
   ],
   "source": [
    "mat = matrix(data=c(kevin,marry,jerry),byrow=T,nrow=3 )\n",
    "mat"
   ]
  },
  {
   "cell_type": "code",
   "execution_count": 187,
   "metadata": {},
   "outputs": [],
   "source": [
    "colnames(mat) = c(\"first\",\"second\")"
   ]
  },
  {
   "cell_type": "code",
   "execution_count": 188,
   "metadata": {},
   "outputs": [
    {
     "data": {
      "text/html": [
       "<table>\n",
       "<thead><tr><th scope=col>first</th><th scope=col>second</th></tr></thead>\n",
       "<tbody>\n",
       "\t<tr><td>85</td><td>73</td></tr>\n",
       "\t<tr><td>72</td><td>64</td></tr>\n",
       "\t<tr><td>59</td><td>66</td></tr>\n",
       "</tbody>\n",
       "</table>\n"
      ],
      "text/latex": [
       "\\begin{tabular}{ll}\n",
       " first & second\\\\\n",
       "\\hline\n",
       "\t 85 & 73\\\\\n",
       "\t 72 & 64\\\\\n",
       "\t 59 & 66\\\\\n",
       "\\end{tabular}\n"
      ],
      "text/markdown": [
       "\n",
       "first | second | \n",
       "|---|---|---|\n",
       "| 85 | 73 | \n",
       "| 72 | 64 | \n",
       "| 59 | 66 | \n",
       "\n",
       "\n"
      ],
      "text/plain": [
       "     first second\n",
       "[1,] 85    73    \n",
       "[2,] 72    64    \n",
       "[3,] 59    66    "
      ]
     },
     "metadata": {},
     "output_type": "display_data"
    }
   ],
   "source": [
    "mat"
   ]
  },
  {
   "cell_type": "code",
   "execution_count": 189,
   "metadata": {},
   "outputs": [],
   "source": [
    "rownames(mat) = c('kevin', 'marry', 'jerry')"
   ]
  },
  {
   "cell_type": "code",
   "execution_count": 190,
   "metadata": {},
   "outputs": [
    {
     "data": {
      "text/html": [
       "<table>\n",
       "<thead><tr><th></th><th scope=col>first</th><th scope=col>second</th></tr></thead>\n",
       "<tbody>\n",
       "\t<tr><th scope=row>kevin</th><td>85</td><td>73</td></tr>\n",
       "\t<tr><th scope=row>marry</th><td>72</td><td>64</td></tr>\n",
       "\t<tr><th scope=row>jerry</th><td>59</td><td>66</td></tr>\n",
       "</tbody>\n",
       "</table>\n"
      ],
      "text/latex": [
       "\\begin{tabular}{r|ll}\n",
       "  & first & second\\\\\n",
       "\\hline\n",
       "\tkevin & 85 & 73\\\\\n",
       "\tmarry & 72 & 64\\\\\n",
       "\tjerry & 59 & 66\\\\\n",
       "\\end{tabular}\n"
      ],
      "text/markdown": [
       "\n",
       "| <!--/--> | first | second | \n",
       "|---|---|---|\n",
       "| kevin | 85 | 73 | \n",
       "| marry | 72 | 64 | \n",
       "| jerry | 59 | 66 | \n",
       "\n",
       "\n"
      ],
      "text/plain": [
       "      first second\n",
       "kevin 85    73    \n",
       "marry 72    64    \n",
       "jerry 59    66    "
      ]
     },
     "metadata": {},
     "output_type": "display_data"
    }
   ],
   "source": [
    "mat"
   ]
  },
  {
   "cell_type": "code",
   "execution_count": 192,
   "metadata": {},
   "outputs": [
    {
     "data": {
      "text/html": [
       "'integer'"
      ],
      "text/latex": [
       "'integer'"
      ],
      "text/markdown": [
       "'integer'"
      ],
      "text/plain": [
       "[1] \"integer\""
      ]
     },
     "metadata": {},
     "output_type": "display_data"
    }
   ],
   "source": [
    "class( dim(mat) )"
   ]
  },
  {
   "cell_type": "code",
   "execution_count": 197,
   "metadata": {},
   "outputs": [
    {
     "data": {
      "text/html": [
       "3"
      ],
      "text/latex": [
       "3"
      ],
      "text/markdown": [
       "3"
      ],
      "text/plain": [
       "[1] 3"
      ]
     },
     "metadata": {},
     "output_type": "display_data"
    }
   ],
   "source": [
    "dim(mat)[1]"
   ]
  },
  {
   "cell_type": "code",
   "execution_count": 198,
   "metadata": {},
   "outputs": [
    {
     "data": {
      "text/html": [
       "3"
      ],
      "text/latex": [
       "3"
      ],
      "text/markdown": [
       "3"
      ],
      "text/plain": [
       "[1] 3"
      ]
     },
     "metadata": {},
     "output_type": "display_data"
    }
   ],
   "source": [
    "nrow(mat)"
   ]
  },
  {
   "cell_type": "code",
   "execution_count": 196,
   "metadata": {},
   "outputs": [
    {
     "data": {
      "text/html": [
       "2"
      ],
      "text/latex": [
       "2"
      ],
      "text/markdown": [
       "2"
      ],
      "text/plain": [
       "[1] 2"
      ]
     },
     "metadata": {},
     "output_type": "display_data"
    }
   ],
   "source": [
    "dim(mat)[2]"
   ]
  },
  {
   "cell_type": "code",
   "execution_count": 199,
   "metadata": {},
   "outputs": [
    {
     "data": {
      "text/html": [
       "2"
      ],
      "text/latex": [
       "2"
      ],
      "text/markdown": [
       "2"
      ],
      "text/plain": [
       "[1] 2"
      ]
     },
     "metadata": {},
     "output_type": "display_data"
    }
   ],
   "source": [
    "ncol(mat)"
   ]
  },
  {
   "cell_type": "code",
   "execution_count": 200,
   "metadata": {},
   "outputs": [
    {
     "data": {
      "text/html": [
       "<table>\n",
       "<thead><tr><th></th><th scope=col>kevin</th><th scope=col>marry</th><th scope=col>jerry</th></tr></thead>\n",
       "<tbody>\n",
       "\t<tr><th scope=row>first</th><td>85</td><td>72</td><td>59</td></tr>\n",
       "\t<tr><th scope=row>second</th><td>73</td><td>64</td><td>66</td></tr>\n",
       "</tbody>\n",
       "</table>\n"
      ],
      "text/latex": [
       "\\begin{tabular}{r|lll}\n",
       "  & kevin & marry & jerry\\\\\n",
       "\\hline\n",
       "\tfirst & 85 & 72 & 59\\\\\n",
       "\tsecond & 73 & 64 & 66\\\\\n",
       "\\end{tabular}\n"
      ],
      "text/markdown": [
       "\n",
       "| <!--/--> | kevin | marry | jerry | \n",
       "|---|---|\n",
       "| first | 85 | 72 | 59 | \n",
       "| second | 73 | 64 | 66 | \n",
       "\n",
       "\n"
      ],
      "text/plain": [
       "       kevin marry jerry\n",
       "first  85    72    59   \n",
       "second 73    64    66   "
      ]
     },
     "metadata": {},
     "output_type": "display_data"
    }
   ],
   "source": [
    "t(mat)"
   ]
  },
  {
   "cell_type": "code",
   "execution_count": 203,
   "metadata": {},
   "outputs": [
    {
     "name": "stdout",
     "output_type": "stream",
     "text": [
      " first second \n",
      "    85     73 \n"
     ]
    }
   ],
   "source": [
    "print(mat[1,])"
   ]
  },
  {
   "cell_type": "code",
   "execution_count": 204,
   "metadata": {},
   "outputs": [
    {
     "name": "stdout",
     "output_type": "stream",
     "text": [
      "      first second\n",
      "kevin    85     73\n",
      "marry    72     64\n"
     ]
    }
   ],
   "source": [
    "print( mat[c(1,2),] )"
   ]
  },
  {
   "cell_type": "code",
   "execution_count": 205,
   "metadata": {},
   "outputs": [
    {
     "name": "stdout",
     "output_type": "stream",
     "text": [
      "kevin marry jerry \n",
      "   85    72    59 \n"
     ]
    }
   ],
   "source": [
    "print( mat[,1] )"
   ]
  },
  {
   "cell_type": "code",
   "execution_count": 206,
   "metadata": {},
   "outputs": [
    {
     "name": "stdout",
     "output_type": "stream",
     "text": [
      "[1] 85\n"
     ]
    }
   ],
   "source": [
    "print(mat[1,1])"
   ]
  },
  {
   "cell_type": "code",
   "execution_count": 208,
   "metadata": {},
   "outputs": [
    {
     "name": "stdout",
     "output_type": "stream",
     "text": [
      "      first second\n",
      "kevin    85     73\n",
      "marry    72     64\n",
      "jerry    59     66\n"
     ]
    }
   ],
   "source": [
    "print(mat[1:3,1:2])"
   ]
  },
  {
   "cell_type": "code",
   "execution_count": 210,
   "metadata": {},
   "outputs": [
    {
     "name": "stdout",
     "output_type": "stream",
     "text": [
      " first second \n",
      "    85     73 \n"
     ]
    }
   ],
   "source": [
    "print( mat['kevin',] )"
   ]
  },
  {
   "cell_type": "code",
   "execution_count": 211,
   "metadata": {},
   "outputs": [
    {
     "name": "stdout",
     "output_type": "stream",
     "text": [
      "      first second\n",
      "kevin    85     73\n",
      "jerry    59     66\n"
     ]
    }
   ],
   "source": [
    "print( mat[c('kevin','jerry'),] )"
   ]
  },
  {
   "cell_type": "code",
   "execution_count": 212,
   "metadata": {},
   "outputs": [
    {
     "name": "stdout",
     "output_type": "stream",
     "text": [
      "kevin marry jerry \n",
      "   85    72    59 \n"
     ]
    }
   ],
   "source": [
    "print( mat[,'first'] )"
   ]
  },
  {
   "cell_type": "code",
   "execution_count": 213,
   "metadata": {},
   "outputs": [
    {
     "name": "stdout",
     "output_type": "stream",
     "text": [
      "      first second\n",
      "kevin    85     73\n",
      "marry    72     64\n",
      "jerry    59     66\n"
     ]
    }
   ],
   "source": [
    "print( mat[,c('first','second')] )"
   ]
  },
  {
   "cell_type": "code",
   "execution_count": 217,
   "metadata": {},
   "outputs": [
    {
     "data": {
      "text/html": [
       "<table>\n",
       "<thead><tr><th></th><th scope=col>first</th><th scope=col>second</th></tr></thead>\n",
       "<tbody>\n",
       "\t<tr><th scope=row>kevin</th><td>85</td><td>73</td></tr>\n",
       "\t<tr><th scope=row>marry</th><td>72</td><td>64</td></tr>\n",
       "</tbody>\n",
       "</table>\n"
      ],
      "text/latex": [
       "\\begin{tabular}{r|ll}\n",
       "  & first & second\\\\\n",
       "\\hline\n",
       "\tkevin & 85 & 73\\\\\n",
       "\tmarry & 72 & 64\\\\\n",
       "\\end{tabular}\n"
      ],
      "text/markdown": [
       "\n",
       "| <!--/--> | first | second | \n",
       "|---|---|\n",
       "| kevin | 85 | 73 | \n",
       "| marry | 72 | 64 | \n",
       "\n",
       "\n"
      ],
      "text/plain": [
       "      first second\n",
       "kevin 85    73    \n",
       "marry 72    64    "
      ]
     },
     "metadata": {},
     "output_type": "display_data"
    }
   ],
   "source": [
    "mat[mat[,'first'] >= 60,]"
   ]
  },
  {
   "cell_type": "code",
   "execution_count": 220,
   "metadata": {},
   "outputs": [
    {
     "data": {
      "text/html": [
       "<table>\n",
       "<thead><tr><th></th><th scope=col>first</th><th scope=col>second</th></tr></thead>\n",
       "<tbody>\n",
       "\t<tr><th scope=row>kevin</th><td>85</td><td>73</td></tr>\n",
       "\t<tr><th scope=row>marry</th><td>72</td><td>64</td></tr>\n",
       "\t<tr><th scope=row>jerry</th><td>59</td><td>66</td></tr>\n",
       "\t<tr><th scope=row>sam</th><td>78</td><td>63</td></tr>\n",
       "</tbody>\n",
       "</table>\n"
      ],
      "text/latex": [
       "\\begin{tabular}{r|ll}\n",
       "  & first & second\\\\\n",
       "\\hline\n",
       "\tkevin & 85 & 73\\\\\n",
       "\tmarry & 72 & 64\\\\\n",
       "\tjerry & 59 & 66\\\\\n",
       "\tsam & 78 & 63\\\\\n",
       "\\end{tabular}\n"
      ],
      "text/markdown": [
       "\n",
       "| <!--/--> | first | second | \n",
       "|---|---|---|---|\n",
       "| kevin | 85 | 73 | \n",
       "| marry | 72 | 64 | \n",
       "| jerry | 59 | 66 | \n",
       "| sam | 78 | 63 | \n",
       "\n",
       "\n"
      ],
      "text/plain": [
       "      first second\n",
       "kevin 85    73    \n",
       "marry 72    64    \n",
       "jerry 59    66    \n",
       "sam   78    63    "
      ]
     },
     "metadata": {},
     "output_type": "display_data"
    }
   ],
   "source": [
    "sam = c(78,63)\n",
    "rbind(mat,sam)"
   ]
  },
  {
   "cell_type": "code",
   "execution_count": 222,
   "metadata": {},
   "outputs": [],
   "source": [
    "mat2 = rbind(mat,c(78,63))"
   ]
  },
  {
   "cell_type": "code",
   "execution_count": 226,
   "metadata": {},
   "outputs": [],
   "source": [
    "rownames(mat2)[nrow(mat2)] = 'sam'"
   ]
  },
  {
   "cell_type": "code",
   "execution_count": 228,
   "metadata": {},
   "outputs": [
    {
     "data": {
      "text/html": [
       "4"
      ],
      "text/latex": [
       "4"
      ],
      "text/markdown": [
       "4"
      ],
      "text/plain": [
       "[1] 4"
      ]
     },
     "metadata": {},
     "output_type": "display_data"
    }
   ],
   "source": [
    "nrow(mat2)"
   ]
  },
  {
   "cell_type": "code",
   "execution_count": 229,
   "metadata": {},
   "outputs": [],
   "source": [
    "third = c(82,77,70,64)"
   ]
  },
  {
   "cell_type": "code",
   "execution_count": 232,
   "metadata": {},
   "outputs": [],
   "source": [
    "mat3 = cbind(mat2,third)"
   ]
  },
  {
   "cell_type": "code",
   "execution_count": 233,
   "metadata": {},
   "outputs": [
    {
     "data": {
      "text/html": [
       "<table>\n",
       "<thead><tr><th></th><th scope=col>first</th><th scope=col>second</th><th scope=col>third</th></tr></thead>\n",
       "<tbody>\n",
       "\t<tr><th scope=row>kevin</th><td>85</td><td>73</td><td>82</td></tr>\n",
       "\t<tr><th scope=row>marry</th><td>72</td><td>64</td><td>77</td></tr>\n",
       "\t<tr><th scope=row>jerry</th><td>59</td><td>66</td><td>70</td></tr>\n",
       "\t<tr><th scope=row>sam</th><td>78</td><td>63</td><td>64</td></tr>\n",
       "</tbody>\n",
       "</table>\n"
      ],
      "text/latex": [
       "\\begin{tabular}{r|lll}\n",
       "  & first & second & third\\\\\n",
       "\\hline\n",
       "\tkevin & 85 & 73 & 82\\\\\n",
       "\tmarry & 72 & 64 & 77\\\\\n",
       "\tjerry & 59 & 66 & 70\\\\\n",
       "\tsam & 78 & 63 & 64\\\\\n",
       "\\end{tabular}\n"
      ],
      "text/markdown": [
       "\n",
       "| <!--/--> | first | second | third | \n",
       "|---|---|---|---|\n",
       "| kevin | 85 | 73 | 82 | \n",
       "| marry | 72 | 64 | 77 | \n",
       "| jerry | 59 | 66 | 70 | \n",
       "| sam | 78 | 63 | 64 | \n",
       "\n",
       "\n"
      ],
      "text/plain": [
       "      first second third\n",
       "kevin 85    73     82   \n",
       "marry 72    64     77   \n",
       "jerry 59    66     70   \n",
       "sam   78    63     64   "
      ]
     },
     "metadata": {},
     "output_type": "display_data"
    }
   ],
   "source": [
    "mat3"
   ]
  },
  {
   "cell_type": "code",
   "execution_count": 234,
   "metadata": {},
   "outputs": [
    {
     "data": {
      "text/html": [
       "<dl class=dl-horizontal>\n",
       "\t<dt>kevin</dt>\n",
       "\t\t<dd>240</dd>\n",
       "\t<dt>marry</dt>\n",
       "\t\t<dd>213</dd>\n",
       "\t<dt>jerry</dt>\n",
       "\t\t<dd>195</dd>\n",
       "\t<dt>sam</dt>\n",
       "\t\t<dd>205</dd>\n",
       "</dl>\n"
      ],
      "text/latex": [
       "\\begin{description*}\n",
       "\\item[kevin] 240\n",
       "\\item[marry] 213\n",
       "\\item[jerry] 195\n",
       "\\item[sam] 205\n",
       "\\end{description*}\n"
      ],
      "text/markdown": [
       "kevin\n",
       ":   240marry\n",
       ":   213jerry\n",
       ":   195sam\n",
       ":   205\n",
       "\n"
      ],
      "text/plain": [
       "kevin marry jerry   sam \n",
       "  240   213   195   205 "
      ]
     },
     "metadata": {},
     "output_type": "display_data"
    }
   ],
   "source": [
    "rowSums(mat3)"
   ]
  },
  {
   "cell_type": "code",
   "execution_count": 235,
   "metadata": {},
   "outputs": [
    {
     "data": {
      "text/html": [
       "<dl class=dl-horizontal>\n",
       "\t<dt>kevin</dt>\n",
       "\t\t<dd>80</dd>\n",
       "\t<dt>marry</dt>\n",
       "\t\t<dd>71</dd>\n",
       "\t<dt>jerry</dt>\n",
       "\t\t<dd>65</dd>\n",
       "\t<dt>sam</dt>\n",
       "\t\t<dd>68.3333333333333</dd>\n",
       "</dl>\n"
      ],
      "text/latex": [
       "\\begin{description*}\n",
       "\\item[kevin] 80\n",
       "\\item[marry] 71\n",
       "\\item[jerry] 65\n",
       "\\item[sam] 68.3333333333333\n",
       "\\end{description*}\n"
      ],
      "text/markdown": [
       "kevin\n",
       ":   80marry\n",
       ":   71jerry\n",
       ":   65sam\n",
       ":   68.3333333333333\n",
       "\n"
      ],
      "text/plain": [
       "   kevin    marry    jerry      sam \n",
       "80.00000 71.00000 65.00000 68.33333 "
      ]
     },
     "metadata": {},
     "output_type": "display_data"
    }
   ],
   "source": [
    "rowMeans(mat3)"
   ]
  },
  {
   "cell_type": "code",
   "execution_count": 236,
   "metadata": {},
   "outputs": [
    {
     "data": {
      "text/html": [
       "<dl class=dl-horizontal>\n",
       "\t<dt>first</dt>\n",
       "\t\t<dd>73.5</dd>\n",
       "\t<dt>second</dt>\n",
       "\t\t<dd>66.5</dd>\n",
       "\t<dt>third</dt>\n",
       "\t\t<dd>73.25</dd>\n",
       "</dl>\n"
      ],
      "text/latex": [
       "\\begin{description*}\n",
       "\\item[first] 73.5\n",
       "\\item[second] 66.5\n",
       "\\item[third] 73.25\n",
       "\\end{description*}\n"
      ],
      "text/markdown": [
       "first\n",
       ":   73.5second\n",
       ":   66.5third\n",
       ":   73.25\n",
       "\n"
      ],
      "text/plain": [
       " first second  third \n",
       " 73.50  66.50  73.25 "
      ]
     },
     "metadata": {},
     "output_type": "display_data"
    }
   ],
   "source": [
    "colMeans(mat3)"
   ]
  },
  {
   "cell_type": "code",
   "execution_count": 237,
   "metadata": {},
   "outputs": [],
   "source": [
    "m1 = matrix(1:4, byrow=TRUE, nrow=2)\n",
    "m2 = matrix(5:8, byrow=TRUE, nrow=2)"
   ]
  },
  {
   "cell_type": "code",
   "execution_count": 238,
   "metadata": {},
   "outputs": [
    {
     "data": {
      "text/html": [
       "<table>\n",
       "<tbody>\n",
       "\t<tr><td>1</td><td>2</td></tr>\n",
       "\t<tr><td>3</td><td>4</td></tr>\n",
       "</tbody>\n",
       "</table>\n"
      ],
      "text/latex": [
       "\\begin{tabular}{ll}\n",
       "\t 1 & 2\\\\\n",
       "\t 3 & 4\\\\\n",
       "\\end{tabular}\n"
      ],
      "text/markdown": [
       "\n",
       "| 1 | 2 | \n",
       "| 3 | 4 | \n",
       "\n",
       "\n"
      ],
      "text/plain": [
       "     [,1] [,2]\n",
       "[1,] 1    2   \n",
       "[2,] 3    4   "
      ]
     },
     "metadata": {},
     "output_type": "display_data"
    }
   ],
   "source": [
    "m1"
   ]
  },
  {
   "cell_type": "code",
   "execution_count": 239,
   "metadata": {},
   "outputs": [
    {
     "data": {
      "text/html": [
       "<table>\n",
       "<tbody>\n",
       "\t<tr><td>5</td><td>6</td></tr>\n",
       "\t<tr><td>7</td><td>8</td></tr>\n",
       "</tbody>\n",
       "</table>\n"
      ],
      "text/latex": [
       "\\begin{tabular}{ll}\n",
       "\t 5 & 6\\\\\n",
       "\t 7 & 8\\\\\n",
       "\\end{tabular}\n"
      ],
      "text/markdown": [
       "\n",
       "| 5 | 6 | \n",
       "| 7 | 8 | \n",
       "\n",
       "\n"
      ],
      "text/plain": [
       "     [,1] [,2]\n",
       "[1,] 5    6   \n",
       "[2,] 7    8   "
      ]
     },
     "metadata": {},
     "output_type": "display_data"
    }
   ],
   "source": [
    "m2"
   ]
  },
  {
   "cell_type": "code",
   "execution_count": 240,
   "metadata": {},
   "outputs": [
    {
     "data": {
      "text/html": [
       "<table>\n",
       "<tbody>\n",
       "\t<tr><td> 6</td><td> 8</td></tr>\n",
       "\t<tr><td>10</td><td>12</td></tr>\n",
       "</tbody>\n",
       "</table>\n"
      ],
      "text/latex": [
       "\\begin{tabular}{ll}\n",
       "\t  6 &  8\\\\\n",
       "\t 10 & 12\\\\\n",
       "\\end{tabular}\n"
      ],
      "text/markdown": [
       "\n",
       "|  6 |  8 | \n",
       "| 10 | 12 | \n",
       "\n",
       "\n"
      ],
      "text/plain": [
       "     [,1] [,2]\n",
       "[1,]  6    8  \n",
       "[2,] 10   12  "
      ]
     },
     "metadata": {},
     "output_type": "display_data"
    }
   ],
   "source": [
    "m1+m2"
   ]
  },
  {
   "cell_type": "code",
   "execution_count": 241,
   "metadata": {},
   "outputs": [
    {
     "data": {
      "text/html": [
       "<table>\n",
       "<tbody>\n",
       "\t<tr><td>-4</td><td>-4</td></tr>\n",
       "\t<tr><td>-4</td><td>-4</td></tr>\n",
       "</tbody>\n",
       "</table>\n"
      ],
      "text/latex": [
       "\\begin{tabular}{ll}\n",
       "\t -4 & -4\\\\\n",
       "\t -4 & -4\\\\\n",
       "\\end{tabular}\n"
      ],
      "text/markdown": [
       "\n",
       "| -4 | -4 | \n",
       "| -4 | -4 | \n",
       "\n",
       "\n"
      ],
      "text/plain": [
       "     [,1] [,2]\n",
       "[1,] -4   -4  \n",
       "[2,] -4   -4  "
      ]
     },
     "metadata": {},
     "output_type": "display_data"
    }
   ],
   "source": [
    "m1-m2"
   ]
  },
  {
   "cell_type": "code",
   "execution_count": 242,
   "metadata": {},
   "outputs": [
    {
     "data": {
      "text/html": [
       "<table>\n",
       "<tbody>\n",
       "\t<tr><td> 5</td><td>12</td></tr>\n",
       "\t<tr><td>21</td><td>32</td></tr>\n",
       "</tbody>\n",
       "</table>\n"
      ],
      "text/latex": [
       "\\begin{tabular}{ll}\n",
       "\t  5 & 12\\\\\n",
       "\t 21 & 32\\\\\n",
       "\\end{tabular}\n"
      ],
      "text/markdown": [
       "\n",
       "|  5 | 12 | \n",
       "| 21 | 32 | \n",
       "\n",
       "\n"
      ],
      "text/plain": [
       "     [,1] [,2]\n",
       "[1,]  5   12  \n",
       "[2,] 21   32  "
      ]
     },
     "metadata": {},
     "output_type": "display_data"
    }
   ],
   "source": [
    "m1*m2"
   ]
  },
  {
   "cell_type": "code",
   "execution_count": 243,
   "metadata": {},
   "outputs": [
    {
     "data": {
      "text/html": [
       "<table>\n",
       "<tbody>\n",
       "\t<tr><td>0.2000000</td><td>0.3333333</td></tr>\n",
       "\t<tr><td>0.4285714</td><td>0.5000000</td></tr>\n",
       "</tbody>\n",
       "</table>\n"
      ],
      "text/latex": [
       "\\begin{tabular}{ll}\n",
       "\t 0.2000000 & 0.3333333\\\\\n",
       "\t 0.4285714 & 0.5000000\\\\\n",
       "\\end{tabular}\n"
      ],
      "text/markdown": [
       "\n",
       "| 0.2000000 | 0.3333333 | \n",
       "| 0.4285714 | 0.5000000 | \n",
       "\n",
       "\n"
      ],
      "text/plain": [
       "     [,1]      [,2]     \n",
       "[1,] 0.2000000 0.3333333\n",
       "[2,] 0.4285714 0.5000000"
      ]
     },
     "metadata": {},
     "output_type": "display_data"
    }
   ],
   "source": [
    "m1/m2"
   ]
  },
  {
   "cell_type": "code",
   "execution_count": 244,
   "metadata": {},
   "outputs": [
    {
     "data": {
      "text/html": [
       "<table>\n",
       "<tbody>\n",
       "\t<tr><td>19</td><td>22</td></tr>\n",
       "\t<tr><td>43</td><td>50</td></tr>\n",
       "</tbody>\n",
       "</table>\n"
      ],
      "text/latex": [
       "\\begin{tabular}{ll}\n",
       "\t 19 & 22\\\\\n",
       "\t 43 & 50\\\\\n",
       "\\end{tabular}\n"
      ],
      "text/markdown": [
       "\n",
       "| 19 | 22 | \n",
       "| 43 | 50 | \n",
       "\n",
       "\n"
      ],
      "text/plain": [
       "     [,1] [,2]\n",
       "[1,] 19   22  \n",
       "[2,] 43   50  "
      ]
     },
     "metadata": {},
     "output_type": "display_data"
    }
   ],
   "source": [
    "m1%*%m2"
   ]
  },
  {
   "cell_type": "code",
   "execution_count": 245,
   "metadata": {},
   "outputs": [],
   "source": [
    "#p54 execise\n",
    "kevin = c(85,73)\n",
    "marry = c(72,64)\n",
    "jerry = c(59,66)\n",
    "mat = matrix(c(kevin, marry, jerry), nrow=3, byrow= TRUE)"
   ]
  },
  {
   "cell_type": "code",
   "execution_count": 252,
   "metadata": {},
   "outputs": [],
   "source": [
    "colnames(mat) = c('first','second')\n",
    "rownames(mat) = c('kevin','marry','jerry')"
   ]
  },
  {
   "cell_type": "code",
   "execution_count": 248,
   "metadata": {},
   "outputs": [
    {
     "data": {
      "text/html": [
       "<table>\n",
       "<tbody>\n",
       "\t<tr><td>77.8</td></tr>\n",
       "\t<tr><td>67.2</td></tr>\n",
       "\t<tr><td>63.2</td></tr>\n",
       "</tbody>\n",
       "</table>\n"
      ],
      "text/latex": [
       "\\begin{tabular}{l}\n",
       "\t 77.8\\\\\n",
       "\t 67.2\\\\\n",
       "\t 63.2\\\\\n",
       "\\end{tabular}\n"
      ],
      "text/markdown": [
       "\n",
       "| 77.8 | \n",
       "| 67.2 | \n",
       "| 63.2 | \n",
       "\n",
       "\n"
      ],
      "text/plain": [
       "     [,1]\n",
       "[1,] 77.8\n",
       "[2,] 67.2\n",
       "[3,] 63.2"
      ]
     },
     "metadata": {},
     "output_type": "display_data"
    }
   ],
   "source": [
    "mat %*% matrix(c(0.4,0.6),nrow=2)"
   ]
  },
  {
   "cell_type": "code",
   "execution_count": 253,
   "metadata": {},
   "outputs": [],
   "source": [
    "final =  mat %*% c(0.4,0.6)"
   ]
  },
  {
   "cell_type": "code",
   "execution_count": 256,
   "metadata": {},
   "outputs": [],
   "source": [
    "mat = cbind(mat,final)"
   ]
  },
  {
   "cell_type": "code",
   "execution_count": 259,
   "metadata": {},
   "outputs": [],
   "source": [
    "colnames(mat)[ncol(mat)] = 'final'"
   ]
  },
  {
   "cell_type": "code",
   "execution_count": 260,
   "metadata": {},
   "outputs": [
    {
     "data": {
      "text/html": [
       "<table>\n",
       "<thead><tr><th></th><th scope=col>first</th><th scope=col>second</th><th scope=col>final</th></tr></thead>\n",
       "<tbody>\n",
       "\t<tr><th scope=row>kevin</th><td>85  </td><td>73  </td><td>77.8</td></tr>\n",
       "\t<tr><th scope=row>marry</th><td>72  </td><td>64  </td><td>67.2</td></tr>\n",
       "\t<tr><th scope=row>jerry</th><td>59  </td><td>66  </td><td>63.2</td></tr>\n",
       "</tbody>\n",
       "</table>\n"
      ],
      "text/latex": [
       "\\begin{tabular}{r|lll}\n",
       "  & first & second & final\\\\\n",
       "\\hline\n",
       "\tkevin & 85   & 73   & 77.8\\\\\n",
       "\tmarry & 72   & 64   & 67.2\\\\\n",
       "\tjerry & 59   & 66   & 63.2\\\\\n",
       "\\end{tabular}\n"
      ],
      "text/markdown": [
       "\n",
       "| <!--/--> | first | second | final | \n",
       "|---|---|---|\n",
       "| kevin | 85   | 73   | 77.8 | \n",
       "| marry | 72   | 64   | 67.2 | \n",
       "| jerry | 59   | 66   | 63.2 | \n",
       "\n",
       "\n"
      ],
      "text/plain": [
       "      first second final\n",
       "kevin 85    73     77.8 \n",
       "marry 72    64     67.2 \n",
       "jerry 59    66     63.2 "
      ]
     },
     "metadata": {},
     "output_type": "display_data"
    }
   ],
   "source": [
    "mat"
   ]
  },
  {
   "cell_type": "code",
   "execution_count": 262,
   "metadata": {},
   "outputs": [],
   "source": [
    "weather_vec = c(\"sunny\",\"rainy\", \"cloudy\", \"rainy\", \"cloudy\")"
   ]
  },
  {
   "cell_type": "code",
   "execution_count": 263,
   "metadata": {},
   "outputs": [
    {
     "data": {
      "text/html": [
       "'character'"
      ],
      "text/latex": [
       "'character'"
      ],
      "text/markdown": [
       "'character'"
      ],
      "text/plain": [
       "[1] \"character\""
      ]
     },
     "metadata": {},
     "output_type": "display_data"
    }
   ],
   "source": [
    "class( weather_vec )"
   ]
  },
  {
   "cell_type": "code",
   "execution_count": 265,
   "metadata": {},
   "outputs": [
    {
     "data": {
      "text/html": [
       "'numeric'"
      ],
      "text/latex": [
       "'numeric'"
      ],
      "text/markdown": [
       "'numeric'"
      ],
      "text/plain": [
       "[1] \"numeric\""
      ]
     },
     "metadata": {},
     "output_type": "display_data"
    }
   ],
   "source": [
    "class( height_vec )"
   ]
  },
  {
   "cell_type": "code",
   "execution_count": 267,
   "metadata": {},
   "outputs": [
    {
     "data": {
      "text/html": [
       "'matrix'"
      ],
      "text/latex": [
       "'matrix'"
      ],
      "text/markdown": [
       "'matrix'"
      ],
      "text/plain": [
       "[1] \"matrix\""
      ]
     },
     "metadata": {},
     "output_type": "display_data"
    }
   ],
   "source": [
    "class( mat )"
   ]
  },
  {
   "cell_type": "code",
   "execution_count": 272,
   "metadata": {},
   "outputs": [
    {
     "data": {
      "text/html": [
       "<ol class=list-inline>\n",
       "\t<li>sunny</li>\n",
       "\t<li>rainy</li>\n",
       "\t<li>cloudy</li>\n",
       "\t<li>rainy</li>\n",
       "\t<li>cloudy</li>\n",
       "</ol>\n",
       "\n",
       "<details>\n",
       "\t<summary style=display:list-item;cursor:pointer>\n",
       "\t\t<strong>Levels</strong>:\n",
       "\t</summary>\n",
       "\t<ol class=list-inline>\n",
       "\t\t<li>'cloudy'</li>\n",
       "\t\t<li>'rainy'</li>\n",
       "\t\t<li>'sunny'</li>\n",
       "\t</ol>\n",
       "</details>"
      ],
      "text/latex": [
       "\\begin{enumerate*}\n",
       "\\item sunny\n",
       "\\item rainy\n",
       "\\item cloudy\n",
       "\\item rainy\n",
       "\\item cloudy\n",
       "\\end{enumerate*}\n",
       "\n",
       "\\emph{Levels}: \\begin{enumerate*}\n",
       "\\item 'cloudy'\n",
       "\\item 'rainy'\n",
       "\\item 'sunny'\n",
       "\\end{enumerate*}\n"
      ],
      "text/markdown": [
       "1. sunny\n",
       "2. rainy\n",
       "3. cloudy\n",
       "4. rainy\n",
       "5. cloudy\n",
       "\n",
       "\n",
       "\n",
       "**Levels**: 1. 'cloudy'\n",
       "2. 'rainy'\n",
       "3. 'sunny'\n",
       "\n",
       "\n"
      ],
      "text/plain": [
       "[1] sunny  rainy  cloudy rainy  cloudy\n",
       "Levels: cloudy rainy sunny"
      ]
     },
     "metadata": {},
     "output_type": "display_data"
    }
   ],
   "source": [
    "weather_category = factor(weather_vec)\n",
    "weather_category"
   ]
  },
  {
   "cell_type": "code",
   "execution_count": 270,
   "metadata": {},
   "outputs": [
    {
     "data": {
      "text/html": [
       "'factor'"
      ],
      "text/latex": [
       "'factor'"
      ],
      "text/markdown": [
       "'factor'"
      ],
      "text/plain": [
       "[1] \"factor\""
      ]
     },
     "metadata": {},
     "output_type": "display_data"
    }
   ],
   "source": [
    "class( weather_category )"
   ]
  },
  {
   "cell_type": "code",
   "execution_count": 271,
   "metadata": {},
   "outputs": [
    {
     "data": {
      "text/html": [
       "<ol class=list-inline>\n",
       "\t<li>'cloudy'</li>\n",
       "\t<li>'rainy'</li>\n",
       "\t<li>'sunny'</li>\n",
       "</ol>\n"
      ],
      "text/latex": [
       "\\begin{enumerate*}\n",
       "\\item 'cloudy'\n",
       "\\item 'rainy'\n",
       "\\item 'sunny'\n",
       "\\end{enumerate*}\n"
      ],
      "text/markdown": [
       "1. 'cloudy'\n",
       "2. 'rainy'\n",
       "3. 'sunny'\n",
       "\n",
       "\n"
      ],
      "text/plain": [
       "[1] \"cloudy\" \"rainy\"  \"sunny\" "
      ]
     },
     "metadata": {},
     "output_type": "display_data"
    }
   ],
   "source": [
    "levels( weather_category )"
   ]
  },
  {
   "cell_type": "code",
   "execution_count": 276,
   "metadata": {},
   "outputs": [
    {
     "name": "stdout",
     "output_type": "stream",
     "text": [
      "[1] Low    High   High   Medium Low    Medium\n",
      "Levels: Low < Medium < High\n"
     ]
    }
   ],
   "source": [
    "temperature = c(\"Low\", \"High\", \"High\", \"Medium\", \"Low\", \"Medium\")\n",
    "temperature_category = factor(temperature,order = T,levels=c(\"Low\",\"Medium\",\"High\"))\n",
    "print( temperature_category )"
   ]
  },
  {
   "cell_type": "code",
   "execution_count": 277,
   "metadata": {},
   "outputs": [
    {
     "data": {
      "text/html": [
       "Low\n",
       "<details>\n",
       "\t<summary style=display:list-item;cursor:pointer>\n",
       "\t\t<strong>Levels</strong>:\n",
       "\t</summary>\n",
       "\t<ol class=list-inline>\n",
       "\t\t<li>'Low'</li>\n",
       "\t\t<li>'Medium'</li>\n",
       "\t\t<li>'High'</li>\n",
       "\t</ol>\n",
       "</details>"
      ],
      "text/latex": [
       "Low\n",
       "\\emph{Levels}: \\begin{enumerate*}\n",
       "\\item 'Low'\n",
       "\\item 'Medium'\n",
       "\\item 'High'\n",
       "\\end{enumerate*}\n"
      ],
      "text/markdown": [
       "Low\n",
       "**Levels**: 1. 'Low'\n",
       "2. 'Medium'\n",
       "3. 'High'\n",
       "\n",
       "\n"
      ],
      "text/plain": [
       "[1] Low\n",
       "Levels: Low < Medium < High"
      ]
     },
     "metadata": {},
     "output_type": "display_data"
    }
   ],
   "source": [
    "temperature_category[1]"
   ]
  },
  {
   "cell_type": "code",
   "execution_count": 278,
   "metadata": {},
   "outputs": [
    {
     "data": {
      "text/html": [
       "High\n",
       "<details>\n",
       "\t<summary style=display:list-item;cursor:pointer>\n",
       "\t\t<strong>Levels</strong>:\n",
       "\t</summary>\n",
       "\t<ol class=list-inline>\n",
       "\t\t<li>'Low'</li>\n",
       "\t\t<li>'Medium'</li>\n",
       "\t\t<li>'High'</li>\n",
       "\t</ol>\n",
       "</details>"
      ],
      "text/latex": [
       "High\n",
       "\\emph{Levels}: \\begin{enumerate*}\n",
       "\\item 'Low'\n",
       "\\item 'Medium'\n",
       "\\item 'High'\n",
       "\\end{enumerate*}\n"
      ],
      "text/markdown": [
       "High\n",
       "**Levels**: 1. 'Low'\n",
       "2. 'Medium'\n",
       "3. 'High'\n",
       "\n",
       "\n"
      ],
      "text/plain": [
       "[1] High\n",
       "Levels: Low < Medium < High"
      ]
     },
     "metadata": {},
     "output_type": "display_data"
    }
   ],
   "source": [
    "temperature_category[2]"
   ]
  },
  {
   "cell_type": "code",
   "execution_count": 279,
   "metadata": {},
   "outputs": [
    {
     "data": {
      "text/html": [
       "TRUE"
      ],
      "text/latex": [
       "TRUE"
      ],
      "text/markdown": [
       "TRUE"
      ],
      "text/plain": [
       "[1] TRUE"
      ]
     },
     "metadata": {},
     "output_type": "display_data"
    }
   ],
   "source": [
    "temperature_category[2] > temperature_category[1]"
   ]
  },
  {
   "cell_type": "code",
   "execution_count": 280,
   "metadata": {},
   "outputs": [],
   "source": [
    "weather= c(\"s\",\"r\", \"c\", \"r\", \"c\")"
   ]
  },
  {
   "cell_type": "code",
   "execution_count": 283,
   "metadata": {},
   "outputs": [
    {
     "data": {
      "text/html": [
       "<ol class=list-inline>\n",
       "\t<li>s</li>\n",
       "\t<li>r</li>\n",
       "\t<li>c</li>\n",
       "\t<li>r</li>\n",
       "\t<li>c</li>\n",
       "</ol>\n",
       "\n",
       "<details>\n",
       "\t<summary style=display:list-item;cursor:pointer>\n",
       "\t\t<strong>Levels</strong>:\n",
       "\t</summary>\n",
       "\t<ol class=list-inline>\n",
       "\t\t<li>'c'</li>\n",
       "\t\t<li>'r'</li>\n",
       "\t\t<li>'s'</li>\n",
       "\t</ol>\n",
       "</details>"
      ],
      "text/latex": [
       "\\begin{enumerate*}\n",
       "\\item s\n",
       "\\item r\n",
       "\\item c\n",
       "\\item r\n",
       "\\item c\n",
       "\\end{enumerate*}\n",
       "\n",
       "\\emph{Levels}: \\begin{enumerate*}\n",
       "\\item 'c'\n",
       "\\item 'r'\n",
       "\\item 's'\n",
       "\\end{enumerate*}\n"
      ],
      "text/markdown": [
       "1. s\n",
       "2. r\n",
       "3. c\n",
       "4. r\n",
       "5. c\n",
       "\n",
       "\n",
       "\n",
       "**Levels**: 1. 'c'\n",
       "2. 'r'\n",
       "3. 's'\n",
       "\n",
       "\n"
      ],
      "text/plain": [
       "[1] s r c r c\n",
       "Levels: c r s"
      ]
     },
     "metadata": {},
     "output_type": "display_data"
    }
   ],
   "source": [
    "weather_category = factor(weather)\n",
    "weather_category"
   ]
  },
  {
   "cell_type": "code",
   "execution_count": 285,
   "metadata": {},
   "outputs": [],
   "source": [
    "levels(weather_category) = c(\"cloudy\",\"rainy\",\"sunny\")"
   ]
  },
  {
   "cell_type": "code",
   "execution_count": 286,
   "metadata": {},
   "outputs": [
    {
     "data": {
      "text/html": [
       "<ol class=list-inline>\n",
       "\t<li>sunny</li>\n",
       "\t<li>rainy</li>\n",
       "\t<li>cloudy</li>\n",
       "\t<li>rainy</li>\n",
       "\t<li>cloudy</li>\n",
       "</ol>\n",
       "\n",
       "<details>\n",
       "\t<summary style=display:list-item;cursor:pointer>\n",
       "\t\t<strong>Levels</strong>:\n",
       "\t</summary>\n",
       "\t<ol class=list-inline>\n",
       "\t\t<li>'cloudy'</li>\n",
       "\t\t<li>'rainy'</li>\n",
       "\t\t<li>'sunny'</li>\n",
       "\t</ol>\n",
       "</details>"
      ],
      "text/latex": [
       "\\begin{enumerate*}\n",
       "\\item sunny\n",
       "\\item rainy\n",
       "\\item cloudy\n",
       "\\item rainy\n",
       "\\item cloudy\n",
       "\\end{enumerate*}\n",
       "\n",
       "\\emph{Levels}: \\begin{enumerate*}\n",
       "\\item 'cloudy'\n",
       "\\item 'rainy'\n",
       "\\item 'sunny'\n",
       "\\end{enumerate*}\n"
      ],
      "text/markdown": [
       "1. sunny\n",
       "2. rainy\n",
       "3. cloudy\n",
       "4. rainy\n",
       "5. cloudy\n",
       "\n",
       "\n",
       "\n",
       "**Levels**: 1. 'cloudy'\n",
       "2. 'rainy'\n",
       "3. 'sunny'\n",
       "\n",
       "\n"
      ],
      "text/plain": [
       "[1] sunny  rainy  cloudy rainy  cloudy\n",
       "Levels: cloudy rainy sunny"
      ]
     },
     "metadata": {},
     "output_type": "display_data"
    }
   ],
   "source": [
    "weather_category"
   ]
  },
  {
   "cell_type": "code",
   "execution_count": 287,
   "metadata": {},
   "outputs": [
    {
     "data": {
      "text/html": [
       "<ol class=list-inline>\n",
       "\t<li>s</li>\n",
       "\t<li>r</li>\n",
       "\t<li>c</li>\n",
       "\t<li>r</li>\n",
       "\t<li>c</li>\n",
       "</ol>\n",
       "\n",
       "<details>\n",
       "\t<summary style=display:list-item;cursor:pointer>\n",
       "\t\t<strong>Levels</strong>:\n",
       "\t</summary>\n",
       "\t<ol class=list-inline>\n",
       "\t\t<li>'c'</li>\n",
       "\t\t<li>'r'</li>\n",
       "\t\t<li>'s'</li>\n",
       "\t</ol>\n",
       "</details>"
      ],
      "text/latex": [
       "\\begin{enumerate*}\n",
       "\\item s\n",
       "\\item r\n",
       "\\item c\n",
       "\\item r\n",
       "\\item c\n",
       "\\end{enumerate*}\n",
       "\n",
       "\\emph{Levels}: \\begin{enumerate*}\n",
       "\\item 'c'\n",
       "\\item 'r'\n",
       "\\item 's'\n",
       "\\end{enumerate*}\n"
      ],
      "text/markdown": [
       "1. s\n",
       "2. r\n",
       "3. c\n",
       "4. r\n",
       "5. c\n",
       "\n",
       "\n",
       "\n",
       "**Levels**: 1. 'c'\n",
       "2. 'r'\n",
       "3. 's'\n",
       "\n",
       "\n"
      ],
      "text/plain": [
       "[1] s r c r c\n",
       "Levels: c r s"
      ]
     },
     "metadata": {},
     "output_type": "display_data"
    }
   ],
   "source": [
    "as.factor(weather)"
   ]
  },
  {
   "cell_type": "code",
   "execution_count": 288,
   "metadata": {},
   "outputs": [],
   "source": [
    "name <- c(\"Joe\", \"Bob\", \"Vicky\")\n",
    "age <- c(28, 26, 34)\n",
    "gender <- c(\"Male\",\"Male\",\"Female\")"
   ]
  },
  {
   "cell_type": "code",
   "execution_count": 290,
   "metadata": {},
   "outputs": [
    {
     "data": {
      "text/html": [
       "<table>\n",
       "<thead><tr><th scope=col>name</th><th scope=col>age</th><th scope=col>gender</th></tr></thead>\n",
       "<tbody>\n",
       "\t<tr><td>Joe   </td><td>28    </td><td>Male  </td></tr>\n",
       "\t<tr><td>Bob   </td><td>26    </td><td>Male  </td></tr>\n",
       "\t<tr><td>Vicky </td><td>34    </td><td>Female</td></tr>\n",
       "</tbody>\n",
       "</table>\n"
      ],
      "text/latex": [
       "\\begin{tabular}{r|lll}\n",
       " name & age & gender\\\\\n",
       "\\hline\n",
       "\t Joe    & 28     & Male  \\\\\n",
       "\t Bob    & 26     & Male  \\\\\n",
       "\t Vicky  & 34     & Female\\\\\n",
       "\\end{tabular}\n"
      ],
      "text/markdown": [
       "\n",
       "name | age | gender | \n",
       "|---|---|---|\n",
       "| Joe    | 28     | Male   | \n",
       "| Bob    | 26     | Male   | \n",
       "| Vicky  | 34     | Female | \n",
       "\n",
       "\n"
      ],
      "text/plain": [
       "  name  age gender\n",
       "1 Joe   28  Male  \n",
       "2 Bob   26  Male  \n",
       "3 Vicky 34  Female"
      ]
     },
     "metadata": {},
     "output_type": "display_data"
    }
   ],
   "source": [
    "df = data.frame(name,age,gender)\n",
    "df"
   ]
  },
  {
   "cell_type": "code",
   "execution_count": 291,
   "metadata": {},
   "outputs": [
    {
     "data": {
      "text/html": [
       "'data.frame'"
      ],
      "text/latex": [
       "'data.frame'"
      ],
      "text/markdown": [
       "'data.frame'"
      ],
      "text/plain": [
       "[1] \"data.frame\""
      ]
     },
     "metadata": {},
     "output_type": "display_data"
    }
   ],
   "source": [
    "class(df)"
   ]
  },
  {
   "cell_type": "code",
   "execution_count": 292,
   "metadata": {},
   "outputs": [
    {
     "name": "stdout",
     "output_type": "stream",
     "text": [
      "'data.frame':\t3 obs. of  3 variables:\n",
      " $ name  : Factor w/ 3 levels \"Bob\",\"Joe\",\"Vicky\": 2 1 3\n",
      " $ age   : num  28 26 34\n",
      " $ gender: Factor w/ 2 levels \"Female\",\"Male\": 2 2 1\n"
     ]
    }
   ],
   "source": [
    "str(df)"
   ]
  },
  {
   "cell_type": "code",
   "execution_count": 293,
   "metadata": {},
   "outputs": [
    {
     "data": {
      "text/plain": [
       "    name        age           gender \n",
       " Bob  :1   Min.   :26.00   Female:1  \n",
       " Joe  :1   1st Qu.:27.00   Male  :2  \n",
       " Vicky:1   Median :28.00             \n",
       "           Mean   :29.33             \n",
       "           3rd Qu.:31.00             \n",
       "           Max.   :34.00             "
      ]
     },
     "metadata": {},
     "output_type": "display_data"
    }
   ],
   "source": [
    "summary(df)"
   ]
  },
  {
   "cell_type": "code",
   "execution_count": 294,
   "metadata": {},
   "outputs": [],
   "source": [
    "data(iris)"
   ]
  },
  {
   "cell_type": "code",
   "execution_count": 295,
   "metadata": {},
   "outputs": [
    {
     "data": {
      "text/html": [
       "<table>\n",
       "<thead><tr><th scope=col>Sepal.Length</th><th scope=col>Sepal.Width</th><th scope=col>Petal.Length</th><th scope=col>Petal.Width</th><th scope=col>Species</th></tr></thead>\n",
       "<tbody>\n",
       "\t<tr><td>5.1   </td><td>3.5   </td><td>1.4   </td><td>0.2   </td><td>setosa</td></tr>\n",
       "\t<tr><td>4.9   </td><td>3.0   </td><td>1.4   </td><td>0.2   </td><td>setosa</td></tr>\n",
       "\t<tr><td>4.7   </td><td>3.2   </td><td>1.3   </td><td>0.2   </td><td>setosa</td></tr>\n",
       "\t<tr><td>4.6   </td><td>3.1   </td><td>1.5   </td><td>0.2   </td><td>setosa</td></tr>\n",
       "\t<tr><td>5.0   </td><td>3.6   </td><td>1.4   </td><td>0.2   </td><td>setosa</td></tr>\n",
       "\t<tr><td>5.4   </td><td>3.9   </td><td>1.7   </td><td>0.4   </td><td>setosa</td></tr>\n",
       "</tbody>\n",
       "</table>\n"
      ],
      "text/latex": [
       "\\begin{tabular}{r|lllll}\n",
       " Sepal.Length & Sepal.Width & Petal.Length & Petal.Width & Species\\\\\n",
       "\\hline\n",
       "\t 5.1    & 3.5    & 1.4    & 0.2    & setosa\\\\\n",
       "\t 4.9    & 3.0    & 1.4    & 0.2    & setosa\\\\\n",
       "\t 4.7    & 3.2    & 1.3    & 0.2    & setosa\\\\\n",
       "\t 4.6    & 3.1    & 1.5    & 0.2    & setosa\\\\\n",
       "\t 5.0    & 3.6    & 1.4    & 0.2    & setosa\\\\\n",
       "\t 5.4    & 3.9    & 1.7    & 0.4    & setosa\\\\\n",
       "\\end{tabular}\n"
      ],
      "text/markdown": [
       "\n",
       "Sepal.Length | Sepal.Width | Petal.Length | Petal.Width | Species | \n",
       "|---|---|---|---|---|---|\n",
       "| 5.1    | 3.5    | 1.4    | 0.2    | setosa | \n",
       "| 4.9    | 3.0    | 1.4    | 0.2    | setosa | \n",
       "| 4.7    | 3.2    | 1.3    | 0.2    | setosa | \n",
       "| 4.6    | 3.1    | 1.5    | 0.2    | setosa | \n",
       "| 5.0    | 3.6    | 1.4    | 0.2    | setosa | \n",
       "| 5.4    | 3.9    | 1.7    | 0.4    | setosa | \n",
       "\n",
       "\n"
      ],
      "text/plain": [
       "  Sepal.Length Sepal.Width Petal.Length Petal.Width Species\n",
       "1 5.1          3.5         1.4          0.2         setosa \n",
       "2 4.9          3.0         1.4          0.2         setosa \n",
       "3 4.7          3.2         1.3          0.2         setosa \n",
       "4 4.6          3.1         1.5          0.2         setosa \n",
       "5 5.0          3.6         1.4          0.2         setosa \n",
       "6 5.4          3.9         1.7          0.4         setosa "
      ]
     },
     "metadata": {},
     "output_type": "display_data"
    }
   ],
   "source": [
    "head(iris)"
   ]
  },
  {
   "cell_type": "code",
   "execution_count": 299,
   "metadata": {},
   "outputs": [
    {
     "name": "stdout",
     "output_type": "stream",
     "text": [
      "   Sepal.Length Sepal.Width Petal.Length Petal.Width Species\n",
      "1           5.1         3.5          1.4         0.2  setosa\n",
      "2           4.9         3.0          1.4         0.2  setosa\n",
      "3           4.7         3.2          1.3         0.2  setosa\n",
      "4           4.6         3.1          1.5         0.2  setosa\n",
      "5           5.0         3.6          1.4         0.2  setosa\n",
      "6           5.4         3.9          1.7         0.4  setosa\n",
      "7           4.6         3.4          1.4         0.3  setosa\n",
      "8           5.0         3.4          1.5         0.2  setosa\n",
      "9           4.4         2.9          1.4         0.2  setosa\n",
      "10          4.9         3.1          1.5         0.1  setosa\n",
      "11          5.4         3.7          1.5         0.2  setosa\n",
      "12          4.8         3.4          1.6         0.2  setosa\n",
      "13          4.8         3.0          1.4         0.1  setosa\n",
      "14          4.3         3.0          1.1         0.1  setosa\n",
      "15          5.8         4.0          1.2         0.2  setosa\n",
      "16          5.7         4.4          1.5         0.4  setosa\n",
      "17          5.4         3.9          1.3         0.4  setosa\n",
      "18          5.1         3.5          1.4         0.3  setosa\n",
      "19          5.7         3.8          1.7         0.3  setosa\n",
      "20          5.1         3.8          1.5         0.3  setosa\n"
     ]
    }
   ],
   "source": [
    "print(head(iris,20))"
   ]
  },
  {
   "cell_type": "code",
   "execution_count": 296,
   "metadata": {},
   "outputs": [
    {
     "data": {
      "text/html": [
       "<table>\n",
       "<thead><tr><th></th><th scope=col>Sepal.Length</th><th scope=col>Sepal.Width</th><th scope=col>Petal.Length</th><th scope=col>Petal.Width</th><th scope=col>Species</th></tr></thead>\n",
       "<tbody>\n",
       "\t<tr><th scope=row>145</th><td>6.7      </td><td>3.3      </td><td>5.7      </td><td>2.5      </td><td>virginica</td></tr>\n",
       "\t<tr><th scope=row>146</th><td>6.7      </td><td>3.0      </td><td>5.2      </td><td>2.3      </td><td>virginica</td></tr>\n",
       "\t<tr><th scope=row>147</th><td>6.3      </td><td>2.5      </td><td>5.0      </td><td>1.9      </td><td>virginica</td></tr>\n",
       "\t<tr><th scope=row>148</th><td>6.5      </td><td>3.0      </td><td>5.2      </td><td>2.0      </td><td>virginica</td></tr>\n",
       "\t<tr><th scope=row>149</th><td>6.2      </td><td>3.4      </td><td>5.4      </td><td>2.3      </td><td>virginica</td></tr>\n",
       "\t<tr><th scope=row>150</th><td>5.9      </td><td>3.0      </td><td>5.1      </td><td>1.8      </td><td>virginica</td></tr>\n",
       "</tbody>\n",
       "</table>\n"
      ],
      "text/latex": [
       "\\begin{tabular}{r|lllll}\n",
       "  & Sepal.Length & Sepal.Width & Petal.Length & Petal.Width & Species\\\\\n",
       "\\hline\n",
       "\t145 & 6.7       & 3.3       & 5.7       & 2.5       & virginica\\\\\n",
       "\t146 & 6.7       & 3.0       & 5.2       & 2.3       & virginica\\\\\n",
       "\t147 & 6.3       & 2.5       & 5.0       & 1.9       & virginica\\\\\n",
       "\t148 & 6.5       & 3.0       & 5.2       & 2.0       & virginica\\\\\n",
       "\t149 & 6.2       & 3.4       & 5.4       & 2.3       & virginica\\\\\n",
       "\t150 & 5.9       & 3.0       & 5.1       & 1.8       & virginica\\\\\n",
       "\\end{tabular}\n"
      ],
      "text/markdown": [
       "\n",
       "| <!--/--> | Sepal.Length | Sepal.Width | Petal.Length | Petal.Width | Species | \n",
       "|---|---|---|---|---|---|\n",
       "| 145 | 6.7       | 3.3       | 5.7       | 2.5       | virginica | \n",
       "| 146 | 6.7       | 3.0       | 5.2       | 2.3       | virginica | \n",
       "| 147 | 6.3       | 2.5       | 5.0       | 1.9       | virginica | \n",
       "| 148 | 6.5       | 3.0       | 5.2       | 2.0       | virginica | \n",
       "| 149 | 6.2       | 3.4       | 5.4       | 2.3       | virginica | \n",
       "| 150 | 5.9       | 3.0       | 5.1       | 1.8       | virginica | \n",
       "\n",
       "\n"
      ],
      "text/plain": [
       "    Sepal.Length Sepal.Width Petal.Length Petal.Width Species  \n",
       "145 6.7          3.3         5.7          2.5         virginica\n",
       "146 6.7          3.0         5.2          2.3         virginica\n",
       "147 6.3          2.5         5.0          1.9         virginica\n",
       "148 6.5          3.0         5.2          2.0         virginica\n",
       "149 6.2          3.4         5.4          2.3         virginica\n",
       "150 5.9          3.0         5.1          1.8         virginica"
      ]
     },
     "metadata": {},
     "output_type": "display_data"
    }
   ],
   "source": [
    "tail(iris)"
   ]
  },
  {
   "cell_type": "code",
   "execution_count": 301,
   "metadata": {},
   "outputs": [
    {
     "name": "stdout",
     "output_type": "stream",
     "text": [
      "    Sepal.Length Sepal.Width Petal.Length Petal.Width   Species\n",
      "141          6.7         3.1          5.6         2.4 virginica\n",
      "142          6.9         3.1          5.1         2.3 virginica\n",
      "143          5.8         2.7          5.1         1.9 virginica\n",
      "144          6.8         3.2          5.9         2.3 virginica\n",
      "145          6.7         3.3          5.7         2.5 virginica\n",
      "146          6.7         3.0          5.2         2.3 virginica\n",
      "147          6.3         2.5          5.0         1.9 virginica\n",
      "148          6.5         3.0          5.2         2.0 virginica\n",
      "149          6.2         3.4          5.4         2.3 virginica\n",
      "150          5.9         3.0          5.1         1.8 virginica\n"
     ]
    }
   ],
   "source": [
    "print(tail(iris,10))"
   ]
  },
  {
   "cell_type": "code",
   "execution_count": 302,
   "metadata": {},
   "outputs": [
    {
     "data": {
      "text/html": [
       "<table>\n",
       "<thead><tr><th scope=col>Sepal.Length</th><th scope=col>Sepal.Width</th><th scope=col>Petal.Length</th><th scope=col>Petal.Width</th><th scope=col>Species</th></tr></thead>\n",
       "<tbody>\n",
       "\t<tr><td>5.1   </td><td>3.5   </td><td>1.4   </td><td>0.2   </td><td>setosa</td></tr>\n",
       "\t<tr><td>4.9   </td><td>3.0   </td><td>1.4   </td><td>0.2   </td><td>setosa</td></tr>\n",
       "\t<tr><td>4.7   </td><td>3.2   </td><td>1.3   </td><td>0.2   </td><td>setosa</td></tr>\n",
       "</tbody>\n",
       "</table>\n"
      ],
      "text/latex": [
       "\\begin{tabular}{r|lllll}\n",
       " Sepal.Length & Sepal.Width & Petal.Length & Petal.Width & Species\\\\\n",
       "\\hline\n",
       "\t 5.1    & 3.5    & 1.4    & 0.2    & setosa\\\\\n",
       "\t 4.9    & 3.0    & 1.4    & 0.2    & setosa\\\\\n",
       "\t 4.7    & 3.2    & 1.3    & 0.2    & setosa\\\\\n",
       "\\end{tabular}\n"
      ],
      "text/markdown": [
       "\n",
       "Sepal.Length | Sepal.Width | Petal.Length | Petal.Width | Species | \n",
       "|---|---|---|\n",
       "| 5.1    | 3.5    | 1.4    | 0.2    | setosa | \n",
       "| 4.9    | 3.0    | 1.4    | 0.2    | setosa | \n",
       "| 4.7    | 3.2    | 1.3    | 0.2    | setosa | \n",
       "\n",
       "\n"
      ],
      "text/plain": [
       "  Sepal.Length Sepal.Width Petal.Length Petal.Width Species\n",
       "1 5.1          3.5         1.4          0.2         setosa \n",
       "2 4.9          3.0         1.4          0.2         setosa \n",
       "3 4.7          3.2         1.3          0.2         setosa "
      ]
     },
     "metadata": {},
     "output_type": "display_data"
    }
   ],
   "source": [
    "iris[1:3,]"
   ]
  },
  {
   "cell_type": "code",
   "execution_count": 303,
   "metadata": {},
   "outputs": [
    {
     "data": {
      "text/html": [
       "<table>\n",
       "<thead><tr><th scope=col>Sepal.Length</th><th scope=col>Sepal.Width</th></tr></thead>\n",
       "<tbody>\n",
       "\t<tr><td>5.1</td><td>3.5</td></tr>\n",
       "\t<tr><td>4.9</td><td>3.0</td></tr>\n",
       "\t<tr><td>4.7</td><td>3.2</td></tr>\n",
       "</tbody>\n",
       "</table>\n"
      ],
      "text/latex": [
       "\\begin{tabular}{r|ll}\n",
       " Sepal.Length & Sepal.Width\\\\\n",
       "\\hline\n",
       "\t 5.1 & 3.5\\\\\n",
       "\t 4.9 & 3.0\\\\\n",
       "\t 4.7 & 3.2\\\\\n",
       "\\end{tabular}\n"
      ],
      "text/markdown": [
       "\n",
       "Sepal.Length | Sepal.Width | \n",
       "|---|---|---|\n",
       "| 5.1 | 3.5 | \n",
       "| 4.9 | 3.0 | \n",
       "| 4.7 | 3.2 | \n",
       "\n",
       "\n"
      ],
      "text/plain": [
       "  Sepal.Length Sepal.Width\n",
       "1 5.1          3.5        \n",
       "2 4.9          3.0        \n",
       "3 4.7          3.2        "
      ]
     },
     "metadata": {},
     "output_type": "display_data"
    }
   ],
   "source": [
    "iris[1:3,1:2]"
   ]
  },
  {
   "cell_type": "code",
   "execution_count": 304,
   "metadata": {},
   "outputs": [
    {
     "data": {
      "text/html": [
       "<ol class=list-inline>\n",
       "\t<li>5.1</li>\n",
       "\t<li>4.9</li>\n",
       "\t<li>4.7</li>\n",
       "</ol>\n"
      ],
      "text/latex": [
       "\\begin{enumerate*}\n",
       "\\item 5.1\n",
       "\\item 4.9\n",
       "\\item 4.7\n",
       "\\end{enumerate*}\n"
      ],
      "text/markdown": [
       "1. 5.1\n",
       "2. 4.9\n",
       "3. 4.7\n",
       "\n",
       "\n"
      ],
      "text/plain": [
       "[1] 5.1 4.9 4.7"
      ]
     },
     "metadata": {},
     "output_type": "display_data"
    }
   ],
   "source": [
    "iris[1:3,\"Sepal.Length\"]"
   ]
  },
  {
   "cell_type": "code",
   "execution_count": 305,
   "metadata": {},
   "outputs": [
    {
     "data": {
      "text/html": [
       "<table>\n",
       "<thead><tr><th scope=col>Sepal.Length</th><th scope=col>Sepal.Width</th></tr></thead>\n",
       "<tbody>\n",
       "\t<tr><td>5.1</td><td>3.5</td></tr>\n",
       "\t<tr><td>4.9</td><td>3.0</td></tr>\n",
       "\t<tr><td>4.7</td><td>3.2</td></tr>\n",
       "</tbody>\n",
       "</table>\n"
      ],
      "text/latex": [
       "\\begin{tabular}{r|ll}\n",
       " Sepal.Length & Sepal.Width\\\\\n",
       "\\hline\n",
       "\t 5.1 & 3.5\\\\\n",
       "\t 4.9 & 3.0\\\\\n",
       "\t 4.7 & 3.2\\\\\n",
       "\\end{tabular}\n"
      ],
      "text/markdown": [
       "\n",
       "Sepal.Length | Sepal.Width | \n",
       "|---|---|---|\n",
       "| 5.1 | 3.5 | \n",
       "| 4.9 | 3.0 | \n",
       "| 4.7 | 3.2 | \n",
       "\n",
       "\n"
      ],
      "text/plain": [
       "  Sepal.Length Sepal.Width\n",
       "1 5.1          3.5        \n",
       "2 4.9          3.0        \n",
       "3 4.7          3.2        "
      ]
     },
     "metadata": {},
     "output_type": "display_data"
    }
   ],
   "source": [
    "iris[1:3,c(\"Sepal.Length\",\"Sepal.Width\")]"
   ]
  },
  {
   "cell_type": "code",
   "execution_count": 308,
   "metadata": {
    "scrolled": true
   },
   "outputs": [
    {
     "data": {
      "text/html": [
       "<table>\n",
       "<thead><tr><th scope=col>Sepal.Length</th><th scope=col>Sepal.Width</th><th scope=col>Petal.Length</th><th scope=col>Petal.Width</th><th scope=col>Species</th></tr></thead>\n",
       "<tbody>\n",
       "\t<tr><td>5.1   </td><td>3.5   </td><td>1.4   </td><td>0.2   </td><td>setosa</td></tr>\n",
       "\t<tr><td>4.9   </td><td>3.0   </td><td>1.4   </td><td>0.2   </td><td>setosa</td></tr>\n",
       "\t<tr><td>4.7   </td><td>3.2   </td><td>1.3   </td><td>0.2   </td><td>setosa</td></tr>\n",
       "\t<tr><td>4.6   </td><td>3.1   </td><td>1.5   </td><td>0.2   </td><td>setosa</td></tr>\n",
       "\t<tr><td>5.0   </td><td>3.6   </td><td>1.4   </td><td>0.2   </td><td>setosa</td></tr>\n",
       "\t<tr><td>5.4   </td><td>3.9   </td><td>1.7   </td><td>0.4   </td><td>setosa</td></tr>\n",
       "\t<tr><td>4.6   </td><td>3.4   </td><td>1.4   </td><td>0.3   </td><td>setosa</td></tr>\n",
       "\t<tr><td>5.0   </td><td>3.4   </td><td>1.5   </td><td>0.2   </td><td>setosa</td></tr>\n",
       "\t<tr><td>4.4   </td><td>2.9   </td><td>1.4   </td><td>0.2   </td><td>setosa</td></tr>\n",
       "\t<tr><td>4.9   </td><td>3.1   </td><td>1.5   </td><td>0.1   </td><td>setosa</td></tr>\n",
       "\t<tr><td>5.4   </td><td>3.7   </td><td>1.5   </td><td>0.2   </td><td>setosa</td></tr>\n",
       "\t<tr><td>4.8   </td><td>3.4   </td><td>1.6   </td><td>0.2   </td><td>setosa</td></tr>\n",
       "\t<tr><td>4.8   </td><td>3.0   </td><td>1.4   </td><td>0.1   </td><td>setosa</td></tr>\n",
       "\t<tr><td>4.3   </td><td>3.0   </td><td>1.1   </td><td>0.1   </td><td>setosa</td></tr>\n",
       "\t<tr><td>5.8   </td><td>4.0   </td><td>1.2   </td><td>0.2   </td><td>setosa</td></tr>\n",
       "\t<tr><td>5.7   </td><td>4.4   </td><td>1.5   </td><td>0.4   </td><td>setosa</td></tr>\n",
       "\t<tr><td>5.4   </td><td>3.9   </td><td>1.3   </td><td>0.4   </td><td>setosa</td></tr>\n",
       "\t<tr><td>5.1   </td><td>3.5   </td><td>1.4   </td><td>0.3   </td><td>setosa</td></tr>\n",
       "\t<tr><td>5.7   </td><td>3.8   </td><td>1.7   </td><td>0.3   </td><td>setosa</td></tr>\n",
       "\t<tr><td>5.1   </td><td>3.8   </td><td>1.5   </td><td>0.3   </td><td>setosa</td></tr>\n",
       "\t<tr><td>5.4   </td><td>3.4   </td><td>1.7   </td><td>0.2   </td><td>setosa</td></tr>\n",
       "\t<tr><td>5.1   </td><td>3.7   </td><td>1.5   </td><td>0.4   </td><td>setosa</td></tr>\n",
       "\t<tr><td>4.6   </td><td>3.6   </td><td>1.0   </td><td>0.2   </td><td>setosa</td></tr>\n",
       "\t<tr><td>5.1   </td><td>3.3   </td><td>1.7   </td><td>0.5   </td><td>setosa</td></tr>\n",
       "\t<tr><td>4.8   </td><td>3.4   </td><td>1.9   </td><td>0.2   </td><td>setosa</td></tr>\n",
       "\t<tr><td>5.0   </td><td>3.0   </td><td>1.6   </td><td>0.2   </td><td>setosa</td></tr>\n",
       "\t<tr><td>5.0   </td><td>3.4   </td><td>1.6   </td><td>0.4   </td><td>setosa</td></tr>\n",
       "\t<tr><td>5.2   </td><td>3.5   </td><td>1.5   </td><td>0.2   </td><td>setosa</td></tr>\n",
       "\t<tr><td>5.2   </td><td>3.4   </td><td>1.4   </td><td>0.2   </td><td>setosa</td></tr>\n",
       "\t<tr><td>4.7   </td><td>3.2   </td><td>1.6   </td><td>0.2   </td><td>setosa</td></tr>\n",
       "\t<tr><td>4.8   </td><td>3.1   </td><td>1.6   </td><td>0.2   </td><td>setosa</td></tr>\n",
       "\t<tr><td>5.4   </td><td>3.4   </td><td>1.5   </td><td>0.4   </td><td>setosa</td></tr>\n",
       "\t<tr><td>5.2   </td><td>4.1   </td><td>1.5   </td><td>0.1   </td><td>setosa</td></tr>\n",
       "\t<tr><td>5.5   </td><td>4.2   </td><td>1.4   </td><td>0.2   </td><td>setosa</td></tr>\n",
       "\t<tr><td>4.9   </td><td>3.1   </td><td>1.5   </td><td>0.2   </td><td>setosa</td></tr>\n",
       "\t<tr><td>5.0   </td><td>3.2   </td><td>1.2   </td><td>0.2   </td><td>setosa</td></tr>\n",
       "\t<tr><td>5.5   </td><td>3.5   </td><td>1.3   </td><td>0.2   </td><td>setosa</td></tr>\n",
       "\t<tr><td>4.9   </td><td>3.6   </td><td>1.4   </td><td>0.1   </td><td>setosa</td></tr>\n",
       "\t<tr><td>4.4   </td><td>3.0   </td><td>1.3   </td><td>0.2   </td><td>setosa</td></tr>\n",
       "\t<tr><td>5.1   </td><td>3.4   </td><td>1.5   </td><td>0.2   </td><td>setosa</td></tr>\n",
       "\t<tr><td>5.0   </td><td>3.5   </td><td>1.3   </td><td>0.3   </td><td>setosa</td></tr>\n",
       "\t<tr><td>4.5   </td><td>2.3   </td><td>1.3   </td><td>0.3   </td><td>setosa</td></tr>\n",
       "\t<tr><td>4.4   </td><td>3.2   </td><td>1.3   </td><td>0.2   </td><td>setosa</td></tr>\n",
       "\t<tr><td>5.0   </td><td>3.5   </td><td>1.6   </td><td>0.6   </td><td>setosa</td></tr>\n",
       "\t<tr><td>5.1   </td><td>3.8   </td><td>1.9   </td><td>0.4   </td><td>setosa</td></tr>\n",
       "\t<tr><td>4.8   </td><td>3.0   </td><td>1.4   </td><td>0.3   </td><td>setosa</td></tr>\n",
       "\t<tr><td>5.1   </td><td>3.8   </td><td>1.6   </td><td>0.2   </td><td>setosa</td></tr>\n",
       "\t<tr><td>4.6   </td><td>3.2   </td><td>1.4   </td><td>0.2   </td><td>setosa</td></tr>\n",
       "\t<tr><td>5.3   </td><td>3.7   </td><td>1.5   </td><td>0.2   </td><td>setosa</td></tr>\n",
       "\t<tr><td>5.0   </td><td>3.3   </td><td>1.4   </td><td>0.2   </td><td>setosa</td></tr>\n",
       "</tbody>\n",
       "</table>\n"
      ],
      "text/latex": [
       "\\begin{tabular}{r|lllll}\n",
       " Sepal.Length & Sepal.Width & Petal.Length & Petal.Width & Species\\\\\n",
       "\\hline\n",
       "\t 5.1    & 3.5    & 1.4    & 0.2    & setosa\\\\\n",
       "\t 4.9    & 3.0    & 1.4    & 0.2    & setosa\\\\\n",
       "\t 4.7    & 3.2    & 1.3    & 0.2    & setosa\\\\\n",
       "\t 4.6    & 3.1    & 1.5    & 0.2    & setosa\\\\\n",
       "\t 5.0    & 3.6    & 1.4    & 0.2    & setosa\\\\\n",
       "\t 5.4    & 3.9    & 1.7    & 0.4    & setosa\\\\\n",
       "\t 4.6    & 3.4    & 1.4    & 0.3    & setosa\\\\\n",
       "\t 5.0    & 3.4    & 1.5    & 0.2    & setosa\\\\\n",
       "\t 4.4    & 2.9    & 1.4    & 0.2    & setosa\\\\\n",
       "\t 4.9    & 3.1    & 1.5    & 0.1    & setosa\\\\\n",
       "\t 5.4    & 3.7    & 1.5    & 0.2    & setosa\\\\\n",
       "\t 4.8    & 3.4    & 1.6    & 0.2    & setosa\\\\\n",
       "\t 4.8    & 3.0    & 1.4    & 0.1    & setosa\\\\\n",
       "\t 4.3    & 3.0    & 1.1    & 0.1    & setosa\\\\\n",
       "\t 5.8    & 4.0    & 1.2    & 0.2    & setosa\\\\\n",
       "\t 5.7    & 4.4    & 1.5    & 0.4    & setosa\\\\\n",
       "\t 5.4    & 3.9    & 1.3    & 0.4    & setosa\\\\\n",
       "\t 5.1    & 3.5    & 1.4    & 0.3    & setosa\\\\\n",
       "\t 5.7    & 3.8    & 1.7    & 0.3    & setosa\\\\\n",
       "\t 5.1    & 3.8    & 1.5    & 0.3    & setosa\\\\\n",
       "\t 5.4    & 3.4    & 1.7    & 0.2    & setosa\\\\\n",
       "\t 5.1    & 3.7    & 1.5    & 0.4    & setosa\\\\\n",
       "\t 4.6    & 3.6    & 1.0    & 0.2    & setosa\\\\\n",
       "\t 5.1    & 3.3    & 1.7    & 0.5    & setosa\\\\\n",
       "\t 4.8    & 3.4    & 1.9    & 0.2    & setosa\\\\\n",
       "\t 5.0    & 3.0    & 1.6    & 0.2    & setosa\\\\\n",
       "\t 5.0    & 3.4    & 1.6    & 0.4    & setosa\\\\\n",
       "\t 5.2    & 3.5    & 1.5    & 0.2    & setosa\\\\\n",
       "\t 5.2    & 3.4    & 1.4    & 0.2    & setosa\\\\\n",
       "\t 4.7    & 3.2    & 1.6    & 0.2    & setosa\\\\\n",
       "\t 4.8    & 3.1    & 1.6    & 0.2    & setosa\\\\\n",
       "\t 5.4    & 3.4    & 1.5    & 0.4    & setosa\\\\\n",
       "\t 5.2    & 4.1    & 1.5    & 0.1    & setosa\\\\\n",
       "\t 5.5    & 4.2    & 1.4    & 0.2    & setosa\\\\\n",
       "\t 4.9    & 3.1    & 1.5    & 0.2    & setosa\\\\\n",
       "\t 5.0    & 3.2    & 1.2    & 0.2    & setosa\\\\\n",
       "\t 5.5    & 3.5    & 1.3    & 0.2    & setosa\\\\\n",
       "\t 4.9    & 3.6    & 1.4    & 0.1    & setosa\\\\\n",
       "\t 4.4    & 3.0    & 1.3    & 0.2    & setosa\\\\\n",
       "\t 5.1    & 3.4    & 1.5    & 0.2    & setosa\\\\\n",
       "\t 5.0    & 3.5    & 1.3    & 0.3    & setosa\\\\\n",
       "\t 4.5    & 2.3    & 1.3    & 0.3    & setosa\\\\\n",
       "\t 4.4    & 3.2    & 1.3    & 0.2    & setosa\\\\\n",
       "\t 5.0    & 3.5    & 1.6    & 0.6    & setosa\\\\\n",
       "\t 5.1    & 3.8    & 1.9    & 0.4    & setosa\\\\\n",
       "\t 4.8    & 3.0    & 1.4    & 0.3    & setosa\\\\\n",
       "\t 5.1    & 3.8    & 1.6    & 0.2    & setosa\\\\\n",
       "\t 4.6    & 3.2    & 1.4    & 0.2    & setosa\\\\\n",
       "\t 5.3    & 3.7    & 1.5    & 0.2    & setosa\\\\\n",
       "\t 5.0    & 3.3    & 1.4    & 0.2    & setosa\\\\\n",
       "\\end{tabular}\n"
      ],
      "text/markdown": [
       "\n",
       "Sepal.Length | Sepal.Width | Petal.Length | Petal.Width | Species | \n",
       "|---|---|---|---|---|---|---|---|---|---|---|---|---|---|---|---|---|---|---|---|---|---|---|---|---|---|---|---|---|---|---|---|---|---|---|---|---|---|---|---|---|---|---|---|---|---|---|---|---|---|\n",
       "| 5.1    | 3.5    | 1.4    | 0.2    | setosa | \n",
       "| 4.9    | 3.0    | 1.4    | 0.2    | setosa | \n",
       "| 4.7    | 3.2    | 1.3    | 0.2    | setosa | \n",
       "| 4.6    | 3.1    | 1.5    | 0.2    | setosa | \n",
       "| 5.0    | 3.6    | 1.4    | 0.2    | setosa | \n",
       "| 5.4    | 3.9    | 1.7    | 0.4    | setosa | \n",
       "| 4.6    | 3.4    | 1.4    | 0.3    | setosa | \n",
       "| 5.0    | 3.4    | 1.5    | 0.2    | setosa | \n",
       "| 4.4    | 2.9    | 1.4    | 0.2    | setosa | \n",
       "| 4.9    | 3.1    | 1.5    | 0.1    | setosa | \n",
       "| 5.4    | 3.7    | 1.5    | 0.2    | setosa | \n",
       "| 4.8    | 3.4    | 1.6    | 0.2    | setosa | \n",
       "| 4.8    | 3.0    | 1.4    | 0.1    | setosa | \n",
       "| 4.3    | 3.0    | 1.1    | 0.1    | setosa | \n",
       "| 5.8    | 4.0    | 1.2    | 0.2    | setosa | \n",
       "| 5.7    | 4.4    | 1.5    | 0.4    | setosa | \n",
       "| 5.4    | 3.9    | 1.3    | 0.4    | setosa | \n",
       "| 5.1    | 3.5    | 1.4    | 0.3    | setosa | \n",
       "| 5.7    | 3.8    | 1.7    | 0.3    | setosa | \n",
       "| 5.1    | 3.8    | 1.5    | 0.3    | setosa | \n",
       "| 5.4    | 3.4    | 1.7    | 0.2    | setosa | \n",
       "| 5.1    | 3.7    | 1.5    | 0.4    | setosa | \n",
       "| 4.6    | 3.6    | 1.0    | 0.2    | setosa | \n",
       "| 5.1    | 3.3    | 1.7    | 0.5    | setosa | \n",
       "| 4.8    | 3.4    | 1.9    | 0.2    | setosa | \n",
       "| 5.0    | 3.0    | 1.6    | 0.2    | setosa | \n",
       "| 5.0    | 3.4    | 1.6    | 0.4    | setosa | \n",
       "| 5.2    | 3.5    | 1.5    | 0.2    | setosa | \n",
       "| 5.2    | 3.4    | 1.4    | 0.2    | setosa | \n",
       "| 4.7    | 3.2    | 1.6    | 0.2    | setosa | \n",
       "| 4.8    | 3.1    | 1.6    | 0.2    | setosa | \n",
       "| 5.4    | 3.4    | 1.5    | 0.4    | setosa | \n",
       "| 5.2    | 4.1    | 1.5    | 0.1    | setosa | \n",
       "| 5.5    | 4.2    | 1.4    | 0.2    | setosa | \n",
       "| 4.9    | 3.1    | 1.5    | 0.2    | setosa | \n",
       "| 5.0    | 3.2    | 1.2    | 0.2    | setosa | \n",
       "| 5.5    | 3.5    | 1.3    | 0.2    | setosa | \n",
       "| 4.9    | 3.6    | 1.4    | 0.1    | setosa | \n",
       "| 4.4    | 3.0    | 1.3    | 0.2    | setosa | \n",
       "| 5.1    | 3.4    | 1.5    | 0.2    | setosa | \n",
       "| 5.0    | 3.5    | 1.3    | 0.3    | setosa | \n",
       "| 4.5    | 2.3    | 1.3    | 0.3    | setosa | \n",
       "| 4.4    | 3.2    | 1.3    | 0.2    | setosa | \n",
       "| 5.0    | 3.5    | 1.6    | 0.6    | setosa | \n",
       "| 5.1    | 3.8    | 1.9    | 0.4    | setosa | \n",
       "| 4.8    | 3.0    | 1.4    | 0.3    | setosa | \n",
       "| 5.1    | 3.8    | 1.6    | 0.2    | setosa | \n",
       "| 4.6    | 3.2    | 1.4    | 0.2    | setosa | \n",
       "| 5.3    | 3.7    | 1.5    | 0.2    | setosa | \n",
       "| 5.0    | 3.3    | 1.4    | 0.2    | setosa | \n",
       "\n",
       "\n"
      ],
      "text/plain": [
       "   Sepal.Length Sepal.Width Petal.Length Petal.Width Species\n",
       "1  5.1          3.5         1.4          0.2         setosa \n",
       "2  4.9          3.0         1.4          0.2         setosa \n",
       "3  4.7          3.2         1.3          0.2         setosa \n",
       "4  4.6          3.1         1.5          0.2         setosa \n",
       "5  5.0          3.6         1.4          0.2         setosa \n",
       "6  5.4          3.9         1.7          0.4         setosa \n",
       "7  4.6          3.4         1.4          0.3         setosa \n",
       "8  5.0          3.4         1.5          0.2         setosa \n",
       "9  4.4          2.9         1.4          0.2         setosa \n",
       "10 4.9          3.1         1.5          0.1         setosa \n",
       "11 5.4          3.7         1.5          0.2         setosa \n",
       "12 4.8          3.4         1.6          0.2         setosa \n",
       "13 4.8          3.0         1.4          0.1         setosa \n",
       "14 4.3          3.0         1.1          0.1         setosa \n",
       "15 5.8          4.0         1.2          0.2         setosa \n",
       "16 5.7          4.4         1.5          0.4         setosa \n",
       "17 5.4          3.9         1.3          0.4         setosa \n",
       "18 5.1          3.5         1.4          0.3         setosa \n",
       "19 5.7          3.8         1.7          0.3         setosa \n",
       "20 5.1          3.8         1.5          0.3         setosa \n",
       "21 5.4          3.4         1.7          0.2         setosa \n",
       "22 5.1          3.7         1.5          0.4         setosa \n",
       "23 4.6          3.6         1.0          0.2         setosa \n",
       "24 5.1          3.3         1.7          0.5         setosa \n",
       "25 4.8          3.4         1.9          0.2         setosa \n",
       "26 5.0          3.0         1.6          0.2         setosa \n",
       "27 5.0          3.4         1.6          0.4         setosa \n",
       "28 5.2          3.5         1.5          0.2         setosa \n",
       "29 5.2          3.4         1.4          0.2         setosa \n",
       "30 4.7          3.2         1.6          0.2         setosa \n",
       "31 4.8          3.1         1.6          0.2         setosa \n",
       "32 5.4          3.4         1.5          0.4         setosa \n",
       "33 5.2          4.1         1.5          0.1         setosa \n",
       "34 5.5          4.2         1.4          0.2         setosa \n",
       "35 4.9          3.1         1.5          0.2         setosa \n",
       "36 5.0          3.2         1.2          0.2         setosa \n",
       "37 5.5          3.5         1.3          0.2         setosa \n",
       "38 4.9          3.6         1.4          0.1         setosa \n",
       "39 4.4          3.0         1.3          0.2         setosa \n",
       "40 5.1          3.4         1.5          0.2         setosa \n",
       "41 5.0          3.5         1.3          0.3         setosa \n",
       "42 4.5          2.3         1.3          0.3         setosa \n",
       "43 4.4          3.2         1.3          0.2         setosa \n",
       "44 5.0          3.5         1.6          0.6         setosa \n",
       "45 5.1          3.8         1.9          0.4         setosa \n",
       "46 4.8          3.0         1.4          0.3         setosa \n",
       "47 5.1          3.8         1.6          0.2         setosa \n",
       "48 4.6          3.2         1.4          0.2         setosa \n",
       "49 5.3          3.7         1.5          0.2         setosa \n",
       "50 5.0          3.3         1.4          0.2         setosa "
      ]
     },
     "metadata": {},
     "output_type": "display_data"
    }
   ],
   "source": [
    "iris[iris$Species == 'setosa',]"
   ]
  },
  {
   "cell_type": "code",
   "execution_count": 311,
   "metadata": {},
   "outputs": [
    {
     "data": {
      "text/html": [
       "<ol class=list-inline>\n",
       "\t<li>1</li>\n",
       "\t<li>2</li>\n",
       "\t<li>3</li>\n",
       "\t<li>4</li>\n",
       "\t<li>5</li>\n",
       "\t<li>6</li>\n",
       "\t<li>7</li>\n",
       "\t<li>8</li>\n",
       "\t<li>9</li>\n",
       "\t<li>10</li>\n",
       "\t<li>11</li>\n",
       "\t<li>12</li>\n",
       "\t<li>13</li>\n",
       "\t<li>14</li>\n",
       "\t<li>15</li>\n",
       "\t<li>16</li>\n",
       "\t<li>17</li>\n",
       "\t<li>18</li>\n",
       "\t<li>19</li>\n",
       "\t<li>20</li>\n",
       "\t<li>21</li>\n",
       "\t<li>22</li>\n",
       "\t<li>23</li>\n",
       "\t<li>24</li>\n",
       "\t<li>25</li>\n",
       "\t<li>26</li>\n",
       "\t<li>27</li>\n",
       "\t<li>28</li>\n",
       "\t<li>29</li>\n",
       "\t<li>30</li>\n",
       "\t<li>31</li>\n",
       "\t<li>32</li>\n",
       "\t<li>33</li>\n",
       "\t<li>34</li>\n",
       "\t<li>35</li>\n",
       "\t<li>36</li>\n",
       "\t<li>37</li>\n",
       "\t<li>38</li>\n",
       "\t<li>39</li>\n",
       "\t<li>40</li>\n",
       "\t<li>41</li>\n",
       "\t<li>42</li>\n",
       "\t<li>43</li>\n",
       "\t<li>44</li>\n",
       "\t<li>45</li>\n",
       "\t<li>46</li>\n",
       "\t<li>47</li>\n",
       "\t<li>48</li>\n",
       "\t<li>49</li>\n",
       "\t<li>50</li>\n",
       "</ol>\n"
      ],
      "text/latex": [
       "\\begin{enumerate*}\n",
       "\\item 1\n",
       "\\item 2\n",
       "\\item 3\n",
       "\\item 4\n",
       "\\item 5\n",
       "\\item 6\n",
       "\\item 7\n",
       "\\item 8\n",
       "\\item 9\n",
       "\\item 10\n",
       "\\item 11\n",
       "\\item 12\n",
       "\\item 13\n",
       "\\item 14\n",
       "\\item 15\n",
       "\\item 16\n",
       "\\item 17\n",
       "\\item 18\n",
       "\\item 19\n",
       "\\item 20\n",
       "\\item 21\n",
       "\\item 22\n",
       "\\item 23\n",
       "\\item 24\n",
       "\\item 25\n",
       "\\item 26\n",
       "\\item 27\n",
       "\\item 28\n",
       "\\item 29\n",
       "\\item 30\n",
       "\\item 31\n",
       "\\item 32\n",
       "\\item 33\n",
       "\\item 34\n",
       "\\item 35\n",
       "\\item 36\n",
       "\\item 37\n",
       "\\item 38\n",
       "\\item 39\n",
       "\\item 40\n",
       "\\item 41\n",
       "\\item 42\n",
       "\\item 43\n",
       "\\item 44\n",
       "\\item 45\n",
       "\\item 46\n",
       "\\item 47\n",
       "\\item 48\n",
       "\\item 49\n",
       "\\item 50\n",
       "\\end{enumerate*}\n"
      ],
      "text/markdown": [
       "1. 1\n",
       "2. 2\n",
       "3. 3\n",
       "4. 4\n",
       "5. 5\n",
       "6. 6\n",
       "7. 7\n",
       "8. 8\n",
       "9. 9\n",
       "10. 10\n",
       "11. 11\n",
       "12. 12\n",
       "13. 13\n",
       "14. 14\n",
       "15. 15\n",
       "16. 16\n",
       "17. 17\n",
       "18. 18\n",
       "19. 19\n",
       "20. 20\n",
       "21. 21\n",
       "22. 22\n",
       "23. 23\n",
       "24. 24\n",
       "25. 25\n",
       "26. 26\n",
       "27. 27\n",
       "28. 28\n",
       "29. 29\n",
       "30. 30\n",
       "31. 31\n",
       "32. 32\n",
       "33. 33\n",
       "34. 34\n",
       "35. 35\n",
       "36. 36\n",
       "37. 37\n",
       "38. 38\n",
       "39. 39\n",
       "40. 40\n",
       "41. 41\n",
       "42. 42\n",
       "43. 43\n",
       "44. 44\n",
       "45. 45\n",
       "46. 46\n",
       "47. 47\n",
       "48. 48\n",
       "49. 49\n",
       "50. 50\n",
       "\n",
       "\n"
      ],
      "text/plain": [
       " [1]  1  2  3  4  5  6  7  8  9 10 11 12 13 14 15 16 17 18 19 20 21 22 23 24 25\n",
       "[26] 26 27 28 29 30 31 32 33 34 35 36 37 38 39 40 41 42 43 44 45 46 47 48 49 50"
      ]
     },
     "metadata": {},
     "output_type": "display_data"
    }
   ],
   "source": [
    "which(iris$Species == 'setosa')"
   ]
  },
  {
   "cell_type": "code",
   "execution_count": 314,
   "metadata": {},
   "outputs": [
    {
     "data": {
      "text/html": [
       "<table>\n",
       "<thead><tr><th scope=col>Species</th><th scope=col>Flower</th></tr></thead>\n",
       "<tbody>\n",
       "\t<tr><td>setosa</td><td>iris  </td></tr>\n",
       "</tbody>\n",
       "</table>\n"
      ],
      "text/latex": [
       "\\begin{tabular}{r|ll}\n",
       " Species & Flower\\\\\n",
       "\\hline\n",
       "\t setosa & iris  \\\\\n",
       "\\end{tabular}\n"
      ],
      "text/markdown": [
       "\n",
       "Species | Flower | \n",
       "|---|\n",
       "| setosa | iris   | \n",
       "\n",
       "\n"
      ],
      "text/plain": [
       "  Species Flower\n",
       "1 setosa  iris  "
      ]
     },
     "metadata": {},
     "output_type": "display_data"
    }
   ],
   "source": [
    "flower.type = data.frame(Species = \"setosa\", Flower = \"iris\")\n",
    "flower.type"
   ]
  },
  {
   "cell_type": "code",
   "execution_count": 315,
   "metadata": {
    "scrolled": true
   },
   "outputs": [
    {
     "data": {
      "text/html": [
       "<table>\n",
       "<thead><tr><th scope=col>Species</th><th scope=col>Sepal.Length</th><th scope=col>Sepal.Width</th><th scope=col>Petal.Length</th><th scope=col>Petal.Width</th><th scope=col>Flower</th></tr></thead>\n",
       "<tbody>\n",
       "\t<tr><td>setosa</td><td>5.4   </td><td>3.9   </td><td>1.7   </td><td>0.4   </td><td>iris  </td></tr>\n",
       "\t<tr><td>setosa</td><td>5.0   </td><td>3.6   </td><td>1.4   </td><td>0.2   </td><td>iris  </td></tr>\n",
       "\t<tr><td>setosa</td><td>4.9   </td><td>3.1   </td><td>1.5   </td><td>0.1   </td><td>iris  </td></tr>\n",
       "\t<tr><td>setosa</td><td>4.6   </td><td>3.4   </td><td>1.4   </td><td>0.3   </td><td>iris  </td></tr>\n",
       "\t<tr><td>setosa</td><td>5.0   </td><td>3.4   </td><td>1.5   </td><td>0.2   </td><td>iris  </td></tr>\n",
       "\t<tr><td>setosa</td><td>4.4   </td><td>2.9   </td><td>1.4   </td><td>0.2   </td><td>iris  </td></tr>\n",
       "\t<tr><td>setosa</td><td>5.1   </td><td>3.5   </td><td>1.4   </td><td>0.2   </td><td>iris  </td></tr>\n",
       "\t<tr><td>setosa</td><td>4.9   </td><td>3.0   </td><td>1.4   </td><td>0.2   </td><td>iris  </td></tr>\n",
       "\t<tr><td>setosa</td><td>4.7   </td><td>3.2   </td><td>1.3   </td><td>0.2   </td><td>iris  </td></tr>\n",
       "\t<tr><td>setosa</td><td>4.6   </td><td>3.1   </td><td>1.5   </td><td>0.2   </td><td>iris  </td></tr>\n",
       "\t<tr><td>setosa</td><td>4.8   </td><td>3.1   </td><td>1.6   </td><td>0.2   </td><td>iris  </td></tr>\n",
       "\t<tr><td>setosa</td><td>5.4   </td><td>3.4   </td><td>1.5   </td><td>0.4   </td><td>iris  </td></tr>\n",
       "\t<tr><td>setosa</td><td>5.2   </td><td>4.1   </td><td>1.5   </td><td>0.1   </td><td>iris  </td></tr>\n",
       "\t<tr><td>setosa</td><td>5.5   </td><td>4.2   </td><td>1.4   </td><td>0.2   </td><td>iris  </td></tr>\n",
       "\t<tr><td>setosa</td><td>4.9   </td><td>3.1   </td><td>1.5   </td><td>0.2   </td><td>iris  </td></tr>\n",
       "\t<tr><td>setosa</td><td>5.0   </td><td>3.2   </td><td>1.2   </td><td>0.2   </td><td>iris  </td></tr>\n",
       "\t<tr><td>setosa</td><td>5.5   </td><td>3.5   </td><td>1.3   </td><td>0.2   </td><td>iris  </td></tr>\n",
       "\t<tr><td>setosa</td><td>4.9   </td><td>3.6   </td><td>1.4   </td><td>0.1   </td><td>iris  </td></tr>\n",
       "\t<tr><td>setosa</td><td>4.4   </td><td>3.0   </td><td>1.3   </td><td>0.2   </td><td>iris  </td></tr>\n",
       "\t<tr><td>setosa</td><td>5.1   </td><td>3.4   </td><td>1.5   </td><td>0.2   </td><td>iris  </td></tr>\n",
       "\t<tr><td>setosa</td><td>5.0   </td><td>3.5   </td><td>1.3   </td><td>0.3   </td><td>iris  </td></tr>\n",
       "\t<tr><td>setosa</td><td>4.5   </td><td>2.3   </td><td>1.3   </td><td>0.3   </td><td>iris  </td></tr>\n",
       "\t<tr><td>setosa</td><td>4.4   </td><td>3.2   </td><td>1.3   </td><td>0.2   </td><td>iris  </td></tr>\n",
       "\t<tr><td>setosa</td><td>5.0   </td><td>3.5   </td><td>1.6   </td><td>0.6   </td><td>iris  </td></tr>\n",
       "\t<tr><td>setosa</td><td>5.1   </td><td>3.8   </td><td>1.9   </td><td>0.4   </td><td>iris  </td></tr>\n",
       "\t<tr><td>setosa</td><td>4.8   </td><td>3.0   </td><td>1.4   </td><td>0.3   </td><td>iris  </td></tr>\n",
       "\t<tr><td>setosa</td><td>5.1   </td><td>3.8   </td><td>1.6   </td><td>0.2   </td><td>iris  </td></tr>\n",
       "\t<tr><td>setosa</td><td>4.6   </td><td>3.2   </td><td>1.4   </td><td>0.2   </td><td>iris  </td></tr>\n",
       "\t<tr><td>setosa</td><td>5.3   </td><td>3.7   </td><td>1.5   </td><td>0.2   </td><td>iris  </td></tr>\n",
       "\t<tr><td>setosa</td><td>5.0   </td><td>3.3   </td><td>1.4   </td><td>0.2   </td><td>iris  </td></tr>\n",
       "\t<tr><td>setosa</td><td>5.4   </td><td>3.7   </td><td>1.5   </td><td>0.2   </td><td>iris  </td></tr>\n",
       "\t<tr><td>setosa</td><td>4.8   </td><td>3.4   </td><td>1.6   </td><td>0.2   </td><td>iris  </td></tr>\n",
       "\t<tr><td>setosa</td><td>4.8   </td><td>3.0   </td><td>1.4   </td><td>0.1   </td><td>iris  </td></tr>\n",
       "\t<tr><td>setosa</td><td>4.3   </td><td>3.0   </td><td>1.1   </td><td>0.1   </td><td>iris  </td></tr>\n",
       "\t<tr><td>setosa</td><td>5.8   </td><td>4.0   </td><td>1.2   </td><td>0.2   </td><td>iris  </td></tr>\n",
       "\t<tr><td>setosa</td><td>5.7   </td><td>4.4   </td><td>1.5   </td><td>0.4   </td><td>iris  </td></tr>\n",
       "\t<tr><td>setosa</td><td>5.4   </td><td>3.9   </td><td>1.3   </td><td>0.4   </td><td>iris  </td></tr>\n",
       "\t<tr><td>setosa</td><td>5.1   </td><td>3.5   </td><td>1.4   </td><td>0.3   </td><td>iris  </td></tr>\n",
       "\t<tr><td>setosa</td><td>5.7   </td><td>3.8   </td><td>1.7   </td><td>0.3   </td><td>iris  </td></tr>\n",
       "\t<tr><td>setosa</td><td>5.1   </td><td>3.8   </td><td>1.5   </td><td>0.3   </td><td>iris  </td></tr>\n",
       "\t<tr><td>setosa</td><td>5.4   </td><td>3.4   </td><td>1.7   </td><td>0.2   </td><td>iris  </td></tr>\n",
       "\t<tr><td>setosa</td><td>5.1   </td><td>3.7   </td><td>1.5   </td><td>0.4   </td><td>iris  </td></tr>\n",
       "\t<tr><td>setosa</td><td>4.6   </td><td>3.6   </td><td>1.0   </td><td>0.2   </td><td>iris  </td></tr>\n",
       "\t<tr><td>setosa</td><td>5.1   </td><td>3.3   </td><td>1.7   </td><td>0.5   </td><td>iris  </td></tr>\n",
       "\t<tr><td>setosa</td><td>4.8   </td><td>3.4   </td><td>1.9   </td><td>0.2   </td><td>iris  </td></tr>\n",
       "\t<tr><td>setosa</td><td>5.0   </td><td>3.0   </td><td>1.6   </td><td>0.2   </td><td>iris  </td></tr>\n",
       "\t<tr><td>setosa</td><td>5.0   </td><td>3.4   </td><td>1.6   </td><td>0.4   </td><td>iris  </td></tr>\n",
       "\t<tr><td>setosa</td><td>5.2   </td><td>3.5   </td><td>1.5   </td><td>0.2   </td><td>iris  </td></tr>\n",
       "\t<tr><td>setosa</td><td>5.2   </td><td>3.4   </td><td>1.4   </td><td>0.2   </td><td>iris  </td></tr>\n",
       "\t<tr><td>setosa</td><td>4.7   </td><td>3.2   </td><td>1.6   </td><td>0.2   </td><td>iris  </td></tr>\n",
       "</tbody>\n",
       "</table>\n"
      ],
      "text/latex": [
       "\\begin{tabular}{r|llllll}\n",
       " Species & Sepal.Length & Sepal.Width & Petal.Length & Petal.Width & Flower\\\\\n",
       "\\hline\n",
       "\t setosa & 5.4    & 3.9    & 1.7    & 0.4    & iris  \\\\\n",
       "\t setosa & 5.0    & 3.6    & 1.4    & 0.2    & iris  \\\\\n",
       "\t setosa & 4.9    & 3.1    & 1.5    & 0.1    & iris  \\\\\n",
       "\t setosa & 4.6    & 3.4    & 1.4    & 0.3    & iris  \\\\\n",
       "\t setosa & 5.0    & 3.4    & 1.5    & 0.2    & iris  \\\\\n",
       "\t setosa & 4.4    & 2.9    & 1.4    & 0.2    & iris  \\\\\n",
       "\t setosa & 5.1    & 3.5    & 1.4    & 0.2    & iris  \\\\\n",
       "\t setosa & 4.9    & 3.0    & 1.4    & 0.2    & iris  \\\\\n",
       "\t setosa & 4.7    & 3.2    & 1.3    & 0.2    & iris  \\\\\n",
       "\t setosa & 4.6    & 3.1    & 1.5    & 0.2    & iris  \\\\\n",
       "\t setosa & 4.8    & 3.1    & 1.6    & 0.2    & iris  \\\\\n",
       "\t setosa & 5.4    & 3.4    & 1.5    & 0.4    & iris  \\\\\n",
       "\t setosa & 5.2    & 4.1    & 1.5    & 0.1    & iris  \\\\\n",
       "\t setosa & 5.5    & 4.2    & 1.4    & 0.2    & iris  \\\\\n",
       "\t setosa & 4.9    & 3.1    & 1.5    & 0.2    & iris  \\\\\n",
       "\t setosa & 5.0    & 3.2    & 1.2    & 0.2    & iris  \\\\\n",
       "\t setosa & 5.5    & 3.5    & 1.3    & 0.2    & iris  \\\\\n",
       "\t setosa & 4.9    & 3.6    & 1.4    & 0.1    & iris  \\\\\n",
       "\t setosa & 4.4    & 3.0    & 1.3    & 0.2    & iris  \\\\\n",
       "\t setosa & 5.1    & 3.4    & 1.5    & 0.2    & iris  \\\\\n",
       "\t setosa & 5.0    & 3.5    & 1.3    & 0.3    & iris  \\\\\n",
       "\t setosa & 4.5    & 2.3    & 1.3    & 0.3    & iris  \\\\\n",
       "\t setosa & 4.4    & 3.2    & 1.3    & 0.2    & iris  \\\\\n",
       "\t setosa & 5.0    & 3.5    & 1.6    & 0.6    & iris  \\\\\n",
       "\t setosa & 5.1    & 3.8    & 1.9    & 0.4    & iris  \\\\\n",
       "\t setosa & 4.8    & 3.0    & 1.4    & 0.3    & iris  \\\\\n",
       "\t setosa & 5.1    & 3.8    & 1.6    & 0.2    & iris  \\\\\n",
       "\t setosa & 4.6    & 3.2    & 1.4    & 0.2    & iris  \\\\\n",
       "\t setosa & 5.3    & 3.7    & 1.5    & 0.2    & iris  \\\\\n",
       "\t setosa & 5.0    & 3.3    & 1.4    & 0.2    & iris  \\\\\n",
       "\t setosa & 5.4    & 3.7    & 1.5    & 0.2    & iris  \\\\\n",
       "\t setosa & 4.8    & 3.4    & 1.6    & 0.2    & iris  \\\\\n",
       "\t setosa & 4.8    & 3.0    & 1.4    & 0.1    & iris  \\\\\n",
       "\t setosa & 4.3    & 3.0    & 1.1    & 0.1    & iris  \\\\\n",
       "\t setosa & 5.8    & 4.0    & 1.2    & 0.2    & iris  \\\\\n",
       "\t setosa & 5.7    & 4.4    & 1.5    & 0.4    & iris  \\\\\n",
       "\t setosa & 5.4    & 3.9    & 1.3    & 0.4    & iris  \\\\\n",
       "\t setosa & 5.1    & 3.5    & 1.4    & 0.3    & iris  \\\\\n",
       "\t setosa & 5.7    & 3.8    & 1.7    & 0.3    & iris  \\\\\n",
       "\t setosa & 5.1    & 3.8    & 1.5    & 0.3    & iris  \\\\\n",
       "\t setosa & 5.4    & 3.4    & 1.7    & 0.2    & iris  \\\\\n",
       "\t setosa & 5.1    & 3.7    & 1.5    & 0.4    & iris  \\\\\n",
       "\t setosa & 4.6    & 3.6    & 1.0    & 0.2    & iris  \\\\\n",
       "\t setosa & 5.1    & 3.3    & 1.7    & 0.5    & iris  \\\\\n",
       "\t setosa & 4.8    & 3.4    & 1.9    & 0.2    & iris  \\\\\n",
       "\t setosa & 5.0    & 3.0    & 1.6    & 0.2    & iris  \\\\\n",
       "\t setosa & 5.0    & 3.4    & 1.6    & 0.4    & iris  \\\\\n",
       "\t setosa & 5.2    & 3.5    & 1.5    & 0.2    & iris  \\\\\n",
       "\t setosa & 5.2    & 3.4    & 1.4    & 0.2    & iris  \\\\\n",
       "\t setosa & 4.7    & 3.2    & 1.6    & 0.2    & iris  \\\\\n",
       "\\end{tabular}\n"
      ],
      "text/markdown": [
       "\n",
       "Species | Sepal.Length | Sepal.Width | Petal.Length | Petal.Width | Flower | \n",
       "|---|---|---|---|---|---|---|---|---|---|---|---|---|---|---|---|---|---|---|---|---|---|---|---|---|---|---|---|---|---|---|---|---|---|---|---|---|---|---|---|---|---|---|---|---|---|---|---|---|---|\n",
       "| setosa | 5.4    | 3.9    | 1.7    | 0.4    | iris   | \n",
       "| setosa | 5.0    | 3.6    | 1.4    | 0.2    | iris   | \n",
       "| setosa | 4.9    | 3.1    | 1.5    | 0.1    | iris   | \n",
       "| setosa | 4.6    | 3.4    | 1.4    | 0.3    | iris   | \n",
       "| setosa | 5.0    | 3.4    | 1.5    | 0.2    | iris   | \n",
       "| setosa | 4.4    | 2.9    | 1.4    | 0.2    | iris   | \n",
       "| setosa | 5.1    | 3.5    | 1.4    | 0.2    | iris   | \n",
       "| setosa | 4.9    | 3.0    | 1.4    | 0.2    | iris   | \n",
       "| setosa | 4.7    | 3.2    | 1.3    | 0.2    | iris   | \n",
       "| setosa | 4.6    | 3.1    | 1.5    | 0.2    | iris   | \n",
       "| setosa | 4.8    | 3.1    | 1.6    | 0.2    | iris   | \n",
       "| setosa | 5.4    | 3.4    | 1.5    | 0.4    | iris   | \n",
       "| setosa | 5.2    | 4.1    | 1.5    | 0.1    | iris   | \n",
       "| setosa | 5.5    | 4.2    | 1.4    | 0.2    | iris   | \n",
       "| setosa | 4.9    | 3.1    | 1.5    | 0.2    | iris   | \n",
       "| setosa | 5.0    | 3.2    | 1.2    | 0.2    | iris   | \n",
       "| setosa | 5.5    | 3.5    | 1.3    | 0.2    | iris   | \n",
       "| setosa | 4.9    | 3.6    | 1.4    | 0.1    | iris   | \n",
       "| setosa | 4.4    | 3.0    | 1.3    | 0.2    | iris   | \n",
       "| setosa | 5.1    | 3.4    | 1.5    | 0.2    | iris   | \n",
       "| setosa | 5.0    | 3.5    | 1.3    | 0.3    | iris   | \n",
       "| setosa | 4.5    | 2.3    | 1.3    | 0.3    | iris   | \n",
       "| setosa | 4.4    | 3.2    | 1.3    | 0.2    | iris   | \n",
       "| setosa | 5.0    | 3.5    | 1.6    | 0.6    | iris   | \n",
       "| setosa | 5.1    | 3.8    | 1.9    | 0.4    | iris   | \n",
       "| setosa | 4.8    | 3.0    | 1.4    | 0.3    | iris   | \n",
       "| setosa | 5.1    | 3.8    | 1.6    | 0.2    | iris   | \n",
       "| setosa | 4.6    | 3.2    | 1.4    | 0.2    | iris   | \n",
       "| setosa | 5.3    | 3.7    | 1.5    | 0.2    | iris   | \n",
       "| setosa | 5.0    | 3.3    | 1.4    | 0.2    | iris   | \n",
       "| setosa | 5.4    | 3.7    | 1.5    | 0.2    | iris   | \n",
       "| setosa | 4.8    | 3.4    | 1.6    | 0.2    | iris   | \n",
       "| setosa | 4.8    | 3.0    | 1.4    | 0.1    | iris   | \n",
       "| setosa | 4.3    | 3.0    | 1.1    | 0.1    | iris   | \n",
       "| setosa | 5.8    | 4.0    | 1.2    | 0.2    | iris   | \n",
       "| setosa | 5.7    | 4.4    | 1.5    | 0.4    | iris   | \n",
       "| setosa | 5.4    | 3.9    | 1.3    | 0.4    | iris   | \n",
       "| setosa | 5.1    | 3.5    | 1.4    | 0.3    | iris   | \n",
       "| setosa | 5.7    | 3.8    | 1.7    | 0.3    | iris   | \n",
       "| setosa | 5.1    | 3.8    | 1.5    | 0.3    | iris   | \n",
       "| setosa | 5.4    | 3.4    | 1.7    | 0.2    | iris   | \n",
       "| setosa | 5.1    | 3.7    | 1.5    | 0.4    | iris   | \n",
       "| setosa | 4.6    | 3.6    | 1.0    | 0.2    | iris   | \n",
       "| setosa | 5.1    | 3.3    | 1.7    | 0.5    | iris   | \n",
       "| setosa | 4.8    | 3.4    | 1.9    | 0.2    | iris   | \n",
       "| setosa | 5.0    | 3.0    | 1.6    | 0.2    | iris   | \n",
       "| setosa | 5.0    | 3.4    | 1.6    | 0.4    | iris   | \n",
       "| setosa | 5.2    | 3.5    | 1.5    | 0.2    | iris   | \n",
       "| setosa | 5.2    | 3.4    | 1.4    | 0.2    | iris   | \n",
       "| setosa | 4.7    | 3.2    | 1.6    | 0.2    | iris   | \n",
       "\n",
       "\n"
      ],
      "text/plain": [
       "   Species Sepal.Length Sepal.Width Petal.Length Petal.Width Flower\n",
       "1  setosa  5.4          3.9         1.7          0.4         iris  \n",
       "2  setosa  5.0          3.6         1.4          0.2         iris  \n",
       "3  setosa  4.9          3.1         1.5          0.1         iris  \n",
       "4  setosa  4.6          3.4         1.4          0.3         iris  \n",
       "5  setosa  5.0          3.4         1.5          0.2         iris  \n",
       "6  setosa  4.4          2.9         1.4          0.2         iris  \n",
       "7  setosa  5.1          3.5         1.4          0.2         iris  \n",
       "8  setosa  4.9          3.0         1.4          0.2         iris  \n",
       "9  setosa  4.7          3.2         1.3          0.2         iris  \n",
       "10 setosa  4.6          3.1         1.5          0.2         iris  \n",
       "11 setosa  4.8          3.1         1.6          0.2         iris  \n",
       "12 setosa  5.4          3.4         1.5          0.4         iris  \n",
       "13 setosa  5.2          4.1         1.5          0.1         iris  \n",
       "14 setosa  5.5          4.2         1.4          0.2         iris  \n",
       "15 setosa  4.9          3.1         1.5          0.2         iris  \n",
       "16 setosa  5.0          3.2         1.2          0.2         iris  \n",
       "17 setosa  5.5          3.5         1.3          0.2         iris  \n",
       "18 setosa  4.9          3.6         1.4          0.1         iris  \n",
       "19 setosa  4.4          3.0         1.3          0.2         iris  \n",
       "20 setosa  5.1          3.4         1.5          0.2         iris  \n",
       "21 setosa  5.0          3.5         1.3          0.3         iris  \n",
       "22 setosa  4.5          2.3         1.3          0.3         iris  \n",
       "23 setosa  4.4          3.2         1.3          0.2         iris  \n",
       "24 setosa  5.0          3.5         1.6          0.6         iris  \n",
       "25 setosa  5.1          3.8         1.9          0.4         iris  \n",
       "26 setosa  4.8          3.0         1.4          0.3         iris  \n",
       "27 setosa  5.1          3.8         1.6          0.2         iris  \n",
       "28 setosa  4.6          3.2         1.4          0.2         iris  \n",
       "29 setosa  5.3          3.7         1.5          0.2         iris  \n",
       "30 setosa  5.0          3.3         1.4          0.2         iris  \n",
       "31 setosa  5.4          3.7         1.5          0.2         iris  \n",
       "32 setosa  4.8          3.4         1.6          0.2         iris  \n",
       "33 setosa  4.8          3.0         1.4          0.1         iris  \n",
       "34 setosa  4.3          3.0         1.1          0.1         iris  \n",
       "35 setosa  5.8          4.0         1.2          0.2         iris  \n",
       "36 setosa  5.7          4.4         1.5          0.4         iris  \n",
       "37 setosa  5.4          3.9         1.3          0.4         iris  \n",
       "38 setosa  5.1          3.5         1.4          0.3         iris  \n",
       "39 setosa  5.7          3.8         1.7          0.3         iris  \n",
       "40 setosa  5.1          3.8         1.5          0.3         iris  \n",
       "41 setosa  5.4          3.4         1.7          0.2         iris  \n",
       "42 setosa  5.1          3.7         1.5          0.4         iris  \n",
       "43 setosa  4.6          3.6         1.0          0.2         iris  \n",
       "44 setosa  5.1          3.3         1.7          0.5         iris  \n",
       "45 setosa  4.8          3.4         1.9          0.2         iris  \n",
       "46 setosa  5.0          3.0         1.6          0.2         iris  \n",
       "47 setosa  5.0          3.4         1.6          0.4         iris  \n",
       "48 setosa  5.2          3.5         1.5          0.2         iris  \n",
       "49 setosa  5.2          3.4         1.4          0.2         iris  \n",
       "50 setosa  4.7          3.2         1.6          0.2         iris  "
      ]
     },
     "metadata": {},
     "output_type": "display_data"
    }
   ],
   "source": [
    "merge(iris,flower.type,by='Species')"
   ]
  },
  {
   "cell_type": "code",
   "execution_count": 316,
   "metadata": {},
   "outputs": [],
   "source": [
    "df1 = data.frame(CustomerId = c(1:6), Product = c(rep(\"Toaster\", 3), rep(\"Radio\", 3)))\n",
    "df2 = data.frame(CustomerId = c(2, 4, 6), State = c(rep(\"Alabama\", 2), rep(\"Ohio\", 1)))"
   ]
  },
  {
   "cell_type": "code",
   "execution_count": 317,
   "metadata": {},
   "outputs": [
    {
     "data": {
      "text/html": [
       "<table>\n",
       "<thead><tr><th scope=col>CustomerId</th><th scope=col>Product</th></tr></thead>\n",
       "<tbody>\n",
       "\t<tr><td>1      </td><td>Toaster</td></tr>\n",
       "\t<tr><td>2      </td><td>Toaster</td></tr>\n",
       "\t<tr><td>3      </td><td>Toaster</td></tr>\n",
       "\t<tr><td>4      </td><td>Radio  </td></tr>\n",
       "\t<tr><td>5      </td><td>Radio  </td></tr>\n",
       "\t<tr><td>6      </td><td>Radio  </td></tr>\n",
       "</tbody>\n",
       "</table>\n"
      ],
      "text/latex": [
       "\\begin{tabular}{r|ll}\n",
       " CustomerId & Product\\\\\n",
       "\\hline\n",
       "\t 1       & Toaster\\\\\n",
       "\t 2       & Toaster\\\\\n",
       "\t 3       & Toaster\\\\\n",
       "\t 4       & Radio  \\\\\n",
       "\t 5       & Radio  \\\\\n",
       "\t 6       & Radio  \\\\\n",
       "\\end{tabular}\n"
      ],
      "text/markdown": [
       "\n",
       "CustomerId | Product | \n",
       "|---|---|---|---|---|---|\n",
       "| 1       | Toaster | \n",
       "| 2       | Toaster | \n",
       "| 3       | Toaster | \n",
       "| 4       | Radio   | \n",
       "| 5       | Radio   | \n",
       "| 6       | Radio   | \n",
       "\n",
       "\n"
      ],
      "text/plain": [
       "  CustomerId Product\n",
       "1 1          Toaster\n",
       "2 2          Toaster\n",
       "3 3          Toaster\n",
       "4 4          Radio  \n",
       "5 5          Radio  \n",
       "6 6          Radio  "
      ]
     },
     "metadata": {},
     "output_type": "display_data"
    }
   ],
   "source": [
    "df1"
   ]
  },
  {
   "cell_type": "code",
   "execution_count": 318,
   "metadata": {},
   "outputs": [
    {
     "data": {
      "text/html": [
       "<table>\n",
       "<thead><tr><th scope=col>CustomerId</th><th scope=col>State</th></tr></thead>\n",
       "<tbody>\n",
       "\t<tr><td>2      </td><td>Alabama</td></tr>\n",
       "\t<tr><td>4      </td><td>Alabama</td></tr>\n",
       "\t<tr><td>6      </td><td>Ohio   </td></tr>\n",
       "</tbody>\n",
       "</table>\n"
      ],
      "text/latex": [
       "\\begin{tabular}{r|ll}\n",
       " CustomerId & State\\\\\n",
       "\\hline\n",
       "\t 2       & Alabama\\\\\n",
       "\t 4       & Alabama\\\\\n",
       "\t 6       & Ohio   \\\\\n",
       "\\end{tabular}\n"
      ],
      "text/markdown": [
       "\n",
       "CustomerId | State | \n",
       "|---|---|---|\n",
       "| 2       | Alabama | \n",
       "| 4       | Alabama | \n",
       "| 6       | Ohio    | \n",
       "\n",
       "\n"
      ],
      "text/plain": [
       "  CustomerId State  \n",
       "1 2          Alabama\n",
       "2 4          Alabama\n",
       "3 6          Ohio   "
      ]
     },
     "metadata": {},
     "output_type": "display_data"
    }
   ],
   "source": [
    "df2"
   ]
  },
  {
   "cell_type": "code",
   "execution_count": 321,
   "metadata": {},
   "outputs": [
    {
     "data": {
      "text/html": [
       "<table>\n",
       "<thead><tr><th scope=col>CustomerId</th><th scope=col>Product</th><th scope=col>State</th></tr></thead>\n",
       "<tbody>\n",
       "\t<tr><td>2      </td><td>Toaster</td><td>Alabama</td></tr>\n",
       "\t<tr><td>4      </td><td>Radio  </td><td>Alabama</td></tr>\n",
       "\t<tr><td>6      </td><td>Radio  </td><td>Ohio   </td></tr>\n",
       "</tbody>\n",
       "</table>\n"
      ],
      "text/latex": [
       "\\begin{tabular}{r|lll}\n",
       " CustomerId & Product & State\\\\\n",
       "\\hline\n",
       "\t 2       & Toaster & Alabama\\\\\n",
       "\t 4       & Radio   & Alabama\\\\\n",
       "\t 6       & Radio   & Ohio   \\\\\n",
       "\\end{tabular}\n"
      ],
      "text/markdown": [
       "\n",
       "CustomerId | Product | State | \n",
       "|---|---|---|\n",
       "| 2       | Toaster | Alabama | \n",
       "| 4       | Radio   | Alabama | \n",
       "| 6       | Radio   | Ohio    | \n",
       "\n",
       "\n"
      ],
      "text/plain": [
       "  CustomerId Product State  \n",
       "1 2          Toaster Alabama\n",
       "2 4          Radio   Alabama\n",
       "3 6          Radio   Ohio   "
      ]
     },
     "metadata": {},
     "output_type": "display_data"
    }
   ],
   "source": [
    "#inner join\n",
    "merge(x=df1,y=df2,by='CustomerId')"
   ]
  },
  {
   "cell_type": "code",
   "execution_count": 323,
   "metadata": {},
   "outputs": [
    {
     "data": {
      "text/html": [
       "<table>\n",
       "<thead><tr><th scope=col>CustomerId</th><th scope=col>Product</th><th scope=col>State</th></tr></thead>\n",
       "<tbody>\n",
       "\t<tr><td>1      </td><td>Toaster</td><td>NA     </td></tr>\n",
       "\t<tr><td>2      </td><td>Toaster</td><td>Alabama</td></tr>\n",
       "\t<tr><td>3      </td><td>Toaster</td><td>NA     </td></tr>\n",
       "\t<tr><td>4      </td><td>Radio  </td><td>Alabama</td></tr>\n",
       "\t<tr><td>5      </td><td>Radio  </td><td>NA     </td></tr>\n",
       "\t<tr><td>6      </td><td>Radio  </td><td>Ohio   </td></tr>\n",
       "</tbody>\n",
       "</table>\n"
      ],
      "text/latex": [
       "\\begin{tabular}{r|lll}\n",
       " CustomerId & Product & State\\\\\n",
       "\\hline\n",
       "\t 1       & Toaster & NA     \\\\\n",
       "\t 2       & Toaster & Alabama\\\\\n",
       "\t 3       & Toaster & NA     \\\\\n",
       "\t 4       & Radio   & Alabama\\\\\n",
       "\t 5       & Radio   & NA     \\\\\n",
       "\t 6       & Radio   & Ohio   \\\\\n",
       "\\end{tabular}\n"
      ],
      "text/markdown": [
       "\n",
       "CustomerId | Product | State | \n",
       "|---|---|---|---|---|---|\n",
       "| 1       | Toaster | NA      | \n",
       "| 2       | Toaster | Alabama | \n",
       "| 3       | Toaster | NA      | \n",
       "| 4       | Radio   | Alabama | \n",
       "| 5       | Radio   | NA      | \n",
       "| 6       | Radio   | Ohio    | \n",
       "\n",
       "\n"
      ],
      "text/plain": [
       "  CustomerId Product State  \n",
       "1 1          Toaster NA     \n",
       "2 2          Toaster Alabama\n",
       "3 3          Toaster NA     \n",
       "4 4          Radio   Alabama\n",
       "5 5          Radio   NA     \n",
       "6 6          Radio   Ohio   "
      ]
     },
     "metadata": {},
     "output_type": "display_data"
    }
   ],
   "source": [
    "#outer join\n",
    "merge(x=df1,y=df2,by=\"CustomerId\",all=TRUE)"
   ]
  },
  {
   "cell_type": "code",
   "execution_count": 324,
   "metadata": {},
   "outputs": [
    {
     "data": {
      "text/html": [
       "<table>\n",
       "<thead><tr><th scope=col>CustomerId</th><th scope=col>Product</th><th scope=col>State</th></tr></thead>\n",
       "<tbody>\n",
       "\t<tr><td>1      </td><td>Toaster</td><td>NA     </td></tr>\n",
       "\t<tr><td>2      </td><td>Toaster</td><td>Alabama</td></tr>\n",
       "\t<tr><td>3      </td><td>Toaster</td><td>NA     </td></tr>\n",
       "\t<tr><td>4      </td><td>Radio  </td><td>Alabama</td></tr>\n",
       "\t<tr><td>5      </td><td>Radio  </td><td>NA     </td></tr>\n",
       "\t<tr><td>6      </td><td>Radio  </td><td>Ohio   </td></tr>\n",
       "</tbody>\n",
       "</table>\n"
      ],
      "text/latex": [
       "\\begin{tabular}{r|lll}\n",
       " CustomerId & Product & State\\\\\n",
       "\\hline\n",
       "\t 1       & Toaster & NA     \\\\\n",
       "\t 2       & Toaster & Alabama\\\\\n",
       "\t 3       & Toaster & NA     \\\\\n",
       "\t 4       & Radio   & Alabama\\\\\n",
       "\t 5       & Radio   & NA     \\\\\n",
       "\t 6       & Radio   & Ohio   \\\\\n",
       "\\end{tabular}\n"
      ],
      "text/markdown": [
       "\n",
       "CustomerId | Product | State | \n",
       "|---|---|---|---|---|---|\n",
       "| 1       | Toaster | NA      | \n",
       "| 2       | Toaster | Alabama | \n",
       "| 3       | Toaster | NA      | \n",
       "| 4       | Radio   | Alabama | \n",
       "| 5       | Radio   | NA      | \n",
       "| 6       | Radio   | Ohio    | \n",
       "\n",
       "\n"
      ],
      "text/plain": [
       "  CustomerId Product State  \n",
       "1 1          Toaster NA     \n",
       "2 2          Toaster Alabama\n",
       "3 3          Toaster NA     \n",
       "4 4          Radio   Alabama\n",
       "5 5          Radio   NA     \n",
       "6 6          Radio   Ohio   "
      ]
     },
     "metadata": {},
     "output_type": "display_data"
    }
   ],
   "source": [
    "#left outer join\n",
    "merge(x=df1,y=df2,by=\"CustomerId\",all.x=TRUE)"
   ]
  },
  {
   "cell_type": "code",
   "execution_count": 325,
   "metadata": {},
   "outputs": [
    {
     "data": {
      "text/html": [
       "<table>\n",
       "<thead><tr><th scope=col>CustomerId</th><th scope=col>Product</th><th scope=col>State</th></tr></thead>\n",
       "<tbody>\n",
       "\t<tr><td>2      </td><td>Toaster</td><td>Alabama</td></tr>\n",
       "\t<tr><td>4      </td><td>Radio  </td><td>Alabama</td></tr>\n",
       "\t<tr><td>6      </td><td>Radio  </td><td>Ohio   </td></tr>\n",
       "</tbody>\n",
       "</table>\n"
      ],
      "text/latex": [
       "\\begin{tabular}{r|lll}\n",
       " CustomerId & Product & State\\\\\n",
       "\\hline\n",
       "\t 2       & Toaster & Alabama\\\\\n",
       "\t 4       & Radio   & Alabama\\\\\n",
       "\t 6       & Radio   & Ohio   \\\\\n",
       "\\end{tabular}\n"
      ],
      "text/markdown": [
       "\n",
       "CustomerId | Product | State | \n",
       "|---|---|---|\n",
       "| 2       | Toaster | Alabama | \n",
       "| 4       | Radio   | Alabama | \n",
       "| 6       | Radio   | Ohio    | \n",
       "\n",
       "\n"
      ],
      "text/plain": [
       "  CustomerId Product State  \n",
       "1 2          Toaster Alabama\n",
       "2 4          Radio   Alabama\n",
       "3 6          Radio   Ohio   "
      ]
     },
     "metadata": {},
     "output_type": "display_data"
    }
   ],
   "source": [
    "#right outer join\n",
    "merge(x=df1,y=df2,by=\"CustomerId\",all.y=TRUE)"
   ]
  },
  {
   "cell_type": "code",
   "execution_count": 326,
   "metadata": {},
   "outputs": [
    {
     "data": {
      "text/html": [
       "<table>\n",
       "<thead><tr><th scope=col>CustomerId.x</th><th scope=col>Product</th><th scope=col>CustomerId.y</th><th scope=col>State</th></tr></thead>\n",
       "<tbody>\n",
       "\t<tr><td>1      </td><td>Toaster</td><td>2      </td><td>Alabama</td></tr>\n",
       "\t<tr><td>2      </td><td>Toaster</td><td>2      </td><td>Alabama</td></tr>\n",
       "\t<tr><td>3      </td><td>Toaster</td><td>2      </td><td>Alabama</td></tr>\n",
       "\t<tr><td>4      </td><td>Radio  </td><td>2      </td><td>Alabama</td></tr>\n",
       "\t<tr><td>5      </td><td>Radio  </td><td>2      </td><td>Alabama</td></tr>\n",
       "\t<tr><td>6      </td><td>Radio  </td><td>2      </td><td>Alabama</td></tr>\n",
       "\t<tr><td>1      </td><td>Toaster</td><td>4      </td><td>Alabama</td></tr>\n",
       "\t<tr><td>2      </td><td>Toaster</td><td>4      </td><td>Alabama</td></tr>\n",
       "\t<tr><td>3      </td><td>Toaster</td><td>4      </td><td>Alabama</td></tr>\n",
       "\t<tr><td>4      </td><td>Radio  </td><td>4      </td><td>Alabama</td></tr>\n",
       "\t<tr><td>5      </td><td>Radio  </td><td>4      </td><td>Alabama</td></tr>\n",
       "\t<tr><td>6      </td><td>Radio  </td><td>4      </td><td>Alabama</td></tr>\n",
       "\t<tr><td>1      </td><td>Toaster</td><td>6      </td><td>Ohio   </td></tr>\n",
       "\t<tr><td>2      </td><td>Toaster</td><td>6      </td><td>Ohio   </td></tr>\n",
       "\t<tr><td>3      </td><td>Toaster</td><td>6      </td><td>Ohio   </td></tr>\n",
       "\t<tr><td>4      </td><td>Radio  </td><td>6      </td><td>Ohio   </td></tr>\n",
       "\t<tr><td>5      </td><td>Radio  </td><td>6      </td><td>Ohio   </td></tr>\n",
       "\t<tr><td>6      </td><td>Radio  </td><td>6      </td><td>Ohio   </td></tr>\n",
       "</tbody>\n",
       "</table>\n"
      ],
      "text/latex": [
       "\\begin{tabular}{r|llll}\n",
       " CustomerId.x & Product & CustomerId.y & State\\\\\n",
       "\\hline\n",
       "\t 1       & Toaster & 2       & Alabama\\\\\n",
       "\t 2       & Toaster & 2       & Alabama\\\\\n",
       "\t 3       & Toaster & 2       & Alabama\\\\\n",
       "\t 4       & Radio   & 2       & Alabama\\\\\n",
       "\t 5       & Radio   & 2       & Alabama\\\\\n",
       "\t 6       & Radio   & 2       & Alabama\\\\\n",
       "\t 1       & Toaster & 4       & Alabama\\\\\n",
       "\t 2       & Toaster & 4       & Alabama\\\\\n",
       "\t 3       & Toaster & 4       & Alabama\\\\\n",
       "\t 4       & Radio   & 4       & Alabama\\\\\n",
       "\t 5       & Radio   & 4       & Alabama\\\\\n",
       "\t 6       & Radio   & 4       & Alabama\\\\\n",
       "\t 1       & Toaster & 6       & Ohio   \\\\\n",
       "\t 2       & Toaster & 6       & Ohio   \\\\\n",
       "\t 3       & Toaster & 6       & Ohio   \\\\\n",
       "\t 4       & Radio   & 6       & Ohio   \\\\\n",
       "\t 5       & Radio   & 6       & Ohio   \\\\\n",
       "\t 6       & Radio   & 6       & Ohio   \\\\\n",
       "\\end{tabular}\n"
      ],
      "text/markdown": [
       "\n",
       "CustomerId.x | Product | CustomerId.y | State | \n",
       "|---|---|---|---|---|---|---|---|---|---|---|---|---|---|---|---|---|---|\n",
       "| 1       | Toaster | 2       | Alabama | \n",
       "| 2       | Toaster | 2       | Alabama | \n",
       "| 3       | Toaster | 2       | Alabama | \n",
       "| 4       | Radio   | 2       | Alabama | \n",
       "| 5       | Radio   | 2       | Alabama | \n",
       "| 6       | Radio   | 2       | Alabama | \n",
       "| 1       | Toaster | 4       | Alabama | \n",
       "| 2       | Toaster | 4       | Alabama | \n",
       "| 3       | Toaster | 4       | Alabama | \n",
       "| 4       | Radio   | 4       | Alabama | \n",
       "| 5       | Radio   | 4       | Alabama | \n",
       "| 6       | Radio   | 4       | Alabama | \n",
       "| 1       | Toaster | 6       | Ohio    | \n",
       "| 2       | Toaster | 6       | Ohio    | \n",
       "| 3       | Toaster | 6       | Ohio    | \n",
       "| 4       | Radio   | 6       | Ohio    | \n",
       "| 5       | Radio   | 6       | Ohio    | \n",
       "| 6       | Radio   | 6       | Ohio    | \n",
       "\n",
       "\n"
      ],
      "text/plain": [
       "   CustomerId.x Product CustomerId.y State  \n",
       "1  1            Toaster 2            Alabama\n",
       "2  2            Toaster 2            Alabama\n",
       "3  3            Toaster 2            Alabama\n",
       "4  4            Radio   2            Alabama\n",
       "5  5            Radio   2            Alabama\n",
       "6  6            Radio   2            Alabama\n",
       "7  1            Toaster 4            Alabama\n",
       "8  2            Toaster 4            Alabama\n",
       "9  3            Toaster 4            Alabama\n",
       "10 4            Radio   4            Alabama\n",
       "11 5            Radio   4            Alabama\n",
       "12 6            Radio   4            Alabama\n",
       "13 1            Toaster 6            Ohio   \n",
       "14 2            Toaster 6            Ohio   \n",
       "15 3            Toaster 6            Ohio   \n",
       "16 4            Radio   6            Ohio   \n",
       "17 5            Radio   6            Ohio   \n",
       "18 6            Radio   6            Ohio   "
      ]
     },
     "metadata": {},
     "output_type": "display_data"
    }
   ],
   "source": [
    "#cross join\n",
    "merge(x=df1,y=df2,by=NULL)"
   ]
  },
  {
   "cell_type": "code",
   "execution_count": 328,
   "metadata": {},
   "outputs": [
    {
     "data": {
      "text/html": [
       "<ol class=list-inline>\n",
       "\t<li>14</li>\n",
       "\t<li>9</li>\n",
       "\t<li>39</li>\n",
       "\t<li>43</li>\n",
       "\t<li>42</li>\n",
       "\t<li>4</li>\n",
       "\t<li>7</li>\n",
       "\t<li>23</li>\n",
       "\t<li>48</li>\n",
       "\t<li>3</li>\n",
       "\t<li>30</li>\n",
       "\t<li>12</li>\n",
       "\t<li>13</li>\n",
       "\t<li>25</li>\n",
       "\t<li>31</li>\n",
       "\t<li>46</li>\n",
       "\t<li>2</li>\n",
       "\t<li>10</li>\n",
       "\t<li>35</li>\n",
       "\t<li>38</li>\n",
       "\t<li>58</li>\n",
       "\t<li>107</li>\n",
       "\t<li>5</li>\n",
       "\t<li>8</li>\n",
       "\t<li>26</li>\n",
       "\t<li>27</li>\n",
       "\t<li>36</li>\n",
       "\t<li>41</li>\n",
       "\t<li>44</li>\n",
       "\t<li>50</li>\n",
       "\t<li>61</li>\n",
       "\t<li>94</li>\n",
       "\t<li>1</li>\n",
       "\t<li>18</li>\n",
       "\t<li>20</li>\n",
       "\t<li>22</li>\n",
       "\t<li>24</li>\n",
       "\t<li>40</li>\n",
       "\t<li>45</li>\n",
       "\t<li>47</li>\n",
       "\t<li>99</li>\n",
       "\t<li>28</li>\n",
       "\t<li>29</li>\n",
       "\t<li>33</li>\n",
       "\t<li>60</li>\n",
       "\t<li>49</li>\n",
       "\t<li>6</li>\n",
       "\t<li>11</li>\n",
       "\t<li>17</li>\n",
       "\t<li>21</li>\n",
       "\t<li>32</li>\n",
       "\t<li>85</li>\n",
       "\t<li>34</li>\n",
       "\t<li>37</li>\n",
       "\t<li>54</li>\n",
       "\t<li>81</li>\n",
       "\t<li>82</li>\n",
       "\t<li>90</li>\n",
       "\t<li>91</li>\n",
       "\t<li>65</li>\n",
       "\t<li>67</li>\n",
       "\t<li>70</li>\n",
       "\t<li>89</li>\n",
       "\t<li>95</li>\n",
       "\t<li>122</li>\n",
       "\t<li>16</li>\n",
       "\t<li>19</li>\n",
       "\t<li>56</li>\n",
       "\t<li>80</li>\n",
       "\t<li>96</li>\n",
       "\t<li>97</li>\n",
       "\t<li>100</li>\n",
       "\t<li>114</li>\n",
       "\t<li>15</li>\n",
       "\t<li>68</li>\n",
       "\t<li>83</li>\n",
       "\t<li>93</li>\n",
       "\t<li>102</li>\n",
       "\t<li>115</li>\n",
       "\t<li>143</li>\n",
       "\t<li>62</li>\n",
       "\t<li>71</li>\n",
       "\t<li>150</li>\n",
       "\t<li>63</li>\n",
       "\t<li>79</li>\n",
       "\t<li>84</li>\n",
       "\t<li>86</li>\n",
       "\t<li>120</li>\n",
       "\t<li>139</li>\n",
       "\t<li>64</li>\n",
       "\t<li>72</li>\n",
       "\t<li>74</li>\n",
       "\t<li>92</li>\n",
       "\t<li>128</li>\n",
       "\t<li>135</li>\n",
       "\t<li>69</li>\n",
       "\t<li>98</li>\n",
       "\t<li>127</li>\n",
       "\t<li>149</li>\n",
       "\t<li>57</li>\n",
       "\t<li>73</li>\n",
       "\t<li>88</li>\n",
       "\t<li>101</li>\n",
       "\t<li>104</li>\n",
       "\t<li>124</li>\n",
       "\t<li>134</li>\n",
       "\t<li>137</li>\n",
       "\t<li>147</li>\n",
       "\t<li>52</li>\n",
       "\t<li>75</li>\n",
       "\t<li>112</li>\n",
       "\t<li>116</li>\n",
       "\t<li>129</li>\n",
       "\t<li>133</li>\n",
       "\t<li>138</li>\n",
       "\t<li>55</li>\n",
       "\t<li>105</li>\n",
       "\t<li>111</li>\n",
       "\t<li>117</li>\n",
       "\t<li>148</li>\n",
       "\t<li>59</li>\n",
       "\t<li>76</li>\n",
       "\t<li>66</li>\n",
       "\t<li>78</li>\n",
       "\t<li>87</li>\n",
       "\t<li>109</li>\n",
       "\t<li>125</li>\n",
       "\t<li>141</li>\n",
       "\t<li>145</li>\n",
       "\t<li>146</li>\n",
       "\t<li>77</li>\n",
       "\t<li>113</li>\n",
       "\t<li>144</li>\n",
       "\t<li>53</li>\n",
       "\t<li>121</li>\n",
       "\t<li>140</li>\n",
       "\t<li>142</li>\n",
       "\t<li>51</li>\n",
       "\t<li>103</li>\n",
       "\t<li>110</li>\n",
       "\t<li>126</li>\n",
       "\t<li>130</li>\n",
       "\t<li>108</li>\n",
       "\t<li>131</li>\n",
       "\t<li>106</li>\n",
       "\t<li>118</li>\n",
       "\t<li>119</li>\n",
       "\t<li>123</li>\n",
       "\t<li>136</li>\n",
       "\t<li>132</li>\n",
       "</ol>\n"
      ],
      "text/latex": [
       "\\begin{enumerate*}\n",
       "\\item 14\n",
       "\\item 9\n",
       "\\item 39\n",
       "\\item 43\n",
       "\\item 42\n",
       "\\item 4\n",
       "\\item 7\n",
       "\\item 23\n",
       "\\item 48\n",
       "\\item 3\n",
       "\\item 30\n",
       "\\item 12\n",
       "\\item 13\n",
       "\\item 25\n",
       "\\item 31\n",
       "\\item 46\n",
       "\\item 2\n",
       "\\item 10\n",
       "\\item 35\n",
       "\\item 38\n",
       "\\item 58\n",
       "\\item 107\n",
       "\\item 5\n",
       "\\item 8\n",
       "\\item 26\n",
       "\\item 27\n",
       "\\item 36\n",
       "\\item 41\n",
       "\\item 44\n",
       "\\item 50\n",
       "\\item 61\n",
       "\\item 94\n",
       "\\item 1\n",
       "\\item 18\n",
       "\\item 20\n",
       "\\item 22\n",
       "\\item 24\n",
       "\\item 40\n",
       "\\item 45\n",
       "\\item 47\n",
       "\\item 99\n",
       "\\item 28\n",
       "\\item 29\n",
       "\\item 33\n",
       "\\item 60\n",
       "\\item 49\n",
       "\\item 6\n",
       "\\item 11\n",
       "\\item 17\n",
       "\\item 21\n",
       "\\item 32\n",
       "\\item 85\n",
       "\\item 34\n",
       "\\item 37\n",
       "\\item 54\n",
       "\\item 81\n",
       "\\item 82\n",
       "\\item 90\n",
       "\\item 91\n",
       "\\item 65\n",
       "\\item 67\n",
       "\\item 70\n",
       "\\item 89\n",
       "\\item 95\n",
       "\\item 122\n",
       "\\item 16\n",
       "\\item 19\n",
       "\\item 56\n",
       "\\item 80\n",
       "\\item 96\n",
       "\\item 97\n",
       "\\item 100\n",
       "\\item 114\n",
       "\\item 15\n",
       "\\item 68\n",
       "\\item 83\n",
       "\\item 93\n",
       "\\item 102\n",
       "\\item 115\n",
       "\\item 143\n",
       "\\item 62\n",
       "\\item 71\n",
       "\\item 150\n",
       "\\item 63\n",
       "\\item 79\n",
       "\\item 84\n",
       "\\item 86\n",
       "\\item 120\n",
       "\\item 139\n",
       "\\item 64\n",
       "\\item 72\n",
       "\\item 74\n",
       "\\item 92\n",
       "\\item 128\n",
       "\\item 135\n",
       "\\item 69\n",
       "\\item 98\n",
       "\\item 127\n",
       "\\item 149\n",
       "\\item 57\n",
       "\\item 73\n",
       "\\item 88\n",
       "\\item 101\n",
       "\\item 104\n",
       "\\item 124\n",
       "\\item 134\n",
       "\\item 137\n",
       "\\item 147\n",
       "\\item 52\n",
       "\\item 75\n",
       "\\item 112\n",
       "\\item 116\n",
       "\\item 129\n",
       "\\item 133\n",
       "\\item 138\n",
       "\\item 55\n",
       "\\item 105\n",
       "\\item 111\n",
       "\\item 117\n",
       "\\item 148\n",
       "\\item 59\n",
       "\\item 76\n",
       "\\item 66\n",
       "\\item 78\n",
       "\\item 87\n",
       "\\item 109\n",
       "\\item 125\n",
       "\\item 141\n",
       "\\item 145\n",
       "\\item 146\n",
       "\\item 77\n",
       "\\item 113\n",
       "\\item 144\n",
       "\\item 53\n",
       "\\item 121\n",
       "\\item 140\n",
       "\\item 142\n",
       "\\item 51\n",
       "\\item 103\n",
       "\\item 110\n",
       "\\item 126\n",
       "\\item 130\n",
       "\\item 108\n",
       "\\item 131\n",
       "\\item 106\n",
       "\\item 118\n",
       "\\item 119\n",
       "\\item 123\n",
       "\\item 136\n",
       "\\item 132\n",
       "\\end{enumerate*}\n"
      ],
      "text/markdown": [
       "1. 14\n",
       "2. 9\n",
       "3. 39\n",
       "4. 43\n",
       "5. 42\n",
       "6. 4\n",
       "7. 7\n",
       "8. 23\n",
       "9. 48\n",
       "10. 3\n",
       "11. 30\n",
       "12. 12\n",
       "13. 13\n",
       "14. 25\n",
       "15. 31\n",
       "16. 46\n",
       "17. 2\n",
       "18. 10\n",
       "19. 35\n",
       "20. 38\n",
       "21. 58\n",
       "22. 107\n",
       "23. 5\n",
       "24. 8\n",
       "25. 26\n",
       "26. 27\n",
       "27. 36\n",
       "28. 41\n",
       "29. 44\n",
       "30. 50\n",
       "31. 61\n",
       "32. 94\n",
       "33. 1\n",
       "34. 18\n",
       "35. 20\n",
       "36. 22\n",
       "37. 24\n",
       "38. 40\n",
       "39. 45\n",
       "40. 47\n",
       "41. 99\n",
       "42. 28\n",
       "43. 29\n",
       "44. 33\n",
       "45. 60\n",
       "46. 49\n",
       "47. 6\n",
       "48. 11\n",
       "49. 17\n",
       "50. 21\n",
       "51. 32\n",
       "52. 85\n",
       "53. 34\n",
       "54. 37\n",
       "55. 54\n",
       "56. 81\n",
       "57. 82\n",
       "58. 90\n",
       "59. 91\n",
       "60. 65\n",
       "61. 67\n",
       "62. 70\n",
       "63. 89\n",
       "64. 95\n",
       "65. 122\n",
       "66. 16\n",
       "67. 19\n",
       "68. 56\n",
       "69. 80\n",
       "70. 96\n",
       "71. 97\n",
       "72. 100\n",
       "73. 114\n",
       "74. 15\n",
       "75. 68\n",
       "76. 83\n",
       "77. 93\n",
       "78. 102\n",
       "79. 115\n",
       "80. 143\n",
       "81. 62\n",
       "82. 71\n",
       "83. 150\n",
       "84. 63\n",
       "85. 79\n",
       "86. 84\n",
       "87. 86\n",
       "88. 120\n",
       "89. 139\n",
       "90. 64\n",
       "91. 72\n",
       "92. 74\n",
       "93. 92\n",
       "94. 128\n",
       "95. 135\n",
       "96. 69\n",
       "97. 98\n",
       "98. 127\n",
       "99. 149\n",
       "100. 57\n",
       "101. 73\n",
       "102. 88\n",
       "103. 101\n",
       "104. 104\n",
       "105. 124\n",
       "106. 134\n",
       "107. 137\n",
       "108. 147\n",
       "109. 52\n",
       "110. 75\n",
       "111. 112\n",
       "112. 116\n",
       "113. 129\n",
       "114. 133\n",
       "115. 138\n",
       "116. 55\n",
       "117. 105\n",
       "118. 111\n",
       "119. 117\n",
       "120. 148\n",
       "121. 59\n",
       "122. 76\n",
       "123. 66\n",
       "124. 78\n",
       "125. 87\n",
       "126. 109\n",
       "127. 125\n",
       "128. 141\n",
       "129. 145\n",
       "130. 146\n",
       "131. 77\n",
       "132. 113\n",
       "133. 144\n",
       "134. 53\n",
       "135. 121\n",
       "136. 140\n",
       "137. 142\n",
       "138. 51\n",
       "139. 103\n",
       "140. 110\n",
       "141. 126\n",
       "142. 130\n",
       "143. 108\n",
       "144. 131\n",
       "145. 106\n",
       "146. 118\n",
       "147. 119\n",
       "148. 123\n",
       "149. 136\n",
       "150. 132\n",
       "\n",
       "\n"
      ],
      "text/plain": [
       "  [1]  14   9  39  43  42   4   7  23  48   3  30  12  13  25  31  46   2  10\n",
       " [19]  35  38  58 107   5   8  26  27  36  41  44  50  61  94   1  18  20  22\n",
       " [37]  24  40  45  47  99  28  29  33  60  49   6  11  17  21  32  85  34  37\n",
       " [55]  54  81  82  90  91  65  67  70  89  95 122  16  19  56  80  96  97 100\n",
       " [73] 114  15  68  83  93 102 115 143  62  71 150  63  79  84  86 120 139  64\n",
       " [91]  72  74  92 128 135  69  98 127 149  57  73  88 101 104 124 134 137 147\n",
       "[109]  52  75 112 116 129 133 138  55 105 111 117 148  59  76  66  78  87 109\n",
       "[127] 125 141 145 146  77 113 144  53 121 140 142  51 103 110 126 130 108 131\n",
       "[145] 106 118 119 123 136 132"
      ]
     },
     "metadata": {},
     "output_type": "display_data"
    }
   ],
   "source": [
    "order(iris$Sepal.Length)"
   ]
  },
  {
   "cell_type": "code",
   "execution_count": 329,
   "metadata": {
    "scrolled": true
   },
   "outputs": [
    {
     "data": {
      "text/html": [
       "<table>\n",
       "<thead><tr><th></th><th scope=col>Sepal.Length</th><th scope=col>Sepal.Width</th><th scope=col>Petal.Length</th><th scope=col>Petal.Width</th><th scope=col>Species</th></tr></thead>\n",
       "<tbody>\n",
       "\t<tr><th scope=row>14</th><td>4.3       </td><td>3.0       </td><td>1.1       </td><td>0.1       </td><td>setosa    </td></tr>\n",
       "\t<tr><th scope=row>9</th><td>4.4       </td><td>2.9       </td><td>1.4       </td><td>0.2       </td><td>setosa    </td></tr>\n",
       "\t<tr><th scope=row>39</th><td>4.4       </td><td>3.0       </td><td>1.3       </td><td>0.2       </td><td>setosa    </td></tr>\n",
       "\t<tr><th scope=row>43</th><td>4.4       </td><td>3.2       </td><td>1.3       </td><td>0.2       </td><td>setosa    </td></tr>\n",
       "\t<tr><th scope=row>42</th><td>4.5       </td><td>2.3       </td><td>1.3       </td><td>0.3       </td><td>setosa    </td></tr>\n",
       "\t<tr><th scope=row>4</th><td>4.6       </td><td>3.1       </td><td>1.5       </td><td>0.2       </td><td>setosa    </td></tr>\n",
       "\t<tr><th scope=row>7</th><td>4.6       </td><td>3.4       </td><td>1.4       </td><td>0.3       </td><td>setosa    </td></tr>\n",
       "\t<tr><th scope=row>23</th><td>4.6       </td><td>3.6       </td><td>1.0       </td><td>0.2       </td><td>setosa    </td></tr>\n",
       "\t<tr><th scope=row>48</th><td>4.6       </td><td>3.2       </td><td>1.4       </td><td>0.2       </td><td>setosa    </td></tr>\n",
       "\t<tr><th scope=row>3</th><td>4.7       </td><td>3.2       </td><td>1.3       </td><td>0.2       </td><td>setosa    </td></tr>\n",
       "\t<tr><th scope=row>30</th><td>4.7       </td><td>3.2       </td><td>1.6       </td><td>0.2       </td><td>setosa    </td></tr>\n",
       "\t<tr><th scope=row>12</th><td>4.8       </td><td>3.4       </td><td>1.6       </td><td>0.2       </td><td>setosa    </td></tr>\n",
       "\t<tr><th scope=row>13</th><td>4.8       </td><td>3.0       </td><td>1.4       </td><td>0.1       </td><td>setosa    </td></tr>\n",
       "\t<tr><th scope=row>25</th><td>4.8       </td><td>3.4       </td><td>1.9       </td><td>0.2       </td><td>setosa    </td></tr>\n",
       "\t<tr><th scope=row>31</th><td>4.8       </td><td>3.1       </td><td>1.6       </td><td>0.2       </td><td>setosa    </td></tr>\n",
       "\t<tr><th scope=row>46</th><td>4.8       </td><td>3.0       </td><td>1.4       </td><td>0.3       </td><td>setosa    </td></tr>\n",
       "\t<tr><th scope=row>2</th><td>4.9       </td><td>3.0       </td><td>1.4       </td><td>0.2       </td><td>setosa    </td></tr>\n",
       "\t<tr><th scope=row>10</th><td>4.9       </td><td>3.1       </td><td>1.5       </td><td>0.1       </td><td>setosa    </td></tr>\n",
       "\t<tr><th scope=row>35</th><td>4.9       </td><td>3.1       </td><td>1.5       </td><td>0.2       </td><td>setosa    </td></tr>\n",
       "\t<tr><th scope=row>38</th><td>4.9       </td><td>3.6       </td><td>1.4       </td><td>0.1       </td><td>setosa    </td></tr>\n",
       "\t<tr><th scope=row>58</th><td>4.9       </td><td>2.4       </td><td>3.3       </td><td>1.0       </td><td>versicolor</td></tr>\n",
       "\t<tr><th scope=row>107</th><td>4.9       </td><td>2.5       </td><td>4.5       </td><td>1.7       </td><td>virginica </td></tr>\n",
       "\t<tr><th scope=row>5</th><td>5.0       </td><td>3.6       </td><td>1.4       </td><td>0.2       </td><td>setosa    </td></tr>\n",
       "\t<tr><th scope=row>8</th><td>5.0       </td><td>3.4       </td><td>1.5       </td><td>0.2       </td><td>setosa    </td></tr>\n",
       "\t<tr><th scope=row>26</th><td>5.0       </td><td>3.0       </td><td>1.6       </td><td>0.2       </td><td>setosa    </td></tr>\n",
       "\t<tr><th scope=row>27</th><td>5.0       </td><td>3.4       </td><td>1.6       </td><td>0.4       </td><td>setosa    </td></tr>\n",
       "\t<tr><th scope=row>36</th><td>5.0       </td><td>3.2       </td><td>1.2       </td><td>0.2       </td><td>setosa    </td></tr>\n",
       "\t<tr><th scope=row>41</th><td>5.0       </td><td>3.5       </td><td>1.3       </td><td>0.3       </td><td>setosa    </td></tr>\n",
       "\t<tr><th scope=row>44</th><td>5.0       </td><td>3.5       </td><td>1.6       </td><td>0.6       </td><td>setosa    </td></tr>\n",
       "\t<tr><th scope=row>50</th><td>5.0       </td><td>3.3       </td><td>1.4       </td><td>0.2       </td><td>setosa    </td></tr>\n",
       "\t<tr><th scope=row>⋮</th><td>⋮</td><td>⋮</td><td>⋮</td><td>⋮</td><td>⋮</td></tr>\n",
       "\t<tr><th scope=row>59</th><td>6.6       </td><td>2.9       </td><td>4.6       </td><td>1.3       </td><td>versicolor</td></tr>\n",
       "\t<tr><th scope=row>76</th><td>6.6       </td><td>3.0       </td><td>4.4       </td><td>1.4       </td><td>versicolor</td></tr>\n",
       "\t<tr><th scope=row>66</th><td>6.7       </td><td>3.1       </td><td>4.4       </td><td>1.4       </td><td>versicolor</td></tr>\n",
       "\t<tr><th scope=row>78</th><td>6.7       </td><td>3.0       </td><td>5.0       </td><td>1.7       </td><td>versicolor</td></tr>\n",
       "\t<tr><th scope=row>87</th><td>6.7       </td><td>3.1       </td><td>4.7       </td><td>1.5       </td><td>versicolor</td></tr>\n",
       "\t<tr><th scope=row>109</th><td>6.7       </td><td>2.5       </td><td>5.8       </td><td>1.8       </td><td>virginica </td></tr>\n",
       "\t<tr><th scope=row>125</th><td>6.7       </td><td>3.3       </td><td>5.7       </td><td>2.1       </td><td>virginica </td></tr>\n",
       "\t<tr><th scope=row>141</th><td>6.7       </td><td>3.1       </td><td>5.6       </td><td>2.4       </td><td>virginica </td></tr>\n",
       "\t<tr><th scope=row>145</th><td>6.7       </td><td>3.3       </td><td>5.7       </td><td>2.5       </td><td>virginica </td></tr>\n",
       "\t<tr><th scope=row>146</th><td>6.7       </td><td>3.0       </td><td>5.2       </td><td>2.3       </td><td>virginica </td></tr>\n",
       "\t<tr><th scope=row>77</th><td>6.8       </td><td>2.8       </td><td>4.8       </td><td>1.4       </td><td>versicolor</td></tr>\n",
       "\t<tr><th scope=row>113</th><td>6.8       </td><td>3.0       </td><td>5.5       </td><td>2.1       </td><td>virginica </td></tr>\n",
       "\t<tr><th scope=row>144</th><td>6.8       </td><td>3.2       </td><td>5.9       </td><td>2.3       </td><td>virginica </td></tr>\n",
       "\t<tr><th scope=row>53</th><td>6.9       </td><td>3.1       </td><td>4.9       </td><td>1.5       </td><td>versicolor</td></tr>\n",
       "\t<tr><th scope=row>121</th><td>6.9       </td><td>3.2       </td><td>5.7       </td><td>2.3       </td><td>virginica </td></tr>\n",
       "\t<tr><th scope=row>140</th><td>6.9       </td><td>3.1       </td><td>5.4       </td><td>2.1       </td><td>virginica </td></tr>\n",
       "\t<tr><th scope=row>142</th><td>6.9       </td><td>3.1       </td><td>5.1       </td><td>2.3       </td><td>virginica </td></tr>\n",
       "\t<tr><th scope=row>51</th><td>7.0       </td><td>3.2       </td><td>4.7       </td><td>1.4       </td><td>versicolor</td></tr>\n",
       "\t<tr><th scope=row>103</th><td>7.1       </td><td>3.0       </td><td>5.9       </td><td>2.1       </td><td>virginica </td></tr>\n",
       "\t<tr><th scope=row>110</th><td>7.2       </td><td>3.6       </td><td>6.1       </td><td>2.5       </td><td>virginica </td></tr>\n",
       "\t<tr><th scope=row>126</th><td>7.2       </td><td>3.2       </td><td>6.0       </td><td>1.8       </td><td>virginica </td></tr>\n",
       "\t<tr><th scope=row>130</th><td>7.2       </td><td>3.0       </td><td>5.8       </td><td>1.6       </td><td>virginica </td></tr>\n",
       "\t<tr><th scope=row>108</th><td>7.3       </td><td>2.9       </td><td>6.3       </td><td>1.8       </td><td>virginica </td></tr>\n",
       "\t<tr><th scope=row>131</th><td>7.4       </td><td>2.8       </td><td>6.1       </td><td>1.9       </td><td>virginica </td></tr>\n",
       "\t<tr><th scope=row>106</th><td>7.6       </td><td>3.0       </td><td>6.6       </td><td>2.1       </td><td>virginica </td></tr>\n",
       "\t<tr><th scope=row>118</th><td>7.7       </td><td>3.8       </td><td>6.7       </td><td>2.2       </td><td>virginica </td></tr>\n",
       "\t<tr><th scope=row>119</th><td>7.7       </td><td>2.6       </td><td>6.9       </td><td>2.3       </td><td>virginica </td></tr>\n",
       "\t<tr><th scope=row>123</th><td>7.7       </td><td>2.8       </td><td>6.7       </td><td>2.0       </td><td>virginica </td></tr>\n",
       "\t<tr><th scope=row>136</th><td>7.7       </td><td>3.0       </td><td>6.1       </td><td>2.3       </td><td>virginica </td></tr>\n",
       "\t<tr><th scope=row>132</th><td>7.9       </td><td>3.8       </td><td>6.4       </td><td>2.0       </td><td>virginica </td></tr>\n",
       "</tbody>\n",
       "</table>\n"
      ],
      "text/latex": [
       "\\begin{tabular}{r|lllll}\n",
       "  & Sepal.Length & Sepal.Width & Petal.Length & Petal.Width & Species\\\\\n",
       "\\hline\n",
       "\t14 & 4.3        & 3.0        & 1.1        & 0.1        & setosa    \\\\\n",
       "\t9 & 4.4        & 2.9        & 1.4        & 0.2        & setosa    \\\\\n",
       "\t39 & 4.4        & 3.0        & 1.3        & 0.2        & setosa    \\\\\n",
       "\t43 & 4.4        & 3.2        & 1.3        & 0.2        & setosa    \\\\\n",
       "\t42 & 4.5        & 2.3        & 1.3        & 0.3        & setosa    \\\\\n",
       "\t4 & 4.6        & 3.1        & 1.5        & 0.2        & setosa    \\\\\n",
       "\t7 & 4.6        & 3.4        & 1.4        & 0.3        & setosa    \\\\\n",
       "\t23 & 4.6        & 3.6        & 1.0        & 0.2        & setosa    \\\\\n",
       "\t48 & 4.6        & 3.2        & 1.4        & 0.2        & setosa    \\\\\n",
       "\t3 & 4.7        & 3.2        & 1.3        & 0.2        & setosa    \\\\\n",
       "\t30 & 4.7        & 3.2        & 1.6        & 0.2        & setosa    \\\\\n",
       "\t12 & 4.8        & 3.4        & 1.6        & 0.2        & setosa    \\\\\n",
       "\t13 & 4.8        & 3.0        & 1.4        & 0.1        & setosa    \\\\\n",
       "\t25 & 4.8        & 3.4        & 1.9        & 0.2        & setosa    \\\\\n",
       "\t31 & 4.8        & 3.1        & 1.6        & 0.2        & setosa    \\\\\n",
       "\t46 & 4.8        & 3.0        & 1.4        & 0.3        & setosa    \\\\\n",
       "\t2 & 4.9        & 3.0        & 1.4        & 0.2        & setosa    \\\\\n",
       "\t10 & 4.9        & 3.1        & 1.5        & 0.1        & setosa    \\\\\n",
       "\t35 & 4.9        & 3.1        & 1.5        & 0.2        & setosa    \\\\\n",
       "\t38 & 4.9        & 3.6        & 1.4        & 0.1        & setosa    \\\\\n",
       "\t58 & 4.9        & 2.4        & 3.3        & 1.0        & versicolor\\\\\n",
       "\t107 & 4.9        & 2.5        & 4.5        & 1.7        & virginica \\\\\n",
       "\t5 & 5.0        & 3.6        & 1.4        & 0.2        & setosa    \\\\\n",
       "\t8 & 5.0        & 3.4        & 1.5        & 0.2        & setosa    \\\\\n",
       "\t26 & 5.0        & 3.0        & 1.6        & 0.2        & setosa    \\\\\n",
       "\t27 & 5.0        & 3.4        & 1.6        & 0.4        & setosa    \\\\\n",
       "\t36 & 5.0        & 3.2        & 1.2        & 0.2        & setosa    \\\\\n",
       "\t41 & 5.0        & 3.5        & 1.3        & 0.3        & setosa    \\\\\n",
       "\t44 & 5.0        & 3.5        & 1.6        & 0.6        & setosa    \\\\\n",
       "\t50 & 5.0        & 3.3        & 1.4        & 0.2        & setosa    \\\\\n",
       "\t⋮ & ⋮ & ⋮ & ⋮ & ⋮ & ⋮\\\\\n",
       "\t59 & 6.6        & 2.9        & 4.6        & 1.3        & versicolor\\\\\n",
       "\t76 & 6.6        & 3.0        & 4.4        & 1.4        & versicolor\\\\\n",
       "\t66 & 6.7        & 3.1        & 4.4        & 1.4        & versicolor\\\\\n",
       "\t78 & 6.7        & 3.0        & 5.0        & 1.7        & versicolor\\\\\n",
       "\t87 & 6.7        & 3.1        & 4.7        & 1.5        & versicolor\\\\\n",
       "\t109 & 6.7        & 2.5        & 5.8        & 1.8        & virginica \\\\\n",
       "\t125 & 6.7        & 3.3        & 5.7        & 2.1        & virginica \\\\\n",
       "\t141 & 6.7        & 3.1        & 5.6        & 2.4        & virginica \\\\\n",
       "\t145 & 6.7        & 3.3        & 5.7        & 2.5        & virginica \\\\\n",
       "\t146 & 6.7        & 3.0        & 5.2        & 2.3        & virginica \\\\\n",
       "\t77 & 6.8        & 2.8        & 4.8        & 1.4        & versicolor\\\\\n",
       "\t113 & 6.8        & 3.0        & 5.5        & 2.1        & virginica \\\\\n",
       "\t144 & 6.8        & 3.2        & 5.9        & 2.3        & virginica \\\\\n",
       "\t53 & 6.9        & 3.1        & 4.9        & 1.5        & versicolor\\\\\n",
       "\t121 & 6.9        & 3.2        & 5.7        & 2.3        & virginica \\\\\n",
       "\t140 & 6.9        & 3.1        & 5.4        & 2.1        & virginica \\\\\n",
       "\t142 & 6.9        & 3.1        & 5.1        & 2.3        & virginica \\\\\n",
       "\t51 & 7.0        & 3.2        & 4.7        & 1.4        & versicolor\\\\\n",
       "\t103 & 7.1        & 3.0        & 5.9        & 2.1        & virginica \\\\\n",
       "\t110 & 7.2        & 3.6        & 6.1        & 2.5        & virginica \\\\\n",
       "\t126 & 7.2        & 3.2        & 6.0        & 1.8        & virginica \\\\\n",
       "\t130 & 7.2        & 3.0        & 5.8        & 1.6        & virginica \\\\\n",
       "\t108 & 7.3        & 2.9        & 6.3        & 1.8        & virginica \\\\\n",
       "\t131 & 7.4        & 2.8        & 6.1        & 1.9        & virginica \\\\\n",
       "\t106 & 7.6        & 3.0        & 6.6        & 2.1        & virginica \\\\\n",
       "\t118 & 7.7        & 3.8        & 6.7        & 2.2        & virginica \\\\\n",
       "\t119 & 7.7        & 2.6        & 6.9        & 2.3        & virginica \\\\\n",
       "\t123 & 7.7        & 2.8        & 6.7        & 2.0        & virginica \\\\\n",
       "\t136 & 7.7        & 3.0        & 6.1        & 2.3        & virginica \\\\\n",
       "\t132 & 7.9        & 3.8        & 6.4        & 2.0        & virginica \\\\\n",
       "\\end{tabular}\n"
      ],
      "text/markdown": [
       "\n",
       "| <!--/--> | Sepal.Length | Sepal.Width | Petal.Length | Petal.Width | Species | \n",
       "|---|---|---|---|---|---|---|---|---|---|---|---|---|---|---|---|---|---|---|---|---|---|---|---|---|---|---|---|---|---|---|---|---|---|---|---|---|---|---|---|---|---|---|---|---|---|---|---|---|---|---|---|---|---|---|---|---|---|---|---|---|\n",
       "| 14 | 4.3        | 3.0        | 1.1        | 0.1        | setosa     | \n",
       "| 9 | 4.4        | 2.9        | 1.4        | 0.2        | setosa     | \n",
       "| 39 | 4.4        | 3.0        | 1.3        | 0.2        | setosa     | \n",
       "| 43 | 4.4        | 3.2        | 1.3        | 0.2        | setosa     | \n",
       "| 42 | 4.5        | 2.3        | 1.3        | 0.3        | setosa     | \n",
       "| 4 | 4.6        | 3.1        | 1.5        | 0.2        | setosa     | \n",
       "| 7 | 4.6        | 3.4        | 1.4        | 0.3        | setosa     | \n",
       "| 23 | 4.6        | 3.6        | 1.0        | 0.2        | setosa     | \n",
       "| 48 | 4.6        | 3.2        | 1.4        | 0.2        | setosa     | \n",
       "| 3 | 4.7        | 3.2        | 1.3        | 0.2        | setosa     | \n",
       "| 30 | 4.7        | 3.2        | 1.6        | 0.2        | setosa     | \n",
       "| 12 | 4.8        | 3.4        | 1.6        | 0.2        | setosa     | \n",
       "| 13 | 4.8        | 3.0        | 1.4        | 0.1        | setosa     | \n",
       "| 25 | 4.8        | 3.4        | 1.9        | 0.2        | setosa     | \n",
       "| 31 | 4.8        | 3.1        | 1.6        | 0.2        | setosa     | \n",
       "| 46 | 4.8        | 3.0        | 1.4        | 0.3        | setosa     | \n",
       "| 2 | 4.9        | 3.0        | 1.4        | 0.2        | setosa     | \n",
       "| 10 | 4.9        | 3.1        | 1.5        | 0.1        | setosa     | \n",
       "| 35 | 4.9        | 3.1        | 1.5        | 0.2        | setosa     | \n",
       "| 38 | 4.9        | 3.6        | 1.4        | 0.1        | setosa     | \n",
       "| 58 | 4.9        | 2.4        | 3.3        | 1.0        | versicolor | \n",
       "| 107 | 4.9        | 2.5        | 4.5        | 1.7        | virginica  | \n",
       "| 5 | 5.0        | 3.6        | 1.4        | 0.2        | setosa     | \n",
       "| 8 | 5.0        | 3.4        | 1.5        | 0.2        | setosa     | \n",
       "| 26 | 5.0        | 3.0        | 1.6        | 0.2        | setosa     | \n",
       "| 27 | 5.0        | 3.4        | 1.6        | 0.4        | setosa     | \n",
       "| 36 | 5.0        | 3.2        | 1.2        | 0.2        | setosa     | \n",
       "| 41 | 5.0        | 3.5        | 1.3        | 0.3        | setosa     | \n",
       "| 44 | 5.0        | 3.5        | 1.6        | 0.6        | setosa     | \n",
       "| 50 | 5.0        | 3.3        | 1.4        | 0.2        | setosa     | \n",
       "| ⋮ | ⋮ | ⋮ | ⋮ | ⋮ | ⋮ | \n",
       "| 59 | 6.6        | 2.9        | 4.6        | 1.3        | versicolor | \n",
       "| 76 | 6.6        | 3.0        | 4.4        | 1.4        | versicolor | \n",
       "| 66 | 6.7        | 3.1        | 4.4        | 1.4        | versicolor | \n",
       "| 78 | 6.7        | 3.0        | 5.0        | 1.7        | versicolor | \n",
       "| 87 | 6.7        | 3.1        | 4.7        | 1.5        | versicolor | \n",
       "| 109 | 6.7        | 2.5        | 5.8        | 1.8        | virginica  | \n",
       "| 125 | 6.7        | 3.3        | 5.7        | 2.1        | virginica  | \n",
       "| 141 | 6.7        | 3.1        | 5.6        | 2.4        | virginica  | \n",
       "| 145 | 6.7        | 3.3        | 5.7        | 2.5        | virginica  | \n",
       "| 146 | 6.7        | 3.0        | 5.2        | 2.3        | virginica  | \n",
       "| 77 | 6.8        | 2.8        | 4.8        | 1.4        | versicolor | \n",
       "| 113 | 6.8        | 3.0        | 5.5        | 2.1        | virginica  | \n",
       "| 144 | 6.8        | 3.2        | 5.9        | 2.3        | virginica  | \n",
       "| 53 | 6.9        | 3.1        | 4.9        | 1.5        | versicolor | \n",
       "| 121 | 6.9        | 3.2        | 5.7        | 2.3        | virginica  | \n",
       "| 140 | 6.9        | 3.1        | 5.4        | 2.1        | virginica  | \n",
       "| 142 | 6.9        | 3.1        | 5.1        | 2.3        | virginica  | \n",
       "| 51 | 7.0        | 3.2        | 4.7        | 1.4        | versicolor | \n",
       "| 103 | 7.1        | 3.0        | 5.9        | 2.1        | virginica  | \n",
       "| 110 | 7.2        | 3.6        | 6.1        | 2.5        | virginica  | \n",
       "| 126 | 7.2        | 3.2        | 6.0        | 1.8        | virginica  | \n",
       "| 130 | 7.2        | 3.0        | 5.8        | 1.6        | virginica  | \n",
       "| 108 | 7.3        | 2.9        | 6.3        | 1.8        | virginica  | \n",
       "| 131 | 7.4        | 2.8        | 6.1        | 1.9        | virginica  | \n",
       "| 106 | 7.6        | 3.0        | 6.6        | 2.1        | virginica  | \n",
       "| 118 | 7.7        | 3.8        | 6.7        | 2.2        | virginica  | \n",
       "| 119 | 7.7        | 2.6        | 6.9        | 2.3        | virginica  | \n",
       "| 123 | 7.7        | 2.8        | 6.7        | 2.0        | virginica  | \n",
       "| 136 | 7.7        | 3.0        | 6.1        | 2.3        | virginica  | \n",
       "| 132 | 7.9        | 3.8        | 6.4        | 2.0        | virginica  | \n",
       "\n",
       "\n"
      ],
      "text/plain": [
       "    Sepal.Length Sepal.Width Petal.Length Petal.Width Species   \n",
       "14  4.3          3.0         1.1          0.1         setosa    \n",
       "9   4.4          2.9         1.4          0.2         setosa    \n",
       "39  4.4          3.0         1.3          0.2         setosa    \n",
       "43  4.4          3.2         1.3          0.2         setosa    \n",
       "42  4.5          2.3         1.3          0.3         setosa    \n",
       "4   4.6          3.1         1.5          0.2         setosa    \n",
       "7   4.6          3.4         1.4          0.3         setosa    \n",
       "23  4.6          3.6         1.0          0.2         setosa    \n",
       "48  4.6          3.2         1.4          0.2         setosa    \n",
       "3   4.7          3.2         1.3          0.2         setosa    \n",
       "30  4.7          3.2         1.6          0.2         setosa    \n",
       "12  4.8          3.4         1.6          0.2         setosa    \n",
       "13  4.8          3.0         1.4          0.1         setosa    \n",
       "25  4.8          3.4         1.9          0.2         setosa    \n",
       "31  4.8          3.1         1.6          0.2         setosa    \n",
       "46  4.8          3.0         1.4          0.3         setosa    \n",
       "2   4.9          3.0         1.4          0.2         setosa    \n",
       "10  4.9          3.1         1.5          0.1         setosa    \n",
       "35  4.9          3.1         1.5          0.2         setosa    \n",
       "38  4.9          3.6         1.4          0.1         setosa    \n",
       "58  4.9          2.4         3.3          1.0         versicolor\n",
       "107 4.9          2.5         4.5          1.7         virginica \n",
       "5   5.0          3.6         1.4          0.2         setosa    \n",
       "8   5.0          3.4         1.5          0.2         setosa    \n",
       "26  5.0          3.0         1.6          0.2         setosa    \n",
       "27  5.0          3.4         1.6          0.4         setosa    \n",
       "36  5.0          3.2         1.2          0.2         setosa    \n",
       "41  5.0          3.5         1.3          0.3         setosa    \n",
       "44  5.0          3.5         1.6          0.6         setosa    \n",
       "50  5.0          3.3         1.4          0.2         setosa    \n",
       "⋮   ⋮            ⋮           ⋮            ⋮           ⋮         \n",
       "59  6.6          2.9         4.6          1.3         versicolor\n",
       "76  6.6          3.0         4.4          1.4         versicolor\n",
       "66  6.7          3.1         4.4          1.4         versicolor\n",
       "78  6.7          3.0         5.0          1.7         versicolor\n",
       "87  6.7          3.1         4.7          1.5         versicolor\n",
       "109 6.7          2.5         5.8          1.8         virginica \n",
       "125 6.7          3.3         5.7          2.1         virginica \n",
       "141 6.7          3.1         5.6          2.4         virginica \n",
       "145 6.7          3.3         5.7          2.5         virginica \n",
       "146 6.7          3.0         5.2          2.3         virginica \n",
       "77  6.8          2.8         4.8          1.4         versicolor\n",
       "113 6.8          3.0         5.5          2.1         virginica \n",
       "144 6.8          3.2         5.9          2.3         virginica \n",
       "53  6.9          3.1         4.9          1.5         versicolor\n",
       "121 6.9          3.2         5.7          2.3         virginica \n",
       "140 6.9          3.1         5.4          2.1         virginica \n",
       "142 6.9          3.1         5.1          2.3         virginica \n",
       "51  7.0          3.2         4.7          1.4         versicolor\n",
       "103 7.1          3.0         5.9          2.1         virginica \n",
       "110 7.2          3.6         6.1          2.5         virginica \n",
       "126 7.2          3.2         6.0          1.8         virginica \n",
       "130 7.2          3.0         5.8          1.6         virginica \n",
       "108 7.3          2.9         6.3          1.8         virginica \n",
       "131 7.4          2.8         6.1          1.9         virginica \n",
       "106 7.6          3.0         6.6          2.1         virginica \n",
       "118 7.7          3.8         6.7          2.2         virginica \n",
       "119 7.7          2.6         6.9          2.3         virginica \n",
       "123 7.7          2.8         6.7          2.0         virginica \n",
       "136 7.7          3.0         6.1          2.3         virginica \n",
       "132 7.9          3.8         6.4          2.0         virginica "
      ]
     },
     "metadata": {},
     "output_type": "display_data"
    }
   ],
   "source": [
    "iris[order(iris$Sepal.Length),]"
   ]
  },
  {
   "cell_type": "code",
   "execution_count": 330,
   "metadata": {},
   "outputs": [
    {
     "data": {
      "text/html": [
       "<ol class=list-inline>\n",
       "\t<li>132</li>\n",
       "\t<li>118</li>\n",
       "\t<li>119</li>\n",
       "\t<li>123</li>\n",
       "\t<li>136</li>\n",
       "\t<li>106</li>\n",
       "\t<li>131</li>\n",
       "\t<li>108</li>\n",
       "\t<li>110</li>\n",
       "\t<li>126</li>\n",
       "\t<li>130</li>\n",
       "\t<li>103</li>\n",
       "\t<li>51</li>\n",
       "\t<li>53</li>\n",
       "\t<li>121</li>\n",
       "\t<li>140</li>\n",
       "\t<li>142</li>\n",
       "\t<li>77</li>\n",
       "\t<li>113</li>\n",
       "\t<li>144</li>\n",
       "\t<li>66</li>\n",
       "\t<li>78</li>\n",
       "\t<li>87</li>\n",
       "\t<li>109</li>\n",
       "\t<li>125</li>\n",
       "\t<li>141</li>\n",
       "\t<li>145</li>\n",
       "\t<li>146</li>\n",
       "\t<li>59</li>\n",
       "\t<li>76</li>\n",
       "\t<li>55</li>\n",
       "\t<li>105</li>\n",
       "\t<li>111</li>\n",
       "\t<li>117</li>\n",
       "\t<li>148</li>\n",
       "\t<li>52</li>\n",
       "\t<li>75</li>\n",
       "\t<li>112</li>\n",
       "\t<li>116</li>\n",
       "\t<li>129</li>\n",
       "\t<li>133</li>\n",
       "\t<li>138</li>\n",
       "\t<li>57</li>\n",
       "\t<li>73</li>\n",
       "\t<li>88</li>\n",
       "\t<li>101</li>\n",
       "\t<li>104</li>\n",
       "\t<li>124</li>\n",
       "\t<li>134</li>\n",
       "\t<li>137</li>\n",
       "\t<li>147</li>\n",
       "\t<li>69</li>\n",
       "\t<li>98</li>\n",
       "\t<li>127</li>\n",
       "\t<li>149</li>\n",
       "\t<li>64</li>\n",
       "\t<li>72</li>\n",
       "\t<li>74</li>\n",
       "\t<li>92</li>\n",
       "\t<li>128</li>\n",
       "\t<li>135</li>\n",
       "\t<li>63</li>\n",
       "\t<li>79</li>\n",
       "\t<li>84</li>\n",
       "\t<li>86</li>\n",
       "\t<li>120</li>\n",
       "\t<li>139</li>\n",
       "\t<li>62</li>\n",
       "\t<li>71</li>\n",
       "\t<li>150</li>\n",
       "\t<li>15</li>\n",
       "\t<li>68</li>\n",
       "\t<li>83</li>\n",
       "\t<li>93</li>\n",
       "\t<li>102</li>\n",
       "\t<li>115</li>\n",
       "\t<li>143</li>\n",
       "\t<li>16</li>\n",
       "\t<li>19</li>\n",
       "\t<li>56</li>\n",
       "\t<li>80</li>\n",
       "\t<li>96</li>\n",
       "\t<li>97</li>\n",
       "\t<li>100</li>\n",
       "\t<li>114</li>\n",
       "\t<li>65</li>\n",
       "\t<li>67</li>\n",
       "\t<li>70</li>\n",
       "\t<li>89</li>\n",
       "\t<li>95</li>\n",
       "\t<li>122</li>\n",
       "\t<li>34</li>\n",
       "\t<li>37</li>\n",
       "\t<li>54</li>\n",
       "\t<li>81</li>\n",
       "\t<li>82</li>\n",
       "\t<li>90</li>\n",
       "\t<li>91</li>\n",
       "\t<li>6</li>\n",
       "\t<li>11</li>\n",
       "\t<li>17</li>\n",
       "\t<li>21</li>\n",
       "\t<li>32</li>\n",
       "\t<li>85</li>\n",
       "\t<li>49</li>\n",
       "\t<li>28</li>\n",
       "\t<li>29</li>\n",
       "\t<li>33</li>\n",
       "\t<li>60</li>\n",
       "\t<li>1</li>\n",
       "\t<li>18</li>\n",
       "\t<li>20</li>\n",
       "\t<li>22</li>\n",
       "\t<li>24</li>\n",
       "\t<li>40</li>\n",
       "\t<li>45</li>\n",
       "\t<li>47</li>\n",
       "\t<li>99</li>\n",
       "\t<li>5</li>\n",
       "\t<li>8</li>\n",
       "\t<li>26</li>\n",
       "\t<li>27</li>\n",
       "\t<li>36</li>\n",
       "\t<li>41</li>\n",
       "\t<li>44</li>\n",
       "\t<li>50</li>\n",
       "\t<li>61</li>\n",
       "\t<li>94</li>\n",
       "\t<li>2</li>\n",
       "\t<li>10</li>\n",
       "\t<li>35</li>\n",
       "\t<li>38</li>\n",
       "\t<li>58</li>\n",
       "\t<li>107</li>\n",
       "\t<li>12</li>\n",
       "\t<li>13</li>\n",
       "\t<li>25</li>\n",
       "\t<li>31</li>\n",
       "\t<li>46</li>\n",
       "\t<li>3</li>\n",
       "\t<li>30</li>\n",
       "\t<li>4</li>\n",
       "\t<li>7</li>\n",
       "\t<li>23</li>\n",
       "\t<li>48</li>\n",
       "\t<li>42</li>\n",
       "\t<li>9</li>\n",
       "\t<li>39</li>\n",
       "\t<li>43</li>\n",
       "\t<li>14</li>\n",
       "</ol>\n"
      ],
      "text/latex": [
       "\\begin{enumerate*}\n",
       "\\item 132\n",
       "\\item 118\n",
       "\\item 119\n",
       "\\item 123\n",
       "\\item 136\n",
       "\\item 106\n",
       "\\item 131\n",
       "\\item 108\n",
       "\\item 110\n",
       "\\item 126\n",
       "\\item 130\n",
       "\\item 103\n",
       "\\item 51\n",
       "\\item 53\n",
       "\\item 121\n",
       "\\item 140\n",
       "\\item 142\n",
       "\\item 77\n",
       "\\item 113\n",
       "\\item 144\n",
       "\\item 66\n",
       "\\item 78\n",
       "\\item 87\n",
       "\\item 109\n",
       "\\item 125\n",
       "\\item 141\n",
       "\\item 145\n",
       "\\item 146\n",
       "\\item 59\n",
       "\\item 76\n",
       "\\item 55\n",
       "\\item 105\n",
       "\\item 111\n",
       "\\item 117\n",
       "\\item 148\n",
       "\\item 52\n",
       "\\item 75\n",
       "\\item 112\n",
       "\\item 116\n",
       "\\item 129\n",
       "\\item 133\n",
       "\\item 138\n",
       "\\item 57\n",
       "\\item 73\n",
       "\\item 88\n",
       "\\item 101\n",
       "\\item 104\n",
       "\\item 124\n",
       "\\item 134\n",
       "\\item 137\n",
       "\\item 147\n",
       "\\item 69\n",
       "\\item 98\n",
       "\\item 127\n",
       "\\item 149\n",
       "\\item 64\n",
       "\\item 72\n",
       "\\item 74\n",
       "\\item 92\n",
       "\\item 128\n",
       "\\item 135\n",
       "\\item 63\n",
       "\\item 79\n",
       "\\item 84\n",
       "\\item 86\n",
       "\\item 120\n",
       "\\item 139\n",
       "\\item 62\n",
       "\\item 71\n",
       "\\item 150\n",
       "\\item 15\n",
       "\\item 68\n",
       "\\item 83\n",
       "\\item 93\n",
       "\\item 102\n",
       "\\item 115\n",
       "\\item 143\n",
       "\\item 16\n",
       "\\item 19\n",
       "\\item 56\n",
       "\\item 80\n",
       "\\item 96\n",
       "\\item 97\n",
       "\\item 100\n",
       "\\item 114\n",
       "\\item 65\n",
       "\\item 67\n",
       "\\item 70\n",
       "\\item 89\n",
       "\\item 95\n",
       "\\item 122\n",
       "\\item 34\n",
       "\\item 37\n",
       "\\item 54\n",
       "\\item 81\n",
       "\\item 82\n",
       "\\item 90\n",
       "\\item 91\n",
       "\\item 6\n",
       "\\item 11\n",
       "\\item 17\n",
       "\\item 21\n",
       "\\item 32\n",
       "\\item 85\n",
       "\\item 49\n",
       "\\item 28\n",
       "\\item 29\n",
       "\\item 33\n",
       "\\item 60\n",
       "\\item 1\n",
       "\\item 18\n",
       "\\item 20\n",
       "\\item 22\n",
       "\\item 24\n",
       "\\item 40\n",
       "\\item 45\n",
       "\\item 47\n",
       "\\item 99\n",
       "\\item 5\n",
       "\\item 8\n",
       "\\item 26\n",
       "\\item 27\n",
       "\\item 36\n",
       "\\item 41\n",
       "\\item 44\n",
       "\\item 50\n",
       "\\item 61\n",
       "\\item 94\n",
       "\\item 2\n",
       "\\item 10\n",
       "\\item 35\n",
       "\\item 38\n",
       "\\item 58\n",
       "\\item 107\n",
       "\\item 12\n",
       "\\item 13\n",
       "\\item 25\n",
       "\\item 31\n",
       "\\item 46\n",
       "\\item 3\n",
       "\\item 30\n",
       "\\item 4\n",
       "\\item 7\n",
       "\\item 23\n",
       "\\item 48\n",
       "\\item 42\n",
       "\\item 9\n",
       "\\item 39\n",
       "\\item 43\n",
       "\\item 14\n",
       "\\end{enumerate*}\n"
      ],
      "text/markdown": [
       "1. 132\n",
       "2. 118\n",
       "3. 119\n",
       "4. 123\n",
       "5. 136\n",
       "6. 106\n",
       "7. 131\n",
       "8. 108\n",
       "9. 110\n",
       "10. 126\n",
       "11. 130\n",
       "12. 103\n",
       "13. 51\n",
       "14. 53\n",
       "15. 121\n",
       "16. 140\n",
       "17. 142\n",
       "18. 77\n",
       "19. 113\n",
       "20. 144\n",
       "21. 66\n",
       "22. 78\n",
       "23. 87\n",
       "24. 109\n",
       "25. 125\n",
       "26. 141\n",
       "27. 145\n",
       "28. 146\n",
       "29. 59\n",
       "30. 76\n",
       "31. 55\n",
       "32. 105\n",
       "33. 111\n",
       "34. 117\n",
       "35. 148\n",
       "36. 52\n",
       "37. 75\n",
       "38. 112\n",
       "39. 116\n",
       "40. 129\n",
       "41. 133\n",
       "42. 138\n",
       "43. 57\n",
       "44. 73\n",
       "45. 88\n",
       "46. 101\n",
       "47. 104\n",
       "48. 124\n",
       "49. 134\n",
       "50. 137\n",
       "51. 147\n",
       "52. 69\n",
       "53. 98\n",
       "54. 127\n",
       "55. 149\n",
       "56. 64\n",
       "57. 72\n",
       "58. 74\n",
       "59. 92\n",
       "60. 128\n",
       "61. 135\n",
       "62. 63\n",
       "63. 79\n",
       "64. 84\n",
       "65. 86\n",
       "66. 120\n",
       "67. 139\n",
       "68. 62\n",
       "69. 71\n",
       "70. 150\n",
       "71. 15\n",
       "72. 68\n",
       "73. 83\n",
       "74. 93\n",
       "75. 102\n",
       "76. 115\n",
       "77. 143\n",
       "78. 16\n",
       "79. 19\n",
       "80. 56\n",
       "81. 80\n",
       "82. 96\n",
       "83. 97\n",
       "84. 100\n",
       "85. 114\n",
       "86. 65\n",
       "87. 67\n",
       "88. 70\n",
       "89. 89\n",
       "90. 95\n",
       "91. 122\n",
       "92. 34\n",
       "93. 37\n",
       "94. 54\n",
       "95. 81\n",
       "96. 82\n",
       "97. 90\n",
       "98. 91\n",
       "99. 6\n",
       "100. 11\n",
       "101. 17\n",
       "102. 21\n",
       "103. 32\n",
       "104. 85\n",
       "105. 49\n",
       "106. 28\n",
       "107. 29\n",
       "108. 33\n",
       "109. 60\n",
       "110. 1\n",
       "111. 18\n",
       "112. 20\n",
       "113. 22\n",
       "114. 24\n",
       "115. 40\n",
       "116. 45\n",
       "117. 47\n",
       "118. 99\n",
       "119. 5\n",
       "120. 8\n",
       "121. 26\n",
       "122. 27\n",
       "123. 36\n",
       "124. 41\n",
       "125. 44\n",
       "126. 50\n",
       "127. 61\n",
       "128. 94\n",
       "129. 2\n",
       "130. 10\n",
       "131. 35\n",
       "132. 38\n",
       "133. 58\n",
       "134. 107\n",
       "135. 12\n",
       "136. 13\n",
       "137. 25\n",
       "138. 31\n",
       "139. 46\n",
       "140. 3\n",
       "141. 30\n",
       "142. 4\n",
       "143. 7\n",
       "144. 23\n",
       "145. 48\n",
       "146. 42\n",
       "147. 9\n",
       "148. 39\n",
       "149. 43\n",
       "150. 14\n",
       "\n",
       "\n"
      ],
      "text/plain": [
       "  [1] 132 118 119 123 136 106 131 108 110 126 130 103  51  53 121 140 142  77\n",
       " [19] 113 144  66  78  87 109 125 141 145 146  59  76  55 105 111 117 148  52\n",
       " [37]  75 112 116 129 133 138  57  73  88 101 104 124 134 137 147  69  98 127\n",
       " [55] 149  64  72  74  92 128 135  63  79  84  86 120 139  62  71 150  15  68\n",
       " [73]  83  93 102 115 143  16  19  56  80  96  97 100 114  65  67  70  89  95\n",
       " [91] 122  34  37  54  81  82  90  91   6  11  17  21  32  85  49  28  29  33\n",
       "[109]  60   1  18  20  22  24  40  45  47  99   5   8  26  27  36  41  44  50\n",
       "[127]  61  94   2  10  35  38  58 107  12  13  25  31  46   3  30   4   7  23\n",
       "[145]  48  42   9  39  43  14"
      ]
     },
     "metadata": {},
     "output_type": "display_data"
    }
   ],
   "source": [
    "order(iris$Sepal.Length,decreasing = T)"
   ]
  },
  {
   "cell_type": "code",
   "execution_count": 331,
   "metadata": {
    "scrolled": true
   },
   "outputs": [
    {
     "data": {
      "text/html": [
       "<table>\n",
       "<thead><tr><th></th><th scope=col>Sepal.Length</th><th scope=col>Sepal.Width</th><th scope=col>Petal.Length</th><th scope=col>Petal.Width</th><th scope=col>Species</th></tr></thead>\n",
       "<tbody>\n",
       "\t<tr><th scope=row>132</th><td>7.9       </td><td>3.8       </td><td>6.4       </td><td>2.0       </td><td>virginica </td></tr>\n",
       "\t<tr><th scope=row>118</th><td>7.7       </td><td>3.8       </td><td>6.7       </td><td>2.2       </td><td>virginica </td></tr>\n",
       "\t<tr><th scope=row>119</th><td>7.7       </td><td>2.6       </td><td>6.9       </td><td>2.3       </td><td>virginica </td></tr>\n",
       "\t<tr><th scope=row>123</th><td>7.7       </td><td>2.8       </td><td>6.7       </td><td>2.0       </td><td>virginica </td></tr>\n",
       "\t<tr><th scope=row>136</th><td>7.7       </td><td>3.0       </td><td>6.1       </td><td>2.3       </td><td>virginica </td></tr>\n",
       "\t<tr><th scope=row>106</th><td>7.6       </td><td>3.0       </td><td>6.6       </td><td>2.1       </td><td>virginica </td></tr>\n",
       "\t<tr><th scope=row>131</th><td>7.4       </td><td>2.8       </td><td>6.1       </td><td>1.9       </td><td>virginica </td></tr>\n",
       "\t<tr><th scope=row>108</th><td>7.3       </td><td>2.9       </td><td>6.3       </td><td>1.8       </td><td>virginica </td></tr>\n",
       "\t<tr><th scope=row>110</th><td>7.2       </td><td>3.6       </td><td>6.1       </td><td>2.5       </td><td>virginica </td></tr>\n",
       "\t<tr><th scope=row>126</th><td>7.2       </td><td>3.2       </td><td>6.0       </td><td>1.8       </td><td>virginica </td></tr>\n",
       "\t<tr><th scope=row>130</th><td>7.2       </td><td>3.0       </td><td>5.8       </td><td>1.6       </td><td>virginica </td></tr>\n",
       "\t<tr><th scope=row>103</th><td>7.1       </td><td>3.0       </td><td>5.9       </td><td>2.1       </td><td>virginica </td></tr>\n",
       "\t<tr><th scope=row>51</th><td>7.0       </td><td>3.2       </td><td>4.7       </td><td>1.4       </td><td>versicolor</td></tr>\n",
       "\t<tr><th scope=row>53</th><td>6.9       </td><td>3.1       </td><td>4.9       </td><td>1.5       </td><td>versicolor</td></tr>\n",
       "\t<tr><th scope=row>121</th><td>6.9       </td><td>3.2       </td><td>5.7       </td><td>2.3       </td><td>virginica </td></tr>\n",
       "\t<tr><th scope=row>140</th><td>6.9       </td><td>3.1       </td><td>5.4       </td><td>2.1       </td><td>virginica </td></tr>\n",
       "\t<tr><th scope=row>142</th><td>6.9       </td><td>3.1       </td><td>5.1       </td><td>2.3       </td><td>virginica </td></tr>\n",
       "\t<tr><th scope=row>77</th><td>6.8       </td><td>2.8       </td><td>4.8       </td><td>1.4       </td><td>versicolor</td></tr>\n",
       "\t<tr><th scope=row>113</th><td>6.8       </td><td>3.0       </td><td>5.5       </td><td>2.1       </td><td>virginica </td></tr>\n",
       "\t<tr><th scope=row>144</th><td>6.8       </td><td>3.2       </td><td>5.9       </td><td>2.3       </td><td>virginica </td></tr>\n",
       "\t<tr><th scope=row>66</th><td>6.7       </td><td>3.1       </td><td>4.4       </td><td>1.4       </td><td>versicolor</td></tr>\n",
       "\t<tr><th scope=row>78</th><td>6.7       </td><td>3.0       </td><td>5.0       </td><td>1.7       </td><td>versicolor</td></tr>\n",
       "\t<tr><th scope=row>87</th><td>6.7       </td><td>3.1       </td><td>4.7       </td><td>1.5       </td><td>versicolor</td></tr>\n",
       "\t<tr><th scope=row>109</th><td>6.7       </td><td>2.5       </td><td>5.8       </td><td>1.8       </td><td>virginica </td></tr>\n",
       "\t<tr><th scope=row>125</th><td>6.7       </td><td>3.3       </td><td>5.7       </td><td>2.1       </td><td>virginica </td></tr>\n",
       "\t<tr><th scope=row>141</th><td>6.7       </td><td>3.1       </td><td>5.6       </td><td>2.4       </td><td>virginica </td></tr>\n",
       "\t<tr><th scope=row>145</th><td>6.7       </td><td>3.3       </td><td>5.7       </td><td>2.5       </td><td>virginica </td></tr>\n",
       "\t<tr><th scope=row>146</th><td>6.7       </td><td>3.0       </td><td>5.2       </td><td>2.3       </td><td>virginica </td></tr>\n",
       "\t<tr><th scope=row>59</th><td>6.6       </td><td>2.9       </td><td>4.6       </td><td>1.3       </td><td>versicolor</td></tr>\n",
       "\t<tr><th scope=row>76</th><td>6.6       </td><td>3.0       </td><td>4.4       </td><td>1.4       </td><td>versicolor</td></tr>\n",
       "\t<tr><th scope=row>⋮</th><td>⋮</td><td>⋮</td><td>⋮</td><td>⋮</td><td>⋮</td></tr>\n",
       "\t<tr><th scope=row>26</th><td>5.0       </td><td>3.0       </td><td>1.6       </td><td>0.2       </td><td>setosa    </td></tr>\n",
       "\t<tr><th scope=row>27</th><td>5.0       </td><td>3.4       </td><td>1.6       </td><td>0.4       </td><td>setosa    </td></tr>\n",
       "\t<tr><th scope=row>36</th><td>5.0       </td><td>3.2       </td><td>1.2       </td><td>0.2       </td><td>setosa    </td></tr>\n",
       "\t<tr><th scope=row>41</th><td>5.0       </td><td>3.5       </td><td>1.3       </td><td>0.3       </td><td>setosa    </td></tr>\n",
       "\t<tr><th scope=row>44</th><td>5.0       </td><td>3.5       </td><td>1.6       </td><td>0.6       </td><td>setosa    </td></tr>\n",
       "\t<tr><th scope=row>50</th><td>5.0       </td><td>3.3       </td><td>1.4       </td><td>0.2       </td><td>setosa    </td></tr>\n",
       "\t<tr><th scope=row>61</th><td>5.0       </td><td>2.0       </td><td>3.5       </td><td>1.0       </td><td>versicolor</td></tr>\n",
       "\t<tr><th scope=row>94</th><td>5.0       </td><td>2.3       </td><td>3.3       </td><td>1.0       </td><td>versicolor</td></tr>\n",
       "\t<tr><th scope=row>2</th><td>4.9       </td><td>3.0       </td><td>1.4       </td><td>0.2       </td><td>setosa    </td></tr>\n",
       "\t<tr><th scope=row>10</th><td>4.9       </td><td>3.1       </td><td>1.5       </td><td>0.1       </td><td>setosa    </td></tr>\n",
       "\t<tr><th scope=row>35</th><td>4.9       </td><td>3.1       </td><td>1.5       </td><td>0.2       </td><td>setosa    </td></tr>\n",
       "\t<tr><th scope=row>38</th><td>4.9       </td><td>3.6       </td><td>1.4       </td><td>0.1       </td><td>setosa    </td></tr>\n",
       "\t<tr><th scope=row>58</th><td>4.9       </td><td>2.4       </td><td>3.3       </td><td>1.0       </td><td>versicolor</td></tr>\n",
       "\t<tr><th scope=row>107</th><td>4.9       </td><td>2.5       </td><td>4.5       </td><td>1.7       </td><td>virginica </td></tr>\n",
       "\t<tr><th scope=row>12</th><td>4.8       </td><td>3.4       </td><td>1.6       </td><td>0.2       </td><td>setosa    </td></tr>\n",
       "\t<tr><th scope=row>13</th><td>4.8       </td><td>3.0       </td><td>1.4       </td><td>0.1       </td><td>setosa    </td></tr>\n",
       "\t<tr><th scope=row>25</th><td>4.8       </td><td>3.4       </td><td>1.9       </td><td>0.2       </td><td>setosa    </td></tr>\n",
       "\t<tr><th scope=row>31</th><td>4.8       </td><td>3.1       </td><td>1.6       </td><td>0.2       </td><td>setosa    </td></tr>\n",
       "\t<tr><th scope=row>46</th><td>4.8       </td><td>3.0       </td><td>1.4       </td><td>0.3       </td><td>setosa    </td></tr>\n",
       "\t<tr><th scope=row>3</th><td>4.7       </td><td>3.2       </td><td>1.3       </td><td>0.2       </td><td>setosa    </td></tr>\n",
       "\t<tr><th scope=row>30</th><td>4.7       </td><td>3.2       </td><td>1.6       </td><td>0.2       </td><td>setosa    </td></tr>\n",
       "\t<tr><th scope=row>4</th><td>4.6       </td><td>3.1       </td><td>1.5       </td><td>0.2       </td><td>setosa    </td></tr>\n",
       "\t<tr><th scope=row>7</th><td>4.6       </td><td>3.4       </td><td>1.4       </td><td>0.3       </td><td>setosa    </td></tr>\n",
       "\t<tr><th scope=row>23</th><td>4.6       </td><td>3.6       </td><td>1.0       </td><td>0.2       </td><td>setosa    </td></tr>\n",
       "\t<tr><th scope=row>48</th><td>4.6       </td><td>3.2       </td><td>1.4       </td><td>0.2       </td><td>setosa    </td></tr>\n",
       "\t<tr><th scope=row>42</th><td>4.5       </td><td>2.3       </td><td>1.3       </td><td>0.3       </td><td>setosa    </td></tr>\n",
       "\t<tr><th scope=row>9</th><td>4.4       </td><td>2.9       </td><td>1.4       </td><td>0.2       </td><td>setosa    </td></tr>\n",
       "\t<tr><th scope=row>39</th><td>4.4       </td><td>3.0       </td><td>1.3       </td><td>0.2       </td><td>setosa    </td></tr>\n",
       "\t<tr><th scope=row>43</th><td>4.4       </td><td>3.2       </td><td>1.3       </td><td>0.2       </td><td>setosa    </td></tr>\n",
       "\t<tr><th scope=row>14</th><td>4.3       </td><td>3.0       </td><td>1.1       </td><td>0.1       </td><td>setosa    </td></tr>\n",
       "</tbody>\n",
       "</table>\n"
      ],
      "text/latex": [
       "\\begin{tabular}{r|lllll}\n",
       "  & Sepal.Length & Sepal.Width & Petal.Length & Petal.Width & Species\\\\\n",
       "\\hline\n",
       "\t132 & 7.9        & 3.8        & 6.4        & 2.0        & virginica \\\\\n",
       "\t118 & 7.7        & 3.8        & 6.7        & 2.2        & virginica \\\\\n",
       "\t119 & 7.7        & 2.6        & 6.9        & 2.3        & virginica \\\\\n",
       "\t123 & 7.7        & 2.8        & 6.7        & 2.0        & virginica \\\\\n",
       "\t136 & 7.7        & 3.0        & 6.1        & 2.3        & virginica \\\\\n",
       "\t106 & 7.6        & 3.0        & 6.6        & 2.1        & virginica \\\\\n",
       "\t131 & 7.4        & 2.8        & 6.1        & 1.9        & virginica \\\\\n",
       "\t108 & 7.3        & 2.9        & 6.3        & 1.8        & virginica \\\\\n",
       "\t110 & 7.2        & 3.6        & 6.1        & 2.5        & virginica \\\\\n",
       "\t126 & 7.2        & 3.2        & 6.0        & 1.8        & virginica \\\\\n",
       "\t130 & 7.2        & 3.0        & 5.8        & 1.6        & virginica \\\\\n",
       "\t103 & 7.1        & 3.0        & 5.9        & 2.1        & virginica \\\\\n",
       "\t51 & 7.0        & 3.2        & 4.7        & 1.4        & versicolor\\\\\n",
       "\t53 & 6.9        & 3.1        & 4.9        & 1.5        & versicolor\\\\\n",
       "\t121 & 6.9        & 3.2        & 5.7        & 2.3        & virginica \\\\\n",
       "\t140 & 6.9        & 3.1        & 5.4        & 2.1        & virginica \\\\\n",
       "\t142 & 6.9        & 3.1        & 5.1        & 2.3        & virginica \\\\\n",
       "\t77 & 6.8        & 2.8        & 4.8        & 1.4        & versicolor\\\\\n",
       "\t113 & 6.8        & 3.0        & 5.5        & 2.1        & virginica \\\\\n",
       "\t144 & 6.8        & 3.2        & 5.9        & 2.3        & virginica \\\\\n",
       "\t66 & 6.7        & 3.1        & 4.4        & 1.4        & versicolor\\\\\n",
       "\t78 & 6.7        & 3.0        & 5.0        & 1.7        & versicolor\\\\\n",
       "\t87 & 6.7        & 3.1        & 4.7        & 1.5        & versicolor\\\\\n",
       "\t109 & 6.7        & 2.5        & 5.8        & 1.8        & virginica \\\\\n",
       "\t125 & 6.7        & 3.3        & 5.7        & 2.1        & virginica \\\\\n",
       "\t141 & 6.7        & 3.1        & 5.6        & 2.4        & virginica \\\\\n",
       "\t145 & 6.7        & 3.3        & 5.7        & 2.5        & virginica \\\\\n",
       "\t146 & 6.7        & 3.0        & 5.2        & 2.3        & virginica \\\\\n",
       "\t59 & 6.6        & 2.9        & 4.6        & 1.3        & versicolor\\\\\n",
       "\t76 & 6.6        & 3.0        & 4.4        & 1.4        & versicolor\\\\\n",
       "\t⋮ & ⋮ & ⋮ & ⋮ & ⋮ & ⋮\\\\\n",
       "\t26 & 5.0        & 3.0        & 1.6        & 0.2        & setosa    \\\\\n",
       "\t27 & 5.0        & 3.4        & 1.6        & 0.4        & setosa    \\\\\n",
       "\t36 & 5.0        & 3.2        & 1.2        & 0.2        & setosa    \\\\\n",
       "\t41 & 5.0        & 3.5        & 1.3        & 0.3        & setosa    \\\\\n",
       "\t44 & 5.0        & 3.5        & 1.6        & 0.6        & setosa    \\\\\n",
       "\t50 & 5.0        & 3.3        & 1.4        & 0.2        & setosa    \\\\\n",
       "\t61 & 5.0        & 2.0        & 3.5        & 1.0        & versicolor\\\\\n",
       "\t94 & 5.0        & 2.3        & 3.3        & 1.0        & versicolor\\\\\n",
       "\t2 & 4.9        & 3.0        & 1.4        & 0.2        & setosa    \\\\\n",
       "\t10 & 4.9        & 3.1        & 1.5        & 0.1        & setosa    \\\\\n",
       "\t35 & 4.9        & 3.1        & 1.5        & 0.2        & setosa    \\\\\n",
       "\t38 & 4.9        & 3.6        & 1.4        & 0.1        & setosa    \\\\\n",
       "\t58 & 4.9        & 2.4        & 3.3        & 1.0        & versicolor\\\\\n",
       "\t107 & 4.9        & 2.5        & 4.5        & 1.7        & virginica \\\\\n",
       "\t12 & 4.8        & 3.4        & 1.6        & 0.2        & setosa    \\\\\n",
       "\t13 & 4.8        & 3.0        & 1.4        & 0.1        & setosa    \\\\\n",
       "\t25 & 4.8        & 3.4        & 1.9        & 0.2        & setosa    \\\\\n",
       "\t31 & 4.8        & 3.1        & 1.6        & 0.2        & setosa    \\\\\n",
       "\t46 & 4.8        & 3.0        & 1.4        & 0.3        & setosa    \\\\\n",
       "\t3 & 4.7        & 3.2        & 1.3        & 0.2        & setosa    \\\\\n",
       "\t30 & 4.7        & 3.2        & 1.6        & 0.2        & setosa    \\\\\n",
       "\t4 & 4.6        & 3.1        & 1.5        & 0.2        & setosa    \\\\\n",
       "\t7 & 4.6        & 3.4        & 1.4        & 0.3        & setosa    \\\\\n",
       "\t23 & 4.6        & 3.6        & 1.0        & 0.2        & setosa    \\\\\n",
       "\t48 & 4.6        & 3.2        & 1.4        & 0.2        & setosa    \\\\\n",
       "\t42 & 4.5        & 2.3        & 1.3        & 0.3        & setosa    \\\\\n",
       "\t9 & 4.4        & 2.9        & 1.4        & 0.2        & setosa    \\\\\n",
       "\t39 & 4.4        & 3.0        & 1.3        & 0.2        & setosa    \\\\\n",
       "\t43 & 4.4        & 3.2        & 1.3        & 0.2        & setosa    \\\\\n",
       "\t14 & 4.3        & 3.0        & 1.1        & 0.1        & setosa    \\\\\n",
       "\\end{tabular}\n"
      ],
      "text/markdown": [
       "\n",
       "| <!--/--> | Sepal.Length | Sepal.Width | Petal.Length | Petal.Width | Species | \n",
       "|---|---|---|---|---|---|---|---|---|---|---|---|---|---|---|---|---|---|---|---|---|---|---|---|---|---|---|---|---|---|---|---|---|---|---|---|---|---|---|---|---|---|---|---|---|---|---|---|---|---|---|---|---|---|---|---|---|---|---|---|---|\n",
       "| 132 | 7.9        | 3.8        | 6.4        | 2.0        | virginica  | \n",
       "| 118 | 7.7        | 3.8        | 6.7        | 2.2        | virginica  | \n",
       "| 119 | 7.7        | 2.6        | 6.9        | 2.3        | virginica  | \n",
       "| 123 | 7.7        | 2.8        | 6.7        | 2.0        | virginica  | \n",
       "| 136 | 7.7        | 3.0        | 6.1        | 2.3        | virginica  | \n",
       "| 106 | 7.6        | 3.0        | 6.6        | 2.1        | virginica  | \n",
       "| 131 | 7.4        | 2.8        | 6.1        | 1.9        | virginica  | \n",
       "| 108 | 7.3        | 2.9        | 6.3        | 1.8        | virginica  | \n",
       "| 110 | 7.2        | 3.6        | 6.1        | 2.5        | virginica  | \n",
       "| 126 | 7.2        | 3.2        | 6.0        | 1.8        | virginica  | \n",
       "| 130 | 7.2        | 3.0        | 5.8        | 1.6        | virginica  | \n",
       "| 103 | 7.1        | 3.0        | 5.9        | 2.1        | virginica  | \n",
       "| 51 | 7.0        | 3.2        | 4.7        | 1.4        | versicolor | \n",
       "| 53 | 6.9        | 3.1        | 4.9        | 1.5        | versicolor | \n",
       "| 121 | 6.9        | 3.2        | 5.7        | 2.3        | virginica  | \n",
       "| 140 | 6.9        | 3.1        | 5.4        | 2.1        | virginica  | \n",
       "| 142 | 6.9        | 3.1        | 5.1        | 2.3        | virginica  | \n",
       "| 77 | 6.8        | 2.8        | 4.8        | 1.4        | versicolor | \n",
       "| 113 | 6.8        | 3.0        | 5.5        | 2.1        | virginica  | \n",
       "| 144 | 6.8        | 3.2        | 5.9        | 2.3        | virginica  | \n",
       "| 66 | 6.7        | 3.1        | 4.4        | 1.4        | versicolor | \n",
       "| 78 | 6.7        | 3.0        | 5.0        | 1.7        | versicolor | \n",
       "| 87 | 6.7        | 3.1        | 4.7        | 1.5        | versicolor | \n",
       "| 109 | 6.7        | 2.5        | 5.8        | 1.8        | virginica  | \n",
       "| 125 | 6.7        | 3.3        | 5.7        | 2.1        | virginica  | \n",
       "| 141 | 6.7        | 3.1        | 5.6        | 2.4        | virginica  | \n",
       "| 145 | 6.7        | 3.3        | 5.7        | 2.5        | virginica  | \n",
       "| 146 | 6.7        | 3.0        | 5.2        | 2.3        | virginica  | \n",
       "| 59 | 6.6        | 2.9        | 4.6        | 1.3        | versicolor | \n",
       "| 76 | 6.6        | 3.0        | 4.4        | 1.4        | versicolor | \n",
       "| ⋮ | ⋮ | ⋮ | ⋮ | ⋮ | ⋮ | \n",
       "| 26 | 5.0        | 3.0        | 1.6        | 0.2        | setosa     | \n",
       "| 27 | 5.0        | 3.4        | 1.6        | 0.4        | setosa     | \n",
       "| 36 | 5.0        | 3.2        | 1.2        | 0.2        | setosa     | \n",
       "| 41 | 5.0        | 3.5        | 1.3        | 0.3        | setosa     | \n",
       "| 44 | 5.0        | 3.5        | 1.6        | 0.6        | setosa     | \n",
       "| 50 | 5.0        | 3.3        | 1.4        | 0.2        | setosa     | \n",
       "| 61 | 5.0        | 2.0        | 3.5        | 1.0        | versicolor | \n",
       "| 94 | 5.0        | 2.3        | 3.3        | 1.0        | versicolor | \n",
       "| 2 | 4.9        | 3.0        | 1.4        | 0.2        | setosa     | \n",
       "| 10 | 4.9        | 3.1        | 1.5        | 0.1        | setosa     | \n",
       "| 35 | 4.9        | 3.1        | 1.5        | 0.2        | setosa     | \n",
       "| 38 | 4.9        | 3.6        | 1.4        | 0.1        | setosa     | \n",
       "| 58 | 4.9        | 2.4        | 3.3        | 1.0        | versicolor | \n",
       "| 107 | 4.9        | 2.5        | 4.5        | 1.7        | virginica  | \n",
       "| 12 | 4.8        | 3.4        | 1.6        | 0.2        | setosa     | \n",
       "| 13 | 4.8        | 3.0        | 1.4        | 0.1        | setosa     | \n",
       "| 25 | 4.8        | 3.4        | 1.9        | 0.2        | setosa     | \n",
       "| 31 | 4.8        | 3.1        | 1.6        | 0.2        | setosa     | \n",
       "| 46 | 4.8        | 3.0        | 1.4        | 0.3        | setosa     | \n",
       "| 3 | 4.7        | 3.2        | 1.3        | 0.2        | setosa     | \n",
       "| 30 | 4.7        | 3.2        | 1.6        | 0.2        | setosa     | \n",
       "| 4 | 4.6        | 3.1        | 1.5        | 0.2        | setosa     | \n",
       "| 7 | 4.6        | 3.4        | 1.4        | 0.3        | setosa     | \n",
       "| 23 | 4.6        | 3.6        | 1.0        | 0.2        | setosa     | \n",
       "| 48 | 4.6        | 3.2        | 1.4        | 0.2        | setosa     | \n",
       "| 42 | 4.5        | 2.3        | 1.3        | 0.3        | setosa     | \n",
       "| 9 | 4.4        | 2.9        | 1.4        | 0.2        | setosa     | \n",
       "| 39 | 4.4        | 3.0        | 1.3        | 0.2        | setosa     | \n",
       "| 43 | 4.4        | 3.2        | 1.3        | 0.2        | setosa     | \n",
       "| 14 | 4.3        | 3.0        | 1.1        | 0.1        | setosa     | \n",
       "\n",
       "\n"
      ],
      "text/plain": [
       "    Sepal.Length Sepal.Width Petal.Length Petal.Width Species   \n",
       "132 7.9          3.8         6.4          2.0         virginica \n",
       "118 7.7          3.8         6.7          2.2         virginica \n",
       "119 7.7          2.6         6.9          2.3         virginica \n",
       "123 7.7          2.8         6.7          2.0         virginica \n",
       "136 7.7          3.0         6.1          2.3         virginica \n",
       "106 7.6          3.0         6.6          2.1         virginica \n",
       "131 7.4          2.8         6.1          1.9         virginica \n",
       "108 7.3          2.9         6.3          1.8         virginica \n",
       "110 7.2          3.6         6.1          2.5         virginica \n",
       "126 7.2          3.2         6.0          1.8         virginica \n",
       "130 7.2          3.0         5.8          1.6         virginica \n",
       "103 7.1          3.0         5.9          2.1         virginica \n",
       "51  7.0          3.2         4.7          1.4         versicolor\n",
       "53  6.9          3.1         4.9          1.5         versicolor\n",
       "121 6.9          3.2         5.7          2.3         virginica \n",
       "140 6.9          3.1         5.4          2.1         virginica \n",
       "142 6.9          3.1         5.1          2.3         virginica \n",
       "77  6.8          2.8         4.8          1.4         versicolor\n",
       "113 6.8          3.0         5.5          2.1         virginica \n",
       "144 6.8          3.2         5.9          2.3         virginica \n",
       "66  6.7          3.1         4.4          1.4         versicolor\n",
       "78  6.7          3.0         5.0          1.7         versicolor\n",
       "87  6.7          3.1         4.7          1.5         versicolor\n",
       "109 6.7          2.5         5.8          1.8         virginica \n",
       "125 6.7          3.3         5.7          2.1         virginica \n",
       "141 6.7          3.1         5.6          2.4         virginica \n",
       "145 6.7          3.3         5.7          2.5         virginica \n",
       "146 6.7          3.0         5.2          2.3         virginica \n",
       "59  6.6          2.9         4.6          1.3         versicolor\n",
       "76  6.6          3.0         4.4          1.4         versicolor\n",
       "⋮   ⋮            ⋮           ⋮            ⋮           ⋮         \n",
       "26  5.0          3.0         1.6          0.2         setosa    \n",
       "27  5.0          3.4         1.6          0.4         setosa    \n",
       "36  5.0          3.2         1.2          0.2         setosa    \n",
       "41  5.0          3.5         1.3          0.3         setosa    \n",
       "44  5.0          3.5         1.6          0.6         setosa    \n",
       "50  5.0          3.3         1.4          0.2         setosa    \n",
       "61  5.0          2.0         3.5          1.0         versicolor\n",
       "94  5.0          2.3         3.3          1.0         versicolor\n",
       "2   4.9          3.0         1.4          0.2         setosa    \n",
       "10  4.9          3.1         1.5          0.1         setosa    \n",
       "35  4.9          3.1         1.5          0.2         setosa    \n",
       "38  4.9          3.6         1.4          0.1         setosa    \n",
       "58  4.9          2.4         3.3          1.0         versicolor\n",
       "107 4.9          2.5         4.5          1.7         virginica \n",
       "12  4.8          3.4         1.6          0.2         setosa    \n",
       "13  4.8          3.0         1.4          0.1         setosa    \n",
       "25  4.8          3.4         1.9          0.2         setosa    \n",
       "31  4.8          3.1         1.6          0.2         setosa    \n",
       "46  4.8          3.0         1.4          0.3         setosa    \n",
       "3   4.7          3.2         1.3          0.2         setosa    \n",
       "30  4.7          3.2         1.6          0.2         setosa    \n",
       "4   4.6          3.1         1.5          0.2         setosa    \n",
       "7   4.6          3.4         1.4          0.3         setosa    \n",
       "23  4.6          3.6         1.0          0.2         setosa    \n",
       "48  4.6          3.2         1.4          0.2         setosa    \n",
       "42  4.5          2.3         1.3          0.3         setosa    \n",
       "9   4.4          2.9         1.4          0.2         setosa    \n",
       "39  4.4          3.0         1.3          0.2         setosa    \n",
       "43  4.4          3.2         1.3          0.2         setosa    \n",
       "14  4.3          3.0         1.1          0.1         setosa    "
      ]
     },
     "metadata": {},
     "output_type": "display_data"
    }
   ],
   "source": [
    "iris[order(iris$Sepal.Length,decreasing = T),]"
   ]
  },
  {
   "cell_type": "code",
   "execution_count": 333,
   "metadata": {},
   "outputs": [
    {
     "data": {
      "text/html": [
       "<ol class=list-inline>\n",
       "\t<li>4.3</li>\n",
       "\t<li>4.4</li>\n",
       "\t<li>4.4</li>\n",
       "\t<li>4.4</li>\n",
       "\t<li>4.5</li>\n",
       "\t<li>4.6</li>\n",
       "\t<li>4.6</li>\n",
       "\t<li>4.6</li>\n",
       "\t<li>4.6</li>\n",
       "\t<li>4.7</li>\n",
       "\t<li>4.7</li>\n",
       "\t<li>4.8</li>\n",
       "\t<li>4.8</li>\n",
       "\t<li>4.8</li>\n",
       "\t<li>4.8</li>\n",
       "\t<li>4.8</li>\n",
       "\t<li>4.9</li>\n",
       "\t<li>4.9</li>\n",
       "\t<li>4.9</li>\n",
       "\t<li>4.9</li>\n",
       "\t<li>4.9</li>\n",
       "\t<li>4.9</li>\n",
       "\t<li>5</li>\n",
       "\t<li>5</li>\n",
       "\t<li>5</li>\n",
       "\t<li>5</li>\n",
       "\t<li>5</li>\n",
       "\t<li>5</li>\n",
       "\t<li>5</li>\n",
       "\t<li>5</li>\n",
       "\t<li>5</li>\n",
       "\t<li>5</li>\n",
       "\t<li>5.1</li>\n",
       "\t<li>5.1</li>\n",
       "\t<li>5.1</li>\n",
       "\t<li>5.1</li>\n",
       "\t<li>5.1</li>\n",
       "\t<li>5.1</li>\n",
       "\t<li>5.1</li>\n",
       "\t<li>5.1</li>\n",
       "\t<li>5.1</li>\n",
       "\t<li>5.2</li>\n",
       "\t<li>5.2</li>\n",
       "\t<li>5.2</li>\n",
       "\t<li>5.2</li>\n",
       "\t<li>5.3</li>\n",
       "\t<li>5.4</li>\n",
       "\t<li>5.4</li>\n",
       "\t<li>5.4</li>\n",
       "\t<li>5.4</li>\n",
       "\t<li>5.4</li>\n",
       "\t<li>5.4</li>\n",
       "\t<li>5.5</li>\n",
       "\t<li>5.5</li>\n",
       "\t<li>5.5</li>\n",
       "\t<li>5.5</li>\n",
       "\t<li>5.5</li>\n",
       "\t<li>5.5</li>\n",
       "\t<li>5.5</li>\n",
       "\t<li>5.6</li>\n",
       "\t<li>5.6</li>\n",
       "\t<li>5.6</li>\n",
       "\t<li>5.6</li>\n",
       "\t<li>5.6</li>\n",
       "\t<li>5.6</li>\n",
       "\t<li>5.7</li>\n",
       "\t<li>5.7</li>\n",
       "\t<li>5.7</li>\n",
       "\t<li>5.7</li>\n",
       "\t<li>5.7</li>\n",
       "\t<li>5.7</li>\n",
       "\t<li>5.7</li>\n",
       "\t<li>5.7</li>\n",
       "\t<li>5.8</li>\n",
       "\t<li>5.8</li>\n",
       "\t<li>5.8</li>\n",
       "\t<li>5.8</li>\n",
       "\t<li>5.8</li>\n",
       "\t<li>5.8</li>\n",
       "\t<li>5.8</li>\n",
       "\t<li>5.9</li>\n",
       "\t<li>5.9</li>\n",
       "\t<li>5.9</li>\n",
       "\t<li>6</li>\n",
       "\t<li>6</li>\n",
       "\t<li>6</li>\n",
       "\t<li>6</li>\n",
       "\t<li>6</li>\n",
       "\t<li>6</li>\n",
       "\t<li>6.1</li>\n",
       "\t<li>6.1</li>\n",
       "\t<li>6.1</li>\n",
       "\t<li>6.1</li>\n",
       "\t<li>6.1</li>\n",
       "\t<li>6.1</li>\n",
       "\t<li>6.2</li>\n",
       "\t<li>6.2</li>\n",
       "\t<li>6.2</li>\n",
       "\t<li>6.2</li>\n",
       "\t<li>6.3</li>\n",
       "\t<li>6.3</li>\n",
       "\t<li>6.3</li>\n",
       "\t<li>6.3</li>\n",
       "\t<li>6.3</li>\n",
       "\t<li>6.3</li>\n",
       "\t<li>6.3</li>\n",
       "\t<li>6.3</li>\n",
       "\t<li>6.3</li>\n",
       "\t<li>6.4</li>\n",
       "\t<li>6.4</li>\n",
       "\t<li>6.4</li>\n",
       "\t<li>6.4</li>\n",
       "\t<li>6.4</li>\n",
       "\t<li>6.4</li>\n",
       "\t<li>6.4</li>\n",
       "\t<li>6.5</li>\n",
       "\t<li>6.5</li>\n",
       "\t<li>6.5</li>\n",
       "\t<li>6.5</li>\n",
       "\t<li>6.5</li>\n",
       "\t<li>6.6</li>\n",
       "\t<li>6.6</li>\n",
       "\t<li>6.7</li>\n",
       "\t<li>6.7</li>\n",
       "\t<li>6.7</li>\n",
       "\t<li>6.7</li>\n",
       "\t<li>6.7</li>\n",
       "\t<li>6.7</li>\n",
       "\t<li>6.7</li>\n",
       "\t<li>6.7</li>\n",
       "\t<li>6.8</li>\n",
       "\t<li>6.8</li>\n",
       "\t<li>6.8</li>\n",
       "\t<li>6.9</li>\n",
       "\t<li>6.9</li>\n",
       "\t<li>6.9</li>\n",
       "\t<li>6.9</li>\n",
       "\t<li>7</li>\n",
       "\t<li>7.1</li>\n",
       "\t<li>7.2</li>\n",
       "\t<li>7.2</li>\n",
       "\t<li>7.2</li>\n",
       "\t<li>7.3</li>\n",
       "\t<li>7.4</li>\n",
       "\t<li>7.6</li>\n",
       "\t<li>7.7</li>\n",
       "\t<li>7.7</li>\n",
       "\t<li>7.7</li>\n",
       "\t<li>7.7</li>\n",
       "\t<li>7.9</li>\n",
       "</ol>\n"
      ],
      "text/latex": [
       "\\begin{enumerate*}\n",
       "\\item 4.3\n",
       "\\item 4.4\n",
       "\\item 4.4\n",
       "\\item 4.4\n",
       "\\item 4.5\n",
       "\\item 4.6\n",
       "\\item 4.6\n",
       "\\item 4.6\n",
       "\\item 4.6\n",
       "\\item 4.7\n",
       "\\item 4.7\n",
       "\\item 4.8\n",
       "\\item 4.8\n",
       "\\item 4.8\n",
       "\\item 4.8\n",
       "\\item 4.8\n",
       "\\item 4.9\n",
       "\\item 4.9\n",
       "\\item 4.9\n",
       "\\item 4.9\n",
       "\\item 4.9\n",
       "\\item 4.9\n",
       "\\item 5\n",
       "\\item 5\n",
       "\\item 5\n",
       "\\item 5\n",
       "\\item 5\n",
       "\\item 5\n",
       "\\item 5\n",
       "\\item 5\n",
       "\\item 5\n",
       "\\item 5\n",
       "\\item 5.1\n",
       "\\item 5.1\n",
       "\\item 5.1\n",
       "\\item 5.1\n",
       "\\item 5.1\n",
       "\\item 5.1\n",
       "\\item 5.1\n",
       "\\item 5.1\n",
       "\\item 5.1\n",
       "\\item 5.2\n",
       "\\item 5.2\n",
       "\\item 5.2\n",
       "\\item 5.2\n",
       "\\item 5.3\n",
       "\\item 5.4\n",
       "\\item 5.4\n",
       "\\item 5.4\n",
       "\\item 5.4\n",
       "\\item 5.4\n",
       "\\item 5.4\n",
       "\\item 5.5\n",
       "\\item 5.5\n",
       "\\item 5.5\n",
       "\\item 5.5\n",
       "\\item 5.5\n",
       "\\item 5.5\n",
       "\\item 5.5\n",
       "\\item 5.6\n",
       "\\item 5.6\n",
       "\\item 5.6\n",
       "\\item 5.6\n",
       "\\item 5.6\n",
       "\\item 5.6\n",
       "\\item 5.7\n",
       "\\item 5.7\n",
       "\\item 5.7\n",
       "\\item 5.7\n",
       "\\item 5.7\n",
       "\\item 5.7\n",
       "\\item 5.7\n",
       "\\item 5.7\n",
       "\\item 5.8\n",
       "\\item 5.8\n",
       "\\item 5.8\n",
       "\\item 5.8\n",
       "\\item 5.8\n",
       "\\item 5.8\n",
       "\\item 5.8\n",
       "\\item 5.9\n",
       "\\item 5.9\n",
       "\\item 5.9\n",
       "\\item 6\n",
       "\\item 6\n",
       "\\item 6\n",
       "\\item 6\n",
       "\\item 6\n",
       "\\item 6\n",
       "\\item 6.1\n",
       "\\item 6.1\n",
       "\\item 6.1\n",
       "\\item 6.1\n",
       "\\item 6.1\n",
       "\\item 6.1\n",
       "\\item 6.2\n",
       "\\item 6.2\n",
       "\\item 6.2\n",
       "\\item 6.2\n",
       "\\item 6.3\n",
       "\\item 6.3\n",
       "\\item 6.3\n",
       "\\item 6.3\n",
       "\\item 6.3\n",
       "\\item 6.3\n",
       "\\item 6.3\n",
       "\\item 6.3\n",
       "\\item 6.3\n",
       "\\item 6.4\n",
       "\\item 6.4\n",
       "\\item 6.4\n",
       "\\item 6.4\n",
       "\\item 6.4\n",
       "\\item 6.4\n",
       "\\item 6.4\n",
       "\\item 6.5\n",
       "\\item 6.5\n",
       "\\item 6.5\n",
       "\\item 6.5\n",
       "\\item 6.5\n",
       "\\item 6.6\n",
       "\\item 6.6\n",
       "\\item 6.7\n",
       "\\item 6.7\n",
       "\\item 6.7\n",
       "\\item 6.7\n",
       "\\item 6.7\n",
       "\\item 6.7\n",
       "\\item 6.7\n",
       "\\item 6.7\n",
       "\\item 6.8\n",
       "\\item 6.8\n",
       "\\item 6.8\n",
       "\\item 6.9\n",
       "\\item 6.9\n",
       "\\item 6.9\n",
       "\\item 6.9\n",
       "\\item 7\n",
       "\\item 7.1\n",
       "\\item 7.2\n",
       "\\item 7.2\n",
       "\\item 7.2\n",
       "\\item 7.3\n",
       "\\item 7.4\n",
       "\\item 7.6\n",
       "\\item 7.7\n",
       "\\item 7.7\n",
       "\\item 7.7\n",
       "\\item 7.7\n",
       "\\item 7.9\n",
       "\\end{enumerate*}\n"
      ],
      "text/markdown": [
       "1. 4.3\n",
       "2. 4.4\n",
       "3. 4.4\n",
       "4. 4.4\n",
       "5. 4.5\n",
       "6. 4.6\n",
       "7. 4.6\n",
       "8. 4.6\n",
       "9. 4.6\n",
       "10. 4.7\n",
       "11. 4.7\n",
       "12. 4.8\n",
       "13. 4.8\n",
       "14. 4.8\n",
       "15. 4.8\n",
       "16. 4.8\n",
       "17. 4.9\n",
       "18. 4.9\n",
       "19. 4.9\n",
       "20. 4.9\n",
       "21. 4.9\n",
       "22. 4.9\n",
       "23. 5\n",
       "24. 5\n",
       "25. 5\n",
       "26. 5\n",
       "27. 5\n",
       "28. 5\n",
       "29. 5\n",
       "30. 5\n",
       "31. 5\n",
       "32. 5\n",
       "33. 5.1\n",
       "34. 5.1\n",
       "35. 5.1\n",
       "36. 5.1\n",
       "37. 5.1\n",
       "38. 5.1\n",
       "39. 5.1\n",
       "40. 5.1\n",
       "41. 5.1\n",
       "42. 5.2\n",
       "43. 5.2\n",
       "44. 5.2\n",
       "45. 5.2\n",
       "46. 5.3\n",
       "47. 5.4\n",
       "48. 5.4\n",
       "49. 5.4\n",
       "50. 5.4\n",
       "51. 5.4\n",
       "52. 5.4\n",
       "53. 5.5\n",
       "54. 5.5\n",
       "55. 5.5\n",
       "56. 5.5\n",
       "57. 5.5\n",
       "58. 5.5\n",
       "59. 5.5\n",
       "60. 5.6\n",
       "61. 5.6\n",
       "62. 5.6\n",
       "63. 5.6\n",
       "64. 5.6\n",
       "65. 5.6\n",
       "66. 5.7\n",
       "67. 5.7\n",
       "68. 5.7\n",
       "69. 5.7\n",
       "70. 5.7\n",
       "71. 5.7\n",
       "72. 5.7\n",
       "73. 5.7\n",
       "74. 5.8\n",
       "75. 5.8\n",
       "76. 5.8\n",
       "77. 5.8\n",
       "78. 5.8\n",
       "79. 5.8\n",
       "80. 5.8\n",
       "81. 5.9\n",
       "82. 5.9\n",
       "83. 5.9\n",
       "84. 6\n",
       "85. 6\n",
       "86. 6\n",
       "87. 6\n",
       "88. 6\n",
       "89. 6\n",
       "90. 6.1\n",
       "91. 6.1\n",
       "92. 6.1\n",
       "93. 6.1\n",
       "94. 6.1\n",
       "95. 6.1\n",
       "96. 6.2\n",
       "97. 6.2\n",
       "98. 6.2\n",
       "99. 6.2\n",
       "100. 6.3\n",
       "101. 6.3\n",
       "102. 6.3\n",
       "103. 6.3\n",
       "104. 6.3\n",
       "105. 6.3\n",
       "106. 6.3\n",
       "107. 6.3\n",
       "108. 6.3\n",
       "109. 6.4\n",
       "110. 6.4\n",
       "111. 6.4\n",
       "112. 6.4\n",
       "113. 6.4\n",
       "114. 6.4\n",
       "115. 6.4\n",
       "116. 6.5\n",
       "117. 6.5\n",
       "118. 6.5\n",
       "119. 6.5\n",
       "120. 6.5\n",
       "121. 6.6\n",
       "122. 6.6\n",
       "123. 6.7\n",
       "124. 6.7\n",
       "125. 6.7\n",
       "126. 6.7\n",
       "127. 6.7\n",
       "128. 6.7\n",
       "129. 6.7\n",
       "130. 6.7\n",
       "131. 6.8\n",
       "132. 6.8\n",
       "133. 6.8\n",
       "134. 6.9\n",
       "135. 6.9\n",
       "136. 6.9\n",
       "137. 6.9\n",
       "138. 7\n",
       "139. 7.1\n",
       "140. 7.2\n",
       "141. 7.2\n",
       "142. 7.2\n",
       "143. 7.3\n",
       "144. 7.4\n",
       "145. 7.6\n",
       "146. 7.7\n",
       "147. 7.7\n",
       "148. 7.7\n",
       "149. 7.7\n",
       "150. 7.9\n",
       "\n",
       "\n"
      ],
      "text/plain": [
       "  [1] 4.3 4.4 4.4 4.4 4.5 4.6 4.6 4.6 4.6 4.7 4.7 4.8 4.8 4.8 4.8 4.8 4.9 4.9\n",
       " [19] 4.9 4.9 4.9 4.9 5.0 5.0 5.0 5.0 5.0 5.0 5.0 5.0 5.0 5.0 5.1 5.1 5.1 5.1\n",
       " [37] 5.1 5.1 5.1 5.1 5.1 5.2 5.2 5.2 5.2 5.3 5.4 5.4 5.4 5.4 5.4 5.4 5.5 5.5\n",
       " [55] 5.5 5.5 5.5 5.5 5.5 5.6 5.6 5.6 5.6 5.6 5.6 5.7 5.7 5.7 5.7 5.7 5.7 5.7\n",
       " [73] 5.7 5.8 5.8 5.8 5.8 5.8 5.8 5.8 5.9 5.9 5.9 6.0 6.0 6.0 6.0 6.0 6.0 6.1\n",
       " [91] 6.1 6.1 6.1 6.1 6.1 6.2 6.2 6.2 6.2 6.3 6.3 6.3 6.3 6.3 6.3 6.3 6.3 6.3\n",
       "[109] 6.4 6.4 6.4 6.4 6.4 6.4 6.4 6.5 6.5 6.5 6.5 6.5 6.6 6.6 6.7 6.7 6.7 6.7\n",
       "[127] 6.7 6.7 6.7 6.7 6.8 6.8 6.8 6.9 6.9 6.9 6.9 7.0 7.1 7.2 7.2 7.2 7.3 7.4\n",
       "[145] 7.6 7.7 7.7 7.7 7.7 7.9"
      ]
     },
     "metadata": {},
     "output_type": "display_data"
    }
   ],
   "source": [
    "sort(iris$Sepal.Length)"
   ]
  },
  {
   "cell_type": "code",
   "execution_count": 334,
   "metadata": {},
   "outputs": [
    {
     "data": {
      "text/html": [
       "<ol class=list-inline>\n",
       "\t<li>7.9</li>\n",
       "\t<li>7.7</li>\n",
       "\t<li>7.7</li>\n",
       "\t<li>7.7</li>\n",
       "\t<li>7.7</li>\n",
       "\t<li>7.6</li>\n",
       "\t<li>7.4</li>\n",
       "\t<li>7.3</li>\n",
       "\t<li>7.2</li>\n",
       "\t<li>7.2</li>\n",
       "\t<li>7.2</li>\n",
       "\t<li>7.1</li>\n",
       "\t<li>7</li>\n",
       "\t<li>6.9</li>\n",
       "\t<li>6.9</li>\n",
       "\t<li>6.9</li>\n",
       "\t<li>6.9</li>\n",
       "\t<li>6.8</li>\n",
       "\t<li>6.8</li>\n",
       "\t<li>6.8</li>\n",
       "\t<li>6.7</li>\n",
       "\t<li>6.7</li>\n",
       "\t<li>6.7</li>\n",
       "\t<li>6.7</li>\n",
       "\t<li>6.7</li>\n",
       "\t<li>6.7</li>\n",
       "\t<li>6.7</li>\n",
       "\t<li>6.7</li>\n",
       "\t<li>6.6</li>\n",
       "\t<li>6.6</li>\n",
       "\t<li>6.5</li>\n",
       "\t<li>6.5</li>\n",
       "\t<li>6.5</li>\n",
       "\t<li>6.5</li>\n",
       "\t<li>6.5</li>\n",
       "\t<li>6.4</li>\n",
       "\t<li>6.4</li>\n",
       "\t<li>6.4</li>\n",
       "\t<li>6.4</li>\n",
       "\t<li>6.4</li>\n",
       "\t<li>6.4</li>\n",
       "\t<li>6.4</li>\n",
       "\t<li>6.3</li>\n",
       "\t<li>6.3</li>\n",
       "\t<li>6.3</li>\n",
       "\t<li>6.3</li>\n",
       "\t<li>6.3</li>\n",
       "\t<li>6.3</li>\n",
       "\t<li>6.3</li>\n",
       "\t<li>6.3</li>\n",
       "\t<li>6.3</li>\n",
       "\t<li>6.2</li>\n",
       "\t<li>6.2</li>\n",
       "\t<li>6.2</li>\n",
       "\t<li>6.2</li>\n",
       "\t<li>6.1</li>\n",
       "\t<li>6.1</li>\n",
       "\t<li>6.1</li>\n",
       "\t<li>6.1</li>\n",
       "\t<li>6.1</li>\n",
       "\t<li>6.1</li>\n",
       "\t<li>6</li>\n",
       "\t<li>6</li>\n",
       "\t<li>6</li>\n",
       "\t<li>6</li>\n",
       "\t<li>6</li>\n",
       "\t<li>6</li>\n",
       "\t<li>5.9</li>\n",
       "\t<li>5.9</li>\n",
       "\t<li>5.9</li>\n",
       "\t<li>5.8</li>\n",
       "\t<li>5.8</li>\n",
       "\t<li>5.8</li>\n",
       "\t<li>5.8</li>\n",
       "\t<li>5.8</li>\n",
       "\t<li>5.8</li>\n",
       "\t<li>5.8</li>\n",
       "\t<li>5.7</li>\n",
       "\t<li>5.7</li>\n",
       "\t<li>5.7</li>\n",
       "\t<li>5.7</li>\n",
       "\t<li>5.7</li>\n",
       "\t<li>5.7</li>\n",
       "\t<li>5.7</li>\n",
       "\t<li>5.7</li>\n",
       "\t<li>5.6</li>\n",
       "\t<li>5.6</li>\n",
       "\t<li>5.6</li>\n",
       "\t<li>5.6</li>\n",
       "\t<li>5.6</li>\n",
       "\t<li>5.6</li>\n",
       "\t<li>5.5</li>\n",
       "\t<li>5.5</li>\n",
       "\t<li>5.5</li>\n",
       "\t<li>5.5</li>\n",
       "\t<li>5.5</li>\n",
       "\t<li>5.5</li>\n",
       "\t<li>5.5</li>\n",
       "\t<li>5.4</li>\n",
       "\t<li>5.4</li>\n",
       "\t<li>5.4</li>\n",
       "\t<li>5.4</li>\n",
       "\t<li>5.4</li>\n",
       "\t<li>5.4</li>\n",
       "\t<li>5.3</li>\n",
       "\t<li>5.2</li>\n",
       "\t<li>5.2</li>\n",
       "\t<li>5.2</li>\n",
       "\t<li>5.2</li>\n",
       "\t<li>5.1</li>\n",
       "\t<li>5.1</li>\n",
       "\t<li>5.1</li>\n",
       "\t<li>5.1</li>\n",
       "\t<li>5.1</li>\n",
       "\t<li>5.1</li>\n",
       "\t<li>5.1</li>\n",
       "\t<li>5.1</li>\n",
       "\t<li>5.1</li>\n",
       "\t<li>5</li>\n",
       "\t<li>5</li>\n",
       "\t<li>5</li>\n",
       "\t<li>5</li>\n",
       "\t<li>5</li>\n",
       "\t<li>5</li>\n",
       "\t<li>5</li>\n",
       "\t<li>5</li>\n",
       "\t<li>5</li>\n",
       "\t<li>5</li>\n",
       "\t<li>4.9</li>\n",
       "\t<li>4.9</li>\n",
       "\t<li>4.9</li>\n",
       "\t<li>4.9</li>\n",
       "\t<li>4.9</li>\n",
       "\t<li>4.9</li>\n",
       "\t<li>4.8</li>\n",
       "\t<li>4.8</li>\n",
       "\t<li>4.8</li>\n",
       "\t<li>4.8</li>\n",
       "\t<li>4.8</li>\n",
       "\t<li>4.7</li>\n",
       "\t<li>4.7</li>\n",
       "\t<li>4.6</li>\n",
       "\t<li>4.6</li>\n",
       "\t<li>4.6</li>\n",
       "\t<li>4.6</li>\n",
       "\t<li>4.5</li>\n",
       "\t<li>4.4</li>\n",
       "\t<li>4.4</li>\n",
       "\t<li>4.4</li>\n",
       "\t<li>4.3</li>\n",
       "</ol>\n"
      ],
      "text/latex": [
       "\\begin{enumerate*}\n",
       "\\item 7.9\n",
       "\\item 7.7\n",
       "\\item 7.7\n",
       "\\item 7.7\n",
       "\\item 7.7\n",
       "\\item 7.6\n",
       "\\item 7.4\n",
       "\\item 7.3\n",
       "\\item 7.2\n",
       "\\item 7.2\n",
       "\\item 7.2\n",
       "\\item 7.1\n",
       "\\item 7\n",
       "\\item 6.9\n",
       "\\item 6.9\n",
       "\\item 6.9\n",
       "\\item 6.9\n",
       "\\item 6.8\n",
       "\\item 6.8\n",
       "\\item 6.8\n",
       "\\item 6.7\n",
       "\\item 6.7\n",
       "\\item 6.7\n",
       "\\item 6.7\n",
       "\\item 6.7\n",
       "\\item 6.7\n",
       "\\item 6.7\n",
       "\\item 6.7\n",
       "\\item 6.6\n",
       "\\item 6.6\n",
       "\\item 6.5\n",
       "\\item 6.5\n",
       "\\item 6.5\n",
       "\\item 6.5\n",
       "\\item 6.5\n",
       "\\item 6.4\n",
       "\\item 6.4\n",
       "\\item 6.4\n",
       "\\item 6.4\n",
       "\\item 6.4\n",
       "\\item 6.4\n",
       "\\item 6.4\n",
       "\\item 6.3\n",
       "\\item 6.3\n",
       "\\item 6.3\n",
       "\\item 6.3\n",
       "\\item 6.3\n",
       "\\item 6.3\n",
       "\\item 6.3\n",
       "\\item 6.3\n",
       "\\item 6.3\n",
       "\\item 6.2\n",
       "\\item 6.2\n",
       "\\item 6.2\n",
       "\\item 6.2\n",
       "\\item 6.1\n",
       "\\item 6.1\n",
       "\\item 6.1\n",
       "\\item 6.1\n",
       "\\item 6.1\n",
       "\\item 6.1\n",
       "\\item 6\n",
       "\\item 6\n",
       "\\item 6\n",
       "\\item 6\n",
       "\\item 6\n",
       "\\item 6\n",
       "\\item 5.9\n",
       "\\item 5.9\n",
       "\\item 5.9\n",
       "\\item 5.8\n",
       "\\item 5.8\n",
       "\\item 5.8\n",
       "\\item 5.8\n",
       "\\item 5.8\n",
       "\\item 5.8\n",
       "\\item 5.8\n",
       "\\item 5.7\n",
       "\\item 5.7\n",
       "\\item 5.7\n",
       "\\item 5.7\n",
       "\\item 5.7\n",
       "\\item 5.7\n",
       "\\item 5.7\n",
       "\\item 5.7\n",
       "\\item 5.6\n",
       "\\item 5.6\n",
       "\\item 5.6\n",
       "\\item 5.6\n",
       "\\item 5.6\n",
       "\\item 5.6\n",
       "\\item 5.5\n",
       "\\item 5.5\n",
       "\\item 5.5\n",
       "\\item 5.5\n",
       "\\item 5.5\n",
       "\\item 5.5\n",
       "\\item 5.5\n",
       "\\item 5.4\n",
       "\\item 5.4\n",
       "\\item 5.4\n",
       "\\item 5.4\n",
       "\\item 5.4\n",
       "\\item 5.4\n",
       "\\item 5.3\n",
       "\\item 5.2\n",
       "\\item 5.2\n",
       "\\item 5.2\n",
       "\\item 5.2\n",
       "\\item 5.1\n",
       "\\item 5.1\n",
       "\\item 5.1\n",
       "\\item 5.1\n",
       "\\item 5.1\n",
       "\\item 5.1\n",
       "\\item 5.1\n",
       "\\item 5.1\n",
       "\\item 5.1\n",
       "\\item 5\n",
       "\\item 5\n",
       "\\item 5\n",
       "\\item 5\n",
       "\\item 5\n",
       "\\item 5\n",
       "\\item 5\n",
       "\\item 5\n",
       "\\item 5\n",
       "\\item 5\n",
       "\\item 4.9\n",
       "\\item 4.9\n",
       "\\item 4.9\n",
       "\\item 4.9\n",
       "\\item 4.9\n",
       "\\item 4.9\n",
       "\\item 4.8\n",
       "\\item 4.8\n",
       "\\item 4.8\n",
       "\\item 4.8\n",
       "\\item 4.8\n",
       "\\item 4.7\n",
       "\\item 4.7\n",
       "\\item 4.6\n",
       "\\item 4.6\n",
       "\\item 4.6\n",
       "\\item 4.6\n",
       "\\item 4.5\n",
       "\\item 4.4\n",
       "\\item 4.4\n",
       "\\item 4.4\n",
       "\\item 4.3\n",
       "\\end{enumerate*}\n"
      ],
      "text/markdown": [
       "1. 7.9\n",
       "2. 7.7\n",
       "3. 7.7\n",
       "4. 7.7\n",
       "5. 7.7\n",
       "6. 7.6\n",
       "7. 7.4\n",
       "8. 7.3\n",
       "9. 7.2\n",
       "10. 7.2\n",
       "11. 7.2\n",
       "12. 7.1\n",
       "13. 7\n",
       "14. 6.9\n",
       "15. 6.9\n",
       "16. 6.9\n",
       "17. 6.9\n",
       "18. 6.8\n",
       "19. 6.8\n",
       "20. 6.8\n",
       "21. 6.7\n",
       "22. 6.7\n",
       "23. 6.7\n",
       "24. 6.7\n",
       "25. 6.7\n",
       "26. 6.7\n",
       "27. 6.7\n",
       "28. 6.7\n",
       "29. 6.6\n",
       "30. 6.6\n",
       "31. 6.5\n",
       "32. 6.5\n",
       "33. 6.5\n",
       "34. 6.5\n",
       "35. 6.5\n",
       "36. 6.4\n",
       "37. 6.4\n",
       "38. 6.4\n",
       "39. 6.4\n",
       "40. 6.4\n",
       "41. 6.4\n",
       "42. 6.4\n",
       "43. 6.3\n",
       "44. 6.3\n",
       "45. 6.3\n",
       "46. 6.3\n",
       "47. 6.3\n",
       "48. 6.3\n",
       "49. 6.3\n",
       "50. 6.3\n",
       "51. 6.3\n",
       "52. 6.2\n",
       "53. 6.2\n",
       "54. 6.2\n",
       "55. 6.2\n",
       "56. 6.1\n",
       "57. 6.1\n",
       "58. 6.1\n",
       "59. 6.1\n",
       "60. 6.1\n",
       "61. 6.1\n",
       "62. 6\n",
       "63. 6\n",
       "64. 6\n",
       "65. 6\n",
       "66. 6\n",
       "67. 6\n",
       "68. 5.9\n",
       "69. 5.9\n",
       "70. 5.9\n",
       "71. 5.8\n",
       "72. 5.8\n",
       "73. 5.8\n",
       "74. 5.8\n",
       "75. 5.8\n",
       "76. 5.8\n",
       "77. 5.8\n",
       "78. 5.7\n",
       "79. 5.7\n",
       "80. 5.7\n",
       "81. 5.7\n",
       "82. 5.7\n",
       "83. 5.7\n",
       "84. 5.7\n",
       "85. 5.7\n",
       "86. 5.6\n",
       "87. 5.6\n",
       "88. 5.6\n",
       "89. 5.6\n",
       "90. 5.6\n",
       "91. 5.6\n",
       "92. 5.5\n",
       "93. 5.5\n",
       "94. 5.5\n",
       "95. 5.5\n",
       "96. 5.5\n",
       "97. 5.5\n",
       "98. 5.5\n",
       "99. 5.4\n",
       "100. 5.4\n",
       "101. 5.4\n",
       "102. 5.4\n",
       "103. 5.4\n",
       "104. 5.4\n",
       "105. 5.3\n",
       "106. 5.2\n",
       "107. 5.2\n",
       "108. 5.2\n",
       "109. 5.2\n",
       "110. 5.1\n",
       "111. 5.1\n",
       "112. 5.1\n",
       "113. 5.1\n",
       "114. 5.1\n",
       "115. 5.1\n",
       "116. 5.1\n",
       "117. 5.1\n",
       "118. 5.1\n",
       "119. 5\n",
       "120. 5\n",
       "121. 5\n",
       "122. 5\n",
       "123. 5\n",
       "124. 5\n",
       "125. 5\n",
       "126. 5\n",
       "127. 5\n",
       "128. 5\n",
       "129. 4.9\n",
       "130. 4.9\n",
       "131. 4.9\n",
       "132. 4.9\n",
       "133. 4.9\n",
       "134. 4.9\n",
       "135. 4.8\n",
       "136. 4.8\n",
       "137. 4.8\n",
       "138. 4.8\n",
       "139. 4.8\n",
       "140. 4.7\n",
       "141. 4.7\n",
       "142. 4.6\n",
       "143. 4.6\n",
       "144. 4.6\n",
       "145. 4.6\n",
       "146. 4.5\n",
       "147. 4.4\n",
       "148. 4.4\n",
       "149. 4.4\n",
       "150. 4.3\n",
       "\n",
       "\n"
      ],
      "text/plain": [
       "  [1] 7.9 7.7 7.7 7.7 7.7 7.6 7.4 7.3 7.2 7.2 7.2 7.1 7.0 6.9 6.9 6.9 6.9 6.8\n",
       " [19] 6.8 6.8 6.7 6.7 6.7 6.7 6.7 6.7 6.7 6.7 6.6 6.6 6.5 6.5 6.5 6.5 6.5 6.4\n",
       " [37] 6.4 6.4 6.4 6.4 6.4 6.4 6.3 6.3 6.3 6.3 6.3 6.3 6.3 6.3 6.3 6.2 6.2 6.2\n",
       " [55] 6.2 6.1 6.1 6.1 6.1 6.1 6.1 6.0 6.0 6.0 6.0 6.0 6.0 5.9 5.9 5.9 5.8 5.8\n",
       " [73] 5.8 5.8 5.8 5.8 5.8 5.7 5.7 5.7 5.7 5.7 5.7 5.7 5.7 5.6 5.6 5.6 5.6 5.6\n",
       " [91] 5.6 5.5 5.5 5.5 5.5 5.5 5.5 5.5 5.4 5.4 5.4 5.4 5.4 5.4 5.3 5.2 5.2 5.2\n",
       "[109] 5.2 5.1 5.1 5.1 5.1 5.1 5.1 5.1 5.1 5.1 5.0 5.0 5.0 5.0 5.0 5.0 5.0 5.0\n",
       "[127] 5.0 5.0 4.9 4.9 4.9 4.9 4.9 4.9 4.8 4.8 4.8 4.8 4.8 4.7 4.7 4.6 4.6 4.6\n",
       "[145] 4.6 4.5 4.4 4.4 4.4 4.3"
      ]
     },
     "metadata": {},
     "output_type": "display_data"
    }
   ],
   "source": [
    "sort(iris$Sepal.Length,decreasing = T)"
   ]
  },
  {
   "cell_type": "code",
   "execution_count": 335,
   "metadata": {},
   "outputs": [
    {
     "data": {
      "text/html": [
       "<table>\n",
       "<thead><tr><th scope=col>Sepal.Length</th><th scope=col>Sepal.Width</th><th scope=col>Petal.Length</th><th scope=col>Petal.Width</th><th scope=col>Species</th></tr></thead>\n",
       "<tbody>\n",
       "\t<tr><td>5.1   </td><td>3.5   </td><td>1.4   </td><td>0.2   </td><td>setosa</td></tr>\n",
       "\t<tr><td>4.9   </td><td>3.0   </td><td>1.4   </td><td>0.2   </td><td>setosa</td></tr>\n",
       "\t<tr><td>4.7   </td><td>3.2   </td><td>1.3   </td><td>0.2   </td><td>setosa</td></tr>\n",
       "\t<tr><td>4.6   </td><td>3.1   </td><td>1.5   </td><td>0.2   </td><td>setosa</td></tr>\n",
       "\t<tr><td>5.0   </td><td>3.6   </td><td>1.4   </td><td>0.2   </td><td>setosa</td></tr>\n",
       "\t<tr><td>5.4   </td><td>3.9   </td><td>1.7   </td><td>0.4   </td><td>setosa</td></tr>\n",
       "</tbody>\n",
       "</table>\n"
      ],
      "text/latex": [
       "\\begin{tabular}{r|lllll}\n",
       " Sepal.Length & Sepal.Width & Petal.Length & Petal.Width & Species\\\\\n",
       "\\hline\n",
       "\t 5.1    & 3.5    & 1.4    & 0.2    & setosa\\\\\n",
       "\t 4.9    & 3.0    & 1.4    & 0.2    & setosa\\\\\n",
       "\t 4.7    & 3.2    & 1.3    & 0.2    & setosa\\\\\n",
       "\t 4.6    & 3.1    & 1.5    & 0.2    & setosa\\\\\n",
       "\t 5.0    & 3.6    & 1.4    & 0.2    & setosa\\\\\n",
       "\t 5.4    & 3.9    & 1.7    & 0.4    & setosa\\\\\n",
       "\\end{tabular}\n"
      ],
      "text/markdown": [
       "\n",
       "Sepal.Length | Sepal.Width | Petal.Length | Petal.Width | Species | \n",
       "|---|---|---|---|---|---|\n",
       "| 5.1    | 3.5    | 1.4    | 0.2    | setosa | \n",
       "| 4.9    | 3.0    | 1.4    | 0.2    | setosa | \n",
       "| 4.7    | 3.2    | 1.3    | 0.2    | setosa | \n",
       "| 4.6    | 3.1    | 1.5    | 0.2    | setosa | \n",
       "| 5.0    | 3.6    | 1.4    | 0.2    | setosa | \n",
       "| 5.4    | 3.9    | 1.7    | 0.4    | setosa | \n",
       "\n",
       "\n"
      ],
      "text/plain": [
       "  Sepal.Length Sepal.Width Petal.Length Petal.Width Species\n",
       "1 5.1          3.5         1.4          0.2         setosa \n",
       "2 4.9          3.0         1.4          0.2         setosa \n",
       "3 4.7          3.2         1.3          0.2         setosa \n",
       "4 4.6          3.1         1.5          0.2         setosa \n",
       "5 5.0          3.6         1.4          0.2         setosa \n",
       "6 5.4          3.9         1.7          0.4         setosa "
      ]
     },
     "metadata": {},
     "output_type": "display_data"
    }
   ],
   "source": [
    "head(iris)"
   ]
  },
  {
   "cell_type": "code",
   "execution_count": 336,
   "metadata": {},
   "outputs": [
    {
     "data": {
      "text/html": [
       "<ol class=list-inline>\n",
       "\t<li>'setosa'</li>\n",
       "\t<li>'versicolor'</li>\n",
       "\t<li>'virginica'</li>\n",
       "</ol>\n"
      ],
      "text/latex": [
       "\\begin{enumerate*}\n",
       "\\item 'setosa'\n",
       "\\item 'versicolor'\n",
       "\\item 'virginica'\n",
       "\\end{enumerate*}\n"
      ],
      "text/markdown": [
       "1. 'setosa'\n",
       "2. 'versicolor'\n",
       "3. 'virginica'\n",
       "\n",
       "\n"
      ],
      "text/plain": [
       "[1] \"setosa\"     \"versicolor\" \"virginica\" "
      ]
     },
     "metadata": {},
     "output_type": "display_data"
    }
   ],
   "source": [
    "levels(iris$Species)"
   ]
  },
  {
   "cell_type": "code",
   "execution_count": 339,
   "metadata": {
    "scrolled": true
   },
   "outputs": [
    {
     "data": {
      "text/html": [
       "<ol class=list-inline>\n",
       "\t<li>TRUE</li>\n",
       "\t<li>TRUE</li>\n",
       "\t<li>TRUE</li>\n",
       "\t<li>TRUE</li>\n",
       "\t<li>TRUE</li>\n",
       "\t<li>TRUE</li>\n",
       "\t<li>TRUE</li>\n",
       "\t<li>TRUE</li>\n",
       "\t<li>TRUE</li>\n",
       "\t<li>TRUE</li>\n",
       "\t<li>TRUE</li>\n",
       "\t<li>TRUE</li>\n",
       "\t<li>TRUE</li>\n",
       "\t<li>TRUE</li>\n",
       "\t<li>TRUE</li>\n",
       "\t<li>TRUE</li>\n",
       "\t<li>TRUE</li>\n",
       "\t<li>TRUE</li>\n",
       "\t<li>TRUE</li>\n",
       "\t<li>TRUE</li>\n",
       "\t<li>TRUE</li>\n",
       "\t<li>TRUE</li>\n",
       "\t<li>TRUE</li>\n",
       "\t<li>TRUE</li>\n",
       "\t<li>TRUE</li>\n",
       "\t<li>TRUE</li>\n",
       "\t<li>TRUE</li>\n",
       "\t<li>TRUE</li>\n",
       "\t<li>TRUE</li>\n",
       "\t<li>TRUE</li>\n",
       "\t<li>TRUE</li>\n",
       "\t<li>TRUE</li>\n",
       "\t<li>TRUE</li>\n",
       "\t<li>TRUE</li>\n",
       "\t<li>TRUE</li>\n",
       "\t<li>TRUE</li>\n",
       "\t<li>TRUE</li>\n",
       "\t<li>TRUE</li>\n",
       "\t<li>TRUE</li>\n",
       "\t<li>TRUE</li>\n",
       "\t<li>TRUE</li>\n",
       "\t<li>TRUE</li>\n",
       "\t<li>TRUE</li>\n",
       "\t<li>TRUE</li>\n",
       "\t<li>TRUE</li>\n",
       "\t<li>TRUE</li>\n",
       "\t<li>TRUE</li>\n",
       "\t<li>TRUE</li>\n",
       "\t<li>TRUE</li>\n",
       "\t<li>TRUE</li>\n",
       "\t<li>FALSE</li>\n",
       "\t<li>FALSE</li>\n",
       "\t<li>FALSE</li>\n",
       "\t<li>FALSE</li>\n",
       "\t<li>FALSE</li>\n",
       "\t<li>FALSE</li>\n",
       "\t<li>FALSE</li>\n",
       "\t<li>FALSE</li>\n",
       "\t<li>FALSE</li>\n",
       "\t<li>FALSE</li>\n",
       "\t<li>FALSE</li>\n",
       "\t<li>FALSE</li>\n",
       "\t<li>FALSE</li>\n",
       "\t<li>FALSE</li>\n",
       "\t<li>FALSE</li>\n",
       "\t<li>FALSE</li>\n",
       "\t<li>FALSE</li>\n",
       "\t<li>FALSE</li>\n",
       "\t<li>FALSE</li>\n",
       "\t<li>FALSE</li>\n",
       "\t<li>FALSE</li>\n",
       "\t<li>FALSE</li>\n",
       "\t<li>FALSE</li>\n",
       "\t<li>FALSE</li>\n",
       "\t<li>FALSE</li>\n",
       "\t<li>FALSE</li>\n",
       "\t<li>FALSE</li>\n",
       "\t<li>FALSE</li>\n",
       "\t<li>FALSE</li>\n",
       "\t<li>FALSE</li>\n",
       "\t<li>FALSE</li>\n",
       "\t<li>FALSE</li>\n",
       "\t<li>FALSE</li>\n",
       "\t<li>FALSE</li>\n",
       "\t<li>FALSE</li>\n",
       "\t<li>FALSE</li>\n",
       "\t<li>FALSE</li>\n",
       "\t<li>FALSE</li>\n",
       "\t<li>FALSE</li>\n",
       "\t<li>FALSE</li>\n",
       "\t<li>FALSE</li>\n",
       "\t<li>FALSE</li>\n",
       "\t<li>FALSE</li>\n",
       "\t<li>FALSE</li>\n",
       "\t<li>FALSE</li>\n",
       "\t<li>FALSE</li>\n",
       "\t<li>FALSE</li>\n",
       "\t<li>FALSE</li>\n",
       "\t<li>FALSE</li>\n",
       "\t<li>FALSE</li>\n",
       "\t<li>FALSE</li>\n",
       "\t<li>FALSE</li>\n",
       "\t<li>FALSE</li>\n",
       "\t<li>FALSE</li>\n",
       "\t<li>FALSE</li>\n",
       "\t<li>FALSE</li>\n",
       "\t<li>FALSE</li>\n",
       "\t<li>FALSE</li>\n",
       "\t<li>FALSE</li>\n",
       "\t<li>FALSE</li>\n",
       "\t<li>FALSE</li>\n",
       "\t<li>FALSE</li>\n",
       "\t<li>FALSE</li>\n",
       "\t<li>FALSE</li>\n",
       "\t<li>FALSE</li>\n",
       "\t<li>FALSE</li>\n",
       "\t<li>FALSE</li>\n",
       "\t<li>FALSE</li>\n",
       "\t<li>FALSE</li>\n",
       "\t<li>FALSE</li>\n",
       "\t<li>FALSE</li>\n",
       "\t<li>FALSE</li>\n",
       "\t<li>FALSE</li>\n",
       "\t<li>FALSE</li>\n",
       "\t<li>FALSE</li>\n",
       "\t<li>FALSE</li>\n",
       "\t<li>FALSE</li>\n",
       "\t<li>FALSE</li>\n",
       "\t<li>FALSE</li>\n",
       "\t<li>FALSE</li>\n",
       "\t<li>FALSE</li>\n",
       "\t<li>FALSE</li>\n",
       "\t<li>FALSE</li>\n",
       "\t<li>FALSE</li>\n",
       "\t<li>FALSE</li>\n",
       "\t<li>FALSE</li>\n",
       "\t<li>FALSE</li>\n",
       "\t<li>FALSE</li>\n",
       "\t<li>FALSE</li>\n",
       "\t<li>FALSE</li>\n",
       "\t<li>FALSE</li>\n",
       "\t<li>FALSE</li>\n",
       "\t<li>FALSE</li>\n",
       "\t<li>FALSE</li>\n",
       "\t<li>FALSE</li>\n",
       "\t<li>FALSE</li>\n",
       "\t<li>FALSE</li>\n",
       "\t<li>FALSE</li>\n",
       "\t<li>FALSE</li>\n",
       "\t<li>FALSE</li>\n",
       "</ol>\n"
      ],
      "text/latex": [
       "\\begin{enumerate*}\n",
       "\\item TRUE\n",
       "\\item TRUE\n",
       "\\item TRUE\n",
       "\\item TRUE\n",
       "\\item TRUE\n",
       "\\item TRUE\n",
       "\\item TRUE\n",
       "\\item TRUE\n",
       "\\item TRUE\n",
       "\\item TRUE\n",
       "\\item TRUE\n",
       "\\item TRUE\n",
       "\\item TRUE\n",
       "\\item TRUE\n",
       "\\item TRUE\n",
       "\\item TRUE\n",
       "\\item TRUE\n",
       "\\item TRUE\n",
       "\\item TRUE\n",
       "\\item TRUE\n",
       "\\item TRUE\n",
       "\\item TRUE\n",
       "\\item TRUE\n",
       "\\item TRUE\n",
       "\\item TRUE\n",
       "\\item TRUE\n",
       "\\item TRUE\n",
       "\\item TRUE\n",
       "\\item TRUE\n",
       "\\item TRUE\n",
       "\\item TRUE\n",
       "\\item TRUE\n",
       "\\item TRUE\n",
       "\\item TRUE\n",
       "\\item TRUE\n",
       "\\item TRUE\n",
       "\\item TRUE\n",
       "\\item TRUE\n",
       "\\item TRUE\n",
       "\\item TRUE\n",
       "\\item TRUE\n",
       "\\item TRUE\n",
       "\\item TRUE\n",
       "\\item TRUE\n",
       "\\item TRUE\n",
       "\\item TRUE\n",
       "\\item TRUE\n",
       "\\item TRUE\n",
       "\\item TRUE\n",
       "\\item TRUE\n",
       "\\item FALSE\n",
       "\\item FALSE\n",
       "\\item FALSE\n",
       "\\item FALSE\n",
       "\\item FALSE\n",
       "\\item FALSE\n",
       "\\item FALSE\n",
       "\\item FALSE\n",
       "\\item FALSE\n",
       "\\item FALSE\n",
       "\\item FALSE\n",
       "\\item FALSE\n",
       "\\item FALSE\n",
       "\\item FALSE\n",
       "\\item FALSE\n",
       "\\item FALSE\n",
       "\\item FALSE\n",
       "\\item FALSE\n",
       "\\item FALSE\n",
       "\\item FALSE\n",
       "\\item FALSE\n",
       "\\item FALSE\n",
       "\\item FALSE\n",
       "\\item FALSE\n",
       "\\item FALSE\n",
       "\\item FALSE\n",
       "\\item FALSE\n",
       "\\item FALSE\n",
       "\\item FALSE\n",
       "\\item FALSE\n",
       "\\item FALSE\n",
       "\\item FALSE\n",
       "\\item FALSE\n",
       "\\item FALSE\n",
       "\\item FALSE\n",
       "\\item FALSE\n",
       "\\item FALSE\n",
       "\\item FALSE\n",
       "\\item FALSE\n",
       "\\item FALSE\n",
       "\\item FALSE\n",
       "\\item FALSE\n",
       "\\item FALSE\n",
       "\\item FALSE\n",
       "\\item FALSE\n",
       "\\item FALSE\n",
       "\\item FALSE\n",
       "\\item FALSE\n",
       "\\item FALSE\n",
       "\\item FALSE\n",
       "\\item FALSE\n",
       "\\item FALSE\n",
       "\\item FALSE\n",
       "\\item FALSE\n",
       "\\item FALSE\n",
       "\\item FALSE\n",
       "\\item FALSE\n",
       "\\item FALSE\n",
       "\\item FALSE\n",
       "\\item FALSE\n",
       "\\item FALSE\n",
       "\\item FALSE\n",
       "\\item FALSE\n",
       "\\item FALSE\n",
       "\\item FALSE\n",
       "\\item FALSE\n",
       "\\item FALSE\n",
       "\\item FALSE\n",
       "\\item FALSE\n",
       "\\item FALSE\n",
       "\\item FALSE\n",
       "\\item FALSE\n",
       "\\item FALSE\n",
       "\\item FALSE\n",
       "\\item FALSE\n",
       "\\item FALSE\n",
       "\\item FALSE\n",
       "\\item FALSE\n",
       "\\item FALSE\n",
       "\\item FALSE\n",
       "\\item FALSE\n",
       "\\item FALSE\n",
       "\\item FALSE\n",
       "\\item FALSE\n",
       "\\item FALSE\n",
       "\\item FALSE\n",
       "\\item FALSE\n",
       "\\item FALSE\n",
       "\\item FALSE\n",
       "\\item FALSE\n",
       "\\item FALSE\n",
       "\\item FALSE\n",
       "\\item FALSE\n",
       "\\item FALSE\n",
       "\\item FALSE\n",
       "\\item FALSE\n",
       "\\item FALSE\n",
       "\\item FALSE\n",
       "\\item FALSE\n",
       "\\item FALSE\n",
       "\\end{enumerate*}\n"
      ],
      "text/markdown": [
       "1. TRUE\n",
       "2. TRUE\n",
       "3. TRUE\n",
       "4. TRUE\n",
       "5. TRUE\n",
       "6. TRUE\n",
       "7. TRUE\n",
       "8. TRUE\n",
       "9. TRUE\n",
       "10. TRUE\n",
       "11. TRUE\n",
       "12. TRUE\n",
       "13. TRUE\n",
       "14. TRUE\n",
       "15. TRUE\n",
       "16. TRUE\n",
       "17. TRUE\n",
       "18. TRUE\n",
       "19. TRUE\n",
       "20. TRUE\n",
       "21. TRUE\n",
       "22. TRUE\n",
       "23. TRUE\n",
       "24. TRUE\n",
       "25. TRUE\n",
       "26. TRUE\n",
       "27. TRUE\n",
       "28. TRUE\n",
       "29. TRUE\n",
       "30. TRUE\n",
       "31. TRUE\n",
       "32. TRUE\n",
       "33. TRUE\n",
       "34. TRUE\n",
       "35. TRUE\n",
       "36. TRUE\n",
       "37. TRUE\n",
       "38. TRUE\n",
       "39. TRUE\n",
       "40. TRUE\n",
       "41. TRUE\n",
       "42. TRUE\n",
       "43. TRUE\n",
       "44. TRUE\n",
       "45. TRUE\n",
       "46. TRUE\n",
       "47. TRUE\n",
       "48. TRUE\n",
       "49. TRUE\n",
       "50. TRUE\n",
       "51. FALSE\n",
       "52. FALSE\n",
       "53. FALSE\n",
       "54. FALSE\n",
       "55. FALSE\n",
       "56. FALSE\n",
       "57. FALSE\n",
       "58. FALSE\n",
       "59. FALSE\n",
       "60. FALSE\n",
       "61. FALSE\n",
       "62. FALSE\n",
       "63. FALSE\n",
       "64. FALSE\n",
       "65. FALSE\n",
       "66. FALSE\n",
       "67. FALSE\n",
       "68. FALSE\n",
       "69. FALSE\n",
       "70. FALSE\n",
       "71. FALSE\n",
       "72. FALSE\n",
       "73. FALSE\n",
       "74. FALSE\n",
       "75. FALSE\n",
       "76. FALSE\n",
       "77. FALSE\n",
       "78. FALSE\n",
       "79. FALSE\n",
       "80. FALSE\n",
       "81. FALSE\n",
       "82. FALSE\n",
       "83. FALSE\n",
       "84. FALSE\n",
       "85. FALSE\n",
       "86. FALSE\n",
       "87. FALSE\n",
       "88. FALSE\n",
       "89. FALSE\n",
       "90. FALSE\n",
       "91. FALSE\n",
       "92. FALSE\n",
       "93. FALSE\n",
       "94. FALSE\n",
       "95. FALSE\n",
       "96. FALSE\n",
       "97. FALSE\n",
       "98. FALSE\n",
       "99. FALSE\n",
       "100. FALSE\n",
       "101. FALSE\n",
       "102. FALSE\n",
       "103. FALSE\n",
       "104. FALSE\n",
       "105. FALSE\n",
       "106. FALSE\n",
       "107. FALSE\n",
       "108. FALSE\n",
       "109. FALSE\n",
       "110. FALSE\n",
       "111. FALSE\n",
       "112. FALSE\n",
       "113. FALSE\n",
       "114. FALSE\n",
       "115. FALSE\n",
       "116. FALSE\n",
       "117. FALSE\n",
       "118. FALSE\n",
       "119. FALSE\n",
       "120. FALSE\n",
       "121. FALSE\n",
       "122. FALSE\n",
       "123. FALSE\n",
       "124. FALSE\n",
       "125. FALSE\n",
       "126. FALSE\n",
       "127. FALSE\n",
       "128. FALSE\n",
       "129. FALSE\n",
       "130. FALSE\n",
       "131. FALSE\n",
       "132. FALSE\n",
       "133. FALSE\n",
       "134. FALSE\n",
       "135. FALSE\n",
       "136. FALSE\n",
       "137. FALSE\n",
       "138. FALSE\n",
       "139. FALSE\n",
       "140. FALSE\n",
       "141. FALSE\n",
       "142. FALSE\n",
       "143. FALSE\n",
       "144. FALSE\n",
       "145. FALSE\n",
       "146. FALSE\n",
       "147. FALSE\n",
       "148. FALSE\n",
       "149. FALSE\n",
       "150. FALSE\n",
       "\n",
       "\n"
      ],
      "text/plain": [
       "  [1]  TRUE  TRUE  TRUE  TRUE  TRUE  TRUE  TRUE  TRUE  TRUE  TRUE  TRUE  TRUE\n",
       " [13]  TRUE  TRUE  TRUE  TRUE  TRUE  TRUE  TRUE  TRUE  TRUE  TRUE  TRUE  TRUE\n",
       " [25]  TRUE  TRUE  TRUE  TRUE  TRUE  TRUE  TRUE  TRUE  TRUE  TRUE  TRUE  TRUE\n",
       " [37]  TRUE  TRUE  TRUE  TRUE  TRUE  TRUE  TRUE  TRUE  TRUE  TRUE  TRUE  TRUE\n",
       " [49]  TRUE  TRUE FALSE FALSE FALSE FALSE FALSE FALSE FALSE FALSE FALSE FALSE\n",
       " [61] FALSE FALSE FALSE FALSE FALSE FALSE FALSE FALSE FALSE FALSE FALSE FALSE\n",
       " [73] FALSE FALSE FALSE FALSE FALSE FALSE FALSE FALSE FALSE FALSE FALSE FALSE\n",
       " [85] FALSE FALSE FALSE FALSE FALSE FALSE FALSE FALSE FALSE FALSE FALSE FALSE\n",
       " [97] FALSE FALSE FALSE FALSE FALSE FALSE FALSE FALSE FALSE FALSE FALSE FALSE\n",
       "[109] FALSE FALSE FALSE FALSE FALSE FALSE FALSE FALSE FALSE FALSE FALSE FALSE\n",
       "[121] FALSE FALSE FALSE FALSE FALSE FALSE FALSE FALSE FALSE FALSE FALSE FALSE\n",
       "[133] FALSE FALSE FALSE FALSE FALSE FALSE FALSE FALSE FALSE FALSE FALSE FALSE\n",
       "[145] FALSE FALSE FALSE FALSE FALSE FALSE"
      ]
     },
     "metadata": {},
     "output_type": "display_data"
    }
   ],
   "source": [
    "iris$Species == 'setosa'"
   ]
  },
  {
   "cell_type": "code",
   "execution_count": 345,
   "metadata": {},
   "outputs": [],
   "source": [
    "iris$Species_new = as.factor( ifelse(iris$Species == 'setosa',\"IsSetosa\",\"NotSetosa\") )"
   ]
  },
  {
   "cell_type": "markdown",
   "metadata": {},
   "source": [
    "```\n",
    "if(${condition}){\n",
    "    ${statement1}\n",
    "}else{\n",
    "   ${statement2}\n",
    "}\n",
    "\n",
    "ifelse(condition,statement1,statement2)\n",
    "```"
   ]
  },
  {
   "cell_type": "code",
   "execution_count": 346,
   "metadata": {},
   "outputs": [
    {
     "data": {
      "text/html": [
       "<table>\n",
       "<thead><tr><th scope=col>Sepal.Length</th><th scope=col>Sepal.Width</th><th scope=col>Petal.Length</th><th scope=col>Petal.Width</th><th scope=col>Species</th><th scope=col>Species_new</th></tr></thead>\n",
       "<tbody>\n",
       "\t<tr><td>5.1     </td><td>3.5     </td><td>1.4     </td><td>0.2     </td><td>setosa  </td><td>IsSetosa</td></tr>\n",
       "\t<tr><td>4.9     </td><td>3.0     </td><td>1.4     </td><td>0.2     </td><td>setosa  </td><td>IsSetosa</td></tr>\n",
       "\t<tr><td>4.7     </td><td>3.2     </td><td>1.3     </td><td>0.2     </td><td>setosa  </td><td>IsSetosa</td></tr>\n",
       "\t<tr><td>4.6     </td><td>3.1     </td><td>1.5     </td><td>0.2     </td><td>setosa  </td><td>IsSetosa</td></tr>\n",
       "\t<tr><td>5.0     </td><td>3.6     </td><td>1.4     </td><td>0.2     </td><td>setosa  </td><td>IsSetosa</td></tr>\n",
       "\t<tr><td>5.4     </td><td>3.9     </td><td>1.7     </td><td>0.4     </td><td>setosa  </td><td>IsSetosa</td></tr>\n",
       "</tbody>\n",
       "</table>\n"
      ],
      "text/latex": [
       "\\begin{tabular}{r|llllll}\n",
       " Sepal.Length & Sepal.Width & Petal.Length & Petal.Width & Species & Species\\_new\\\\\n",
       "\\hline\n",
       "\t 5.1      & 3.5      & 1.4      & 0.2      & setosa   & IsSetosa\\\\\n",
       "\t 4.9      & 3.0      & 1.4      & 0.2      & setosa   & IsSetosa\\\\\n",
       "\t 4.7      & 3.2      & 1.3      & 0.2      & setosa   & IsSetosa\\\\\n",
       "\t 4.6      & 3.1      & 1.5      & 0.2      & setosa   & IsSetosa\\\\\n",
       "\t 5.0      & 3.6      & 1.4      & 0.2      & setosa   & IsSetosa\\\\\n",
       "\t 5.4      & 3.9      & 1.7      & 0.4      & setosa   & IsSetosa\\\\\n",
       "\\end{tabular}\n"
      ],
      "text/markdown": [
       "\n",
       "Sepal.Length | Sepal.Width | Petal.Length | Petal.Width | Species | Species_new | \n",
       "|---|---|---|---|---|---|\n",
       "| 5.1      | 3.5      | 1.4      | 0.2      | setosa   | IsSetosa | \n",
       "| 4.9      | 3.0      | 1.4      | 0.2      | setosa   | IsSetosa | \n",
       "| 4.7      | 3.2      | 1.3      | 0.2      | setosa   | IsSetosa | \n",
       "| 4.6      | 3.1      | 1.5      | 0.2      | setosa   | IsSetosa | \n",
       "| 5.0      | 3.6      | 1.4      | 0.2      | setosa   | IsSetosa | \n",
       "| 5.4      | 3.9      | 1.7      | 0.4      | setosa   | IsSetosa | \n",
       "\n",
       "\n"
      ],
      "text/plain": [
       "  Sepal.Length Sepal.Width Petal.Length Petal.Width Species Species_new\n",
       "1 5.1          3.5         1.4          0.2         setosa  IsSetosa   \n",
       "2 4.9          3.0         1.4          0.2         setosa  IsSetosa   \n",
       "3 4.7          3.2         1.3          0.2         setosa  IsSetosa   \n",
       "4 4.6          3.1         1.5          0.2         setosa  IsSetosa   \n",
       "5 5.0          3.6         1.4          0.2         setosa  IsSetosa   \n",
       "6 5.4          3.9         1.7          0.4         setosa  IsSetosa   "
      ]
     },
     "metadata": {},
     "output_type": "display_data"
    }
   ],
   "source": [
    "head(iris)"
   ]
  },
  {
   "cell_type": "code",
   "execution_count": 347,
   "metadata": {},
   "outputs": [
    {
     "name": "stdout",
     "output_type": "stream",
     "text": [
      "'data.frame':\t150 obs. of  6 variables:\n",
      " $ Sepal.Length: num  5.1 4.9 4.7 4.6 5 5.4 4.6 5 4.4 4.9 ...\n",
      " $ Sepal.Width : num  3.5 3 3.2 3.1 3.6 3.9 3.4 3.4 2.9 3.1 ...\n",
      " $ Petal.Length: num  1.4 1.4 1.3 1.5 1.4 1.7 1.4 1.5 1.4 1.5 ...\n",
      " $ Petal.Width : num  0.2 0.2 0.2 0.2 0.2 0.4 0.3 0.2 0.2 0.1 ...\n",
      " $ Species     : Factor w/ 3 levels \"setosa\",\"versicolor\",..: 1 1 1 1 1 1 1 1 1 1 ...\n",
      " $ Species_new : Factor w/ 2 levels \"IsSetosa\",\"NotSetosa\": 1 1 1 1 1 1 1 1 1 1 ...\n"
     ]
    }
   ],
   "source": [
    "str(iris)"
   ]
  },
  {
   "cell_type": "markdown",
   "metadata": {},
   "source": [
    "### getwd(),setwd()"
   ]
  },
  {
   "cell_type": "code",
   "execution_count": 348,
   "metadata": {},
   "outputs": [
    {
     "data": {
      "text/html": [
       "'/Users/YorkLin/lecture/riii/cb102'"
      ],
      "text/latex": [
       "'/Users/YorkLin/lecture/riii/cb102'"
      ],
      "text/markdown": [
       "'/Users/YorkLin/lecture/riii/cb102'"
      ],
      "text/plain": [
       "[1] \"/Users/YorkLin/lecture/riii/cb102\""
      ]
     },
     "metadata": {},
     "output_type": "display_data"
    }
   ],
   "source": [
    "getwd()"
   ]
  },
  {
   "cell_type": "code",
   "execution_count": 349,
   "metadata": {},
   "outputs": [],
   "source": [
    "setwd('/Users/YorkLin/lecture/riii')"
   ]
  },
  {
   "cell_type": "code",
   "execution_count": 350,
   "metadata": {},
   "outputs": [
    {
     "data": {
      "text/html": [
       "'/Users/YorkLin/lecture/riii'"
      ],
      "text/latex": [
       "'/Users/YorkLin/lecture/riii'"
      ],
      "text/markdown": [
       "'/Users/YorkLin/lecture/riii'"
      ],
      "text/plain": [
       "[1] \"/Users/YorkLin/lecture/riii\""
      ]
     },
     "metadata": {},
     "output_type": "display_data"
    }
   ],
   "source": [
    "getwd()"
   ]
  },
  {
   "cell_type": "markdown",
   "metadata": {},
   "source": [
    "### 讀取csv檔"
   ]
  },
  {
   "cell_type": "code",
   "execution_count": 355,
   "metadata": {
    "scrolled": true
   },
   "outputs": [
    {
     "data": {
      "text/html": [
       "<table>\n",
       "<thead><tr><th scope=col>Date</th><th scope=col>Open</th><th scope=col>High</th><th scope=col>Low</th><th scope=col>Close</th><th scope=col>Volume</th></tr></thead>\n",
       "<tbody>\n",
       "\t<tr><td>2018-04-30</td><td>224.5     </td><td>228.0     </td><td>222.5     </td><td>227.0     </td><td> 6448117  </td></tr>\n",
       "\t<tr><td>2018-04-27</td><td>225.0     </td><td>225.5     </td><td>221.0     </td><td>223.5     </td><td> 7619247  </td></tr>\n",
       "\t<tr><td>2018-04-26</td><td>225.0     </td><td>225.5     </td><td>221.0     </td><td>222.0     </td><td>10731921  </td></tr>\n",
       "\t<tr><td>2018-04-25</td><td>225.5     </td><td>226.0     </td><td>224.0     </td><td>225.0     </td><td>10535437  </td></tr>\n",
       "\t<tr><td>2018-04-24</td><td>225.0     </td><td>227.5     </td><td>225.0     </td><td>227.0     </td><td> 9272078  </td></tr>\n",
       "\t<tr><td>2018-04-23</td><td>226.5     </td><td>227.5     </td><td>225.0     </td><td>226.5     </td><td>16080436  </td></tr>\n",
       "\t<tr><td>2018-04-20</td><td>228.0     </td><td>231.5     </td><td>228.0     </td><td>229.0     </td><td>29507056  </td></tr>\n",
       "\t<tr><td>2018-04-19</td><td>242.0     </td><td>244.5     </td><td>241.0     </td><td>244.5     </td><td> 7758149  </td></tr>\n",
       "\t<tr><td>2018-04-18</td><td>239.5     </td><td>241.5     </td><td>236.5     </td><td>238.0     </td><td>10130508  </td></tr>\n",
       "\t<tr><td>2018-04-17</td><td>243.0     </td><td>243.5     </td><td>237.5     </td><td>238.0     </td><td>10232257  </td></tr>\n",
       "\t<tr><td>2018-04-16</td><td>243.0     </td><td>244.0     </td><td>242.0     </td><td>243.5     </td><td> 4459662  </td></tr>\n",
       "\t<tr><td>2018-04-13</td><td>246.0     </td><td>246.0     </td><td>244.0     </td><td>244.5     </td><td> 4836132  </td></tr>\n",
       "\t<tr><td>2018-04-12</td><td>248.5     </td><td>248.5     </td><td>244.0     </td><td>245.0     </td><td> 5011776  </td></tr>\n",
       "\t<tr><td>2018-04-11</td><td>246.5     </td><td>248.5     </td><td>246.5     </td><td>248.0     </td><td> 5349888  </td></tr>\n",
       "\t<tr><td>2018-04-10</td><td>244.5     </td><td>249.0     </td><td>243.5     </td><td>245.5     </td><td> 6204392  </td></tr>\n",
       "\t<tr><td>2018-04-09</td><td>248.0     </td><td>248.0     </td><td>243.5     </td><td>245.0     </td><td> 8527391  </td></tr>\n",
       "\t<tr><td>2018-04-03</td><td>243.0     </td><td>244.5     </td><td>242.0     </td><td>244.0     </td><td> 8710200  </td></tr>\n",
       "\t<tr><td>2018-04-02</td><td>248.5     </td><td>249.0     </td><td>245.0     </td><td>246.5     </td><td> 4372780  </td></tr>\n",
       "\t<tr><td>2018-03-31</td><td>247.5     </td><td>249.0     </td><td>246.5     </td><td>247.5     </td><td>  893664  </td></tr>\n",
       "\t<tr><td>2018-03-30</td><td>247.5     </td><td>249.5     </td><td>246.0     </td><td>246.0     </td><td> 4205700  </td></tr>\n",
       "\t<tr><td>2018-03-29</td><td>243.0     </td><td>247.0     </td><td>242.5     </td><td>244.0     </td><td> 8824648  </td></tr>\n",
       "\t<tr><td>2018-03-28</td><td>247.5     </td><td>248.0     </td><td>244.0     </td><td>245.0     </td><td> 7278981  </td></tr>\n",
       "\t<tr><td>2018-03-27</td><td>248.0     </td><td>251.0     </td><td>247.0     </td><td>251.0     </td><td> 7709339  </td></tr>\n",
       "\t<tr><td>2018-03-26</td><td>241.5     </td><td>244.5     </td><td>241.5     </td><td>243.5     </td><td> 8976579  </td></tr>\n",
       "\t<tr><td>2018-03-23</td><td>245.0     </td><td>247.0     </td><td>244.0     </td><td>245.0     </td><td>12877905  </td></tr>\n",
       "\t<tr><td>2018-03-22</td><td>254.5     </td><td>254.5     </td><td>249.5     </td><td>251.5     </td><td> 6797032  </td></tr>\n",
       "\t<tr><td>2018-03-21</td><td>255.0     </td><td>255.0     </td><td>251.0     </td><td>252.5     </td><td> 7315751  </td></tr>\n",
       "\t<tr><td>2018-03-20</td><td>253.0     </td><td>254.0     </td><td>251.5     </td><td>253.0     </td><td> 5515686  </td></tr>\n",
       "\t<tr><td>2018-03-19</td><td>252.5     </td><td>255.5     </td><td>251.0     </td><td>255.0     </td><td> 5426275  </td></tr>\n",
       "\t<tr><td>2018-03-16</td><td>253.0     </td><td>256.0     </td><td>249.5     </td><td>255.0     </td><td>15915670  </td></tr>\n",
       "\t<tr><td>⋮</td><td>⋮</td><td>⋮</td><td>⋮</td><td>⋮</td><td>⋮</td></tr>\n",
       "\t<tr><td>2011-02-21</td><td>73.1      </td><td>73.4      </td><td>72.3      </td><td>73.4      </td><td> 2849659  </td></tr>\n",
       "\t<tr><td>2011-02-18</td><td>73.1      </td><td>73.9      </td><td>73.0      </td><td>73.0      </td><td> 5483478  </td></tr>\n",
       "\t<tr><td>2011-02-17</td><td>72.4      </td><td>72.9      </td><td>71.6      </td><td>72.5      </td><td> 3562378  </td></tr>\n",
       "\t<tr><td>2011-02-16</td><td>72.4      </td><td>72.7      </td><td>71.9      </td><td>72.1      </td><td> 3933561  </td></tr>\n",
       "\t<tr><td>2011-02-15</td><td>72.4      </td><td>73.1      </td><td>71.4      </td><td>72.5      </td><td> 4102685  </td></tr>\n",
       "\t<tr><td>2011-02-14</td><td>72.0      </td><td>72.9      </td><td>71.5      </td><td>72.5      </td><td> 4841306  </td></tr>\n",
       "\t<tr><td>2011-02-11</td><td>72.2      </td><td>72.4      </td><td>70.9      </td><td>71.4      </td><td> 8044680  </td></tr>\n",
       "\t<tr><td>2011-02-10</td><td>73.1      </td><td>73.4      </td><td>72.0      </td><td>72.0      </td><td> 6078858  </td></tr>\n",
       "\t<tr><td>2011-02-09</td><td>75.5      </td><td>75.6      </td><td>73.8      </td><td>73.8      </td><td> 6040472  </td></tr>\n",
       "\t<tr><td>2011-02-08</td><td>77.0      </td><td>77.0      </td><td>74.8      </td><td>75.5      </td><td> 8381585  </td></tr>\n",
       "\t<tr><td>2011-01-28</td><td>75.2      </td><td>76.9      </td><td>74.9      </td><td>76.3      </td><td> 8379116  </td></tr>\n",
       "\t<tr><td>2011-01-27</td><td>74.9      </td><td>75.4      </td><td>74.8      </td><td>75.2      </td><td> 5251216  </td></tr>\n",
       "\t<tr><td>2011-01-26</td><td>74.6      </td><td>75.2      </td><td>74.3      </td><td>74.6      </td><td> 4989976  </td></tr>\n",
       "\t<tr><td>2011-01-25</td><td>75.9      </td><td>75.9      </td><td>74.9      </td><td>75.0      </td><td> 3826118  </td></tr>\n",
       "\t<tr><td>2011-01-24</td><td>75.2      </td><td>75.4      </td><td>74.6      </td><td>75.3      </td><td> 3467458  </td></tr>\n",
       "\t<tr><td>2011-01-21</td><td>74.0      </td><td>75.2      </td><td>74.0      </td><td>74.6      </td><td> 6091444  </td></tr>\n",
       "\t<tr><td>2011-01-20</td><td>77.0      </td><td>77.0      </td><td>76.1      </td><td>76.4      </td><td> 3341142  </td></tr>\n",
       "\t<tr><td>2011-01-19</td><td>76.9      </td><td>78.3      </td><td>76.6      </td><td>78.0      </td><td> 6768303  </td></tr>\n",
       "\t<tr><td>2011-01-18</td><td>75.5      </td><td>77.4      </td><td>75.2      </td><td>76.8      </td><td> 4373751  </td></tr>\n",
       "\t<tr><td>2011-01-17</td><td>75.4      </td><td>75.9      </td><td>75.3      </td><td>75.8      </td><td> 5092053  </td></tr>\n",
       "\t<tr><td>2011-01-14</td><td>74.4      </td><td>74.8      </td><td>74.1      </td><td>74.8      </td><td> 2220105  </td></tr>\n",
       "\t<tr><td>2011-01-13</td><td>75.1      </td><td>75.3      </td><td>74.2      </td><td>74.6      </td><td> 6938412  </td></tr>\n",
       "\t<tr><td>2011-01-12</td><td>74.7      </td><td>75.0      </td><td>74.7      </td><td>74.9      </td><td> 4014373  </td></tr>\n",
       "\t<tr><td>2011-01-11</td><td>74.1      </td><td>74.9      </td><td>73.8      </td><td>74.5      </td><td> 6162046  </td></tr>\n",
       "\t<tr><td>2011-01-10</td><td>73.0      </td><td>74.2      </td><td>72.6      </td><td>74.2      </td><td> 5110968  </td></tr>\n",
       "\t<tr><td>2011-01-07</td><td>71.9      </td><td>73.0      </td><td>71.9      </td><td>72.5      </td><td>12335419  </td></tr>\n",
       "\t<tr><td>2011-01-06</td><td>69.8      </td><td>71.0      </td><td>69.7      </td><td>71.0      </td><td> 3295607  </td></tr>\n",
       "\t<tr><td>2011-01-05</td><td>70.9      </td><td>71.1      </td><td>69.6      </td><td>69.8      </td><td> 3811819  </td></tr>\n",
       "\t<tr><td>2011-01-04</td><td>71.0      </td><td>71.6      </td><td>70.8      </td><td>71.2      </td><td> 2567400  </td></tr>\n",
       "\t<tr><td>2011-01-03</td><td>71.5      </td><td>71.6      </td><td>70.8      </td><td>71.1      </td><td> 2541551  </td></tr>\n",
       "</tbody>\n",
       "</table>\n"
      ],
      "text/latex": [
       "\\begin{tabular}{r|llllll}\n",
       " Date & Open & High & Low & Close & Volume\\\\\n",
       "\\hline\n",
       "\t 2018-04-30 & 224.5      & 228.0      & 222.5      & 227.0      &  6448117  \\\\\n",
       "\t 2018-04-27 & 225.0      & 225.5      & 221.0      & 223.5      &  7619247  \\\\\n",
       "\t 2018-04-26 & 225.0      & 225.5      & 221.0      & 222.0      & 10731921  \\\\\n",
       "\t 2018-04-25 & 225.5      & 226.0      & 224.0      & 225.0      & 10535437  \\\\\n",
       "\t 2018-04-24 & 225.0      & 227.5      & 225.0      & 227.0      &  9272078  \\\\\n",
       "\t 2018-04-23 & 226.5      & 227.5      & 225.0      & 226.5      & 16080436  \\\\\n",
       "\t 2018-04-20 & 228.0      & 231.5      & 228.0      & 229.0      & 29507056  \\\\\n",
       "\t 2018-04-19 & 242.0      & 244.5      & 241.0      & 244.5      &  7758149  \\\\\n",
       "\t 2018-04-18 & 239.5      & 241.5      & 236.5      & 238.0      & 10130508  \\\\\n",
       "\t 2018-04-17 & 243.0      & 243.5      & 237.5      & 238.0      & 10232257  \\\\\n",
       "\t 2018-04-16 & 243.0      & 244.0      & 242.0      & 243.5      &  4459662  \\\\\n",
       "\t 2018-04-13 & 246.0      & 246.0      & 244.0      & 244.5      &  4836132  \\\\\n",
       "\t 2018-04-12 & 248.5      & 248.5      & 244.0      & 245.0      &  5011776  \\\\\n",
       "\t 2018-04-11 & 246.5      & 248.5      & 246.5      & 248.0      &  5349888  \\\\\n",
       "\t 2018-04-10 & 244.5      & 249.0      & 243.5      & 245.5      &  6204392  \\\\\n",
       "\t 2018-04-09 & 248.0      & 248.0      & 243.5      & 245.0      &  8527391  \\\\\n",
       "\t 2018-04-03 & 243.0      & 244.5      & 242.0      & 244.0      &  8710200  \\\\\n",
       "\t 2018-04-02 & 248.5      & 249.0      & 245.0      & 246.5      &  4372780  \\\\\n",
       "\t 2018-03-31 & 247.5      & 249.0      & 246.5      & 247.5      &   893664  \\\\\n",
       "\t 2018-03-30 & 247.5      & 249.5      & 246.0      & 246.0      &  4205700  \\\\\n",
       "\t 2018-03-29 & 243.0      & 247.0      & 242.5      & 244.0      &  8824648  \\\\\n",
       "\t 2018-03-28 & 247.5      & 248.0      & 244.0      & 245.0      &  7278981  \\\\\n",
       "\t 2018-03-27 & 248.0      & 251.0      & 247.0      & 251.0      &  7709339  \\\\\n",
       "\t 2018-03-26 & 241.5      & 244.5      & 241.5      & 243.5      &  8976579  \\\\\n",
       "\t 2018-03-23 & 245.0      & 247.0      & 244.0      & 245.0      & 12877905  \\\\\n",
       "\t 2018-03-22 & 254.5      & 254.5      & 249.5      & 251.5      &  6797032  \\\\\n",
       "\t 2018-03-21 & 255.0      & 255.0      & 251.0      & 252.5      &  7315751  \\\\\n",
       "\t 2018-03-20 & 253.0      & 254.0      & 251.5      & 253.0      &  5515686  \\\\\n",
       "\t 2018-03-19 & 252.5      & 255.5      & 251.0      & 255.0      &  5426275  \\\\\n",
       "\t 2018-03-16 & 253.0      & 256.0      & 249.5      & 255.0      & 15915670  \\\\\n",
       "\t ⋮ & ⋮ & ⋮ & ⋮ & ⋮ & ⋮\\\\\n",
       "\t 2011-02-21 & 73.1       & 73.4       & 72.3       & 73.4       &  2849659  \\\\\n",
       "\t 2011-02-18 & 73.1       & 73.9       & 73.0       & 73.0       &  5483478  \\\\\n",
       "\t 2011-02-17 & 72.4       & 72.9       & 71.6       & 72.5       &  3562378  \\\\\n",
       "\t 2011-02-16 & 72.4       & 72.7       & 71.9       & 72.1       &  3933561  \\\\\n",
       "\t 2011-02-15 & 72.4       & 73.1       & 71.4       & 72.5       &  4102685  \\\\\n",
       "\t 2011-02-14 & 72.0       & 72.9       & 71.5       & 72.5       &  4841306  \\\\\n",
       "\t 2011-02-11 & 72.2       & 72.4       & 70.9       & 71.4       &  8044680  \\\\\n",
       "\t 2011-02-10 & 73.1       & 73.4       & 72.0       & 72.0       &  6078858  \\\\\n",
       "\t 2011-02-09 & 75.5       & 75.6       & 73.8       & 73.8       &  6040472  \\\\\n",
       "\t 2011-02-08 & 77.0       & 77.0       & 74.8       & 75.5       &  8381585  \\\\\n",
       "\t 2011-01-28 & 75.2       & 76.9       & 74.9       & 76.3       &  8379116  \\\\\n",
       "\t 2011-01-27 & 74.9       & 75.4       & 74.8       & 75.2       &  5251216  \\\\\n",
       "\t 2011-01-26 & 74.6       & 75.2       & 74.3       & 74.6       &  4989976  \\\\\n",
       "\t 2011-01-25 & 75.9       & 75.9       & 74.9       & 75.0       &  3826118  \\\\\n",
       "\t 2011-01-24 & 75.2       & 75.4       & 74.6       & 75.3       &  3467458  \\\\\n",
       "\t 2011-01-21 & 74.0       & 75.2       & 74.0       & 74.6       &  6091444  \\\\\n",
       "\t 2011-01-20 & 77.0       & 77.0       & 76.1       & 76.4       &  3341142  \\\\\n",
       "\t 2011-01-19 & 76.9       & 78.3       & 76.6       & 78.0       &  6768303  \\\\\n",
       "\t 2011-01-18 & 75.5       & 77.4       & 75.2       & 76.8       &  4373751  \\\\\n",
       "\t 2011-01-17 & 75.4       & 75.9       & 75.3       & 75.8       &  5092053  \\\\\n",
       "\t 2011-01-14 & 74.4       & 74.8       & 74.1       & 74.8       &  2220105  \\\\\n",
       "\t 2011-01-13 & 75.1       & 75.3       & 74.2       & 74.6       &  6938412  \\\\\n",
       "\t 2011-01-12 & 74.7       & 75.0       & 74.7       & 74.9       &  4014373  \\\\\n",
       "\t 2011-01-11 & 74.1       & 74.9       & 73.8       & 74.5       &  6162046  \\\\\n",
       "\t 2011-01-10 & 73.0       & 74.2       & 72.6       & 74.2       &  5110968  \\\\\n",
       "\t 2011-01-07 & 71.9       & 73.0       & 71.9       & 72.5       & 12335419  \\\\\n",
       "\t 2011-01-06 & 69.8       & 71.0       & 69.7       & 71.0       &  3295607  \\\\\n",
       "\t 2011-01-05 & 70.9       & 71.1       & 69.6       & 69.8       &  3811819  \\\\\n",
       "\t 2011-01-04 & 71.0       & 71.6       & 70.8       & 71.2       &  2567400  \\\\\n",
       "\t 2011-01-03 & 71.5       & 71.6       & 70.8       & 71.1       &  2541551  \\\\\n",
       "\\end{tabular}\n"
      ],
      "text/markdown": [
       "\n",
       "Date | Open | High | Low | Close | Volume | \n",
       "|---|---|---|---|---|---|---|---|---|---|---|---|---|---|---|---|---|---|---|---|---|---|---|---|---|---|---|---|---|---|---|---|---|---|---|---|---|---|---|---|---|---|---|---|---|---|---|---|---|---|---|---|---|---|---|---|---|---|---|---|---|\n",
       "| 2018-04-30 | 224.5      | 228.0      | 222.5      | 227.0      |  6448117   | \n",
       "| 2018-04-27 | 225.0      | 225.5      | 221.0      | 223.5      |  7619247   | \n",
       "| 2018-04-26 | 225.0      | 225.5      | 221.0      | 222.0      | 10731921   | \n",
       "| 2018-04-25 | 225.5      | 226.0      | 224.0      | 225.0      | 10535437   | \n",
       "| 2018-04-24 | 225.0      | 227.5      | 225.0      | 227.0      |  9272078   | \n",
       "| 2018-04-23 | 226.5      | 227.5      | 225.0      | 226.5      | 16080436   | \n",
       "| 2018-04-20 | 228.0      | 231.5      | 228.0      | 229.0      | 29507056   | \n",
       "| 2018-04-19 | 242.0      | 244.5      | 241.0      | 244.5      |  7758149   | \n",
       "| 2018-04-18 | 239.5      | 241.5      | 236.5      | 238.0      | 10130508   | \n",
       "| 2018-04-17 | 243.0      | 243.5      | 237.5      | 238.0      | 10232257   | \n",
       "| 2018-04-16 | 243.0      | 244.0      | 242.0      | 243.5      |  4459662   | \n",
       "| 2018-04-13 | 246.0      | 246.0      | 244.0      | 244.5      |  4836132   | \n",
       "| 2018-04-12 | 248.5      | 248.5      | 244.0      | 245.0      |  5011776   | \n",
       "| 2018-04-11 | 246.5      | 248.5      | 246.5      | 248.0      |  5349888   | \n",
       "| 2018-04-10 | 244.5      | 249.0      | 243.5      | 245.5      |  6204392   | \n",
       "| 2018-04-09 | 248.0      | 248.0      | 243.5      | 245.0      |  8527391   | \n",
       "| 2018-04-03 | 243.0      | 244.5      | 242.0      | 244.0      |  8710200   | \n",
       "| 2018-04-02 | 248.5      | 249.0      | 245.0      | 246.5      |  4372780   | \n",
       "| 2018-03-31 | 247.5      | 249.0      | 246.5      | 247.5      |   893664   | \n",
       "| 2018-03-30 | 247.5      | 249.5      | 246.0      | 246.0      |  4205700   | \n",
       "| 2018-03-29 | 243.0      | 247.0      | 242.5      | 244.0      |  8824648   | \n",
       "| 2018-03-28 | 247.5      | 248.0      | 244.0      | 245.0      |  7278981   | \n",
       "| 2018-03-27 | 248.0      | 251.0      | 247.0      | 251.0      |  7709339   | \n",
       "| 2018-03-26 | 241.5      | 244.5      | 241.5      | 243.5      |  8976579   | \n",
       "| 2018-03-23 | 245.0      | 247.0      | 244.0      | 245.0      | 12877905   | \n",
       "| 2018-03-22 | 254.5      | 254.5      | 249.5      | 251.5      |  6797032   | \n",
       "| 2018-03-21 | 255.0      | 255.0      | 251.0      | 252.5      |  7315751   | \n",
       "| 2018-03-20 | 253.0      | 254.0      | 251.5      | 253.0      |  5515686   | \n",
       "| 2018-03-19 | 252.5      | 255.5      | 251.0      | 255.0      |  5426275   | \n",
       "| 2018-03-16 | 253.0      | 256.0      | 249.5      | 255.0      | 15915670   | \n",
       "| ⋮ | ⋮ | ⋮ | ⋮ | ⋮ | ⋮ | \n",
       "| 2011-02-21 | 73.1       | 73.4       | 72.3       | 73.4       |  2849659   | \n",
       "| 2011-02-18 | 73.1       | 73.9       | 73.0       | 73.0       |  5483478   | \n",
       "| 2011-02-17 | 72.4       | 72.9       | 71.6       | 72.5       |  3562378   | \n",
       "| 2011-02-16 | 72.4       | 72.7       | 71.9       | 72.1       |  3933561   | \n",
       "| 2011-02-15 | 72.4       | 73.1       | 71.4       | 72.5       |  4102685   | \n",
       "| 2011-02-14 | 72.0       | 72.9       | 71.5       | 72.5       |  4841306   | \n",
       "| 2011-02-11 | 72.2       | 72.4       | 70.9       | 71.4       |  8044680   | \n",
       "| 2011-02-10 | 73.1       | 73.4       | 72.0       | 72.0       |  6078858   | \n",
       "| 2011-02-09 | 75.5       | 75.6       | 73.8       | 73.8       |  6040472   | \n",
       "| 2011-02-08 | 77.0       | 77.0       | 74.8       | 75.5       |  8381585   | \n",
       "| 2011-01-28 | 75.2       | 76.9       | 74.9       | 76.3       |  8379116   | \n",
       "| 2011-01-27 | 74.9       | 75.4       | 74.8       | 75.2       |  5251216   | \n",
       "| 2011-01-26 | 74.6       | 75.2       | 74.3       | 74.6       |  4989976   | \n",
       "| 2011-01-25 | 75.9       | 75.9       | 74.9       | 75.0       |  3826118   | \n",
       "| 2011-01-24 | 75.2       | 75.4       | 74.6       | 75.3       |  3467458   | \n",
       "| 2011-01-21 | 74.0       | 75.2       | 74.0       | 74.6       |  6091444   | \n",
       "| 2011-01-20 | 77.0       | 77.0       | 76.1       | 76.4       |  3341142   | \n",
       "| 2011-01-19 | 76.9       | 78.3       | 76.6       | 78.0       |  6768303   | \n",
       "| 2011-01-18 | 75.5       | 77.4       | 75.2       | 76.8       |  4373751   | \n",
       "| 2011-01-17 | 75.4       | 75.9       | 75.3       | 75.8       |  5092053   | \n",
       "| 2011-01-14 | 74.4       | 74.8       | 74.1       | 74.8       |  2220105   | \n",
       "| 2011-01-13 | 75.1       | 75.3       | 74.2       | 74.6       |  6938412   | \n",
       "| 2011-01-12 | 74.7       | 75.0       | 74.7       | 74.9       |  4014373   | \n",
       "| 2011-01-11 | 74.1       | 74.9       | 73.8       | 74.5       |  6162046   | \n",
       "| 2011-01-10 | 73.0       | 74.2       | 72.6       | 74.2       |  5110968   | \n",
       "| 2011-01-07 | 71.9       | 73.0       | 71.9       | 72.5       | 12335419   | \n",
       "| 2011-01-06 | 69.8       | 71.0       | 69.7       | 71.0       |  3295607   | \n",
       "| 2011-01-05 | 70.9       | 71.1       | 69.6       | 69.8       |  3811819   | \n",
       "| 2011-01-04 | 71.0       | 71.6       | 70.8       | 71.2       |  2567400   | \n",
       "| 2011-01-03 | 71.5       | 71.6       | 70.8       | 71.1       |  2541551   | \n",
       "\n",
       "\n"
      ],
      "text/plain": [
       "     Date       Open  High  Low   Close Volume  \n",
       "1    2018-04-30 224.5 228.0 222.5 227.0  6448117\n",
       "2    2018-04-27 225.0 225.5 221.0 223.5  7619247\n",
       "3    2018-04-26 225.0 225.5 221.0 222.0 10731921\n",
       "4    2018-04-25 225.5 226.0 224.0 225.0 10535437\n",
       "5    2018-04-24 225.0 227.5 225.0 227.0  9272078\n",
       "6    2018-04-23 226.5 227.5 225.0 226.5 16080436\n",
       "7    2018-04-20 228.0 231.5 228.0 229.0 29507056\n",
       "8    2018-04-19 242.0 244.5 241.0 244.5  7758149\n",
       "9    2018-04-18 239.5 241.5 236.5 238.0 10130508\n",
       "10   2018-04-17 243.0 243.5 237.5 238.0 10232257\n",
       "11   2018-04-16 243.0 244.0 242.0 243.5  4459662\n",
       "12   2018-04-13 246.0 246.0 244.0 244.5  4836132\n",
       "13   2018-04-12 248.5 248.5 244.0 245.0  5011776\n",
       "14   2018-04-11 246.5 248.5 246.5 248.0  5349888\n",
       "15   2018-04-10 244.5 249.0 243.5 245.5  6204392\n",
       "16   2018-04-09 248.0 248.0 243.5 245.0  8527391\n",
       "17   2018-04-03 243.0 244.5 242.0 244.0  8710200\n",
       "18   2018-04-02 248.5 249.0 245.0 246.5  4372780\n",
       "19   2018-03-31 247.5 249.0 246.5 247.5   893664\n",
       "20   2018-03-30 247.5 249.5 246.0 246.0  4205700\n",
       "21   2018-03-29 243.0 247.0 242.5 244.0  8824648\n",
       "22   2018-03-28 247.5 248.0 244.0 245.0  7278981\n",
       "23   2018-03-27 248.0 251.0 247.0 251.0  7709339\n",
       "24   2018-03-26 241.5 244.5 241.5 243.5  8976579\n",
       "25   2018-03-23 245.0 247.0 244.0 245.0 12877905\n",
       "26   2018-03-22 254.5 254.5 249.5 251.5  6797032\n",
       "27   2018-03-21 255.0 255.0 251.0 252.5  7315751\n",
       "28   2018-03-20 253.0 254.0 251.5 253.0  5515686\n",
       "29   2018-03-19 252.5 255.5 251.0 255.0  5426275\n",
       "30   2018-03-16 253.0 256.0 249.5 255.0 15915670\n",
       "⋮    ⋮          ⋮     ⋮     ⋮     ⋮     ⋮       \n",
       "1772 2011-02-21 73.1  73.4  72.3  73.4   2849659\n",
       "1773 2011-02-18 73.1  73.9  73.0  73.0   5483478\n",
       "1774 2011-02-17 72.4  72.9  71.6  72.5   3562378\n",
       "1775 2011-02-16 72.4  72.7  71.9  72.1   3933561\n",
       "1776 2011-02-15 72.4  73.1  71.4  72.5   4102685\n",
       "1777 2011-02-14 72.0  72.9  71.5  72.5   4841306\n",
       "1778 2011-02-11 72.2  72.4  70.9  71.4   8044680\n",
       "1779 2011-02-10 73.1  73.4  72.0  72.0   6078858\n",
       "1780 2011-02-09 75.5  75.6  73.8  73.8   6040472\n",
       "1781 2011-02-08 77.0  77.0  74.8  75.5   8381585\n",
       "1782 2011-01-28 75.2  76.9  74.9  76.3   8379116\n",
       "1783 2011-01-27 74.9  75.4  74.8  75.2   5251216\n",
       "1784 2011-01-26 74.6  75.2  74.3  74.6   4989976\n",
       "1785 2011-01-25 75.9  75.9  74.9  75.0   3826118\n",
       "1786 2011-01-24 75.2  75.4  74.6  75.3   3467458\n",
       "1787 2011-01-21 74.0  75.2  74.0  74.6   6091444\n",
       "1788 2011-01-20 77.0  77.0  76.1  76.4   3341142\n",
       "1789 2011-01-19 76.9  78.3  76.6  78.0   6768303\n",
       "1790 2011-01-18 75.5  77.4  75.2  76.8   4373751\n",
       "1791 2011-01-17 75.4  75.9  75.3  75.8   5092053\n",
       "1792 2011-01-14 74.4  74.8  74.1  74.8   2220105\n",
       "1793 2011-01-13 75.1  75.3  74.2  74.6   6938412\n",
       "1794 2011-01-12 74.7  75.0  74.7  74.9   4014373\n",
       "1795 2011-01-11 74.1  74.9  73.8  74.5   6162046\n",
       "1796 2011-01-10 73.0  74.2  72.6  74.2   5110968\n",
       "1797 2011-01-07 71.9  73.0  71.9  72.5  12335419\n",
       "1798 2011-01-06 69.8  71.0  69.7  71.0   3295607\n",
       "1799 2011-01-05 70.9  71.1  69.6  69.8   3811819\n",
       "1800 2011-01-04 71.0  71.6  70.8  71.2   2567400\n",
       "1801 2011-01-03 71.5  71.6  70.8  71.1   2541551"
      ]
     },
     "metadata": {},
     "output_type": "display_data"
    }
   ],
   "source": [
    "#linux,mac底下路徑寫法\n",
    "read.csv('/Users/YorkLin/lecture/riii/data/2330.csv',header=T)"
   ]
  },
  {
   "cell_type": "code",
   "execution_count": null,
   "metadata": {},
   "outputs": [],
   "source": [
    "#windows底下 路徑寫法\n",
    "# read.csv('C:\\\\riii\\\\data\\\\2330.csv',header=T)\n",
    "# read.csv('C:/riii/data/2330.csv',header=T)"
   ]
  },
  {
   "cell_type": "code",
   "execution_count": 352,
   "metadata": {},
   "outputs": [],
   "source": [
    "tw2330 = read.csv('./data/2330.csv',header=T)"
   ]
  },
  {
   "cell_type": "code",
   "execution_count": 353,
   "metadata": {},
   "outputs": [
    {
     "data": {
      "text/html": [
       "'data.frame'"
      ],
      "text/latex": [
       "'data.frame'"
      ],
      "text/markdown": [
       "'data.frame'"
      ],
      "text/plain": [
       "[1] \"data.frame\""
      ]
     },
     "metadata": {},
     "output_type": "display_data"
    }
   ],
   "source": [
    "class( tw2330 )"
   ]
  },
  {
   "cell_type": "code",
   "execution_count": 354,
   "metadata": {},
   "outputs": [
    {
     "name": "stdout",
     "output_type": "stream",
     "text": [
      "'data.frame':\t1801 obs. of  6 variables:\n",
      " $ Date  : Factor w/ 1801 levels \"2011-01-03\",\"2011-01-04\",..: 1801 1800 1799 1798 1797 1796 1795 1794 1793 1792 ...\n",
      " $ Open  : num  224 225 225 226 225 ...\n",
      " $ High  : num  228 226 226 226 228 ...\n",
      " $ Low   : num  222 221 221 224 225 ...\n",
      " $ Close : num  227 224 222 225 227 ...\n",
      " $ Volume: int  6448117 7619247 10731921 10535437 9272078 16080436 29507056 7758149 10130508 10232257 ...\n"
     ]
    }
   ],
   "source": [
    "str( tw2330 )"
   ]
  },
  {
   "cell_type": "code",
   "execution_count": null,
   "metadata": {},
   "outputs": [],
   "source": []
  }
 ],
 "metadata": {
  "kernelspec": {
   "display_name": "R",
   "language": "R",
   "name": "ir"
  },
  "language_info": {
   "codemirror_mode": "r",
   "file_extension": ".r",
   "mimetype": "text/x-r-source",
   "name": "R",
   "pygments_lexer": "r",
   "version": "3.5.1"
  }
 },
 "nbformat": 4,
 "nbformat_minor": 2
}
