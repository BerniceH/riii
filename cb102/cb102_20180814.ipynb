{
 "cells": [
  {
   "cell_type": "markdown",
   "metadata": {},
   "source": [
    "### p70 practice"
   ]
  },
  {
   "cell_type": "code",
   "execution_count": 2,
   "metadata": {},
   "outputs": [
    {
     "data": {
      "text/html": [
       "'/Users/YorkLin/lecture/riii/cb102'"
      ],
      "text/latex": [
       "'/Users/YorkLin/lecture/riii/cb102'"
      ],
      "text/markdown": [
       "'/Users/YorkLin/lecture/riii/cb102'"
      ],
      "text/plain": [
       "[1] \"/Users/YorkLin/lecture/riii/cb102\""
      ]
     },
     "metadata": {},
     "output_type": "display_data"
    }
   ],
   "source": [
    "getwd()"
   ]
  },
  {
   "cell_type": "code",
   "execution_count": 3,
   "metadata": {},
   "outputs": [],
   "source": [
    "setwd('/Users/YorkLin/lecture/riii')"
   ]
  },
  {
   "cell_type": "code",
   "execution_count": 4,
   "metadata": {},
   "outputs": [
    {
     "data": {
      "text/html": [
       "'/Users/YorkLin/lecture/riii'"
      ],
      "text/latex": [
       "'/Users/YorkLin/lecture/riii'"
      ],
      "text/markdown": [
       "'/Users/YorkLin/lecture/riii'"
      ],
      "text/plain": [
       "[1] \"/Users/YorkLin/lecture/riii\""
      ]
     },
     "metadata": {},
     "output_type": "display_data"
    }
   ],
   "source": [
    "getwd()"
   ]
  },
  {
   "cell_type": "code",
   "execution_count": 5,
   "metadata": {},
   "outputs": [],
   "source": [
    "tw2330 = read.csv('./data/2330.csv',header=T)"
   ]
  },
  {
   "cell_type": "code",
   "execution_count": 6,
   "metadata": {},
   "outputs": [
    {
     "data": {
      "text/html": [
       "<table>\n",
       "<thead><tr><th scope=col>Date</th><th scope=col>Open</th><th scope=col>High</th><th scope=col>Low</th><th scope=col>Close</th><th scope=col>Volume</th></tr></thead>\n",
       "<tbody>\n",
       "\t<tr><td>2018-04-30</td><td>224.5     </td><td>228.0     </td><td>222.5     </td><td>227.0     </td><td> 6448117  </td></tr>\n",
       "\t<tr><td>2018-04-27</td><td>225.0     </td><td>225.5     </td><td>221.0     </td><td>223.5     </td><td> 7619247  </td></tr>\n",
       "\t<tr><td>2018-04-26</td><td>225.0     </td><td>225.5     </td><td>221.0     </td><td>222.0     </td><td>10731921  </td></tr>\n",
       "\t<tr><td>2018-04-25</td><td>225.5     </td><td>226.0     </td><td>224.0     </td><td>225.0     </td><td>10535437  </td></tr>\n",
       "\t<tr><td>2018-04-24</td><td>225.0     </td><td>227.5     </td><td>225.0     </td><td>227.0     </td><td> 9272078  </td></tr>\n",
       "\t<tr><td>2018-04-23</td><td>226.5     </td><td>227.5     </td><td>225.0     </td><td>226.5     </td><td>16080436  </td></tr>\n",
       "</tbody>\n",
       "</table>\n"
      ],
      "text/latex": [
       "\\begin{tabular}{r|llllll}\n",
       " Date & Open & High & Low & Close & Volume\\\\\n",
       "\\hline\n",
       "\t 2018-04-30 & 224.5      & 228.0      & 222.5      & 227.0      &  6448117  \\\\\n",
       "\t 2018-04-27 & 225.0      & 225.5      & 221.0      & 223.5      &  7619247  \\\\\n",
       "\t 2018-04-26 & 225.0      & 225.5      & 221.0      & 222.0      & 10731921  \\\\\n",
       "\t 2018-04-25 & 225.5      & 226.0      & 224.0      & 225.0      & 10535437  \\\\\n",
       "\t 2018-04-24 & 225.0      & 227.5      & 225.0      & 227.0      &  9272078  \\\\\n",
       "\t 2018-04-23 & 226.5      & 227.5      & 225.0      & 226.5      & 16080436  \\\\\n",
       "\\end{tabular}\n"
      ],
      "text/markdown": [
       "\n",
       "Date | Open | High | Low | Close | Volume | \n",
       "|---|---|---|---|---|---|\n",
       "| 2018-04-30 | 224.5      | 228.0      | 222.5      | 227.0      |  6448117   | \n",
       "| 2018-04-27 | 225.0      | 225.5      | 221.0      | 223.5      |  7619247   | \n",
       "| 2018-04-26 | 225.0      | 225.5      | 221.0      | 222.0      | 10731921   | \n",
       "| 2018-04-25 | 225.5      | 226.0      | 224.0      | 225.0      | 10535437   | \n",
       "| 2018-04-24 | 225.0      | 227.5      | 225.0      | 227.0      |  9272078   | \n",
       "| 2018-04-23 | 226.5      | 227.5      | 225.0      | 226.5      | 16080436   | \n",
       "\n",
       "\n"
      ],
      "text/plain": [
       "  Date       Open  High  Low   Close Volume  \n",
       "1 2018-04-30 224.5 228.0 222.5 227.0  6448117\n",
       "2 2018-04-27 225.0 225.5 221.0 223.5  7619247\n",
       "3 2018-04-26 225.0 225.5 221.0 222.0 10731921\n",
       "4 2018-04-25 225.5 226.0 224.0 225.0 10535437\n",
       "5 2018-04-24 225.0 227.5 225.0 227.0  9272078\n",
       "6 2018-04-23 226.5 227.5 225.0 226.5 16080436"
      ]
     },
     "metadata": {},
     "output_type": "display_data"
    }
   ],
   "source": [
    "head(tw2330)"
   ]
  },
  {
   "cell_type": "code",
   "execution_count": 8,
   "metadata": {},
   "outputs": [
    {
     "data": {
      "text/html": [
       "<table>\n",
       "<thead><tr><th></th><th scope=col>Date</th><th scope=col>Open</th><th scope=col>High</th><th scope=col>Low</th><th scope=col>Close</th><th scope=col>Volume</th></tr></thead>\n",
       "<tbody>\n",
       "\t<tr><th scope=row>1792</th><td>2011-01-14</td><td>74.4      </td><td>74.8      </td><td>74.1      </td><td>74.8      </td><td> 2220105  </td></tr>\n",
       "\t<tr><th scope=row>1793</th><td>2011-01-13</td><td>75.1      </td><td>75.3      </td><td>74.2      </td><td>74.6      </td><td> 6938412  </td></tr>\n",
       "\t<tr><th scope=row>1794</th><td>2011-01-12</td><td>74.7      </td><td>75.0      </td><td>74.7      </td><td>74.9      </td><td> 4014373  </td></tr>\n",
       "\t<tr><th scope=row>1795</th><td>2011-01-11</td><td>74.1      </td><td>74.9      </td><td>73.8      </td><td>74.5      </td><td> 6162046  </td></tr>\n",
       "\t<tr><th scope=row>1796</th><td>2011-01-10</td><td>73.0      </td><td>74.2      </td><td>72.6      </td><td>74.2      </td><td> 5110968  </td></tr>\n",
       "\t<tr><th scope=row>1797</th><td>2011-01-07</td><td>71.9      </td><td>73.0      </td><td>71.9      </td><td>72.5      </td><td>12335419  </td></tr>\n",
       "\t<tr><th scope=row>1798</th><td>2011-01-06</td><td>69.8      </td><td>71.0      </td><td>69.7      </td><td>71.0      </td><td> 3295607  </td></tr>\n",
       "\t<tr><th scope=row>1799</th><td>2011-01-05</td><td>70.9      </td><td>71.1      </td><td>69.6      </td><td>69.8      </td><td> 3811819  </td></tr>\n",
       "\t<tr><th scope=row>1800</th><td>2011-01-04</td><td>71.0      </td><td>71.6      </td><td>70.8      </td><td>71.2      </td><td> 2567400  </td></tr>\n",
       "\t<tr><th scope=row>1801</th><td>2011-01-03</td><td>71.5      </td><td>71.6      </td><td>70.8      </td><td>71.1      </td><td> 2541551  </td></tr>\n",
       "</tbody>\n",
       "</table>\n"
      ],
      "text/latex": [
       "\\begin{tabular}{r|llllll}\n",
       "  & Date & Open & High & Low & Close & Volume\\\\\n",
       "\\hline\n",
       "\t1792 & 2011-01-14 & 74.4       & 74.8       & 74.1       & 74.8       &  2220105  \\\\\n",
       "\t1793 & 2011-01-13 & 75.1       & 75.3       & 74.2       & 74.6       &  6938412  \\\\\n",
       "\t1794 & 2011-01-12 & 74.7       & 75.0       & 74.7       & 74.9       &  4014373  \\\\\n",
       "\t1795 & 2011-01-11 & 74.1       & 74.9       & 73.8       & 74.5       &  6162046  \\\\\n",
       "\t1796 & 2011-01-10 & 73.0       & 74.2       & 72.6       & 74.2       &  5110968  \\\\\n",
       "\t1797 & 2011-01-07 & 71.9       & 73.0       & 71.9       & 72.5       & 12335419  \\\\\n",
       "\t1798 & 2011-01-06 & 69.8       & 71.0       & 69.7       & 71.0       &  3295607  \\\\\n",
       "\t1799 & 2011-01-05 & 70.9       & 71.1       & 69.6       & 69.8       &  3811819  \\\\\n",
       "\t1800 & 2011-01-04 & 71.0       & 71.6       & 70.8       & 71.2       &  2567400  \\\\\n",
       "\t1801 & 2011-01-03 & 71.5       & 71.6       & 70.8       & 71.1       &  2541551  \\\\\n",
       "\\end{tabular}\n"
      ],
      "text/markdown": [
       "\n",
       "| <!--/--> | Date | Open | High | Low | Close | Volume | \n",
       "|---|---|---|---|---|---|---|---|---|---|\n",
       "| 1792 | 2011-01-14 | 74.4       | 74.8       | 74.1       | 74.8       |  2220105   | \n",
       "| 1793 | 2011-01-13 | 75.1       | 75.3       | 74.2       | 74.6       |  6938412   | \n",
       "| 1794 | 2011-01-12 | 74.7       | 75.0       | 74.7       | 74.9       |  4014373   | \n",
       "| 1795 | 2011-01-11 | 74.1       | 74.9       | 73.8       | 74.5       |  6162046   | \n",
       "| 1796 | 2011-01-10 | 73.0       | 74.2       | 72.6       | 74.2       |  5110968   | \n",
       "| 1797 | 2011-01-07 | 71.9       | 73.0       | 71.9       | 72.5       | 12335419   | \n",
       "| 1798 | 2011-01-06 | 69.8       | 71.0       | 69.7       | 71.0       |  3295607   | \n",
       "| 1799 | 2011-01-05 | 70.9       | 71.1       | 69.6       | 69.8       |  3811819   | \n",
       "| 1800 | 2011-01-04 | 71.0       | 71.6       | 70.8       | 71.2       |  2567400   | \n",
       "| 1801 | 2011-01-03 | 71.5       | 71.6       | 70.8       | 71.1       |  2541551   | \n",
       "\n",
       "\n"
      ],
      "text/plain": [
       "     Date       Open High Low  Close Volume  \n",
       "1792 2011-01-14 74.4 74.8 74.1 74.8   2220105\n",
       "1793 2011-01-13 75.1 75.3 74.2 74.6   6938412\n",
       "1794 2011-01-12 74.7 75.0 74.7 74.9   4014373\n",
       "1795 2011-01-11 74.1 74.9 73.8 74.5   6162046\n",
       "1796 2011-01-10 73.0 74.2 72.6 74.2   5110968\n",
       "1797 2011-01-07 71.9 73.0 71.9 72.5  12335419\n",
       "1798 2011-01-06 69.8 71.0 69.7 71.0   3295607\n",
       "1799 2011-01-05 70.9 71.1 69.6 69.8   3811819\n",
       "1800 2011-01-04 71.0 71.6 70.8 71.2   2567400\n",
       "1801 2011-01-03 71.5 71.6 70.8 71.1   2541551"
      ]
     },
     "metadata": {},
     "output_type": "display_data"
    }
   ],
   "source": [
    "tail(tw2330,10)"
   ]
  },
  {
   "cell_type": "code",
   "execution_count": 9,
   "metadata": {},
   "outputs": [
    {
     "name": "stdout",
     "output_type": "stream",
     "text": [
      "'data.frame':\t1801 obs. of  6 variables:\n",
      " $ Date  : Factor w/ 1801 levels \"2011-01-03\",\"2011-01-04\",..: 1801 1800 1799 1798 1797 1796 1795 1794 1793 1792 ...\n",
      " $ Open  : num  224 225 225 226 225 ...\n",
      " $ High  : num  228 226 226 226 228 ...\n",
      " $ Low   : num  222 221 221 224 225 ...\n",
      " $ Close : num  227 224 222 225 227 ...\n",
      " $ Volume: int  6448117 7619247 10731921 10535437 9272078 16080436 29507056 7758149 10130508 10232257 ...\n"
     ]
    }
   ],
   "source": [
    "str(tw2330)"
   ]
  },
  {
   "cell_type": "code",
   "execution_count": 11,
   "metadata": {},
   "outputs": [
    {
     "data": {
      "text/html": [
       "'Date'"
      ],
      "text/latex": [
       "'Date'"
      ],
      "text/markdown": [
       "'Date'"
      ],
      "text/plain": [
       "[1] \"Date\""
      ]
     },
     "metadata": {},
     "output_type": "display_data"
    }
   ],
   "source": [
    "class( as.Date(tw2330$Date) )"
   ]
  },
  {
   "cell_type": "code",
   "execution_count": 12,
   "metadata": {},
   "outputs": [],
   "source": [
    "tw2330$Date = as.Date(tw2330$Date)"
   ]
  },
  {
   "cell_type": "code",
   "execution_count": 13,
   "metadata": {},
   "outputs": [
    {
     "name": "stdout",
     "output_type": "stream",
     "text": [
      "'data.frame':\t1801 obs. of  6 variables:\n",
      " $ Date  : Date, format: \"2018-04-30\" \"2018-04-27\" ...\n",
      " $ Open  : num  224 225 225 226 225 ...\n",
      " $ High  : num  228 226 226 226 228 ...\n",
      " $ Low   : num  222 221 221 224 225 ...\n",
      " $ Close : num  227 224 222 225 227 ...\n",
      " $ Volume: int  6448117 7619247 10731921 10535437 9272078 16080436 29507056 7758149 10130508 10232257 ...\n"
     ]
    }
   ],
   "source": [
    "str(tw2330)"
   ]
  },
  {
   "cell_type": "code",
   "execution_count": 15,
   "metadata": {},
   "outputs": [
    {
     "data": {
      "text/html": [
       "<time datetime=\"2018-04-30\">2018-04-30</time>"
      ],
      "text/latex": [
       "2018-04-30"
      ],
      "text/markdown": [
       "2018-04-30"
      ],
      "text/plain": [
       "[1] \"2018-04-30\""
      ]
     },
     "metadata": {},
     "output_type": "display_data"
    }
   ],
   "source": [
    "tw2330$Date[1]"
   ]
  },
  {
   "cell_type": "code",
   "execution_count": 16,
   "metadata": {},
   "outputs": [
    {
     "data": {
      "text/html": [
       "<time datetime=\"2018-04-27\">2018-04-27</time>"
      ],
      "text/latex": [
       "2018-04-27"
      ],
      "text/markdown": [
       "2018-04-27"
      ],
      "text/plain": [
       "[1] \"2018-04-27\""
      ]
     },
     "metadata": {},
     "output_type": "display_data"
    }
   ],
   "source": [
    "tw2330$Date[2]"
   ]
  },
  {
   "cell_type": "code",
   "execution_count": 17,
   "metadata": {},
   "outputs": [
    {
     "data": {
      "text/html": [
       "TRUE"
      ],
      "text/latex": [
       "TRUE"
      ],
      "text/markdown": [
       "TRUE"
      ],
      "text/plain": [
       "[1] TRUE"
      ]
     },
     "metadata": {},
     "output_type": "display_data"
    }
   ],
   "source": [
    "tw2330$Date[1] > tw2330$Date[2]"
   ]
  },
  {
   "cell_type": "code",
   "execution_count": 21,
   "metadata": {},
   "outputs": [],
   "source": [
    "tw2330_2017 = tw2330[tw2330$Date >= '2017-01-01' & tw2330$Date <= '2017-12-31',]"
   ]
  },
  {
   "cell_type": "code",
   "execution_count": 25,
   "metadata": {},
   "outputs": [
    {
     "data": {
      "text/html": [
       "<table>\n",
       "<thead><tr><th></th><th scope=col>Date</th><th scope=col>Open</th><th scope=col>High</th><th scope=col>Low</th><th scope=col>Close</th><th scope=col>Volume</th></tr></thead>\n",
       "<tbody>\n",
       "\t<tr><th scope=row>102</th><td>2017-11-24</td><td>242       </td><td>244.5     </td><td>241.5     </td><td>244       </td><td>2716320   </td></tr>\n",
       "</tbody>\n",
       "</table>\n"
      ],
      "text/latex": [
       "\\begin{tabular}{r|llllll}\n",
       "  & Date & Open & High & Low & Close & Volume\\\\\n",
       "\\hline\n",
       "\t102 & 2017-11-24 & 242        & 244.5      & 241.5      & 244        & 2716320   \\\\\n",
       "\\end{tabular}\n"
      ],
      "text/markdown": [
       "\n",
       "| <!--/--> | Date | Open | High | Low | Close | Volume | \n",
       "|---|\n",
       "| 102 | 2017-11-24 | 242        | 244.5      | 241.5      | 244        | 2716320    | \n",
       "\n",
       "\n"
      ],
      "text/plain": [
       "    Date       Open High  Low   Close Volume \n",
       "102 2017-11-24 242  244.5 241.5 244   2716320"
      ]
     },
     "metadata": {},
     "output_type": "display_data"
    }
   ],
   "source": [
    "tw2330_2017[order(tw2330_2017$Close,decreasing = T),][1,]"
   ]
  },
  {
   "cell_type": "code",
   "execution_count": 26,
   "metadata": {},
   "outputs": [
    {
     "data": {
      "text/html": [
       "244"
      ],
      "text/latex": [
       "244"
      ],
      "text/markdown": [
       "244"
      ],
      "text/plain": [
       "[1] 244"
      ]
     },
     "metadata": {},
     "output_type": "display_data"
    }
   ],
   "source": [
    "max(tw2330_2017$Close)"
   ]
  },
  {
   "cell_type": "code",
   "execution_count": 27,
   "metadata": {},
   "outputs": [
    {
     "data": {
      "text/plain": [
       "   Min. 1st Qu.  Median    Mean 3rd Qu.    Max. \n",
       "  179.5   191.5   212.5   210.1   221.5   244.0 "
      ]
     },
     "metadata": {},
     "output_type": "display_data"
    }
   ],
   "source": [
    "summary(tw2330_2017$Close)"
   ]
  },
  {
   "cell_type": "code",
   "execution_count": 28,
   "metadata": {},
   "outputs": [
    {
     "data": {
      "text/plain": [
       "      Date                 Open            High            Low       \n",
       " Min.   :2017-01-03   Min.   :179.5   Min.   :180.5   Min.   :179.0  \n",
       " 1st Qu.:2017-04-11   1st Qu.:191.6   1st Qu.:192.0   1st Qu.:189.6  \n",
       " Median :2017-07-08   Median :212.0   Median :214.0   Median :211.2  \n",
       " Mean   :2017-07-06   Mean   :210.0   Mean   :211.2   Mean   :208.8  \n",
       " 3rd Qu.:2017-10-01   3rd Qu.:221.4   3rd Qu.:222.8   3rd Qu.:220.0  \n",
       " Max.   :2017-12-29   Max.   :244.5   Max.   :245.0   Max.   :242.0  \n",
       "     Close           Volume        \n",
       " Min.   :179.5   Min.   :  320349  \n",
       " 1st Qu.:191.5   1st Qu.: 3737042  \n",
       " Median :212.5   Median : 4719322  \n",
       " Mean   :210.1   Mean   : 5281645  \n",
       " 3rd Qu.:221.5   3rd Qu.: 6085697  \n",
       " Max.   :244.0   Max.   :24850555  "
      ]
     },
     "metadata": {},
     "output_type": "display_data"
    }
   ],
   "source": [
    "summary(tw2330_2017)"
   ]
  },
  {
   "cell_type": "code",
   "execution_count": 30,
   "metadata": {},
   "outputs": [],
   "source": [
    "li = list(thing='hat',size=8.25)"
   ]
  },
  {
   "cell_type": "code",
   "execution_count": 32,
   "metadata": {},
   "outputs": [
    {
     "data": {
      "text/html": [
       "'hat'"
      ],
      "text/latex": [
       "'hat'"
      ],
      "text/markdown": [
       "'hat'"
      ],
      "text/plain": [
       "[1] \"hat\""
      ]
     },
     "metadata": {},
     "output_type": "display_data"
    }
   ],
   "source": [
    "li$thing"
   ]
  },
  {
   "cell_type": "code",
   "execution_count": 33,
   "metadata": {},
   "outputs": [
    {
     "data": {
      "text/html": [
       "8.25"
      ],
      "text/latex": [
       "8.25"
      ],
      "text/markdown": [
       "8.25"
      ],
      "text/plain": [
       "[1] 8.25"
      ]
     },
     "metadata": {},
     "output_type": "display_data"
    }
   ],
   "source": [
    "li$size"
   ]
  },
  {
   "cell_type": "code",
   "execution_count": 35,
   "metadata": {},
   "outputs": [],
   "source": [
    "li_2 = list('hat',8.25)"
   ]
  },
  {
   "cell_type": "code",
   "execution_count": 37,
   "metadata": {},
   "outputs": [
    {
     "name": "stdout",
     "output_type": "stream",
     "text": [
      "[[1]]\n",
      "[1] \"hat\"\n",
      "\n",
      "[[2]]\n",
      "[1] 8.25\n",
      "\n"
     ]
    }
   ],
   "source": [
    "print(li_2)"
   ]
  },
  {
   "cell_type": "code",
   "execution_count": 38,
   "metadata": {},
   "outputs": [
    {
     "data": {
      "text/html": [
       "'hat'"
      ],
      "text/latex": [
       "'hat'"
      ],
      "text/markdown": [
       "'hat'"
      ],
      "text/plain": [
       "[1] \"hat\""
      ]
     },
     "metadata": {},
     "output_type": "display_data"
    }
   ],
   "source": [
    "li_2[[1]]"
   ]
  },
  {
   "cell_type": "code",
   "execution_count": 39,
   "metadata": {},
   "outputs": [
    {
     "data": {
      "text/html": [
       "8.25"
      ],
      "text/latex": [
       "8.25"
      ],
      "text/markdown": [
       "8.25"
      ],
      "text/plain": [
       "[1] 8.25"
      ]
     },
     "metadata": {},
     "output_type": "display_data"
    }
   ],
   "source": [
    "li_2[[2]]"
   ]
  },
  {
   "cell_type": "markdown",
   "metadata": {},
   "source": [
    "### read json file"
   ]
  },
  {
   "cell_type": "code",
   "execution_count": 41,
   "metadata": {},
   "outputs": [],
   "source": [
    "library(jsonlite)"
   ]
  },
  {
   "cell_type": "code",
   "execution_count": 42,
   "metadata": {},
   "outputs": [],
   "source": [
    "download.file('https://www.railway.gov.tw/Upload/UserFiles/%E8%87%BA%E9%90%B5%E5%B1%80%E6%88%BF%E5%9C%B0%E7%94%A2%E5%87%BA%E7%A7%9F%E6%83%85%E5%BD%A2.json',destfile = './rent.json')"
   ]
  },
  {
   "cell_type": "code",
   "execution_count": 45,
   "metadata": {},
   "outputs": [
    {
     "name": "stderr",
     "output_type": "stream",
     "text": [
      "Warning message:\n",
      "“JSON string contains (illegal) UTF8 byte-order-mark!”"
     ]
    }
   ],
   "source": [
    "json_demo_file = fromJSON('./rent.json')"
   ]
  },
  {
   "cell_type": "code",
   "execution_count": 52,
   "metadata": {},
   "outputs": [
    {
     "data": {
      "text/html": [
       "<table>\n",
       "<thead><tr><th scope=col>縣市</th><th scope=col>經管單位</th><th scope=col>用途限制</th><th scope=col>實際用途</th><th scope=col>每月租金</th><th scope=col>租期屆滿</th><th scope=col>建物面積</th><th scope=col>構造</th><th scope=col>總樓層數</th><th scope=col>建物現況</th><th scope=col>房屋座落</th><th scope=col>土地使用分區</th></tr></thead>\n",
       "<tbody>\n",
       "\t<tr><td>臺北市                                                                 </td><td>台北所                                                                 </td><td>辦公或住宅或法律許可範圍                                               </td><td>商店                                                                   </td><td>22900                                                                  </td><td>105.12.1-108.11.30                                                     </td><td>189.8                                                                  </td><td>木石磚造                                                               </td><td>1                                                                      </td><td>B                                                                      </td><td>新北市淡水區鼻頭街10、11、12號(淡水鎮海鷗段316地號)                    </td><td>工業區                                                                 </td></tr>\n",
       "\t<tr><td>臺北市                                                                 </td><td>台北所                                                                 </td><td>辦公或住宅或法律許可範圍                                               </td><td>辦公室                                                                 </td><td>138000                                                                 </td><td>104.06.07-107.06.06                                                    </td><td>220.49                                                                 </td><td>磚造                                                                   </td><td>1                                                                      </td><td>B                                                                      </td><td>臺北市大同區忠孝西路2段13號(大同區玉泉段2小段371-7、371-20、371-21地號)</td><td>371-7,371-20為交通廣場用地, 371-21為道路用地                           </td></tr>\n",
       "\t<tr><td>臺北市                                                                 </td><td>台北所                                                                 </td><td>辦公或住宅或法律許可範圍                                               </td><td>商店                                                                   </td><td>56899                                                                  </td><td>105.2.3-108.2.2                                                        </td><td>132                                                                    </td><td>加強磚造                                                               </td><td>2                                                                      </td><td>A                                                                      </td><td>臺北市大同區赤峰街33巷4號(大同區圓環段二小段151地號)                   </td><td>第四種住宅區                                                           </td></tr>\n",
       "\t<tr><td>臺北市                                                                 </td><td>台北所                                                                 </td><td>辦公或住宅或法律許可範圍                                               </td><td>住家                                                                   </td><td>23050                                                                  </td><td>104.05.28-107.05.27                                                    </td><td>102.545                                                                </td><td>加強磚造                                                               </td><td>3                                                                      </td><td>C                                                                      </td><td>臺北市萬華區康定路56巷3弄3號(萬華區直興段1小段93地號)                  </td><td>第四種商業區                                                           </td></tr>\n",
       "\t<tr><td>臺北市                                                                 </td><td>台北所                                                                 </td><td>辦公或住宅或法律許可範圍                                               </td><td>商店                                                                   </td><td>33294                                                                  </td><td>105.3.31-107.3.30                                                      </td><td>127.92                                                                 </td><td>加強磚造                                                               </td><td>1                                                                      </td><td>A                                                                      </td><td>臺北市中正區臨沂街19巷16號(中正區臨沂段301地號)                        </td><td>第三種住宅區                                                           </td></tr>\n",
       "\t<tr><td>臺北市                                                                 </td><td>台北所                                                                 </td><td>辦公或住宅或法律許可範圍                                               </td><td>商店                                                                   </td><td>20020                                                                  </td><td>105.7.2-107.7.1                                                        </td><td>72                                                                     </td><td>加強磚造                                                               </td><td>2                                                                      </td><td>B                                                                      </td><td>臺北市中正區汀州路2段73號(臺北市中正區河堤段687-16、687-27地號)        </td><td>第三種住宅區及第三之一種住宅區                                         </td></tr>\n",
       "</tbody>\n",
       "</table>\n"
      ],
      "text/latex": [
       "\\begin{tabular}{r|llllllllllll}\n",
       " 縣市 & 經管單位 & 用途限制 & 實際用途 & 每月租金 & 租期屆滿 & 建物面積 & 構造 & 總樓層數 & 建物現況 & 房屋座落 & 土地使用分區\\\\\n",
       "\\hline\n",
       "\t 臺北市                                                                  & 台北所                                                                  & 辦公或住宅或法律許可範圍                                                & 商店                                                                    & 22900                                                                   & 105.12.1-108.11.30                                                      & 189.8                                                                   & 木石磚造                                                                & 1                                                                       & B                                                                       & 新北市淡水區鼻頭街10、11、12號(淡水鎮海鷗段316地號)                     & 工業區                                                                 \\\\\n",
       "\t 臺北市                                                                  & 台北所                                                                  & 辦公或住宅或法律許可範圍                                                & 辦公室                                                                  & 138000                                                                  & 104.06.07-107.06.06                                                     & 220.49                                                                  & 磚造                                                                    & 1                                                                       & B                                                                       & 臺北市大同區忠孝西路2段13號(大同區玉泉段2小段371-7、371-20、371-21地號) & 371-7,371-20為交通廣場用地, 371-21為道路用地                           \\\\\n",
       "\t 臺北市                                                                  & 台北所                                                                  & 辦公或住宅或法律許可範圍                                                & 商店                                                                    & 56899                                                                   & 105.2.3-108.2.2                                                         & 132                                                                     & 加強磚造                                                                & 2                                                                       & A                                                                       & 臺北市大同區赤峰街33巷4號(大同區圓環段二小段151地號)                    & 第四種住宅區                                                           \\\\\n",
       "\t 臺北市                                                                  & 台北所                                                                  & 辦公或住宅或法律許可範圍                                                & 住家                                                                    & 23050                                                                   & 104.05.28-107.05.27                                                     & 102.545                                                                 & 加強磚造                                                                & 3                                                                       & C                                                                       & 臺北市萬華區康定路56巷3弄3號(萬華區直興段1小段93地號)                   & 第四種商業區                                                           \\\\\n",
       "\t 臺北市                                                                  & 台北所                                                                  & 辦公或住宅或法律許可範圍                                                & 商店                                                                    & 33294                                                                   & 105.3.31-107.3.30                                                       & 127.92                                                                  & 加強磚造                                                                & 1                                                                       & A                                                                       & 臺北市中正區臨沂街19巷16號(中正區臨沂段301地號)                         & 第三種住宅區                                                           \\\\\n",
       "\t 臺北市                                                                  & 台北所                                                                  & 辦公或住宅或法律許可範圍                                                & 商店                                                                    & 20020                                                                   & 105.7.2-107.7.1                                                         & 72                                                                      & 加強磚造                                                                & 2                                                                       & B                                                                       & 臺北市中正區汀州路2段73號(臺北市中正區河堤段687-16、687-27地號)         & 第三種住宅區及第三之一種住宅區                                         \\\\\n",
       "\\end{tabular}\n"
      ],
      "text/markdown": [
       "\n",
       "縣市 | 經管單位 | 用途限制 | 實際用途 | 每月租金 | 租期屆滿 | 建物面積 | 構造 | 總樓層數 | 建物現況 | 房屋座落 | 土地使用分區 | \n",
       "|---|---|---|---|---|---|\n",
       "| 臺北市                                                                  | 台北所                                                                  | 辦公或住宅或法律許可範圍                                                | 商店                                                                    | 22900                                                                   | 105.12.1-108.11.30                                                      | 189.8                                                                   | 木石磚造                                                                | 1                                                                       | B                                                                       | 新北市淡水區鼻頭街10、11、12號(淡水鎮海鷗段316地號)                     | 工業區                                                                  | \n",
       "| 臺北市                                                                  | 台北所                                                                  | 辦公或住宅或法律許可範圍                                                | 辦公室                                                                  | 138000                                                                  | 104.06.07-107.06.06                                                     | 220.49                                                                  | 磚造                                                                    | 1                                                                       | B                                                                       | 臺北市大同區忠孝西路2段13號(大同區玉泉段2小段371-7、371-20、371-21地號) | 371-7,371-20為交通廣場用地, 371-21為道路用地                            | \n",
       "| 臺北市                                                                  | 台北所                                                                  | 辦公或住宅或法律許可範圍                                                | 商店                                                                    | 56899                                                                   | 105.2.3-108.2.2                                                         | 132                                                                     | 加強磚造                                                                | 2                                                                       | A                                                                       | 臺北市大同區赤峰街33巷4號(大同區圓環段二小段151地號)                    | 第四種住宅區                                                            | \n",
       "| 臺北市                                                                  | 台北所                                                                  | 辦公或住宅或法律許可範圍                                                | 住家                                                                    | 23050                                                                   | 104.05.28-107.05.27                                                     | 102.545                                                                 | 加強磚造                                                                | 3                                                                       | C                                                                       | 臺北市萬華區康定路56巷3弄3號(萬華區直興段1小段93地號)                   | 第四種商業區                                                            | \n",
       "| 臺北市                                                                  | 台北所                                                                  | 辦公或住宅或法律許可範圍                                                | 商店                                                                    | 33294                                                                   | 105.3.31-107.3.30                                                       | 127.92                                                                  | 加強磚造                                                                | 1                                                                       | A                                                                       | 臺北市中正區臨沂街19巷16號(中正區臨沂段301地號)                         | 第三種住宅區                                                            | \n",
       "| 臺北市                                                                  | 台北所                                                                  | 辦公或住宅或法律許可範圍                                                | 商店                                                                    | 20020                                                                   | 105.7.2-107.7.1                                                         | 72                                                                      | 加強磚造                                                                | 2                                                                       | B                                                                       | 臺北市中正區汀州路2段73號(臺北市中正區河堤段687-16、687-27地號)         | 第三種住宅區及第三之一種住宅區                                          | \n",
       "\n",
       "\n"
      ],
      "text/plain": [
       "  縣市   經管單位 用途限制                 實際用途 每月租金\n",
       "1 臺北市 台北所   辦公或住宅或法律許可範圍 商店     22900   \n",
       "2 臺北市 台北所   辦公或住宅或法律許可範圍 辦公室   138000  \n",
       "3 臺北市 台北所   辦公或住宅或法律許可範圍 商店     56899   \n",
       "4 臺北市 台北所   辦公或住宅或法律許可範圍 住家     23050   \n",
       "5 臺北市 台北所   辦公或住宅或法律許可範圍 商店     33294   \n",
       "6 臺北市 台北所   辦公或住宅或法律許可範圍 商店     20020   \n",
       "  租期屆滿            建物面積 構造     總樓層數 建物現況\n",
       "1 105.12.1-108.11.30  189.8    木石磚造 1        B       \n",
       "2 104.06.07-107.06.06 220.49   磚造     1        B       \n",
       "3 105.2.3-108.2.2     132      加強磚造 2        A       \n",
       "4 104.05.28-107.05.27 102.545  加強磚造 3        C       \n",
       "5 105.3.31-107.3.30   127.92   加強磚造 1        A       \n",
       "6 105.7.2-107.7.1     72       加強磚造 2        B       \n",
       "  房屋座落                                                               \n",
       "1 新北市淡水區鼻頭街10、11、12號(淡水鎮海鷗段316地號)                    \n",
       "2 臺北市大同區忠孝西路2段13號(大同區玉泉段2小段371-7、371-20、371-21地號)\n",
       "3 臺北市大同區赤峰街33巷4號(大同區圓環段二小段151地號)                   \n",
       "4 臺北市萬華區康定路56巷3弄3號(萬華區直興段1小段93地號)                  \n",
       "5 臺北市中正區臨沂街19巷16號(中正區臨沂段301地號)                        \n",
       "6 臺北市中正區汀州路2段73號(臺北市中正區河堤段687-16、687-27地號)        \n",
       "  土地使用分區                                \n",
       "1 工業區                                      \n",
       "2 371-7,371-20為交通廣場用地, 371-21為道路用地\n",
       "3 第四種住宅區                                \n",
       "4 第四種商業區                                \n",
       "5 第三種住宅區                                \n",
       "6 第三種住宅區及第三之一種住宅區              "
      ]
     },
     "metadata": {},
     "output_type": "display_data"
    }
   ],
   "source": [
    "head(json_demo_file)"
   ]
  },
  {
   "cell_type": "markdown",
   "metadata": {},
   "source": [
    "### read XML file"
   ]
  },
  {
   "cell_type": "code",
   "execution_count": 48,
   "metadata": {},
   "outputs": [],
   "source": [
    "library(XML)"
   ]
  },
  {
   "cell_type": "code",
   "execution_count": 49,
   "metadata": {},
   "outputs": [],
   "source": [
    "url = 'http://opendata.epa.gov.tw/ws/Data/ATM00698/?$format=xml'\n",
    "tmp = xmlToDataFrame(url)"
   ]
  },
  {
   "cell_type": "code",
   "execution_count": 53,
   "metadata": {},
   "outputs": [
    {
     "data": {
      "text/html": [
       "<table>\n",
       "<thead><tr><th scope=col>SiteName</th><th scope=col>WindDirection</th><th scope=col>WindPower</th><th scope=col>Gust</th><th scope=col>Visibility</th><th scope=col>Temperature</th><th scope=col>Moisture</th><th scope=col>AtmosphericPressure</th><th scope=col>Weather</th><th scope=col>Rainfall1day</th><th scope=col>Unit</th><th scope=col>DataCreationDate</th></tr></thead>\n",
       "<tbody>\n",
       "\t<tr><td>南沙島          </td><td>西南西          </td><td>5               </td><td>                </td><td>10              </td><td>28.4(+0.0)      </td><td>88              </td><td>1009.7          </td><td>晴              </td><td>0.0             </td><td>中央氣象局      </td><td>107/8/14 9:00:00</td></tr>\n",
       "\t<tr><td>東沙島          </td><td>西南            </td><td>3               </td><td>                </td><td>10              </td><td>29.6(+1.6)      </td><td>87              </td><td>999.0           </td><td>陰              </td><td>0.0             </td><td>中央氣象局      </td><td>107/8/14 9:00:00</td></tr>\n",
       "\t<tr><td>馬祖            </td><td>東              </td><td>1               </td><td>                </td><td>                </td><td>28.0(-3.6)      </td><td>89              </td><td>1001.7          </td><td>                </td><td>4.0             </td><td>中央氣象局      </td><td>107/8/14 9:00:00</td></tr>\n",
       "\t<tr><td>金門            </td><td>東南東          </td><td>1               </td><td>                </td><td>                </td><td>29.7(-0.8)      </td><td>92              </td><td>1000.9          </td><td>                </td><td>13.0            </td><td>中央氣象局      </td><td>107/8/14 9:00:00</td></tr>\n",
       "\t<tr><td>東吉島          </td><td>東南            </td><td>4               </td><td>                </td><td>                </td><td>29.5(+0.7)      </td><td>83              </td><td>1000.8          </td><td>                </td><td>0.0             </td><td>中央氣象局      </td><td>107/8/14 9:00:00</td></tr>\n",
       "\t<tr><td>澎湖            </td><td>南南東          </td><td>3               </td><td>                </td><td>25              </td><td>30.3(+0.5)      </td><td>83              </td><td>1000.0          </td><td>晴              </td><td>0.0             </td><td>中央氣象局      </td><td>107/8/14 9:00:00</td></tr>\n",
       "</tbody>\n",
       "</table>\n"
      ],
      "text/latex": [
       "\\begin{tabular}{r|llllllllllll}\n",
       " SiteName & WindDirection & WindPower & Gust & Visibility & Temperature & Moisture & AtmosphericPressure & Weather & Rainfall1day & Unit & DataCreationDate\\\\\n",
       "\\hline\n",
       "\t 南沙島           & 西南西           & 5                &                  & 10               & 28.4(+0.0)       & 88               & 1009.7           & 晴               & 0.0              & 中央氣象局       & 107/8/14 9:00:00\\\\\n",
       "\t 東沙島           & 西南             & 3                &                  & 10               & 29.6(+1.6)       & 87               & 999.0            & 陰               & 0.0              & 中央氣象局       & 107/8/14 9:00:00\\\\\n",
       "\t 馬祖             & 東               & 1                &                  &                  & 28.0(-3.6)       & 89               & 1001.7           &                  & 4.0              & 中央氣象局       & 107/8/14 9:00:00\\\\\n",
       "\t 金門             & 東南東           & 1                &                  &                  & 29.7(-0.8)       & 92               & 1000.9           &                  & 13.0             & 中央氣象局       & 107/8/14 9:00:00\\\\\n",
       "\t 東吉島           & 東南             & 4                &                  &                  & 29.5(+0.7)       & 83               & 1000.8           &                  & 0.0              & 中央氣象局       & 107/8/14 9:00:00\\\\\n",
       "\t 澎湖             & 南南東           & 3                &                  & 25               & 30.3(+0.5)       & 83               & 1000.0           & 晴               & 0.0              & 中央氣象局       & 107/8/14 9:00:00\\\\\n",
       "\\end{tabular}\n"
      ],
      "text/markdown": [
       "\n",
       "SiteName | WindDirection | WindPower | Gust | Visibility | Temperature | Moisture | AtmosphericPressure | Weather | Rainfall1day | Unit | DataCreationDate | \n",
       "|---|---|---|---|---|---|\n",
       "| 南沙島           | 西南西           | 5                |                  | 10               | 28.4(+0.0)       | 88               | 1009.7           | 晴               | 0.0              | 中央氣象局       | 107/8/14 9:00:00 | \n",
       "| 東沙島           | 西南             | 3                |                  | 10               | 29.6(+1.6)       | 87               | 999.0            | 陰               | 0.0              | 中央氣象局       | 107/8/14 9:00:00 | \n",
       "| 馬祖             | 東               | 1                |                  |                  | 28.0(-3.6)       | 89               | 1001.7           |                  | 4.0              | 中央氣象局       | 107/8/14 9:00:00 | \n",
       "| 金門             | 東南東           | 1                |                  |                  | 29.7(-0.8)       | 92               | 1000.9           |                  | 13.0             | 中央氣象局       | 107/8/14 9:00:00 | \n",
       "| 東吉島           | 東南             | 4                |                  |                  | 29.5(+0.7)       | 83               | 1000.8           |                  | 0.0              | 中央氣象局       | 107/8/14 9:00:00 | \n",
       "| 澎湖             | 南南東           | 3                |                  | 25               | 30.3(+0.5)       | 83               | 1000.0           | 晴               | 0.0              | 中央氣象局       | 107/8/14 9:00:00 | \n",
       "\n",
       "\n"
      ],
      "text/plain": [
       "  SiteName WindDirection WindPower Gust Visibility Temperature Moisture\n",
       "1 南沙島   西南西        5              10         28.4(+0.0)  88      \n",
       "2 東沙島   西南          3              10         29.6(+1.6)  87      \n",
       "3 馬祖     東            1                         28.0(-3.6)  89      \n",
       "4 金門     東南東        1                         29.7(-0.8)  92      \n",
       "5 東吉島   東南          4                         29.5(+0.7)  83      \n",
       "6 澎湖     南南東        3              25         30.3(+0.5)  83      \n",
       "  AtmosphericPressure Weather Rainfall1day Unit       DataCreationDate\n",
       "1 1009.7              晴      0.0          中央氣象局 107/8/14 9:00:00\n",
       "2 999.0               陰      0.0          中央氣象局 107/8/14 9:00:00\n",
       "3 1001.7                      4.0          中央氣象局 107/8/14 9:00:00\n",
       "4 1000.9                      13.0         中央氣象局 107/8/14 9:00:00\n",
       "5 1000.8                      0.0          中央氣象局 107/8/14 9:00:00\n",
       "6 1000.0              晴      0.0          中央氣象局 107/8/14 9:00:00"
      ]
     },
     "metadata": {},
     "output_type": "display_data"
    }
   ],
   "source": [
    "head(tmp)"
   ]
  },
  {
   "cell_type": "code",
   "execution_count": 54,
   "metadata": {},
   "outputs": [
    {
     "name": "stdout",
     "output_type": "stream",
     "text": [
      "[1] \"x > 3\"\n"
     ]
    }
   ],
   "source": [
    "x=5;\n",
    "if(x>3){\n",
    "  print(\"x > 3\");\n",
    "}else{\n",
    "  print(\"x <= 3\");\n",
    "}"
   ]
  },
  {
   "cell_type": "code",
   "execution_count": 55,
   "metadata": {},
   "outputs": [
    {
     "name": "stdout",
     "output_type": "stream",
     "text": [
      "[1] \"x > 3\"\n"
     ]
    }
   ],
   "source": [
    "if(x>3) print(\"x > 3\") else print(\"x <= 3\")"
   ]
  },
  {
   "cell_type": "code",
   "execution_count": 56,
   "metadata": {},
   "outputs": [
    {
     "data": {
      "text/html": [
       "'x &gt; 3'"
      ],
      "text/latex": [
       "'x > 3'"
      ],
      "text/markdown": [
       "'x &gt; 3'"
      ],
      "text/plain": [
       "[1] \"x > 3\""
      ]
     },
     "metadata": {},
     "output_type": "display_data"
    }
   ],
   "source": [
    "ifelse(x>3,\"x > 3\",\"x <= 3\")"
   ]
  },
  {
   "cell_type": "code",
   "execution_count": 57,
   "metadata": {},
   "outputs": [
    {
     "name": "stdout",
     "output_type": "stream",
     "text": [
      "[1] \"x > 3\"\n"
     ]
    }
   ],
   "source": [
    "x=5;\n",
    "if(x>3){\n",
    "  print (\"x > 3\");\n",
    "} else if (x ==3){\n",
    "  print (\"x == 3\");\n",
    "}else{\n",
    "  print(\"x <= 3\");\n",
    "}"
   ]
  },
  {
   "cell_type": "code",
   "execution_count": 58,
   "metadata": {},
   "outputs": [
    {
     "name": "stdout",
     "output_type": "stream",
     "text": [
      "[1] \"bbb\"\n"
     ]
    }
   ],
   "source": [
    "switch(2,print('aaa'),print('bbb'),print('ccc'))"
   ]
  },
  {
   "cell_type": "code",
   "execution_count": 59,
   "metadata": {},
   "outputs": [
    {
     "name": "stdout",
     "output_type": "stream",
     "text": [
      "[1] \"ccc\"\n"
     ]
    }
   ],
   "source": [
    "switch('third',first = print('aaa'),second = print('bbb'),third = print('ccc'))"
   ]
  },
  {
   "cell_type": "code",
   "execution_count": 61,
   "metadata": {},
   "outputs": [
    {
     "name": "stdout",
     "output_type": "stream",
     "text": [
      "[1] 1\n",
      "[1] 2\n",
      "[1] 3\n",
      "[1] 4\n",
      "[1] 5\n",
      "[1] 6\n",
      "[1] 7\n",
      "[1] 8\n",
      "[1] 9\n",
      "[1] 10\n"
     ]
    }
   ],
   "source": [
    "for(i in 1:10){\n",
    "  print(i);\n",
    "}"
   ]
  },
  {
   "cell_type": "code",
   "execution_count": 62,
   "metadata": {},
   "outputs": [],
   "source": [
    "url = 'https://tw.appledaily.com/new/realtime/'"
   ]
  },
  {
   "cell_type": "code",
   "execution_count": 64,
   "metadata": {},
   "outputs": [
    {
     "name": "stdout",
     "output_type": "stream",
     "text": [
      "[1] \"https://tw.appledaily.com/new/realtime/1\"\n",
      "[1] \"https://tw.appledaily.com/new/realtime/2\"\n",
      "[1] \"https://tw.appledaily.com/new/realtime/3\"\n",
      "[1] \"https://tw.appledaily.com/new/realtime/4\"\n",
      "[1] \"https://tw.appledaily.com/new/realtime/5\"\n",
      "[1] \"https://tw.appledaily.com/new/realtime/6\"\n",
      "[1] \"https://tw.appledaily.com/new/realtime/7\"\n",
      "[1] \"https://tw.appledaily.com/new/realtime/8\"\n",
      "[1] \"https://tw.appledaily.com/new/realtime/9\"\n",
      "[1] \"https://tw.appledaily.com/new/realtime/10\"\n"
     ]
    }
   ],
   "source": [
    "for(i in 1:10){\n",
    "    print(paste(url,i,sep=''))\n",
    "}"
   ]
  },
  {
   "cell_type": "code",
   "execution_count": null,
   "metadata": {},
   "outputs": [],
   "source": [
    "### for loop in python\n",
    "# for i in range(1,10+1):\n",
    "#     print(i)"
   ]
  },
  {
   "cell_type": "code",
   "execution_count": 65,
   "metadata": {},
   "outputs": [
    {
     "data": {
      "text/html": [
       "<table>\n",
       "<tbody>\n",
       "\t<tr><td>1</td><td>2</td><td>3</td></tr>\n",
       "\t<tr><td>4</td><td>5</td><td>6</td></tr>\n",
       "\t<tr><td>7</td><td>8</td><td>9</td></tr>\n",
       "</tbody>\n",
       "</table>\n"
      ],
      "text/latex": [
       "\\begin{tabular}{lll}\n",
       "\t 1 & 2 & 3\\\\\n",
       "\t 4 & 5 & 6\\\\\n",
       "\t 7 & 8 & 9\\\\\n",
       "\\end{tabular}\n"
      ],
      "text/markdown": [
       "\n",
       "| 1 | 2 | 3 | \n",
       "| 4 | 5 | 6 | \n",
       "| 7 | 8 | 9 | \n",
       "\n",
       "\n"
      ],
      "text/plain": [
       "     [,1] [,2] [,3]\n",
       "[1,] 1    2    3   \n",
       "[2,] 4    5    6   \n",
       "[3,] 7    8    9   "
      ]
     },
     "metadata": {},
     "output_type": "display_data"
    }
   ],
   "source": [
    "mat = matrix(1:9, byrow=TRUE, nrow=3)\n",
    "mat"
   ]
  },
  {
   "cell_type": "code",
   "execution_count": 66,
   "metadata": {
    "scrolled": true
   },
   "outputs": [
    {
     "name": "stdout",
     "output_type": "stream",
     "text": [
      "[1] 1\n",
      "[1] 2\n",
      "[1] 3\n",
      "[1] 4\n",
      "[1] 5\n",
      "[1] 6\n",
      "[1] 7\n",
      "[1] 8\n",
      "[1] 9\n"
     ]
    }
   ],
   "source": [
    "for(i in 1:nrow(mat)){\n",
    "    for(j in 1:ncol(mat)){\n",
    "        print(mat[i,j])\n",
    "    }\n",
    "}"
   ]
  },
  {
   "cell_type": "code",
   "execution_count": 67,
   "metadata": {},
   "outputs": [
    {
     "data": {
      "text/html": [
       "<ol class=list-inline>\n",
       "\t<li>1</li>\n",
       "\t<li>2</li>\n",
       "\t<li>3</li>\n",
       "</ol>\n"
      ],
      "text/latex": [
       "\\begin{enumerate*}\n",
       "\\item 1\n",
       "\\item 2\n",
       "\\item 3\n",
       "\\end{enumerate*}\n"
      ],
      "text/markdown": [
       "1. 1\n",
       "2. 2\n",
       "3. 3\n",
       "\n",
       "\n"
      ],
      "text/plain": [
       "[1] 1 2 3"
      ]
     },
     "metadata": {},
     "output_type": "display_data"
    }
   ],
   "source": [
    "1:nrow(mat)"
   ]
  },
  {
   "cell_type": "code",
   "execution_count": 68,
   "metadata": {},
   "outputs": [],
   "source": [
    "?seq_len"
   ]
  },
  {
   "cell_type": "code",
   "execution_count": 72,
   "metadata": {},
   "outputs": [
    {
     "data": {
      "text/html": [
       "<ol class=list-inline>\n",
       "\t<li>1</li>\n",
       "\t<li>2</li>\n",
       "\t<li>3</li>\n",
       "</ol>\n"
      ],
      "text/latex": [
       "\\begin{enumerate*}\n",
       "\\item 1\n",
       "\\item 2\n",
       "\\item 3\n",
       "\\end{enumerate*}\n"
      ],
      "text/markdown": [
       "1. 1\n",
       "2. 2\n",
       "3. 3\n",
       "\n",
       "\n"
      ],
      "text/plain": [
       "[1] 1 2 3"
      ]
     },
     "metadata": {},
     "output_type": "display_data"
    }
   ],
   "source": [
    "seq_len(nrow(mat))"
   ]
  },
  {
   "cell_type": "markdown",
   "metadata": {},
   "source": [
    "### for loop keywords: break/next"
   ]
  },
  {
   "cell_type": "code",
   "execution_count": 73,
   "metadata": {},
   "outputs": [
    {
     "name": "stdout",
     "output_type": "stream",
     "text": [
      "[1] 1\n",
      "[1] 2\n",
      "[1] 3\n",
      "[1] 4\n",
      "[1] 5\n"
     ]
    }
   ],
   "source": [
    "for(i in 1:10){\n",
    "    if(i == 5) break;\n",
    "    print(i)\n",
    "}"
   ]
  },
  {
   "cell_type": "code",
   "execution_count": 74,
   "metadata": {},
   "outputs": [
    {
     "name": "stdout",
     "output_type": "stream",
     "text": [
      "[1] 1\n",
      "[1] 2\n",
      "[1] 3\n",
      "[1] 4\n",
      "[1] 6\n",
      "[1] 7\n",
      "[1] 8\n",
      "[1] 9\n",
      "[1] 10\n"
     ]
    }
   ],
   "source": [
    "for(i in 1:10){\n",
    "    if(i == 5) next;\n",
    "    print(i)\n",
    "}"
   ]
  },
  {
   "cell_type": "code",
   "execution_count": 70,
   "metadata": {},
   "outputs": [
    {
     "name": "stdout",
     "output_type": "stream",
     "text": [
      "[1] 5050\n"
     ]
    }
   ],
   "source": [
    "sum = 0;\n",
    "cnt = 0;\n",
    "while(cnt <= 100){\n",
    "  sum = sum + cnt;\n",
    "  cnt = cnt + 1;\n",
    "}\n",
    "print(sum)"
   ]
  },
  {
   "cell_type": "markdown",
   "metadata": {},
   "source": [
    "### p86 practice"
   ]
  },
  {
   "cell_type": "code",
   "execution_count": 82,
   "metadata": {},
   "outputs": [
    {
     "data": {
      "text/html": [
       "<ol class=list-inline>\n",
       "\t<li>1</li>\n",
       "\t<li>1</li>\n",
       "\t<li>1</li>\n",
       "\t<li>1</li>\n",
       "\t<li>1</li>\n",
       "\t<li>1</li>\n",
       "\t<li>1</li>\n",
       "\t<li>1</li>\n",
       "\t<li>1</li>\n",
       "\t<li>1</li>\n",
       "\t<li>1</li>\n",
       "\t<li>1</li>\n",
       "\t<li>1</li>\n",
       "\t<li>1</li>\n",
       "\t<li>1</li>\n",
       "\t<li>1</li>\n",
       "\t<li>1</li>\n",
       "\t<li>1</li>\n",
       "\t<li>1</li>\n",
       "\t<li>1</li>\n",
       "\t<li>1</li>\n",
       "\t<li>1</li>\n",
       "\t<li>1</li>\n",
       "\t<li>1</li>\n",
       "\t<li>1</li>\n",
       "\t<li>1</li>\n",
       "\t<li>1</li>\n",
       "\t<li>1</li>\n",
       "\t<li>1</li>\n",
       "\t<li>1</li>\n",
       "\t<li>1</li>\n",
       "\t<li>1</li>\n",
       "\t<li>1</li>\n",
       "\t<li>1</li>\n",
       "\t<li>1</li>\n",
       "\t<li>1</li>\n",
       "\t<li>1</li>\n",
       "\t<li>1</li>\n",
       "\t<li>1</li>\n",
       "\t<li>1</li>\n",
       "\t<li>1</li>\n",
       "\t<li>1</li>\n",
       "\t<li>1</li>\n",
       "\t<li>1</li>\n",
       "\t<li>1</li>\n",
       "\t<li>1</li>\n",
       "\t<li>1</li>\n",
       "\t<li>1</li>\n",
       "\t<li>1</li>\n",
       "\t<li>1</li>\n",
       "\t<li>1</li>\n",
       "\t<li>1</li>\n",
       "\t<li>1</li>\n",
       "\t<li>1</li>\n",
       "\t<li>1</li>\n",
       "\t<li>1</li>\n",
       "\t<li>1</li>\n",
       "\t<li>1</li>\n",
       "\t<li>1</li>\n",
       "\t<li>1</li>\n",
       "\t<li>1</li>\n",
       "\t<li>1</li>\n",
       "\t<li>1</li>\n",
       "\t<li>1</li>\n",
       "\t<li>1</li>\n",
       "\t<li>1</li>\n",
       "\t<li>1</li>\n",
       "\t<li>1</li>\n",
       "\t<li>1</li>\n",
       "\t<li>1</li>\n",
       "\t<li>1</li>\n",
       "\t<li>1</li>\n",
       "\t<li>1</li>\n",
       "\t<li>1</li>\n",
       "\t<li>1</li>\n",
       "\t<li>1</li>\n",
       "\t<li>1</li>\n",
       "\t<li>1</li>\n",
       "\t<li>1</li>\n",
       "\t<li>1</li>\n",
       "\t<li>1</li>\n",
       "</ol>\n"
      ],
      "text/latex": [
       "\\begin{enumerate*}\n",
       "\\item 1\n",
       "\\item 1\n",
       "\\item 1\n",
       "\\item 1\n",
       "\\item 1\n",
       "\\item 1\n",
       "\\item 1\n",
       "\\item 1\n",
       "\\item 1\n",
       "\\item 1\n",
       "\\item 1\n",
       "\\item 1\n",
       "\\item 1\n",
       "\\item 1\n",
       "\\item 1\n",
       "\\item 1\n",
       "\\item 1\n",
       "\\item 1\n",
       "\\item 1\n",
       "\\item 1\n",
       "\\item 1\n",
       "\\item 1\n",
       "\\item 1\n",
       "\\item 1\n",
       "\\item 1\n",
       "\\item 1\n",
       "\\item 1\n",
       "\\item 1\n",
       "\\item 1\n",
       "\\item 1\n",
       "\\item 1\n",
       "\\item 1\n",
       "\\item 1\n",
       "\\item 1\n",
       "\\item 1\n",
       "\\item 1\n",
       "\\item 1\n",
       "\\item 1\n",
       "\\item 1\n",
       "\\item 1\n",
       "\\item 1\n",
       "\\item 1\n",
       "\\item 1\n",
       "\\item 1\n",
       "\\item 1\n",
       "\\item 1\n",
       "\\item 1\n",
       "\\item 1\n",
       "\\item 1\n",
       "\\item 1\n",
       "\\item 1\n",
       "\\item 1\n",
       "\\item 1\n",
       "\\item 1\n",
       "\\item 1\n",
       "\\item 1\n",
       "\\item 1\n",
       "\\item 1\n",
       "\\item 1\n",
       "\\item 1\n",
       "\\item 1\n",
       "\\item 1\n",
       "\\item 1\n",
       "\\item 1\n",
       "\\item 1\n",
       "\\item 1\n",
       "\\item 1\n",
       "\\item 1\n",
       "\\item 1\n",
       "\\item 1\n",
       "\\item 1\n",
       "\\item 1\n",
       "\\item 1\n",
       "\\item 1\n",
       "\\item 1\n",
       "\\item 1\n",
       "\\item 1\n",
       "\\item 1\n",
       "\\item 1\n",
       "\\item 1\n",
       "\\item 1\n",
       "\\end{enumerate*}\n"
      ],
      "text/markdown": [
       "1. 1\n",
       "2. 1\n",
       "3. 1\n",
       "4. 1\n",
       "5. 1\n",
       "6. 1\n",
       "7. 1\n",
       "8. 1\n",
       "9. 1\n",
       "10. 1\n",
       "11. 1\n",
       "12. 1\n",
       "13. 1\n",
       "14. 1\n",
       "15. 1\n",
       "16. 1\n",
       "17. 1\n",
       "18. 1\n",
       "19. 1\n",
       "20. 1\n",
       "21. 1\n",
       "22. 1\n",
       "23. 1\n",
       "24. 1\n",
       "25. 1\n",
       "26. 1\n",
       "27. 1\n",
       "28. 1\n",
       "29. 1\n",
       "30. 1\n",
       "31. 1\n",
       "32. 1\n",
       "33. 1\n",
       "34. 1\n",
       "35. 1\n",
       "36. 1\n",
       "37. 1\n",
       "38. 1\n",
       "39. 1\n",
       "40. 1\n",
       "41. 1\n",
       "42. 1\n",
       "43. 1\n",
       "44. 1\n",
       "45. 1\n",
       "46. 1\n",
       "47. 1\n",
       "48. 1\n",
       "49. 1\n",
       "50. 1\n",
       "51. 1\n",
       "52. 1\n",
       "53. 1\n",
       "54. 1\n",
       "55. 1\n",
       "56. 1\n",
       "57. 1\n",
       "58. 1\n",
       "59. 1\n",
       "60. 1\n",
       "61. 1\n",
       "62. 1\n",
       "63. 1\n",
       "64. 1\n",
       "65. 1\n",
       "66. 1\n",
       "67. 1\n",
       "68. 1\n",
       "69. 1\n",
       "70. 1\n",
       "71. 1\n",
       "72. 1\n",
       "73. 1\n",
       "74. 1\n",
       "75. 1\n",
       "76. 1\n",
       "77. 1\n",
       "78. 1\n",
       "79. 1\n",
       "80. 1\n",
       "81. 1\n",
       "\n",
       "\n"
      ],
      "text/plain": [
       " [1] 1 1 1 1 1 1 1 1 1 1 1 1 1 1 1 1 1 1 1 1 1 1 1 1 1 1 1 1 1 1 1 1 1 1 1 1 1 1\n",
       "[39] 1 1 1 1 1 1 1 1 1 1 1 1 1 1 1 1 1 1 1 1 1 1 1 1 1 1 1 1 1 1 1 1 1 1 1 1 1 1\n",
       "[77] 1 1 1 1 1"
      ]
     },
     "metadata": {},
     "output_type": "display_data"
    }
   ],
   "source": [
    "rep(1,9^2)"
   ]
  },
  {
   "cell_type": "code",
   "execution_count": 83,
   "metadata": {},
   "outputs": [
    {
     "data": {
      "text/html": [
       "<table>\n",
       "<tbody>\n",
       "\t<tr><td>1</td><td>1</td><td>1</td><td>1</td><td>1</td><td>1</td><td>1</td><td>1</td><td>1</td></tr>\n",
       "\t<tr><td>1</td><td>1</td><td>1</td><td>1</td><td>1</td><td>1</td><td>1</td><td>1</td><td>1</td></tr>\n",
       "\t<tr><td>1</td><td>1</td><td>1</td><td>1</td><td>1</td><td>1</td><td>1</td><td>1</td><td>1</td></tr>\n",
       "\t<tr><td>1</td><td>1</td><td>1</td><td>1</td><td>1</td><td>1</td><td>1</td><td>1</td><td>1</td></tr>\n",
       "\t<tr><td>1</td><td>1</td><td>1</td><td>1</td><td>1</td><td>1</td><td>1</td><td>1</td><td>1</td></tr>\n",
       "\t<tr><td>1</td><td>1</td><td>1</td><td>1</td><td>1</td><td>1</td><td>1</td><td>1</td><td>1</td></tr>\n",
       "\t<tr><td>1</td><td>1</td><td>1</td><td>1</td><td>1</td><td>1</td><td>1</td><td>1</td><td>1</td></tr>\n",
       "\t<tr><td>1</td><td>1</td><td>1</td><td>1</td><td>1</td><td>1</td><td>1</td><td>1</td><td>1</td></tr>\n",
       "\t<tr><td>1</td><td>1</td><td>1</td><td>1</td><td>1</td><td>1</td><td>1</td><td>1</td><td>1</td></tr>\n",
       "</tbody>\n",
       "</table>\n"
      ],
      "text/latex": [
       "\\begin{tabular}{lllllllll}\n",
       "\t 1 & 1 & 1 & 1 & 1 & 1 & 1 & 1 & 1\\\\\n",
       "\t 1 & 1 & 1 & 1 & 1 & 1 & 1 & 1 & 1\\\\\n",
       "\t 1 & 1 & 1 & 1 & 1 & 1 & 1 & 1 & 1\\\\\n",
       "\t 1 & 1 & 1 & 1 & 1 & 1 & 1 & 1 & 1\\\\\n",
       "\t 1 & 1 & 1 & 1 & 1 & 1 & 1 & 1 & 1\\\\\n",
       "\t 1 & 1 & 1 & 1 & 1 & 1 & 1 & 1 & 1\\\\\n",
       "\t 1 & 1 & 1 & 1 & 1 & 1 & 1 & 1 & 1\\\\\n",
       "\t 1 & 1 & 1 & 1 & 1 & 1 & 1 & 1 & 1\\\\\n",
       "\t 1 & 1 & 1 & 1 & 1 & 1 & 1 & 1 & 1\\\\\n",
       "\\end{tabular}\n"
      ],
      "text/markdown": [
       "\n",
       "| 1 | 1 | 1 | 1 | 1 | 1 | 1 | 1 | 1 | \n",
       "| 1 | 1 | 1 | 1 | 1 | 1 | 1 | 1 | 1 | \n",
       "| 1 | 1 | 1 | 1 | 1 | 1 | 1 | 1 | 1 | \n",
       "| 1 | 1 | 1 | 1 | 1 | 1 | 1 | 1 | 1 | \n",
       "| 1 | 1 | 1 | 1 | 1 | 1 | 1 | 1 | 1 | \n",
       "| 1 | 1 | 1 | 1 | 1 | 1 | 1 | 1 | 1 | \n",
       "| 1 | 1 | 1 | 1 | 1 | 1 | 1 | 1 | 1 | \n",
       "| 1 | 1 | 1 | 1 | 1 | 1 | 1 | 1 | 1 | \n",
       "| 1 | 1 | 1 | 1 | 1 | 1 | 1 | 1 | 1 | \n",
       "\n",
       "\n"
      ],
      "text/plain": [
       "      [,1] [,2] [,3] [,4] [,5] [,6] [,7] [,8] [,9]\n",
       " [1,] 1    1    1    1    1    1    1    1    1   \n",
       " [2,] 1    1    1    1    1    1    1    1    1   \n",
       " [3,] 1    1    1    1    1    1    1    1    1   \n",
       " [4,] 1    1    1    1    1    1    1    1    1   \n",
       " [5,] 1    1    1    1    1    1    1    1    1   \n",
       " [6,] 1    1    1    1    1    1    1    1    1   \n",
       " [7,] 1    1    1    1    1    1    1    1    1   \n",
       " [8,] 1    1    1    1    1    1    1    1    1   \n",
       " [9,] 1    1    1    1    1    1    1    1    1   "
      ]
     },
     "metadata": {},
     "output_type": "display_data"
    }
   ],
   "source": [
    "mat = matrix(rep(1,9^2),nrow=9)\n",
    "mat"
   ]
  },
  {
   "cell_type": "code",
   "execution_count": 88,
   "metadata": {},
   "outputs": [],
   "source": [
    "for(i in 1:9){\n",
    "    for(j in 1:9){\n",
    "#         mat[i,j] = paste(i,\"*\",j,\"=\",i*j)\n",
    "        mat[i,j] = sprintf(\"%s * %s = %s\",i,j,i*j)\n",
    "    }\n",
    "}"
   ]
  },
  {
   "cell_type": "code",
   "execution_count": 89,
   "metadata": {
    "scrolled": true
   },
   "outputs": [
    {
     "data": {
      "text/html": [
       "<table>\n",
       "<tbody>\n",
       "\t<tr><td>1 * 1 = 1 </td><td>1 * 2 = 2 </td><td>1 * 3 = 3 </td><td>1 * 4 = 4 </td><td>1 * 5 = 5 </td><td>1 * 6 = 6 </td><td>1 * 7 = 7 </td><td>1 * 8 = 8 </td><td>1 * 9 = 9 </td></tr>\n",
       "\t<tr><td>2 * 1 = 2 </td><td>2 * 2 = 4 </td><td>2 * 3 = 6 </td><td>2 * 4 = 8 </td><td>2 * 5 = 10</td><td>2 * 6 = 12</td><td>2 * 7 = 14</td><td>2 * 8 = 16</td><td>2 * 9 = 18</td></tr>\n",
       "\t<tr><td>3 * 1 = 3 </td><td>3 * 2 = 6 </td><td>3 * 3 = 9 </td><td>3 * 4 = 12</td><td>3 * 5 = 15</td><td>3 * 6 = 18</td><td>3 * 7 = 21</td><td>3 * 8 = 24</td><td>3 * 9 = 27</td></tr>\n",
       "\t<tr><td>4 * 1 = 4 </td><td>4 * 2 = 8 </td><td>4 * 3 = 12</td><td>4 * 4 = 16</td><td>4 * 5 = 20</td><td>4 * 6 = 24</td><td>4 * 7 = 28</td><td>4 * 8 = 32</td><td>4 * 9 = 36</td></tr>\n",
       "\t<tr><td>5 * 1 = 5 </td><td>5 * 2 = 10</td><td>5 * 3 = 15</td><td>5 * 4 = 20</td><td>5 * 5 = 25</td><td>5 * 6 = 30</td><td>5 * 7 = 35</td><td>5 * 8 = 40</td><td>5 * 9 = 45</td></tr>\n",
       "\t<tr><td>6 * 1 = 6 </td><td>6 * 2 = 12</td><td>6 * 3 = 18</td><td>6 * 4 = 24</td><td>6 * 5 = 30</td><td>6 * 6 = 36</td><td>6 * 7 = 42</td><td>6 * 8 = 48</td><td>6 * 9 = 54</td></tr>\n",
       "\t<tr><td>7 * 1 = 7 </td><td>7 * 2 = 14</td><td>7 * 3 = 21</td><td>7 * 4 = 28</td><td>7 * 5 = 35</td><td>7 * 6 = 42</td><td>7 * 7 = 49</td><td>7 * 8 = 56</td><td>7 * 9 = 63</td></tr>\n",
       "\t<tr><td>8 * 1 = 8 </td><td>8 * 2 = 16</td><td>8 * 3 = 24</td><td>8 * 4 = 32</td><td>8 * 5 = 40</td><td>8 * 6 = 48</td><td>8 * 7 = 56</td><td>8 * 8 = 64</td><td>8 * 9 = 72</td></tr>\n",
       "\t<tr><td>9 * 1 = 9 </td><td>9 * 2 = 18</td><td>9 * 3 = 27</td><td>9 * 4 = 36</td><td>9 * 5 = 45</td><td>9 * 6 = 54</td><td>9 * 7 = 63</td><td>9 * 8 = 72</td><td>9 * 9 = 81</td></tr>\n",
       "</tbody>\n",
       "</table>\n"
      ],
      "text/latex": [
       "\\begin{tabular}{lllllllll}\n",
       "\t 1 * 1 = 1  & 1 * 2 = 2  & 1 * 3 = 3  & 1 * 4 = 4  & 1 * 5 = 5  & 1 * 6 = 6  & 1 * 7 = 7  & 1 * 8 = 8  & 1 * 9 = 9 \\\\\n",
       "\t 2 * 1 = 2  & 2 * 2 = 4  & 2 * 3 = 6  & 2 * 4 = 8  & 2 * 5 = 10 & 2 * 6 = 12 & 2 * 7 = 14 & 2 * 8 = 16 & 2 * 9 = 18\\\\\n",
       "\t 3 * 1 = 3  & 3 * 2 = 6  & 3 * 3 = 9  & 3 * 4 = 12 & 3 * 5 = 15 & 3 * 6 = 18 & 3 * 7 = 21 & 3 * 8 = 24 & 3 * 9 = 27\\\\\n",
       "\t 4 * 1 = 4  & 4 * 2 = 8  & 4 * 3 = 12 & 4 * 4 = 16 & 4 * 5 = 20 & 4 * 6 = 24 & 4 * 7 = 28 & 4 * 8 = 32 & 4 * 9 = 36\\\\\n",
       "\t 5 * 1 = 5  & 5 * 2 = 10 & 5 * 3 = 15 & 5 * 4 = 20 & 5 * 5 = 25 & 5 * 6 = 30 & 5 * 7 = 35 & 5 * 8 = 40 & 5 * 9 = 45\\\\\n",
       "\t 6 * 1 = 6  & 6 * 2 = 12 & 6 * 3 = 18 & 6 * 4 = 24 & 6 * 5 = 30 & 6 * 6 = 36 & 6 * 7 = 42 & 6 * 8 = 48 & 6 * 9 = 54\\\\\n",
       "\t 7 * 1 = 7  & 7 * 2 = 14 & 7 * 3 = 21 & 7 * 4 = 28 & 7 * 5 = 35 & 7 * 6 = 42 & 7 * 7 = 49 & 7 * 8 = 56 & 7 * 9 = 63\\\\\n",
       "\t 8 * 1 = 8  & 8 * 2 = 16 & 8 * 3 = 24 & 8 * 4 = 32 & 8 * 5 = 40 & 8 * 6 = 48 & 8 * 7 = 56 & 8 * 8 = 64 & 8 * 9 = 72\\\\\n",
       "\t 9 * 1 = 9  & 9 * 2 = 18 & 9 * 3 = 27 & 9 * 4 = 36 & 9 * 5 = 45 & 9 * 6 = 54 & 9 * 7 = 63 & 9 * 8 = 72 & 9 * 9 = 81\\\\\n",
       "\\end{tabular}\n"
      ],
      "text/markdown": [
       "\n",
       "| 1 * 1 = 1  | 1 * 2 = 2  | 1 * 3 = 3  | 1 * 4 = 4  | 1 * 5 = 5  | 1 * 6 = 6  | 1 * 7 = 7  | 1 * 8 = 8  | 1 * 9 = 9  | \n",
       "| 2 * 1 = 2  | 2 * 2 = 4  | 2 * 3 = 6  | 2 * 4 = 8  | 2 * 5 = 10 | 2 * 6 = 12 | 2 * 7 = 14 | 2 * 8 = 16 | 2 * 9 = 18 | \n",
       "| 3 * 1 = 3  | 3 * 2 = 6  | 3 * 3 = 9  | 3 * 4 = 12 | 3 * 5 = 15 | 3 * 6 = 18 | 3 * 7 = 21 | 3 * 8 = 24 | 3 * 9 = 27 | \n",
       "| 4 * 1 = 4  | 4 * 2 = 8  | 4 * 3 = 12 | 4 * 4 = 16 | 4 * 5 = 20 | 4 * 6 = 24 | 4 * 7 = 28 | 4 * 8 = 32 | 4 * 9 = 36 | \n",
       "| 5 * 1 = 5  | 5 * 2 = 10 | 5 * 3 = 15 | 5 * 4 = 20 | 5 * 5 = 25 | 5 * 6 = 30 | 5 * 7 = 35 | 5 * 8 = 40 | 5 * 9 = 45 | \n",
       "| 6 * 1 = 6  | 6 * 2 = 12 | 6 * 3 = 18 | 6 * 4 = 24 | 6 * 5 = 30 | 6 * 6 = 36 | 6 * 7 = 42 | 6 * 8 = 48 | 6 * 9 = 54 | \n",
       "| 7 * 1 = 7  | 7 * 2 = 14 | 7 * 3 = 21 | 7 * 4 = 28 | 7 * 5 = 35 | 7 * 6 = 42 | 7 * 7 = 49 | 7 * 8 = 56 | 7 * 9 = 63 | \n",
       "| 8 * 1 = 8  | 8 * 2 = 16 | 8 * 3 = 24 | 8 * 4 = 32 | 8 * 5 = 40 | 8 * 6 = 48 | 8 * 7 = 56 | 8 * 8 = 64 | 8 * 9 = 72 | \n",
       "| 9 * 1 = 9  | 9 * 2 = 18 | 9 * 3 = 27 | 9 * 4 = 36 | 9 * 5 = 45 | 9 * 6 = 54 | 9 * 7 = 63 | 9 * 8 = 72 | 9 * 9 = 81 | \n",
       "\n",
       "\n"
      ],
      "text/plain": [
       "      [,1]      [,2]       [,3]       [,4]       [,5]       [,6]      \n",
       " [1,] 1 * 1 = 1 1 * 2 = 2  1 * 3 = 3  1 * 4 = 4  1 * 5 = 5  1 * 6 = 6 \n",
       " [2,] 2 * 1 = 2 2 * 2 = 4  2 * 3 = 6  2 * 4 = 8  2 * 5 = 10 2 * 6 = 12\n",
       " [3,] 3 * 1 = 3 3 * 2 = 6  3 * 3 = 9  3 * 4 = 12 3 * 5 = 15 3 * 6 = 18\n",
       " [4,] 4 * 1 = 4 4 * 2 = 8  4 * 3 = 12 4 * 4 = 16 4 * 5 = 20 4 * 6 = 24\n",
       " [5,] 5 * 1 = 5 5 * 2 = 10 5 * 3 = 15 5 * 4 = 20 5 * 5 = 25 5 * 6 = 30\n",
       " [6,] 6 * 1 = 6 6 * 2 = 12 6 * 3 = 18 6 * 4 = 24 6 * 5 = 30 6 * 6 = 36\n",
       " [7,] 7 * 1 = 7 7 * 2 = 14 7 * 3 = 21 7 * 4 = 28 7 * 5 = 35 7 * 6 = 42\n",
       " [8,] 8 * 1 = 8 8 * 2 = 16 8 * 3 = 24 8 * 4 = 32 8 * 5 = 40 8 * 6 = 48\n",
       " [9,] 9 * 1 = 9 9 * 2 = 18 9 * 3 = 27 9 * 4 = 36 9 * 5 = 45 9 * 6 = 54\n",
       "      [,7]       [,8]       [,9]      \n",
       " [1,] 1 * 7 = 7  1 * 8 = 8  1 * 9 = 9 \n",
       " [2,] 2 * 7 = 14 2 * 8 = 16 2 * 9 = 18\n",
       " [3,] 3 * 7 = 21 3 * 8 = 24 3 * 9 = 27\n",
       " [4,] 4 * 7 = 28 4 * 8 = 32 4 * 9 = 36\n",
       " [5,] 5 * 7 = 35 5 * 8 = 40 5 * 9 = 45\n",
       " [6,] 6 * 7 = 42 6 * 8 = 48 6 * 9 = 54\n",
       " [7,] 7 * 7 = 49 7 * 8 = 56 7 * 9 = 63\n",
       " [8,] 8 * 7 = 56 8 * 8 = 64 8 * 9 = 72\n",
       " [9,] 9 * 7 = 63 9 * 8 = 72 9 * 9 = 81"
      ]
     },
     "metadata": {},
     "output_type": "display_data"
    }
   ],
   "source": [
    "mat"
   ]
  },
  {
   "cell_type": "code",
   "execution_count": 90,
   "metadata": {},
   "outputs": [],
   "source": [
    "mat1 = matrix(1:9,nrow = 9)\n",
    "mat2 = matrix(1:9,nrow = 1)"
   ]
  },
  {
   "cell_type": "code",
   "execution_count": 91,
   "metadata": {},
   "outputs": [
    {
     "data": {
      "text/html": [
       "<table>\n",
       "<tbody>\n",
       "\t<tr><td>1</td></tr>\n",
       "\t<tr><td>2</td></tr>\n",
       "\t<tr><td>3</td></tr>\n",
       "\t<tr><td>4</td></tr>\n",
       "\t<tr><td>5</td></tr>\n",
       "\t<tr><td>6</td></tr>\n",
       "\t<tr><td>7</td></tr>\n",
       "\t<tr><td>8</td></tr>\n",
       "\t<tr><td>9</td></tr>\n",
       "</tbody>\n",
       "</table>\n"
      ],
      "text/latex": [
       "\\begin{tabular}{l}\n",
       "\t 1\\\\\n",
       "\t 2\\\\\n",
       "\t 3\\\\\n",
       "\t 4\\\\\n",
       "\t 5\\\\\n",
       "\t 6\\\\\n",
       "\t 7\\\\\n",
       "\t 8\\\\\n",
       "\t 9\\\\\n",
       "\\end{tabular}\n"
      ],
      "text/markdown": [
       "\n",
       "| 1 | \n",
       "| 2 | \n",
       "| 3 | \n",
       "| 4 | \n",
       "| 5 | \n",
       "| 6 | \n",
       "| 7 | \n",
       "| 8 | \n",
       "| 9 | \n",
       "\n",
       "\n"
      ],
      "text/plain": [
       "      [,1]\n",
       " [1,] 1   \n",
       " [2,] 2   \n",
       " [3,] 3   \n",
       " [4,] 4   \n",
       " [5,] 5   \n",
       " [6,] 6   \n",
       " [7,] 7   \n",
       " [8,] 8   \n",
       " [9,] 9   "
      ]
     },
     "metadata": {},
     "output_type": "display_data"
    }
   ],
   "source": [
    "mat1"
   ]
  },
  {
   "cell_type": "code",
   "execution_count": 92,
   "metadata": {},
   "outputs": [
    {
     "data": {
      "text/html": [
       "<table>\n",
       "<tbody>\n",
       "\t<tr><td>1</td><td>2</td><td>3</td><td>4</td><td>5</td><td>6</td><td>7</td><td>8</td><td>9</td></tr>\n",
       "</tbody>\n",
       "</table>\n"
      ],
      "text/latex": [
       "\\begin{tabular}{lllllllll}\n",
       "\t 1 & 2 & 3 & 4 & 5 & 6 & 7 & 8 & 9\\\\\n",
       "\\end{tabular}\n"
      ],
      "text/markdown": [
       "\n",
       "| 1 | 2 | 3 | 4 | 5 | 6 | 7 | 8 | 9 | \n",
       "\n",
       "\n"
      ],
      "text/plain": [
       "     [,1] [,2] [,3] [,4] [,5] [,6] [,7] [,8] [,9]\n",
       "[1,] 1    2    3    4    5    6    7    8    9   "
      ]
     },
     "metadata": {},
     "output_type": "display_data"
    }
   ],
   "source": [
    "mat2"
   ]
  },
  {
   "cell_type": "code",
   "execution_count": 93,
   "metadata": {},
   "outputs": [
    {
     "data": {
      "text/html": [
       "<table>\n",
       "<tbody>\n",
       "\t<tr><td>1 </td><td> 2</td><td> 3</td><td> 4</td><td> 5</td><td> 6</td><td> 7</td><td> 8</td><td> 9</td></tr>\n",
       "\t<tr><td>2 </td><td> 4</td><td> 6</td><td> 8</td><td>10</td><td>12</td><td>14</td><td>16</td><td>18</td></tr>\n",
       "\t<tr><td>3 </td><td> 6</td><td> 9</td><td>12</td><td>15</td><td>18</td><td>21</td><td>24</td><td>27</td></tr>\n",
       "\t<tr><td>4 </td><td> 8</td><td>12</td><td>16</td><td>20</td><td>24</td><td>28</td><td>32</td><td>36</td></tr>\n",
       "\t<tr><td>5 </td><td>10</td><td>15</td><td>20</td><td>25</td><td>30</td><td>35</td><td>40</td><td>45</td></tr>\n",
       "\t<tr><td>6 </td><td>12</td><td>18</td><td>24</td><td>30</td><td>36</td><td>42</td><td>48</td><td>54</td></tr>\n",
       "\t<tr><td>7 </td><td>14</td><td>21</td><td>28</td><td>35</td><td>42</td><td>49</td><td>56</td><td>63</td></tr>\n",
       "\t<tr><td>8 </td><td>16</td><td>24</td><td>32</td><td>40</td><td>48</td><td>56</td><td>64</td><td>72</td></tr>\n",
       "\t<tr><td>9 </td><td>18</td><td>27</td><td>36</td><td>45</td><td>54</td><td>63</td><td>72</td><td>81</td></tr>\n",
       "</tbody>\n",
       "</table>\n"
      ],
      "text/latex": [
       "\\begin{tabular}{lllllllll}\n",
       "\t 1  &  2 &  3 &  4 &  5 &  6 &  7 &  8 &  9\\\\\n",
       "\t 2  &  4 &  6 &  8 & 10 & 12 & 14 & 16 & 18\\\\\n",
       "\t 3  &  6 &  9 & 12 & 15 & 18 & 21 & 24 & 27\\\\\n",
       "\t 4  &  8 & 12 & 16 & 20 & 24 & 28 & 32 & 36\\\\\n",
       "\t 5  & 10 & 15 & 20 & 25 & 30 & 35 & 40 & 45\\\\\n",
       "\t 6  & 12 & 18 & 24 & 30 & 36 & 42 & 48 & 54\\\\\n",
       "\t 7  & 14 & 21 & 28 & 35 & 42 & 49 & 56 & 63\\\\\n",
       "\t 8  & 16 & 24 & 32 & 40 & 48 & 56 & 64 & 72\\\\\n",
       "\t 9  & 18 & 27 & 36 & 45 & 54 & 63 & 72 & 81\\\\\n",
       "\\end{tabular}\n"
      ],
      "text/markdown": [
       "\n",
       "| 1  |  2 |  3 |  4 |  5 |  6 |  7 |  8 |  9 | \n",
       "| 2  |  4 |  6 |  8 | 10 | 12 | 14 | 16 | 18 | \n",
       "| 3  |  6 |  9 | 12 | 15 | 18 | 21 | 24 | 27 | \n",
       "| 4  |  8 | 12 | 16 | 20 | 24 | 28 | 32 | 36 | \n",
       "| 5  | 10 | 15 | 20 | 25 | 30 | 35 | 40 | 45 | \n",
       "| 6  | 12 | 18 | 24 | 30 | 36 | 42 | 48 | 54 | \n",
       "| 7  | 14 | 21 | 28 | 35 | 42 | 49 | 56 | 63 | \n",
       "| 8  | 16 | 24 | 32 | 40 | 48 | 56 | 64 | 72 | \n",
       "| 9  | 18 | 27 | 36 | 45 | 54 | 63 | 72 | 81 | \n",
       "\n",
       "\n"
      ],
      "text/plain": [
       "      [,1] [,2] [,3] [,4] [,5] [,6] [,7] [,8] [,9]\n",
       " [1,] 1     2    3    4    5    6    7    8    9  \n",
       " [2,] 2     4    6    8   10   12   14   16   18  \n",
       " [3,] 3     6    9   12   15   18   21   24   27  \n",
       " [4,] 4     8   12   16   20   24   28   32   36  \n",
       " [5,] 5    10   15   20   25   30   35   40   45  \n",
       " [6,] 6    12   18   24   30   36   42   48   54  \n",
       " [7,] 7    14   21   28   35   42   49   56   63  \n",
       " [8,] 8    16   24   32   40   48   56   64   72  \n",
       " [9,] 9    18   27   36   45   54   63   72   81  "
      ]
     },
     "metadata": {},
     "output_type": "display_data"
    }
   ],
   "source": [
    "mat1 %*% mat2"
   ]
  },
  {
   "cell_type": "code",
   "execution_count": 94,
   "metadata": {},
   "outputs": [],
   "source": [
    "?sum"
   ]
  },
  {
   "cell_type": "code",
   "execution_count": 95,
   "metadata": {},
   "outputs": [],
   "source": [
    "f = function(a){\n",
    "    return(a+3)\n",
    "}"
   ]
  },
  {
   "cell_type": "code",
   "execution_count": 96,
   "metadata": {},
   "outputs": [
    {
     "data": {
      "text/html": [
       "7"
      ],
      "text/latex": [
       "7"
      ],
      "text/markdown": [
       "7"
      ],
      "text/plain": [
       "[1] 7"
      ]
     },
     "metadata": {},
     "output_type": "display_data"
    }
   ],
   "source": [
    "f(a=4)"
   ]
  },
  {
   "cell_type": "code",
   "execution_count": 97,
   "metadata": {},
   "outputs": [],
   "source": [
    "f2 = function(a){\n",
    "    a+3\n",
    "}"
   ]
  },
  {
   "cell_type": "code",
   "execution_count": 98,
   "metadata": {},
   "outputs": [
    {
     "data": {
      "text/html": [
       "7"
      ],
      "text/latex": [
       "7"
      ],
      "text/markdown": [
       "7"
      ],
      "text/plain": [
       "[1] 7"
      ]
     },
     "metadata": {},
     "output_type": "display_data"
    }
   ],
   "source": [
    "f2(a=4)"
   ]
  },
  {
   "cell_type": "code",
   "execution_count": 99,
   "metadata": {},
   "outputs": [],
   "source": [
    "f3 = function(a, b = 2, c = NULL) {\n",
    "   return(a+b)\n",
    "}"
   ]
  },
  {
   "cell_type": "code",
   "execution_count": 101,
   "metadata": {},
   "outputs": [
    {
     "data": {
      "text/html": [
       "6"
      ],
      "text/latex": [
       "6"
      ],
      "text/markdown": [
       "6"
      ],
      "text/plain": [
       "[1] 6"
      ]
     },
     "metadata": {},
     "output_type": "display_data"
    }
   ],
   "source": [
    "f3(a=4)"
   ]
  },
  {
   "cell_type": "code",
   "execution_count": 102,
   "metadata": {},
   "outputs": [],
   "source": [
    "f4 = function(a, b = 2, c = NULL) {\n",
    "   return(b)\n",
    "}"
   ]
  },
  {
   "cell_type": "code",
   "execution_count": 103,
   "metadata": {},
   "outputs": [
    {
     "data": {
      "text/html": [
       "2"
      ],
      "text/latex": [
       "2"
      ],
      "text/markdown": [
       "2"
      ],
      "text/plain": [
       "[1] 2"
      ]
     },
     "metadata": {},
     "output_type": "display_data"
    }
   ],
   "source": [
    "f4()"
   ]
  },
  {
   "cell_type": "code",
   "execution_count": 105,
   "metadata": {},
   "outputs": [],
   "source": [
    "b=5\n",
    "f5 = function() {\n",
    "    b = 2\n",
    "    return(b)\n",
    "}"
   ]
  },
  {
   "cell_type": "code",
   "execution_count": 106,
   "metadata": {},
   "outputs": [
    {
     "data": {
      "text/html": [
       "2"
      ],
      "text/latex": [
       "2"
      ],
      "text/markdown": [
       "2"
      ],
      "text/plain": [
       "[1] 2"
      ]
     },
     "metadata": {},
     "output_type": "display_data"
    }
   ],
   "source": [
    "f5()"
   ]
  },
  {
   "cell_type": "code",
   "execution_count": null,
   "metadata": {},
   "outputs": [],
   "source": []
  }
 ],
 "metadata": {
  "kernelspec": {
   "display_name": "R",
   "language": "R",
   "name": "ir"
  },
  "language_info": {
   "codemirror_mode": "r",
   "file_extension": ".r",
   "mimetype": "text/x-r-source",
   "name": "R",
   "pygments_lexer": "r",
   "version": "3.5.1"
  }
 },
 "nbformat": 4,
 "nbformat_minor": 2
}
