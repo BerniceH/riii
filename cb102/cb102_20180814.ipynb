{
 "cells": [
  {
   "cell_type": "markdown",
   "metadata": {},
   "source": [
    "### p70 practice"
   ]
  },
  {
   "cell_type": "code",
   "execution_count": 2,
   "metadata": {},
   "outputs": [
    {
     "data": {
      "text/html": [
       "'/Users/YorkLin/lecture/riii/cb102'"
      ],
      "text/latex": [
       "'/Users/YorkLin/lecture/riii/cb102'"
      ],
      "text/markdown": [
       "'/Users/YorkLin/lecture/riii/cb102'"
      ],
      "text/plain": [
       "[1] \"/Users/YorkLin/lecture/riii/cb102\""
      ]
     },
     "metadata": {},
     "output_type": "display_data"
    }
   ],
   "source": [
    "getwd()"
   ]
  },
  {
   "cell_type": "code",
   "execution_count": 3,
   "metadata": {},
   "outputs": [],
   "source": [
    "setwd('/Users/YorkLin/lecture/riii')"
   ]
  },
  {
   "cell_type": "code",
   "execution_count": 4,
   "metadata": {},
   "outputs": [
    {
     "data": {
      "text/html": [
       "'/Users/YorkLin/lecture/riii'"
      ],
      "text/latex": [
       "'/Users/YorkLin/lecture/riii'"
      ],
      "text/markdown": [
       "'/Users/YorkLin/lecture/riii'"
      ],
      "text/plain": [
       "[1] \"/Users/YorkLin/lecture/riii\""
      ]
     },
     "metadata": {},
     "output_type": "display_data"
    }
   ],
   "source": [
    "getwd()"
   ]
  },
  {
   "cell_type": "code",
   "execution_count": 5,
   "metadata": {},
   "outputs": [],
   "source": [
    "tw2330 = read.csv('./data/2330.csv',header=T)"
   ]
  },
  {
   "cell_type": "code",
   "execution_count": 6,
   "metadata": {},
   "outputs": [
    {
     "data": {
      "text/html": [
       "<table>\n",
       "<thead><tr><th scope=col>Date</th><th scope=col>Open</th><th scope=col>High</th><th scope=col>Low</th><th scope=col>Close</th><th scope=col>Volume</th></tr></thead>\n",
       "<tbody>\n",
       "\t<tr><td>2018-04-30</td><td>224.5     </td><td>228.0     </td><td>222.5     </td><td>227.0     </td><td> 6448117  </td></tr>\n",
       "\t<tr><td>2018-04-27</td><td>225.0     </td><td>225.5     </td><td>221.0     </td><td>223.5     </td><td> 7619247  </td></tr>\n",
       "\t<tr><td>2018-04-26</td><td>225.0     </td><td>225.5     </td><td>221.0     </td><td>222.0     </td><td>10731921  </td></tr>\n",
       "\t<tr><td>2018-04-25</td><td>225.5     </td><td>226.0     </td><td>224.0     </td><td>225.0     </td><td>10535437  </td></tr>\n",
       "\t<tr><td>2018-04-24</td><td>225.0     </td><td>227.5     </td><td>225.0     </td><td>227.0     </td><td> 9272078  </td></tr>\n",
       "\t<tr><td>2018-04-23</td><td>226.5     </td><td>227.5     </td><td>225.0     </td><td>226.5     </td><td>16080436  </td></tr>\n",
       "</tbody>\n",
       "</table>\n"
      ],
      "text/latex": [
       "\\begin{tabular}{r|llllll}\n",
       " Date & Open & High & Low & Close & Volume\\\\\n",
       "\\hline\n",
       "\t 2018-04-30 & 224.5      & 228.0      & 222.5      & 227.0      &  6448117  \\\\\n",
       "\t 2018-04-27 & 225.0      & 225.5      & 221.0      & 223.5      &  7619247  \\\\\n",
       "\t 2018-04-26 & 225.0      & 225.5      & 221.0      & 222.0      & 10731921  \\\\\n",
       "\t 2018-04-25 & 225.5      & 226.0      & 224.0      & 225.0      & 10535437  \\\\\n",
       "\t 2018-04-24 & 225.0      & 227.5      & 225.0      & 227.0      &  9272078  \\\\\n",
       "\t 2018-04-23 & 226.5      & 227.5      & 225.0      & 226.5      & 16080436  \\\\\n",
       "\\end{tabular}\n"
      ],
      "text/markdown": [
       "\n",
       "Date | Open | High | Low | Close | Volume | \n",
       "|---|---|---|---|---|---|\n",
       "| 2018-04-30 | 224.5      | 228.0      | 222.5      | 227.0      |  6448117   | \n",
       "| 2018-04-27 | 225.0      | 225.5      | 221.0      | 223.5      |  7619247   | \n",
       "| 2018-04-26 | 225.0      | 225.5      | 221.0      | 222.0      | 10731921   | \n",
       "| 2018-04-25 | 225.5      | 226.0      | 224.0      | 225.0      | 10535437   | \n",
       "| 2018-04-24 | 225.0      | 227.5      | 225.0      | 227.0      |  9272078   | \n",
       "| 2018-04-23 | 226.5      | 227.5      | 225.0      | 226.5      | 16080436   | \n",
       "\n",
       "\n"
      ],
      "text/plain": [
       "  Date       Open  High  Low   Close Volume  \n",
       "1 2018-04-30 224.5 228.0 222.5 227.0  6448117\n",
       "2 2018-04-27 225.0 225.5 221.0 223.5  7619247\n",
       "3 2018-04-26 225.0 225.5 221.0 222.0 10731921\n",
       "4 2018-04-25 225.5 226.0 224.0 225.0 10535437\n",
       "5 2018-04-24 225.0 227.5 225.0 227.0  9272078\n",
       "6 2018-04-23 226.5 227.5 225.0 226.5 16080436"
      ]
     },
     "metadata": {},
     "output_type": "display_data"
    }
   ],
   "source": [
    "head(tw2330)"
   ]
  },
  {
   "cell_type": "code",
   "execution_count": 8,
   "metadata": {},
   "outputs": [
    {
     "data": {
      "text/html": [
       "<table>\n",
       "<thead><tr><th></th><th scope=col>Date</th><th scope=col>Open</th><th scope=col>High</th><th scope=col>Low</th><th scope=col>Close</th><th scope=col>Volume</th></tr></thead>\n",
       "<tbody>\n",
       "\t<tr><th scope=row>1792</th><td>2011-01-14</td><td>74.4      </td><td>74.8      </td><td>74.1      </td><td>74.8      </td><td> 2220105  </td></tr>\n",
       "\t<tr><th scope=row>1793</th><td>2011-01-13</td><td>75.1      </td><td>75.3      </td><td>74.2      </td><td>74.6      </td><td> 6938412  </td></tr>\n",
       "\t<tr><th scope=row>1794</th><td>2011-01-12</td><td>74.7      </td><td>75.0      </td><td>74.7      </td><td>74.9      </td><td> 4014373  </td></tr>\n",
       "\t<tr><th scope=row>1795</th><td>2011-01-11</td><td>74.1      </td><td>74.9      </td><td>73.8      </td><td>74.5      </td><td> 6162046  </td></tr>\n",
       "\t<tr><th scope=row>1796</th><td>2011-01-10</td><td>73.0      </td><td>74.2      </td><td>72.6      </td><td>74.2      </td><td> 5110968  </td></tr>\n",
       "\t<tr><th scope=row>1797</th><td>2011-01-07</td><td>71.9      </td><td>73.0      </td><td>71.9      </td><td>72.5      </td><td>12335419  </td></tr>\n",
       "\t<tr><th scope=row>1798</th><td>2011-01-06</td><td>69.8      </td><td>71.0      </td><td>69.7      </td><td>71.0      </td><td> 3295607  </td></tr>\n",
       "\t<tr><th scope=row>1799</th><td>2011-01-05</td><td>70.9      </td><td>71.1      </td><td>69.6      </td><td>69.8      </td><td> 3811819  </td></tr>\n",
       "\t<tr><th scope=row>1800</th><td>2011-01-04</td><td>71.0      </td><td>71.6      </td><td>70.8      </td><td>71.2      </td><td> 2567400  </td></tr>\n",
       "\t<tr><th scope=row>1801</th><td>2011-01-03</td><td>71.5      </td><td>71.6      </td><td>70.8      </td><td>71.1      </td><td> 2541551  </td></tr>\n",
       "</tbody>\n",
       "</table>\n"
      ],
      "text/latex": [
       "\\begin{tabular}{r|llllll}\n",
       "  & Date & Open & High & Low & Close & Volume\\\\\n",
       "\\hline\n",
       "\t1792 & 2011-01-14 & 74.4       & 74.8       & 74.1       & 74.8       &  2220105  \\\\\n",
       "\t1793 & 2011-01-13 & 75.1       & 75.3       & 74.2       & 74.6       &  6938412  \\\\\n",
       "\t1794 & 2011-01-12 & 74.7       & 75.0       & 74.7       & 74.9       &  4014373  \\\\\n",
       "\t1795 & 2011-01-11 & 74.1       & 74.9       & 73.8       & 74.5       &  6162046  \\\\\n",
       "\t1796 & 2011-01-10 & 73.0       & 74.2       & 72.6       & 74.2       &  5110968  \\\\\n",
       "\t1797 & 2011-01-07 & 71.9       & 73.0       & 71.9       & 72.5       & 12335419  \\\\\n",
       "\t1798 & 2011-01-06 & 69.8       & 71.0       & 69.7       & 71.0       &  3295607  \\\\\n",
       "\t1799 & 2011-01-05 & 70.9       & 71.1       & 69.6       & 69.8       &  3811819  \\\\\n",
       "\t1800 & 2011-01-04 & 71.0       & 71.6       & 70.8       & 71.2       &  2567400  \\\\\n",
       "\t1801 & 2011-01-03 & 71.5       & 71.6       & 70.8       & 71.1       &  2541551  \\\\\n",
       "\\end{tabular}\n"
      ],
      "text/markdown": [
       "\n",
       "| <!--/--> | Date | Open | High | Low | Close | Volume | \n",
       "|---|---|---|---|---|---|---|---|---|---|\n",
       "| 1792 | 2011-01-14 | 74.4       | 74.8       | 74.1       | 74.8       |  2220105   | \n",
       "| 1793 | 2011-01-13 | 75.1       | 75.3       | 74.2       | 74.6       |  6938412   | \n",
       "| 1794 | 2011-01-12 | 74.7       | 75.0       | 74.7       | 74.9       |  4014373   | \n",
       "| 1795 | 2011-01-11 | 74.1       | 74.9       | 73.8       | 74.5       |  6162046   | \n",
       "| 1796 | 2011-01-10 | 73.0       | 74.2       | 72.6       | 74.2       |  5110968   | \n",
       "| 1797 | 2011-01-07 | 71.9       | 73.0       | 71.9       | 72.5       | 12335419   | \n",
       "| 1798 | 2011-01-06 | 69.8       | 71.0       | 69.7       | 71.0       |  3295607   | \n",
       "| 1799 | 2011-01-05 | 70.9       | 71.1       | 69.6       | 69.8       |  3811819   | \n",
       "| 1800 | 2011-01-04 | 71.0       | 71.6       | 70.8       | 71.2       |  2567400   | \n",
       "| 1801 | 2011-01-03 | 71.5       | 71.6       | 70.8       | 71.1       |  2541551   | \n",
       "\n",
       "\n"
      ],
      "text/plain": [
       "     Date       Open High Low  Close Volume  \n",
       "1792 2011-01-14 74.4 74.8 74.1 74.8   2220105\n",
       "1793 2011-01-13 75.1 75.3 74.2 74.6   6938412\n",
       "1794 2011-01-12 74.7 75.0 74.7 74.9   4014373\n",
       "1795 2011-01-11 74.1 74.9 73.8 74.5   6162046\n",
       "1796 2011-01-10 73.0 74.2 72.6 74.2   5110968\n",
       "1797 2011-01-07 71.9 73.0 71.9 72.5  12335419\n",
       "1798 2011-01-06 69.8 71.0 69.7 71.0   3295607\n",
       "1799 2011-01-05 70.9 71.1 69.6 69.8   3811819\n",
       "1800 2011-01-04 71.0 71.6 70.8 71.2   2567400\n",
       "1801 2011-01-03 71.5 71.6 70.8 71.1   2541551"
      ]
     },
     "metadata": {},
     "output_type": "display_data"
    }
   ],
   "source": [
    "tail(tw2330,10)"
   ]
  },
  {
   "cell_type": "code",
   "execution_count": 9,
   "metadata": {},
   "outputs": [
    {
     "name": "stdout",
     "output_type": "stream",
     "text": [
      "'data.frame':\t1801 obs. of  6 variables:\n",
      " $ Date  : Factor w/ 1801 levels \"2011-01-03\",\"2011-01-04\",..: 1801 1800 1799 1798 1797 1796 1795 1794 1793 1792 ...\n",
      " $ Open  : num  224 225 225 226 225 ...\n",
      " $ High  : num  228 226 226 226 228 ...\n",
      " $ Low   : num  222 221 221 224 225 ...\n",
      " $ Close : num  227 224 222 225 227 ...\n",
      " $ Volume: int  6448117 7619247 10731921 10535437 9272078 16080436 29507056 7758149 10130508 10232257 ...\n"
     ]
    }
   ],
   "source": [
    "str(tw2330)"
   ]
  },
  {
   "cell_type": "code",
   "execution_count": 11,
   "metadata": {},
   "outputs": [
    {
     "data": {
      "text/html": [
       "'Date'"
      ],
      "text/latex": [
       "'Date'"
      ],
      "text/markdown": [
       "'Date'"
      ],
      "text/plain": [
       "[1] \"Date\""
      ]
     },
     "metadata": {},
     "output_type": "display_data"
    }
   ],
   "source": [
    "class( as.Date(tw2330$Date) )"
   ]
  },
  {
   "cell_type": "code",
   "execution_count": 12,
   "metadata": {},
   "outputs": [],
   "source": [
    "tw2330$Date = as.Date(tw2330$Date)"
   ]
  },
  {
   "cell_type": "code",
   "execution_count": 13,
   "metadata": {},
   "outputs": [
    {
     "name": "stdout",
     "output_type": "stream",
     "text": [
      "'data.frame':\t1801 obs. of  6 variables:\n",
      " $ Date  : Date, format: \"2018-04-30\" \"2018-04-27\" ...\n",
      " $ Open  : num  224 225 225 226 225 ...\n",
      " $ High  : num  228 226 226 226 228 ...\n",
      " $ Low   : num  222 221 221 224 225 ...\n",
      " $ Close : num  227 224 222 225 227 ...\n",
      " $ Volume: int  6448117 7619247 10731921 10535437 9272078 16080436 29507056 7758149 10130508 10232257 ...\n"
     ]
    }
   ],
   "source": [
    "str(tw2330)"
   ]
  },
  {
   "cell_type": "code",
   "execution_count": 15,
   "metadata": {},
   "outputs": [
    {
     "data": {
      "text/html": [
       "<time datetime=\"2018-04-30\">2018-04-30</time>"
      ],
      "text/latex": [
       "2018-04-30"
      ],
      "text/markdown": [
       "2018-04-30"
      ],
      "text/plain": [
       "[1] \"2018-04-30\""
      ]
     },
     "metadata": {},
     "output_type": "display_data"
    }
   ],
   "source": [
    "tw2330$Date[1]"
   ]
  },
  {
   "cell_type": "code",
   "execution_count": 16,
   "metadata": {},
   "outputs": [
    {
     "data": {
      "text/html": [
       "<time datetime=\"2018-04-27\">2018-04-27</time>"
      ],
      "text/latex": [
       "2018-04-27"
      ],
      "text/markdown": [
       "2018-04-27"
      ],
      "text/plain": [
       "[1] \"2018-04-27\""
      ]
     },
     "metadata": {},
     "output_type": "display_data"
    }
   ],
   "source": [
    "tw2330$Date[2]"
   ]
  },
  {
   "cell_type": "code",
   "execution_count": 17,
   "metadata": {},
   "outputs": [
    {
     "data": {
      "text/html": [
       "TRUE"
      ],
      "text/latex": [
       "TRUE"
      ],
      "text/markdown": [
       "TRUE"
      ],
      "text/plain": [
       "[1] TRUE"
      ]
     },
     "metadata": {},
     "output_type": "display_data"
    }
   ],
   "source": [
    "tw2330$Date[1] > tw2330$Date[2]"
   ]
  },
  {
   "cell_type": "code",
   "execution_count": 21,
   "metadata": {},
   "outputs": [],
   "source": [
    "tw2330_2017 = tw2330[tw2330$Date >= '2017-01-01' & tw2330$Date <= '2017-12-31',]"
   ]
  },
  {
   "cell_type": "code",
   "execution_count": 25,
   "metadata": {},
   "outputs": [
    {
     "data": {
      "text/html": [
       "<table>\n",
       "<thead><tr><th></th><th scope=col>Date</th><th scope=col>Open</th><th scope=col>High</th><th scope=col>Low</th><th scope=col>Close</th><th scope=col>Volume</th></tr></thead>\n",
       "<tbody>\n",
       "\t<tr><th scope=row>102</th><td>2017-11-24</td><td>242       </td><td>244.5     </td><td>241.5     </td><td>244       </td><td>2716320   </td></tr>\n",
       "</tbody>\n",
       "</table>\n"
      ],
      "text/latex": [
       "\\begin{tabular}{r|llllll}\n",
       "  & Date & Open & High & Low & Close & Volume\\\\\n",
       "\\hline\n",
       "\t102 & 2017-11-24 & 242        & 244.5      & 241.5      & 244        & 2716320   \\\\\n",
       "\\end{tabular}\n"
      ],
      "text/markdown": [
       "\n",
       "| <!--/--> | Date | Open | High | Low | Close | Volume | \n",
       "|---|\n",
       "| 102 | 2017-11-24 | 242        | 244.5      | 241.5      | 244        | 2716320    | \n",
       "\n",
       "\n"
      ],
      "text/plain": [
       "    Date       Open High  Low   Close Volume \n",
       "102 2017-11-24 242  244.5 241.5 244   2716320"
      ]
     },
     "metadata": {},
     "output_type": "display_data"
    }
   ],
   "source": [
    "tw2330_2017[order(tw2330_2017$Close,decreasing = T),][1,]"
   ]
  },
  {
   "cell_type": "code",
   "execution_count": 26,
   "metadata": {},
   "outputs": [
    {
     "data": {
      "text/html": [
       "244"
      ],
      "text/latex": [
       "244"
      ],
      "text/markdown": [
       "244"
      ],
      "text/plain": [
       "[1] 244"
      ]
     },
     "metadata": {},
     "output_type": "display_data"
    }
   ],
   "source": [
    "max(tw2330_2017$Close)"
   ]
  },
  {
   "cell_type": "code",
   "execution_count": 27,
   "metadata": {},
   "outputs": [
    {
     "data": {
      "text/plain": [
       "   Min. 1st Qu.  Median    Mean 3rd Qu.    Max. \n",
       "  179.5   191.5   212.5   210.1   221.5   244.0 "
      ]
     },
     "metadata": {},
     "output_type": "display_data"
    }
   ],
   "source": [
    "summary(tw2330_2017$Close)"
   ]
  },
  {
   "cell_type": "code",
   "execution_count": 28,
   "metadata": {},
   "outputs": [
    {
     "data": {
      "text/plain": [
       "      Date                 Open            High            Low       \n",
       " Min.   :2017-01-03   Min.   :179.5   Min.   :180.5   Min.   :179.0  \n",
       " 1st Qu.:2017-04-11   1st Qu.:191.6   1st Qu.:192.0   1st Qu.:189.6  \n",
       " Median :2017-07-08   Median :212.0   Median :214.0   Median :211.2  \n",
       " Mean   :2017-07-06   Mean   :210.0   Mean   :211.2   Mean   :208.8  \n",
       " 3rd Qu.:2017-10-01   3rd Qu.:221.4   3rd Qu.:222.8   3rd Qu.:220.0  \n",
       " Max.   :2017-12-29   Max.   :244.5   Max.   :245.0   Max.   :242.0  \n",
       "     Close           Volume        \n",
       " Min.   :179.5   Min.   :  320349  \n",
       " 1st Qu.:191.5   1st Qu.: 3737042  \n",
       " Median :212.5   Median : 4719322  \n",
       " Mean   :210.1   Mean   : 5281645  \n",
       " 3rd Qu.:221.5   3rd Qu.: 6085697  \n",
       " Max.   :244.0   Max.   :24850555  "
      ]
     },
     "metadata": {},
     "output_type": "display_data"
    }
   ],
   "source": [
    "summary(tw2330_2017)"
   ]
  },
  {
   "cell_type": "code",
   "execution_count": 30,
   "metadata": {},
   "outputs": [],
   "source": [
    "li = list(thing='hat',size=8.25)"
   ]
  },
  {
   "cell_type": "code",
   "execution_count": 32,
   "metadata": {},
   "outputs": [
    {
     "data": {
      "text/html": [
       "'hat'"
      ],
      "text/latex": [
       "'hat'"
      ],
      "text/markdown": [
       "'hat'"
      ],
      "text/plain": [
       "[1] \"hat\""
      ]
     },
     "metadata": {},
     "output_type": "display_data"
    }
   ],
   "source": [
    "li$thing"
   ]
  },
  {
   "cell_type": "code",
   "execution_count": 33,
   "metadata": {},
   "outputs": [
    {
     "data": {
      "text/html": [
       "8.25"
      ],
      "text/latex": [
       "8.25"
      ],
      "text/markdown": [
       "8.25"
      ],
      "text/plain": [
       "[1] 8.25"
      ]
     },
     "metadata": {},
     "output_type": "display_data"
    }
   ],
   "source": [
    "li$size"
   ]
  },
  {
   "cell_type": "code",
   "execution_count": 35,
   "metadata": {},
   "outputs": [],
   "source": [
    "li_2 = list('hat',8.25)"
   ]
  },
  {
   "cell_type": "code",
   "execution_count": 37,
   "metadata": {},
   "outputs": [
    {
     "name": "stdout",
     "output_type": "stream",
     "text": [
      "[[1]]\n",
      "[1] \"hat\"\n",
      "\n",
      "[[2]]\n",
      "[1] 8.25\n",
      "\n"
     ]
    }
   ],
   "source": [
    "print(li_2)"
   ]
  },
  {
   "cell_type": "code",
   "execution_count": 38,
   "metadata": {},
   "outputs": [
    {
     "data": {
      "text/html": [
       "'hat'"
      ],
      "text/latex": [
       "'hat'"
      ],
      "text/markdown": [
       "'hat'"
      ],
      "text/plain": [
       "[1] \"hat\""
      ]
     },
     "metadata": {},
     "output_type": "display_data"
    }
   ],
   "source": [
    "li_2[[1]]"
   ]
  },
  {
   "cell_type": "code",
   "execution_count": 39,
   "metadata": {},
   "outputs": [
    {
     "data": {
      "text/html": [
       "8.25"
      ],
      "text/latex": [
       "8.25"
      ],
      "text/markdown": [
       "8.25"
      ],
      "text/plain": [
       "[1] 8.25"
      ]
     },
     "metadata": {},
     "output_type": "display_data"
    }
   ],
   "source": [
    "li_2[[2]]"
   ]
  },
  {
   "cell_type": "markdown",
   "metadata": {},
   "source": [
    "### read json file"
   ]
  },
  {
   "cell_type": "code",
   "execution_count": 41,
   "metadata": {},
   "outputs": [],
   "source": [
    "library(jsonlite)"
   ]
  },
  {
   "cell_type": "code",
   "execution_count": 42,
   "metadata": {},
   "outputs": [],
   "source": [
    "download.file('https://www.railway.gov.tw/Upload/UserFiles/%E8%87%BA%E9%90%B5%E5%B1%80%E6%88%BF%E5%9C%B0%E7%94%A2%E5%87%BA%E7%A7%9F%E6%83%85%E5%BD%A2.json',destfile = './rent.json')"
   ]
  },
  {
   "cell_type": "code",
   "execution_count": 45,
   "metadata": {},
   "outputs": [
    {
     "name": "stderr",
     "output_type": "stream",
     "text": [
      "Warning message:\n",
      "“JSON string contains (illegal) UTF8 byte-order-mark!”"
     ]
    }
   ],
   "source": [
    "json_demo_file = fromJSON('./rent.json')"
   ]
  },
  {
   "cell_type": "code",
   "execution_count": 46,
   "metadata": {},
   "outputs": [
    {
     "name": "stdout",
     "output_type": "stream",
     "text": [
      "'data.frame':\t228 obs. of  12 variables:\n",
      " $ 縣市        : chr  \"臺北市\" \"臺北市\" \"臺北市\" \"臺北市\" ...\n",
      " $ 經管單位    : chr  \"台北所\" \"台北所\" \"台北所\" \"台北所\" ...\n",
      " $ 用途限制    : chr  \"辦公或住宅或法律許可範圍\" \"辦公或住宅或法律許可範圍\" \"辦公或住宅或法律許可範圍\" \"辦公或住宅或法律許可範圍\" ...\n",
      " $ 實際用途    : chr  \"商店\" \"辦公室\" \"商店\" \"住家\" ...\n",
      " $ 每月租金    : chr  \"22900\" \"138000\" \"56899\" \"23050\" ...\n",
      " $ 租期屆滿    : chr  \"105.12.1-108.11.30\" \"104.06.07-107.06.06\" \"105.2.3-108.2.2\" \"104.05.28-107.05.27\" ...\n",
      " $ 建物面積    : chr  \"189.8\" \"220.49\" \"132\" \"102.545\" ...\n",
      " $ 構造        : chr  \"木石磚造\" \"磚造\" \"加強磚造\" \"加強磚造\" ...\n",
      " $ 總樓層數    : chr  \"1\" \"1\" \"2\" \"3\" ...\n",
      " $ 建物現況    : chr  \"B\" \"B\" \"A\" \"C\" ...\n",
      " $ 房屋座落    : chr  \"新北市淡水區鼻頭街10、11、12號(淡水鎮海鷗段316地號)\" \"臺北市大同區忠孝西路2段13號(大同區玉泉段2小段371-7、371-20、371-21地號)\" \"臺北市大同區赤峰街33巷4號(大同區圓環段二小段151地號)\" \"臺北市萬華區康定路56巷3弄3號(萬華區直興段1小段93地號)\" ...\n",
      " $ 土地使用分區: chr  \"工業區\" \"371-7,371-20為交通廣場用地, 371-21為道路用地\" \"第四種住宅區\" \"第四種商業區\" ...\n"
     ]
    }
   ],
   "source": [
    "str(json_demo_file)"
   ]
  },
  {
   "cell_type": "markdown",
   "metadata": {},
   "source": [
    "### read XML file"
   ]
  },
  {
   "cell_type": "code",
   "execution_count": 48,
   "metadata": {},
   "outputs": [],
   "source": [
    "library(XML)"
   ]
  },
  {
   "cell_type": "code",
   "execution_count": 49,
   "metadata": {},
   "outputs": [],
   "source": [
    "url = 'http://opendata.epa.gov.tw/ws/Data/ATM00698/?$format=xml'\n",
    "tmp = xmlToDataFrame(url)"
   ]
  },
  {
   "cell_type": "code",
   "execution_count": 51,
   "metadata": {},
   "outputs": [
    {
     "name": "stdout",
     "output_type": "stream",
     "text": [
      "'data.frame':\t1000 obs. of  12 variables:\n",
      " $ SiteName           : Factor w/ 30 levels \"阿里山\",\"鞍部\",..: 16 7 15 13 6 17 14 5 22 4 ...\n",
      " $ WindDirection      : Factor w/ 19 levels \"\",\"北\",\"北北東\",..: 19 18 6 10 9 13 19 7 6 14 ...\n",
      " $ WindPower          : Factor w/ 7 levels \"\",\"1\",\"2\",\"3\",..: 6 4 2 2 5 4 7 3 3 2 ...\n",
      " $ Gust               : Factor w/ 4 levels \"\",\"6\",\"7\",\"8\": 1 1 1 1 1 1 3 1 1 1 ...\n",
      " $ Visibility         : Factor w/ 16 levels \"\",\"0.1\",\"10\",..: 3 3 1 1 1 10 1 1 9 1 ...\n",
      " $ Temperature        : Factor w/ 227 levels \"－(－)\",\"12.7(+0.2)\",..: 175 202 156 203 201 209 73 216 214 122 ...\n",
      " $ Moisture           : Factor w/ 33 levels \"\",\"100\",\"65\",..: 23 22 24 27 18 18 23 4 11 32 ...\n",
      " $ AtmosphericPressure: Factor w/ 49 levels \"\",\"-999.9\",\"1000.0\",..: 30 40 20 12 11 3 15 5 6 4 ...\n",
      " $ Weather            : Factor w/ 8 levels \"\",\"多雲\",\"晴\",..: 3 4 1 1 1 3 1 1 2 1 ...\n",
      " $ Rainfall1day       : Factor w/ 22 levels \"\",\"0.0\",\"0.5\",..: 2 2 16 8 2 2 2 2 2 12 ...\n",
      " $ Unit               : Factor w/ 1 level \"中央氣象局\": 1 1 1 1 1 1 1 1 1 1 ...\n",
      " $ DataCreationDate   : Factor w/ 8 levels \"107/8/14 2:00:00\",..: 8 8 8 8 8 8 8 8 8 8 ...\n"
     ]
    }
   ],
   "source": [
    "str(tmp)"
   ]
  },
  {
   "cell_type": "code",
   "execution_count": null,
   "metadata": {},
   "outputs": [],
   "source": []
  }
 ],
 "metadata": {
  "kernelspec": {
   "display_name": "R",
   "language": "R",
   "name": "ir"
  },
  "language_info": {
   "codemirror_mode": "r",
   "file_extension": ".r",
   "mimetype": "text/x-r-source",
   "name": "R",
   "pygments_lexer": "r",
   "version": "3.5.1"
  }
 },
 "nbformat": 4,
 "nbformat_minor": 2
}
