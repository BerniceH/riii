{
 "cells": [
  {
   "cell_type": "code",
   "execution_count": 1,
   "metadata": {},
   "outputs": [],
   "source": [
    "setwd('~/lecture/riii/')"
   ]
  },
  {
   "cell_type": "markdown",
   "metadata": {},
   "source": [
    "### windows open utf8 file encoding problem\n",
    "- http://rwepa.blogspot.com/2017/09/ansifileencoding.html"
   ]
  },
  {
   "cell_type": "code",
   "execution_count": null,
   "metadata": {},
   "outputs": [],
   "source": [
    "read_csv('./data/ptt_sample.csv',header=T,fileEncoding=\"UTF-8-BOM\")"
   ]
  },
  {
   "cell_type": "code",
   "execution_count": 3,
   "metadata": {},
   "outputs": [],
   "source": [
    "load('./Statistics/appledaily.RData')"
   ]
  },
  {
   "cell_type": "code",
   "execution_count": 4,
   "metadata": {},
   "outputs": [
    {
     "data": {
      "text/html": [
       "'appledaily'"
      ],
      "text/latex": [
       "'appledaily'"
      ],
      "text/markdown": [
       "'appledaily'"
      ],
      "text/plain": [
       "[1] \"appledaily\""
      ]
     },
     "metadata": {},
     "output_type": "display_data"
    }
   ],
   "source": [
    "ls()"
   ]
  },
  {
   "cell_type": "code",
   "execution_count": 5,
   "metadata": {},
   "outputs": [
    {
     "name": "stdout",
     "output_type": "stream",
     "text": [
      "'data.frame':\t1500 obs. of  5 variables:\n",
      " $ content : chr  \"\\n                                        (更新:新增影片)想要透過刮刮樂彩券一夕致富，但他卻用錯方法！台中市一名\"| __truncated__ \"\\n                                        澳洲一名就讀雪梨大學的華裔博士生，日前公開一段燒毀中國護照的影片，還\"| __truncated__ \"\\n                                        【行銷專題企劃】房價高高在上，沒錢買房沒關係，但你認為自己是聰明的租\"| __truncated__ \"\\n                                        本內容由中央廣播電臺提供        美國國防部長卡特(Ash Carter)今天(15日\"| __truncated__ ...\n",
      " $ title   : chr  \"【更新】搶2.2萬彩券刮中1.4萬　沒發財還得入獄\" \"拿到澳洲護照後　他放火燒中國護照\" \"【特企】房市大追擊- 租屋這些事情要小心\" \"【央廣RTI】美菲軍演  美防長南海登艦\" ...\n",
      " $ dt      : chr  \"2016年04月15日14:32\" \"2016年04月15日14:32\" \"2016年04月15日14:31\" \"2016年04月15日14:30\" ...\n",
      " $ category: chr  \"社會\" \"國際\" \"地產\" \"國際\" ...\n",
      " $ clicked : chr  \"人氣(1754)\" \"人氣(0)\" \"人氣(0)\" \"人氣(0)\" ...\n"
     ]
    }
   ],
   "source": [
    "str(appledaily)"
   ]
  },
  {
   "cell_type": "code",
   "execution_count": 8,
   "metadata": {},
   "outputs": [],
   "source": [
    "dt = as.POSIXct(appledaily$dt,format='%Y年%m月%d日%H:%M')"
   ]
  },
  {
   "cell_type": "markdown",
   "metadata": {},
   "source": [
    "### Date 和 POSIX 差別\n",
    "- Date類別表示 \"日期\",  表示距離1970/1/1多少天, 單位為天\n",
    "- POSIX類別表示 \"時間\", 表示距離1970/1/1多少秒, 單位為秒"
   ]
  },
  {
   "cell_type": "code",
   "execution_count": 11,
   "metadata": {},
   "outputs": [
    {
     "data": {
      "text/html": [
       "17760"
      ],
      "text/latex": [
       "17760"
      ],
      "text/markdown": [
       "17760"
      ],
      "text/plain": [
       "[1] 17760"
      ]
     },
     "metadata": {},
     "output_type": "display_data"
    }
   ],
   "source": [
    "unclass( as.Date(Sys.time()) )"
   ]
  },
  {
   "cell_type": "code",
   "execution_count": 14,
   "metadata": {},
   "outputs": [
    {
     "data": {
      "text/html": [
       "1534475394.33429"
      ],
      "text/latex": [
       "1534475394.33429"
      ],
      "text/markdown": [
       "1534475394.33429"
      ],
      "text/plain": [
       "[1] 1534475394"
      ]
     },
     "metadata": {},
     "output_type": "display_data"
    }
   ],
   "source": [
    "unclass( as.POSIXct(Sys.time()) )"
   ]
  },
  {
   "cell_type": "markdown",
   "metadata": {},
   "source": [
    "# POSIXct vs POSIXlt"
   ]
  },
  {
   "cell_type": "code",
   "execution_count": 16,
   "metadata": {},
   "outputs": [
    {
     "data": {
      "text/plain": [
       "[1] \"2018-08-17 11:11:26 CST\""
      ]
     },
     "metadata": {},
     "output_type": "display_data"
    }
   ],
   "source": [
    "as.POSIXct(Sys.time())"
   ]
  },
  {
   "cell_type": "code",
   "execution_count": 18,
   "metadata": {},
   "outputs": [
    {
     "data": {
      "text/html": [
       "1534475511.45131"
      ],
      "text/latex": [
       "1534475511.45131"
      ],
      "text/markdown": [
       "1534475511.45131"
      ],
      "text/plain": [
       "[1] 1534475511"
      ]
     },
     "metadata": {},
     "output_type": "display_data"
    }
   ],
   "source": [
    "unclass(as.POSIXct(Sys.time()))"
   ]
  },
  {
   "cell_type": "code",
   "execution_count": 17,
   "metadata": {},
   "outputs": [
    {
     "data": {
      "text/plain": [
       "[1] \"2018-08-17 11:11:32 CST\""
      ]
     },
     "metadata": {},
     "output_type": "display_data"
    }
   ],
   "source": [
    "as.POSIXlt(Sys.time())"
   ]
  },
  {
   "cell_type": "code",
   "execution_count": 21,
   "metadata": {},
   "outputs": [
    {
     "data": {
      "text/html": [
       "2018"
      ],
      "text/latex": [
       "2018"
      ],
      "text/markdown": [
       "2018"
      ],
      "text/plain": [
       "[1] 2018"
      ]
     },
     "metadata": {},
     "output_type": "display_data"
    }
   ],
   "source": [
    "unclass(as.POSIXlt(Sys.time()))$year + 1900"
   ]
  },
  {
   "cell_type": "code",
   "execution_count": 22,
   "metadata": {},
   "outputs": [
    {
     "data": {
      "text/html": [
       "8"
      ],
      "text/latex": [
       "8"
      ],
      "text/markdown": [
       "8"
      ],
      "text/plain": [
       "[1] 8"
      ]
     },
     "metadata": {},
     "output_type": "display_data"
    }
   ],
   "source": [
    "unclass(as.POSIXlt(Sys.time()))$mon + 1"
   ]
  },
  {
   "cell_type": "code",
   "execution_count": 23,
   "metadata": {},
   "outputs": [
    {
     "data": {
      "text/html": [
       "17"
      ],
      "text/latex": [
       "17"
      ],
      "text/markdown": [
       "17"
      ],
      "text/plain": [
       "[1] 17"
      ]
     },
     "metadata": {},
     "output_type": "display_data"
    }
   ],
   "source": [
    "unclass(as.POSIXlt(Sys.time()))$mday"
   ]
  },
  {
   "cell_type": "code",
   "execution_count": 24,
   "metadata": {},
   "outputs": [],
   "source": [
    "appledaily$dt = dt"
   ]
  },
  {
   "cell_type": "markdown",
   "metadata": {},
   "source": [
    "### convert timestamp to datetime"
   ]
  },
  {
   "cell_type": "code",
   "execution_count": 62,
   "metadata": {},
   "outputs": [
    {
     "data": {
      "text/html": [
       "1534477328"
      ],
      "text/latex": [
       "1534477328"
      ],
      "text/markdown": [
       "1534477328"
      ],
      "text/plain": [
       "[1] 1534477328"
      ]
     },
     "metadata": {},
     "output_type": "display_data"
    }
   ],
   "source": [
    "tm = as.integer(unclass(as.POSIXct(Sys.time())))\n",
    "tm"
   ]
  },
  {
   "cell_type": "code",
   "execution_count": 66,
   "metadata": {},
   "outputs": [
    {
     "data": {
      "text/plain": [
       "[1] \"2018-08-17 12:42:08 JST\""
      ]
     },
     "metadata": {},
     "output_type": "display_data"
    }
   ],
   "source": [
    "as.POSIXct(tm,origin='1970-01-01',tz = 'Japan')"
   ]
  },
  {
   "cell_type": "code",
   "execution_count": 67,
   "metadata": {},
   "outputs": [
    {
     "data": {
      "text/plain": [
       "[1] \"2018-08-17 11:42:08 CST\""
      ]
     },
     "metadata": {},
     "output_type": "display_data"
    }
   ],
   "source": [
    "as.POSIXct(tm,origin='1970-01-01',tz = 'Asia/Taipei')"
   ]
  },
  {
   "cell_type": "code",
   "execution_count": 69,
   "metadata": {},
   "outputs": [],
   "source": [
    "?as.POSIXct"
   ]
  },
  {
   "cell_type": "code",
   "execution_count": 25,
   "metadata": {},
   "outputs": [
    {
     "name": "stdout",
     "output_type": "stream",
     "text": [
      "'data.frame':\t1500 obs. of  5 variables:\n",
      " $ content : chr  \"\\n                                        (更新:新增影片)想要透過刮刮樂彩券一夕致富，但他卻用錯方法！台中市一名\"| __truncated__ \"\\n                                        澳洲一名就讀雪梨大學的華裔博士生，日前公開一段燒毀中國護照的影片，還\"| __truncated__ \"\\n                                        【行銷專題企劃】房價高高在上，沒錢買房沒關係，但你認為自己是聰明的租\"| __truncated__ \"\\n                                        本內容由中央廣播電臺提供        美國國防部長卡特(Ash Carter)今天(15日\"| __truncated__ ...\n",
      " $ title   : chr  \"【更新】搶2.2萬彩券刮中1.4萬　沒發財還得入獄\" \"拿到澳洲護照後　他放火燒中國護照\" \"【特企】房市大追擊- 租屋這些事情要小心\" \"【央廣RTI】美菲軍演  美防長南海登艦\" ...\n",
      " $ dt      : POSIXct, format: \"2016-04-15 14:32:00\" \"2016-04-15 14:32:00\" ...\n",
      " $ category: chr  \"社會\" \"國際\" \"地產\" \"國際\" ...\n",
      " $ clicked : chr  \"人氣(1754)\" \"人氣(0)\" \"人氣(0)\" \"人氣(0)\" ...\n"
     ]
    }
   ],
   "source": [
    "str(appledaily)"
   ]
  },
  {
   "cell_type": "markdown",
   "metadata": {},
   "source": [
    "### sub => python replace "
   ]
  },
  {
   "cell_type": "code",
   "execution_count": 35,
   "metadata": {},
   "outputs": [],
   "source": [
    "tmp = sub('人氣\\\\(','',appledaily$clicked)"
   ]
  },
  {
   "cell_type": "code",
   "execution_count": 36,
   "metadata": {},
   "outputs": [],
   "source": [
    "tmp = sub('\\\\)','',tmp)"
   ]
  },
  {
   "cell_type": "code",
   "execution_count": 38,
   "metadata": {},
   "outputs": [],
   "source": [
    "clicked = as.integer(tmp)"
   ]
  },
  {
   "cell_type": "code",
   "execution_count": 40,
   "metadata": {},
   "outputs": [],
   "source": [
    "library(stringr)"
   ]
  },
  {
   "cell_type": "markdown",
   "metadata": {},
   "source": [
    "### str_match => python re.match"
   ]
  },
  {
   "cell_type": "code",
   "execution_count": 41,
   "metadata": {},
   "outputs": [],
   "source": [
    "?str_match"
   ]
  },
  {
   "cell_type": "code",
   "execution_count": 50,
   "metadata": {},
   "outputs": [],
   "source": [
    "clicked = as.integer( str_match(appledaily$clicked,'人氣\\\\((\\\\d+)\\\\)')[,2] )"
   ]
  },
  {
   "cell_type": "code",
   "execution_count": 51,
   "metadata": {},
   "outputs": [],
   "source": [
    "appledaily$clicked = clicked"
   ]
  },
  {
   "cell_type": "code",
   "execution_count": 52,
   "metadata": {},
   "outputs": [
    {
     "name": "stdout",
     "output_type": "stream",
     "text": [
      "'data.frame':\t1500 obs. of  5 variables:\n",
      " $ content : chr  \"\\n                                        (更新:新增影片)想要透過刮刮樂彩券一夕致富，但他卻用錯方法！台中市一名\"| __truncated__ \"\\n                                        澳洲一名就讀雪梨大學的華裔博士生，日前公開一段燒毀中國護照的影片，還\"| __truncated__ \"\\n                                        【行銷專題企劃】房價高高在上，沒錢買房沒關係，但你認為自己是聰明的租\"| __truncated__ \"\\n                                        本內容由中央廣播電臺提供        美國國防部長卡特(Ash Carter)今天(15日\"| __truncated__ ...\n",
      " $ title   : chr  \"【更新】搶2.2萬彩券刮中1.4萬　沒發財還得入獄\" \"拿到澳洲護照後　他放火燒中國護照\" \"【特企】房市大追擊- 租屋這些事情要小心\" \"【央廣RTI】美菲軍演  美防長南海登艦\" ...\n",
      " $ dt      : POSIXct, format: \"2016-04-15 14:32:00\" \"2016-04-15 14:32:00\" ...\n",
      " $ category: chr  \"社會\" \"國際\" \"地產\" \"國際\" ...\n",
      " $ clicked : int  1754 0 0 0 311 24 20 314 27 308 ...\n"
     ]
    }
   ],
   "source": [
    "str(appledaily)"
   ]
  },
  {
   "cell_type": "markdown",
   "metadata": {},
   "source": [
    "### 其他常見字串處理函式"
   ]
  },
  {
   "cell_type": "code",
   "execution_count": null,
   "metadata": {},
   "outputs": [],
   "source": [
    "#grep, grepl"
   ]
  },
  {
   "cell_type": "code",
   "execution_count": 70,
   "metadata": {},
   "outputs": [],
   "source": [
    "test_str = c('abcd','bcd','cde')"
   ]
  },
  {
   "cell_type": "code",
   "execution_count": 71,
   "metadata": {},
   "outputs": [
    {
     "data": {
      "text/html": [
       "<ol class=list-inline>\n",
       "\t<li>1</li>\n",
       "\t<li>2</li>\n",
       "</ol>\n"
      ],
      "text/latex": [
       "\\begin{enumerate*}\n",
       "\\item 1\n",
       "\\item 2\n",
       "\\end{enumerate*}\n"
      ],
      "text/markdown": [
       "1. 1\n",
       "2. 2\n",
       "\n",
       "\n"
      ],
      "text/plain": [
       "[1] 1 2"
      ]
     },
     "metadata": {},
     "output_type": "display_data"
    }
   ],
   "source": [
    "grep('bc',test_str)"
   ]
  },
  {
   "cell_type": "code",
   "execution_count": 76,
   "metadata": {},
   "outputs": [
    {
     "data": {
      "text/html": [
       "<table>\n",
       "<thead><tr><th></th><th scope=col>content</th><th scope=col>title</th><th scope=col>dt</th><th scope=col>category</th><th scope=col>clicked</th></tr></thead>\n",
       "<tbody>\n",
       "\t<tr><th scope=row>2</th><td>\n",
       "                                        澳洲一名就讀雪梨大學的華裔博士生，日前公開一段燒毀中國護照的影片，還大肆批評留澳學生是一群「留學豬」。消息傳出後，這名博士生立刻被大陸網友起底。 據悉，該博士生姓名為吳維，正在雪梨大學攻讀金融學博士，同時在該校任教，並於去年加入澳洲籍。該博士生的微博名為「Pekojima」，該賬號從2012年開始一直處於活躍狀態。他稱自己為「澳洲公民」、「雪梨大學商學院全獎」、「金融系 Ph.D.」、「本系必修課head tutor」。但此微博現已被刪除。他也曾在微博上諷刺中國留學生的智商，稱他們「要花錢找論文代寫」，並侮辱留學生為「留學豬」。 英國《每日郵報》報導稱，雪梨大學已開始調查他焚燒中國護照一事。（大陸中心／綜合報導） 更多國際新聞請進蘋果繞著地球爆  \n",
       "                    翻攝網路翻攝網路                    \n",
       "                    googletag.cmd.push(function() {googletag.display('teadstv');})\n",
       "                    googletag.cmd.push(function() {googletag.display('goldenhorse');})\n",
       "                    googletag.cmd.push(function() {googletag.display('textlink');})\n",
       "                    有話要說 投稿「即時論壇」\n",
       "                  </td><td>拿到澳洲護照後　他放火燒中國護照                                                                                                                                                                                                                                                                                                                                                                                                                                                                                                                                                                                                                                                                                                                                                                                                                                                                                                                                                                                                                                                       </td><td>2016-04-15 14:32:00                                                                                                                                                                                                                                                                                                                                                                                                                                                                                                                                                                                                                                                                                                                                                                                                                                                                                                                                                                                                                                                                    </td><td>國際                                                                                                                                                                                                                                                                                                                                                                                                                                                                                                                                                                                                                                                                                                                                                                                                                                                                                                                                                                                                                                                                                   </td><td>0                                                                                                                                                                                                                                                                                                                                                                                                                                                                                                                                                                                                                                                                                                                                                                                                                                                                                                                                                                                                                                                                                      </td></tr>\n",
       "</tbody>\n",
       "</table>\n"
      ],
      "text/latex": [
       "\\begin{tabular}{r|lllll}\n",
       "  & content & title & dt & category & clicked\\\\\n",
       "\\hline\n",
       "\t2 & \n",
       "                                        澳洲一名就讀雪梨大學的華裔博士生，日前公開一段燒毀中國護照的影片，還大肆批評留澳學生是一群「留學豬」。消息傳出後，這名博士生立刻被大陸網友起底。 據悉，該博士生姓名為吳維，正在雪梨大學攻讀金融學博士，同時在該校任教，並於去年加入澳洲籍。該博士生的微博名為「Pekojima」，該賬號從2012年開始一直處於活躍狀態。他稱自己為「澳洲公民」、「雪梨大學商學院全獎」、「金融系 Ph.D.」、「本系必修課head tutor」。但此微博現已被刪除。他也曾在微博上諷刺中國留學生的智商，稱他們「要花錢找論文代寫」，並侮辱留學生為「留學豬」。 英國《每日郵報》報導稱，雪梨大學已開始調查他焚燒中國護照一事。（大陸中心／綜合報導） 更多國際新聞請進蘋果繞著地球爆  \n",
       "                    翻攝網路翻攝網路                    \n",
       "                    googletag.cmd.push(function() \\{googletag.display('teadstv');\\})\n",
       "                    googletag.cmd.push(function() \\{googletag.display('goldenhorse');\\})\n",
       "                    googletag.cmd.push(function() \\{googletag.display('textlink');\\})\n",
       "                    有話要說 投稿「即時論壇」\n",
       "                   & 拿到澳洲護照後　他放火燒中國護照                                                                                                                                                                                                                                                                                                                                                                                                                                                                                                                                                                                                                                                                                                                                                                                                                                                                                                                                                                                                                                                                    & 2016-04-15 14:32:00                                                                                                                                                                                                                                                                                                                                                                                                                                                                                                                                                                                                                                                                                                                                                                                                                                                                                                                                                                                                                                                                                 & 國際                                                                                                                                                                                                                                                                                                                                                                                                                                                                                                                                                                                                                                                                                                                                                                                                                                                                                                                                                                                                                                                                                                & 0                                                                                                                                                                                                                                                                                                                                                                                                                                                                                                                                                                                                                                                                                                                                                                                                                                                                                                                                                                                                                                                                                                  \\\\\n",
       "\\end{tabular}\n"
      ],
      "text/markdown": [
       "\n",
       "| <!--/--> | content | title | dt | category | clicked | \n",
       "|---|\n",
       "| 2 | \n",
       "                                        澳洲一名就讀雪梨大學的華裔博士生，日前公開一段燒毀中國護照的影片，還大肆批評留澳學生是一群「留學豬」。消息傳出後，這名博士生立刻被大陸網友起底。 據悉，該博士生姓名為吳維，正在雪梨大學攻讀金融學博士，同時在該校任教，並於去年加入澳洲籍。該博士生的微博名為「Pekojima」，該賬號從2012年開始一直處於活躍狀態。他稱自己為「澳洲公民」、「雪梨大學商學院全獎」、「金融系 Ph.D.」、「本系必修課head tutor」。但此微博現已被刪除。他也曾在微博上諷刺中國留學生的智商，稱他們「要花錢找論文代寫」，並侮辱留學生為「留學豬」。 英國《每日郵報》報導稱，雪梨大學已開始調查他焚燒中國護照一事。（大陸中心／綜合報導） 更多國際新聞請進蘋果繞著地球爆  \n",
       "                    翻攝網路翻攝網路                    \n",
       "                    googletag.cmd.push(function() {googletag.display('teadstv');})\n",
       "                    googletag.cmd.push(function() {googletag.display('goldenhorse');})\n",
       "                    googletag.cmd.push(function() {googletag.display('textlink');})\n",
       "                    有話要說 投稿「即時論壇」\n",
       "                   | 拿到澳洲護照後　他放火燒中國護照                                                                                                                                                                                                                                                                                                                                                                                                                                                                                                                                                                                                                                                                                                                                                                                                                                                                                                                                                                                                                                                        | 2016-04-15 14:32:00                                                                                                                                                                                                                                                                                                                                                                                                                                                                                                                                                                                                                                                                                                                                                                                                                                                                                                                                                                                                                                                                     | 國際                                                                                                                                                                                                                                                                                                                                                                                                                                                                                                                                                                                                                                                                                                                                                                                                                                                                                                                                                                                                                                                                                    | 0                                                                                                                                                                                                                                                                                                                                                                                                                                                                                                                                                                                                                                                                                                                                                                                                                                                                                                                                                                                                                                                                                       | \n",
       "\n",
       "\n"
      ],
      "text/plain": [
       "  content                                                                                                                                                                                                                                                                                                                                                                                                                                                                                                                                                                                                                                                                                                                                                                                                                                                                                                                                                                                                                                                                                \n",
       "2 \\n                                        澳洲一名就讀雪梨大學的華裔博士生，日前公開一段燒毀中國護照的影片，還大肆批評留澳學生是一群「留學豬」。消息傳出後，這名博士生立刻被大陸網友起底。 據悉，該博士生姓名為吳維，正在雪梨大學攻讀金融學博士，同時在該校任教，並於去年加入澳洲籍。該博士生的微博名為「Pekojima」，該賬號從2012年開始一直處於活躍狀態。他稱自己為「澳洲公民」、「雪梨大學商學院全獎」、「金融系 Ph.D.」、「本系必修課head tutor」。但此微博現已被刪除。他也曾在微博上諷刺中國留學生的智商，稱他們「要花錢找論文代寫」，並侮辱留學生為「留學豬」。 英國《每日郵報》報導稱，雪梨大學已開始調查他焚燒中國護照一事。（大陸中心／綜合報導） 更多國際新聞請進蘋果繞著地球爆  \\n                    翻攝網路翻攝網路                    \\n                    googletag.cmd.push(function() {googletag.display('teadstv');})\\n                    googletag.cmd.push(function() {googletag.display('goldenhorse');})\\n                    googletag.cmd.push(function() {googletag.display('textlink');})\\n                    有話要說 投稿「即時論壇」\\n                  \n",
       "  title                            dt                  category clicked\n",
       "2 拿到澳洲護照後　他放火燒中國護照 2016-04-15 14:32:00 國際     0      "
      ]
     },
     "metadata": {},
     "output_type": "display_data"
    }
   ],
   "source": [
    "appledaily[grep('中國',appledaily$title[1:5]),]"
   ]
  },
  {
   "cell_type": "code",
   "execution_count": 82,
   "metadata": {},
   "outputs": [
    {
     "data": {
      "text/html": [
       "<ol class=list-inline>\n",
       "\t<li>FALSE</li>\n",
       "\t<li>TRUE</li>\n",
       "\t<li>FALSE</li>\n",
       "\t<li>FALSE</li>\n",
       "\t<li>FALSE</li>\n",
       "</ol>\n"
      ],
      "text/latex": [
       "\\begin{enumerate*}\n",
       "\\item FALSE\n",
       "\\item TRUE\n",
       "\\item FALSE\n",
       "\\item FALSE\n",
       "\\item FALSE\n",
       "\\end{enumerate*}\n"
      ],
      "text/markdown": [
       "1. FALSE\n",
       "2. TRUE\n",
       "3. FALSE\n",
       "4. FALSE\n",
       "5. FALSE\n",
       "\n",
       "\n"
      ],
      "text/plain": [
       "[1] FALSE  TRUE FALSE FALSE FALSE"
      ]
     },
     "metadata": {},
     "output_type": "display_data"
    }
   ],
   "source": [
    "grepl('中國',appledaily$title[1:5])"
   ]
  },
  {
   "cell_type": "code",
   "execution_count": 83,
   "metadata": {},
   "outputs": [
    {
     "data": {
      "text/html": [
       "<table>\n",
       "<thead><tr><th></th><th scope=col>content</th><th scope=col>title</th><th scope=col>dt</th><th scope=col>category</th><th scope=col>clicked</th></tr></thead>\n",
       "<tbody>\n",
       "\t<tr><th scope=row>2</th><td>\n",
       "                                        澳洲一名就讀雪梨大學的華裔博士生，日前公開一段燒毀中國護照的影片，還大肆批評留澳學生是一群「留學豬」。消息傳出後，這名博士生立刻被大陸網友起底。 據悉，該博士生姓名為吳維，正在雪梨大學攻讀金融學博士，同時在該校任教，並於去年加入澳洲籍。該博士生的微博名為「Pekojima」，該賬號從2012年開始一直處於活躍狀態。他稱自己為「澳洲公民」、「雪梨大學商學院全獎」、「金融系 Ph.D.」、「本系必修課head tutor」。但此微博現已被刪除。他也曾在微博上諷刺中國留學生的智商，稱他們「要花錢找論文代寫」，並侮辱留學生為「留學豬」。 英國《每日郵報》報導稱，雪梨大學已開始調查他焚燒中國護照一事。（大陸中心／綜合報導） 更多國際新聞請進蘋果繞著地球爆  \n",
       "                    翻攝網路翻攝網路                    \n",
       "                    googletag.cmd.push(function() {googletag.display('teadstv');})\n",
       "                    googletag.cmd.push(function() {googletag.display('goldenhorse');})\n",
       "                    googletag.cmd.push(function() {googletag.display('textlink');})\n",
       "                    有話要說 投稿「即時論壇」\n",
       "                  </td><td>拿到澳洲護照後　他放火燒中國護照                                                                                                                                                                                                                                                                                                                                                                                                                                                                                                                                                                                                                                                                                                                                                                                                                                                                                                                                                                                                                                                       </td><td>2016-04-15 14:32:00                                                                                                                                                                                                                                                                                                                                                                                                                                                                                                                                                                                                                                                                                                                                                                                                                                                                                                                                                                                                                                                                    </td><td>國際                                                                                                                                                                                                                                                                                                                                                                                                                                                                                                                                                                                                                                                                                                                                                                                                                                                                                                                                                                                                                                                                                   </td><td>0                                                                                                                                                                                                                                                                                                                                                                                                                                                                                                                                                                                                                                                                                                                                                                                                                                                                                                                                                                                                                                                                                      </td></tr>\n",
       "</tbody>\n",
       "</table>\n"
      ],
      "text/latex": [
       "\\begin{tabular}{r|lllll}\n",
       "  & content & title & dt & category & clicked\\\\\n",
       "\\hline\n",
       "\t2 & \n",
       "                                        澳洲一名就讀雪梨大學的華裔博士生，日前公開一段燒毀中國護照的影片，還大肆批評留澳學生是一群「留學豬」。消息傳出後，這名博士生立刻被大陸網友起底。 據悉，該博士生姓名為吳維，正在雪梨大學攻讀金融學博士，同時在該校任教，並於去年加入澳洲籍。該博士生的微博名為「Pekojima」，該賬號從2012年開始一直處於活躍狀態。他稱自己為「澳洲公民」、「雪梨大學商學院全獎」、「金融系 Ph.D.」、「本系必修課head tutor」。但此微博現已被刪除。他也曾在微博上諷刺中國留學生的智商，稱他們「要花錢找論文代寫」，並侮辱留學生為「留學豬」。 英國《每日郵報》報導稱，雪梨大學已開始調查他焚燒中國護照一事。（大陸中心／綜合報導） 更多國際新聞請進蘋果繞著地球爆  \n",
       "                    翻攝網路翻攝網路                    \n",
       "                    googletag.cmd.push(function() \\{googletag.display('teadstv');\\})\n",
       "                    googletag.cmd.push(function() \\{googletag.display('goldenhorse');\\})\n",
       "                    googletag.cmd.push(function() \\{googletag.display('textlink');\\})\n",
       "                    有話要說 投稿「即時論壇」\n",
       "                   & 拿到澳洲護照後　他放火燒中國護照                                                                                                                                                                                                                                                                                                                                                                                                                                                                                                                                                                                                                                                                                                                                                                                                                                                                                                                                                                                                                                                                    & 2016-04-15 14:32:00                                                                                                                                                                                                                                                                                                                                                                                                                                                                                                                                                                                                                                                                                                                                                                                                                                                                                                                                                                                                                                                                                 & 國際                                                                                                                                                                                                                                                                                                                                                                                                                                                                                                                                                                                                                                                                                                                                                                                                                                                                                                                                                                                                                                                                                                & 0                                                                                                                                                                                                                                                                                                                                                                                                                                                                                                                                                                                                                                                                                                                                                                                                                                                                                                                                                                                                                                                                                                  \\\\\n",
       "\\end{tabular}\n"
      ],
      "text/markdown": [
       "\n",
       "| <!--/--> | content | title | dt | category | clicked | \n",
       "|---|\n",
       "| 2 | \n",
       "                                        澳洲一名就讀雪梨大學的華裔博士生，日前公開一段燒毀中國護照的影片，還大肆批評留澳學生是一群「留學豬」。消息傳出後，這名博士生立刻被大陸網友起底。 據悉，該博士生姓名為吳維，正在雪梨大學攻讀金融學博士，同時在該校任教，並於去年加入澳洲籍。該博士生的微博名為「Pekojima」，該賬號從2012年開始一直處於活躍狀態。他稱自己為「澳洲公民」、「雪梨大學商學院全獎」、「金融系 Ph.D.」、「本系必修課head tutor」。但此微博現已被刪除。他也曾在微博上諷刺中國留學生的智商，稱他們「要花錢找論文代寫」，並侮辱留學生為「留學豬」。 英國《每日郵報》報導稱，雪梨大學已開始調查他焚燒中國護照一事。（大陸中心／綜合報導） 更多國際新聞請進蘋果繞著地球爆  \n",
       "                    翻攝網路翻攝網路                    \n",
       "                    googletag.cmd.push(function() {googletag.display('teadstv');})\n",
       "                    googletag.cmd.push(function() {googletag.display('goldenhorse');})\n",
       "                    googletag.cmd.push(function() {googletag.display('textlink');})\n",
       "                    有話要說 投稿「即時論壇」\n",
       "                   | 拿到澳洲護照後　他放火燒中國護照                                                                                                                                                                                                                                                                                                                                                                                                                                                                                                                                                                                                                                                                                                                                                                                                                                                                                                                                                                                                                                                        | 2016-04-15 14:32:00                                                                                                                                                                                                                                                                                                                                                                                                                                                                                                                                                                                                                                                                                                                                                                                                                                                                                                                                                                                                                                                                     | 國際                                                                                                                                                                                                                                                                                                                                                                                                                                                                                                                                                                                                                                                                                                                                                                                                                                                                                                                                                                                                                                                                                    | 0                                                                                                                                                                                                                                                                                                                                                                                                                                                                                                                                                                                                                                                                                                                                                                                                                                                                                                                                                                                                                                                                                       | \n",
       "\n",
       "\n"
      ],
      "text/plain": [
       "  content                                                                                                                                                                                                                                                                                                                                                                                                                                                                                                                                                                                                                                                                                                                                                                                                                                                                                                                                                                                                                                                                                \n",
       "2 \\n                                        澳洲一名就讀雪梨大學的華裔博士生，日前公開一段燒毀中國護照的影片，還大肆批評留澳學生是一群「留學豬」。消息傳出後，這名博士生立刻被大陸網友起底。 據悉，該博士生姓名為吳維，正在雪梨大學攻讀金融學博士，同時在該校任教，並於去年加入澳洲籍。該博士生的微博名為「Pekojima」，該賬號從2012年開始一直處於活躍狀態。他稱自己為「澳洲公民」、「雪梨大學商學院全獎」、「金融系 Ph.D.」、「本系必修課head tutor」。但此微博現已被刪除。他也曾在微博上諷刺中國留學生的智商，稱他們「要花錢找論文代寫」，並侮辱留學生為「留學豬」。 英國《每日郵報》報導稱，雪梨大學已開始調查他焚燒中國護照一事。（大陸中心／綜合報導） 更多國際新聞請進蘋果繞著地球爆  \\n                    翻攝網路翻攝網路                    \\n                    googletag.cmd.push(function() {googletag.display('teadstv');})\\n                    googletag.cmd.push(function() {googletag.display('goldenhorse');})\\n                    googletag.cmd.push(function() {googletag.display('textlink');})\\n                    有話要說 投稿「即時論壇」\\n                  \n",
       "  title                            dt                  category clicked\n",
       "2 拿到澳洲護照後　他放火燒中國護照 2016-04-15 14:32:00 國際     0      "
      ]
     },
     "metadata": {},
     "output_type": "display_data"
    }
   ],
   "source": [
    "appledaily[1:5,][grepl('中國',appledaily$title[1:5]),]"
   ]
  },
  {
   "cell_type": "code",
   "execution_count": 78,
   "metadata": {},
   "outputs": [
    {
     "data": {
      "text/html": [
       "2"
      ],
      "text/latex": [
       "2"
      ],
      "text/markdown": [
       "2"
      ],
      "text/plain": [
       "[1] 2"
      ]
     },
     "metadata": {},
     "output_type": "display_data"
    }
   ],
   "source": [
    "sum(grepl('bc',test_str))"
   ]
  },
  {
   "cell_type": "code",
   "execution_count": 79,
   "metadata": {},
   "outputs": [
    {
     "data": {
      "text/html": [
       "2"
      ],
      "text/latex": [
       "2"
      ],
      "text/markdown": [
       "2"
      ],
      "text/plain": [
       "[1] 2"
      ]
     },
     "metadata": {},
     "output_type": "display_data"
    }
   ],
   "source": [
    "length(grep('bc',test_str))"
   ]
  },
  {
   "cell_type": "code",
   "execution_count": 91,
   "metadata": {},
   "outputs": [],
   "source": [
    "#strsplit\n",
    "test_str = c('abc-def','fff-ggg')"
   ]
  },
  {
   "cell_type": "code",
   "execution_count": 92,
   "metadata": {},
   "outputs": [
    {
     "name": "stdout",
     "output_type": "stream",
     "text": [
      "[[1]]\n",
      "[1] \"abc\" \"def\"\n",
      "\n",
      "[[2]]\n",
      "[1] \"fff\" \"ggg\"\n",
      "\n"
     ]
    }
   ],
   "source": [
    "print( strsplit(test_str,'-') )"
   ]
  },
  {
   "cell_type": "code",
   "execution_count": 93,
   "metadata": {},
   "outputs": [
    {
     "data": {
      "text/html": [
       "'list'"
      ],
      "text/latex": [
       "'list'"
      ],
      "text/markdown": [
       "'list'"
      ],
      "text/plain": [
       "[1] \"list\""
      ]
     },
     "metadata": {},
     "output_type": "display_data"
    }
   ],
   "source": [
    "class( strsplit(test_str,'-') )"
   ]
  },
  {
   "cell_type": "code",
   "execution_count": 94,
   "metadata": {},
   "outputs": [
    {
     "data": {
      "text/html": [
       "'abc'"
      ],
      "text/latex": [
       "'abc'"
      ],
      "text/markdown": [
       "'abc'"
      ],
      "text/plain": [
       "[1] \"abc\""
      ]
     },
     "metadata": {},
     "output_type": "display_data"
    }
   ],
   "source": [
    "strsplit(test_str,'-')[[1]][1]"
   ]
  },
  {
   "cell_type": "code",
   "execution_count": 98,
   "metadata": {},
   "outputs": [],
   "source": [
    "tmp = unlist( strsplit(test_str,'-') )"
   ]
  },
  {
   "cell_type": "code",
   "execution_count": 99,
   "metadata": {},
   "outputs": [
    {
     "data": {
      "text/html": [
       "<ol class=list-inline>\n",
       "\t<li>'abc'</li>\n",
       "\t<li>'fff'</li>\n",
       "</ol>\n"
      ],
      "text/latex": [
       "\\begin{enumerate*}\n",
       "\\item 'abc'\n",
       "\\item 'fff'\n",
       "\\end{enumerate*}\n"
      ],
      "text/markdown": [
       "1. 'abc'\n",
       "2. 'fff'\n",
       "\n",
       "\n"
      ],
      "text/plain": [
       "[1] \"abc\" \"fff\""
      ]
     },
     "metadata": {},
     "output_type": "display_data"
    }
   ],
   "source": [
    "tmp[seq(1,length(tmp),by=2)]"
   ]
  },
  {
   "cell_type": "code",
   "execution_count": 100,
   "metadata": {},
   "outputs": [
    {
     "data": {
      "text/html": [
       "<ol class=list-inline>\n",
       "\t<li>'def'</li>\n",
       "\t<li>'ggg'</li>\n",
       "</ol>\n"
      ],
      "text/latex": [
       "\\begin{enumerate*}\n",
       "\\item 'def'\n",
       "\\item 'ggg'\n",
       "\\end{enumerate*}\n"
      ],
      "text/markdown": [
       "1. 'def'\n",
       "2. 'ggg'\n",
       "\n",
       "\n"
      ],
      "text/plain": [
       "[1] \"def\" \"ggg\""
      ]
     },
     "metadata": {},
     "output_type": "display_data"
    }
   ],
   "source": [
    "tmp[seq(2,length(tmp),by=2)]"
   ]
  },
  {
   "cell_type": "code",
   "execution_count": 96,
   "metadata": {},
   "outputs": [
    {
     "data": {
      "text/html": [
       "<ol class=list-inline>\n",
       "\t<li>1</li>\n",
       "\t<li>3</li>\n",
       "</ol>\n"
      ],
      "text/latex": [
       "\\begin{enumerate*}\n",
       "\\item 1\n",
       "\\item 3\n",
       "\\end{enumerate*}\n"
      ],
      "text/markdown": [
       "1. 1\n",
       "2. 3\n",
       "\n",
       "\n"
      ],
      "text/plain": [
       "[1] 1 3"
      ]
     },
     "metadata": {},
     "output_type": "display_data"
    }
   ],
   "source": [
    "seq(1,3,by=2)"
   ]
  },
  {
   "cell_type": "code",
   "execution_count": null,
   "metadata": {},
   "outputs": [],
   "source": [
    "#substring"
   ]
  },
  {
   "cell_type": "code",
   "execution_count": 101,
   "metadata": {},
   "outputs": [],
   "source": [
    "test_s = 'abcdef'"
   ]
  },
  {
   "cell_type": "code",
   "execution_count": 105,
   "metadata": {},
   "outputs": [
    {
     "data": {
      "text/html": [
       "'bcde'"
      ],
      "text/latex": [
       "'bcde'"
      ],
      "text/markdown": [
       "'bcde'"
      ],
      "text/plain": [
       "[1] \"bcde\""
      ]
     },
     "metadata": {},
     "output_type": "display_data"
    }
   ],
   "source": [
    "substr(test_s,start=2,stop=5)"
   ]
  },
  {
   "cell_type": "code",
   "execution_count": 107,
   "metadata": {},
   "outputs": [
    {
     "data": {
      "text/html": [
       "'bcde'"
      ],
      "text/latex": [
       "'bcde'"
      ],
      "text/markdown": [
       "'bcde'"
      ],
      "text/plain": [
       "[1] \"bcde\""
      ]
     },
     "metadata": {},
     "output_type": "display_data"
    }
   ],
   "source": [
    "substring(test_s,first=2,last=nchar(test_s)-1)"
   ]
  },
  {
   "cell_type": "code",
   "execution_count": 108,
   "metadata": {},
   "outputs": [
    {
     "name": "stdout",
     "output_type": "stream",
     "text": [
      "'data.frame':\t1500 obs. of  5 variables:\n",
      " $ content : chr  \"\\n                                        (更新:新增影片)想要透過刮刮樂彩券一夕致富，但他卻用錯方法！台中市一名\"| __truncated__ \"\\n                                        澳洲一名就讀雪梨大學的華裔博士生，日前公開一段燒毀中國護照的影片，還\"| __truncated__ \"\\n                                        【行銷專題企劃】房價高高在上，沒錢買房沒關係，但你認為自己是聰明的租\"| __truncated__ \"\\n                                        本內容由中央廣播電臺提供        美國國防部長卡特(Ash Carter)今天(15日\"| __truncated__ ...\n",
      " $ title   : chr  \"【更新】搶2.2萬彩券刮中1.4萬　沒發財還得入獄\" \"拿到澳洲護照後　他放火燒中國護照\" \"【特企】房市大追擊- 租屋這些事情要小心\" \"【央廣RTI】美菲軍演  美防長南海登艦\" ...\n",
      " $ dt      : POSIXct, format: \"2016-04-15 14:32:00\" \"2016-04-15 14:32:00\" ...\n",
      " $ category: chr  \"社會\" \"國際\" \"地產\" \"國際\" ...\n",
      " $ clicked : int  1754 0 0 0 311 24 20 314 27 308 ...\n"
     ]
    }
   ],
   "source": [
    "str(appledaily)"
   ]
  },
  {
   "cell_type": "code",
   "execution_count": 110,
   "metadata": {},
   "outputs": [
    {
     "data": {
      "text/plain": [
       "\n",
       "                      3C                     財經                     地產 \n",
       "                      37                      121                       32 \n",
       "                    動物                     國際 國際\",\"LA\",\"SF\",\"NY\",\"US \n",
       "                      26                      273                        9 \n",
       "          國際\",\"SF\",\"US                     論壇                     社會 \n",
       "                       3                       55                      194 \n",
       "                    生活                     時尚                     搜奇 \n",
       "                     298                       38                       55 \n",
       "                    體育                     娛樂                     正妹 \n",
       "                      95                      113                        8 \n",
       "                    政治 \n",
       "                     143 "
      ]
     },
     "metadata": {},
     "output_type": "display_data"
    }
   ],
   "source": [
    "table(appledaily$category)"
   ]
  },
  {
   "cell_type": "code",
   "execution_count": 113,
   "metadata": {},
   "outputs": [],
   "source": [
    "appledaily$category[appledaily$category == '國際\",\"LA\",\"SF\",\"NY\",\"US'] = '國際'"
   ]
  },
  {
   "cell_type": "code",
   "execution_count": 116,
   "metadata": {},
   "outputs": [],
   "source": [
    "appledaily$category[appledaily$category == '國際\",\"SF\",\"US'] = '國際'"
   ]
  },
  {
   "cell_type": "code",
   "execution_count": 117,
   "metadata": {},
   "outputs": [
    {
     "data": {
      "text/plain": [
       "\n",
       "  3C 財經 地產 動物 國際 論壇 社會 生活 時尚 搜奇 體育 娛樂 正妹 政治 \n",
       "  37  121   32   26  285   55  194  298   38   55   95  113    8  143 "
      ]
     },
     "metadata": {},
     "output_type": "display_data"
    }
   ],
   "source": [
    "table(appledaily$category)"
   ]
  },
  {
   "cell_type": "code",
   "execution_count": 119,
   "metadata": {},
   "outputs": [],
   "source": [
    "applenews = appledaily"
   ]
  },
  {
   "cell_type": "code",
   "execution_count": 121,
   "metadata": {},
   "outputs": [],
   "source": [
    "save(applenews,file='./Statistics/applenews.RData')"
   ]
  },
  {
   "cell_type": "code",
   "execution_count": null,
   "metadata": {},
   "outputs": [],
   "source": []
  }
 ],
 "metadata": {
  "kernelspec": {
   "display_name": "R",
   "language": "R",
   "name": "ir"
  },
  "language_info": {
   "codemirror_mode": "r",
   "file_extension": ".r",
   "mimetype": "text/x-r-source",
   "name": "R",
   "pygments_lexer": "r",
   "version": "3.5.1"
  }
 },
 "nbformat": 4,
 "nbformat_minor": 2
}
