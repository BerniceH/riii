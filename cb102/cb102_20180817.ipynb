{
 "cells": [
  {
   "cell_type": "code",
   "execution_count": 1,
   "metadata": {},
   "outputs": [],
   "source": [
    "setwd('~/lecture/riii/')"
   ]
  },
  {
   "cell_type": "markdown",
   "metadata": {},
   "source": [
    "### windows open utf8 file encoding problem\n",
    "- http://rwepa.blogspot.com/2017/09/ansifileencoding.html"
   ]
  },
  {
   "cell_type": "code",
   "execution_count": null,
   "metadata": {},
   "outputs": [],
   "source": [
    "read_csv('./data/ptt_sample.csv',header=T,fileEncoding=\"UTF-8-BOM\")"
   ]
  },
  {
   "cell_type": "code",
   "execution_count": 3,
   "metadata": {},
   "outputs": [],
   "source": [
    "load('./Statistics/appledaily.RData')"
   ]
  },
  {
   "cell_type": "code",
   "execution_count": 4,
   "metadata": {},
   "outputs": [
    {
     "data": {
      "text/html": [
       "'appledaily'"
      ],
      "text/latex": [
       "'appledaily'"
      ],
      "text/markdown": [
       "'appledaily'"
      ],
      "text/plain": [
       "[1] \"appledaily\""
      ]
     },
     "metadata": {},
     "output_type": "display_data"
    }
   ],
   "source": [
    "ls()"
   ]
  },
  {
   "cell_type": "code",
   "execution_count": 5,
   "metadata": {},
   "outputs": [
    {
     "name": "stdout",
     "output_type": "stream",
     "text": [
      "'data.frame':\t1500 obs. of  5 variables:\n",
      " $ content : chr  \"\\n                                        (更新:新增影片)想要透過刮刮樂彩券一夕致富，但他卻用錯方法！台中市一名\"| __truncated__ \"\\n                                        澳洲一名就讀雪梨大學的華裔博士生，日前公開一段燒毀中國護照的影片，還\"| __truncated__ \"\\n                                        【行銷專題企劃】房價高高在上，沒錢買房沒關係，但你認為自己是聰明的租\"| __truncated__ \"\\n                                        本內容由中央廣播電臺提供        美國國防部長卡特(Ash Carter)今天(15日\"| __truncated__ ...\n",
      " $ title   : chr  \"【更新】搶2.2萬彩券刮中1.4萬　沒發財還得入獄\" \"拿到澳洲護照後　他放火燒中國護照\" \"【特企】房市大追擊- 租屋這些事情要小心\" \"【央廣RTI】美菲軍演  美防長南海登艦\" ...\n",
      " $ dt      : chr  \"2016年04月15日14:32\" \"2016年04月15日14:32\" \"2016年04月15日14:31\" \"2016年04月15日14:30\" ...\n",
      " $ category: chr  \"社會\" \"國際\" \"地產\" \"國際\" ...\n",
      " $ clicked : chr  \"人氣(1754)\" \"人氣(0)\" \"人氣(0)\" \"人氣(0)\" ...\n"
     ]
    }
   ],
   "source": [
    "str(appledaily)"
   ]
  },
  {
   "cell_type": "code",
   "execution_count": 8,
   "metadata": {},
   "outputs": [],
   "source": [
    "dt = as.POSIXct(appledaily$dt,format='%Y年%m月%d日%H:%M')"
   ]
  },
  {
   "cell_type": "markdown",
   "metadata": {},
   "source": [
    "### Date 和 POSIX 差別\n",
    "- Date類別表示 \"日期\",  表示距離1970/1/1多少天, 單位為天\n",
    "- POSIX類別表示 \"時間\", 表示距離1970/1/1多少秒, 單位為秒"
   ]
  },
  {
   "cell_type": "code",
   "execution_count": 11,
   "metadata": {},
   "outputs": [
    {
     "data": {
      "text/html": [
       "17760"
      ],
      "text/latex": [
       "17760"
      ],
      "text/markdown": [
       "17760"
      ],
      "text/plain": [
       "[1] 17760"
      ]
     },
     "metadata": {},
     "output_type": "display_data"
    }
   ],
   "source": [
    "unclass( as.Date(Sys.time()) )"
   ]
  },
  {
   "cell_type": "code",
   "execution_count": 14,
   "metadata": {},
   "outputs": [
    {
     "data": {
      "text/html": [
       "1534475394.33429"
      ],
      "text/latex": [
       "1534475394.33429"
      ],
      "text/markdown": [
       "1534475394.33429"
      ],
      "text/plain": [
       "[1] 1534475394"
      ]
     },
     "metadata": {},
     "output_type": "display_data"
    }
   ],
   "source": [
    "unclass( as.POSIXct(Sys.time()) )"
   ]
  },
  {
   "cell_type": "markdown",
   "metadata": {},
   "source": [
    "# POSIXct vs POSIXlt"
   ]
  },
  {
   "cell_type": "code",
   "execution_count": 16,
   "metadata": {},
   "outputs": [
    {
     "data": {
      "text/plain": [
       "[1] \"2018-08-17 11:11:26 CST\""
      ]
     },
     "metadata": {},
     "output_type": "display_data"
    }
   ],
   "source": [
    "as.POSIXct(Sys.time())"
   ]
  },
  {
   "cell_type": "code",
   "execution_count": 18,
   "metadata": {},
   "outputs": [
    {
     "data": {
      "text/html": [
       "1534475511.45131"
      ],
      "text/latex": [
       "1534475511.45131"
      ],
      "text/markdown": [
       "1534475511.45131"
      ],
      "text/plain": [
       "[1] 1534475511"
      ]
     },
     "metadata": {},
     "output_type": "display_data"
    }
   ],
   "source": [
    "unclass(as.POSIXct(Sys.time()))"
   ]
  },
  {
   "cell_type": "code",
   "execution_count": 17,
   "metadata": {},
   "outputs": [
    {
     "data": {
      "text/plain": [
       "[1] \"2018-08-17 11:11:32 CST\""
      ]
     },
     "metadata": {},
     "output_type": "display_data"
    }
   ],
   "source": [
    "as.POSIXlt(Sys.time())"
   ]
  },
  {
   "cell_type": "code",
   "execution_count": 21,
   "metadata": {},
   "outputs": [
    {
     "data": {
      "text/html": [
       "2018"
      ],
      "text/latex": [
       "2018"
      ],
      "text/markdown": [
       "2018"
      ],
      "text/plain": [
       "[1] 2018"
      ]
     },
     "metadata": {},
     "output_type": "display_data"
    }
   ],
   "source": [
    "unclass(as.POSIXlt(Sys.time()))$year + 1900"
   ]
  },
  {
   "cell_type": "code",
   "execution_count": 22,
   "metadata": {},
   "outputs": [
    {
     "data": {
      "text/html": [
       "8"
      ],
      "text/latex": [
       "8"
      ],
      "text/markdown": [
       "8"
      ],
      "text/plain": [
       "[1] 8"
      ]
     },
     "metadata": {},
     "output_type": "display_data"
    }
   ],
   "source": [
    "unclass(as.POSIXlt(Sys.time()))$mon + 1"
   ]
  },
  {
   "cell_type": "code",
   "execution_count": 23,
   "metadata": {},
   "outputs": [
    {
     "data": {
      "text/html": [
       "17"
      ],
      "text/latex": [
       "17"
      ],
      "text/markdown": [
       "17"
      ],
      "text/plain": [
       "[1] 17"
      ]
     },
     "metadata": {},
     "output_type": "display_data"
    }
   ],
   "source": [
    "unclass(as.POSIXlt(Sys.time()))$mday"
   ]
  },
  {
   "cell_type": "code",
   "execution_count": 24,
   "metadata": {},
   "outputs": [],
   "source": [
    "appledaily$dt = dt"
   ]
  },
  {
   "cell_type": "code",
   "execution_count": 25,
   "metadata": {},
   "outputs": [
    {
     "name": "stdout",
     "output_type": "stream",
     "text": [
      "'data.frame':\t1500 obs. of  5 variables:\n",
      " $ content : chr  \"\\n                                        (更新:新增影片)想要透過刮刮樂彩券一夕致富，但他卻用錯方法！台中市一名\"| __truncated__ \"\\n                                        澳洲一名就讀雪梨大學的華裔博士生，日前公開一段燒毀中國護照的影片，還\"| __truncated__ \"\\n                                        【行銷專題企劃】房價高高在上，沒錢買房沒關係，但你認為自己是聰明的租\"| __truncated__ \"\\n                                        本內容由中央廣播電臺提供        美國國防部長卡特(Ash Carter)今天(15日\"| __truncated__ ...\n",
      " $ title   : chr  \"【更新】搶2.2萬彩券刮中1.4萬　沒發財還得入獄\" \"拿到澳洲護照後　他放火燒中國護照\" \"【特企】房市大追擊- 租屋這些事情要小心\" \"【央廣RTI】美菲軍演  美防長南海登艦\" ...\n",
      " $ dt      : POSIXct, format: \"2016-04-15 14:32:00\" \"2016-04-15 14:32:00\" ...\n",
      " $ category: chr  \"社會\" \"國際\" \"地產\" \"國際\" ...\n",
      " $ clicked : chr  \"人氣(1754)\" \"人氣(0)\" \"人氣(0)\" \"人氣(0)\" ...\n"
     ]
    }
   ],
   "source": [
    "str(appledaily)"
   ]
  },
  {
   "cell_type": "markdown",
   "metadata": {},
   "source": [
    "### sub => python replace "
   ]
  },
  {
   "cell_type": "code",
   "execution_count": 35,
   "metadata": {},
   "outputs": [],
   "source": [
    "tmp = sub('人氣\\\\(','',appledaily$clicked)"
   ]
  },
  {
   "cell_type": "code",
   "execution_count": 36,
   "metadata": {},
   "outputs": [],
   "source": [
    "tmp = sub('\\\\)','',tmp)"
   ]
  },
  {
   "cell_type": "code",
   "execution_count": 38,
   "metadata": {},
   "outputs": [],
   "source": [
    "clicked = as.integer(tmp)"
   ]
  },
  {
   "cell_type": "code",
   "execution_count": 40,
   "metadata": {},
   "outputs": [],
   "source": [
    "library(stringr)"
   ]
  },
  {
   "cell_type": "markdown",
   "metadata": {},
   "source": [
    "### str_match => python re.match"
   ]
  },
  {
   "cell_type": "code",
   "execution_count": 41,
   "metadata": {},
   "outputs": [],
   "source": [
    "?str_match"
   ]
  },
  {
   "cell_type": "code",
   "execution_count": 50,
   "metadata": {},
   "outputs": [],
   "source": [
    "clicked = as.integer( str_match(appledaily$clicked,'人氣\\\\((\\\\d+)\\\\)')[,2] )"
   ]
  },
  {
   "cell_type": "code",
   "execution_count": 51,
   "metadata": {},
   "outputs": [],
   "source": [
    "appledaily$clicked = clicked"
   ]
  },
  {
   "cell_type": "code",
   "execution_count": 52,
   "metadata": {},
   "outputs": [
    {
     "name": "stdout",
     "output_type": "stream",
     "text": [
      "'data.frame':\t1500 obs. of  5 variables:\n",
      " $ content : chr  \"\\n                                        (更新:新增影片)想要透過刮刮樂彩券一夕致富，但他卻用錯方法！台中市一名\"| __truncated__ \"\\n                                        澳洲一名就讀雪梨大學的華裔博士生，日前公開一段燒毀中國護照的影片，還\"| __truncated__ \"\\n                                        【行銷專題企劃】房價高高在上，沒錢買房沒關係，但你認為自己是聰明的租\"| __truncated__ \"\\n                                        本內容由中央廣播電臺提供        美國國防部長卡特(Ash Carter)今天(15日\"| __truncated__ ...\n",
      " $ title   : chr  \"【更新】搶2.2萬彩券刮中1.4萬　沒發財還得入獄\" \"拿到澳洲護照後　他放火燒中國護照\" \"【特企】房市大追擊- 租屋這些事情要小心\" \"【央廣RTI】美菲軍演  美防長南海登艦\" ...\n",
      " $ dt      : POSIXct, format: \"2016-04-15 14:32:00\" \"2016-04-15 14:32:00\" ...\n",
      " $ category: chr  \"社會\" \"國際\" \"地產\" \"國際\" ...\n",
      " $ clicked : int  1754 0 0 0 311 24 20 314 27 308 ...\n"
     ]
    }
   ],
   "source": [
    "str(appledaily)"
   ]
  },
  {
   "cell_type": "code",
   "execution_count": null,
   "metadata": {},
   "outputs": [],
   "source": []
  }
 ],
 "metadata": {
  "kernelspec": {
   "display_name": "R",
   "language": "R",
   "name": "ir"
  },
  "language_info": {
   "codemirror_mode": "r",
   "file_extension": ".r",
   "mimetype": "text/x-r-source",
   "name": "R",
   "pygments_lexer": "r",
   "version": "3.5.1"
  }
 },
 "nbformat": 4,
 "nbformat_minor": 2
}
