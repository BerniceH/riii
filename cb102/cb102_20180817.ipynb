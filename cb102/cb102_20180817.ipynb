{
 "cells": [
  {
   "cell_type": "code",
   "execution_count": 1,
   "metadata": {},
   "outputs": [],
   "source": [
    "setwd('~/lecture/riii/')"
   ]
  },
  {
   "cell_type": "markdown",
   "metadata": {},
   "source": [
    "### windows open utf8 file encoding problem\n",
    "- http://rwepa.blogspot.com/2017/09/ansifileencoding.html"
   ]
  },
  {
   "cell_type": "code",
   "execution_count": null,
   "metadata": {},
   "outputs": [],
   "source": [
    "read_csv('./data/ptt_sample.csv',header=T,fileEncoding=\"UTF-8-BOM\")"
   ]
  },
  {
   "cell_type": "code",
   "execution_count": 3,
   "metadata": {},
   "outputs": [],
   "source": [
    "load('./Statistics/appledaily.RData')"
   ]
  },
  {
   "cell_type": "code",
   "execution_count": 4,
   "metadata": {},
   "outputs": [
    {
     "data": {
      "text/html": [
       "'appledaily'"
      ],
      "text/latex": [
       "'appledaily'"
      ],
      "text/markdown": [
       "'appledaily'"
      ],
      "text/plain": [
       "[1] \"appledaily\""
      ]
     },
     "metadata": {},
     "output_type": "display_data"
    }
   ],
   "source": [
    "ls()"
   ]
  },
  {
   "cell_type": "code",
   "execution_count": 5,
   "metadata": {},
   "outputs": [
    {
     "name": "stdout",
     "output_type": "stream",
     "text": [
      "'data.frame':\t1500 obs. of  5 variables:\n",
      " $ content : chr  \"\\n                                        (更新:新增影片)想要透過刮刮樂彩券一夕致富，但他卻用錯方法！台中市一名\"| __truncated__ \"\\n                                        澳洲一名就讀雪梨大學的華裔博士生，日前公開一段燒毀中國護照的影片，還\"| __truncated__ \"\\n                                        【行銷專題企劃】房價高高在上，沒錢買房沒關係，但你認為自己是聰明的租\"| __truncated__ \"\\n                                        本內容由中央廣播電臺提供        美國國防部長卡特(Ash Carter)今天(15日\"| __truncated__ ...\n",
      " $ title   : chr  \"【更新】搶2.2萬彩券刮中1.4萬　沒發財還得入獄\" \"拿到澳洲護照後　他放火燒中國護照\" \"【特企】房市大追擊- 租屋這些事情要小心\" \"【央廣RTI】美菲軍演  美防長南海登艦\" ...\n",
      " $ dt      : chr  \"2016年04月15日14:32\" \"2016年04月15日14:32\" \"2016年04月15日14:31\" \"2016年04月15日14:30\" ...\n",
      " $ category: chr  \"社會\" \"國際\" \"地產\" \"國際\" ...\n",
      " $ clicked : chr  \"人氣(1754)\" \"人氣(0)\" \"人氣(0)\" \"人氣(0)\" ...\n"
     ]
    }
   ],
   "source": [
    "str(appledaily)"
   ]
  },
  {
   "cell_type": "code",
   "execution_count": 8,
   "metadata": {},
   "outputs": [],
   "source": [
    "dt = as.POSIXct(appledaily$dt,format='%Y年%m月%d日%H:%M')"
   ]
  },
  {
   "cell_type": "markdown",
   "metadata": {},
   "source": [
    "### Date 和 POSIX 差別\n",
    "- Date類別表示 \"日期\",  表示距離1970/1/1多少天, 單位為天\n",
    "- POSIX類別表示 \"時間\", 表示距離1970/1/1多少秒, 單位為秒"
   ]
  },
  {
   "cell_type": "code",
   "execution_count": 11,
   "metadata": {},
   "outputs": [
    {
     "data": {
      "text/html": [
       "17760"
      ],
      "text/latex": [
       "17760"
      ],
      "text/markdown": [
       "17760"
      ],
      "text/plain": [
       "[1] 17760"
      ]
     },
     "metadata": {},
     "output_type": "display_data"
    }
   ],
   "source": [
    "unclass( as.Date(Sys.time()) )"
   ]
  },
  {
   "cell_type": "code",
   "execution_count": 14,
   "metadata": {},
   "outputs": [
    {
     "data": {
      "text/html": [
       "1534475394.33429"
      ],
      "text/latex": [
       "1534475394.33429"
      ],
      "text/markdown": [
       "1534475394.33429"
      ],
      "text/plain": [
       "[1] 1534475394"
      ]
     },
     "metadata": {},
     "output_type": "display_data"
    }
   ],
   "source": [
    "unclass( as.POSIXct(Sys.time()) )"
   ]
  },
  {
   "cell_type": "markdown",
   "metadata": {},
   "source": [
    "# POSIXct vs POSIXlt"
   ]
  },
  {
   "cell_type": "code",
   "execution_count": 16,
   "metadata": {},
   "outputs": [
    {
     "data": {
      "text/plain": [
       "[1] \"2018-08-17 11:11:26 CST\""
      ]
     },
     "metadata": {},
     "output_type": "display_data"
    }
   ],
   "source": [
    "as.POSIXct(Sys.time())"
   ]
  },
  {
   "cell_type": "code",
   "execution_count": 18,
   "metadata": {},
   "outputs": [
    {
     "data": {
      "text/html": [
       "1534475511.45131"
      ],
      "text/latex": [
       "1534475511.45131"
      ],
      "text/markdown": [
       "1534475511.45131"
      ],
      "text/plain": [
       "[1] 1534475511"
      ]
     },
     "metadata": {},
     "output_type": "display_data"
    }
   ],
   "source": [
    "unclass(as.POSIXct(Sys.time()))"
   ]
  },
  {
   "cell_type": "code",
   "execution_count": 17,
   "metadata": {},
   "outputs": [
    {
     "data": {
      "text/plain": [
       "[1] \"2018-08-17 11:11:32 CST\""
      ]
     },
     "metadata": {},
     "output_type": "display_data"
    }
   ],
   "source": [
    "as.POSIXlt(Sys.time())"
   ]
  },
  {
   "cell_type": "code",
   "execution_count": 21,
   "metadata": {},
   "outputs": [
    {
     "data": {
      "text/html": [
       "2018"
      ],
      "text/latex": [
       "2018"
      ],
      "text/markdown": [
       "2018"
      ],
      "text/plain": [
       "[1] 2018"
      ]
     },
     "metadata": {},
     "output_type": "display_data"
    }
   ],
   "source": [
    "unclass(as.POSIXlt(Sys.time()))$year + 1900"
   ]
  },
  {
   "cell_type": "code",
   "execution_count": 22,
   "metadata": {},
   "outputs": [
    {
     "data": {
      "text/html": [
       "8"
      ],
      "text/latex": [
       "8"
      ],
      "text/markdown": [
       "8"
      ],
      "text/plain": [
       "[1] 8"
      ]
     },
     "metadata": {},
     "output_type": "display_data"
    }
   ],
   "source": [
    "unclass(as.POSIXlt(Sys.time()))$mon + 1"
   ]
  },
  {
   "cell_type": "code",
   "execution_count": 23,
   "metadata": {},
   "outputs": [
    {
     "data": {
      "text/html": [
       "17"
      ],
      "text/latex": [
       "17"
      ],
      "text/markdown": [
       "17"
      ],
      "text/plain": [
       "[1] 17"
      ]
     },
     "metadata": {},
     "output_type": "display_data"
    }
   ],
   "source": [
    "unclass(as.POSIXlt(Sys.time()))$mday"
   ]
  },
  {
   "cell_type": "code",
   "execution_count": 24,
   "metadata": {},
   "outputs": [],
   "source": [
    "appledaily$dt = dt"
   ]
  },
  {
   "cell_type": "markdown",
   "metadata": {},
   "source": [
    "### convert timestamp to datetime"
   ]
  },
  {
   "cell_type": "code",
   "execution_count": 62,
   "metadata": {},
   "outputs": [
    {
     "data": {
      "text/html": [
       "1534477328"
      ],
      "text/latex": [
       "1534477328"
      ],
      "text/markdown": [
       "1534477328"
      ],
      "text/plain": [
       "[1] 1534477328"
      ]
     },
     "metadata": {},
     "output_type": "display_data"
    }
   ],
   "source": [
    "tm = as.integer(unclass(as.POSIXct(Sys.time())))\n",
    "tm"
   ]
  },
  {
   "cell_type": "code",
   "execution_count": 66,
   "metadata": {},
   "outputs": [
    {
     "data": {
      "text/plain": [
       "[1] \"2018-08-17 12:42:08 JST\""
      ]
     },
     "metadata": {},
     "output_type": "display_data"
    }
   ],
   "source": [
    "as.POSIXct(tm,origin='1970-01-01',tz = 'Japan')"
   ]
  },
  {
   "cell_type": "code",
   "execution_count": 67,
   "metadata": {},
   "outputs": [
    {
     "data": {
      "text/plain": [
       "[1] \"2018-08-17 11:42:08 CST\""
      ]
     },
     "metadata": {},
     "output_type": "display_data"
    }
   ],
   "source": [
    "as.POSIXct(tm,origin='1970-01-01',tz = 'Asia/Taipei')"
   ]
  },
  {
   "cell_type": "code",
   "execution_count": 69,
   "metadata": {},
   "outputs": [],
   "source": [
    "?as.POSIXct"
   ]
  },
  {
   "cell_type": "code",
   "execution_count": 25,
   "metadata": {},
   "outputs": [
    {
     "name": "stdout",
     "output_type": "stream",
     "text": [
      "'data.frame':\t1500 obs. of  5 variables:\n",
      " $ content : chr  \"\\n                                        (更新:新增影片)想要透過刮刮樂彩券一夕致富，但他卻用錯方法！台中市一名\"| __truncated__ \"\\n                                        澳洲一名就讀雪梨大學的華裔博士生，日前公開一段燒毀中國護照的影片，還\"| __truncated__ \"\\n                                        【行銷專題企劃】房價高高在上，沒錢買房沒關係，但你認為自己是聰明的租\"| __truncated__ \"\\n                                        本內容由中央廣播電臺提供        美國國防部長卡特(Ash Carter)今天(15日\"| __truncated__ ...\n",
      " $ title   : chr  \"【更新】搶2.2萬彩券刮中1.4萬　沒發財還得入獄\" \"拿到澳洲護照後　他放火燒中國護照\" \"【特企】房市大追擊- 租屋這些事情要小心\" \"【央廣RTI】美菲軍演  美防長南海登艦\" ...\n",
      " $ dt      : POSIXct, format: \"2016-04-15 14:32:00\" \"2016-04-15 14:32:00\" ...\n",
      " $ category: chr  \"社會\" \"國際\" \"地產\" \"國際\" ...\n",
      " $ clicked : chr  \"人氣(1754)\" \"人氣(0)\" \"人氣(0)\" \"人氣(0)\" ...\n"
     ]
    }
   ],
   "source": [
    "str(appledaily)"
   ]
  },
  {
   "cell_type": "markdown",
   "metadata": {},
   "source": [
    "### sub => python replace "
   ]
  },
  {
   "cell_type": "code",
   "execution_count": 35,
   "metadata": {},
   "outputs": [],
   "source": [
    "tmp = sub('人氣\\\\(','',appledaily$clicked)"
   ]
  },
  {
   "cell_type": "code",
   "execution_count": 36,
   "metadata": {},
   "outputs": [],
   "source": [
    "tmp = sub('\\\\)','',tmp)"
   ]
  },
  {
   "cell_type": "code",
   "execution_count": 38,
   "metadata": {},
   "outputs": [],
   "source": [
    "clicked = as.integer(tmp)"
   ]
  },
  {
   "cell_type": "code",
   "execution_count": 40,
   "metadata": {},
   "outputs": [],
   "source": [
    "library(stringr)"
   ]
  },
  {
   "cell_type": "markdown",
   "metadata": {},
   "source": [
    "### str_match => python re.match"
   ]
  },
  {
   "cell_type": "code",
   "execution_count": 41,
   "metadata": {},
   "outputs": [],
   "source": [
    "?str_match"
   ]
  },
  {
   "cell_type": "code",
   "execution_count": 50,
   "metadata": {},
   "outputs": [],
   "source": [
    "clicked = as.integer( str_match(appledaily$clicked,'人氣\\\\((\\\\d+)\\\\)')[,2] )"
   ]
  },
  {
   "cell_type": "code",
   "execution_count": 51,
   "metadata": {},
   "outputs": [],
   "source": [
    "appledaily$clicked = clicked"
   ]
  },
  {
   "cell_type": "code",
   "execution_count": 52,
   "metadata": {},
   "outputs": [
    {
     "name": "stdout",
     "output_type": "stream",
     "text": [
      "'data.frame':\t1500 obs. of  5 variables:\n",
      " $ content : chr  \"\\n                                        (更新:新增影片)想要透過刮刮樂彩券一夕致富，但他卻用錯方法！台中市一名\"| __truncated__ \"\\n                                        澳洲一名就讀雪梨大學的華裔博士生，日前公開一段燒毀中國護照的影片，還\"| __truncated__ \"\\n                                        【行銷專題企劃】房價高高在上，沒錢買房沒關係，但你認為自己是聰明的租\"| __truncated__ \"\\n                                        本內容由中央廣播電臺提供        美國國防部長卡特(Ash Carter)今天(15日\"| __truncated__ ...\n",
      " $ title   : chr  \"【更新】搶2.2萬彩券刮中1.4萬　沒發財還得入獄\" \"拿到澳洲護照後　他放火燒中國護照\" \"【特企】房市大追擊- 租屋這些事情要小心\" \"【央廣RTI】美菲軍演  美防長南海登艦\" ...\n",
      " $ dt      : POSIXct, format: \"2016-04-15 14:32:00\" \"2016-04-15 14:32:00\" ...\n",
      " $ category: chr  \"社會\" \"國際\" \"地產\" \"國際\" ...\n",
      " $ clicked : int  1754 0 0 0 311 24 20 314 27 308 ...\n"
     ]
    }
   ],
   "source": [
    "str(appledaily)"
   ]
  },
  {
   "cell_type": "markdown",
   "metadata": {},
   "source": [
    "### 其他常見字串處理函式"
   ]
  },
  {
   "cell_type": "code",
   "execution_count": null,
   "metadata": {},
   "outputs": [],
   "source": [
    "#grep, grepl"
   ]
  },
  {
   "cell_type": "code",
   "execution_count": 70,
   "metadata": {},
   "outputs": [],
   "source": [
    "test_str = c('abcd','bcd','cde')"
   ]
  },
  {
   "cell_type": "code",
   "execution_count": 71,
   "metadata": {},
   "outputs": [
    {
     "data": {
      "text/html": [
       "<ol class=list-inline>\n",
       "\t<li>1</li>\n",
       "\t<li>2</li>\n",
       "</ol>\n"
      ],
      "text/latex": [
       "\\begin{enumerate*}\n",
       "\\item 1\n",
       "\\item 2\n",
       "\\end{enumerate*}\n"
      ],
      "text/markdown": [
       "1. 1\n",
       "2. 2\n",
       "\n",
       "\n"
      ],
      "text/plain": [
       "[1] 1 2"
      ]
     },
     "metadata": {},
     "output_type": "display_data"
    }
   ],
   "source": [
    "grep('bc',test_str)"
   ]
  },
  {
   "cell_type": "code",
   "execution_count": 76,
   "metadata": {},
   "outputs": [
    {
     "data": {
      "text/html": [
       "<table>\n",
       "<thead><tr><th></th><th scope=col>content</th><th scope=col>title</th><th scope=col>dt</th><th scope=col>category</th><th scope=col>clicked</th></tr></thead>\n",
       "<tbody>\n",
       "\t<tr><th scope=row>2</th><td>\n",
       "                                        澳洲一名就讀雪梨大學的華裔博士生，日前公開一段燒毀中國護照的影片，還大肆批評留澳學生是一群「留學豬」。消息傳出後，這名博士生立刻被大陸網友起底。 據悉，該博士生姓名為吳維，正在雪梨大學攻讀金融學博士，同時在該校任教，並於去年加入澳洲籍。該博士生的微博名為「Pekojima」，該賬號從2012年開始一直處於活躍狀態。他稱自己為「澳洲公民」、「雪梨大學商學院全獎」、「金融系 Ph.D.」、「本系必修課head tutor」。但此微博現已被刪除。他也曾在微博上諷刺中國留學生的智商，稱他們「要花錢找論文代寫」，並侮辱留學生為「留學豬」。 英國《每日郵報》報導稱，雪梨大學已開始調查他焚燒中國護照一事。（大陸中心／綜合報導） 更多國際新聞請進蘋果繞著地球爆  \n",
       "                    翻攝網路翻攝網路                    \n",
       "                    googletag.cmd.push(function() {googletag.display('teadstv');})\n",
       "                    googletag.cmd.push(function() {googletag.display('goldenhorse');})\n",
       "                    googletag.cmd.push(function() {googletag.display('textlink');})\n",
       "                    有話要說 投稿「即時論壇」\n",
       "                  </td><td>拿到澳洲護照後　他放火燒中國護照                                                                                                                                                                                                                                                                                                                                                                                                                                                                                                                                                                                                                                                                                                                                                                                                                                                                                                                                                                                                                                                       </td><td>2016-04-15 14:32:00                                                                                                                                                                                                                                                                                                                                                                                                                                                                                                                                                                                                                                                                                                                                                                                                                                                                                                                                                                                                                                                                    </td><td>國際                                                                                                                                                                                                                                                                                                                                                                                                                                                                                                                                                                                                                                                                                                                                                                                                                                                                                                                                                                                                                                                                                   </td><td>0                                                                                                                                                                                                                                                                                                                                                                                                                                                                                                                                                                                                                                                                                                                                                                                                                                                                                                                                                                                                                                                                                      </td></tr>\n",
       "</tbody>\n",
       "</table>\n"
      ],
      "text/latex": [
       "\\begin{tabular}{r|lllll}\n",
       "  & content & title & dt & category & clicked\\\\\n",
       "\\hline\n",
       "\t2 & \n",
       "                                        澳洲一名就讀雪梨大學的華裔博士生，日前公開一段燒毀中國護照的影片，還大肆批評留澳學生是一群「留學豬」。消息傳出後，這名博士生立刻被大陸網友起底。 據悉，該博士生姓名為吳維，正在雪梨大學攻讀金融學博士，同時在該校任教，並於去年加入澳洲籍。該博士生的微博名為「Pekojima」，該賬號從2012年開始一直處於活躍狀態。他稱自己為「澳洲公民」、「雪梨大學商學院全獎」、「金融系 Ph.D.」、「本系必修課head tutor」。但此微博現已被刪除。他也曾在微博上諷刺中國留學生的智商，稱他們「要花錢找論文代寫」，並侮辱留學生為「留學豬」。 英國《每日郵報》報導稱，雪梨大學已開始調查他焚燒中國護照一事。（大陸中心／綜合報導） 更多國際新聞請進蘋果繞著地球爆  \n",
       "                    翻攝網路翻攝網路                    \n",
       "                    googletag.cmd.push(function() \\{googletag.display('teadstv');\\})\n",
       "                    googletag.cmd.push(function() \\{googletag.display('goldenhorse');\\})\n",
       "                    googletag.cmd.push(function() \\{googletag.display('textlink');\\})\n",
       "                    有話要說 投稿「即時論壇」\n",
       "                   & 拿到澳洲護照後　他放火燒中國護照                                                                                                                                                                                                                                                                                                                                                                                                                                                                                                                                                                                                                                                                                                                                                                                                                                                                                                                                                                                                                                                                    & 2016-04-15 14:32:00                                                                                                                                                                                                                                                                                                                                                                                                                                                                                                                                                                                                                                                                                                                                                                                                                                                                                                                                                                                                                                                                                 & 國際                                                                                                                                                                                                                                                                                                                                                                                                                                                                                                                                                                                                                                                                                                                                                                                                                                                                                                                                                                                                                                                                                                & 0                                                                                                                                                                                                                                                                                                                                                                                                                                                                                                                                                                                                                                                                                                                                                                                                                                                                                                                                                                                                                                                                                                  \\\\\n",
       "\\end{tabular}\n"
      ],
      "text/markdown": [
       "\n",
       "| <!--/--> | content | title | dt | category | clicked | \n",
       "|---|\n",
       "| 2 | \n",
       "                                        澳洲一名就讀雪梨大學的華裔博士生，日前公開一段燒毀中國護照的影片，還大肆批評留澳學生是一群「留學豬」。消息傳出後，這名博士生立刻被大陸網友起底。 據悉，該博士生姓名為吳維，正在雪梨大學攻讀金融學博士，同時在該校任教，並於去年加入澳洲籍。該博士生的微博名為「Pekojima」，該賬號從2012年開始一直處於活躍狀態。他稱自己為「澳洲公民」、「雪梨大學商學院全獎」、「金融系 Ph.D.」、「本系必修課head tutor」。但此微博現已被刪除。他也曾在微博上諷刺中國留學生的智商，稱他們「要花錢找論文代寫」，並侮辱留學生為「留學豬」。 英國《每日郵報》報導稱，雪梨大學已開始調查他焚燒中國護照一事。（大陸中心／綜合報導） 更多國際新聞請進蘋果繞著地球爆  \n",
       "                    翻攝網路翻攝網路                    \n",
       "                    googletag.cmd.push(function() {googletag.display('teadstv');})\n",
       "                    googletag.cmd.push(function() {googletag.display('goldenhorse');})\n",
       "                    googletag.cmd.push(function() {googletag.display('textlink');})\n",
       "                    有話要說 投稿「即時論壇」\n",
       "                   | 拿到澳洲護照後　他放火燒中國護照                                                                                                                                                                                                                                                                                                                                                                                                                                                                                                                                                                                                                                                                                                                                                                                                                                                                                                                                                                                                                                                        | 2016-04-15 14:32:00                                                                                                                                                                                                                                                                                                                                                                                                                                                                                                                                                                                                                                                                                                                                                                                                                                                                                                                                                                                                                                                                     | 國際                                                                                                                                                                                                                                                                                                                                                                                                                                                                                                                                                                                                                                                                                                                                                                                                                                                                                                                                                                                                                                                                                    | 0                                                                                                                                                                                                                                                                                                                                                                                                                                                                                                                                                                                                                                                                                                                                                                                                                                                                                                                                                                                                                                                                                       | \n",
       "\n",
       "\n"
      ],
      "text/plain": [
       "  content                                                                                                                                                                                                                                                                                                                                                                                                                                                                                                                                                                                                                                                                                                                                                                                                                                                                                                                                                                                                                                                                                \n",
       "2 \\n                                        澳洲一名就讀雪梨大學的華裔博士生，日前公開一段燒毀中國護照的影片，還大肆批評留澳學生是一群「留學豬」。消息傳出後，這名博士生立刻被大陸網友起底。 據悉，該博士生姓名為吳維，正在雪梨大學攻讀金融學博士，同時在該校任教，並於去年加入澳洲籍。該博士生的微博名為「Pekojima」，該賬號從2012年開始一直處於活躍狀態。他稱自己為「澳洲公民」、「雪梨大學商學院全獎」、「金融系 Ph.D.」、「本系必修課head tutor」。但此微博現已被刪除。他也曾在微博上諷刺中國留學生的智商，稱他們「要花錢找論文代寫」，並侮辱留學生為「留學豬」。 英國《每日郵報》報導稱，雪梨大學已開始調查他焚燒中國護照一事。（大陸中心／綜合報導） 更多國際新聞請進蘋果繞著地球爆  \\n                    翻攝網路翻攝網路                    \\n                    googletag.cmd.push(function() {googletag.display('teadstv');})\\n                    googletag.cmd.push(function() {googletag.display('goldenhorse');})\\n                    googletag.cmd.push(function() {googletag.display('textlink');})\\n                    有話要說 投稿「即時論壇」\\n                  \n",
       "  title                            dt                  category clicked\n",
       "2 拿到澳洲護照後　他放火燒中國護照 2016-04-15 14:32:00 國際     0      "
      ]
     },
     "metadata": {},
     "output_type": "display_data"
    }
   ],
   "source": [
    "appledaily[grep('中國',appledaily$title[1:5]),]"
   ]
  },
  {
   "cell_type": "code",
   "execution_count": 82,
   "metadata": {},
   "outputs": [
    {
     "data": {
      "text/html": [
       "<ol class=list-inline>\n",
       "\t<li>FALSE</li>\n",
       "\t<li>TRUE</li>\n",
       "\t<li>FALSE</li>\n",
       "\t<li>FALSE</li>\n",
       "\t<li>FALSE</li>\n",
       "</ol>\n"
      ],
      "text/latex": [
       "\\begin{enumerate*}\n",
       "\\item FALSE\n",
       "\\item TRUE\n",
       "\\item FALSE\n",
       "\\item FALSE\n",
       "\\item FALSE\n",
       "\\end{enumerate*}\n"
      ],
      "text/markdown": [
       "1. FALSE\n",
       "2. TRUE\n",
       "3. FALSE\n",
       "4. FALSE\n",
       "5. FALSE\n",
       "\n",
       "\n"
      ],
      "text/plain": [
       "[1] FALSE  TRUE FALSE FALSE FALSE"
      ]
     },
     "metadata": {},
     "output_type": "display_data"
    }
   ],
   "source": [
    "grepl('中國',appledaily$title[1:5])"
   ]
  },
  {
   "cell_type": "code",
   "execution_count": 83,
   "metadata": {},
   "outputs": [
    {
     "data": {
      "text/html": [
       "<table>\n",
       "<thead><tr><th></th><th scope=col>content</th><th scope=col>title</th><th scope=col>dt</th><th scope=col>category</th><th scope=col>clicked</th></tr></thead>\n",
       "<tbody>\n",
       "\t<tr><th scope=row>2</th><td>\n",
       "                                        澳洲一名就讀雪梨大學的華裔博士生，日前公開一段燒毀中國護照的影片，還大肆批評留澳學生是一群「留學豬」。消息傳出後，這名博士生立刻被大陸網友起底。 據悉，該博士生姓名為吳維，正在雪梨大學攻讀金融學博士，同時在該校任教，並於去年加入澳洲籍。該博士生的微博名為「Pekojima」，該賬號從2012年開始一直處於活躍狀態。他稱自己為「澳洲公民」、「雪梨大學商學院全獎」、「金融系 Ph.D.」、「本系必修課head tutor」。但此微博現已被刪除。他也曾在微博上諷刺中國留學生的智商，稱他們「要花錢找論文代寫」，並侮辱留學生為「留學豬」。 英國《每日郵報》報導稱，雪梨大學已開始調查他焚燒中國護照一事。（大陸中心／綜合報導） 更多國際新聞請進蘋果繞著地球爆  \n",
       "                    翻攝網路翻攝網路                    \n",
       "                    googletag.cmd.push(function() {googletag.display('teadstv');})\n",
       "                    googletag.cmd.push(function() {googletag.display('goldenhorse');})\n",
       "                    googletag.cmd.push(function() {googletag.display('textlink');})\n",
       "                    有話要說 投稿「即時論壇」\n",
       "                  </td><td>拿到澳洲護照後　他放火燒中國護照                                                                                                                                                                                                                                                                                                                                                                                                                                                                                                                                                                                                                                                                                                                                                                                                                                                                                                                                                                                                                                                       </td><td>2016-04-15 14:32:00                                                                                                                                                                                                                                                                                                                                                                                                                                                                                                                                                                                                                                                                                                                                                                                                                                                                                                                                                                                                                                                                    </td><td>國際                                                                                                                                                                                                                                                                                                                                                                                                                                                                                                                                                                                                                                                                                                                                                                                                                                                                                                                                                                                                                                                                                   </td><td>0                                                                                                                                                                                                                                                                                                                                                                                                                                                                                                                                                                                                                                                                                                                                                                                                                                                                                                                                                                                                                                                                                      </td></tr>\n",
       "</tbody>\n",
       "</table>\n"
      ],
      "text/latex": [
       "\\begin{tabular}{r|lllll}\n",
       "  & content & title & dt & category & clicked\\\\\n",
       "\\hline\n",
       "\t2 & \n",
       "                                        澳洲一名就讀雪梨大學的華裔博士生，日前公開一段燒毀中國護照的影片，還大肆批評留澳學生是一群「留學豬」。消息傳出後，這名博士生立刻被大陸網友起底。 據悉，該博士生姓名為吳維，正在雪梨大學攻讀金融學博士，同時在該校任教，並於去年加入澳洲籍。該博士生的微博名為「Pekojima」，該賬號從2012年開始一直處於活躍狀態。他稱自己為「澳洲公民」、「雪梨大學商學院全獎」、「金融系 Ph.D.」、「本系必修課head tutor」。但此微博現已被刪除。他也曾在微博上諷刺中國留學生的智商，稱他們「要花錢找論文代寫」，並侮辱留學生為「留學豬」。 英國《每日郵報》報導稱，雪梨大學已開始調查他焚燒中國護照一事。（大陸中心／綜合報導） 更多國際新聞請進蘋果繞著地球爆  \n",
       "                    翻攝網路翻攝網路                    \n",
       "                    googletag.cmd.push(function() \\{googletag.display('teadstv');\\})\n",
       "                    googletag.cmd.push(function() \\{googletag.display('goldenhorse');\\})\n",
       "                    googletag.cmd.push(function() \\{googletag.display('textlink');\\})\n",
       "                    有話要說 投稿「即時論壇」\n",
       "                   & 拿到澳洲護照後　他放火燒中國護照                                                                                                                                                                                                                                                                                                                                                                                                                                                                                                                                                                                                                                                                                                                                                                                                                                                                                                                                                                                                                                                                    & 2016-04-15 14:32:00                                                                                                                                                                                                                                                                                                                                                                                                                                                                                                                                                                                                                                                                                                                                                                                                                                                                                                                                                                                                                                                                                 & 國際                                                                                                                                                                                                                                                                                                                                                                                                                                                                                                                                                                                                                                                                                                                                                                                                                                                                                                                                                                                                                                                                                                & 0                                                                                                                                                                                                                                                                                                                                                                                                                                                                                                                                                                                                                                                                                                                                                                                                                                                                                                                                                                                                                                                                                                  \\\\\n",
       "\\end{tabular}\n"
      ],
      "text/markdown": [
       "\n",
       "| <!--/--> | content | title | dt | category | clicked | \n",
       "|---|\n",
       "| 2 | \n",
       "                                        澳洲一名就讀雪梨大學的華裔博士生，日前公開一段燒毀中國護照的影片，還大肆批評留澳學生是一群「留學豬」。消息傳出後，這名博士生立刻被大陸網友起底。 據悉，該博士生姓名為吳維，正在雪梨大學攻讀金融學博士，同時在該校任教，並於去年加入澳洲籍。該博士生的微博名為「Pekojima」，該賬號從2012年開始一直處於活躍狀態。他稱自己為「澳洲公民」、「雪梨大學商學院全獎」、「金融系 Ph.D.」、「本系必修課head tutor」。但此微博現已被刪除。他也曾在微博上諷刺中國留學生的智商，稱他們「要花錢找論文代寫」，並侮辱留學生為「留學豬」。 英國《每日郵報》報導稱，雪梨大學已開始調查他焚燒中國護照一事。（大陸中心／綜合報導） 更多國際新聞請進蘋果繞著地球爆  \n",
       "                    翻攝網路翻攝網路                    \n",
       "                    googletag.cmd.push(function() {googletag.display('teadstv');})\n",
       "                    googletag.cmd.push(function() {googletag.display('goldenhorse');})\n",
       "                    googletag.cmd.push(function() {googletag.display('textlink');})\n",
       "                    有話要說 投稿「即時論壇」\n",
       "                   | 拿到澳洲護照後　他放火燒中國護照                                                                                                                                                                                                                                                                                                                                                                                                                                                                                                                                                                                                                                                                                                                                                                                                                                                                                                                                                                                                                                                        | 2016-04-15 14:32:00                                                                                                                                                                                                                                                                                                                                                                                                                                                                                                                                                                                                                                                                                                                                                                                                                                                                                                                                                                                                                                                                     | 國際                                                                                                                                                                                                                                                                                                                                                                                                                                                                                                                                                                                                                                                                                                                                                                                                                                                                                                                                                                                                                                                                                    | 0                                                                                                                                                                                                                                                                                                                                                                                                                                                                                                                                                                                                                                                                                                                                                                                                                                                                                                                                                                                                                                                                                       | \n",
       "\n",
       "\n"
      ],
      "text/plain": [
       "  content                                                                                                                                                                                                                                                                                                                                                                                                                                                                                                                                                                                                                                                                                                                                                                                                                                                                                                                                                                                                                                                                                \n",
       "2 \\n                                        澳洲一名就讀雪梨大學的華裔博士生，日前公開一段燒毀中國護照的影片，還大肆批評留澳學生是一群「留學豬」。消息傳出後，這名博士生立刻被大陸網友起底。 據悉，該博士生姓名為吳維，正在雪梨大學攻讀金融學博士，同時在該校任教，並於去年加入澳洲籍。該博士生的微博名為「Pekojima」，該賬號從2012年開始一直處於活躍狀態。他稱自己為「澳洲公民」、「雪梨大學商學院全獎」、「金融系 Ph.D.」、「本系必修課head tutor」。但此微博現已被刪除。他也曾在微博上諷刺中國留學生的智商，稱他們「要花錢找論文代寫」，並侮辱留學生為「留學豬」。 英國《每日郵報》報導稱，雪梨大學已開始調查他焚燒中國護照一事。（大陸中心／綜合報導） 更多國際新聞請進蘋果繞著地球爆  \\n                    翻攝網路翻攝網路                    \\n                    googletag.cmd.push(function() {googletag.display('teadstv');})\\n                    googletag.cmd.push(function() {googletag.display('goldenhorse');})\\n                    googletag.cmd.push(function() {googletag.display('textlink');})\\n                    有話要說 投稿「即時論壇」\\n                  \n",
       "  title                            dt                  category clicked\n",
       "2 拿到澳洲護照後　他放火燒中國護照 2016-04-15 14:32:00 國際     0      "
      ]
     },
     "metadata": {},
     "output_type": "display_data"
    }
   ],
   "source": [
    "appledaily[1:5,][grepl('中國',appledaily$title[1:5]),]"
   ]
  },
  {
   "cell_type": "code",
   "execution_count": 78,
   "metadata": {},
   "outputs": [
    {
     "data": {
      "text/html": [
       "2"
      ],
      "text/latex": [
       "2"
      ],
      "text/markdown": [
       "2"
      ],
      "text/plain": [
       "[1] 2"
      ]
     },
     "metadata": {},
     "output_type": "display_data"
    }
   ],
   "source": [
    "sum(grepl('bc',test_str))"
   ]
  },
  {
   "cell_type": "code",
   "execution_count": 79,
   "metadata": {},
   "outputs": [
    {
     "data": {
      "text/html": [
       "2"
      ],
      "text/latex": [
       "2"
      ],
      "text/markdown": [
       "2"
      ],
      "text/plain": [
       "[1] 2"
      ]
     },
     "metadata": {},
     "output_type": "display_data"
    }
   ],
   "source": [
    "length(grep('bc',test_str))"
   ]
  },
  {
   "cell_type": "code",
   "execution_count": 91,
   "metadata": {},
   "outputs": [],
   "source": [
    "#strsplit\n",
    "test_str = c('abc-def','fff-ggg')"
   ]
  },
  {
   "cell_type": "code",
   "execution_count": 92,
   "metadata": {},
   "outputs": [
    {
     "name": "stdout",
     "output_type": "stream",
     "text": [
      "[[1]]\n",
      "[1] \"abc\" \"def\"\n",
      "\n",
      "[[2]]\n",
      "[1] \"fff\" \"ggg\"\n",
      "\n"
     ]
    }
   ],
   "source": [
    "print( strsplit(test_str,'-') )"
   ]
  },
  {
   "cell_type": "code",
   "execution_count": 93,
   "metadata": {},
   "outputs": [
    {
     "data": {
      "text/html": [
       "'list'"
      ],
      "text/latex": [
       "'list'"
      ],
      "text/markdown": [
       "'list'"
      ],
      "text/plain": [
       "[1] \"list\""
      ]
     },
     "metadata": {},
     "output_type": "display_data"
    }
   ],
   "source": [
    "class( strsplit(test_str,'-') )"
   ]
  },
  {
   "cell_type": "code",
   "execution_count": 94,
   "metadata": {},
   "outputs": [
    {
     "data": {
      "text/html": [
       "'abc'"
      ],
      "text/latex": [
       "'abc'"
      ],
      "text/markdown": [
       "'abc'"
      ],
      "text/plain": [
       "[1] \"abc\""
      ]
     },
     "metadata": {},
     "output_type": "display_data"
    }
   ],
   "source": [
    "strsplit(test_str,'-')[[1]][1]"
   ]
  },
  {
   "cell_type": "code",
   "execution_count": 98,
   "metadata": {},
   "outputs": [],
   "source": [
    "tmp = unlist( strsplit(test_str,'-') )"
   ]
  },
  {
   "cell_type": "code",
   "execution_count": 99,
   "metadata": {},
   "outputs": [
    {
     "data": {
      "text/html": [
       "<ol class=list-inline>\n",
       "\t<li>'abc'</li>\n",
       "\t<li>'fff'</li>\n",
       "</ol>\n"
      ],
      "text/latex": [
       "\\begin{enumerate*}\n",
       "\\item 'abc'\n",
       "\\item 'fff'\n",
       "\\end{enumerate*}\n"
      ],
      "text/markdown": [
       "1. 'abc'\n",
       "2. 'fff'\n",
       "\n",
       "\n"
      ],
      "text/plain": [
       "[1] \"abc\" \"fff\""
      ]
     },
     "metadata": {},
     "output_type": "display_data"
    }
   ],
   "source": [
    "tmp[seq(1,length(tmp),by=2)]"
   ]
  },
  {
   "cell_type": "code",
   "execution_count": 100,
   "metadata": {},
   "outputs": [
    {
     "data": {
      "text/html": [
       "<ol class=list-inline>\n",
       "\t<li>'def'</li>\n",
       "\t<li>'ggg'</li>\n",
       "</ol>\n"
      ],
      "text/latex": [
       "\\begin{enumerate*}\n",
       "\\item 'def'\n",
       "\\item 'ggg'\n",
       "\\end{enumerate*}\n"
      ],
      "text/markdown": [
       "1. 'def'\n",
       "2. 'ggg'\n",
       "\n",
       "\n"
      ],
      "text/plain": [
       "[1] \"def\" \"ggg\""
      ]
     },
     "metadata": {},
     "output_type": "display_data"
    }
   ],
   "source": [
    "tmp[seq(2,length(tmp),by=2)]"
   ]
  },
  {
   "cell_type": "code",
   "execution_count": 96,
   "metadata": {},
   "outputs": [
    {
     "data": {
      "text/html": [
       "<ol class=list-inline>\n",
       "\t<li>1</li>\n",
       "\t<li>3</li>\n",
       "</ol>\n"
      ],
      "text/latex": [
       "\\begin{enumerate*}\n",
       "\\item 1\n",
       "\\item 3\n",
       "\\end{enumerate*}\n"
      ],
      "text/markdown": [
       "1. 1\n",
       "2. 3\n",
       "\n",
       "\n"
      ],
      "text/plain": [
       "[1] 1 3"
      ]
     },
     "metadata": {},
     "output_type": "display_data"
    }
   ],
   "source": [
    "seq(1,3,by=2)"
   ]
  },
  {
   "cell_type": "code",
   "execution_count": null,
   "metadata": {},
   "outputs": [],
   "source": [
    "#substring"
   ]
  },
  {
   "cell_type": "code",
   "execution_count": 101,
   "metadata": {},
   "outputs": [],
   "source": [
    "test_s = 'abcdef'"
   ]
  },
  {
   "cell_type": "code",
   "execution_count": 105,
   "metadata": {},
   "outputs": [
    {
     "data": {
      "text/html": [
       "'bcde'"
      ],
      "text/latex": [
       "'bcde'"
      ],
      "text/markdown": [
       "'bcde'"
      ],
      "text/plain": [
       "[1] \"bcde\""
      ]
     },
     "metadata": {},
     "output_type": "display_data"
    }
   ],
   "source": [
    "substr(test_s,start=2,stop=5)"
   ]
  },
  {
   "cell_type": "code",
   "execution_count": 107,
   "metadata": {},
   "outputs": [
    {
     "data": {
      "text/html": [
       "'bcde'"
      ],
      "text/latex": [
       "'bcde'"
      ],
      "text/markdown": [
       "'bcde'"
      ],
      "text/plain": [
       "[1] \"bcde\""
      ]
     },
     "metadata": {},
     "output_type": "display_data"
    }
   ],
   "source": [
    "substring(test_s,first=2,last=nchar(test_s)-1)"
   ]
  },
  {
   "cell_type": "code",
   "execution_count": 108,
   "metadata": {},
   "outputs": [
    {
     "name": "stdout",
     "output_type": "stream",
     "text": [
      "'data.frame':\t1500 obs. of  5 variables:\n",
      " $ content : chr  \"\\n                                        (更新:新增影片)想要透過刮刮樂彩券一夕致富，但他卻用錯方法！台中市一名\"| __truncated__ \"\\n                                        澳洲一名就讀雪梨大學的華裔博士生，日前公開一段燒毀中國護照的影片，還\"| __truncated__ \"\\n                                        【行銷專題企劃】房價高高在上，沒錢買房沒關係，但你認為自己是聰明的租\"| __truncated__ \"\\n                                        本內容由中央廣播電臺提供        美國國防部長卡特(Ash Carter)今天(15日\"| __truncated__ ...\n",
      " $ title   : chr  \"【更新】搶2.2萬彩券刮中1.4萬　沒發財還得入獄\" \"拿到澳洲護照後　他放火燒中國護照\" \"【特企】房市大追擊- 租屋這些事情要小心\" \"【央廣RTI】美菲軍演  美防長南海登艦\" ...\n",
      " $ dt      : POSIXct, format: \"2016-04-15 14:32:00\" \"2016-04-15 14:32:00\" ...\n",
      " $ category: chr  \"社會\" \"國際\" \"地產\" \"國際\" ...\n",
      " $ clicked : int  1754 0 0 0 311 24 20 314 27 308 ...\n"
     ]
    }
   ],
   "source": [
    "str(appledaily)"
   ]
  },
  {
   "cell_type": "code",
   "execution_count": 110,
   "metadata": {},
   "outputs": [
    {
     "data": {
      "text/plain": [
       "\n",
       "                      3C                     財經                     地產 \n",
       "                      37                      121                       32 \n",
       "                    動物                     國際 國際\",\"LA\",\"SF\",\"NY\",\"US \n",
       "                      26                      273                        9 \n",
       "          國際\",\"SF\",\"US                     論壇                     社會 \n",
       "                       3                       55                      194 \n",
       "                    生活                     時尚                     搜奇 \n",
       "                     298                       38                       55 \n",
       "                    體育                     娛樂                     正妹 \n",
       "                      95                      113                        8 \n",
       "                    政治 \n",
       "                     143 "
      ]
     },
     "metadata": {},
     "output_type": "display_data"
    }
   ],
   "source": [
    "table(appledaily$category)"
   ]
  },
  {
   "cell_type": "code",
   "execution_count": 113,
   "metadata": {},
   "outputs": [],
   "source": [
    "appledaily$category[appledaily$category == '國際\",\"LA\",\"SF\",\"NY\",\"US'] = '國際'"
   ]
  },
  {
   "cell_type": "code",
   "execution_count": 116,
   "metadata": {},
   "outputs": [],
   "source": [
    "appledaily$category[appledaily$category == '國際\",\"SF\",\"US'] = '國際'"
   ]
  },
  {
   "cell_type": "code",
   "execution_count": 123,
   "metadata": {},
   "outputs": [
    {
     "data": {
      "text/plain": [
       "\n",
       "  3C 財經 地產 動物 國際 論壇 社會 生活 時尚 搜奇 體育 娛樂 正妹 政治 \n",
       "  37  121   32   26  285   55  194  298   38   55   95  113    8  143 "
      ]
     },
     "metadata": {},
     "output_type": "display_data"
    }
   ],
   "source": [
    "table(appledaily$category)"
   ]
  },
  {
   "cell_type": "code",
   "execution_count": 119,
   "metadata": {},
   "outputs": [],
   "source": [
    "applenews = appledaily"
   ]
  },
  {
   "cell_type": "code",
   "execution_count": 121,
   "metadata": {},
   "outputs": [],
   "source": [
    "save(applenews,file='./Statistics/applenews.RData')"
   ]
  },
  {
   "cell_type": "code",
   "execution_count": null,
   "metadata": {},
   "outputs": [],
   "source": []
  },
  {
   "cell_type": "code",
   "execution_count": 132,
   "metadata": {},
   "outputs": [
    {
     "data": {
      "text/html": [
       "<ol class=list-inline>\n",
       "\t<li>278</li>\n",
       "\t<li>1053</li>\n",
       "\t<li>859</li>\n",
       "\t<li>252</li>\n",
       "\t<li>1412</li>\n",
       "\t<li>1411</li>\n",
       "\t<li>193</li>\n",
       "\t<li>1245</li>\n",
       "\t<li>699</li>\n",
       "\t<li>821</li>\n",
       "\t<li>824</li>\n",
       "\t<li>356</li>\n",
       "\t<li>1132</li>\n",
       "\t<li>269</li>\n",
       "\t<li>603</li>\n",
       "\t<li>1268</li>\n",
       "\t<li>1449</li>\n",
       "\t<li>335</li>\n",
       "\t<li>660</li>\n",
       "\t<li>112</li>\n",
       "\t<li>980</li>\n",
       "\t<li>574</li>\n",
       "\t<li>1237</li>\n",
       "\t<li>223</li>\n",
       "\t<li>513</li>\n",
       "\t<li>721</li>\n",
       "\t<li>220</li>\n",
       "\t<li>526</li>\n",
       "\t<li>1418</li>\n",
       "\t<li>195</li>\n",
       "</ol>\n"
      ],
      "text/latex": [
       "\\begin{enumerate*}\n",
       "\\item 278\n",
       "\\item 1053\n",
       "\\item 859\n",
       "\\item 252\n",
       "\\item 1412\n",
       "\\item 1411\n",
       "\\item 193\n",
       "\\item 1245\n",
       "\\item 699\n",
       "\\item 821\n",
       "\\item 824\n",
       "\\item 356\n",
       "\\item 1132\n",
       "\\item 269\n",
       "\\item 603\n",
       "\\item 1268\n",
       "\\item 1449\n",
       "\\item 335\n",
       "\\item 660\n",
       "\\item 112\n",
       "\\item 980\n",
       "\\item 574\n",
       "\\item 1237\n",
       "\\item 223\n",
       "\\item 513\n",
       "\\item 721\n",
       "\\item 220\n",
       "\\item 526\n",
       "\\item 1418\n",
       "\\item 195\n",
       "\\end{enumerate*}\n"
      ],
      "text/markdown": [
       "1. 278\n",
       "2. 1053\n",
       "3. 859\n",
       "4. 252\n",
       "5. 1412\n",
       "6. 1411\n",
       "7. 193\n",
       "8. 1245\n",
       "9. 699\n",
       "10. 821\n",
       "11. 824\n",
       "12. 356\n",
       "13. 1132\n",
       "14. 269\n",
       "15. 603\n",
       "16. 1268\n",
       "17. 1449\n",
       "18. 335\n",
       "19. 660\n",
       "20. 112\n",
       "21. 980\n",
       "22. 574\n",
       "23. 1237\n",
       "24. 223\n",
       "25. 513\n",
       "26. 721\n",
       "27. 220\n",
       "28. 526\n",
       "29. 1418\n",
       "30. 195\n",
       "\n",
       "\n"
      ],
      "text/plain": [
       " [1]  278 1053  859  252 1412 1411  193 1245  699  821  824  356 1132  269  603\n",
       "[16] 1268 1449  335  660  112  980  574 1237  223  513  721  220  526 1418  195"
      ]
     },
     "metadata": {},
     "output_type": "display_data"
    }
   ],
   "source": [
    "set.seed(2)\n",
    "sample(1:nrow(applenews),30)"
   ]
  },
  {
   "cell_type": "code",
   "execution_count": 133,
   "metadata": {},
   "outputs": [
    {
     "data": {
      "text/html": [
       "<ol class=list-inline>\n",
       "\t<li>278</li>\n",
       "\t<li>1053</li>\n",
       "\t<li>859</li>\n",
       "\t<li>252</li>\n",
       "\t<li>1412</li>\n",
       "\t<li>1411</li>\n",
       "\t<li>193</li>\n",
       "\t<li>1245</li>\n",
       "\t<li>699</li>\n",
       "\t<li>821</li>\n",
       "\t<li>824</li>\n",
       "\t<li>356</li>\n",
       "\t<li>1132</li>\n",
       "\t<li>269</li>\n",
       "\t<li>603</li>\n",
       "\t<li>1268</li>\n",
       "\t<li>1449</li>\n",
       "\t<li>335</li>\n",
       "\t<li>660</li>\n",
       "\t<li>112</li>\n",
       "\t<li>980</li>\n",
       "\t<li>574</li>\n",
       "\t<li>1237</li>\n",
       "\t<li>223</li>\n",
       "\t<li>513</li>\n",
       "\t<li>721</li>\n",
       "\t<li>220</li>\n",
       "\t<li>526</li>\n",
       "\t<li>1418</li>\n",
       "\t<li>195</li>\n",
       "</ol>\n"
      ],
      "text/latex": [
       "\\begin{enumerate*}\n",
       "\\item 278\n",
       "\\item 1053\n",
       "\\item 859\n",
       "\\item 252\n",
       "\\item 1412\n",
       "\\item 1411\n",
       "\\item 193\n",
       "\\item 1245\n",
       "\\item 699\n",
       "\\item 821\n",
       "\\item 824\n",
       "\\item 356\n",
       "\\item 1132\n",
       "\\item 269\n",
       "\\item 603\n",
       "\\item 1268\n",
       "\\item 1449\n",
       "\\item 335\n",
       "\\item 660\n",
       "\\item 112\n",
       "\\item 980\n",
       "\\item 574\n",
       "\\item 1237\n",
       "\\item 223\n",
       "\\item 513\n",
       "\\item 721\n",
       "\\item 220\n",
       "\\item 526\n",
       "\\item 1418\n",
       "\\item 195\n",
       "\\end{enumerate*}\n"
      ],
      "text/markdown": [
       "1. 278\n",
       "2. 1053\n",
       "3. 859\n",
       "4. 252\n",
       "5. 1412\n",
       "6. 1411\n",
       "7. 193\n",
       "8. 1245\n",
       "9. 699\n",
       "10. 821\n",
       "11. 824\n",
       "12. 356\n",
       "13. 1132\n",
       "14. 269\n",
       "15. 603\n",
       "16. 1268\n",
       "17. 1449\n",
       "18. 335\n",
       "19. 660\n",
       "20. 112\n",
       "21. 980\n",
       "22. 574\n",
       "23. 1237\n",
       "24. 223\n",
       "25. 513\n",
       "26. 721\n",
       "27. 220\n",
       "28. 526\n",
       "29. 1418\n",
       "30. 195\n",
       "\n",
       "\n"
      ],
      "text/plain": [
       " [1]  278 1053  859  252 1412 1411  193 1245  699  821  824  356 1132  269  603\n",
       "[16] 1268 1449  335  660  112  980  574 1237  223  513  721  220  526 1418  195"
      ]
     },
     "metadata": {},
     "output_type": "display_data"
    }
   ],
   "source": [
    "set.seed(2)\n",
    "sample(1:nrow(applenews),30)"
   ]
  },
  {
   "cell_type": "code",
   "execution_count": 137,
   "metadata": {},
   "outputs": [],
   "source": [
    "na_list = sample(1:nrow(applenews),30)"
   ]
  },
  {
   "cell_type": "code",
   "execution_count": 140,
   "metadata": {},
   "outputs": [],
   "source": [
    "applenews[na_list,'clicked'] = NA"
   ]
  },
  {
   "cell_type": "code",
   "execution_count": 144,
   "metadata": {},
   "outputs": [
    {
     "data": {
      "text/html": [
       "30"
      ],
      "text/latex": [
       "30"
      ],
      "text/markdown": [
       "30"
      ],
      "text/plain": [
       "[1] 30"
      ]
     },
     "metadata": {},
     "output_type": "display_data"
    }
   ],
   "source": [
    "sum(is.na(applenews$clicked))"
   ]
  },
  {
   "cell_type": "code",
   "execution_count": 143,
   "metadata": {},
   "outputs": [
    {
     "data": {
      "text/html": [
       "TRUE"
      ],
      "text/latex": [
       "TRUE"
      ],
      "text/markdown": [
       "TRUE"
      ],
      "text/plain": [
       "[1] TRUE"
      ]
     },
     "metadata": {},
     "output_type": "display_data"
    }
   ],
   "source": [
    "is.numeric(applenews$clicked)"
   ]
  },
  {
   "cell_type": "code",
   "execution_count": null,
   "metadata": {},
   "outputs": [],
   "source": [
    "### complete.cases"
   ]
  },
  {
   "cell_type": "code",
   "execution_count": 148,
   "metadata": {},
   "outputs": [
    {
     "data": {
      "text/html": [
       "1470"
      ],
      "text/latex": [
       "1470"
      ],
      "text/markdown": [
       "1470"
      ],
      "text/plain": [
       "[1] 1470"
      ]
     },
     "metadata": {},
     "output_type": "display_data"
    }
   ],
   "source": [
    "nrow(applenews[complete.cases(applenews),])"
   ]
  },
  {
   "cell_type": "code",
   "execution_count": 149,
   "metadata": {},
   "outputs": [],
   "source": [
    "completed_data = applenews[complete.cases(applenews),]"
   ]
  },
  {
   "cell_type": "code",
   "execution_count": 150,
   "metadata": {},
   "outputs": [
    {
     "name": "stdout",
     "output_type": "stream",
     "text": [
      "'data.frame':\t1470 obs. of  5 variables:\n",
      " $ content : chr  \"\\n                                        (更新:新增影片)想要透過刮刮樂彩券一夕致富，但他卻用錯方法！台中市一名\"| __truncated__ \"\\n                                        澳洲一名就讀雪梨大學的華裔博士生，日前公開一段燒毀中國護照的影片，還\"| __truncated__ \"\\n                                        【行銷專題企劃】房價高高在上，沒錢買房沒關係，但你認為自己是聰明的租\"| __truncated__ \"\\n                                        本內容由中央廣播電臺提供        美國國防部長卡特(Ash Carter)今天(15日\"| __truncated__ ...\n",
      " $ title   : chr  \"【更新】搶2.2萬彩券刮中1.4萬　沒發財還得入獄\" \"拿到澳洲護照後　他放火燒中國護照\" \"【特企】房市大追擊- 租屋這些事情要小心\" \"【央廣RTI】美菲軍演  美防長南海登艦\" ...\n",
      " $ dt      : POSIXct, format: \"2016-04-15 14:32:00\" \"2016-04-15 14:32:00\" ...\n",
      " $ category: chr  \"社會\" \"國際\" \"地產\" \"國際\" ...\n",
      " $ clicked : int  1754 0 0 0 311 24 20 314 27 308 ...\n"
     ]
    }
   ],
   "source": [
    "str(completed_data)"
   ]
  },
  {
   "cell_type": "code",
   "execution_count": 158,
   "metadata": {},
   "outputs": [
    {
     "data": {
      "text/html": [
       "14442"
      ],
      "text/latex": [
       "14442"
      ],
      "text/markdown": [
       "14442"
      ],
      "text/plain": [
       "[1] 14442"
      ]
     },
     "metadata": {},
     "output_type": "display_data"
    }
   ],
   "source": [
    "### mean\n",
    "mean_clicked = as.integer(mean(applenews$clicked,na.rm=T))\n",
    "mean_clicked"
   ]
  },
  {
   "cell_type": "code",
   "execution_count": 161,
   "metadata": {},
   "outputs": [],
   "source": [
    "applenews$clicked[is.na(applenews$clicked)] = mean_clicked"
   ]
  },
  {
   "cell_type": "code",
   "execution_count": 162,
   "metadata": {},
   "outputs": [
    {
     "data": {
      "text/html": [
       "0"
      ],
      "text/latex": [
       "0"
      ],
      "text/markdown": [
       "0"
      ],
      "text/plain": [
       "[1] 0"
      ]
     },
     "metadata": {},
     "output_type": "display_data"
    }
   ],
   "source": [
    "sum(is.na(applenews$clicked))"
   ]
  },
  {
   "cell_type": "code",
   "execution_count": 164,
   "metadata": {},
   "outputs": [],
   "source": [
    "load('./Statistics/applenews.RData')"
   ]
  },
  {
   "cell_type": "code",
   "execution_count": 165,
   "metadata": {},
   "outputs": [],
   "source": [
    "applenews[na_list,'clicked'] = NA"
   ]
  },
  {
   "cell_type": "code",
   "execution_count": 166,
   "metadata": {},
   "outputs": [
    {
     "data": {
      "text/html": [
       "30"
      ],
      "text/latex": [
       "30"
      ],
      "text/markdown": [
       "30"
      ],
      "text/plain": [
       "[1] 30"
      ]
     },
     "metadata": {},
     "output_type": "display_data"
    }
   ],
   "source": [
    "sum(is.na(applenews$clicked))"
   ]
  },
  {
   "cell_type": "code",
   "execution_count": 167,
   "metadata": {},
   "outputs": [
    {
     "data": {
      "text/html": [
       "<ol class=list-inline>\n",
       "\t<li>1754</li>\n",
       "\t<li>0</li>\n",
       "\t<li>0</li>\n",
       "\t<li>0</li>\n",
       "\t<li>311</li>\n",
       "\t<li>24</li>\n",
       "</ol>\n"
      ],
      "text/latex": [
       "\\begin{enumerate*}\n",
       "\\item 1754\n",
       "\\item 0\n",
       "\\item 0\n",
       "\\item 0\n",
       "\\item 311\n",
       "\\item 24\n",
       "\\end{enumerate*}\n"
      ],
      "text/markdown": [
       "1. 1754\n",
       "2. 0\n",
       "3. 0\n",
       "4. 0\n",
       "5. 311\n",
       "6. 24\n",
       "\n",
       "\n"
      ],
      "text/plain": [
       "[1] 1754    0    0    0  311   24"
      ]
     },
     "metadata": {},
     "output_type": "display_data"
    }
   ],
   "source": [
    "head(applenews$clicked)"
   ]
  },
  {
   "cell_type": "code",
   "execution_count": 168,
   "metadata": {},
   "outputs": [
    {
     "data": {
      "text/html": [
       "<ol class=list-inline>\n",
       "\t<li>'社會'</li>\n",
       "\t<li>'國際'</li>\n",
       "\t<li>'地產'</li>\n",
       "\t<li>'國際'</li>\n",
       "\t<li>'時尚'</li>\n",
       "\t<li>'財經'</li>\n",
       "</ol>\n"
      ],
      "text/latex": [
       "\\begin{enumerate*}\n",
       "\\item '社會'\n",
       "\\item '國際'\n",
       "\\item '地產'\n",
       "\\item '國際'\n",
       "\\item '時尚'\n",
       "\\item '財經'\n",
       "\\end{enumerate*}\n"
      ],
      "text/markdown": [
       "1. '社會'\n",
       "2. '國際'\n",
       "3. '地產'\n",
       "4. '國際'\n",
       "5. '時尚'\n",
       "6. '財經'\n",
       "\n",
       "\n"
      ],
      "text/plain": [
       "[1] \"社會\" \"國際\" \"地產\" \"國際\" \"時尚\" \"財經\""
      ]
     },
     "metadata": {},
     "output_type": "display_data"
    }
   ],
   "source": [
    "head(applenews$category)"
   ]
  },
  {
   "cell_type": "code",
   "execution_count": 174,
   "metadata": {},
   "outputs": [],
   "source": [
    "#category means\n",
    "cate_means = tapply(applenews$clicked,applenews$category,function(e){ as.integer(mean(e,na.rm=T))}) "
   ]
  },
  {
   "cell_type": "code",
   "execution_count": 175,
   "metadata": {},
   "outputs": [
    {
     "name": "stdout",
     "output_type": "stream",
     "text": [
      "   3C  財經  地產  動物  國際  論壇  社會  生活  時尚  搜奇  體育  娛樂  正妹 \n",
      " 3954  5024  6900  4741  8927  5764 29784 11370  7143 12315 16907 31930 84118 \n",
      " 政治 \n",
      "11718 \n"
     ]
    }
   ],
   "source": [
    "print(cate_means)"
   ]
  },
  {
   "cell_type": "code",
   "execution_count": 182,
   "metadata": {},
   "outputs": [],
   "source": [
    "applenews[is.na(applenews$clicked) & applenews$category == '財經','clicked'] = cate_means['財經']"
   ]
  },
  {
   "cell_type": "code",
   "execution_count": 188,
   "metadata": {},
   "outputs": [],
   "source": [
    "for(i in 1:length(cate_means)){\n",
    " applenews[is.na(applenews$clicked) & applenews$category == names(cate_means)[i],'clicked'] = cate_means[i]   \n",
    "}"
   ]
  },
  {
   "cell_type": "code",
   "execution_count": 187,
   "metadata": {},
   "outputs": [
    {
     "name": "stdout",
     "output_type": "stream",
     "text": [
      "[1] \"財經\"\n"
     ]
    }
   ],
   "source": [
    "print( names(cate_means)[2] )"
   ]
  },
  {
   "cell_type": "code",
   "execution_count": 184,
   "metadata": {},
   "outputs": [
    {
     "data": {
      "text/html": [
       "14"
      ],
      "text/latex": [
       "14"
      ],
      "text/markdown": [
       "14"
      ],
      "text/plain": [
       "[1] 14"
      ]
     },
     "metadata": {},
     "output_type": "display_data"
    }
   ],
   "source": [
    "length(cate_means)"
   ]
  },
  {
   "cell_type": "code",
   "execution_count": 190,
   "metadata": {},
   "outputs": [
    {
     "data": {
      "text/html": [
       "0"
      ],
      "text/latex": [
       "0"
      ],
      "text/markdown": [
       "0"
      ],
      "text/plain": [
       "[1] 0"
      ]
     },
     "metadata": {},
     "output_type": "display_data"
    }
   ],
   "source": [
    "sum(is.na(applenews$clicked))"
   ]
  },
  {
   "cell_type": "code",
   "execution_count": 192,
   "metadata": {},
   "outputs": [
    {
     "name": "stderr",
     "output_type": "stream",
     "text": [
      "also installing the dependencies ‘minqa’, ‘nloptr’, ‘RcppEigen’, ‘lme4’, ‘forcats’, ‘hms’, ‘readr’, ‘pan’, ‘jomo’, ‘haven’, ‘mitml’\n",
      "\n"
     ]
    },
    {
     "name": "stdout",
     "output_type": "stream",
     "text": [
      "\n",
      "The downloaded binary packages are in\n",
      "\t/var/folders/l7/cnn4lm695h35bfc25v36gxqm0000gn/T//Rtmp96Gmb2/downloaded_packages\n"
     ]
    }
   ],
   "source": [
    "#mice\n",
    "install.packages('mice')"
   ]
  },
  {
   "cell_type": "code",
   "execution_count": 193,
   "metadata": {},
   "outputs": [
    {
     "name": "stderr",
     "output_type": "stream",
     "text": [
      "Loading required package: lattice\n",
      "\n",
      "Attaching package: ‘mice’\n",
      "\n",
      "The following objects are masked from ‘package:base’:\n",
      "\n",
      "    cbind, rbind\n",
      "\n"
     ]
    }
   ],
   "source": [
    "library(mice)"
   ]
  },
  {
   "cell_type": "code",
   "execution_count": 194,
   "metadata": {},
   "outputs": [],
   "source": [
    "data(iris)"
   ]
  },
  {
   "cell_type": "code",
   "execution_count": 196,
   "metadata": {},
   "outputs": [],
   "source": [
    "na_list = sample(1:nrow(iris),15)"
   ]
  },
  {
   "cell_type": "code",
   "execution_count": 198,
   "metadata": {},
   "outputs": [],
   "source": [
    "iris[na_list,'Sepal.Length'] = NA"
   ]
  },
  {
   "cell_type": "code",
   "execution_count": 202,
   "metadata": {
    "scrolled": true
   },
   "outputs": [
    {
     "name": "stdout",
     "output_type": "stream",
     "text": [
      "\n",
      " iter imp variable\n",
      "  1   1  Sepal.Length\n",
      "  1   2  Sepal.Length\n",
      "  1   3  Sepal.Length\n",
      "  2   1  Sepal.Length\n",
      "  2   2  Sepal.Length\n",
      "  2   3  Sepal.Length\n",
      "  3   1  Sepal.Length\n",
      "  3   2  Sepal.Length\n",
      "  3   3  Sepal.Length\n",
      "  4   1  Sepal.Length\n",
      "  4   2  Sepal.Length\n",
      "  4   3  Sepal.Length\n",
      "  5   1  Sepal.Length\n",
      "  5   2  Sepal.Length\n",
      "  5   3  Sepal.Length\n"
     ]
    }
   ],
   "source": [
    "mice_data = mice(data=iris,m=3,method='cart')"
   ]
  },
  {
   "cell_type": "code",
   "execution_count": 211,
   "metadata": {},
   "outputs": [
    {
     "data": {
      "text/html": [
       "<ol class=list-inline>\n",
       "\t<li>5.1</li>\n",
       "\t<li>5.6</li>\n",
       "\t<li>5.6</li>\n",
       "\t<li>5</li>\n",
       "\t<li>5.8</li>\n",
       "\t<li>5.7</li>\n",
       "\t<li>7.2</li>\n",
       "\t<li>5.1</li>\n",
       "\t<li>5</li>\n",
       "\t<li>6.9</li>\n",
       "\t<li>7.4</li>\n",
       "\t<li>7.6</li>\n",
       "\t<li>5</li>\n",
       "\t<li>6.4</li>\n",
       "\t<li>5.5</li>\n",
       "</ol>\n"
      ],
      "text/latex": [
       "\\begin{enumerate*}\n",
       "\\item 5.1\n",
       "\\item 5.6\n",
       "\\item 5.6\n",
       "\\item 5\n",
       "\\item 5.8\n",
       "\\item 5.7\n",
       "\\item 7.2\n",
       "\\item 5.1\n",
       "\\item 5\n",
       "\\item 6.9\n",
       "\\item 7.4\n",
       "\\item 7.6\n",
       "\\item 5\n",
       "\\item 6.4\n",
       "\\item 5.5\n",
       "\\end{enumerate*}\n"
      ],
      "text/markdown": [
       "1. 5.1\n",
       "2. 5.6\n",
       "3. 5.6\n",
       "4. 5\n",
       "5. 5.8\n",
       "6. 5.7\n",
       "7. 7.2\n",
       "8. 5.1\n",
       "9. 5\n",
       "10. 6.9\n",
       "11. 7.4\n",
       "12. 7.6\n",
       "13. 5\n",
       "14. 6.4\n",
       "15. 5.5\n",
       "\n",
       "\n"
      ],
      "text/plain": [
       " [1] 5.1 5.6 5.6 5.0 5.8 5.7 7.2 5.1 5.0 6.9 7.4 7.6 5.0 6.4 5.5"
      ]
     },
     "metadata": {},
     "output_type": "display_data"
    }
   ],
   "source": [
    "complete(mice_data,1)[na_list,'Sepal.Length']"
   ]
  },
  {
   "cell_type": "code",
   "execution_count": 212,
   "metadata": {
    "scrolled": true
   },
   "outputs": [
    {
     "data": {
      "text/html": [
       "<ol class=list-inline>\n",
       "\t<li>5</li>\n",
       "\t<li>5.5</li>\n",
       "\t<li>6</li>\n",
       "\t<li>4.8</li>\n",
       "\t<li>6.3</li>\n",
       "\t<li>5.7</li>\n",
       "\t<li>7.6</li>\n",
       "\t<li>5.4</li>\n",
       "\t<li>5.1</li>\n",
       "\t<li>6.8</li>\n",
       "\t<li>7.6</li>\n",
       "\t<li>7.6</li>\n",
       "\t<li>5.1</li>\n",
       "\t<li>6.4</li>\n",
       "\t<li>4.9</li>\n",
       "</ol>\n"
      ],
      "text/latex": [
       "\\begin{enumerate*}\n",
       "\\item 5\n",
       "\\item 5.5\n",
       "\\item 6\n",
       "\\item 4.8\n",
       "\\item 6.3\n",
       "\\item 5.7\n",
       "\\item 7.6\n",
       "\\item 5.4\n",
       "\\item 5.1\n",
       "\\item 6.8\n",
       "\\item 7.6\n",
       "\\item 7.6\n",
       "\\item 5.1\n",
       "\\item 6.4\n",
       "\\item 4.9\n",
       "\\end{enumerate*}\n"
      ],
      "text/markdown": [
       "1. 5\n",
       "2. 5.5\n",
       "3. 6\n",
       "4. 4.8\n",
       "5. 6.3\n",
       "6. 5.7\n",
       "7. 7.6\n",
       "8. 5.4\n",
       "9. 5.1\n",
       "10. 6.8\n",
       "11. 7.6\n",
       "12. 7.6\n",
       "13. 5.1\n",
       "14. 6.4\n",
       "15. 4.9\n",
       "\n",
       "\n"
      ],
      "text/plain": [
       " [1] 5.0 5.5 6.0 4.8 6.3 5.7 7.6 5.4 5.1 6.8 7.6 7.6 5.1 6.4 4.9"
      ]
     },
     "metadata": {},
     "output_type": "display_data"
    }
   ],
   "source": [
    "complete(mice_data,2)[na_list,'Sepal.Length']"
   ]
  },
  {
   "cell_type": "code",
   "execution_count": 213,
   "metadata": {},
   "outputs": [
    {
     "data": {
      "text/html": [
       "<ol class=list-inline>\n",
       "\t<li>5.1</li>\n",
       "\t<li>6</li>\n",
       "\t<li>5.6</li>\n",
       "\t<li>5</li>\n",
       "\t<li>6.1</li>\n",
       "\t<li>5.1</li>\n",
       "\t<li>7.6</li>\n",
       "\t<li>5.1</li>\n",
       "\t<li>5.1</li>\n",
       "\t<li>6.9</li>\n",
       "\t<li>7.4</li>\n",
       "\t<li>7.7</li>\n",
       "\t<li>5.2</li>\n",
       "\t<li>6.7</li>\n",
       "\t<li>5</li>\n",
       "</ol>\n"
      ],
      "text/latex": [
       "\\begin{enumerate*}\n",
       "\\item 5.1\n",
       "\\item 6\n",
       "\\item 5.6\n",
       "\\item 5\n",
       "\\item 6.1\n",
       "\\item 5.1\n",
       "\\item 7.6\n",
       "\\item 5.1\n",
       "\\item 5.1\n",
       "\\item 6.9\n",
       "\\item 7.4\n",
       "\\item 7.7\n",
       "\\item 5.2\n",
       "\\item 6.7\n",
       "\\item 5\n",
       "\\end{enumerate*}\n"
      ],
      "text/markdown": [
       "1. 5.1\n",
       "2. 6\n",
       "3. 5.6\n",
       "4. 5\n",
       "5. 6.1\n",
       "6. 5.1\n",
       "7. 7.6\n",
       "8. 5.1\n",
       "9. 5.1\n",
       "10. 6.9\n",
       "11. 7.4\n",
       "12. 7.7\n",
       "13. 5.2\n",
       "14. 6.7\n",
       "15. 5\n",
       "\n",
       "\n"
      ],
      "text/plain": [
       " [1] 5.1 6.0 5.6 5.0 6.1 5.1 7.6 5.1 5.1 6.9 7.4 7.7 5.2 6.7 5.0"
      ]
     },
     "metadata": {},
     "output_type": "display_data"
    }
   ],
   "source": [
    "complete(mice_data,3)[na_list,'Sepal.Length']"
   ]
  },
  {
   "cell_type": "code",
   "execution_count": 215,
   "metadata": {},
   "outputs": [],
   "source": [
    "diff = complete(mice_data,1)[na_list,'Sepal.Length'] - complete(mice_data,2)[na_list,'Sepal.Length']"
   ]
  },
  {
   "cell_type": "code",
   "execution_count": 216,
   "metadata": {},
   "outputs": [
    {
     "data": {
      "text/html": [
       "-0.06"
      ],
      "text/latex": [
       "-0.06"
      ],
      "text/markdown": [
       "-0.06"
      ],
      "text/plain": [
       "[1] -0.06"
      ]
     },
     "metadata": {},
     "output_type": "display_data"
    }
   ],
   "source": [
    "mean(diff)"
   ]
  },
  {
   "cell_type": "code",
   "execution_count": 217,
   "metadata": {},
   "outputs": [
    {
     "data": {
      "text/html": [
       "0.279795843939316"
      ],
      "text/latex": [
       "0.279795843939316"
      ],
      "text/markdown": [
       "0.279795843939316"
      ],
      "text/plain": [
       "[1] 0.2797958"
      ]
     },
     "metadata": {},
     "output_type": "display_data"
    }
   ],
   "source": [
    "sd(diff)"
   ]
  },
  {
   "cell_type": "markdown",
   "metadata": {},
   "source": [
    "### [ dplyr ]\n",
    "cheat sheet\n",
    "- https://www.rstudio.com/wp-content/uploads/2015/02/data-wrangling-cheatsheet.pdf\n",
    "\n",
    "- 類SQL語法,select,filter,arrange,mutate...\n",
    "- Chaining %>%, debug方便\n"
   ]
  },
  {
   "cell_type": "code",
   "execution_count": 219,
   "metadata": {},
   "outputs": [],
   "source": [
    "load('./Statistics/applenews.RData')"
   ]
  },
  {
   "cell_type": "code",
   "execution_count": 222,
   "metadata": {},
   "outputs": [],
   "source": [
    "applenews = applenews[-1]"
   ]
  },
  {
   "cell_type": "code",
   "execution_count": 223,
   "metadata": {},
   "outputs": [
    {
     "data": {
      "text/html": [
       "<table>\n",
       "<thead><tr><th scope=col>title</th><th scope=col>dt</th><th scope=col>category</th><th scope=col>clicked</th></tr></thead>\n",
       "<tbody>\n",
       "\t<tr><td>澎恰恰收女弟子　拱當台灣第一名伶                            </td><td>2016-04-15 14:17:00                                         </td><td>娛樂                                                        </td><td>  1749                                                      </td></tr>\n",
       "\t<tr><td>【唱新聞】詐騙嗎？R.O.C.有CHINA但不是CHINA                  </td><td>2016-04-15 14:00:00                                         </td><td>娛樂                                                        </td><td> 11696                                                      </td></tr>\n",
       "\t<tr><td>白曉燕命案19年了　白冰冰「不能忘」                          </td><td>2016-04-15 13:49:00                                         </td><td>娛樂                                                        </td><td>  3329                                                      </td></tr>\n",
       "\t<tr><td>好萊塢男神好威　女友再當高齡產婦                            </td><td>2016-04-15 13:40:00                                         </td><td>娛樂                                                        </td><td>  4307                                                      </td></tr>\n",
       "\t<tr><td>隋棠帶兒遠征南台灣　吃成膨皮母子檔                          </td><td>2016-04-15 13:30:00                                         </td><td>娛樂                                                        </td><td>  4651                                                      </td></tr>\n",
       "\t<tr><td>伊勢谷友介掰了長澤雅美　半同居小16歲辣模                    </td><td>2016-04-15 13:23:00                                         </td><td>娛樂                                                        </td><td>  5141                                                      </td></tr>\n",
       "\t<tr><td>徐佳瑩開唱前驚傳失聲　急診照曝光                            </td><td>2016-04-15 13:08:00                                         </td><td>娛樂                                                        </td><td> 11588                                                      </td></tr>\n",
       "\t<tr><td>死侍續攤雙喜　花邊教主又有了！                              </td><td>2016-04-15 13:00:00                                         </td><td>娛樂                                                        </td><td>  5209                                                      </td></tr>\n",
       "\t<tr><td>【更新】《太陽》完美結局　沉船灣之吻收視最熱                </td><td>2016-04-15 12:29:00                                         </td><td>娛樂                                                        </td><td> 27010                                                      </td></tr>\n",
       "\t<tr><td>宋慧喬愛國拒代言　台大教授批韓軍「應被唾棄」                </td><td>2016-04-15 11:52:00                                         </td><td>娛樂                                                        </td><td> 10455                                                      </td></tr>\n",
       "\t<tr><td>【請回答】六月李易對質實況　出軌X次說清楚！                 </td><td>2016-04-15 11:40:00                                         </td><td>娛樂                                                        </td><td> 88386                                                      </td></tr>\n",
       "\t<tr><td>好萊塢麻煩精釣到小開！大顆訂婚戒到處閃                      </td><td>2016-04-15 11:27:00                                         </td><td>娛樂                                                        </td><td>  9930                                                      </td></tr>\n",
       "\t<tr><td>【還記得他嗎】童星竄高變小鮮肉　拉攏同儕救人氣              </td><td>2016-04-15 11:00:00                                         </td><td>娛樂                                                        </td><td>  7536                                                      </td></tr>\n",
       "\t<tr><td>【特企】三角戀無緣啦！風田愛佼哥 不愛宏正                   </td><td>2016-04-15 10:39:00                                         </td><td>娛樂                                                        </td><td>  1631                                                      </td></tr>\n",
       "\t<tr><td>劉愷威被問楊冪超囧　擠不出上次何時見                        </td><td>2016-04-15 10:30:00                                         </td><td>娛樂                                                        </td><td> 10478                                                      </td></tr>\n",
       "\t<tr><td>【壹週刊】原來發哥才是鞋神                                  </td><td>2016-04-15 10:30:00                                         </td><td>娛樂                                                        </td><td>  5766                                                      </td></tr>\n",
       "\t<tr><td>1小時燒5萬！宋仲基白斬雞變筋肉男                            </td><td>2016-04-15 10:04:00                                         </td><td>娛樂                                                        </td><td> 13351                                                      </td></tr>\n",
       "\t<tr><td>【網路溫度計】AV女優私密大公開！十大網友最想知道的女優秘辛！</td><td>2016-04-15 09:57:00                                         </td><td>娛樂                                                        </td><td>  8761                                                      </td></tr>\n",
       "\t<tr><td>【痞客邦】回顧經典名片《銀翼殺手》                          </td><td>2016-04-15 09:49:00                                         </td><td>娛樂                                                        </td><td>  1681                                                      </td></tr>\n",
       "\t<tr><td>【壹週刊】日本寫真女星　在台熱舞替她宣傳                    </td><td>2016-04-15 09:40:00                                         </td><td>娛樂                                                        </td><td>  4143                                                      </td></tr>\n",
       "\t<tr><td>超級Kobe粉是她！　女神奔球場又哭又尖叫                      </td><td>2016-04-15 07:08:00                                         </td><td>娛樂                                                        </td><td> 12420                                                      </td></tr>\n",
       "\t<tr><td>炫咘咘藏梧桐妹　賈靜雯自曝「不愛」原因                      </td><td>2016-04-15 06:56:00                                         </td><td>娛樂                                                        </td><td> 80200                                                      </td></tr>\n",
       "\t<tr><td>連勝文被瞎報特權搭機喊告　三立：已更新                      </td><td>2016-04-15 01:10:00                                         </td><td>娛樂                                                        </td><td> 19030                                                      </td></tr>\n",
       "\t<tr><td>斯文男星爭收視寶座　戲拍一半急送醫                          </td><td>2016-04-15 00:51:00                                         </td><td>娛樂                                                        </td><td> 19625                                                      </td></tr>\n",
       "\t<tr><td>女主播爆料　全電視台等宋仲基不肯下班                        </td><td>2016-04-15 00:38:00                                         </td><td>娛樂                                                        </td><td> 18220                                                      </td></tr>\n",
       "\t<tr><td>笑匠女星膽子超大　把鬼當談心好朋友                          </td><td>2016-04-15 00:10:00                                         </td><td>娛樂                                                        </td><td>  4697                                                      </td></tr>\n",
       "\t<tr><td>李佳薇自認不漂亮　大改造變暴風歌姬                          </td><td>2016-04-15 00:00:00                                         </td><td>娛樂                                                        </td><td>  7561                                                      </td></tr>\n",
       "\t<tr><td>孫盛希為開唱暴瘦　八三夭送保肝丸                            </td><td>2016-04-14 23:18:00                                         </td><td>娛樂                                                        </td><td>  5241                                                      </td></tr>\n",
       "\t<tr><td>Miss Ko不當饒舌鄧麗君　變身環球小姐                         </td><td>2016-04-14 23:00:00                                         </td><td>娛樂                                                        </td><td> 12046                                                      </td></tr>\n",
       "\t<tr><td>【有片】《太陽的後裔》喜劇收尾　雙宋激吻甜爆                </td><td>2016-04-14 22:37:00                                         </td><td>娛樂                                                        </td><td>126774                                                      </td></tr>\n",
       "\t<tr><td>⋮</td><td>⋮</td><td>⋮</td><td>⋮</td></tr>\n",
       "\t<tr><td>演唱會XX太難　考倒宇宙人                        </td><td>2016-04-14 00:18:00                             </td><td>娛樂                                            </td><td>  2240                                          </td></tr>\n",
       "\t<tr><td>【狗仔偷拍】好大的派頭　李㼈違停霸氣外露        </td><td>2016-04-14 00:05:00                             </td><td>娛樂                                            </td><td>265355                                          </td></tr>\n",
       "\t<tr><td>【爆雷15】宋仲基《太陽》陣亡　虐翻喬妹神轉折    </td><td>2016-04-14 00:02:00                             </td><td>娛樂                                            </td><td> 38814                                          </td></tr>\n",
       "\t<tr><td>李千娜認了喇舌　談曖昧對象「我們很好」          </td><td>2016-04-13 23:30:00                             </td><td>娛樂                                            </td><td> 31534                                          </td></tr>\n",
       "\t<tr><td>T台記者赴馬丘比丘　受不了高山症                 </td><td>2016-04-13 23:00:00                             </td><td>娛樂                                            </td><td> 12714                                          </td></tr>\n",
       "\t<tr><td>劉容嘉挑戰跳56樓　挑釁攝影師                    </td><td>2016-04-13 22:32:00                             </td><td>娛樂                                            </td><td> 12405                                          </td></tr>\n",
       "\t<tr><td>浩子挖掘黑暗面　想到小孩老婆崩潰痛哭            </td><td>2016-04-13 22:28:00                             </td><td>娛樂                                            </td><td> 29726                                          </td></tr>\n",
       "\t<tr><td>柯佳嬿戲如人生　總是當女主角的運                </td><td>2016-04-13 22:15:00                             </td><td>娛樂                                            </td><td> 17492                                          </td></tr>\n",
       "\t<tr><td>少女童星萌笑開球　姿勢錯誤小落漆                </td><td>2016-04-13 22:00:00                             </td><td>娛樂                                            </td><td> 15701                                          </td></tr>\n",
       "\t<tr><td>【這不是新聞】水杯出現這個　客人全嚇傻了        </td><td>2016-04-13 21:55:00                             </td><td>娛樂                                            </td><td> 49616                                          </td></tr>\n",
       "\t<tr><td>男星扮皇帝腿軟　自認不是那塊料                  </td><td>2016-04-13 21:30:00                             </td><td>娛樂                                            </td><td> 14995                                          </td></tr>\n",
       "\t<tr><td>米可白被婆婆趕出家　哭到眼歪嘴斜                </td><td>2016-04-13 21:15:00                             </td><td>娛樂                                            </td><td> 54272                                          </td></tr>\n",
       "\t<tr><td>林志穎萌照出土　潮襪暴露身份                    </td><td>2016-04-13 21:05:00                             </td><td>娛樂                                            </td><td> 71338                                          </td></tr>\n",
       "\t<tr><td>鋼鐵人慘被球棒襲鵰　草泥馬都鄙視他              </td><td>2016-04-13 21:00:00                             </td><td>娛樂                                            </td><td>  6599                                          </td></tr>\n",
       "\t<tr><td>陳志朋淚崩談整容　隱瞞炸傷原因有洋蔥            </td><td>2016-04-13 20:55:00                             </td><td>娛樂                                            </td><td> 34500                                          </td></tr>\n",
       "\t<tr><td>孫儷雲端抓猴　鄧超的「小三」長這樣              </td><td>2016-04-13 20:27:00                             </td><td>娛樂                                            </td><td> 12636                                          </td></tr>\n",
       "\t<tr><td>雪炫曬心形長髮床照　呼籲國民投票                </td><td>2016-04-13 20:22:00                             </td><td>娛樂                                            </td><td>  9156                                          </td></tr>\n",
       "\t<tr><td>【壹週刊】誰斗膽讓女皇瑪丹娜尿濕了褲子？【有片】</td><td>2016-04-13 20:08:00                             </td><td>娛樂                                            </td><td>  6746                                          </td></tr>\n",
       "\t<tr><td>33E瑤瑤偷穿32C張景嵐原味衣...差點撐爆           </td><td>2016-04-13 20:00:00                             </td><td>娛樂                                            </td><td> 94302                                          </td></tr>\n",
       "\t<tr><td>王柏傑許瑋甯合體　堅稱「就是朋友」　            </td><td>2016-04-13 19:32:00                             </td><td>娛樂                                            </td><td>  9368                                          </td></tr>\n",
       "\t<tr><td>麻衣1歲兒神力扛麻糬　台塑第4代抓周拿算盤        </td><td>2016-04-13 19:03:00                             </td><td>娛樂                                            </td><td> 70169                                          </td></tr>\n",
       "\t<tr><td>【更新】MP​廷廷有新歡！李優爆「對我做可怕的事」  </td><td>2016-04-13 18:46:00                             </td><td>娛樂                                            </td><td> 40764                                          </td></tr>\n",
       "\t<tr><td>《太陽》編劇金恩淑洩密　結局非爛尾              </td><td>2016-04-13 18:40:00                             </td><td>娛樂                                            </td><td> 19267                                          </td></tr>\n",
       "\t<tr><td>【有片】福爾摩斯轉職奇異博士　竟被女光頭打出魂魄</td><td>2016-04-13 18:38:00                             </td><td>娛樂                                            </td><td>  9860                                          </td></tr>\n",
       "\t<tr><td>【更新】AKB美胸女王駕到！小嶋陽菜貴氣抵台       </td><td>2016-04-13 18:10:00                             </td><td>娛樂                                            </td><td> 17874                                          </td></tr>\n",
       "\t<tr><td>【更新】許維恩剛認愛就變心　甜喊「憲哥我愛你」  </td><td>2016-04-13 17:56:00                             </td><td>娛樂                                            </td><td> 42048                                          </td></tr>\n",
       "\t<tr><td>章子怡加入炫娃族　連發醒醒萌Q變身照             </td><td>2016-04-13 17:30:00                             </td><td>娛樂                                            </td><td> 18752                                          </td></tr>\n",
       "\t<tr><td>本土劇女神整形前照出土？！黑皮塌鼻引戰火        </td><td>2016-04-13 17:08:00                             </td><td>娛樂                                            </td><td>299235                                          </td></tr>\n",
       "\t<tr><td>劉真女兒雙滿月　辛龍送糕「最幸福的事」          </td><td>2016-04-13 16:52:00                             </td><td>娛樂                                            </td><td> 32363                                          </td></tr>\n",
       "\t<tr><td>等著見小豬？！周揚青出沒台北信義區              </td><td>2016-04-13 16:40:00                             </td><td>娛樂                                            </td><td> 23314                                          </td></tr>\n",
       "</tbody>\n",
       "</table>\n"
      ],
      "text/latex": [
       "\\begin{tabular}{r|llll}\n",
       " title & dt & category & clicked\\\\\n",
       "\\hline\n",
       "\t 澎恰恰收女弟子　拱當台灣第一名伶                             & 2016-04-15 14:17:00                                          & 娛樂                                                         &   1749                                                      \\\\\n",
       "\t 【唱新聞】詐騙嗎？R.O.C.有CHINA但不是CHINA                   & 2016-04-15 14:00:00                                          & 娛樂                                                         &  11696                                                      \\\\\n",
       "\t 白曉燕命案19年了　白冰冰「不能忘」                           & 2016-04-15 13:49:00                                          & 娛樂                                                         &   3329                                                      \\\\\n",
       "\t 好萊塢男神好威　女友再當高齡產婦                             & 2016-04-15 13:40:00                                          & 娛樂                                                         &   4307                                                      \\\\\n",
       "\t 隋棠帶兒遠征南台灣　吃成膨皮母子檔                           & 2016-04-15 13:30:00                                          & 娛樂                                                         &   4651                                                      \\\\\n",
       "\t 伊勢谷友介掰了長澤雅美　半同居小16歲辣模                     & 2016-04-15 13:23:00                                          & 娛樂                                                         &   5141                                                      \\\\\n",
       "\t 徐佳瑩開唱前驚傳失聲　急診照曝光                             & 2016-04-15 13:08:00                                          & 娛樂                                                         &  11588                                                      \\\\\n",
       "\t 死侍續攤雙喜　花邊教主又有了！                               & 2016-04-15 13:00:00                                          & 娛樂                                                         &   5209                                                      \\\\\n",
       "\t 【更新】《太陽》完美結局　沉船灣之吻收視最熱                 & 2016-04-15 12:29:00                                          & 娛樂                                                         &  27010                                                      \\\\\n",
       "\t 宋慧喬愛國拒代言　台大教授批韓軍「應被唾棄」                 & 2016-04-15 11:52:00                                          & 娛樂                                                         &  10455                                                      \\\\\n",
       "\t 【請回答】六月李易對質實況　出軌X次說清楚！                  & 2016-04-15 11:40:00                                          & 娛樂                                                         &  88386                                                      \\\\\n",
       "\t 好萊塢麻煩精釣到小開！大顆訂婚戒到處閃                       & 2016-04-15 11:27:00                                          & 娛樂                                                         &   9930                                                      \\\\\n",
       "\t 【還記得他嗎】童星竄高變小鮮肉　拉攏同儕救人氣               & 2016-04-15 11:00:00                                          & 娛樂                                                         &   7536                                                      \\\\\n",
       "\t 【特企】三角戀無緣啦！風田愛佼哥 不愛宏正                    & 2016-04-15 10:39:00                                          & 娛樂                                                         &   1631                                                      \\\\\n",
       "\t 劉愷威被問楊冪超囧　擠不出上次何時見                         & 2016-04-15 10:30:00                                          & 娛樂                                                         &  10478                                                      \\\\\n",
       "\t 【壹週刊】原來發哥才是鞋神                                   & 2016-04-15 10:30:00                                          & 娛樂                                                         &   5766                                                      \\\\\n",
       "\t 1小時燒5萬！宋仲基白斬雞變筋肉男                             & 2016-04-15 10:04:00                                          & 娛樂                                                         &  13351                                                      \\\\\n",
       "\t 【網路溫度計】AV女優私密大公開！十大網友最想知道的女優秘辛！ & 2016-04-15 09:57:00                                          & 娛樂                                                         &   8761                                                      \\\\\n",
       "\t 【痞客邦】回顧經典名片《銀翼殺手》                           & 2016-04-15 09:49:00                                          & 娛樂                                                         &   1681                                                      \\\\\n",
       "\t 【壹週刊】日本寫真女星　在台熱舞替她宣傳                     & 2016-04-15 09:40:00                                          & 娛樂                                                         &   4143                                                      \\\\\n",
       "\t 超級Kobe粉是她！　女神奔球場又哭又尖叫                       & 2016-04-15 07:08:00                                          & 娛樂                                                         &  12420                                                      \\\\\n",
       "\t 炫咘咘藏梧桐妹　賈靜雯自曝「不愛」原因                       & 2016-04-15 06:56:00                                          & 娛樂                                                         &  80200                                                      \\\\\n",
       "\t 連勝文被瞎報特權搭機喊告　三立：已更新                       & 2016-04-15 01:10:00                                          & 娛樂                                                         &  19030                                                      \\\\\n",
       "\t 斯文男星爭收視寶座　戲拍一半急送醫                           & 2016-04-15 00:51:00                                          & 娛樂                                                         &  19625                                                      \\\\\n",
       "\t 女主播爆料　全電視台等宋仲基不肯下班                         & 2016-04-15 00:38:00                                          & 娛樂                                                         &  18220                                                      \\\\\n",
       "\t 笑匠女星膽子超大　把鬼當談心好朋友                           & 2016-04-15 00:10:00                                          & 娛樂                                                         &   4697                                                      \\\\\n",
       "\t 李佳薇自認不漂亮　大改造變暴風歌姬                           & 2016-04-15 00:00:00                                          & 娛樂                                                         &   7561                                                      \\\\\n",
       "\t 孫盛希為開唱暴瘦　八三夭送保肝丸                             & 2016-04-14 23:18:00                                          & 娛樂                                                         &   5241                                                      \\\\\n",
       "\t Miss Ko不當饒舌鄧麗君　變身環球小姐                          & 2016-04-14 23:00:00                                          & 娛樂                                                         &  12046                                                      \\\\\n",
       "\t 【有片】《太陽的後裔》喜劇收尾　雙宋激吻甜爆                 & 2016-04-14 22:37:00                                          & 娛樂                                                         & 126774                                                      \\\\\n",
       "\t ⋮ & ⋮ & ⋮ & ⋮\\\\\n",
       "\t 演唱會XX太難　考倒宇宙人                         & 2016-04-14 00:18:00                              & 娛樂                                             &   2240                                          \\\\\n",
       "\t 【狗仔偷拍】好大的派頭　李㼈違停霸氣外露         & 2016-04-14 00:05:00                              & 娛樂                                             & 265355                                          \\\\\n",
       "\t 【爆雷15】宋仲基《太陽》陣亡　虐翻喬妹神轉折     & 2016-04-14 00:02:00                              & 娛樂                                             &  38814                                          \\\\\n",
       "\t 李千娜認了喇舌　談曖昧對象「我們很好」           & 2016-04-13 23:30:00                              & 娛樂                                             &  31534                                          \\\\\n",
       "\t T台記者赴馬丘比丘　受不了高山症                  & 2016-04-13 23:00:00                              & 娛樂                                             &  12714                                          \\\\\n",
       "\t 劉容嘉挑戰跳56樓　挑釁攝影師                     & 2016-04-13 22:32:00                              & 娛樂                                             &  12405                                          \\\\\n",
       "\t 浩子挖掘黑暗面　想到小孩老婆崩潰痛哭             & 2016-04-13 22:28:00                              & 娛樂                                             &  29726                                          \\\\\n",
       "\t 柯佳嬿戲如人生　總是當女主角的運                 & 2016-04-13 22:15:00                              & 娛樂                                             &  17492                                          \\\\\n",
       "\t 少女童星萌笑開球　姿勢錯誤小落漆                 & 2016-04-13 22:00:00                              & 娛樂                                             &  15701                                          \\\\\n",
       "\t 【這不是新聞】水杯出現這個　客人全嚇傻了         & 2016-04-13 21:55:00                              & 娛樂                                             &  49616                                          \\\\\n",
       "\t 男星扮皇帝腿軟　自認不是那塊料                   & 2016-04-13 21:30:00                              & 娛樂                                             &  14995                                          \\\\\n",
       "\t 米可白被婆婆趕出家　哭到眼歪嘴斜                 & 2016-04-13 21:15:00                              & 娛樂                                             &  54272                                          \\\\\n",
       "\t 林志穎萌照出土　潮襪暴露身份                     & 2016-04-13 21:05:00                              & 娛樂                                             &  71338                                          \\\\\n",
       "\t 鋼鐵人慘被球棒襲鵰　草泥馬都鄙視他               & 2016-04-13 21:00:00                              & 娛樂                                             &   6599                                          \\\\\n",
       "\t 陳志朋淚崩談整容　隱瞞炸傷原因有洋蔥             & 2016-04-13 20:55:00                              & 娛樂                                             &  34500                                          \\\\\n",
       "\t 孫儷雲端抓猴　鄧超的「小三」長這樣               & 2016-04-13 20:27:00                              & 娛樂                                             &  12636                                          \\\\\n",
       "\t 雪炫曬心形長髮床照　呼籲國民投票                 & 2016-04-13 20:22:00                              & 娛樂                                             &   9156                                          \\\\\n",
       "\t 【壹週刊】誰斗膽讓女皇瑪丹娜尿濕了褲子？【有片】 & 2016-04-13 20:08:00                              & 娛樂                                             &   6746                                          \\\\\n",
       "\t 33E瑤瑤偷穿32C張景嵐原味衣...差點撐爆            & 2016-04-13 20:00:00                              & 娛樂                                             &  94302                                          \\\\\n",
       "\t 王柏傑許瑋甯合體　堅稱「就是朋友」　             & 2016-04-13 19:32:00                              & 娛樂                                             &   9368                                          \\\\\n",
       "\t 麻衣1歲兒神力扛麻糬　台塑第4代抓周拿算盤         & 2016-04-13 19:03:00                              & 娛樂                                             &  70169                                          \\\\\n",
       "\t 【更新】MP​廷廷有新歡！李優爆「對我做可怕的事」   & 2016-04-13 18:46:00                              & 娛樂                                             &  40764                                          \\\\\n",
       "\t 《太陽》編劇金恩淑洩密　結局非爛尾               & 2016-04-13 18:40:00                              & 娛樂                                             &  19267                                          \\\\\n",
       "\t 【有片】福爾摩斯轉職奇異博士　竟被女光頭打出魂魄 & 2016-04-13 18:38:00                              & 娛樂                                             &   9860                                          \\\\\n",
       "\t 【更新】AKB美胸女王駕到！小嶋陽菜貴氣抵台        & 2016-04-13 18:10:00                              & 娛樂                                             &  17874                                          \\\\\n",
       "\t 【更新】許維恩剛認愛就變心　甜喊「憲哥我愛你」   & 2016-04-13 17:56:00                              & 娛樂                                             &  42048                                          \\\\\n",
       "\t 章子怡加入炫娃族　連發醒醒萌Q變身照              & 2016-04-13 17:30:00                              & 娛樂                                             &  18752                                          \\\\\n",
       "\t 本土劇女神整形前照出土？！黑皮塌鼻引戰火         & 2016-04-13 17:08:00                              & 娛樂                                             & 299235                                          \\\\\n",
       "\t 劉真女兒雙滿月　辛龍送糕「最幸福的事」           & 2016-04-13 16:52:00                              & 娛樂                                             &  32363                                          \\\\\n",
       "\t 等著見小豬？！周揚青出沒台北信義區               & 2016-04-13 16:40:00                              & 娛樂                                             &  23314                                          \\\\\n",
       "\\end{tabular}\n"
      ],
      "text/markdown": [
       "\n",
       "title | dt | category | clicked | \n",
       "|---|---|---|---|---|---|---|---|---|---|---|---|---|---|---|---|---|---|---|---|---|---|---|---|---|---|---|---|---|---|---|---|---|---|---|---|---|---|---|---|---|---|---|---|---|---|---|---|---|---|---|---|---|---|---|---|---|---|---|---|---|\n",
       "| 澎恰恰收女弟子　拱當台灣第一名伶                             | 2016-04-15 14:17:00                                          | 娛樂                                                         |   1749                                                       | \n",
       "| 【唱新聞】詐騙嗎？R.O.C.有CHINA但不是CHINA                   | 2016-04-15 14:00:00                                          | 娛樂                                                         |  11696                                                       | \n",
       "| 白曉燕命案19年了　白冰冰「不能忘」                           | 2016-04-15 13:49:00                                          | 娛樂                                                         |   3329                                                       | \n",
       "| 好萊塢男神好威　女友再當高齡產婦                             | 2016-04-15 13:40:00                                          | 娛樂                                                         |   4307                                                       | \n",
       "| 隋棠帶兒遠征南台灣　吃成膨皮母子檔                           | 2016-04-15 13:30:00                                          | 娛樂                                                         |   4651                                                       | \n",
       "| 伊勢谷友介掰了長澤雅美　半同居小16歲辣模                     | 2016-04-15 13:23:00                                          | 娛樂                                                         |   5141                                                       | \n",
       "| 徐佳瑩開唱前驚傳失聲　急診照曝光                             | 2016-04-15 13:08:00                                          | 娛樂                                                         |  11588                                                       | \n",
       "| 死侍續攤雙喜　花邊教主又有了！                               | 2016-04-15 13:00:00                                          | 娛樂                                                         |   5209                                                       | \n",
       "| 【更新】《太陽》完美結局　沉船灣之吻收視最熱                 | 2016-04-15 12:29:00                                          | 娛樂                                                         |  27010                                                       | \n",
       "| 宋慧喬愛國拒代言　台大教授批韓軍「應被唾棄」                 | 2016-04-15 11:52:00                                          | 娛樂                                                         |  10455                                                       | \n",
       "| 【請回答】六月李易對質實況　出軌X次說清楚！                  | 2016-04-15 11:40:00                                          | 娛樂                                                         |  88386                                                       | \n",
       "| 好萊塢麻煩精釣到小開！大顆訂婚戒到處閃                       | 2016-04-15 11:27:00                                          | 娛樂                                                         |   9930                                                       | \n",
       "| 【還記得他嗎】童星竄高變小鮮肉　拉攏同儕救人氣               | 2016-04-15 11:00:00                                          | 娛樂                                                         |   7536                                                       | \n",
       "| 【特企】三角戀無緣啦！風田愛佼哥 不愛宏正                    | 2016-04-15 10:39:00                                          | 娛樂                                                         |   1631                                                       | \n",
       "| 劉愷威被問楊冪超囧　擠不出上次何時見                         | 2016-04-15 10:30:00                                          | 娛樂                                                         |  10478                                                       | \n",
       "| 【壹週刊】原來發哥才是鞋神                                   | 2016-04-15 10:30:00                                          | 娛樂                                                         |   5766                                                       | \n",
       "| 1小時燒5萬！宋仲基白斬雞變筋肉男                             | 2016-04-15 10:04:00                                          | 娛樂                                                         |  13351                                                       | \n",
       "| 【網路溫度計】AV女優私密大公開！十大網友最想知道的女優秘辛！ | 2016-04-15 09:57:00                                          | 娛樂                                                         |   8761                                                       | \n",
       "| 【痞客邦】回顧經典名片《銀翼殺手》                           | 2016-04-15 09:49:00                                          | 娛樂                                                         |   1681                                                       | \n",
       "| 【壹週刊】日本寫真女星　在台熱舞替她宣傳                     | 2016-04-15 09:40:00                                          | 娛樂                                                         |   4143                                                       | \n",
       "| 超級Kobe粉是她！　女神奔球場又哭又尖叫                       | 2016-04-15 07:08:00                                          | 娛樂                                                         |  12420                                                       | \n",
       "| 炫咘咘藏梧桐妹　賈靜雯自曝「不愛」原因                       | 2016-04-15 06:56:00                                          | 娛樂                                                         |  80200                                                       | \n",
       "| 連勝文被瞎報特權搭機喊告　三立：已更新                       | 2016-04-15 01:10:00                                          | 娛樂                                                         |  19030                                                       | \n",
       "| 斯文男星爭收視寶座　戲拍一半急送醫                           | 2016-04-15 00:51:00                                          | 娛樂                                                         |  19625                                                       | \n",
       "| 女主播爆料　全電視台等宋仲基不肯下班                         | 2016-04-15 00:38:00                                          | 娛樂                                                         |  18220                                                       | \n",
       "| 笑匠女星膽子超大　把鬼當談心好朋友                           | 2016-04-15 00:10:00                                          | 娛樂                                                         |   4697                                                       | \n",
       "| 李佳薇自認不漂亮　大改造變暴風歌姬                           | 2016-04-15 00:00:00                                          | 娛樂                                                         |   7561                                                       | \n",
       "| 孫盛希為開唱暴瘦　八三夭送保肝丸                             | 2016-04-14 23:18:00                                          | 娛樂                                                         |   5241                                                       | \n",
       "| Miss Ko不當饒舌鄧麗君　變身環球小姐                          | 2016-04-14 23:00:00                                          | 娛樂                                                         |  12046                                                       | \n",
       "| 【有片】《太陽的後裔》喜劇收尾　雙宋激吻甜爆                 | 2016-04-14 22:37:00                                          | 娛樂                                                         | 126774                                                       | \n",
       "| ⋮ | ⋮ | ⋮ | ⋮ | \n",
       "| 演唱會XX太難　考倒宇宙人                         | 2016-04-14 00:18:00                              | 娛樂                                             |   2240                                           | \n",
       "| 【狗仔偷拍】好大的派頭　李㼈違停霸氣外露         | 2016-04-14 00:05:00                              | 娛樂                                             | 265355                                           | \n",
       "| 【爆雷15】宋仲基《太陽》陣亡　虐翻喬妹神轉折     | 2016-04-14 00:02:00                              | 娛樂                                             |  38814                                           | \n",
       "| 李千娜認了喇舌　談曖昧對象「我們很好」           | 2016-04-13 23:30:00                              | 娛樂                                             |  31534                                           | \n",
       "| T台記者赴馬丘比丘　受不了高山症                  | 2016-04-13 23:00:00                              | 娛樂                                             |  12714                                           | \n",
       "| 劉容嘉挑戰跳56樓　挑釁攝影師                     | 2016-04-13 22:32:00                              | 娛樂                                             |  12405                                           | \n",
       "| 浩子挖掘黑暗面　想到小孩老婆崩潰痛哭             | 2016-04-13 22:28:00                              | 娛樂                                             |  29726                                           | \n",
       "| 柯佳嬿戲如人生　總是當女主角的運                 | 2016-04-13 22:15:00                              | 娛樂                                             |  17492                                           | \n",
       "| 少女童星萌笑開球　姿勢錯誤小落漆                 | 2016-04-13 22:00:00                              | 娛樂                                             |  15701                                           | \n",
       "| 【這不是新聞】水杯出現這個　客人全嚇傻了         | 2016-04-13 21:55:00                              | 娛樂                                             |  49616                                           | \n",
       "| 男星扮皇帝腿軟　自認不是那塊料                   | 2016-04-13 21:30:00                              | 娛樂                                             |  14995                                           | \n",
       "| 米可白被婆婆趕出家　哭到眼歪嘴斜                 | 2016-04-13 21:15:00                              | 娛樂                                             |  54272                                           | \n",
       "| 林志穎萌照出土　潮襪暴露身份                     | 2016-04-13 21:05:00                              | 娛樂                                             |  71338                                           | \n",
       "| 鋼鐵人慘被球棒襲鵰　草泥馬都鄙視他               | 2016-04-13 21:00:00                              | 娛樂                                             |   6599                                           | \n",
       "| 陳志朋淚崩談整容　隱瞞炸傷原因有洋蔥             | 2016-04-13 20:55:00                              | 娛樂                                             |  34500                                           | \n",
       "| 孫儷雲端抓猴　鄧超的「小三」長這樣               | 2016-04-13 20:27:00                              | 娛樂                                             |  12636                                           | \n",
       "| 雪炫曬心形長髮床照　呼籲國民投票                 | 2016-04-13 20:22:00                              | 娛樂                                             |   9156                                           | \n",
       "| 【壹週刊】誰斗膽讓女皇瑪丹娜尿濕了褲子？【有片】 | 2016-04-13 20:08:00                              | 娛樂                                             |   6746                                           | \n",
       "| 33E瑤瑤偷穿32C張景嵐原味衣...差點撐爆            | 2016-04-13 20:00:00                              | 娛樂                                             |  94302                                           | \n",
       "| 王柏傑許瑋甯合體　堅稱「就是朋友」　             | 2016-04-13 19:32:00                              | 娛樂                                             |   9368                                           | \n",
       "| 麻衣1歲兒神力扛麻糬　台塑第4代抓周拿算盤         | 2016-04-13 19:03:00                              | 娛樂                                             |  70169                                           | \n",
       "| 【更新】MP​廷廷有新歡！李優爆「對我做可怕的事」   | 2016-04-13 18:46:00                              | 娛樂                                             |  40764                                           | \n",
       "| 《太陽》編劇金恩淑洩密　結局非爛尾               | 2016-04-13 18:40:00                              | 娛樂                                             |  19267                                           | \n",
       "| 【有片】福爾摩斯轉職奇異博士　竟被女光頭打出魂魄 | 2016-04-13 18:38:00                              | 娛樂                                             |   9860                                           | \n",
       "| 【更新】AKB美胸女王駕到！小嶋陽菜貴氣抵台        | 2016-04-13 18:10:00                              | 娛樂                                             |  17874                                           | \n",
       "| 【更新】許維恩剛認愛就變心　甜喊「憲哥我愛你」   | 2016-04-13 17:56:00                              | 娛樂                                             |  42048                                           | \n",
       "| 章子怡加入炫娃族　連發醒醒萌Q變身照              | 2016-04-13 17:30:00                              | 娛樂                                             |  18752                                           | \n",
       "| 本土劇女神整形前照出土？！黑皮塌鼻引戰火         | 2016-04-13 17:08:00                              | 娛樂                                             | 299235                                           | \n",
       "| 劉真女兒雙滿月　辛龍送糕「最幸福的事」           | 2016-04-13 16:52:00                              | 娛樂                                             |  32363                                           | \n",
       "| 等著見小豬？！周揚青出沒台北信義區               | 2016-04-13 16:40:00                              | 娛樂                                             |  23314                                           | \n",
       "\n",
       "\n"
      ],
      "text/plain": [
       "    title                                                       \n",
       "1   澎恰恰收女弟子　拱當台灣第一名伶                            \n",
       "2   【唱新聞】詐騙嗎？R.O.C.有CHINA但不是CHINA                  \n",
       "3   白曉燕命案19年了　白冰冰「不能忘」                          \n",
       "4   好萊塢男神好威　女友再當高齡產婦                            \n",
       "5   隋棠帶兒遠征南台灣　吃成膨皮母子檔                          \n",
       "6   伊勢谷友介掰了長澤雅美　半同居小16歲辣模                    \n",
       "7   徐佳瑩開唱前驚傳失聲　急診照曝光                            \n",
       "8   死侍續攤雙喜　花邊教主又有了！                              \n",
       "9   【更新】《太陽》完美結局　沉船灣之吻收視最熱                \n",
       "10  宋慧喬愛國拒代言　台大教授批韓軍「應被唾棄」                \n",
       "11  【請回答】六月李易對質實況　出軌X次說清楚！                 \n",
       "12  好萊塢麻煩精釣到小開！大顆訂婚戒到處閃                      \n",
       "13  【還記得他嗎】童星竄高變小鮮肉　拉攏同儕救人氣              \n",
       "14  【特企】三角戀無緣啦！風田愛佼哥 不愛宏正                   \n",
       "15  劉愷威被問楊冪超囧　擠不出上次何時見                        \n",
       "16  【壹週刊】原來發哥才是鞋神                                  \n",
       "17  1小時燒5萬！宋仲基白斬雞變筋肉男                            \n",
       "18  【網路溫度計】AV女優私密大公開！十大網友最想知道的女優秘辛！\n",
       "19  【痞客邦】回顧經典名片《銀翼殺手》                          \n",
       "20  【壹週刊】日本寫真女星　在台熱舞替她宣傳                    \n",
       "21  超級Kobe粉是她！　女神奔球場又哭又尖叫                      \n",
       "22  炫咘咘藏梧桐妹　賈靜雯自曝「不愛」原因                      \n",
       "23  連勝文被瞎報特權搭機喊告　三立：已更新                      \n",
       "24  斯文男星爭收視寶座　戲拍一半急送醫                          \n",
       "25  女主播爆料　全電視台等宋仲基不肯下班                        \n",
       "26  笑匠女星膽子超大　把鬼當談心好朋友                          \n",
       "27  李佳薇自認不漂亮　大改造變暴風歌姬                          \n",
       "28  孫盛希為開唱暴瘦　八三夭送保肝丸                            \n",
       "29  Miss Ko不當饒舌鄧麗君　變身環球小姐                         \n",
       "30  【有片】《太陽的後裔》喜劇收尾　雙宋激吻甜爆                \n",
       "⋮   ⋮                                                           \n",
       "84  演唱會XX太難　考倒宇宙人                                    \n",
       "85  【狗仔偷拍】好大的派頭　李㼈違停霸氣外露                    \n",
       "86  【爆雷15】宋仲基《太陽》陣亡　虐翻喬妹神轉折                \n",
       "87  李千娜認了喇舌　談曖昧對象「我們很好」                      \n",
       "88  T台記者赴馬丘比丘　受不了高山症                             \n",
       "89  劉容嘉挑戰跳56樓　挑釁攝影師                                \n",
       "90  浩子挖掘黑暗面　想到小孩老婆崩潰痛哭                        \n",
       "91  柯佳嬿戲如人生　總是當女主角的運                            \n",
       "92  少女童星萌笑開球　姿勢錯誤小落漆                            \n",
       "93  【這不是新聞】水杯出現這個　客人全嚇傻了                    \n",
       "94  男星扮皇帝腿軟　自認不是那塊料                              \n",
       "95  米可白被婆婆趕出家　哭到眼歪嘴斜                            \n",
       "96  林志穎萌照出土　潮襪暴露身份                                \n",
       "97  鋼鐵人慘被球棒襲鵰　草泥馬都鄙視他                          \n",
       "98  陳志朋淚崩談整容　隱瞞炸傷原因有洋蔥                        \n",
       "99  孫儷雲端抓猴　鄧超的「小三」長這樣                          \n",
       "100 雪炫曬心形長髮床照　呼籲國民投票                            \n",
       "101 【壹週刊】誰斗膽讓女皇瑪丹娜尿濕了褲子？【有片】            \n",
       "102 33E瑤瑤偷穿32C張景嵐原味衣...差點撐爆                       \n",
       "103 王柏傑許瑋甯合體　堅稱「就是朋友」　                        \n",
       "104 麻衣1歲兒神力扛麻糬　台塑第4代抓周拿算盤                    \n",
       "105 【更新】MP​廷廷有新歡！李優爆「對我做可怕的事」              \n",
       "106 《太陽》編劇金恩淑洩密　結局非爛尾                          \n",
       "107 【有片】福爾摩斯轉職奇異博士　竟被女光頭打出魂魄            \n",
       "108 【更新】AKB美胸女王駕到！小嶋陽菜貴氣抵台                   \n",
       "109 【更新】許維恩剛認愛就變心　甜喊「憲哥我愛你」              \n",
       "110 章子怡加入炫娃族　連發醒醒萌Q變身照                         \n",
       "111 本土劇女神整形前照出土？！黑皮塌鼻引戰火                    \n",
       "112 劉真女兒雙滿月　辛龍送糕「最幸福的事」                      \n",
       "113 等著見小豬？！周揚青出沒台北信義區                          \n",
       "    dt                  category clicked\n",
       "1   2016-04-15 14:17:00 娛樂       1749 \n",
       "2   2016-04-15 14:00:00 娛樂      11696 \n",
       "3   2016-04-15 13:49:00 娛樂       3329 \n",
       "4   2016-04-15 13:40:00 娛樂       4307 \n",
       "5   2016-04-15 13:30:00 娛樂       4651 \n",
       "6   2016-04-15 13:23:00 娛樂       5141 \n",
       "7   2016-04-15 13:08:00 娛樂      11588 \n",
       "8   2016-04-15 13:00:00 娛樂       5209 \n",
       "9   2016-04-15 12:29:00 娛樂      27010 \n",
       "10  2016-04-15 11:52:00 娛樂      10455 \n",
       "11  2016-04-15 11:40:00 娛樂      88386 \n",
       "12  2016-04-15 11:27:00 娛樂       9930 \n",
       "13  2016-04-15 11:00:00 娛樂       7536 \n",
       "14  2016-04-15 10:39:00 娛樂       1631 \n",
       "15  2016-04-15 10:30:00 娛樂      10478 \n",
       "16  2016-04-15 10:30:00 娛樂       5766 \n",
       "17  2016-04-15 10:04:00 娛樂      13351 \n",
       "18  2016-04-15 09:57:00 娛樂       8761 \n",
       "19  2016-04-15 09:49:00 娛樂       1681 \n",
       "20  2016-04-15 09:40:00 娛樂       4143 \n",
       "21  2016-04-15 07:08:00 娛樂      12420 \n",
       "22  2016-04-15 06:56:00 娛樂      80200 \n",
       "23  2016-04-15 01:10:00 娛樂      19030 \n",
       "24  2016-04-15 00:51:00 娛樂      19625 \n",
       "25  2016-04-15 00:38:00 娛樂      18220 \n",
       "26  2016-04-15 00:10:00 娛樂       4697 \n",
       "27  2016-04-15 00:00:00 娛樂       7561 \n",
       "28  2016-04-14 23:18:00 娛樂       5241 \n",
       "29  2016-04-14 23:00:00 娛樂      12046 \n",
       "30  2016-04-14 22:37:00 娛樂     126774 \n",
       "⋮   ⋮                   ⋮        ⋮      \n",
       "84  2016-04-14 00:18:00 娛樂       2240 \n",
       "85  2016-04-14 00:05:00 娛樂     265355 \n",
       "86  2016-04-14 00:02:00 娛樂      38814 \n",
       "87  2016-04-13 23:30:00 娛樂      31534 \n",
       "88  2016-04-13 23:00:00 娛樂      12714 \n",
       "89  2016-04-13 22:32:00 娛樂      12405 \n",
       "90  2016-04-13 22:28:00 娛樂      29726 \n",
       "91  2016-04-13 22:15:00 娛樂      17492 \n",
       "92  2016-04-13 22:00:00 娛樂      15701 \n",
       "93  2016-04-13 21:55:00 娛樂      49616 \n",
       "94  2016-04-13 21:30:00 娛樂      14995 \n",
       "95  2016-04-13 21:15:00 娛樂      54272 \n",
       "96  2016-04-13 21:05:00 娛樂      71338 \n",
       "97  2016-04-13 21:00:00 娛樂       6599 \n",
       "98  2016-04-13 20:55:00 娛樂      34500 \n",
       "99  2016-04-13 20:27:00 娛樂      12636 \n",
       "100 2016-04-13 20:22:00 娛樂       9156 \n",
       "101 2016-04-13 20:08:00 娛樂       6746 \n",
       "102 2016-04-13 20:00:00 娛樂      94302 \n",
       "103 2016-04-13 19:32:00 娛樂       9368 \n",
       "104 2016-04-13 19:03:00 娛樂      70169 \n",
       "105 2016-04-13 18:46:00 娛樂      40764 \n",
       "106 2016-04-13 18:40:00 娛樂      19267 \n",
       "107 2016-04-13 18:38:00 娛樂       9860 \n",
       "108 2016-04-13 18:10:00 娛樂      17874 \n",
       "109 2016-04-13 17:56:00 娛樂      42048 \n",
       "110 2016-04-13 17:30:00 娛樂      18752 \n",
       "111 2016-04-13 17:08:00 娛樂     299235 \n",
       "112 2016-04-13 16:52:00 娛樂      32363 \n",
       "113 2016-04-13 16:40:00 娛樂      23314 "
      ]
     },
     "metadata": {},
     "output_type": "display_data"
    }
   ],
   "source": [
    "filter(applenews,category == '娛樂')"
   ]
  },
  {
   "cell_type": "code",
   "execution_count": 225,
   "metadata": {},
   "outputs": [
    {
     "data": {
      "text/html": [
       "<table>\n",
       "<thead><tr><th scope=col>title</th><th scope=col>dt</th><th scope=col>category</th><th scope=col>clicked</th></tr></thead>\n",
       "<tbody>\n",
       "\t<tr><td>【唱新聞】詐騙嗎？R.O.C.有CHINA但不是CHINA        </td><td>2016-04-15 14:00:00                               </td><td>娛樂                                              </td><td> 11696                                            </td></tr>\n",
       "\t<tr><td>徐佳瑩開唱前驚傳失聲　急診照曝光                  </td><td>2016-04-15 13:08:00                               </td><td>娛樂                                              </td><td> 11588                                            </td></tr>\n",
       "\t<tr><td>【更新】《太陽》完美結局　沉船灣之吻收視最熱      </td><td>2016-04-15 12:29:00                               </td><td>娛樂                                              </td><td> 27010                                            </td></tr>\n",
       "\t<tr><td>宋慧喬愛國拒代言　台大教授批韓軍「應被唾棄」      </td><td>2016-04-15 11:52:00                               </td><td>娛樂                                              </td><td> 10455                                            </td></tr>\n",
       "\t<tr><td>【請回答】六月李易對質實況　出軌X次說清楚！       </td><td>2016-04-15 11:40:00                               </td><td>娛樂                                              </td><td> 88386                                            </td></tr>\n",
       "\t<tr><td>劉愷威被問楊冪超囧　擠不出上次何時見              </td><td>2016-04-15 10:30:00                               </td><td>娛樂                                              </td><td> 10478                                            </td></tr>\n",
       "\t<tr><td>1小時燒5萬！宋仲基白斬雞變筋肉男                  </td><td>2016-04-15 10:04:00                               </td><td>娛樂                                              </td><td> 13351                                            </td></tr>\n",
       "\t<tr><td>超級Kobe粉是她！　女神奔球場又哭又尖叫            </td><td>2016-04-15 07:08:00                               </td><td>娛樂                                              </td><td> 12420                                            </td></tr>\n",
       "\t<tr><td>炫咘咘藏梧桐妹　賈靜雯自曝「不愛」原因            </td><td>2016-04-15 06:56:00                               </td><td>娛樂                                              </td><td> 80200                                            </td></tr>\n",
       "\t<tr><td>連勝文被瞎報特權搭機喊告　三立：已更新            </td><td>2016-04-15 01:10:00                               </td><td>娛樂                                              </td><td> 19030                                            </td></tr>\n",
       "\t<tr><td>斯文男星爭收視寶座　戲拍一半急送醫                </td><td>2016-04-15 00:51:00                               </td><td>娛樂                                              </td><td> 19625                                            </td></tr>\n",
       "\t<tr><td>女主播爆料　全電視台等宋仲基不肯下班              </td><td>2016-04-15 00:38:00                               </td><td>娛樂                                              </td><td> 18220                                            </td></tr>\n",
       "\t<tr><td>Miss Ko不當饒舌鄧麗君　變身環球小姐               </td><td>2016-04-14 23:00:00                               </td><td>娛樂                                              </td><td> 12046                                            </td></tr>\n",
       "\t<tr><td>【有片】《太陽的後裔》喜劇收尾　雙宋激吻甜爆      </td><td>2016-04-14 22:37:00                               </td><td>娛樂                                              </td><td>126774                                            </td></tr>\n",
       "\t<tr><td>宋茜楊洋熱戀被抓包？SM公司拒認                    </td><td>2016-04-14 22:20:00                               </td><td>娛樂                                              </td><td> 13761                                            </td></tr>\n",
       "\t<tr><td>【奶姬妹】八兩金有女兒？媽呀有夠像                </td><td>2016-04-14 20:30:00                               </td><td>娛樂                                              </td><td> 27440                                            </td></tr>\n",
       "\t<tr><td>溫流談《太陽的後裔》「會記得很久」                </td><td>2016-04-14 20:18:00                               </td><td>娛樂                                              </td><td> 20450                                            </td></tr>\n",
       "\t<tr><td>歐陽妮妮穿裙大開腿　霸氣釣男人                    </td><td>2016-04-14 20:04:00                               </td><td>娛樂                                              </td><td> 22129                                            </td></tr>\n",
       "\t<tr><td>音樂人不好當！劉喬安撐明星夢先開按摩坊            </td><td>2016-04-14 20:00:00                               </td><td>娛樂                                              </td><td> 14398                                            </td></tr>\n",
       "\t<tr><td>【有片】嫁豪門首現身奉送美背　楊千霈「緣份擋不住」</td><td>2016-04-14 19:56:00                               </td><td>娛樂                                              </td><td> 24017                                            </td></tr>\n",
       "\t<tr><td>今晚迎接完結篇！回味《太陽》10大浪漫鏡頭          </td><td>2016-04-14 18:56:00                               </td><td>娛樂                                              </td><td> 22946                                            </td></tr>\n",
       "\t<tr><td>咘咘出道梧桐妹不給看　賈靜雯解釋差別待遇因為～～  </td><td>2016-04-14 18:28:00                               </td><td>娛樂                                              </td><td>131942                                            </td></tr>\n",
       "\t<tr><td>【更新】60歲寶媽的第一次　累到沒辦法洗澡          </td><td>2016-04-14 18:16:00                               </td><td>娛樂                                              </td><td> 76064                                            </td></tr>\n",
       "\t<tr><td>炎亞綸秀合照致敬Kobe「我還是哭了」                </td><td>2016-04-14 18:11:00                               </td><td>娛樂                                              </td><td> 20399                                            </td></tr>\n",
       "\t<tr><td>【有片】孫德榮公司傳承小刀　隔空虧羅志祥          </td><td>2016-04-14 17:38:00                               </td><td>娛樂                                              </td><td> 26036                                            </td></tr>\n",
       "\t<tr><td>【有片】《太陽》喬妹哭技爆發　最高收視竟不是她    </td><td>2016-04-14 17:00:00                               </td><td>娛樂                                              </td><td> 31727                                            </td></tr>\n",
       "\t<tr><td>雷神超賢慧　半夜為愛女煮消夜                      </td><td>2016-04-14 16:45:00                               </td><td>娛樂                                              </td><td> 16175                                            </td></tr>\n",
       "\t<tr><td>最夯男神換人！宋仲基搶金秀賢代言                  </td><td>2016-04-14 16:30:00                               </td><td>娛樂                                              </td><td> 16676                                            </td></tr>\n",
       "\t<tr><td>徐若瑄紅眼班太操　抱Q兒取暖                       </td><td>2016-04-14 16:00:00                               </td><td>娛樂                                              </td><td> 15089                                            </td></tr>\n",
       "\t<tr><td>隋棠環保媽媽　紙巾重複用                          </td><td>2016-04-14 15:40:00                               </td><td>娛樂                                              </td><td> 11339                                            </td></tr>\n",
       "\t<tr><td>⋮</td><td>⋮</td><td>⋮</td><td>⋮</td></tr>\n",
       "\t<tr><td>有內情？辣模女友控MP廷廷　「對我做可怕的事」  </td><td>2016-04-14 08:23:00                           </td><td>娛樂                                          </td><td>239697                                        </td></tr>\n",
       "\t<tr><td>主播夏嘉璐惹到誰？　被爆料4大缺失             </td><td>2016-04-14 07:21:00                           </td><td>娛樂                                          </td><td> 37152                                        </td></tr>\n",
       "\t<tr><td>宋仲基《太陽》衝擊金秀賢障礙　激搶收視王      </td><td>2016-04-14 02:36:00                           </td><td>娛樂                                          </td><td> 25732                                        </td></tr>\n",
       "\t<tr><td>力宏辦生日趴送驚喜　老婆正面孕肚見光          </td><td>2016-04-14 02:15:00                           </td><td>娛樂                                          </td><td> 27671                                        </td></tr>\n",
       "\t<tr><td>陳柏霖韓劇好威　一露臉收視立漲                </td><td>2016-04-14 00:38:00                           </td><td>娛樂                                          </td><td> 35597                                        </td></tr>\n",
       "\t<tr><td>蟻人看到美國隊長變小粉絲　摸肌塊驚呼「老天！」</td><td>2016-04-14 00:24:00                           </td><td>娛樂                                          </td><td> 10499                                        </td></tr>\n",
       "\t<tr><td>【狗仔偷拍】好大的派頭　李㼈違停霸氣外露      </td><td>2016-04-14 00:05:00                           </td><td>娛樂                                          </td><td>265355                                        </td></tr>\n",
       "\t<tr><td>【爆雷15】宋仲基《太陽》陣亡　虐翻喬妹神轉折  </td><td>2016-04-14 00:02:00                           </td><td>娛樂                                          </td><td> 38814                                        </td></tr>\n",
       "\t<tr><td>李千娜認了喇舌　談曖昧對象「我們很好」        </td><td>2016-04-13 23:30:00                           </td><td>娛樂                                          </td><td> 31534                                        </td></tr>\n",
       "\t<tr><td>T台記者赴馬丘比丘　受不了高山症               </td><td>2016-04-13 23:00:00                           </td><td>娛樂                                          </td><td> 12714                                        </td></tr>\n",
       "\t<tr><td>劉容嘉挑戰跳56樓　挑釁攝影師                  </td><td>2016-04-13 22:32:00                           </td><td>娛樂                                          </td><td> 12405                                        </td></tr>\n",
       "\t<tr><td>浩子挖掘黑暗面　想到小孩老婆崩潰痛哭          </td><td>2016-04-13 22:28:00                           </td><td>娛樂                                          </td><td> 29726                                        </td></tr>\n",
       "\t<tr><td>柯佳嬿戲如人生　總是當女主角的運              </td><td>2016-04-13 22:15:00                           </td><td>娛樂                                          </td><td> 17492                                        </td></tr>\n",
       "\t<tr><td>少女童星萌笑開球　姿勢錯誤小落漆              </td><td>2016-04-13 22:00:00                           </td><td>娛樂                                          </td><td> 15701                                        </td></tr>\n",
       "\t<tr><td>【這不是新聞】水杯出現這個　客人全嚇傻了      </td><td>2016-04-13 21:55:00                           </td><td>娛樂                                          </td><td> 49616                                        </td></tr>\n",
       "\t<tr><td>男星扮皇帝腿軟　自認不是那塊料                </td><td>2016-04-13 21:30:00                           </td><td>娛樂                                          </td><td> 14995                                        </td></tr>\n",
       "\t<tr><td>米可白被婆婆趕出家　哭到眼歪嘴斜              </td><td>2016-04-13 21:15:00                           </td><td>娛樂                                          </td><td> 54272                                        </td></tr>\n",
       "\t<tr><td>林志穎萌照出土　潮襪暴露身份                  </td><td>2016-04-13 21:05:00                           </td><td>娛樂                                          </td><td> 71338                                        </td></tr>\n",
       "\t<tr><td>陳志朋淚崩談整容　隱瞞炸傷原因有洋蔥          </td><td>2016-04-13 20:55:00                           </td><td>娛樂                                          </td><td> 34500                                        </td></tr>\n",
       "\t<tr><td>孫儷雲端抓猴　鄧超的「小三」長這樣            </td><td>2016-04-13 20:27:00                           </td><td>娛樂                                          </td><td> 12636                                        </td></tr>\n",
       "\t<tr><td>33E瑤瑤偷穿32C張景嵐原味衣...差點撐爆         </td><td>2016-04-13 20:00:00                           </td><td>娛樂                                          </td><td> 94302                                        </td></tr>\n",
       "\t<tr><td>麻衣1歲兒神力扛麻糬　台塑第4代抓周拿算盤      </td><td>2016-04-13 19:03:00                           </td><td>娛樂                                          </td><td> 70169                                        </td></tr>\n",
       "\t<tr><td>【更新】MP​廷廷有新歡！李優爆「對我做可怕的事」</td><td>2016-04-13 18:46:00                           </td><td>娛樂                                          </td><td> 40764                                        </td></tr>\n",
       "\t<tr><td>《太陽》編劇金恩淑洩密　結局非爛尾            </td><td>2016-04-13 18:40:00                           </td><td>娛樂                                          </td><td> 19267                                        </td></tr>\n",
       "\t<tr><td>【更新】AKB美胸女王駕到！小嶋陽菜貴氣抵台     </td><td>2016-04-13 18:10:00                           </td><td>娛樂                                          </td><td> 17874                                        </td></tr>\n",
       "\t<tr><td>【更新】許維恩剛認愛就變心　甜喊「憲哥我愛你」</td><td>2016-04-13 17:56:00                           </td><td>娛樂                                          </td><td> 42048                                        </td></tr>\n",
       "\t<tr><td>章子怡加入炫娃族　連發醒醒萌Q變身照           </td><td>2016-04-13 17:30:00                           </td><td>娛樂                                          </td><td> 18752                                        </td></tr>\n",
       "\t<tr><td>本土劇女神整形前照出土？！黑皮塌鼻引戰火      </td><td>2016-04-13 17:08:00                           </td><td>娛樂                                          </td><td>299235                                        </td></tr>\n",
       "\t<tr><td>劉真女兒雙滿月　辛龍送糕「最幸福的事」        </td><td>2016-04-13 16:52:00                           </td><td>娛樂                                          </td><td> 32363                                        </td></tr>\n",
       "\t<tr><td>等著見小豬？！周揚青出沒台北信義區            </td><td>2016-04-13 16:40:00                           </td><td>娛樂                                          </td><td> 23314                                        </td></tr>\n",
       "</tbody>\n",
       "</table>\n"
      ],
      "text/latex": [
       "\\begin{tabular}{r|llll}\n",
       " title & dt & category & clicked\\\\\n",
       "\\hline\n",
       "\t 【唱新聞】詐騙嗎？R.O.C.有CHINA但不是CHINA         & 2016-04-15 14:00:00                                & 娛樂                                               &  11696                                            \\\\\n",
       "\t 徐佳瑩開唱前驚傳失聲　急診照曝光                   & 2016-04-15 13:08:00                                & 娛樂                                               &  11588                                            \\\\\n",
       "\t 【更新】《太陽》完美結局　沉船灣之吻收視最熱       & 2016-04-15 12:29:00                                & 娛樂                                               &  27010                                            \\\\\n",
       "\t 宋慧喬愛國拒代言　台大教授批韓軍「應被唾棄」       & 2016-04-15 11:52:00                                & 娛樂                                               &  10455                                            \\\\\n",
       "\t 【請回答】六月李易對質實況　出軌X次說清楚！        & 2016-04-15 11:40:00                                & 娛樂                                               &  88386                                            \\\\\n",
       "\t 劉愷威被問楊冪超囧　擠不出上次何時見               & 2016-04-15 10:30:00                                & 娛樂                                               &  10478                                            \\\\\n",
       "\t 1小時燒5萬！宋仲基白斬雞變筋肉男                   & 2016-04-15 10:04:00                                & 娛樂                                               &  13351                                            \\\\\n",
       "\t 超級Kobe粉是她！　女神奔球場又哭又尖叫             & 2016-04-15 07:08:00                                & 娛樂                                               &  12420                                            \\\\\n",
       "\t 炫咘咘藏梧桐妹　賈靜雯自曝「不愛」原因             & 2016-04-15 06:56:00                                & 娛樂                                               &  80200                                            \\\\\n",
       "\t 連勝文被瞎報特權搭機喊告　三立：已更新             & 2016-04-15 01:10:00                                & 娛樂                                               &  19030                                            \\\\\n",
       "\t 斯文男星爭收視寶座　戲拍一半急送醫                 & 2016-04-15 00:51:00                                & 娛樂                                               &  19625                                            \\\\\n",
       "\t 女主播爆料　全電視台等宋仲基不肯下班               & 2016-04-15 00:38:00                                & 娛樂                                               &  18220                                            \\\\\n",
       "\t Miss Ko不當饒舌鄧麗君　變身環球小姐                & 2016-04-14 23:00:00                                & 娛樂                                               &  12046                                            \\\\\n",
       "\t 【有片】《太陽的後裔》喜劇收尾　雙宋激吻甜爆       & 2016-04-14 22:37:00                                & 娛樂                                               & 126774                                            \\\\\n",
       "\t 宋茜楊洋熱戀被抓包？SM公司拒認                     & 2016-04-14 22:20:00                                & 娛樂                                               &  13761                                            \\\\\n",
       "\t 【奶姬妹】八兩金有女兒？媽呀有夠像                 & 2016-04-14 20:30:00                                & 娛樂                                               &  27440                                            \\\\\n",
       "\t 溫流談《太陽的後裔》「會記得很久」                 & 2016-04-14 20:18:00                                & 娛樂                                               &  20450                                            \\\\\n",
       "\t 歐陽妮妮穿裙大開腿　霸氣釣男人                     & 2016-04-14 20:04:00                                & 娛樂                                               &  22129                                            \\\\\n",
       "\t 音樂人不好當！劉喬安撐明星夢先開按摩坊             & 2016-04-14 20:00:00                                & 娛樂                                               &  14398                                            \\\\\n",
       "\t 【有片】嫁豪門首現身奉送美背　楊千霈「緣份擋不住」 & 2016-04-14 19:56:00                                & 娛樂                                               &  24017                                            \\\\\n",
       "\t 今晚迎接完結篇！回味《太陽》10大浪漫鏡頭           & 2016-04-14 18:56:00                                & 娛樂                                               &  22946                                            \\\\\n",
       "\t 咘咘出道梧桐妹不給看　賈靜雯解釋差別待遇因為～～   & 2016-04-14 18:28:00                                & 娛樂                                               & 131942                                            \\\\\n",
       "\t 【更新】60歲寶媽的第一次　累到沒辦法洗澡           & 2016-04-14 18:16:00                                & 娛樂                                               &  76064                                            \\\\\n",
       "\t 炎亞綸秀合照致敬Kobe「我還是哭了」                 & 2016-04-14 18:11:00                                & 娛樂                                               &  20399                                            \\\\\n",
       "\t 【有片】孫德榮公司傳承小刀　隔空虧羅志祥           & 2016-04-14 17:38:00                                & 娛樂                                               &  26036                                            \\\\\n",
       "\t 【有片】《太陽》喬妹哭技爆發　最高收視竟不是她     & 2016-04-14 17:00:00                                & 娛樂                                               &  31727                                            \\\\\n",
       "\t 雷神超賢慧　半夜為愛女煮消夜                       & 2016-04-14 16:45:00                                & 娛樂                                               &  16175                                            \\\\\n",
       "\t 最夯男神換人！宋仲基搶金秀賢代言                   & 2016-04-14 16:30:00                                & 娛樂                                               &  16676                                            \\\\\n",
       "\t 徐若瑄紅眼班太操　抱Q兒取暖                        & 2016-04-14 16:00:00                                & 娛樂                                               &  15089                                            \\\\\n",
       "\t 隋棠環保媽媽　紙巾重複用                           & 2016-04-14 15:40:00                                & 娛樂                                               &  11339                                            \\\\\n",
       "\t ⋮ & ⋮ & ⋮ & ⋮\\\\\n",
       "\t 有內情？辣模女友控MP廷廷　「對我做可怕的事」   & 2016-04-14 08:23:00                            & 娛樂                                           & 239697                                        \\\\\n",
       "\t 主播夏嘉璐惹到誰？　被爆料4大缺失              & 2016-04-14 07:21:00                            & 娛樂                                           &  37152                                        \\\\\n",
       "\t 宋仲基《太陽》衝擊金秀賢障礙　激搶收視王       & 2016-04-14 02:36:00                            & 娛樂                                           &  25732                                        \\\\\n",
       "\t 力宏辦生日趴送驚喜　老婆正面孕肚見光           & 2016-04-14 02:15:00                            & 娛樂                                           &  27671                                        \\\\\n",
       "\t 陳柏霖韓劇好威　一露臉收視立漲                 & 2016-04-14 00:38:00                            & 娛樂                                           &  35597                                        \\\\\n",
       "\t 蟻人看到美國隊長變小粉絲　摸肌塊驚呼「老天！」 & 2016-04-14 00:24:00                            & 娛樂                                           &  10499                                        \\\\\n",
       "\t 【狗仔偷拍】好大的派頭　李㼈違停霸氣外露       & 2016-04-14 00:05:00                            & 娛樂                                           & 265355                                        \\\\\n",
       "\t 【爆雷15】宋仲基《太陽》陣亡　虐翻喬妹神轉折   & 2016-04-14 00:02:00                            & 娛樂                                           &  38814                                        \\\\\n",
       "\t 李千娜認了喇舌　談曖昧對象「我們很好」         & 2016-04-13 23:30:00                            & 娛樂                                           &  31534                                        \\\\\n",
       "\t T台記者赴馬丘比丘　受不了高山症                & 2016-04-13 23:00:00                            & 娛樂                                           &  12714                                        \\\\\n",
       "\t 劉容嘉挑戰跳56樓　挑釁攝影師                   & 2016-04-13 22:32:00                            & 娛樂                                           &  12405                                        \\\\\n",
       "\t 浩子挖掘黑暗面　想到小孩老婆崩潰痛哭           & 2016-04-13 22:28:00                            & 娛樂                                           &  29726                                        \\\\\n",
       "\t 柯佳嬿戲如人生　總是當女主角的運               & 2016-04-13 22:15:00                            & 娛樂                                           &  17492                                        \\\\\n",
       "\t 少女童星萌笑開球　姿勢錯誤小落漆               & 2016-04-13 22:00:00                            & 娛樂                                           &  15701                                        \\\\\n",
       "\t 【這不是新聞】水杯出現這個　客人全嚇傻了       & 2016-04-13 21:55:00                            & 娛樂                                           &  49616                                        \\\\\n",
       "\t 男星扮皇帝腿軟　自認不是那塊料                 & 2016-04-13 21:30:00                            & 娛樂                                           &  14995                                        \\\\\n",
       "\t 米可白被婆婆趕出家　哭到眼歪嘴斜               & 2016-04-13 21:15:00                            & 娛樂                                           &  54272                                        \\\\\n",
       "\t 林志穎萌照出土　潮襪暴露身份                   & 2016-04-13 21:05:00                            & 娛樂                                           &  71338                                        \\\\\n",
       "\t 陳志朋淚崩談整容　隱瞞炸傷原因有洋蔥           & 2016-04-13 20:55:00                            & 娛樂                                           &  34500                                        \\\\\n",
       "\t 孫儷雲端抓猴　鄧超的「小三」長這樣             & 2016-04-13 20:27:00                            & 娛樂                                           &  12636                                        \\\\\n",
       "\t 33E瑤瑤偷穿32C張景嵐原味衣...差點撐爆          & 2016-04-13 20:00:00                            & 娛樂                                           &  94302                                        \\\\\n",
       "\t 麻衣1歲兒神力扛麻糬　台塑第4代抓周拿算盤       & 2016-04-13 19:03:00                            & 娛樂                                           &  70169                                        \\\\\n",
       "\t 【更新】MP​廷廷有新歡！李優爆「對我做可怕的事」 & 2016-04-13 18:46:00                            & 娛樂                                           &  40764                                        \\\\\n",
       "\t 《太陽》編劇金恩淑洩密　結局非爛尾             & 2016-04-13 18:40:00                            & 娛樂                                           &  19267                                        \\\\\n",
       "\t 【更新】AKB美胸女王駕到！小嶋陽菜貴氣抵台      & 2016-04-13 18:10:00                            & 娛樂                                           &  17874                                        \\\\\n",
       "\t 【更新】許維恩剛認愛就變心　甜喊「憲哥我愛你」 & 2016-04-13 17:56:00                            & 娛樂                                           &  42048                                        \\\\\n",
       "\t 章子怡加入炫娃族　連發醒醒萌Q變身照            & 2016-04-13 17:30:00                            & 娛樂                                           &  18752                                        \\\\\n",
       "\t 本土劇女神整形前照出土？！黑皮塌鼻引戰火       & 2016-04-13 17:08:00                            & 娛樂                                           & 299235                                        \\\\\n",
       "\t 劉真女兒雙滿月　辛龍送糕「最幸福的事」         & 2016-04-13 16:52:00                            & 娛樂                                           &  32363                                        \\\\\n",
       "\t 等著見小豬？！周揚青出沒台北信義區             & 2016-04-13 16:40:00                            & 娛樂                                           &  23314                                        \\\\\n",
       "\\end{tabular}\n"
      ],
      "text/markdown": [
       "\n",
       "title | dt | category | clicked | \n",
       "|---|---|---|---|---|---|---|---|---|---|---|---|---|---|---|---|---|---|---|---|---|---|---|---|---|---|---|---|---|---|---|---|---|---|---|---|---|---|---|---|---|---|---|---|---|---|---|---|---|---|---|---|---|---|---|---|---|---|---|---|---|\n",
       "| 【唱新聞】詐騙嗎？R.O.C.有CHINA但不是CHINA         | 2016-04-15 14:00:00                                | 娛樂                                               |  11696                                             | \n",
       "| 徐佳瑩開唱前驚傳失聲　急診照曝光                   | 2016-04-15 13:08:00                                | 娛樂                                               |  11588                                             | \n",
       "| 【更新】《太陽》完美結局　沉船灣之吻收視最熱       | 2016-04-15 12:29:00                                | 娛樂                                               |  27010                                             | \n",
       "| 宋慧喬愛國拒代言　台大教授批韓軍「應被唾棄」       | 2016-04-15 11:52:00                                | 娛樂                                               |  10455                                             | \n",
       "| 【請回答】六月李易對質實況　出軌X次說清楚！        | 2016-04-15 11:40:00                                | 娛樂                                               |  88386                                             | \n",
       "| 劉愷威被問楊冪超囧　擠不出上次何時見               | 2016-04-15 10:30:00                                | 娛樂                                               |  10478                                             | \n",
       "| 1小時燒5萬！宋仲基白斬雞變筋肉男                   | 2016-04-15 10:04:00                                | 娛樂                                               |  13351                                             | \n",
       "| 超級Kobe粉是她！　女神奔球場又哭又尖叫             | 2016-04-15 07:08:00                                | 娛樂                                               |  12420                                             | \n",
       "| 炫咘咘藏梧桐妹　賈靜雯自曝「不愛」原因             | 2016-04-15 06:56:00                                | 娛樂                                               |  80200                                             | \n",
       "| 連勝文被瞎報特權搭機喊告　三立：已更新             | 2016-04-15 01:10:00                                | 娛樂                                               |  19030                                             | \n",
       "| 斯文男星爭收視寶座　戲拍一半急送醫                 | 2016-04-15 00:51:00                                | 娛樂                                               |  19625                                             | \n",
       "| 女主播爆料　全電視台等宋仲基不肯下班               | 2016-04-15 00:38:00                                | 娛樂                                               |  18220                                             | \n",
       "| Miss Ko不當饒舌鄧麗君　變身環球小姐                | 2016-04-14 23:00:00                                | 娛樂                                               |  12046                                             | \n",
       "| 【有片】《太陽的後裔》喜劇收尾　雙宋激吻甜爆       | 2016-04-14 22:37:00                                | 娛樂                                               | 126774                                             | \n",
       "| 宋茜楊洋熱戀被抓包？SM公司拒認                     | 2016-04-14 22:20:00                                | 娛樂                                               |  13761                                             | \n",
       "| 【奶姬妹】八兩金有女兒？媽呀有夠像                 | 2016-04-14 20:30:00                                | 娛樂                                               |  27440                                             | \n",
       "| 溫流談《太陽的後裔》「會記得很久」                 | 2016-04-14 20:18:00                                | 娛樂                                               |  20450                                             | \n",
       "| 歐陽妮妮穿裙大開腿　霸氣釣男人                     | 2016-04-14 20:04:00                                | 娛樂                                               |  22129                                             | \n",
       "| 音樂人不好當！劉喬安撐明星夢先開按摩坊             | 2016-04-14 20:00:00                                | 娛樂                                               |  14398                                             | \n",
       "| 【有片】嫁豪門首現身奉送美背　楊千霈「緣份擋不住」 | 2016-04-14 19:56:00                                | 娛樂                                               |  24017                                             | \n",
       "| 今晚迎接完結篇！回味《太陽》10大浪漫鏡頭           | 2016-04-14 18:56:00                                | 娛樂                                               |  22946                                             | \n",
       "| 咘咘出道梧桐妹不給看　賈靜雯解釋差別待遇因為～～   | 2016-04-14 18:28:00                                | 娛樂                                               | 131942                                             | \n",
       "| 【更新】60歲寶媽的第一次　累到沒辦法洗澡           | 2016-04-14 18:16:00                                | 娛樂                                               |  76064                                             | \n",
       "| 炎亞綸秀合照致敬Kobe「我還是哭了」                 | 2016-04-14 18:11:00                                | 娛樂                                               |  20399                                             | \n",
       "| 【有片】孫德榮公司傳承小刀　隔空虧羅志祥           | 2016-04-14 17:38:00                                | 娛樂                                               |  26036                                             | \n",
       "| 【有片】《太陽》喬妹哭技爆發　最高收視竟不是她     | 2016-04-14 17:00:00                                | 娛樂                                               |  31727                                             | \n",
       "| 雷神超賢慧　半夜為愛女煮消夜                       | 2016-04-14 16:45:00                                | 娛樂                                               |  16175                                             | \n",
       "| 最夯男神換人！宋仲基搶金秀賢代言                   | 2016-04-14 16:30:00                                | 娛樂                                               |  16676                                             | \n",
       "| 徐若瑄紅眼班太操　抱Q兒取暖                        | 2016-04-14 16:00:00                                | 娛樂                                               |  15089                                             | \n",
       "| 隋棠環保媽媽　紙巾重複用                           | 2016-04-14 15:40:00                                | 娛樂                                               |  11339                                             | \n",
       "| ⋮ | ⋮ | ⋮ | ⋮ | \n",
       "| 有內情？辣模女友控MP廷廷　「對我做可怕的事」   | 2016-04-14 08:23:00                            | 娛樂                                           | 239697                                         | \n",
       "| 主播夏嘉璐惹到誰？　被爆料4大缺失              | 2016-04-14 07:21:00                            | 娛樂                                           |  37152                                         | \n",
       "| 宋仲基《太陽》衝擊金秀賢障礙　激搶收視王       | 2016-04-14 02:36:00                            | 娛樂                                           |  25732                                         | \n",
       "| 力宏辦生日趴送驚喜　老婆正面孕肚見光           | 2016-04-14 02:15:00                            | 娛樂                                           |  27671                                         | \n",
       "| 陳柏霖韓劇好威　一露臉收視立漲                 | 2016-04-14 00:38:00                            | 娛樂                                           |  35597                                         | \n",
       "| 蟻人看到美國隊長變小粉絲　摸肌塊驚呼「老天！」 | 2016-04-14 00:24:00                            | 娛樂                                           |  10499                                         | \n",
       "| 【狗仔偷拍】好大的派頭　李㼈違停霸氣外露       | 2016-04-14 00:05:00                            | 娛樂                                           | 265355                                         | \n",
       "| 【爆雷15】宋仲基《太陽》陣亡　虐翻喬妹神轉折   | 2016-04-14 00:02:00                            | 娛樂                                           |  38814                                         | \n",
       "| 李千娜認了喇舌　談曖昧對象「我們很好」         | 2016-04-13 23:30:00                            | 娛樂                                           |  31534                                         | \n",
       "| T台記者赴馬丘比丘　受不了高山症                | 2016-04-13 23:00:00                            | 娛樂                                           |  12714                                         | \n",
       "| 劉容嘉挑戰跳56樓　挑釁攝影師                   | 2016-04-13 22:32:00                            | 娛樂                                           |  12405                                         | \n",
       "| 浩子挖掘黑暗面　想到小孩老婆崩潰痛哭           | 2016-04-13 22:28:00                            | 娛樂                                           |  29726                                         | \n",
       "| 柯佳嬿戲如人生　總是當女主角的運               | 2016-04-13 22:15:00                            | 娛樂                                           |  17492                                         | \n",
       "| 少女童星萌笑開球　姿勢錯誤小落漆               | 2016-04-13 22:00:00                            | 娛樂                                           |  15701                                         | \n",
       "| 【這不是新聞】水杯出現這個　客人全嚇傻了       | 2016-04-13 21:55:00                            | 娛樂                                           |  49616                                         | \n",
       "| 男星扮皇帝腿軟　自認不是那塊料                 | 2016-04-13 21:30:00                            | 娛樂                                           |  14995                                         | \n",
       "| 米可白被婆婆趕出家　哭到眼歪嘴斜               | 2016-04-13 21:15:00                            | 娛樂                                           |  54272                                         | \n",
       "| 林志穎萌照出土　潮襪暴露身份                   | 2016-04-13 21:05:00                            | 娛樂                                           |  71338                                         | \n",
       "| 陳志朋淚崩談整容　隱瞞炸傷原因有洋蔥           | 2016-04-13 20:55:00                            | 娛樂                                           |  34500                                         | \n",
       "| 孫儷雲端抓猴　鄧超的「小三」長這樣             | 2016-04-13 20:27:00                            | 娛樂                                           |  12636                                         | \n",
       "| 33E瑤瑤偷穿32C張景嵐原味衣...差點撐爆          | 2016-04-13 20:00:00                            | 娛樂                                           |  94302                                         | \n",
       "| 麻衣1歲兒神力扛麻糬　台塑第4代抓周拿算盤       | 2016-04-13 19:03:00                            | 娛樂                                           |  70169                                         | \n",
       "| 【更新】MP​廷廷有新歡！李優爆「對我做可怕的事」 | 2016-04-13 18:46:00                            | 娛樂                                           |  40764                                         | \n",
       "| 《太陽》編劇金恩淑洩密　結局非爛尾             | 2016-04-13 18:40:00                            | 娛樂                                           |  19267                                         | \n",
       "| 【更新】AKB美胸女王駕到！小嶋陽菜貴氣抵台      | 2016-04-13 18:10:00                            | 娛樂                                           |  17874                                         | \n",
       "| 【更新】許維恩剛認愛就變心　甜喊「憲哥我愛你」 | 2016-04-13 17:56:00                            | 娛樂                                           |  42048                                         | \n",
       "| 章子怡加入炫娃族　連發醒醒萌Q變身照            | 2016-04-13 17:30:00                            | 娛樂                                           |  18752                                         | \n",
       "| 本土劇女神整形前照出土？！黑皮塌鼻引戰火       | 2016-04-13 17:08:00                            | 娛樂                                           | 299235                                         | \n",
       "| 劉真女兒雙滿月　辛龍送糕「最幸福的事」         | 2016-04-13 16:52:00                            | 娛樂                                           |  32363                                         | \n",
       "| 等著見小豬？！周揚青出沒台北信義區             | 2016-04-13 16:40:00                            | 娛樂                                           |  23314                                         | \n",
       "\n",
       "\n"
      ],
      "text/plain": [
       "   title                                              dt                 \n",
       "1  【唱新聞】詐騙嗎？R.O.C.有CHINA但不是CHINA         2016-04-15 14:00:00\n",
       "2  徐佳瑩開唱前驚傳失聲　急診照曝光                   2016-04-15 13:08:00\n",
       "3  【更新】《太陽》完美結局　沉船灣之吻收視最熱       2016-04-15 12:29:00\n",
       "4  宋慧喬愛國拒代言　台大教授批韓軍「應被唾棄」       2016-04-15 11:52:00\n",
       "5  【請回答】六月李易對質實況　出軌X次說清楚！        2016-04-15 11:40:00\n",
       "6  劉愷威被問楊冪超囧　擠不出上次何時見               2016-04-15 10:30:00\n",
       "7  1小時燒5萬！宋仲基白斬雞變筋肉男                   2016-04-15 10:04:00\n",
       "8  超級Kobe粉是她！　女神奔球場又哭又尖叫             2016-04-15 07:08:00\n",
       "9  炫咘咘藏梧桐妹　賈靜雯自曝「不愛」原因             2016-04-15 06:56:00\n",
       "10 連勝文被瞎報特權搭機喊告　三立：已更新             2016-04-15 01:10:00\n",
       "11 斯文男星爭收視寶座　戲拍一半急送醫                 2016-04-15 00:51:00\n",
       "12 女主播爆料　全電視台等宋仲基不肯下班               2016-04-15 00:38:00\n",
       "13 Miss Ko不當饒舌鄧麗君　變身環球小姐                2016-04-14 23:00:00\n",
       "14 【有片】《太陽的後裔》喜劇收尾　雙宋激吻甜爆       2016-04-14 22:37:00\n",
       "15 宋茜楊洋熱戀被抓包？SM公司拒認                     2016-04-14 22:20:00\n",
       "16 【奶姬妹】八兩金有女兒？媽呀有夠像                 2016-04-14 20:30:00\n",
       "17 溫流談《太陽的後裔》「會記得很久」                 2016-04-14 20:18:00\n",
       "18 歐陽妮妮穿裙大開腿　霸氣釣男人                     2016-04-14 20:04:00\n",
       "19 音樂人不好當！劉喬安撐明星夢先開按摩坊             2016-04-14 20:00:00\n",
       "20 【有片】嫁豪門首現身奉送美背　楊千霈「緣份擋不住」 2016-04-14 19:56:00\n",
       "21 今晚迎接完結篇！回味《太陽》10大浪漫鏡頭           2016-04-14 18:56:00\n",
       "22 咘咘出道梧桐妹不給看　賈靜雯解釋差別待遇因為～～   2016-04-14 18:28:00\n",
       "23 【更新】60歲寶媽的第一次　累到沒辦法洗澡           2016-04-14 18:16:00\n",
       "24 炎亞綸秀合照致敬Kobe「我還是哭了」                 2016-04-14 18:11:00\n",
       "25 【有片】孫德榮公司傳承小刀　隔空虧羅志祥           2016-04-14 17:38:00\n",
       "26 【有片】《太陽》喬妹哭技爆發　最高收視竟不是她     2016-04-14 17:00:00\n",
       "27 雷神超賢慧　半夜為愛女煮消夜                       2016-04-14 16:45:00\n",
       "28 最夯男神換人！宋仲基搶金秀賢代言                   2016-04-14 16:30:00\n",
       "29 徐若瑄紅眼班太操　抱Q兒取暖                        2016-04-14 16:00:00\n",
       "30 隋棠環保媽媽　紙巾重複用                           2016-04-14 15:40:00\n",
       "⋮  ⋮                                                  ⋮                  \n",
       "48 有內情？辣模女友控MP廷廷　「對我做可怕的事」       2016-04-14 08:23:00\n",
       "49 主播夏嘉璐惹到誰？　被爆料4大缺失                  2016-04-14 07:21:00\n",
       "50 宋仲基《太陽》衝擊金秀賢障礙　激搶收視王           2016-04-14 02:36:00\n",
       "51 力宏辦生日趴送驚喜　老婆正面孕肚見光               2016-04-14 02:15:00\n",
       "52 陳柏霖韓劇好威　一露臉收視立漲                     2016-04-14 00:38:00\n",
       "53 蟻人看到美國隊長變小粉絲　摸肌塊驚呼「老天！」     2016-04-14 00:24:00\n",
       "54 【狗仔偷拍】好大的派頭　李㼈違停霸氣外露           2016-04-14 00:05:00\n",
       "55 【爆雷15】宋仲基《太陽》陣亡　虐翻喬妹神轉折       2016-04-14 00:02:00\n",
       "56 李千娜認了喇舌　談曖昧對象「我們很好」             2016-04-13 23:30:00\n",
       "57 T台記者赴馬丘比丘　受不了高山症                    2016-04-13 23:00:00\n",
       "58 劉容嘉挑戰跳56樓　挑釁攝影師                       2016-04-13 22:32:00\n",
       "59 浩子挖掘黑暗面　想到小孩老婆崩潰痛哭               2016-04-13 22:28:00\n",
       "60 柯佳嬿戲如人生　總是當女主角的運                   2016-04-13 22:15:00\n",
       "61 少女童星萌笑開球　姿勢錯誤小落漆                   2016-04-13 22:00:00\n",
       "62 【這不是新聞】水杯出現這個　客人全嚇傻了           2016-04-13 21:55:00\n",
       "63 男星扮皇帝腿軟　自認不是那塊料                     2016-04-13 21:30:00\n",
       "64 米可白被婆婆趕出家　哭到眼歪嘴斜                   2016-04-13 21:15:00\n",
       "65 林志穎萌照出土　潮襪暴露身份                       2016-04-13 21:05:00\n",
       "66 陳志朋淚崩談整容　隱瞞炸傷原因有洋蔥               2016-04-13 20:55:00\n",
       "67 孫儷雲端抓猴　鄧超的「小三」長這樣                 2016-04-13 20:27:00\n",
       "68 33E瑤瑤偷穿32C張景嵐原味衣...差點撐爆              2016-04-13 20:00:00\n",
       "69 麻衣1歲兒神力扛麻糬　台塑第4代抓周拿算盤           2016-04-13 19:03:00\n",
       "70 【更新】MP​廷廷有新歡！李優爆「對我做可怕的事」     2016-04-13 18:46:00\n",
       "71 《太陽》編劇金恩淑洩密　結局非爛尾                 2016-04-13 18:40:00\n",
       "72 【更新】AKB美胸女王駕到！小嶋陽菜貴氣抵台          2016-04-13 18:10:00\n",
       "73 【更新】許維恩剛認愛就變心　甜喊「憲哥我愛你」     2016-04-13 17:56:00\n",
       "74 章子怡加入炫娃族　連發醒醒萌Q變身照                2016-04-13 17:30:00\n",
       "75 本土劇女神整形前照出土？！黑皮塌鼻引戰火           2016-04-13 17:08:00\n",
       "76 劉真女兒雙滿月　辛龍送糕「最幸福的事」             2016-04-13 16:52:00\n",
       "77 等著見小豬？！周揚青出沒台北信義區                 2016-04-13 16:40:00\n",
       "   category clicked\n",
       "1  娛樂      11696 \n",
       "2  娛樂      11588 \n",
       "3  娛樂      27010 \n",
       "4  娛樂      10455 \n",
       "5  娛樂      88386 \n",
       "6  娛樂      10478 \n",
       "7  娛樂      13351 \n",
       "8  娛樂      12420 \n",
       "9  娛樂      80200 \n",
       "10 娛樂      19030 \n",
       "11 娛樂      19625 \n",
       "12 娛樂      18220 \n",
       "13 娛樂      12046 \n",
       "14 娛樂     126774 \n",
       "15 娛樂      13761 \n",
       "16 娛樂      27440 \n",
       "17 娛樂      20450 \n",
       "18 娛樂      22129 \n",
       "19 娛樂      14398 \n",
       "20 娛樂      24017 \n",
       "21 娛樂      22946 \n",
       "22 娛樂     131942 \n",
       "23 娛樂      76064 \n",
       "24 娛樂      20399 \n",
       "25 娛樂      26036 \n",
       "26 娛樂      31727 \n",
       "27 娛樂      16175 \n",
       "28 娛樂      16676 \n",
       "29 娛樂      15089 \n",
       "30 娛樂      11339 \n",
       "⋮  ⋮        ⋮      \n",
       "48 娛樂     239697 \n",
       "49 娛樂      37152 \n",
       "50 娛樂      25732 \n",
       "51 娛樂      27671 \n",
       "52 娛樂      35597 \n",
       "53 娛樂      10499 \n",
       "54 娛樂     265355 \n",
       "55 娛樂      38814 \n",
       "56 娛樂      31534 \n",
       "57 娛樂      12714 \n",
       "58 娛樂      12405 \n",
       "59 娛樂      29726 \n",
       "60 娛樂      17492 \n",
       "61 娛樂      15701 \n",
       "62 娛樂      49616 \n",
       "63 娛樂      14995 \n",
       "64 娛樂      54272 \n",
       "65 娛樂      71338 \n",
       "66 娛樂      34500 \n",
       "67 娛樂      12636 \n",
       "68 娛樂      94302 \n",
       "69 娛樂      70169 \n",
       "70 娛樂      40764 \n",
       "71 娛樂      19267 \n",
       "72 娛樂      17874 \n",
       "73 娛樂      42048 \n",
       "74 娛樂      18752 \n",
       "75 娛樂     299235 \n",
       "76 娛樂      32363 \n",
       "77 娛樂      23314 "
      ]
     },
     "metadata": {},
     "output_type": "display_data"
    }
   ],
   "source": [
    "filter(applenews,category == '娛樂' & clicked > 10000)"
   ]
  },
  {
   "cell_type": "code",
   "execution_count": 227,
   "metadata": {},
   "outputs": [
    {
     "data": {
      "text/html": [
       "<table>\n",
       "<thead><tr><th scope=col>title</th><th scope=col>dt</th><th scope=col>category</th><th scope=col>clicked</th></tr></thead>\n",
       "<tbody>\n",
       "\t<tr><td>【更新】搶2.2萬彩券刮中1.4萬　沒發財還得入獄      </td><td>2016-04-15 14:32:00                               </td><td>社會                                              </td><td> 1754                                             </td></tr>\n",
       "\t<tr><td>同居人女兒熟睡　淫男伸狼爪                        </td><td>2016-04-15 14:22:00                               </td><td>社會                                              </td><td> 1076                                             </td></tr>\n",
       "\t<tr><td>澎恰恰收女弟子　拱當台灣第一名伶                  </td><td>2016-04-15 14:17:00                               </td><td>娛樂                                              </td><td> 1749                                             </td></tr>\n",
       "\t<tr><td>【驚險有片】BMW撞翻撞公車　後方機車神穿越         </td><td>2016-04-15 14:12:00                               </td><td>社會                                              </td><td>11886                                             </td></tr>\n",
       "\t<tr><td>【唱新聞】詐騙嗎？R.O.C.有CHINA但不是CHINA        </td><td>2016-04-15 14:00:00                               </td><td>娛樂                                              </td><td>11696                                             </td></tr>\n",
       "\t<tr><td>九巡翁霸坐展售車？　原因好心酸                    </td><td>2016-04-15 13:52:00                               </td><td>社會                                              </td><td> 4582                                             </td></tr>\n",
       "\t<tr><td>白曉燕命案19年了　白冰冰「不能忘」                </td><td>2016-04-15 13:49:00                               </td><td>娛樂                                              </td><td> 3329                                             </td></tr>\n",
       "\t<tr><td>催討債務釀衝突　要小弟持槍討債先被抓              </td><td>2016-04-15 13:47:00                               </td><td>社會                                              </td><td> 1154                                             </td></tr>\n",
       "\t<tr><td>男翻拍女友手機對話　PO爆料公社控劈腿              </td><td>2016-04-15 13:45:00                               </td><td>社會                                              </td><td> 4322                                             </td></tr>\n",
       "\t<tr><td>好萊塢男神好威　女友再當高齡產婦                  </td><td>2016-04-15 13:40:00                               </td><td>娛樂                                              </td><td> 4307                                             </td></tr>\n",
       "\t<tr><td>隋棠帶兒遠征南台灣　吃成膨皮母子檔                </td><td>2016-04-15 13:30:00                               </td><td>娛樂                                              </td><td> 4651                                             </td></tr>\n",
       "\t<tr><td>伊勢谷友介掰了長澤雅美　半同居小16歲辣模          </td><td>2016-04-15 13:23:00                               </td><td>娛樂                                              </td><td> 5141                                             </td></tr>\n",
       "\t<tr><td>徐佳瑩開唱前驚傳失聲　急診照曝光                  </td><td>2016-04-15 13:08:00                               </td><td>娛樂                                              </td><td>11588                                             </td></tr>\n",
       "\t<tr><td>製酒廢液毒害桃園福興溪　2惡老闆起訴               </td><td>2016-04-15 13:07:00                               </td><td>社會                                              </td><td> 1989                                             </td></tr>\n",
       "\t<tr><td>中研院化學所實驗室起火　緊急撲滅無人傷亡          </td><td>2016-04-15 13:06:00                               </td><td>社會                                              </td><td> 1147                                             </td></tr>\n",
       "\t<tr><td>不滿人妻被劈腿　她竟上網揭友人姦情                </td><td>2016-04-15 13:02:00                               </td><td>社會                                              </td><td>15328                                             </td></tr>\n",
       "\t<tr><td>死侍續攤雙喜　花邊教主又有了！                    </td><td>2016-04-15 13:00:00                               </td><td>娛樂                                              </td><td> 5209                                             </td></tr>\n",
       "\t<tr><td>馬國50台人將遣中　我代表處動員馬國高層友人協助    </td><td>2016-04-15 12:52:00                               </td><td>社會                                              </td><td> 4432                                             </td></tr>\n",
       "\t<tr><td>台電維修變電箱　受百用戶臨時停電                  </td><td>2016-04-15 12:41:00                               </td><td>社會                                              </td><td> 1011                                             </td></tr>\n",
       "\t<tr><td>【暗黑城市】酒駕男廁所裝屎尿　醫院保全暴衝怒槓記者</td><td>2016-04-15 12:38:00                               </td><td>社會                                              </td><td> 8186                                             </td></tr>\n",
       "\t<tr><td>【更新】甲仙國小拔河隊疑食物中毒　14生送醫        </td><td>2016-04-15 12:34:00                               </td><td>社會                                              </td><td> 3747                                             </td></tr>\n",
       "\t<tr><td>愛滋男師上網約炮　嘿咻百男遭判13年                </td><td>2016-04-15 12:33:00                               </td><td>社會                                              </td><td>14450                                             </td></tr>\n",
       "\t<tr><td>【更新】《太陽》完美結局　沉船灣之吻收視最熱      </td><td>2016-04-15 12:29:00                               </td><td>娛樂                                              </td><td>27010                                             </td></tr>\n",
       "\t<tr><td>5月大女嬰疑嗆奶　母急奔診所求助                   </td><td>2016-04-15 12:26:00                               </td><td>社會                                              </td><td> 3263                                             </td></tr>\n",
       "\t<tr><td>疑濕滑自摔　保全倒臥社區流血不治                  </td><td>2016-04-15 12:09:00                               </td><td>社會                                              </td><td> 4273                                             </td></tr>\n",
       "\t<tr><td>小三通走私32顆蛋　查獲時雛鳥孵化了！              </td><td>2016-04-15 12:08:00                               </td><td>社會                                              </td><td> 8332                                             </td></tr>\n",
       "\t<tr><td>救命錢都A！惡公僕污30萬救濟金　還推責給共犯       </td><td>2016-04-15 12:05:00                               </td><td>社會                                              </td><td> 2957                                             </td></tr>\n",
       "\t<tr><td>【更新】搶在翁啟惠返台前　檢調搜索浩鼎等7處　     </td><td>2016-04-15 11:59:00                               </td><td>社會                                              </td><td>17249                                             </td></tr>\n",
       "\t<tr><td>兒拿舊作業改日期矇混　父暴怒猛甩耳光              </td><td>2016-04-15 11:53:00                               </td><td>社會                                              </td><td> 2518                                             </td></tr>\n",
       "\t<tr><td>宋慧喬愛國拒代言　台大教授批韓軍「應被唾棄」      </td><td>2016-04-15 11:52:00                               </td><td>娛樂                                              </td><td>10455                                             </td></tr>\n",
       "\t<tr><td>⋮</td><td>⋮</td><td>⋮</td><td>⋮</td></tr>\n",
       "\t<tr><td>長得不像？　男驗DNA才知2女兒都非親骨肉                </td><td>2016-04-13 19:03:00                                   </td><td>社會                                                  </td><td>214796                                                </td></tr>\n",
       "\t<tr><td>麻衣1歲兒神力扛麻糬　台塑第4代抓周拿算盤              </td><td>2016-04-13 19:03:00                                   </td><td>娛樂                                                  </td><td> 70169                                                </td></tr>\n",
       "\t<tr><td>【獨家】晶華酒店有內賊　竟A走客人存酒                 </td><td>2016-04-13 18:56:00                                   </td><td>社會                                                  </td><td> 59229                                                </td></tr>\n",
       "\t<tr><td>【肯亞案】被中國帶走的台人　有2人是通緝犯             </td><td>2016-04-13 18:47:00                                   </td><td>社會                                                  </td><td> 18045                                                </td></tr>\n",
       "\t<tr><td>【更新】MP​廷廷有新歡！李優爆「對我做可怕的事」        </td><td>2016-04-13 18:46:00                                   </td><td>娛樂                                                  </td><td> 40764                                                </td></tr>\n",
       "\t<tr><td>《太陽》編劇金恩淑洩密　結局非爛尾                    </td><td>2016-04-13 18:40:00                                   </td><td>娛樂                                                  </td><td> 19267                                                </td></tr>\n",
       "\t<tr><td>【有片】福爾摩斯轉職奇異博士　竟被女光頭打出魂魄      </td><td>2016-04-13 18:38:00                                   </td><td>娛樂                                                  </td><td>  9860                                                </td></tr>\n",
       "\t<tr><td>【更新】AKB美胸女王駕到！小嶋陽菜貴氣抵台             </td><td>2016-04-13 18:10:00                                   </td><td>娛樂                                                  </td><td> 17874                                                </td></tr>\n",
       "\t<tr><td>【更新】被同學硬戴小戒指　國二女生痛整晚              </td><td>2016-04-13 18:10:00                                   </td><td>社會                                                  </td><td> 19741                                                </td></tr>\n",
       "\t<tr><td>【肯亞案】組團赴中　羅瑩雪：本來今天要出發            </td><td>2016-04-13 18:10:00                                   </td><td>社會                                                  </td><td> 47145                                                </td></tr>\n",
       "\t<tr><td>【肯亞案】組團赴中　羅瑩雪：本來今天要出發            </td><td>2016-04-13 18:10:00                                   </td><td>社會                                                  </td><td> 47145                                                </td></tr>\n",
       "\t<tr><td>葉毓蘭再嗆肯亞詐騙疑犯　要媒體將心比心                </td><td>2016-04-13 18:03:00                                   </td><td>社會                                                  </td><td> 31267                                                </td></tr>\n",
       "\t<tr><td>【更新】許維恩剛認愛就變心　甜喊「憲哥我愛你」        </td><td>2016-04-13 17:56:00                                   </td><td>娛樂                                                  </td><td> 42048                                                </td></tr>\n",
       "\t<tr><td>北市工務局技工好大膽　竟收賄喝花酒驗收放水            </td><td>2016-04-13 17:32:00                                   </td><td>社會                                                  </td><td>  9292                                                </td></tr>\n",
       "\t<tr><td>章子怡加入炫娃族　連發醒醒萌Q變身照                   </td><td>2016-04-13 17:30:00                                   </td><td>娛樂                                                  </td><td> 18752                                                </td></tr>\n",
       "\t<tr><td>【民報】一生難忘媽媽的話！86獨居老翁臨終囑捐財產三金條</td><td>2016-04-13 17:30:00                                   </td><td>社會                                                  </td><td> 12091                                                </td></tr>\n",
       "\t<tr><td>「下降頭能挽回婚姻」　女控遭騙63萬元                  </td><td>2016-04-13 17:12:00                                   </td><td>社會                                                  </td><td>  4600                                                </td></tr>\n",
       "\t<tr><td>假晶華董事詐騙7億　只還100萬的下場是...               </td><td>2016-04-13 17:11:00                                   </td><td>社會                                                  </td><td>  9284                                                </td></tr>\n",
       "\t<tr><td>本土劇女神整形前照出土？！黑皮塌鼻引戰火              </td><td>2016-04-13 17:08:00                                   </td><td>娛樂                                                  </td><td>299235                                                </td></tr>\n",
       "\t<tr><td>四面佛前跳艷舞　廟方「應是信徒花錢請的」              </td><td>2016-04-13 17:05:00                                   </td><td>社會                                                  </td><td> 17937                                                </td></tr>\n",
       "\t<tr><td>落單女沒先上鎖車門　遭惡男劫財劫色                    </td><td>2016-04-13 17:03:00                                   </td><td>社會                                                  </td><td> 18176                                                </td></tr>\n",
       "\t<tr><td>【影片】醫院外揮刀咆哮　警方衝上前一棒打掉            </td><td>2016-04-13 16:55:00                                   </td><td>社會                                                  </td><td>  5940                                                </td></tr>\n",
       "\t<tr><td>劉真女兒雙滿月　辛龍送糕「最幸福的事」                </td><td>2016-04-13 16:52:00                                   </td><td>娛樂                                                  </td><td> 32363                                                </td></tr>\n",
       "\t<tr><td>等著見小豬？！周揚青出沒台北信義區                    </td><td>2016-04-13 16:40:00                                   </td><td>娛樂                                                  </td><td> 23314                                                </td></tr>\n",
       "\t<tr><td>360度搶拍法拉利　警：開違規罰300元                    </td><td>2016-04-13 16:35:00                                   </td><td>社會                                                  </td><td>  7124                                                </td></tr>\n",
       "\t<tr><td>學蜘蛛人垂降進屋　糗懸3樓高半空                       </td><td>2016-04-13 16:35:00                                   </td><td>社會                                                  </td><td>  1562                                                </td></tr>\n",
       "\t<tr><td>警政署前署長顏世錫腦出血　昏迷送萬芳醫院治療          </td><td>2016-04-13 16:35:00                                   </td><td>社會                                                  </td><td> 15959                                                </td></tr>\n",
       "\t<tr><td>【更新】罵記者「神經病」被訴　連惠心賠50萬換和解      </td><td>2016-04-13 16:32:00                                   </td><td>社會                                                  </td><td>  6084                                                </td></tr>\n",
       "\t<tr><td>歪國老闆拉鐵門性侵女客　因這事判免驅離                </td><td>2016-04-13 16:23:00                                   </td><td>社會                                                  </td><td>  9305                                                </td></tr>\n",
       "\t<tr><td>美魔安糾紛被控妨害名譽　前主播妻不起訴                </td><td>2016-04-13 16:20:00                                   </td><td>社會                                                  </td><td>  8163                                                </td></tr>\n",
       "</tbody>\n",
       "</table>\n"
      ],
      "text/latex": [
       "\\begin{tabular}{r|llll}\n",
       " title & dt & category & clicked\\\\\n",
       "\\hline\n",
       "\t 【更新】搶2.2萬彩券刮中1.4萬　沒發財還得入獄       & 2016-04-15 14:32:00                                & 社會                                               &  1754                                             \\\\\n",
       "\t 同居人女兒熟睡　淫男伸狼爪                         & 2016-04-15 14:22:00                                & 社會                                               &  1076                                             \\\\\n",
       "\t 澎恰恰收女弟子　拱當台灣第一名伶                   & 2016-04-15 14:17:00                                & 娛樂                                               &  1749                                             \\\\\n",
       "\t 【驚險有片】BMW撞翻撞公車　後方機車神穿越          & 2016-04-15 14:12:00                                & 社會                                               & 11886                                             \\\\\n",
       "\t 【唱新聞】詐騙嗎？R.O.C.有CHINA但不是CHINA         & 2016-04-15 14:00:00                                & 娛樂                                               & 11696                                             \\\\\n",
       "\t 九巡翁霸坐展售車？　原因好心酸                     & 2016-04-15 13:52:00                                & 社會                                               &  4582                                             \\\\\n",
       "\t 白曉燕命案19年了　白冰冰「不能忘」                 & 2016-04-15 13:49:00                                & 娛樂                                               &  3329                                             \\\\\n",
       "\t 催討債務釀衝突　要小弟持槍討債先被抓               & 2016-04-15 13:47:00                                & 社會                                               &  1154                                             \\\\\n",
       "\t 男翻拍女友手機對話　PO爆料公社控劈腿               & 2016-04-15 13:45:00                                & 社會                                               &  4322                                             \\\\\n",
       "\t 好萊塢男神好威　女友再當高齡產婦                   & 2016-04-15 13:40:00                                & 娛樂                                               &  4307                                             \\\\\n",
       "\t 隋棠帶兒遠征南台灣　吃成膨皮母子檔                 & 2016-04-15 13:30:00                                & 娛樂                                               &  4651                                             \\\\\n",
       "\t 伊勢谷友介掰了長澤雅美　半同居小16歲辣模           & 2016-04-15 13:23:00                                & 娛樂                                               &  5141                                             \\\\\n",
       "\t 徐佳瑩開唱前驚傳失聲　急診照曝光                   & 2016-04-15 13:08:00                                & 娛樂                                               & 11588                                             \\\\\n",
       "\t 製酒廢液毒害桃園福興溪　2惡老闆起訴                & 2016-04-15 13:07:00                                & 社會                                               &  1989                                             \\\\\n",
       "\t 中研院化學所實驗室起火　緊急撲滅無人傷亡           & 2016-04-15 13:06:00                                & 社會                                               &  1147                                             \\\\\n",
       "\t 不滿人妻被劈腿　她竟上網揭友人姦情                 & 2016-04-15 13:02:00                                & 社會                                               & 15328                                             \\\\\n",
       "\t 死侍續攤雙喜　花邊教主又有了！                     & 2016-04-15 13:00:00                                & 娛樂                                               &  5209                                             \\\\\n",
       "\t 馬國50台人將遣中　我代表處動員馬國高層友人協助     & 2016-04-15 12:52:00                                & 社會                                               &  4432                                             \\\\\n",
       "\t 台電維修變電箱　受百用戶臨時停電                   & 2016-04-15 12:41:00                                & 社會                                               &  1011                                             \\\\\n",
       "\t 【暗黑城市】酒駕男廁所裝屎尿　醫院保全暴衝怒槓記者 & 2016-04-15 12:38:00                                & 社會                                               &  8186                                             \\\\\n",
       "\t 【更新】甲仙國小拔河隊疑食物中毒　14生送醫         & 2016-04-15 12:34:00                                & 社會                                               &  3747                                             \\\\\n",
       "\t 愛滋男師上網約炮　嘿咻百男遭判13年                 & 2016-04-15 12:33:00                                & 社會                                               & 14450                                             \\\\\n",
       "\t 【更新】《太陽》完美結局　沉船灣之吻收視最熱       & 2016-04-15 12:29:00                                & 娛樂                                               & 27010                                             \\\\\n",
       "\t 5月大女嬰疑嗆奶　母急奔診所求助                    & 2016-04-15 12:26:00                                & 社會                                               &  3263                                             \\\\\n",
       "\t 疑濕滑自摔　保全倒臥社區流血不治                   & 2016-04-15 12:09:00                                & 社會                                               &  4273                                             \\\\\n",
       "\t 小三通走私32顆蛋　查獲時雛鳥孵化了！               & 2016-04-15 12:08:00                                & 社會                                               &  8332                                             \\\\\n",
       "\t 救命錢都A！惡公僕污30萬救濟金　還推責給共犯        & 2016-04-15 12:05:00                                & 社會                                               &  2957                                             \\\\\n",
       "\t 【更新】搶在翁啟惠返台前　檢調搜索浩鼎等7處　      & 2016-04-15 11:59:00                                & 社會                                               & 17249                                             \\\\\n",
       "\t 兒拿舊作業改日期矇混　父暴怒猛甩耳光               & 2016-04-15 11:53:00                                & 社會                                               &  2518                                             \\\\\n",
       "\t 宋慧喬愛國拒代言　台大教授批韓軍「應被唾棄」       & 2016-04-15 11:52:00                                & 娛樂                                               & 10455                                             \\\\\n",
       "\t ⋮ & ⋮ & ⋮ & ⋮\\\\\n",
       "\t 長得不像？　男驗DNA才知2女兒都非親骨肉                 & 2016-04-13 19:03:00                                    & 社會                                                   & 214796                                                \\\\\n",
       "\t 麻衣1歲兒神力扛麻糬　台塑第4代抓周拿算盤               & 2016-04-13 19:03:00                                    & 娛樂                                                   &  70169                                                \\\\\n",
       "\t 【獨家】晶華酒店有內賊　竟A走客人存酒                  & 2016-04-13 18:56:00                                    & 社會                                                   &  59229                                                \\\\\n",
       "\t 【肯亞案】被中國帶走的台人　有2人是通緝犯              & 2016-04-13 18:47:00                                    & 社會                                                   &  18045                                                \\\\\n",
       "\t 【更新】MP​廷廷有新歡！李優爆「對我做可怕的事」         & 2016-04-13 18:46:00                                    & 娛樂                                                   &  40764                                                \\\\\n",
       "\t 《太陽》編劇金恩淑洩密　結局非爛尾                     & 2016-04-13 18:40:00                                    & 娛樂                                                   &  19267                                                \\\\\n",
       "\t 【有片】福爾摩斯轉職奇異博士　竟被女光頭打出魂魄       & 2016-04-13 18:38:00                                    & 娛樂                                                   &   9860                                                \\\\\n",
       "\t 【更新】AKB美胸女王駕到！小嶋陽菜貴氣抵台              & 2016-04-13 18:10:00                                    & 娛樂                                                   &  17874                                                \\\\\n",
       "\t 【更新】被同學硬戴小戒指　國二女生痛整晚               & 2016-04-13 18:10:00                                    & 社會                                                   &  19741                                                \\\\\n",
       "\t 【肯亞案】組團赴中　羅瑩雪：本來今天要出發             & 2016-04-13 18:10:00                                    & 社會                                                   &  47145                                                \\\\\n",
       "\t 【肯亞案】組團赴中　羅瑩雪：本來今天要出發             & 2016-04-13 18:10:00                                    & 社會                                                   &  47145                                                \\\\\n",
       "\t 葉毓蘭再嗆肯亞詐騙疑犯　要媒體將心比心                 & 2016-04-13 18:03:00                                    & 社會                                                   &  31267                                                \\\\\n",
       "\t 【更新】許維恩剛認愛就變心　甜喊「憲哥我愛你」         & 2016-04-13 17:56:00                                    & 娛樂                                                   &  42048                                                \\\\\n",
       "\t 北市工務局技工好大膽　竟收賄喝花酒驗收放水             & 2016-04-13 17:32:00                                    & 社會                                                   &   9292                                                \\\\\n",
       "\t 章子怡加入炫娃族　連發醒醒萌Q變身照                    & 2016-04-13 17:30:00                                    & 娛樂                                                   &  18752                                                \\\\\n",
       "\t 【民報】一生難忘媽媽的話！86獨居老翁臨終囑捐財產三金條 & 2016-04-13 17:30:00                                    & 社會                                                   &  12091                                                \\\\\n",
       "\t 「下降頭能挽回婚姻」　女控遭騙63萬元                   & 2016-04-13 17:12:00                                    & 社會                                                   &   4600                                                \\\\\n",
       "\t 假晶華董事詐騙7億　只還100萬的下場是...                & 2016-04-13 17:11:00                                    & 社會                                                   &   9284                                                \\\\\n",
       "\t 本土劇女神整形前照出土？！黑皮塌鼻引戰火               & 2016-04-13 17:08:00                                    & 娛樂                                                   & 299235                                                \\\\\n",
       "\t 四面佛前跳艷舞　廟方「應是信徒花錢請的」               & 2016-04-13 17:05:00                                    & 社會                                                   &  17937                                                \\\\\n",
       "\t 落單女沒先上鎖車門　遭惡男劫財劫色                     & 2016-04-13 17:03:00                                    & 社會                                                   &  18176                                                \\\\\n",
       "\t 【影片】醫院外揮刀咆哮　警方衝上前一棒打掉             & 2016-04-13 16:55:00                                    & 社會                                                   &   5940                                                \\\\\n",
       "\t 劉真女兒雙滿月　辛龍送糕「最幸福的事」                 & 2016-04-13 16:52:00                                    & 娛樂                                                   &  32363                                                \\\\\n",
       "\t 等著見小豬？！周揚青出沒台北信義區                     & 2016-04-13 16:40:00                                    & 娛樂                                                   &  23314                                                \\\\\n",
       "\t 360度搶拍法拉利　警：開違規罰300元                     & 2016-04-13 16:35:00                                    & 社會                                                   &   7124                                                \\\\\n",
       "\t 學蜘蛛人垂降進屋　糗懸3樓高半空                        & 2016-04-13 16:35:00                                    & 社會                                                   &   1562                                                \\\\\n",
       "\t 警政署前署長顏世錫腦出血　昏迷送萬芳醫院治療           & 2016-04-13 16:35:00                                    & 社會                                                   &  15959                                                \\\\\n",
       "\t 【更新】罵記者「神經病」被訴　連惠心賠50萬換和解       & 2016-04-13 16:32:00                                    & 社會                                                   &   6084                                                \\\\\n",
       "\t 歪國老闆拉鐵門性侵女客　因這事判免驅離                 & 2016-04-13 16:23:00                                    & 社會                                                   &   9305                                                \\\\\n",
       "\t 美魔安糾紛被控妨害名譽　前主播妻不起訴                 & 2016-04-13 16:20:00                                    & 社會                                                   &   8163                                                \\\\\n",
       "\\end{tabular}\n"
      ],
      "text/markdown": [
       "\n",
       "title | dt | category | clicked | \n",
       "|---|---|---|---|---|---|---|---|---|---|---|---|---|---|---|---|---|---|---|---|---|---|---|---|---|---|---|---|---|---|---|---|---|---|---|---|---|---|---|---|---|---|---|---|---|---|---|---|---|---|---|---|---|---|---|---|---|---|---|---|---|\n",
       "| 【更新】搶2.2萬彩券刮中1.4萬　沒發財還得入獄       | 2016-04-15 14:32:00                                | 社會                                               |  1754                                              | \n",
       "| 同居人女兒熟睡　淫男伸狼爪                         | 2016-04-15 14:22:00                                | 社會                                               |  1076                                              | \n",
       "| 澎恰恰收女弟子　拱當台灣第一名伶                   | 2016-04-15 14:17:00                                | 娛樂                                               |  1749                                              | \n",
       "| 【驚險有片】BMW撞翻撞公車　後方機車神穿越          | 2016-04-15 14:12:00                                | 社會                                               | 11886                                              | \n",
       "| 【唱新聞】詐騙嗎？R.O.C.有CHINA但不是CHINA         | 2016-04-15 14:00:00                                | 娛樂                                               | 11696                                              | \n",
       "| 九巡翁霸坐展售車？　原因好心酸                     | 2016-04-15 13:52:00                                | 社會                                               |  4582                                              | \n",
       "| 白曉燕命案19年了　白冰冰「不能忘」                 | 2016-04-15 13:49:00                                | 娛樂                                               |  3329                                              | \n",
       "| 催討債務釀衝突　要小弟持槍討債先被抓               | 2016-04-15 13:47:00                                | 社會                                               |  1154                                              | \n",
       "| 男翻拍女友手機對話　PO爆料公社控劈腿               | 2016-04-15 13:45:00                                | 社會                                               |  4322                                              | \n",
       "| 好萊塢男神好威　女友再當高齡產婦                   | 2016-04-15 13:40:00                                | 娛樂                                               |  4307                                              | \n",
       "| 隋棠帶兒遠征南台灣　吃成膨皮母子檔                 | 2016-04-15 13:30:00                                | 娛樂                                               |  4651                                              | \n",
       "| 伊勢谷友介掰了長澤雅美　半同居小16歲辣模           | 2016-04-15 13:23:00                                | 娛樂                                               |  5141                                              | \n",
       "| 徐佳瑩開唱前驚傳失聲　急診照曝光                   | 2016-04-15 13:08:00                                | 娛樂                                               | 11588                                              | \n",
       "| 製酒廢液毒害桃園福興溪　2惡老闆起訴                | 2016-04-15 13:07:00                                | 社會                                               |  1989                                              | \n",
       "| 中研院化學所實驗室起火　緊急撲滅無人傷亡           | 2016-04-15 13:06:00                                | 社會                                               |  1147                                              | \n",
       "| 不滿人妻被劈腿　她竟上網揭友人姦情                 | 2016-04-15 13:02:00                                | 社會                                               | 15328                                              | \n",
       "| 死侍續攤雙喜　花邊教主又有了！                     | 2016-04-15 13:00:00                                | 娛樂                                               |  5209                                              | \n",
       "| 馬國50台人將遣中　我代表處動員馬國高層友人協助     | 2016-04-15 12:52:00                                | 社會                                               |  4432                                              | \n",
       "| 台電維修變電箱　受百用戶臨時停電                   | 2016-04-15 12:41:00                                | 社會                                               |  1011                                              | \n",
       "| 【暗黑城市】酒駕男廁所裝屎尿　醫院保全暴衝怒槓記者 | 2016-04-15 12:38:00                                | 社會                                               |  8186                                              | \n",
       "| 【更新】甲仙國小拔河隊疑食物中毒　14生送醫         | 2016-04-15 12:34:00                                | 社會                                               |  3747                                              | \n",
       "| 愛滋男師上網約炮　嘿咻百男遭判13年                 | 2016-04-15 12:33:00                                | 社會                                               | 14450                                              | \n",
       "| 【更新】《太陽》完美結局　沉船灣之吻收視最熱       | 2016-04-15 12:29:00                                | 娛樂                                               | 27010                                              | \n",
       "| 5月大女嬰疑嗆奶　母急奔診所求助                    | 2016-04-15 12:26:00                                | 社會                                               |  3263                                              | \n",
       "| 疑濕滑自摔　保全倒臥社區流血不治                   | 2016-04-15 12:09:00                                | 社會                                               |  4273                                              | \n",
       "| 小三通走私32顆蛋　查獲時雛鳥孵化了！               | 2016-04-15 12:08:00                                | 社會                                               |  8332                                              | \n",
       "| 救命錢都A！惡公僕污30萬救濟金　還推責給共犯        | 2016-04-15 12:05:00                                | 社會                                               |  2957                                              | \n",
       "| 【更新】搶在翁啟惠返台前　檢調搜索浩鼎等7處　      | 2016-04-15 11:59:00                                | 社會                                               | 17249                                              | \n",
       "| 兒拿舊作業改日期矇混　父暴怒猛甩耳光               | 2016-04-15 11:53:00                                | 社會                                               |  2518                                              | \n",
       "| 宋慧喬愛國拒代言　台大教授批韓軍「應被唾棄」       | 2016-04-15 11:52:00                                | 娛樂                                               | 10455                                              | \n",
       "| ⋮ | ⋮ | ⋮ | ⋮ | \n",
       "| 長得不像？　男驗DNA才知2女兒都非親骨肉                 | 2016-04-13 19:03:00                                    | 社會                                                   | 214796                                                 | \n",
       "| 麻衣1歲兒神力扛麻糬　台塑第4代抓周拿算盤               | 2016-04-13 19:03:00                                    | 娛樂                                                   |  70169                                                 | \n",
       "| 【獨家】晶華酒店有內賊　竟A走客人存酒                  | 2016-04-13 18:56:00                                    | 社會                                                   |  59229                                                 | \n",
       "| 【肯亞案】被中國帶走的台人　有2人是通緝犯              | 2016-04-13 18:47:00                                    | 社會                                                   |  18045                                                 | \n",
       "| 【更新】MP​廷廷有新歡！李優爆「對我做可怕的事」         | 2016-04-13 18:46:00                                    | 娛樂                                                   |  40764                                                 | \n",
       "| 《太陽》編劇金恩淑洩密　結局非爛尾                     | 2016-04-13 18:40:00                                    | 娛樂                                                   |  19267                                                 | \n",
       "| 【有片】福爾摩斯轉職奇異博士　竟被女光頭打出魂魄       | 2016-04-13 18:38:00                                    | 娛樂                                                   |   9860                                                 | \n",
       "| 【更新】AKB美胸女王駕到！小嶋陽菜貴氣抵台              | 2016-04-13 18:10:00                                    | 娛樂                                                   |  17874                                                 | \n",
       "| 【更新】被同學硬戴小戒指　國二女生痛整晚               | 2016-04-13 18:10:00                                    | 社會                                                   |  19741                                                 | \n",
       "| 【肯亞案】組團赴中　羅瑩雪：本來今天要出發             | 2016-04-13 18:10:00                                    | 社會                                                   |  47145                                                 | \n",
       "| 【肯亞案】組團赴中　羅瑩雪：本來今天要出發             | 2016-04-13 18:10:00                                    | 社會                                                   |  47145                                                 | \n",
       "| 葉毓蘭再嗆肯亞詐騙疑犯　要媒體將心比心                 | 2016-04-13 18:03:00                                    | 社會                                                   |  31267                                                 | \n",
       "| 【更新】許維恩剛認愛就變心　甜喊「憲哥我愛你」         | 2016-04-13 17:56:00                                    | 娛樂                                                   |  42048                                                 | \n",
       "| 北市工務局技工好大膽　竟收賄喝花酒驗收放水             | 2016-04-13 17:32:00                                    | 社會                                                   |   9292                                                 | \n",
       "| 章子怡加入炫娃族　連發醒醒萌Q變身照                    | 2016-04-13 17:30:00                                    | 娛樂                                                   |  18752                                                 | \n",
       "| 【民報】一生難忘媽媽的話！86獨居老翁臨終囑捐財產三金條 | 2016-04-13 17:30:00                                    | 社會                                                   |  12091                                                 | \n",
       "| 「下降頭能挽回婚姻」　女控遭騙63萬元                   | 2016-04-13 17:12:00                                    | 社會                                                   |   4600                                                 | \n",
       "| 假晶華董事詐騙7億　只還100萬的下場是...                | 2016-04-13 17:11:00                                    | 社會                                                   |   9284                                                 | \n",
       "| 本土劇女神整形前照出土？！黑皮塌鼻引戰火               | 2016-04-13 17:08:00                                    | 娛樂                                                   | 299235                                                 | \n",
       "| 四面佛前跳艷舞　廟方「應是信徒花錢請的」               | 2016-04-13 17:05:00                                    | 社會                                                   |  17937                                                 | \n",
       "| 落單女沒先上鎖車門　遭惡男劫財劫色                     | 2016-04-13 17:03:00                                    | 社會                                                   |  18176                                                 | \n",
       "| 【影片】醫院外揮刀咆哮　警方衝上前一棒打掉             | 2016-04-13 16:55:00                                    | 社會                                                   |   5940                                                 | \n",
       "| 劉真女兒雙滿月　辛龍送糕「最幸福的事」                 | 2016-04-13 16:52:00                                    | 娛樂                                                   |  32363                                                 | \n",
       "| 等著見小豬？！周揚青出沒台北信義區                     | 2016-04-13 16:40:00                                    | 娛樂                                                   |  23314                                                 | \n",
       "| 360度搶拍法拉利　警：開違規罰300元                     | 2016-04-13 16:35:00                                    | 社會                                                   |   7124                                                 | \n",
       "| 學蜘蛛人垂降進屋　糗懸3樓高半空                        | 2016-04-13 16:35:00                                    | 社會                                                   |   1562                                                 | \n",
       "| 警政署前署長顏世錫腦出血　昏迷送萬芳醫院治療           | 2016-04-13 16:35:00                                    | 社會                                                   |  15959                                                 | \n",
       "| 【更新】罵記者「神經病」被訴　連惠心賠50萬換和解       | 2016-04-13 16:32:00                                    | 社會                                                   |   6084                                                 | \n",
       "| 歪國老闆拉鐵門性侵女客　因這事判免驅離                 | 2016-04-13 16:23:00                                    | 社會                                                   |   9305                                                 | \n",
       "| 美魔安糾紛被控妨害名譽　前主播妻不起訴                 | 2016-04-13 16:20:00                                    | 社會                                                   |   8163                                                 | \n",
       "\n",
       "\n"
      ],
      "text/plain": [
       "    title                                                  dt                 \n",
       "1   【更新】搶2.2萬彩券刮中1.4萬　沒發財還得入獄           2016-04-15 14:32:00\n",
       "2   同居人女兒熟睡　淫男伸狼爪                             2016-04-15 14:22:00\n",
       "3   澎恰恰收女弟子　拱當台灣第一名伶                       2016-04-15 14:17:00\n",
       "4   【驚險有片】BMW撞翻撞公車　後方機車神穿越              2016-04-15 14:12:00\n",
       "5   【唱新聞】詐騙嗎？R.O.C.有CHINA但不是CHINA             2016-04-15 14:00:00\n",
       "6   九巡翁霸坐展售車？　原因好心酸                         2016-04-15 13:52:00\n",
       "7   白曉燕命案19年了　白冰冰「不能忘」                     2016-04-15 13:49:00\n",
       "8   催討債務釀衝突　要小弟持槍討債先被抓                   2016-04-15 13:47:00\n",
       "9   男翻拍女友手機對話　PO爆料公社控劈腿                   2016-04-15 13:45:00\n",
       "10  好萊塢男神好威　女友再當高齡產婦                       2016-04-15 13:40:00\n",
       "11  隋棠帶兒遠征南台灣　吃成膨皮母子檔                     2016-04-15 13:30:00\n",
       "12  伊勢谷友介掰了長澤雅美　半同居小16歲辣模               2016-04-15 13:23:00\n",
       "13  徐佳瑩開唱前驚傳失聲　急診照曝光                       2016-04-15 13:08:00\n",
       "14  製酒廢液毒害桃園福興溪　2惡老闆起訴                    2016-04-15 13:07:00\n",
       "15  中研院化學所實驗室起火　緊急撲滅無人傷亡               2016-04-15 13:06:00\n",
       "16  不滿人妻被劈腿　她竟上網揭友人姦情                     2016-04-15 13:02:00\n",
       "17  死侍續攤雙喜　花邊教主又有了！                         2016-04-15 13:00:00\n",
       "18  馬國50台人將遣中　我代表處動員馬國高層友人協助         2016-04-15 12:52:00\n",
       "19  台電維修變電箱　受百用戶臨時停電                       2016-04-15 12:41:00\n",
       "20  【暗黑城市】酒駕男廁所裝屎尿　醫院保全暴衝怒槓記者     2016-04-15 12:38:00\n",
       "21  【更新】甲仙國小拔河隊疑食物中毒　14生送醫             2016-04-15 12:34:00\n",
       "22  愛滋男師上網約炮　嘿咻百男遭判13年                     2016-04-15 12:33:00\n",
       "23  【更新】《太陽》完美結局　沉船灣之吻收視最熱           2016-04-15 12:29:00\n",
       "24  5月大女嬰疑嗆奶　母急奔診所求助                        2016-04-15 12:26:00\n",
       "25  疑濕滑自摔　保全倒臥社區流血不治                       2016-04-15 12:09:00\n",
       "26  小三通走私32顆蛋　查獲時雛鳥孵化了！                   2016-04-15 12:08:00\n",
       "27  救命錢都A！惡公僕污30萬救濟金　還推責給共犯            2016-04-15 12:05:00\n",
       "28  【更新】搶在翁啟惠返台前　檢調搜索浩鼎等7處　          2016-04-15 11:59:00\n",
       "29  兒拿舊作業改日期矇混　父暴怒猛甩耳光                   2016-04-15 11:53:00\n",
       "30  宋慧喬愛國拒代言　台大教授批韓軍「應被唾棄」           2016-04-15 11:52:00\n",
       "⋮   ⋮                                                      ⋮                  \n",
       "278 長得不像？　男驗DNA才知2女兒都非親骨肉                 2016-04-13 19:03:00\n",
       "279 麻衣1歲兒神力扛麻糬　台塑第4代抓周拿算盤               2016-04-13 19:03:00\n",
       "280 【獨家】晶華酒店有內賊　竟A走客人存酒                  2016-04-13 18:56:00\n",
       "281 【肯亞案】被中國帶走的台人　有2人是通緝犯              2016-04-13 18:47:00\n",
       "282 【更新】MP​廷廷有新歡！李優爆「對我做可怕的事」         2016-04-13 18:46:00\n",
       "283 《太陽》編劇金恩淑洩密　結局非爛尾                     2016-04-13 18:40:00\n",
       "284 【有片】福爾摩斯轉職奇異博士　竟被女光頭打出魂魄       2016-04-13 18:38:00\n",
       "285 【更新】AKB美胸女王駕到！小嶋陽菜貴氣抵台              2016-04-13 18:10:00\n",
       "286 【更新】被同學硬戴小戒指　國二女生痛整晚               2016-04-13 18:10:00\n",
       "287 【肯亞案】組團赴中　羅瑩雪：本來今天要出發             2016-04-13 18:10:00\n",
       "288 【肯亞案】組團赴中　羅瑩雪：本來今天要出發             2016-04-13 18:10:00\n",
       "289 葉毓蘭再嗆肯亞詐騙疑犯　要媒體將心比心                 2016-04-13 18:03:00\n",
       "290 【更新】許維恩剛認愛就變心　甜喊「憲哥我愛你」         2016-04-13 17:56:00\n",
       "291 北市工務局技工好大膽　竟收賄喝花酒驗收放水             2016-04-13 17:32:00\n",
       "292 章子怡加入炫娃族　連發醒醒萌Q變身照                    2016-04-13 17:30:00\n",
       "293 【民報】一生難忘媽媽的話！86獨居老翁臨終囑捐財產三金條 2016-04-13 17:30:00\n",
       "294 「下降頭能挽回婚姻」　女控遭騙63萬元                   2016-04-13 17:12:00\n",
       "295 假晶華董事詐騙7億　只還100萬的下場是...                2016-04-13 17:11:00\n",
       "296 本土劇女神整形前照出土？！黑皮塌鼻引戰火               2016-04-13 17:08:00\n",
       "297 四面佛前跳艷舞　廟方「應是信徒花錢請的」               2016-04-13 17:05:00\n",
       "298 落單女沒先上鎖車門　遭惡男劫財劫色                     2016-04-13 17:03:00\n",
       "299 【影片】醫院外揮刀咆哮　警方衝上前一棒打掉             2016-04-13 16:55:00\n",
       "300 劉真女兒雙滿月　辛龍送糕「最幸福的事」                 2016-04-13 16:52:00\n",
       "301 等著見小豬？！周揚青出沒台北信義區                     2016-04-13 16:40:00\n",
       "302 360度搶拍法拉利　警：開違規罰300元                     2016-04-13 16:35:00\n",
       "303 學蜘蛛人垂降進屋　糗懸3樓高半空                        2016-04-13 16:35:00\n",
       "304 警政署前署長顏世錫腦出血　昏迷送萬芳醫院治療           2016-04-13 16:35:00\n",
       "305 【更新】罵記者「神經病」被訴　連惠心賠50萬換和解       2016-04-13 16:32:00\n",
       "306 歪國老闆拉鐵門性侵女客　因這事判免驅離                 2016-04-13 16:23:00\n",
       "307 美魔安糾紛被控妨害名譽　前主播妻不起訴                 2016-04-13 16:20:00\n",
       "    category clicked\n",
       "1   社會      1754  \n",
       "2   社會      1076  \n",
       "3   娛樂      1749  \n",
       "4   社會     11886  \n",
       "5   娛樂     11696  \n",
       "6   社會      4582  \n",
       "7   娛樂      3329  \n",
       "8   社會      1154  \n",
       "9   社會      4322  \n",
       "10  娛樂      4307  \n",
       "11  娛樂      4651  \n",
       "12  娛樂      5141  \n",
       "13  娛樂     11588  \n",
       "14  社會      1989  \n",
       "15  社會      1147  \n",
       "16  社會     15328  \n",
       "17  娛樂      5209  \n",
       "18  社會      4432  \n",
       "19  社會      1011  \n",
       "20  社會      8186  \n",
       "21  社會      3747  \n",
       "22  社會     14450  \n",
       "23  娛樂     27010  \n",
       "24  社會      3263  \n",
       "25  社會      4273  \n",
       "26  社會      8332  \n",
       "27  社會      2957  \n",
       "28  社會     17249  \n",
       "29  社會      2518  \n",
       "30  娛樂     10455  \n",
       "⋮   ⋮        ⋮      \n",
       "278 社會     214796 \n",
       "279 娛樂      70169 \n",
       "280 社會      59229 \n",
       "281 社會      18045 \n",
       "282 娛樂      40764 \n",
       "283 娛樂      19267 \n",
       "284 娛樂       9860 \n",
       "285 娛樂      17874 \n",
       "286 社會      19741 \n",
       "287 社會      47145 \n",
       "288 社會      47145 \n",
       "289 社會      31267 \n",
       "290 娛樂      42048 \n",
       "291 社會       9292 \n",
       "292 娛樂      18752 \n",
       "293 社會      12091 \n",
       "294 社會       4600 \n",
       "295 社會       9284 \n",
       "296 娛樂     299235 \n",
       "297 社會      17937 \n",
       "298 社會      18176 \n",
       "299 社會       5940 \n",
       "300 娛樂      32363 \n",
       "301 娛樂      23314 \n",
       "302 社會       7124 \n",
       "303 社會       1562 \n",
       "304 社會      15959 \n",
       "305 社會       6084 \n",
       "306 社會       9305 \n",
       "307 社會       8163 "
      ]
     },
     "metadata": {},
     "output_type": "display_data"
    }
   ],
   "source": [
    "filter(applenews,category == '娛樂' | category == '社會')"
   ]
  },
  {
   "cell_type": "code",
   "execution_count": 229,
   "metadata": {},
   "outputs": [
    {
     "data": {
      "text/html": [
       "<table>\n",
       "<thead><tr><th></th><th scope=col>title</th><th scope=col>dt</th><th scope=col>category</th><th scope=col>clicked</th></tr></thead>\n",
       "<tbody>\n",
       "\t<tr><th scope=row>1</th><td>【更新】搶2.2萬彩券刮中1.4萬　沒發財還得入獄      </td><td>2016-04-15 14:32:00                               </td><td>社會                                              </td><td> 1754                                             </td></tr>\n",
       "\t<tr><th scope=row>11</th><td>同居人女兒熟睡　淫男伸狼爪                        </td><td>2016-04-15 14:22:00                               </td><td>社會                                              </td><td> 1076                                             </td></tr>\n",
       "\t<tr><th scope=row>16</th><td>澎恰恰收女弟子　拱當台灣第一名伶                  </td><td>2016-04-15 14:17:00                               </td><td>娛樂                                              </td><td> 1749                                             </td></tr>\n",
       "\t<tr><th scope=row>19</th><td>【驚險有片】BMW撞翻撞公車　後方機車神穿越         </td><td>2016-04-15 14:12:00                               </td><td>社會                                              </td><td>11886                                             </td></tr>\n",
       "\t<tr><th scope=row>21</th><td>【唱新聞】詐騙嗎？R.O.C.有CHINA但不是CHINA        </td><td>2016-04-15 14:00:00                               </td><td>娛樂                                              </td><td>11696                                             </td></tr>\n",
       "\t<tr><th scope=row>26</th><td>九巡翁霸坐展售車？　原因好心酸                    </td><td>2016-04-15 13:52:00                               </td><td>社會                                              </td><td> 4582                                             </td></tr>\n",
       "\t<tr><th scope=row>32</th><td>白曉燕命案19年了　白冰冰「不能忘」                </td><td>2016-04-15 13:49:00                               </td><td>娛樂                                              </td><td> 3329                                             </td></tr>\n",
       "\t<tr><th scope=row>34</th><td>催討債務釀衝突　要小弟持槍討債先被抓              </td><td>2016-04-15 13:47:00                               </td><td>社會                                              </td><td> 1154                                             </td></tr>\n",
       "\t<tr><th scope=row>35</th><td>男翻拍女友手機對話　PO爆料公社控劈腿              </td><td>2016-04-15 13:45:00                               </td><td>社會                                              </td><td> 4322                                             </td></tr>\n",
       "\t<tr><th scope=row>40</th><td>好萊塢男神好威　女友再當高齡產婦                  </td><td>2016-04-15 13:40:00                               </td><td>娛樂                                              </td><td> 4307                                             </td></tr>\n",
       "\t<tr><th scope=row>47</th><td>隋棠帶兒遠征南台灣　吃成膨皮母子檔                </td><td>2016-04-15 13:30:00                               </td><td>娛樂                                              </td><td> 4651                                             </td></tr>\n",
       "\t<tr><th scope=row>50</th><td>伊勢谷友介掰了長澤雅美　半同居小16歲辣模          </td><td>2016-04-15 13:23:00                               </td><td>娛樂                                              </td><td> 5141                                             </td></tr>\n",
       "\t<tr><th scope=row>54</th><td>徐佳瑩開唱前驚傳失聲　急診照曝光                  </td><td>2016-04-15 13:08:00                               </td><td>娛樂                                              </td><td>11588                                             </td></tr>\n",
       "\t<tr><th scope=row>56</th><td>製酒廢液毒害桃園福興溪　2惡老闆起訴               </td><td>2016-04-15 13:07:00                               </td><td>社會                                              </td><td> 1989                                             </td></tr>\n",
       "\t<tr><th scope=row>57</th><td>中研院化學所實驗室起火　緊急撲滅無人傷亡          </td><td>2016-04-15 13:06:00                               </td><td>社會                                              </td><td> 1147                                             </td></tr>\n",
       "\t<tr><th scope=row>60</th><td>不滿人妻被劈腿　她竟上網揭友人姦情                </td><td>2016-04-15 13:02:00                               </td><td>社會                                              </td><td>15328                                             </td></tr>\n",
       "\t<tr><th scope=row>62</th><td>死侍續攤雙喜　花邊教主又有了！                    </td><td>2016-04-15 13:00:00                               </td><td>娛樂                                              </td><td> 5209                                             </td></tr>\n",
       "\t<tr><th scope=row>66</th><td>馬國50台人將遣中　我代表處動員馬國高層友人協助    </td><td>2016-04-15 12:52:00                               </td><td>社會                                              </td><td> 4432                                             </td></tr>\n",
       "\t<tr><th scope=row>74</th><td>台電維修變電箱　受百用戶臨時停電                  </td><td>2016-04-15 12:41:00                               </td><td>社會                                              </td><td> 1011                                             </td></tr>\n",
       "\t<tr><th scope=row>78</th><td>【暗黑城市】酒駕男廁所裝屎尿　醫院保全暴衝怒槓記者</td><td>2016-04-15 12:38:00                               </td><td>社會                                              </td><td> 8186                                             </td></tr>\n",
       "\t<tr><th scope=row>84</th><td>【更新】甲仙國小拔河隊疑食物中毒　14生送醫        </td><td>2016-04-15 12:34:00                               </td><td>社會                                              </td><td> 3747                                             </td></tr>\n",
       "\t<tr><th scope=row>86</th><td>愛滋男師上網約炮　嘿咻百男遭判13年                </td><td>2016-04-15 12:33:00                               </td><td>社會                                              </td><td>14450                                             </td></tr>\n",
       "\t<tr><th scope=row>89</th><td>【更新】《太陽》完美結局　沉船灣之吻收視最熱      </td><td>2016-04-15 12:29:00                               </td><td>娛樂                                              </td><td>27010                                             </td></tr>\n",
       "\t<tr><th scope=row>92</th><td>5月大女嬰疑嗆奶　母急奔診所求助                   </td><td>2016-04-15 12:26:00                               </td><td>社會                                              </td><td> 3263                                             </td></tr>\n",
       "\t<tr><th scope=row>109</th><td>疑濕滑自摔　保全倒臥社區流血不治                  </td><td>2016-04-15 12:09:00                               </td><td>社會                                              </td><td> 4273                                             </td></tr>\n",
       "\t<tr><th scope=row>111</th><td>小三通走私32顆蛋　查獲時雛鳥孵化了！              </td><td>2016-04-15 12:08:00                               </td><td>社會                                              </td><td> 8332                                             </td></tr>\n",
       "\t<tr><th scope=row>115</th><td>救命錢都A！惡公僕污30萬救濟金　還推責給共犯       </td><td>2016-04-15 12:05:00                               </td><td>社會                                              </td><td> 2957                                             </td></tr>\n",
       "\t<tr><th scope=row>126</th><td>【更新】搶在翁啟惠返台前　檢調搜索浩鼎等7處　     </td><td>2016-04-15 11:59:00                               </td><td>社會                                              </td><td>17249                                             </td></tr>\n",
       "\t<tr><th scope=row>138</th><td>兒拿舊作業改日期矇混　父暴怒猛甩耳光              </td><td>2016-04-15 11:53:00                               </td><td>社會                                              </td><td> 2518                                             </td></tr>\n",
       "\t<tr><th scope=row>139</th><td>宋慧喬愛國拒代言　台大教授批韓軍「應被唾棄」      </td><td>2016-04-15 11:52:00                               </td><td>娛樂                                              </td><td>10455                                             </td></tr>\n",
       "\t<tr><th scope=row>⋮</th><td>⋮</td><td>⋮</td><td>⋮</td><td>⋮</td></tr>\n",
       "\t<tr><th scope=row>1361</th><td>長得不像？　男驗DNA才知2女兒都非親骨肉                </td><td>2016-04-13 19:03:00                                   </td><td>社會                                                  </td><td>214796                                                </td></tr>\n",
       "\t<tr><th scope=row>1362</th><td>麻衣1歲兒神力扛麻糬　台塑第4代抓周拿算盤              </td><td>2016-04-13 19:03:00                                   </td><td>娛樂                                                  </td><td> 70169                                                </td></tr>\n",
       "\t<tr><th scope=row>1372</th><td>【獨家】晶華酒店有內賊　竟A走客人存酒                 </td><td>2016-04-13 18:56:00                                   </td><td>社會                                                  </td><td> 59229                                                </td></tr>\n",
       "\t<tr><th scope=row>1377</th><td>【肯亞案】被中國帶走的台人　有2人是通緝犯             </td><td>2016-04-13 18:47:00                                   </td><td>社會                                                  </td><td> 18045                                                </td></tr>\n",
       "\t<tr><th scope=row>1378</th><td>【更新】MP​廷廷有新歡！李優爆「對我做可怕的事」        </td><td>2016-04-13 18:46:00                                   </td><td>娛樂                                                  </td><td> 40764                                                </td></tr>\n",
       "\t<tr><th scope=row>1385</th><td>《太陽》編劇金恩淑洩密　結局非爛尾                    </td><td>2016-04-13 18:40:00                                   </td><td>娛樂                                                  </td><td> 19267                                                </td></tr>\n",
       "\t<tr><th scope=row>1390</th><td>【有片】福爾摩斯轉職奇異博士　竟被女光頭打出魂魄      </td><td>2016-04-13 18:38:00                                   </td><td>娛樂                                                  </td><td>  9860                                                </td></tr>\n",
       "\t<tr><th scope=row>1408</th><td>【更新】AKB美胸女王駕到！小嶋陽菜貴氣抵台             </td><td>2016-04-13 18:10:00                                   </td><td>娛樂                                                  </td><td> 17874                                                </td></tr>\n",
       "\t<tr><th scope=row>1409</th><td>【更新】被同學硬戴小戒指　國二女生痛整晚              </td><td>2016-04-13 18:10:00                                   </td><td>社會                                                  </td><td> 19741                                                </td></tr>\n",
       "\t<tr><th scope=row>1410</th><td>【肯亞案】組團赴中　羅瑩雪：本來今天要出發            </td><td>2016-04-13 18:10:00                                   </td><td>社會                                                  </td><td> 47145                                                </td></tr>\n",
       "\t<tr><th scope=row>1411</th><td>【肯亞案】組團赴中　羅瑩雪：本來今天要出發            </td><td>2016-04-13 18:10:00                                   </td><td>社會                                                  </td><td> 47145                                                </td></tr>\n",
       "\t<tr><th scope=row>1417</th><td>葉毓蘭再嗆肯亞詐騙疑犯　要媒體將心比心                </td><td>2016-04-13 18:03:00                                   </td><td>社會                                                  </td><td> 31267                                                </td></tr>\n",
       "\t<tr><th scope=row>1424</th><td>【更新】許維恩剛認愛就變心　甜喊「憲哥我愛你」        </td><td>2016-04-13 17:56:00                                   </td><td>娛樂                                                  </td><td> 42048                                                </td></tr>\n",
       "\t<tr><th scope=row>1446</th><td>北市工務局技工好大膽　竟收賄喝花酒驗收放水            </td><td>2016-04-13 17:32:00                                   </td><td>社會                                                  </td><td>  9292                                                </td></tr>\n",
       "\t<tr><th scope=row>1447</th><td>章子怡加入炫娃族　連發醒醒萌Q變身照                   </td><td>2016-04-13 17:30:00                                   </td><td>娛樂                                                  </td><td> 18752                                                </td></tr>\n",
       "\t<tr><th scope=row>1448</th><td>【民報】一生難忘媽媽的話！86獨居老翁臨終囑捐財產三金條</td><td>2016-04-13 17:30:00                                   </td><td>社會                                                  </td><td> 12091                                                </td></tr>\n",
       "\t<tr><th scope=row>1456</th><td>「下降頭能挽回婚姻」　女控遭騙63萬元                  </td><td>2016-04-13 17:12:00                                   </td><td>社會                                                  </td><td>  4600                                                </td></tr>\n",
       "\t<tr><th scope=row>1457</th><td>假晶華董事詐騙7億　只還100萬的下場是...               </td><td>2016-04-13 17:11:00                                   </td><td>社會                                                  </td><td>  9284                                                </td></tr>\n",
       "\t<tr><th scope=row>1459</th><td>本土劇女神整形前照出土？！黑皮塌鼻引戰火              </td><td>2016-04-13 17:08:00                                   </td><td>娛樂                                                  </td><td>299235                                                </td></tr>\n",
       "\t<tr><th scope=row>1460</th><td>四面佛前跳艷舞　廟方「應是信徒花錢請的」              </td><td>2016-04-13 17:05:00                                   </td><td>社會                                                  </td><td> 17937                                                </td></tr>\n",
       "\t<tr><th scope=row>1463</th><td>落單女沒先上鎖車門　遭惡男劫財劫色                    </td><td>2016-04-13 17:03:00                                   </td><td>社會                                                  </td><td> 18176                                                </td></tr>\n",
       "\t<tr><th scope=row>1466</th><td>【影片】醫院外揮刀咆哮　警方衝上前一棒打掉            </td><td>2016-04-13 16:55:00                                   </td><td>社會                                                  </td><td>  5940                                                </td></tr>\n",
       "\t<tr><th scope=row>1470</th><td>劉真女兒雙滿月　辛龍送糕「最幸福的事」                </td><td>2016-04-13 16:52:00                                   </td><td>娛樂                                                  </td><td> 32363                                                </td></tr>\n",
       "\t<tr><th scope=row>1476</th><td>等著見小豬？！周揚青出沒台北信義區                    </td><td>2016-04-13 16:40:00                                   </td><td>娛樂                                                  </td><td> 23314                                                </td></tr>\n",
       "\t<tr><th scope=row>1481</th><td>360度搶拍法拉利　警：開違規罰300元                    </td><td>2016-04-13 16:35:00                                   </td><td>社會                                                  </td><td>  7124                                                </td></tr>\n",
       "\t<tr><th scope=row>1482</th><td>學蜘蛛人垂降進屋　糗懸3樓高半空                       </td><td>2016-04-13 16:35:00                                   </td><td>社會                                                  </td><td>  1562                                                </td></tr>\n",
       "\t<tr><th scope=row>1483</th><td>警政署前署長顏世錫腦出血　昏迷送萬芳醫院治療          </td><td>2016-04-13 16:35:00                                   </td><td>社會                                                  </td><td> 15959                                                </td></tr>\n",
       "\t<tr><th scope=row>1486</th><td>【更新】罵記者「神經病」被訴　連惠心賠50萬換和解      </td><td>2016-04-13 16:32:00                                   </td><td>社會                                                  </td><td>  6084                                                </td></tr>\n",
       "\t<tr><th scope=row>1493</th><td>歪國老闆拉鐵門性侵女客　因這事判免驅離                </td><td>2016-04-13 16:23:00                                   </td><td>社會                                                  </td><td>  9305                                                </td></tr>\n",
       "\t<tr><th scope=row>1495</th><td>美魔安糾紛被控妨害名譽　前主播妻不起訴                </td><td>2016-04-13 16:20:00                                   </td><td>社會                                                  </td><td>  8163                                                </td></tr>\n",
       "</tbody>\n",
       "</table>\n"
      ],
      "text/latex": [
       "\\begin{tabular}{r|llll}\n",
       "  & title & dt & category & clicked\\\\\n",
       "\\hline\n",
       "\t1 & 【更新】搶2.2萬彩券刮中1.4萬　沒發財還得入獄       & 2016-04-15 14:32:00                                & 社會                                               &  1754                                             \\\\\n",
       "\t11 & 同居人女兒熟睡　淫男伸狼爪                         & 2016-04-15 14:22:00                                & 社會                                               &  1076                                             \\\\\n",
       "\t16 & 澎恰恰收女弟子　拱當台灣第一名伶                   & 2016-04-15 14:17:00                                & 娛樂                                               &  1749                                             \\\\\n",
       "\t19 & 【驚險有片】BMW撞翻撞公車　後方機車神穿越          & 2016-04-15 14:12:00                                & 社會                                               & 11886                                             \\\\\n",
       "\t21 & 【唱新聞】詐騙嗎？R.O.C.有CHINA但不是CHINA         & 2016-04-15 14:00:00                                & 娛樂                                               & 11696                                             \\\\\n",
       "\t26 & 九巡翁霸坐展售車？　原因好心酸                     & 2016-04-15 13:52:00                                & 社會                                               &  4582                                             \\\\\n",
       "\t32 & 白曉燕命案19年了　白冰冰「不能忘」                 & 2016-04-15 13:49:00                                & 娛樂                                               &  3329                                             \\\\\n",
       "\t34 & 催討債務釀衝突　要小弟持槍討債先被抓               & 2016-04-15 13:47:00                                & 社會                                               &  1154                                             \\\\\n",
       "\t35 & 男翻拍女友手機對話　PO爆料公社控劈腿               & 2016-04-15 13:45:00                                & 社會                                               &  4322                                             \\\\\n",
       "\t40 & 好萊塢男神好威　女友再當高齡產婦                   & 2016-04-15 13:40:00                                & 娛樂                                               &  4307                                             \\\\\n",
       "\t47 & 隋棠帶兒遠征南台灣　吃成膨皮母子檔                 & 2016-04-15 13:30:00                                & 娛樂                                               &  4651                                             \\\\\n",
       "\t50 & 伊勢谷友介掰了長澤雅美　半同居小16歲辣模           & 2016-04-15 13:23:00                                & 娛樂                                               &  5141                                             \\\\\n",
       "\t54 & 徐佳瑩開唱前驚傳失聲　急診照曝光                   & 2016-04-15 13:08:00                                & 娛樂                                               & 11588                                             \\\\\n",
       "\t56 & 製酒廢液毒害桃園福興溪　2惡老闆起訴                & 2016-04-15 13:07:00                                & 社會                                               &  1989                                             \\\\\n",
       "\t57 & 中研院化學所實驗室起火　緊急撲滅無人傷亡           & 2016-04-15 13:06:00                                & 社會                                               &  1147                                             \\\\\n",
       "\t60 & 不滿人妻被劈腿　她竟上網揭友人姦情                 & 2016-04-15 13:02:00                                & 社會                                               & 15328                                             \\\\\n",
       "\t62 & 死侍續攤雙喜　花邊教主又有了！                     & 2016-04-15 13:00:00                                & 娛樂                                               &  5209                                             \\\\\n",
       "\t66 & 馬國50台人將遣中　我代表處動員馬國高層友人協助     & 2016-04-15 12:52:00                                & 社會                                               &  4432                                             \\\\\n",
       "\t74 & 台電維修變電箱　受百用戶臨時停電                   & 2016-04-15 12:41:00                                & 社會                                               &  1011                                             \\\\\n",
       "\t78 & 【暗黑城市】酒駕男廁所裝屎尿　醫院保全暴衝怒槓記者 & 2016-04-15 12:38:00                                & 社會                                               &  8186                                             \\\\\n",
       "\t84 & 【更新】甲仙國小拔河隊疑食物中毒　14生送醫         & 2016-04-15 12:34:00                                & 社會                                               &  3747                                             \\\\\n",
       "\t86 & 愛滋男師上網約炮　嘿咻百男遭判13年                 & 2016-04-15 12:33:00                                & 社會                                               & 14450                                             \\\\\n",
       "\t89 & 【更新】《太陽》完美結局　沉船灣之吻收視最熱       & 2016-04-15 12:29:00                                & 娛樂                                               & 27010                                             \\\\\n",
       "\t92 & 5月大女嬰疑嗆奶　母急奔診所求助                    & 2016-04-15 12:26:00                                & 社會                                               &  3263                                             \\\\\n",
       "\t109 & 疑濕滑自摔　保全倒臥社區流血不治                   & 2016-04-15 12:09:00                                & 社會                                               &  4273                                             \\\\\n",
       "\t111 & 小三通走私32顆蛋　查獲時雛鳥孵化了！               & 2016-04-15 12:08:00                                & 社會                                               &  8332                                             \\\\\n",
       "\t115 & 救命錢都A！惡公僕污30萬救濟金　還推責給共犯        & 2016-04-15 12:05:00                                & 社會                                               &  2957                                             \\\\\n",
       "\t126 & 【更新】搶在翁啟惠返台前　檢調搜索浩鼎等7處　      & 2016-04-15 11:59:00                                & 社會                                               & 17249                                             \\\\\n",
       "\t138 & 兒拿舊作業改日期矇混　父暴怒猛甩耳光               & 2016-04-15 11:53:00                                & 社會                                               &  2518                                             \\\\\n",
       "\t139 & 宋慧喬愛國拒代言　台大教授批韓軍「應被唾棄」       & 2016-04-15 11:52:00                                & 娛樂                                               & 10455                                             \\\\\n",
       "\t⋮ & ⋮ & ⋮ & ⋮ & ⋮\\\\\n",
       "\t1361 & 長得不像？　男驗DNA才知2女兒都非親骨肉                 & 2016-04-13 19:03:00                                    & 社會                                                   & 214796                                                \\\\\n",
       "\t1362 & 麻衣1歲兒神力扛麻糬　台塑第4代抓周拿算盤               & 2016-04-13 19:03:00                                    & 娛樂                                                   &  70169                                                \\\\\n",
       "\t1372 & 【獨家】晶華酒店有內賊　竟A走客人存酒                  & 2016-04-13 18:56:00                                    & 社會                                                   &  59229                                                \\\\\n",
       "\t1377 & 【肯亞案】被中國帶走的台人　有2人是通緝犯              & 2016-04-13 18:47:00                                    & 社會                                                   &  18045                                                \\\\\n",
       "\t1378 & 【更新】MP​廷廷有新歡！李優爆「對我做可怕的事」         & 2016-04-13 18:46:00                                    & 娛樂                                                   &  40764                                                \\\\\n",
       "\t1385 & 《太陽》編劇金恩淑洩密　結局非爛尾                     & 2016-04-13 18:40:00                                    & 娛樂                                                   &  19267                                                \\\\\n",
       "\t1390 & 【有片】福爾摩斯轉職奇異博士　竟被女光頭打出魂魄       & 2016-04-13 18:38:00                                    & 娛樂                                                   &   9860                                                \\\\\n",
       "\t1408 & 【更新】AKB美胸女王駕到！小嶋陽菜貴氣抵台              & 2016-04-13 18:10:00                                    & 娛樂                                                   &  17874                                                \\\\\n",
       "\t1409 & 【更新】被同學硬戴小戒指　國二女生痛整晚               & 2016-04-13 18:10:00                                    & 社會                                                   &  19741                                                \\\\\n",
       "\t1410 & 【肯亞案】組團赴中　羅瑩雪：本來今天要出發             & 2016-04-13 18:10:00                                    & 社會                                                   &  47145                                                \\\\\n",
       "\t1411 & 【肯亞案】組團赴中　羅瑩雪：本來今天要出發             & 2016-04-13 18:10:00                                    & 社會                                                   &  47145                                                \\\\\n",
       "\t1417 & 葉毓蘭再嗆肯亞詐騙疑犯　要媒體將心比心                 & 2016-04-13 18:03:00                                    & 社會                                                   &  31267                                                \\\\\n",
       "\t1424 & 【更新】許維恩剛認愛就變心　甜喊「憲哥我愛你」         & 2016-04-13 17:56:00                                    & 娛樂                                                   &  42048                                                \\\\\n",
       "\t1446 & 北市工務局技工好大膽　竟收賄喝花酒驗收放水             & 2016-04-13 17:32:00                                    & 社會                                                   &   9292                                                \\\\\n",
       "\t1447 & 章子怡加入炫娃族　連發醒醒萌Q變身照                    & 2016-04-13 17:30:00                                    & 娛樂                                                   &  18752                                                \\\\\n",
       "\t1448 & 【民報】一生難忘媽媽的話！86獨居老翁臨終囑捐財產三金條 & 2016-04-13 17:30:00                                    & 社會                                                   &  12091                                                \\\\\n",
       "\t1456 & 「下降頭能挽回婚姻」　女控遭騙63萬元                   & 2016-04-13 17:12:00                                    & 社會                                                   &   4600                                                \\\\\n",
       "\t1457 & 假晶華董事詐騙7億　只還100萬的下場是...                & 2016-04-13 17:11:00                                    & 社會                                                   &   9284                                                \\\\\n",
       "\t1459 & 本土劇女神整形前照出土？！黑皮塌鼻引戰火               & 2016-04-13 17:08:00                                    & 娛樂                                                   & 299235                                                \\\\\n",
       "\t1460 & 四面佛前跳艷舞　廟方「應是信徒花錢請的」               & 2016-04-13 17:05:00                                    & 社會                                                   &  17937                                                \\\\\n",
       "\t1463 & 落單女沒先上鎖車門　遭惡男劫財劫色                     & 2016-04-13 17:03:00                                    & 社會                                                   &  18176                                                \\\\\n",
       "\t1466 & 【影片】醫院外揮刀咆哮　警方衝上前一棒打掉             & 2016-04-13 16:55:00                                    & 社會                                                   &   5940                                                \\\\\n",
       "\t1470 & 劉真女兒雙滿月　辛龍送糕「最幸福的事」                 & 2016-04-13 16:52:00                                    & 娛樂                                                   &  32363                                                \\\\\n",
       "\t1476 & 等著見小豬？！周揚青出沒台北信義區                     & 2016-04-13 16:40:00                                    & 娛樂                                                   &  23314                                                \\\\\n",
       "\t1481 & 360度搶拍法拉利　警：開違規罰300元                     & 2016-04-13 16:35:00                                    & 社會                                                   &   7124                                                \\\\\n",
       "\t1482 & 學蜘蛛人垂降進屋　糗懸3樓高半空                        & 2016-04-13 16:35:00                                    & 社會                                                   &   1562                                                \\\\\n",
       "\t1483 & 警政署前署長顏世錫腦出血　昏迷送萬芳醫院治療           & 2016-04-13 16:35:00                                    & 社會                                                   &  15959                                                \\\\\n",
       "\t1486 & 【更新】罵記者「神經病」被訴　連惠心賠50萬換和解       & 2016-04-13 16:32:00                                    & 社會                                                   &   6084                                                \\\\\n",
       "\t1493 & 歪國老闆拉鐵門性侵女客　因這事判免驅離                 & 2016-04-13 16:23:00                                    & 社會                                                   &   9305                                                \\\\\n",
       "\t1495 & 美魔安糾紛被控妨害名譽　前主播妻不起訴                 & 2016-04-13 16:20:00                                    & 社會                                                   &   8163                                                \\\\\n",
       "\\end{tabular}\n"
      ],
      "text/markdown": [
       "\n",
       "| <!--/--> | title | dt | category | clicked | \n",
       "|---|---|---|---|---|---|---|---|---|---|---|---|---|---|---|---|---|---|---|---|---|---|---|---|---|---|---|---|---|---|---|---|---|---|---|---|---|---|---|---|---|---|---|---|---|---|---|---|---|---|---|---|---|---|---|---|---|---|---|---|---|\n",
       "| 1 | 【更新】搶2.2萬彩券刮中1.4萬　沒發財還得入獄       | 2016-04-15 14:32:00                                | 社會                                               |  1754                                              | \n",
       "| 11 | 同居人女兒熟睡　淫男伸狼爪                         | 2016-04-15 14:22:00                                | 社會                                               |  1076                                              | \n",
       "| 16 | 澎恰恰收女弟子　拱當台灣第一名伶                   | 2016-04-15 14:17:00                                | 娛樂                                               |  1749                                              | \n",
       "| 19 | 【驚險有片】BMW撞翻撞公車　後方機車神穿越          | 2016-04-15 14:12:00                                | 社會                                               | 11886                                              | \n",
       "| 21 | 【唱新聞】詐騙嗎？R.O.C.有CHINA但不是CHINA         | 2016-04-15 14:00:00                                | 娛樂                                               | 11696                                              | \n",
       "| 26 | 九巡翁霸坐展售車？　原因好心酸                     | 2016-04-15 13:52:00                                | 社會                                               |  4582                                              | \n",
       "| 32 | 白曉燕命案19年了　白冰冰「不能忘」                 | 2016-04-15 13:49:00                                | 娛樂                                               |  3329                                              | \n",
       "| 34 | 催討債務釀衝突　要小弟持槍討債先被抓               | 2016-04-15 13:47:00                                | 社會                                               |  1154                                              | \n",
       "| 35 | 男翻拍女友手機對話　PO爆料公社控劈腿               | 2016-04-15 13:45:00                                | 社會                                               |  4322                                              | \n",
       "| 40 | 好萊塢男神好威　女友再當高齡產婦                   | 2016-04-15 13:40:00                                | 娛樂                                               |  4307                                              | \n",
       "| 47 | 隋棠帶兒遠征南台灣　吃成膨皮母子檔                 | 2016-04-15 13:30:00                                | 娛樂                                               |  4651                                              | \n",
       "| 50 | 伊勢谷友介掰了長澤雅美　半同居小16歲辣模           | 2016-04-15 13:23:00                                | 娛樂                                               |  5141                                              | \n",
       "| 54 | 徐佳瑩開唱前驚傳失聲　急診照曝光                   | 2016-04-15 13:08:00                                | 娛樂                                               | 11588                                              | \n",
       "| 56 | 製酒廢液毒害桃園福興溪　2惡老闆起訴                | 2016-04-15 13:07:00                                | 社會                                               |  1989                                              | \n",
       "| 57 | 中研院化學所實驗室起火　緊急撲滅無人傷亡           | 2016-04-15 13:06:00                                | 社會                                               |  1147                                              | \n",
       "| 60 | 不滿人妻被劈腿　她竟上網揭友人姦情                 | 2016-04-15 13:02:00                                | 社會                                               | 15328                                              | \n",
       "| 62 | 死侍續攤雙喜　花邊教主又有了！                     | 2016-04-15 13:00:00                                | 娛樂                                               |  5209                                              | \n",
       "| 66 | 馬國50台人將遣中　我代表處動員馬國高層友人協助     | 2016-04-15 12:52:00                                | 社會                                               |  4432                                              | \n",
       "| 74 | 台電維修變電箱　受百用戶臨時停電                   | 2016-04-15 12:41:00                                | 社會                                               |  1011                                              | \n",
       "| 78 | 【暗黑城市】酒駕男廁所裝屎尿　醫院保全暴衝怒槓記者 | 2016-04-15 12:38:00                                | 社會                                               |  8186                                              | \n",
       "| 84 | 【更新】甲仙國小拔河隊疑食物中毒　14生送醫         | 2016-04-15 12:34:00                                | 社會                                               |  3747                                              | \n",
       "| 86 | 愛滋男師上網約炮　嘿咻百男遭判13年                 | 2016-04-15 12:33:00                                | 社會                                               | 14450                                              | \n",
       "| 89 | 【更新】《太陽》完美結局　沉船灣之吻收視最熱       | 2016-04-15 12:29:00                                | 娛樂                                               | 27010                                              | \n",
       "| 92 | 5月大女嬰疑嗆奶　母急奔診所求助                    | 2016-04-15 12:26:00                                | 社會                                               |  3263                                              | \n",
       "| 109 | 疑濕滑自摔　保全倒臥社區流血不治                   | 2016-04-15 12:09:00                                | 社會                                               |  4273                                              | \n",
       "| 111 | 小三通走私32顆蛋　查獲時雛鳥孵化了！               | 2016-04-15 12:08:00                                | 社會                                               |  8332                                              | \n",
       "| 115 | 救命錢都A！惡公僕污30萬救濟金　還推責給共犯        | 2016-04-15 12:05:00                                | 社會                                               |  2957                                              | \n",
       "| 126 | 【更新】搶在翁啟惠返台前　檢調搜索浩鼎等7處　      | 2016-04-15 11:59:00                                | 社會                                               | 17249                                              | \n",
       "| 138 | 兒拿舊作業改日期矇混　父暴怒猛甩耳光               | 2016-04-15 11:53:00                                | 社會                                               |  2518                                              | \n",
       "| 139 | 宋慧喬愛國拒代言　台大教授批韓軍「應被唾棄」       | 2016-04-15 11:52:00                                | 娛樂                                               | 10455                                              | \n",
       "| ⋮ | ⋮ | ⋮ | ⋮ | ⋮ | \n",
       "| 1361 | 長得不像？　男驗DNA才知2女兒都非親骨肉                 | 2016-04-13 19:03:00                                    | 社會                                                   | 214796                                                 | \n",
       "| 1362 | 麻衣1歲兒神力扛麻糬　台塑第4代抓周拿算盤               | 2016-04-13 19:03:00                                    | 娛樂                                                   |  70169                                                 | \n",
       "| 1372 | 【獨家】晶華酒店有內賊　竟A走客人存酒                  | 2016-04-13 18:56:00                                    | 社會                                                   |  59229                                                 | \n",
       "| 1377 | 【肯亞案】被中國帶走的台人　有2人是通緝犯              | 2016-04-13 18:47:00                                    | 社會                                                   |  18045                                                 | \n",
       "| 1378 | 【更新】MP​廷廷有新歡！李優爆「對我做可怕的事」         | 2016-04-13 18:46:00                                    | 娛樂                                                   |  40764                                                 | \n",
       "| 1385 | 《太陽》編劇金恩淑洩密　結局非爛尾                     | 2016-04-13 18:40:00                                    | 娛樂                                                   |  19267                                                 | \n",
       "| 1390 | 【有片】福爾摩斯轉職奇異博士　竟被女光頭打出魂魄       | 2016-04-13 18:38:00                                    | 娛樂                                                   |   9860                                                 | \n",
       "| 1408 | 【更新】AKB美胸女王駕到！小嶋陽菜貴氣抵台              | 2016-04-13 18:10:00                                    | 娛樂                                                   |  17874                                                 | \n",
       "| 1409 | 【更新】被同學硬戴小戒指　國二女生痛整晚               | 2016-04-13 18:10:00                                    | 社會                                                   |  19741                                                 | \n",
       "| 1410 | 【肯亞案】組團赴中　羅瑩雪：本來今天要出發             | 2016-04-13 18:10:00                                    | 社會                                                   |  47145                                                 | \n",
       "| 1411 | 【肯亞案】組團赴中　羅瑩雪：本來今天要出發             | 2016-04-13 18:10:00                                    | 社會                                                   |  47145                                                 | \n",
       "| 1417 | 葉毓蘭再嗆肯亞詐騙疑犯　要媒體將心比心                 | 2016-04-13 18:03:00                                    | 社會                                                   |  31267                                                 | \n",
       "| 1424 | 【更新】許維恩剛認愛就變心　甜喊「憲哥我愛你」         | 2016-04-13 17:56:00                                    | 娛樂                                                   |  42048                                                 | \n",
       "| 1446 | 北市工務局技工好大膽　竟收賄喝花酒驗收放水             | 2016-04-13 17:32:00                                    | 社會                                                   |   9292                                                 | \n",
       "| 1447 | 章子怡加入炫娃族　連發醒醒萌Q變身照                    | 2016-04-13 17:30:00                                    | 娛樂                                                   |  18752                                                 | \n",
       "| 1448 | 【民報】一生難忘媽媽的話！86獨居老翁臨終囑捐財產三金條 | 2016-04-13 17:30:00                                    | 社會                                                   |  12091                                                 | \n",
       "| 1456 | 「下降頭能挽回婚姻」　女控遭騙63萬元                   | 2016-04-13 17:12:00                                    | 社會                                                   |   4600                                                 | \n",
       "| 1457 | 假晶華董事詐騙7億　只還100萬的下場是...                | 2016-04-13 17:11:00                                    | 社會                                                   |   9284                                                 | \n",
       "| 1459 | 本土劇女神整形前照出土？！黑皮塌鼻引戰火               | 2016-04-13 17:08:00                                    | 娛樂                                                   | 299235                                                 | \n",
       "| 1460 | 四面佛前跳艷舞　廟方「應是信徒花錢請的」               | 2016-04-13 17:05:00                                    | 社會                                                   |  17937                                                 | \n",
       "| 1463 | 落單女沒先上鎖車門　遭惡男劫財劫色                     | 2016-04-13 17:03:00                                    | 社會                                                   |  18176                                                 | \n",
       "| 1466 | 【影片】醫院外揮刀咆哮　警方衝上前一棒打掉             | 2016-04-13 16:55:00                                    | 社會                                                   |   5940                                                 | \n",
       "| 1470 | 劉真女兒雙滿月　辛龍送糕「最幸福的事」                 | 2016-04-13 16:52:00                                    | 娛樂                                                   |  32363                                                 | \n",
       "| 1476 | 等著見小豬？！周揚青出沒台北信義區                     | 2016-04-13 16:40:00                                    | 娛樂                                                   |  23314                                                 | \n",
       "| 1481 | 360度搶拍法拉利　警：開違規罰300元                     | 2016-04-13 16:35:00                                    | 社會                                                   |   7124                                                 | \n",
       "| 1482 | 學蜘蛛人垂降進屋　糗懸3樓高半空                        | 2016-04-13 16:35:00                                    | 社會                                                   |   1562                                                 | \n",
       "| 1483 | 警政署前署長顏世錫腦出血　昏迷送萬芳醫院治療           | 2016-04-13 16:35:00                                    | 社會                                                   |  15959                                                 | \n",
       "| 1486 | 【更新】罵記者「神經病」被訴　連惠心賠50萬換和解       | 2016-04-13 16:32:00                                    | 社會                                                   |   6084                                                 | \n",
       "| 1493 | 歪國老闆拉鐵門性侵女客　因這事判免驅離                 | 2016-04-13 16:23:00                                    | 社會                                                   |   9305                                                 | \n",
       "| 1495 | 美魔安糾紛被控妨害名譽　前主播妻不起訴                 | 2016-04-13 16:20:00                                    | 社會                                                   |   8163                                                 | \n",
       "\n",
       "\n"
      ],
      "text/plain": [
       "     title                                                  dt                 \n",
       "1    【更新】搶2.2萬彩券刮中1.4萬　沒發財還得入獄           2016-04-15 14:32:00\n",
       "11   同居人女兒熟睡　淫男伸狼爪                             2016-04-15 14:22:00\n",
       "16   澎恰恰收女弟子　拱當台灣第一名伶                       2016-04-15 14:17:00\n",
       "19   【驚險有片】BMW撞翻撞公車　後方機車神穿越              2016-04-15 14:12:00\n",
       "21   【唱新聞】詐騙嗎？R.O.C.有CHINA但不是CHINA             2016-04-15 14:00:00\n",
       "26   九巡翁霸坐展售車？　原因好心酸                         2016-04-15 13:52:00\n",
       "32   白曉燕命案19年了　白冰冰「不能忘」                     2016-04-15 13:49:00\n",
       "34   催討債務釀衝突　要小弟持槍討債先被抓                   2016-04-15 13:47:00\n",
       "35   男翻拍女友手機對話　PO爆料公社控劈腿                   2016-04-15 13:45:00\n",
       "40   好萊塢男神好威　女友再當高齡產婦                       2016-04-15 13:40:00\n",
       "47   隋棠帶兒遠征南台灣　吃成膨皮母子檔                     2016-04-15 13:30:00\n",
       "50   伊勢谷友介掰了長澤雅美　半同居小16歲辣模               2016-04-15 13:23:00\n",
       "54   徐佳瑩開唱前驚傳失聲　急診照曝光                       2016-04-15 13:08:00\n",
       "56   製酒廢液毒害桃園福興溪　2惡老闆起訴                    2016-04-15 13:07:00\n",
       "57   中研院化學所實驗室起火　緊急撲滅無人傷亡               2016-04-15 13:06:00\n",
       "60   不滿人妻被劈腿　她竟上網揭友人姦情                     2016-04-15 13:02:00\n",
       "62   死侍續攤雙喜　花邊教主又有了！                         2016-04-15 13:00:00\n",
       "66   馬國50台人將遣中　我代表處動員馬國高層友人協助         2016-04-15 12:52:00\n",
       "74   台電維修變電箱　受百用戶臨時停電                       2016-04-15 12:41:00\n",
       "78   【暗黑城市】酒駕男廁所裝屎尿　醫院保全暴衝怒槓記者     2016-04-15 12:38:00\n",
       "84   【更新】甲仙國小拔河隊疑食物中毒　14生送醫             2016-04-15 12:34:00\n",
       "86   愛滋男師上網約炮　嘿咻百男遭判13年                     2016-04-15 12:33:00\n",
       "89   【更新】《太陽》完美結局　沉船灣之吻收視最熱           2016-04-15 12:29:00\n",
       "92   5月大女嬰疑嗆奶　母急奔診所求助                        2016-04-15 12:26:00\n",
       "109  疑濕滑自摔　保全倒臥社區流血不治                       2016-04-15 12:09:00\n",
       "111  小三通走私32顆蛋　查獲時雛鳥孵化了！                   2016-04-15 12:08:00\n",
       "115  救命錢都A！惡公僕污30萬救濟金　還推責給共犯            2016-04-15 12:05:00\n",
       "126  【更新】搶在翁啟惠返台前　檢調搜索浩鼎等7處　          2016-04-15 11:59:00\n",
       "138  兒拿舊作業改日期矇混　父暴怒猛甩耳光                   2016-04-15 11:53:00\n",
       "139  宋慧喬愛國拒代言　台大教授批韓軍「應被唾棄」           2016-04-15 11:52:00\n",
       "⋮    ⋮                                                      ⋮                  \n",
       "1361 長得不像？　男驗DNA才知2女兒都非親骨肉                 2016-04-13 19:03:00\n",
       "1362 麻衣1歲兒神力扛麻糬　台塑第4代抓周拿算盤               2016-04-13 19:03:00\n",
       "1372 【獨家】晶華酒店有內賊　竟A走客人存酒                  2016-04-13 18:56:00\n",
       "1377 【肯亞案】被中國帶走的台人　有2人是通緝犯              2016-04-13 18:47:00\n",
       "1378 【更新】MP​廷廷有新歡！李優爆「對我做可怕的事」         2016-04-13 18:46:00\n",
       "1385 《太陽》編劇金恩淑洩密　結局非爛尾                     2016-04-13 18:40:00\n",
       "1390 【有片】福爾摩斯轉職奇異博士　竟被女光頭打出魂魄       2016-04-13 18:38:00\n",
       "1408 【更新】AKB美胸女王駕到！小嶋陽菜貴氣抵台              2016-04-13 18:10:00\n",
       "1409 【更新】被同學硬戴小戒指　國二女生痛整晚               2016-04-13 18:10:00\n",
       "1410 【肯亞案】組團赴中　羅瑩雪：本來今天要出發             2016-04-13 18:10:00\n",
       "1411 【肯亞案】組團赴中　羅瑩雪：本來今天要出發             2016-04-13 18:10:00\n",
       "1417 葉毓蘭再嗆肯亞詐騙疑犯　要媒體將心比心                 2016-04-13 18:03:00\n",
       "1424 【更新】許維恩剛認愛就變心　甜喊「憲哥我愛你」         2016-04-13 17:56:00\n",
       "1446 北市工務局技工好大膽　竟收賄喝花酒驗收放水             2016-04-13 17:32:00\n",
       "1447 章子怡加入炫娃族　連發醒醒萌Q變身照                    2016-04-13 17:30:00\n",
       "1448 【民報】一生難忘媽媽的話！86獨居老翁臨終囑捐財產三金條 2016-04-13 17:30:00\n",
       "1456 「下降頭能挽回婚姻」　女控遭騙63萬元                   2016-04-13 17:12:00\n",
       "1457 假晶華董事詐騙7億　只還100萬的下場是...                2016-04-13 17:11:00\n",
       "1459 本土劇女神整形前照出土？！黑皮塌鼻引戰火               2016-04-13 17:08:00\n",
       "1460 四面佛前跳艷舞　廟方「應是信徒花錢請的」               2016-04-13 17:05:00\n",
       "1463 落單女沒先上鎖車門　遭惡男劫財劫色                     2016-04-13 17:03:00\n",
       "1466 【影片】醫院外揮刀咆哮　警方衝上前一棒打掉             2016-04-13 16:55:00\n",
       "1470 劉真女兒雙滿月　辛龍送糕「最幸福的事」                 2016-04-13 16:52:00\n",
       "1476 等著見小豬？！周揚青出沒台北信義區                     2016-04-13 16:40:00\n",
       "1481 360度搶拍法拉利　警：開違規罰300元                     2016-04-13 16:35:00\n",
       "1482 學蜘蛛人垂降進屋　糗懸3樓高半空                        2016-04-13 16:35:00\n",
       "1483 警政署前署長顏世錫腦出血　昏迷送萬芳醫院治療           2016-04-13 16:35:00\n",
       "1486 【更新】罵記者「神經病」被訴　連惠心賠50萬換和解       2016-04-13 16:32:00\n",
       "1493 歪國老闆拉鐵門性侵女客　因這事判免驅離                 2016-04-13 16:23:00\n",
       "1495 美魔安糾紛被控妨害名譽　前主播妻不起訴                 2016-04-13 16:20:00\n",
       "     category clicked\n",
       "1    社會      1754  \n",
       "11   社會      1076  \n",
       "16   娛樂      1749  \n",
       "19   社會     11886  \n",
       "21   娛樂     11696  \n",
       "26   社會      4582  \n",
       "32   娛樂      3329  \n",
       "34   社會      1154  \n",
       "35   社會      4322  \n",
       "40   娛樂      4307  \n",
       "47   娛樂      4651  \n",
       "50   娛樂      5141  \n",
       "54   娛樂     11588  \n",
       "56   社會      1989  \n",
       "57   社會      1147  \n",
       "60   社會     15328  \n",
       "62   娛樂      5209  \n",
       "66   社會      4432  \n",
       "74   社會      1011  \n",
       "78   社會      8186  \n",
       "84   社會      3747  \n",
       "86   社會     14450  \n",
       "89   娛樂     27010  \n",
       "92   社會      3263  \n",
       "109  社會      4273  \n",
       "111  社會      8332  \n",
       "115  社會      2957  \n",
       "126  社會     17249  \n",
       "138  社會      2518  \n",
       "139  娛樂     10455  \n",
       "⋮    ⋮        ⋮      \n",
       "1361 社會     214796 \n",
       "1362 娛樂      70169 \n",
       "1372 社會      59229 \n",
       "1377 社會      18045 \n",
       "1378 娛樂      40764 \n",
       "1385 娛樂      19267 \n",
       "1390 娛樂       9860 \n",
       "1408 娛樂      17874 \n",
       "1409 社會      19741 \n",
       "1410 社會      47145 \n",
       "1411 社會      47145 \n",
       "1417 社會      31267 \n",
       "1424 娛樂      42048 \n",
       "1446 社會       9292 \n",
       "1447 娛樂      18752 \n",
       "1448 社會      12091 \n",
       "1456 社會       4600 \n",
       "1457 社會       9284 \n",
       "1459 娛樂     299235 \n",
       "1460 社會      17937 \n",
       "1463 社會      18176 \n",
       "1466 社會       5940 \n",
       "1470 娛樂      32363 \n",
       "1476 娛樂      23314 \n",
       "1481 社會       7124 \n",
       "1482 社會       1562 \n",
       "1483 社會      15959 \n",
       "1486 社會       6084 \n",
       "1493 社會       9305 \n",
       "1495 社會       8163 "
      ]
     },
     "metadata": {},
     "output_type": "display_data"
    }
   ],
   "source": [
    "applenews[applenews$category %in% c(\"娛樂\",\"社會\"),]"
   ]
  },
  {
   "cell_type": "code",
   "execution_count": 230,
   "metadata": {},
   "outputs": [
    {
     "data": {
      "text/html": [
       "<table>\n",
       "<thead><tr><th scope=col>title</th><th scope=col>dt</th><th scope=col>category</th><th scope=col>clicked</th></tr></thead>\n",
       "<tbody>\n",
       "\t<tr><td>【更新】搶2.2萬彩券刮中1.4萬　沒發財還得入獄      </td><td>2016-04-15 14:32:00                               </td><td>社會                                              </td><td> 1754                                             </td></tr>\n",
       "\t<tr><td>同居人女兒熟睡　淫男伸狼爪                        </td><td>2016-04-15 14:22:00                               </td><td>社會                                              </td><td> 1076                                             </td></tr>\n",
       "\t<tr><td>澎恰恰收女弟子　拱當台灣第一名伶                  </td><td>2016-04-15 14:17:00                               </td><td>娛樂                                              </td><td> 1749                                             </td></tr>\n",
       "\t<tr><td>【驚險有片】BMW撞翻撞公車　後方機車神穿越         </td><td>2016-04-15 14:12:00                               </td><td>社會                                              </td><td>11886                                             </td></tr>\n",
       "\t<tr><td>【唱新聞】詐騙嗎？R.O.C.有CHINA但不是CHINA        </td><td>2016-04-15 14:00:00                               </td><td>娛樂                                              </td><td>11696                                             </td></tr>\n",
       "\t<tr><td>九巡翁霸坐展售車？　原因好心酸                    </td><td>2016-04-15 13:52:00                               </td><td>社會                                              </td><td> 4582                                             </td></tr>\n",
       "\t<tr><td>白曉燕命案19年了　白冰冰「不能忘」                </td><td>2016-04-15 13:49:00                               </td><td>娛樂                                              </td><td> 3329                                             </td></tr>\n",
       "\t<tr><td>催討債務釀衝突　要小弟持槍討債先被抓              </td><td>2016-04-15 13:47:00                               </td><td>社會                                              </td><td> 1154                                             </td></tr>\n",
       "\t<tr><td>男翻拍女友手機對話　PO爆料公社控劈腿              </td><td>2016-04-15 13:45:00                               </td><td>社會                                              </td><td> 4322                                             </td></tr>\n",
       "\t<tr><td>好萊塢男神好威　女友再當高齡產婦                  </td><td>2016-04-15 13:40:00                               </td><td>娛樂                                              </td><td> 4307                                             </td></tr>\n",
       "\t<tr><td>隋棠帶兒遠征南台灣　吃成膨皮母子檔                </td><td>2016-04-15 13:30:00                               </td><td>娛樂                                              </td><td> 4651                                             </td></tr>\n",
       "\t<tr><td>伊勢谷友介掰了長澤雅美　半同居小16歲辣模          </td><td>2016-04-15 13:23:00                               </td><td>娛樂                                              </td><td> 5141                                             </td></tr>\n",
       "\t<tr><td>徐佳瑩開唱前驚傳失聲　急診照曝光                  </td><td>2016-04-15 13:08:00                               </td><td>娛樂                                              </td><td>11588                                             </td></tr>\n",
       "\t<tr><td>製酒廢液毒害桃園福興溪　2惡老闆起訴               </td><td>2016-04-15 13:07:00                               </td><td>社會                                              </td><td> 1989                                             </td></tr>\n",
       "\t<tr><td>中研院化學所實驗室起火　緊急撲滅無人傷亡          </td><td>2016-04-15 13:06:00                               </td><td>社會                                              </td><td> 1147                                             </td></tr>\n",
       "\t<tr><td>不滿人妻被劈腿　她竟上網揭友人姦情                </td><td>2016-04-15 13:02:00                               </td><td>社會                                              </td><td>15328                                             </td></tr>\n",
       "\t<tr><td>死侍續攤雙喜　花邊教主又有了！                    </td><td>2016-04-15 13:00:00                               </td><td>娛樂                                              </td><td> 5209                                             </td></tr>\n",
       "\t<tr><td>馬國50台人將遣中　我代表處動員馬國高層友人協助    </td><td>2016-04-15 12:52:00                               </td><td>社會                                              </td><td> 4432                                             </td></tr>\n",
       "\t<tr><td>台電維修變電箱　受百用戶臨時停電                  </td><td>2016-04-15 12:41:00                               </td><td>社會                                              </td><td> 1011                                             </td></tr>\n",
       "\t<tr><td>【暗黑城市】酒駕男廁所裝屎尿　醫院保全暴衝怒槓記者</td><td>2016-04-15 12:38:00                               </td><td>社會                                              </td><td> 8186                                             </td></tr>\n",
       "\t<tr><td>【更新】甲仙國小拔河隊疑食物中毒　14生送醫        </td><td>2016-04-15 12:34:00                               </td><td>社會                                              </td><td> 3747                                             </td></tr>\n",
       "\t<tr><td>愛滋男師上網約炮　嘿咻百男遭判13年                </td><td>2016-04-15 12:33:00                               </td><td>社會                                              </td><td>14450                                             </td></tr>\n",
       "\t<tr><td>【更新】《太陽》完美結局　沉船灣之吻收視最熱      </td><td>2016-04-15 12:29:00                               </td><td>娛樂                                              </td><td>27010                                             </td></tr>\n",
       "\t<tr><td>5月大女嬰疑嗆奶　母急奔診所求助                   </td><td>2016-04-15 12:26:00                               </td><td>社會                                              </td><td> 3263                                             </td></tr>\n",
       "\t<tr><td>疑濕滑自摔　保全倒臥社區流血不治                  </td><td>2016-04-15 12:09:00                               </td><td>社會                                              </td><td> 4273                                             </td></tr>\n",
       "\t<tr><td>小三通走私32顆蛋　查獲時雛鳥孵化了！              </td><td>2016-04-15 12:08:00                               </td><td>社會                                              </td><td> 8332                                             </td></tr>\n",
       "\t<tr><td>救命錢都A！惡公僕污30萬救濟金　還推責給共犯       </td><td>2016-04-15 12:05:00                               </td><td>社會                                              </td><td> 2957                                             </td></tr>\n",
       "\t<tr><td>【更新】搶在翁啟惠返台前　檢調搜索浩鼎等7處　     </td><td>2016-04-15 11:59:00                               </td><td>社會                                              </td><td>17249                                             </td></tr>\n",
       "\t<tr><td>兒拿舊作業改日期矇混　父暴怒猛甩耳光              </td><td>2016-04-15 11:53:00                               </td><td>社會                                              </td><td> 2518                                             </td></tr>\n",
       "\t<tr><td>宋慧喬愛國拒代言　台大教授批韓軍「應被唾棄」      </td><td>2016-04-15 11:52:00                               </td><td>娛樂                                              </td><td>10455                                             </td></tr>\n",
       "\t<tr><td>⋮</td><td>⋮</td><td>⋮</td><td>⋮</td></tr>\n",
       "\t<tr><td>長得不像？　男驗DNA才知2女兒都非親骨肉                </td><td>2016-04-13 19:03:00                                   </td><td>社會                                                  </td><td>214796                                                </td></tr>\n",
       "\t<tr><td>麻衣1歲兒神力扛麻糬　台塑第4代抓周拿算盤              </td><td>2016-04-13 19:03:00                                   </td><td>娛樂                                                  </td><td> 70169                                                </td></tr>\n",
       "\t<tr><td>【獨家】晶華酒店有內賊　竟A走客人存酒                 </td><td>2016-04-13 18:56:00                                   </td><td>社會                                                  </td><td> 59229                                                </td></tr>\n",
       "\t<tr><td>【肯亞案】被中國帶走的台人　有2人是通緝犯             </td><td>2016-04-13 18:47:00                                   </td><td>社會                                                  </td><td> 18045                                                </td></tr>\n",
       "\t<tr><td>【更新】MP​廷廷有新歡！李優爆「對我做可怕的事」        </td><td>2016-04-13 18:46:00                                   </td><td>娛樂                                                  </td><td> 40764                                                </td></tr>\n",
       "\t<tr><td>《太陽》編劇金恩淑洩密　結局非爛尾                    </td><td>2016-04-13 18:40:00                                   </td><td>娛樂                                                  </td><td> 19267                                                </td></tr>\n",
       "\t<tr><td>【有片】福爾摩斯轉職奇異博士　竟被女光頭打出魂魄      </td><td>2016-04-13 18:38:00                                   </td><td>娛樂                                                  </td><td>  9860                                                </td></tr>\n",
       "\t<tr><td>【更新】AKB美胸女王駕到！小嶋陽菜貴氣抵台             </td><td>2016-04-13 18:10:00                                   </td><td>娛樂                                                  </td><td> 17874                                                </td></tr>\n",
       "\t<tr><td>【更新】被同學硬戴小戒指　國二女生痛整晚              </td><td>2016-04-13 18:10:00                                   </td><td>社會                                                  </td><td> 19741                                                </td></tr>\n",
       "\t<tr><td>【肯亞案】組團赴中　羅瑩雪：本來今天要出發            </td><td>2016-04-13 18:10:00                                   </td><td>社會                                                  </td><td> 47145                                                </td></tr>\n",
       "\t<tr><td>【肯亞案】組團赴中　羅瑩雪：本來今天要出發            </td><td>2016-04-13 18:10:00                                   </td><td>社會                                                  </td><td> 47145                                                </td></tr>\n",
       "\t<tr><td>葉毓蘭再嗆肯亞詐騙疑犯　要媒體將心比心                </td><td>2016-04-13 18:03:00                                   </td><td>社會                                                  </td><td> 31267                                                </td></tr>\n",
       "\t<tr><td>【更新】許維恩剛認愛就變心　甜喊「憲哥我愛你」        </td><td>2016-04-13 17:56:00                                   </td><td>娛樂                                                  </td><td> 42048                                                </td></tr>\n",
       "\t<tr><td>北市工務局技工好大膽　竟收賄喝花酒驗收放水            </td><td>2016-04-13 17:32:00                                   </td><td>社會                                                  </td><td>  9292                                                </td></tr>\n",
       "\t<tr><td>章子怡加入炫娃族　連發醒醒萌Q變身照                   </td><td>2016-04-13 17:30:00                                   </td><td>娛樂                                                  </td><td> 18752                                                </td></tr>\n",
       "\t<tr><td>【民報】一生難忘媽媽的話！86獨居老翁臨終囑捐財產三金條</td><td>2016-04-13 17:30:00                                   </td><td>社會                                                  </td><td> 12091                                                </td></tr>\n",
       "\t<tr><td>「下降頭能挽回婚姻」　女控遭騙63萬元                  </td><td>2016-04-13 17:12:00                                   </td><td>社會                                                  </td><td>  4600                                                </td></tr>\n",
       "\t<tr><td>假晶華董事詐騙7億　只還100萬的下場是...               </td><td>2016-04-13 17:11:00                                   </td><td>社會                                                  </td><td>  9284                                                </td></tr>\n",
       "\t<tr><td>本土劇女神整形前照出土？！黑皮塌鼻引戰火              </td><td>2016-04-13 17:08:00                                   </td><td>娛樂                                                  </td><td>299235                                                </td></tr>\n",
       "\t<tr><td>四面佛前跳艷舞　廟方「應是信徒花錢請的」              </td><td>2016-04-13 17:05:00                                   </td><td>社會                                                  </td><td> 17937                                                </td></tr>\n",
       "\t<tr><td>落單女沒先上鎖車門　遭惡男劫財劫色                    </td><td>2016-04-13 17:03:00                                   </td><td>社會                                                  </td><td> 18176                                                </td></tr>\n",
       "\t<tr><td>【影片】醫院外揮刀咆哮　警方衝上前一棒打掉            </td><td>2016-04-13 16:55:00                                   </td><td>社會                                                  </td><td>  5940                                                </td></tr>\n",
       "\t<tr><td>劉真女兒雙滿月　辛龍送糕「最幸福的事」                </td><td>2016-04-13 16:52:00                                   </td><td>娛樂                                                  </td><td> 32363                                                </td></tr>\n",
       "\t<tr><td>等著見小豬？！周揚青出沒台北信義區                    </td><td>2016-04-13 16:40:00                                   </td><td>娛樂                                                  </td><td> 23314                                                </td></tr>\n",
       "\t<tr><td>360度搶拍法拉利　警：開違規罰300元                    </td><td>2016-04-13 16:35:00                                   </td><td>社會                                                  </td><td>  7124                                                </td></tr>\n",
       "\t<tr><td>學蜘蛛人垂降進屋　糗懸3樓高半空                       </td><td>2016-04-13 16:35:00                                   </td><td>社會                                                  </td><td>  1562                                                </td></tr>\n",
       "\t<tr><td>警政署前署長顏世錫腦出血　昏迷送萬芳醫院治療          </td><td>2016-04-13 16:35:00                                   </td><td>社會                                                  </td><td> 15959                                                </td></tr>\n",
       "\t<tr><td>【更新】罵記者「神經病」被訴　連惠心賠50萬換和解      </td><td>2016-04-13 16:32:00                                   </td><td>社會                                                  </td><td>  6084                                                </td></tr>\n",
       "\t<tr><td>歪國老闆拉鐵門性侵女客　因這事判免驅離                </td><td>2016-04-13 16:23:00                                   </td><td>社會                                                  </td><td>  9305                                                </td></tr>\n",
       "\t<tr><td>美魔安糾紛被控妨害名譽　前主播妻不起訴                </td><td>2016-04-13 16:20:00                                   </td><td>社會                                                  </td><td>  8163                                                </td></tr>\n",
       "</tbody>\n",
       "</table>\n"
      ],
      "text/latex": [
       "\\begin{tabular}{r|llll}\n",
       " title & dt & category & clicked\\\\\n",
       "\\hline\n",
       "\t 【更新】搶2.2萬彩券刮中1.4萬　沒發財還得入獄       & 2016-04-15 14:32:00                                & 社會                                               &  1754                                             \\\\\n",
       "\t 同居人女兒熟睡　淫男伸狼爪                         & 2016-04-15 14:22:00                                & 社會                                               &  1076                                             \\\\\n",
       "\t 澎恰恰收女弟子　拱當台灣第一名伶                   & 2016-04-15 14:17:00                                & 娛樂                                               &  1749                                             \\\\\n",
       "\t 【驚險有片】BMW撞翻撞公車　後方機車神穿越          & 2016-04-15 14:12:00                                & 社會                                               & 11886                                             \\\\\n",
       "\t 【唱新聞】詐騙嗎？R.O.C.有CHINA但不是CHINA         & 2016-04-15 14:00:00                                & 娛樂                                               & 11696                                             \\\\\n",
       "\t 九巡翁霸坐展售車？　原因好心酸                     & 2016-04-15 13:52:00                                & 社會                                               &  4582                                             \\\\\n",
       "\t 白曉燕命案19年了　白冰冰「不能忘」                 & 2016-04-15 13:49:00                                & 娛樂                                               &  3329                                             \\\\\n",
       "\t 催討債務釀衝突　要小弟持槍討債先被抓               & 2016-04-15 13:47:00                                & 社會                                               &  1154                                             \\\\\n",
       "\t 男翻拍女友手機對話　PO爆料公社控劈腿               & 2016-04-15 13:45:00                                & 社會                                               &  4322                                             \\\\\n",
       "\t 好萊塢男神好威　女友再當高齡產婦                   & 2016-04-15 13:40:00                                & 娛樂                                               &  4307                                             \\\\\n",
       "\t 隋棠帶兒遠征南台灣　吃成膨皮母子檔                 & 2016-04-15 13:30:00                                & 娛樂                                               &  4651                                             \\\\\n",
       "\t 伊勢谷友介掰了長澤雅美　半同居小16歲辣模           & 2016-04-15 13:23:00                                & 娛樂                                               &  5141                                             \\\\\n",
       "\t 徐佳瑩開唱前驚傳失聲　急診照曝光                   & 2016-04-15 13:08:00                                & 娛樂                                               & 11588                                             \\\\\n",
       "\t 製酒廢液毒害桃園福興溪　2惡老闆起訴                & 2016-04-15 13:07:00                                & 社會                                               &  1989                                             \\\\\n",
       "\t 中研院化學所實驗室起火　緊急撲滅無人傷亡           & 2016-04-15 13:06:00                                & 社會                                               &  1147                                             \\\\\n",
       "\t 不滿人妻被劈腿　她竟上網揭友人姦情                 & 2016-04-15 13:02:00                                & 社會                                               & 15328                                             \\\\\n",
       "\t 死侍續攤雙喜　花邊教主又有了！                     & 2016-04-15 13:00:00                                & 娛樂                                               &  5209                                             \\\\\n",
       "\t 馬國50台人將遣中　我代表處動員馬國高層友人協助     & 2016-04-15 12:52:00                                & 社會                                               &  4432                                             \\\\\n",
       "\t 台電維修變電箱　受百用戶臨時停電                   & 2016-04-15 12:41:00                                & 社會                                               &  1011                                             \\\\\n",
       "\t 【暗黑城市】酒駕男廁所裝屎尿　醫院保全暴衝怒槓記者 & 2016-04-15 12:38:00                                & 社會                                               &  8186                                             \\\\\n",
       "\t 【更新】甲仙國小拔河隊疑食物中毒　14生送醫         & 2016-04-15 12:34:00                                & 社會                                               &  3747                                             \\\\\n",
       "\t 愛滋男師上網約炮　嘿咻百男遭判13年                 & 2016-04-15 12:33:00                                & 社會                                               & 14450                                             \\\\\n",
       "\t 【更新】《太陽》完美結局　沉船灣之吻收視最熱       & 2016-04-15 12:29:00                                & 娛樂                                               & 27010                                             \\\\\n",
       "\t 5月大女嬰疑嗆奶　母急奔診所求助                    & 2016-04-15 12:26:00                                & 社會                                               &  3263                                             \\\\\n",
       "\t 疑濕滑自摔　保全倒臥社區流血不治                   & 2016-04-15 12:09:00                                & 社會                                               &  4273                                             \\\\\n",
       "\t 小三通走私32顆蛋　查獲時雛鳥孵化了！               & 2016-04-15 12:08:00                                & 社會                                               &  8332                                             \\\\\n",
       "\t 救命錢都A！惡公僕污30萬救濟金　還推責給共犯        & 2016-04-15 12:05:00                                & 社會                                               &  2957                                             \\\\\n",
       "\t 【更新】搶在翁啟惠返台前　檢調搜索浩鼎等7處　      & 2016-04-15 11:59:00                                & 社會                                               & 17249                                             \\\\\n",
       "\t 兒拿舊作業改日期矇混　父暴怒猛甩耳光               & 2016-04-15 11:53:00                                & 社會                                               &  2518                                             \\\\\n",
       "\t 宋慧喬愛國拒代言　台大教授批韓軍「應被唾棄」       & 2016-04-15 11:52:00                                & 娛樂                                               & 10455                                             \\\\\n",
       "\t ⋮ & ⋮ & ⋮ & ⋮\\\\\n",
       "\t 長得不像？　男驗DNA才知2女兒都非親骨肉                 & 2016-04-13 19:03:00                                    & 社會                                                   & 214796                                                \\\\\n",
       "\t 麻衣1歲兒神力扛麻糬　台塑第4代抓周拿算盤               & 2016-04-13 19:03:00                                    & 娛樂                                                   &  70169                                                \\\\\n",
       "\t 【獨家】晶華酒店有內賊　竟A走客人存酒                  & 2016-04-13 18:56:00                                    & 社會                                                   &  59229                                                \\\\\n",
       "\t 【肯亞案】被中國帶走的台人　有2人是通緝犯              & 2016-04-13 18:47:00                                    & 社會                                                   &  18045                                                \\\\\n",
       "\t 【更新】MP​廷廷有新歡！李優爆「對我做可怕的事」         & 2016-04-13 18:46:00                                    & 娛樂                                                   &  40764                                                \\\\\n",
       "\t 《太陽》編劇金恩淑洩密　結局非爛尾                     & 2016-04-13 18:40:00                                    & 娛樂                                                   &  19267                                                \\\\\n",
       "\t 【有片】福爾摩斯轉職奇異博士　竟被女光頭打出魂魄       & 2016-04-13 18:38:00                                    & 娛樂                                                   &   9860                                                \\\\\n",
       "\t 【更新】AKB美胸女王駕到！小嶋陽菜貴氣抵台              & 2016-04-13 18:10:00                                    & 娛樂                                                   &  17874                                                \\\\\n",
       "\t 【更新】被同學硬戴小戒指　國二女生痛整晚               & 2016-04-13 18:10:00                                    & 社會                                                   &  19741                                                \\\\\n",
       "\t 【肯亞案】組團赴中　羅瑩雪：本來今天要出發             & 2016-04-13 18:10:00                                    & 社會                                                   &  47145                                                \\\\\n",
       "\t 【肯亞案】組團赴中　羅瑩雪：本來今天要出發             & 2016-04-13 18:10:00                                    & 社會                                                   &  47145                                                \\\\\n",
       "\t 葉毓蘭再嗆肯亞詐騙疑犯　要媒體將心比心                 & 2016-04-13 18:03:00                                    & 社會                                                   &  31267                                                \\\\\n",
       "\t 【更新】許維恩剛認愛就變心　甜喊「憲哥我愛你」         & 2016-04-13 17:56:00                                    & 娛樂                                                   &  42048                                                \\\\\n",
       "\t 北市工務局技工好大膽　竟收賄喝花酒驗收放水             & 2016-04-13 17:32:00                                    & 社會                                                   &   9292                                                \\\\\n",
       "\t 章子怡加入炫娃族　連發醒醒萌Q變身照                    & 2016-04-13 17:30:00                                    & 娛樂                                                   &  18752                                                \\\\\n",
       "\t 【民報】一生難忘媽媽的話！86獨居老翁臨終囑捐財產三金條 & 2016-04-13 17:30:00                                    & 社會                                                   &  12091                                                \\\\\n",
       "\t 「下降頭能挽回婚姻」　女控遭騙63萬元                   & 2016-04-13 17:12:00                                    & 社會                                                   &   4600                                                \\\\\n",
       "\t 假晶華董事詐騙7億　只還100萬的下場是...                & 2016-04-13 17:11:00                                    & 社會                                                   &   9284                                                \\\\\n",
       "\t 本土劇女神整形前照出土？！黑皮塌鼻引戰火               & 2016-04-13 17:08:00                                    & 娛樂                                                   & 299235                                                \\\\\n",
       "\t 四面佛前跳艷舞　廟方「應是信徒花錢請的」               & 2016-04-13 17:05:00                                    & 社會                                                   &  17937                                                \\\\\n",
       "\t 落單女沒先上鎖車門　遭惡男劫財劫色                     & 2016-04-13 17:03:00                                    & 社會                                                   &  18176                                                \\\\\n",
       "\t 【影片】醫院外揮刀咆哮　警方衝上前一棒打掉             & 2016-04-13 16:55:00                                    & 社會                                                   &   5940                                                \\\\\n",
       "\t 劉真女兒雙滿月　辛龍送糕「最幸福的事」                 & 2016-04-13 16:52:00                                    & 娛樂                                                   &  32363                                                \\\\\n",
       "\t 等著見小豬？！周揚青出沒台北信義區                     & 2016-04-13 16:40:00                                    & 娛樂                                                   &  23314                                                \\\\\n",
       "\t 360度搶拍法拉利　警：開違規罰300元                     & 2016-04-13 16:35:00                                    & 社會                                                   &   7124                                                \\\\\n",
       "\t 學蜘蛛人垂降進屋　糗懸3樓高半空                        & 2016-04-13 16:35:00                                    & 社會                                                   &   1562                                                \\\\\n",
       "\t 警政署前署長顏世錫腦出血　昏迷送萬芳醫院治療           & 2016-04-13 16:35:00                                    & 社會                                                   &  15959                                                \\\\\n",
       "\t 【更新】罵記者「神經病」被訴　連惠心賠50萬換和解       & 2016-04-13 16:32:00                                    & 社會                                                   &   6084                                                \\\\\n",
       "\t 歪國老闆拉鐵門性侵女客　因這事判免驅離                 & 2016-04-13 16:23:00                                    & 社會                                                   &   9305                                                \\\\\n",
       "\t 美魔安糾紛被控妨害名譽　前主播妻不起訴                 & 2016-04-13 16:20:00                                    & 社會                                                   &   8163                                                \\\\\n",
       "\\end{tabular}\n"
      ],
      "text/markdown": [
       "\n",
       "title | dt | category | clicked | \n",
       "|---|---|---|---|---|---|---|---|---|---|---|---|---|---|---|---|---|---|---|---|---|---|---|---|---|---|---|---|---|---|---|---|---|---|---|---|---|---|---|---|---|---|---|---|---|---|---|---|---|---|---|---|---|---|---|---|---|---|---|---|---|\n",
       "| 【更新】搶2.2萬彩券刮中1.4萬　沒發財還得入獄       | 2016-04-15 14:32:00                                | 社會                                               |  1754                                              | \n",
       "| 同居人女兒熟睡　淫男伸狼爪                         | 2016-04-15 14:22:00                                | 社會                                               |  1076                                              | \n",
       "| 澎恰恰收女弟子　拱當台灣第一名伶                   | 2016-04-15 14:17:00                                | 娛樂                                               |  1749                                              | \n",
       "| 【驚險有片】BMW撞翻撞公車　後方機車神穿越          | 2016-04-15 14:12:00                                | 社會                                               | 11886                                              | \n",
       "| 【唱新聞】詐騙嗎？R.O.C.有CHINA但不是CHINA         | 2016-04-15 14:00:00                                | 娛樂                                               | 11696                                              | \n",
       "| 九巡翁霸坐展售車？　原因好心酸                     | 2016-04-15 13:52:00                                | 社會                                               |  4582                                              | \n",
       "| 白曉燕命案19年了　白冰冰「不能忘」                 | 2016-04-15 13:49:00                                | 娛樂                                               |  3329                                              | \n",
       "| 催討債務釀衝突　要小弟持槍討債先被抓               | 2016-04-15 13:47:00                                | 社會                                               |  1154                                              | \n",
       "| 男翻拍女友手機對話　PO爆料公社控劈腿               | 2016-04-15 13:45:00                                | 社會                                               |  4322                                              | \n",
       "| 好萊塢男神好威　女友再當高齡產婦                   | 2016-04-15 13:40:00                                | 娛樂                                               |  4307                                              | \n",
       "| 隋棠帶兒遠征南台灣　吃成膨皮母子檔                 | 2016-04-15 13:30:00                                | 娛樂                                               |  4651                                              | \n",
       "| 伊勢谷友介掰了長澤雅美　半同居小16歲辣模           | 2016-04-15 13:23:00                                | 娛樂                                               |  5141                                              | \n",
       "| 徐佳瑩開唱前驚傳失聲　急診照曝光                   | 2016-04-15 13:08:00                                | 娛樂                                               | 11588                                              | \n",
       "| 製酒廢液毒害桃園福興溪　2惡老闆起訴                | 2016-04-15 13:07:00                                | 社會                                               |  1989                                              | \n",
       "| 中研院化學所實驗室起火　緊急撲滅無人傷亡           | 2016-04-15 13:06:00                                | 社會                                               |  1147                                              | \n",
       "| 不滿人妻被劈腿　她竟上網揭友人姦情                 | 2016-04-15 13:02:00                                | 社會                                               | 15328                                              | \n",
       "| 死侍續攤雙喜　花邊教主又有了！                     | 2016-04-15 13:00:00                                | 娛樂                                               |  5209                                              | \n",
       "| 馬國50台人將遣中　我代表處動員馬國高層友人協助     | 2016-04-15 12:52:00                                | 社會                                               |  4432                                              | \n",
       "| 台電維修變電箱　受百用戶臨時停電                   | 2016-04-15 12:41:00                                | 社會                                               |  1011                                              | \n",
       "| 【暗黑城市】酒駕男廁所裝屎尿　醫院保全暴衝怒槓記者 | 2016-04-15 12:38:00                                | 社會                                               |  8186                                              | \n",
       "| 【更新】甲仙國小拔河隊疑食物中毒　14生送醫         | 2016-04-15 12:34:00                                | 社會                                               |  3747                                              | \n",
       "| 愛滋男師上網約炮　嘿咻百男遭判13年                 | 2016-04-15 12:33:00                                | 社會                                               | 14450                                              | \n",
       "| 【更新】《太陽》完美結局　沉船灣之吻收視最熱       | 2016-04-15 12:29:00                                | 娛樂                                               | 27010                                              | \n",
       "| 5月大女嬰疑嗆奶　母急奔診所求助                    | 2016-04-15 12:26:00                                | 社會                                               |  3263                                              | \n",
       "| 疑濕滑自摔　保全倒臥社區流血不治                   | 2016-04-15 12:09:00                                | 社會                                               |  4273                                              | \n",
       "| 小三通走私32顆蛋　查獲時雛鳥孵化了！               | 2016-04-15 12:08:00                                | 社會                                               |  8332                                              | \n",
       "| 救命錢都A！惡公僕污30萬救濟金　還推責給共犯        | 2016-04-15 12:05:00                                | 社會                                               |  2957                                              | \n",
       "| 【更新】搶在翁啟惠返台前　檢調搜索浩鼎等7處　      | 2016-04-15 11:59:00                                | 社會                                               | 17249                                              | \n",
       "| 兒拿舊作業改日期矇混　父暴怒猛甩耳光               | 2016-04-15 11:53:00                                | 社會                                               |  2518                                              | \n",
       "| 宋慧喬愛國拒代言　台大教授批韓軍「應被唾棄」       | 2016-04-15 11:52:00                                | 娛樂                                               | 10455                                              | \n",
       "| ⋮ | ⋮ | ⋮ | ⋮ | \n",
       "| 長得不像？　男驗DNA才知2女兒都非親骨肉                 | 2016-04-13 19:03:00                                    | 社會                                                   | 214796                                                 | \n",
       "| 麻衣1歲兒神力扛麻糬　台塑第4代抓周拿算盤               | 2016-04-13 19:03:00                                    | 娛樂                                                   |  70169                                                 | \n",
       "| 【獨家】晶華酒店有內賊　竟A走客人存酒                  | 2016-04-13 18:56:00                                    | 社會                                                   |  59229                                                 | \n",
       "| 【肯亞案】被中國帶走的台人　有2人是通緝犯              | 2016-04-13 18:47:00                                    | 社會                                                   |  18045                                                 | \n",
       "| 【更新】MP​廷廷有新歡！李優爆「對我做可怕的事」         | 2016-04-13 18:46:00                                    | 娛樂                                                   |  40764                                                 | \n",
       "| 《太陽》編劇金恩淑洩密　結局非爛尾                     | 2016-04-13 18:40:00                                    | 娛樂                                                   |  19267                                                 | \n",
       "| 【有片】福爾摩斯轉職奇異博士　竟被女光頭打出魂魄       | 2016-04-13 18:38:00                                    | 娛樂                                                   |   9860                                                 | \n",
       "| 【更新】AKB美胸女王駕到！小嶋陽菜貴氣抵台              | 2016-04-13 18:10:00                                    | 娛樂                                                   |  17874                                                 | \n",
       "| 【更新】被同學硬戴小戒指　國二女生痛整晚               | 2016-04-13 18:10:00                                    | 社會                                                   |  19741                                                 | \n",
       "| 【肯亞案】組團赴中　羅瑩雪：本來今天要出發             | 2016-04-13 18:10:00                                    | 社會                                                   |  47145                                                 | \n",
       "| 【肯亞案】組團赴中　羅瑩雪：本來今天要出發             | 2016-04-13 18:10:00                                    | 社會                                                   |  47145                                                 | \n",
       "| 葉毓蘭再嗆肯亞詐騙疑犯　要媒體將心比心                 | 2016-04-13 18:03:00                                    | 社會                                                   |  31267                                                 | \n",
       "| 【更新】許維恩剛認愛就變心　甜喊「憲哥我愛你」         | 2016-04-13 17:56:00                                    | 娛樂                                                   |  42048                                                 | \n",
       "| 北市工務局技工好大膽　竟收賄喝花酒驗收放水             | 2016-04-13 17:32:00                                    | 社會                                                   |   9292                                                 | \n",
       "| 章子怡加入炫娃族　連發醒醒萌Q變身照                    | 2016-04-13 17:30:00                                    | 娛樂                                                   |  18752                                                 | \n",
       "| 【民報】一生難忘媽媽的話！86獨居老翁臨終囑捐財產三金條 | 2016-04-13 17:30:00                                    | 社會                                                   |  12091                                                 | \n",
       "| 「下降頭能挽回婚姻」　女控遭騙63萬元                   | 2016-04-13 17:12:00                                    | 社會                                                   |   4600                                                 | \n",
       "| 假晶華董事詐騙7億　只還100萬的下場是...                | 2016-04-13 17:11:00                                    | 社會                                                   |   9284                                                 | \n",
       "| 本土劇女神整形前照出土？！黑皮塌鼻引戰火               | 2016-04-13 17:08:00                                    | 娛樂                                                   | 299235                                                 | \n",
       "| 四面佛前跳艷舞　廟方「應是信徒花錢請的」               | 2016-04-13 17:05:00                                    | 社會                                                   |  17937                                                 | \n",
       "| 落單女沒先上鎖車門　遭惡男劫財劫色                     | 2016-04-13 17:03:00                                    | 社會                                                   |  18176                                                 | \n",
       "| 【影片】醫院外揮刀咆哮　警方衝上前一棒打掉             | 2016-04-13 16:55:00                                    | 社會                                                   |   5940                                                 | \n",
       "| 劉真女兒雙滿月　辛龍送糕「最幸福的事」                 | 2016-04-13 16:52:00                                    | 娛樂                                                   |  32363                                                 | \n",
       "| 等著見小豬？！周揚青出沒台北信義區                     | 2016-04-13 16:40:00                                    | 娛樂                                                   |  23314                                                 | \n",
       "| 360度搶拍法拉利　警：開違規罰300元                     | 2016-04-13 16:35:00                                    | 社會                                                   |   7124                                                 | \n",
       "| 學蜘蛛人垂降進屋　糗懸3樓高半空                        | 2016-04-13 16:35:00                                    | 社會                                                   |   1562                                                 | \n",
       "| 警政署前署長顏世錫腦出血　昏迷送萬芳醫院治療           | 2016-04-13 16:35:00                                    | 社會                                                   |  15959                                                 | \n",
       "| 【更新】罵記者「神經病」被訴　連惠心賠50萬換和解       | 2016-04-13 16:32:00                                    | 社會                                                   |   6084                                                 | \n",
       "| 歪國老闆拉鐵門性侵女客　因這事判免驅離                 | 2016-04-13 16:23:00                                    | 社會                                                   |   9305                                                 | \n",
       "| 美魔安糾紛被控妨害名譽　前主播妻不起訴                 | 2016-04-13 16:20:00                                    | 社會                                                   |   8163                                                 | \n",
       "\n",
       "\n"
      ],
      "text/plain": [
       "    title                                                  dt                 \n",
       "1   【更新】搶2.2萬彩券刮中1.4萬　沒發財還得入獄           2016-04-15 14:32:00\n",
       "2   同居人女兒熟睡　淫男伸狼爪                             2016-04-15 14:22:00\n",
       "3   澎恰恰收女弟子　拱當台灣第一名伶                       2016-04-15 14:17:00\n",
       "4   【驚險有片】BMW撞翻撞公車　後方機車神穿越              2016-04-15 14:12:00\n",
       "5   【唱新聞】詐騙嗎？R.O.C.有CHINA但不是CHINA             2016-04-15 14:00:00\n",
       "6   九巡翁霸坐展售車？　原因好心酸                         2016-04-15 13:52:00\n",
       "7   白曉燕命案19年了　白冰冰「不能忘」                     2016-04-15 13:49:00\n",
       "8   催討債務釀衝突　要小弟持槍討債先被抓                   2016-04-15 13:47:00\n",
       "9   男翻拍女友手機對話　PO爆料公社控劈腿                   2016-04-15 13:45:00\n",
       "10  好萊塢男神好威　女友再當高齡產婦                       2016-04-15 13:40:00\n",
       "11  隋棠帶兒遠征南台灣　吃成膨皮母子檔                     2016-04-15 13:30:00\n",
       "12  伊勢谷友介掰了長澤雅美　半同居小16歲辣模               2016-04-15 13:23:00\n",
       "13  徐佳瑩開唱前驚傳失聲　急診照曝光                       2016-04-15 13:08:00\n",
       "14  製酒廢液毒害桃園福興溪　2惡老闆起訴                    2016-04-15 13:07:00\n",
       "15  中研院化學所實驗室起火　緊急撲滅無人傷亡               2016-04-15 13:06:00\n",
       "16  不滿人妻被劈腿　她竟上網揭友人姦情                     2016-04-15 13:02:00\n",
       "17  死侍續攤雙喜　花邊教主又有了！                         2016-04-15 13:00:00\n",
       "18  馬國50台人將遣中　我代表處動員馬國高層友人協助         2016-04-15 12:52:00\n",
       "19  台電維修變電箱　受百用戶臨時停電                       2016-04-15 12:41:00\n",
       "20  【暗黑城市】酒駕男廁所裝屎尿　醫院保全暴衝怒槓記者     2016-04-15 12:38:00\n",
       "21  【更新】甲仙國小拔河隊疑食物中毒　14生送醫             2016-04-15 12:34:00\n",
       "22  愛滋男師上網約炮　嘿咻百男遭判13年                     2016-04-15 12:33:00\n",
       "23  【更新】《太陽》完美結局　沉船灣之吻收視最熱           2016-04-15 12:29:00\n",
       "24  5月大女嬰疑嗆奶　母急奔診所求助                        2016-04-15 12:26:00\n",
       "25  疑濕滑自摔　保全倒臥社區流血不治                       2016-04-15 12:09:00\n",
       "26  小三通走私32顆蛋　查獲時雛鳥孵化了！                   2016-04-15 12:08:00\n",
       "27  救命錢都A！惡公僕污30萬救濟金　還推責給共犯            2016-04-15 12:05:00\n",
       "28  【更新】搶在翁啟惠返台前　檢調搜索浩鼎等7處　          2016-04-15 11:59:00\n",
       "29  兒拿舊作業改日期矇混　父暴怒猛甩耳光                   2016-04-15 11:53:00\n",
       "30  宋慧喬愛國拒代言　台大教授批韓軍「應被唾棄」           2016-04-15 11:52:00\n",
       "⋮   ⋮                                                      ⋮                  \n",
       "278 長得不像？　男驗DNA才知2女兒都非親骨肉                 2016-04-13 19:03:00\n",
       "279 麻衣1歲兒神力扛麻糬　台塑第4代抓周拿算盤               2016-04-13 19:03:00\n",
       "280 【獨家】晶華酒店有內賊　竟A走客人存酒                  2016-04-13 18:56:00\n",
       "281 【肯亞案】被中國帶走的台人　有2人是通緝犯              2016-04-13 18:47:00\n",
       "282 【更新】MP​廷廷有新歡！李優爆「對我做可怕的事」         2016-04-13 18:46:00\n",
       "283 《太陽》編劇金恩淑洩密　結局非爛尾                     2016-04-13 18:40:00\n",
       "284 【有片】福爾摩斯轉職奇異博士　竟被女光頭打出魂魄       2016-04-13 18:38:00\n",
       "285 【更新】AKB美胸女王駕到！小嶋陽菜貴氣抵台              2016-04-13 18:10:00\n",
       "286 【更新】被同學硬戴小戒指　國二女生痛整晚               2016-04-13 18:10:00\n",
       "287 【肯亞案】組團赴中　羅瑩雪：本來今天要出發             2016-04-13 18:10:00\n",
       "288 【肯亞案】組團赴中　羅瑩雪：本來今天要出發             2016-04-13 18:10:00\n",
       "289 葉毓蘭再嗆肯亞詐騙疑犯　要媒體將心比心                 2016-04-13 18:03:00\n",
       "290 【更新】許維恩剛認愛就變心　甜喊「憲哥我愛你」         2016-04-13 17:56:00\n",
       "291 北市工務局技工好大膽　竟收賄喝花酒驗收放水             2016-04-13 17:32:00\n",
       "292 章子怡加入炫娃族　連發醒醒萌Q變身照                    2016-04-13 17:30:00\n",
       "293 【民報】一生難忘媽媽的話！86獨居老翁臨終囑捐財產三金條 2016-04-13 17:30:00\n",
       "294 「下降頭能挽回婚姻」　女控遭騙63萬元                   2016-04-13 17:12:00\n",
       "295 假晶華董事詐騙7億　只還100萬的下場是...                2016-04-13 17:11:00\n",
       "296 本土劇女神整形前照出土？！黑皮塌鼻引戰火               2016-04-13 17:08:00\n",
       "297 四面佛前跳艷舞　廟方「應是信徒花錢請的」               2016-04-13 17:05:00\n",
       "298 落單女沒先上鎖車門　遭惡男劫財劫色                     2016-04-13 17:03:00\n",
       "299 【影片】醫院外揮刀咆哮　警方衝上前一棒打掉             2016-04-13 16:55:00\n",
       "300 劉真女兒雙滿月　辛龍送糕「最幸福的事」                 2016-04-13 16:52:00\n",
       "301 等著見小豬？！周揚青出沒台北信義區                     2016-04-13 16:40:00\n",
       "302 360度搶拍法拉利　警：開違規罰300元                     2016-04-13 16:35:00\n",
       "303 學蜘蛛人垂降進屋　糗懸3樓高半空                        2016-04-13 16:35:00\n",
       "304 警政署前署長顏世錫腦出血　昏迷送萬芳醫院治療           2016-04-13 16:35:00\n",
       "305 【更新】罵記者「神經病」被訴　連惠心賠50萬換和解       2016-04-13 16:32:00\n",
       "306 歪國老闆拉鐵門性侵女客　因這事判免驅離                 2016-04-13 16:23:00\n",
       "307 美魔安糾紛被控妨害名譽　前主播妻不起訴                 2016-04-13 16:20:00\n",
       "    category clicked\n",
       "1   社會      1754  \n",
       "2   社會      1076  \n",
       "3   娛樂      1749  \n",
       "4   社會     11886  \n",
       "5   娛樂     11696  \n",
       "6   社會      4582  \n",
       "7   娛樂      3329  \n",
       "8   社會      1154  \n",
       "9   社會      4322  \n",
       "10  娛樂      4307  \n",
       "11  娛樂      4651  \n",
       "12  娛樂      5141  \n",
       "13  娛樂     11588  \n",
       "14  社會      1989  \n",
       "15  社會      1147  \n",
       "16  社會     15328  \n",
       "17  娛樂      5209  \n",
       "18  社會      4432  \n",
       "19  社會      1011  \n",
       "20  社會      8186  \n",
       "21  社會      3747  \n",
       "22  社會     14450  \n",
       "23  娛樂     27010  \n",
       "24  社會      3263  \n",
       "25  社會      4273  \n",
       "26  社會      8332  \n",
       "27  社會      2957  \n",
       "28  社會     17249  \n",
       "29  社會      2518  \n",
       "30  娛樂     10455  \n",
       "⋮   ⋮        ⋮      \n",
       "278 社會     214796 \n",
       "279 娛樂      70169 \n",
       "280 社會      59229 \n",
       "281 社會      18045 \n",
       "282 娛樂      40764 \n",
       "283 娛樂      19267 \n",
       "284 娛樂       9860 \n",
       "285 娛樂      17874 \n",
       "286 社會      19741 \n",
       "287 社會      47145 \n",
       "288 社會      47145 \n",
       "289 社會      31267 \n",
       "290 娛樂      42048 \n",
       "291 社會       9292 \n",
       "292 娛樂      18752 \n",
       "293 社會      12091 \n",
       "294 社會       4600 \n",
       "295 社會       9284 \n",
       "296 娛樂     299235 \n",
       "297 社會      17937 \n",
       "298 社會      18176 \n",
       "299 社會       5940 \n",
       "300 娛樂      32363 \n",
       "301 娛樂      23314 \n",
       "302 社會       7124 \n",
       "303 社會       1562 \n",
       "304 社會      15959 \n",
       "305 社會       6084 \n",
       "306 社會       9305 \n",
       "307 社會       8163 "
      ]
     },
     "metadata": {},
     "output_type": "display_data"
    }
   ],
   "source": [
    "filter(applenews,category %in% c(\"娛樂\",\"社會\"))"
   ]
  },
  {
   "cell_type": "code",
   "execution_count": 231,
   "metadata": {
    "scrolled": true
   },
   "outputs": [
    {
     "data": {
      "text/html": [
       "<table>\n",
       "<thead><tr><th scope=col>dt</th><th scope=col>clicked</th><th scope=col>category</th></tr></thead>\n",
       "<tbody>\n",
       "\t<tr><td>2016-04-15 14:32:00</td><td> 1754              </td><td>社會               </td></tr>\n",
       "\t<tr><td>2016-04-15 14:32:00</td><td>    0              </td><td>國際               </td></tr>\n",
       "\t<tr><td>2016-04-15 14:31:00</td><td>    0              </td><td>地產               </td></tr>\n",
       "\t<tr><td>2016-04-15 14:30:00</td><td>    0              </td><td>國際               </td></tr>\n",
       "\t<tr><td>2016-04-15 14:28:00</td><td>  311              </td><td>時尚               </td></tr>\n",
       "\t<tr><td>2016-04-15 14:28:00</td><td>   24              </td><td>財經               </td></tr>\n",
       "\t<tr><td>2016-04-15 14:25:00</td><td>   20              </td><td>生活               </td></tr>\n",
       "\t<tr><td>2016-04-15 14:24:00</td><td>  314              </td><td>生活               </td></tr>\n",
       "\t<tr><td>2016-04-15 14:24:00</td><td>   27              </td><td>生活               </td></tr>\n",
       "\t<tr><td>2016-04-15 14:23:00</td><td>  308              </td><td>生活               </td></tr>\n",
       "\t<tr><td>2016-04-15 14:22:00</td><td> 1076              </td><td>社會               </td></tr>\n",
       "\t<tr><td>2016-04-15 14:21:00</td><td>  775              </td><td>生活               </td></tr>\n",
       "\t<tr><td>2016-04-15 14:19:00</td><td>   92              </td><td>財經               </td></tr>\n",
       "\t<tr><td>2016-04-15 14:19:00</td><td>12347              </td><td>生活               </td></tr>\n",
       "\t<tr><td>2016-04-15 14:18:00</td><td> 1312              </td><td>生活               </td></tr>\n",
       "\t<tr><td>2016-04-15 14:17:00</td><td> 1749              </td><td>娛樂               </td></tr>\n",
       "\t<tr><td>2016-04-15 14:15:00</td><td> 1005              </td><td>搜奇               </td></tr>\n",
       "\t<tr><td>2016-04-15 14:15:00</td><td>  221              </td><td>政治               </td></tr>\n",
       "\t<tr><td>2016-04-15 14:12:00</td><td>11886              </td><td>社會               </td></tr>\n",
       "\t<tr><td>2016-04-15 14:10:00</td><td> 1629              </td><td>生活               </td></tr>\n",
       "\t<tr><td>2016-04-15 14:00:00</td><td>11696              </td><td>娛樂               </td></tr>\n",
       "\t<tr><td>2016-04-15 13:59:00</td><td> 3974              </td><td>國際               </td></tr>\n",
       "\t<tr><td>2016-04-15 13:59:00</td><td> 3234              </td><td>3C                 </td></tr>\n",
       "\t<tr><td>2016-04-15 13:54:00</td><td> 2300              </td><td>政治               </td></tr>\n",
       "\t<tr><td>2016-04-15 13:54:00</td><td> 3519              </td><td>國際               </td></tr>\n",
       "\t<tr><td>2016-04-15 13:52:00</td><td> 4582              </td><td>社會               </td></tr>\n",
       "\t<tr><td>2016-04-15 13:51:00</td><td> 1039              </td><td>地產               </td></tr>\n",
       "\t<tr><td>2016-04-15 13:51:00</td><td>  536              </td><td>生活               </td></tr>\n",
       "\t<tr><td>2016-04-15 13:50:00</td><td>12425              </td><td>政治               </td></tr>\n",
       "\t<tr><td>2016-04-15 13:50:00</td><td> 1336              </td><td>財經               </td></tr>\n",
       "\t<tr><td>⋮</td><td>⋮</td><td>⋮</td></tr>\n",
       "\t<tr><td>2016-04-13 16:51:00</td><td> 7311              </td><td>財經               </td></tr>\n",
       "\t<tr><td>2016-04-13 16:51:00</td><td> 1608              </td><td>生活               </td></tr>\n",
       "\t<tr><td>2016-04-13 16:49:00</td><td> 1525              </td><td>國際               </td></tr>\n",
       "\t<tr><td>2016-04-13 16:46:00</td><td> 3748              </td><td>政治               </td></tr>\n",
       "\t<tr><td>2016-04-13 16:41:00</td><td>65520              </td><td>生活               </td></tr>\n",
       "\t<tr><td>2016-04-13 16:40:00</td><td>23314              </td><td>娛樂               </td></tr>\n",
       "\t<tr><td>2016-04-13 16:40:00</td><td> 5339              </td><td>生活               </td></tr>\n",
       "\t<tr><td>2016-04-13 16:38:00</td><td> 3553              </td><td>國際               </td></tr>\n",
       "\t<tr><td>2016-04-13 16:38:00</td><td>  761              </td><td>3C                 </td></tr>\n",
       "\t<tr><td>2016-04-13 16:37:00</td><td> 3364              </td><td>財經               </td></tr>\n",
       "\t<tr><td>2016-04-13 16:35:00</td><td> 7124              </td><td>社會               </td></tr>\n",
       "\t<tr><td>2016-04-13 16:35:00</td><td> 1562              </td><td>社會               </td></tr>\n",
       "\t<tr><td>2016-04-13 16:35:00</td><td>15959              </td><td>社會               </td></tr>\n",
       "\t<tr><td>2016-04-13 16:35:00</td><td> 2988              </td><td>體育               </td></tr>\n",
       "\t<tr><td>2016-04-13 16:33:00</td><td> 3654              </td><td>論壇               </td></tr>\n",
       "\t<tr><td>2016-04-13 16:32:00</td><td> 6084              </td><td>社會               </td></tr>\n",
       "\t<tr><td>2016-04-13 16:31:00</td><td> 3088              </td><td>國際               </td></tr>\n",
       "\t<tr><td>2016-04-13 16:30:00</td><td>  835              </td><td>財經               </td></tr>\n",
       "\t<tr><td>2016-04-13 16:29:00</td><td>40171              </td><td>生活               </td></tr>\n",
       "\t<tr><td>2016-04-13 16:27:00</td><td> 2840              </td><td>生活               </td></tr>\n",
       "\t<tr><td>2016-04-13 16:26:00</td><td>  820              </td><td>生活               </td></tr>\n",
       "\t<tr><td>2016-04-13 16:25:00</td><td>26224              </td><td>生活               </td></tr>\n",
       "\t<tr><td>2016-04-13 16:23:00</td><td> 9305              </td><td>社會               </td></tr>\n",
       "\t<tr><td>2016-04-13 16:23:00</td><td>  751              </td><td>財經               </td></tr>\n",
       "\t<tr><td>2016-04-13 16:20:00</td><td> 8163              </td><td>社會               </td></tr>\n",
       "\t<tr><td>2016-04-13 16:19:00</td><td> 4242              </td><td>搜奇               </td></tr>\n",
       "\t<tr><td>2016-04-13 16:18:00</td><td> 2381              </td><td>生活               </td></tr>\n",
       "\t<tr><td>2016-04-13 16:17:00</td><td>51216              </td><td>搜奇               </td></tr>\n",
       "\t<tr><td>2016-04-13 16:14:00</td><td> 4352              </td><td>動物               </td></tr>\n",
       "\t<tr><td>2016-04-13 16:13:00</td><td>82200              </td><td>政治               </td></tr>\n",
       "</tbody>\n",
       "</table>\n"
      ],
      "text/latex": [
       "\\begin{tabular}{r|lll}\n",
       " dt & clicked & category\\\\\n",
       "\\hline\n",
       "\t 2016-04-15 14:32:00 &  1754               & 社會               \\\\\n",
       "\t 2016-04-15 14:32:00 &     0               & 國際               \\\\\n",
       "\t 2016-04-15 14:31:00 &     0               & 地產               \\\\\n",
       "\t 2016-04-15 14:30:00 &     0               & 國際               \\\\\n",
       "\t 2016-04-15 14:28:00 &   311               & 時尚               \\\\\n",
       "\t 2016-04-15 14:28:00 &    24               & 財經               \\\\\n",
       "\t 2016-04-15 14:25:00 &    20               & 生活               \\\\\n",
       "\t 2016-04-15 14:24:00 &   314               & 生活               \\\\\n",
       "\t 2016-04-15 14:24:00 &    27               & 生活               \\\\\n",
       "\t 2016-04-15 14:23:00 &   308               & 生活               \\\\\n",
       "\t 2016-04-15 14:22:00 &  1076               & 社會               \\\\\n",
       "\t 2016-04-15 14:21:00 &   775               & 生活               \\\\\n",
       "\t 2016-04-15 14:19:00 &    92               & 財經               \\\\\n",
       "\t 2016-04-15 14:19:00 & 12347               & 生活               \\\\\n",
       "\t 2016-04-15 14:18:00 &  1312               & 生活               \\\\\n",
       "\t 2016-04-15 14:17:00 &  1749               & 娛樂               \\\\\n",
       "\t 2016-04-15 14:15:00 &  1005               & 搜奇               \\\\\n",
       "\t 2016-04-15 14:15:00 &   221               & 政治               \\\\\n",
       "\t 2016-04-15 14:12:00 & 11886               & 社會               \\\\\n",
       "\t 2016-04-15 14:10:00 &  1629               & 生活               \\\\\n",
       "\t 2016-04-15 14:00:00 & 11696               & 娛樂               \\\\\n",
       "\t 2016-04-15 13:59:00 &  3974               & 國際               \\\\\n",
       "\t 2016-04-15 13:59:00 &  3234               & 3C                 \\\\\n",
       "\t 2016-04-15 13:54:00 &  2300               & 政治               \\\\\n",
       "\t 2016-04-15 13:54:00 &  3519               & 國際               \\\\\n",
       "\t 2016-04-15 13:52:00 &  4582               & 社會               \\\\\n",
       "\t 2016-04-15 13:51:00 &  1039               & 地產               \\\\\n",
       "\t 2016-04-15 13:51:00 &   536               & 生活               \\\\\n",
       "\t 2016-04-15 13:50:00 & 12425               & 政治               \\\\\n",
       "\t 2016-04-15 13:50:00 &  1336               & 財經               \\\\\n",
       "\t ⋮ & ⋮ & ⋮\\\\\n",
       "\t 2016-04-13 16:51:00 &  7311               & 財經               \\\\\n",
       "\t 2016-04-13 16:51:00 &  1608               & 生活               \\\\\n",
       "\t 2016-04-13 16:49:00 &  1525               & 國際               \\\\\n",
       "\t 2016-04-13 16:46:00 &  3748               & 政治               \\\\\n",
       "\t 2016-04-13 16:41:00 & 65520               & 生活               \\\\\n",
       "\t 2016-04-13 16:40:00 & 23314               & 娛樂               \\\\\n",
       "\t 2016-04-13 16:40:00 &  5339               & 生活               \\\\\n",
       "\t 2016-04-13 16:38:00 &  3553               & 國際               \\\\\n",
       "\t 2016-04-13 16:38:00 &   761               & 3C                 \\\\\n",
       "\t 2016-04-13 16:37:00 &  3364               & 財經               \\\\\n",
       "\t 2016-04-13 16:35:00 &  7124               & 社會               \\\\\n",
       "\t 2016-04-13 16:35:00 &  1562               & 社會               \\\\\n",
       "\t 2016-04-13 16:35:00 & 15959               & 社會               \\\\\n",
       "\t 2016-04-13 16:35:00 &  2988               & 體育               \\\\\n",
       "\t 2016-04-13 16:33:00 &  3654               & 論壇               \\\\\n",
       "\t 2016-04-13 16:32:00 &  6084               & 社會               \\\\\n",
       "\t 2016-04-13 16:31:00 &  3088               & 國際               \\\\\n",
       "\t 2016-04-13 16:30:00 &   835               & 財經               \\\\\n",
       "\t 2016-04-13 16:29:00 & 40171               & 生活               \\\\\n",
       "\t 2016-04-13 16:27:00 &  2840               & 生活               \\\\\n",
       "\t 2016-04-13 16:26:00 &   820               & 生活               \\\\\n",
       "\t 2016-04-13 16:25:00 & 26224               & 生活               \\\\\n",
       "\t 2016-04-13 16:23:00 &  9305               & 社會               \\\\\n",
       "\t 2016-04-13 16:23:00 &   751               & 財經               \\\\\n",
       "\t 2016-04-13 16:20:00 &  8163               & 社會               \\\\\n",
       "\t 2016-04-13 16:19:00 &  4242               & 搜奇               \\\\\n",
       "\t 2016-04-13 16:18:00 &  2381               & 生活               \\\\\n",
       "\t 2016-04-13 16:17:00 & 51216               & 搜奇               \\\\\n",
       "\t 2016-04-13 16:14:00 &  4352               & 動物               \\\\\n",
       "\t 2016-04-13 16:13:00 & 82200               & 政治               \\\\\n",
       "\\end{tabular}\n"
      ],
      "text/markdown": [
       "\n",
       "dt | clicked | category | \n",
       "|---|---|---|---|---|---|---|---|---|---|---|---|---|---|---|---|---|---|---|---|---|---|---|---|---|---|---|---|---|---|---|---|---|---|---|---|---|---|---|---|---|---|---|---|---|---|---|---|---|---|---|---|---|---|---|---|---|---|---|---|---|\n",
       "| 2016-04-15 14:32:00 |  1754               | 社會                | \n",
       "| 2016-04-15 14:32:00 |     0               | 國際                | \n",
       "| 2016-04-15 14:31:00 |     0               | 地產                | \n",
       "| 2016-04-15 14:30:00 |     0               | 國際                | \n",
       "| 2016-04-15 14:28:00 |   311               | 時尚                | \n",
       "| 2016-04-15 14:28:00 |    24               | 財經                | \n",
       "| 2016-04-15 14:25:00 |    20               | 生活                | \n",
       "| 2016-04-15 14:24:00 |   314               | 生活                | \n",
       "| 2016-04-15 14:24:00 |    27               | 生活                | \n",
       "| 2016-04-15 14:23:00 |   308               | 生活                | \n",
       "| 2016-04-15 14:22:00 |  1076               | 社會                | \n",
       "| 2016-04-15 14:21:00 |   775               | 生活                | \n",
       "| 2016-04-15 14:19:00 |    92               | 財經                | \n",
       "| 2016-04-15 14:19:00 | 12347               | 生活                | \n",
       "| 2016-04-15 14:18:00 |  1312               | 生活                | \n",
       "| 2016-04-15 14:17:00 |  1749               | 娛樂                | \n",
       "| 2016-04-15 14:15:00 |  1005               | 搜奇                | \n",
       "| 2016-04-15 14:15:00 |   221               | 政治                | \n",
       "| 2016-04-15 14:12:00 | 11886               | 社會                | \n",
       "| 2016-04-15 14:10:00 |  1629               | 生活                | \n",
       "| 2016-04-15 14:00:00 | 11696               | 娛樂                | \n",
       "| 2016-04-15 13:59:00 |  3974               | 國際                | \n",
       "| 2016-04-15 13:59:00 |  3234               | 3C                  | \n",
       "| 2016-04-15 13:54:00 |  2300               | 政治                | \n",
       "| 2016-04-15 13:54:00 |  3519               | 國際                | \n",
       "| 2016-04-15 13:52:00 |  4582               | 社會                | \n",
       "| 2016-04-15 13:51:00 |  1039               | 地產                | \n",
       "| 2016-04-15 13:51:00 |   536               | 生活                | \n",
       "| 2016-04-15 13:50:00 | 12425               | 政治                | \n",
       "| 2016-04-15 13:50:00 |  1336               | 財經                | \n",
       "| ⋮ | ⋮ | ⋮ | \n",
       "| 2016-04-13 16:51:00 |  7311               | 財經                | \n",
       "| 2016-04-13 16:51:00 |  1608               | 生活                | \n",
       "| 2016-04-13 16:49:00 |  1525               | 國際                | \n",
       "| 2016-04-13 16:46:00 |  3748               | 政治                | \n",
       "| 2016-04-13 16:41:00 | 65520               | 生活                | \n",
       "| 2016-04-13 16:40:00 | 23314               | 娛樂                | \n",
       "| 2016-04-13 16:40:00 |  5339               | 生活                | \n",
       "| 2016-04-13 16:38:00 |  3553               | 國際                | \n",
       "| 2016-04-13 16:38:00 |   761               | 3C                  | \n",
       "| 2016-04-13 16:37:00 |  3364               | 財經                | \n",
       "| 2016-04-13 16:35:00 |  7124               | 社會                | \n",
       "| 2016-04-13 16:35:00 |  1562               | 社會                | \n",
       "| 2016-04-13 16:35:00 | 15959               | 社會                | \n",
       "| 2016-04-13 16:35:00 |  2988               | 體育                | \n",
       "| 2016-04-13 16:33:00 |  3654               | 論壇                | \n",
       "| 2016-04-13 16:32:00 |  6084               | 社會                | \n",
       "| 2016-04-13 16:31:00 |  3088               | 國際                | \n",
       "| 2016-04-13 16:30:00 |   835               | 財經                | \n",
       "| 2016-04-13 16:29:00 | 40171               | 生活                | \n",
       "| 2016-04-13 16:27:00 |  2840               | 生活                | \n",
       "| 2016-04-13 16:26:00 |   820               | 生活                | \n",
       "| 2016-04-13 16:25:00 | 26224               | 生活                | \n",
       "| 2016-04-13 16:23:00 |  9305               | 社會                | \n",
       "| 2016-04-13 16:23:00 |   751               | 財經                | \n",
       "| 2016-04-13 16:20:00 |  8163               | 社會                | \n",
       "| 2016-04-13 16:19:00 |  4242               | 搜奇                | \n",
       "| 2016-04-13 16:18:00 |  2381               | 生活                | \n",
       "| 2016-04-13 16:17:00 | 51216               | 搜奇                | \n",
       "| 2016-04-13 16:14:00 |  4352               | 動物                | \n",
       "| 2016-04-13 16:13:00 | 82200               | 政治                | \n",
       "\n",
       "\n"
      ],
      "text/plain": [
       "     dt                  clicked category\n",
       "1    2016-04-15 14:32:00  1754   社會    \n",
       "2    2016-04-15 14:32:00     0   國際    \n",
       "3    2016-04-15 14:31:00     0   地產    \n",
       "4    2016-04-15 14:30:00     0   國際    \n",
       "5    2016-04-15 14:28:00   311   時尚    \n",
       "6    2016-04-15 14:28:00    24   財經    \n",
       "7    2016-04-15 14:25:00    20   生活    \n",
       "8    2016-04-15 14:24:00   314   生活    \n",
       "9    2016-04-15 14:24:00    27   生活    \n",
       "10   2016-04-15 14:23:00   308   生活    \n",
       "11   2016-04-15 14:22:00  1076   社會    \n",
       "12   2016-04-15 14:21:00   775   生活    \n",
       "13   2016-04-15 14:19:00    92   財經    \n",
       "14   2016-04-15 14:19:00 12347   生活    \n",
       "15   2016-04-15 14:18:00  1312   生活    \n",
       "16   2016-04-15 14:17:00  1749   娛樂    \n",
       "17   2016-04-15 14:15:00  1005   搜奇    \n",
       "18   2016-04-15 14:15:00   221   政治    \n",
       "19   2016-04-15 14:12:00 11886   社會    \n",
       "20   2016-04-15 14:10:00  1629   生活    \n",
       "21   2016-04-15 14:00:00 11696   娛樂    \n",
       "22   2016-04-15 13:59:00  3974   國際    \n",
       "23   2016-04-15 13:59:00  3234   3C      \n",
       "24   2016-04-15 13:54:00  2300   政治    \n",
       "25   2016-04-15 13:54:00  3519   國際    \n",
       "26   2016-04-15 13:52:00  4582   社會    \n",
       "27   2016-04-15 13:51:00  1039   地產    \n",
       "28   2016-04-15 13:51:00   536   生活    \n",
       "29   2016-04-15 13:50:00 12425   政治    \n",
       "30   2016-04-15 13:50:00  1336   財經    \n",
       "⋮    ⋮                   ⋮       ⋮       \n",
       "1471 2016-04-13 16:51:00  7311   財經    \n",
       "1472 2016-04-13 16:51:00  1608   生活    \n",
       "1473 2016-04-13 16:49:00  1525   國際    \n",
       "1474 2016-04-13 16:46:00  3748   政治    \n",
       "1475 2016-04-13 16:41:00 65520   生活    \n",
       "1476 2016-04-13 16:40:00 23314   娛樂    \n",
       "1477 2016-04-13 16:40:00  5339   生活    \n",
       "1478 2016-04-13 16:38:00  3553   國際    \n",
       "1479 2016-04-13 16:38:00   761   3C      \n",
       "1480 2016-04-13 16:37:00  3364   財經    \n",
       "1481 2016-04-13 16:35:00  7124   社會    \n",
       "1482 2016-04-13 16:35:00  1562   社會    \n",
       "1483 2016-04-13 16:35:00 15959   社會    \n",
       "1484 2016-04-13 16:35:00  2988   體育    \n",
       "1485 2016-04-13 16:33:00  3654   論壇    \n",
       "1486 2016-04-13 16:32:00  6084   社會    \n",
       "1487 2016-04-13 16:31:00  3088   國際    \n",
       "1488 2016-04-13 16:30:00   835   財經    \n",
       "1489 2016-04-13 16:29:00 40171   生活    \n",
       "1490 2016-04-13 16:27:00  2840   生活    \n",
       "1491 2016-04-13 16:26:00   820   生活    \n",
       "1492 2016-04-13 16:25:00 26224   生活    \n",
       "1493 2016-04-13 16:23:00  9305   社會    \n",
       "1494 2016-04-13 16:23:00   751   財經    \n",
       "1495 2016-04-13 16:20:00  8163   社會    \n",
       "1496 2016-04-13 16:19:00  4242   搜奇    \n",
       "1497 2016-04-13 16:18:00  2381   生活    \n",
       "1498 2016-04-13 16:17:00 51216   搜奇    \n",
       "1499 2016-04-13 16:14:00  4352   動物    \n",
       "1500 2016-04-13 16:13:00 82200   政治    "
      ]
     },
     "metadata": {},
     "output_type": "display_data"
    }
   ],
   "source": [
    "select(applenews,dt,clicked,category)"
   ]
  },
  {
   "cell_type": "code",
   "execution_count": 233,
   "metadata": {
    "scrolled": true
   },
   "outputs": [
    {
     "data": {
      "text/html": [
       "<table>\n",
       "<thead><tr><th scope=col>dt</th><th scope=col>category</th><th scope=col>clicked</th></tr></thead>\n",
       "<tbody>\n",
       "\t<tr><td>2016-04-15 14:32:00</td><td>社會               </td><td> 1754              </td></tr>\n",
       "\t<tr><td>2016-04-15 14:32:00</td><td>國際               </td><td>    0              </td></tr>\n",
       "\t<tr><td>2016-04-15 14:31:00</td><td>地產               </td><td>    0              </td></tr>\n",
       "\t<tr><td>2016-04-15 14:30:00</td><td>國際               </td><td>    0              </td></tr>\n",
       "\t<tr><td>2016-04-15 14:28:00</td><td>時尚               </td><td>  311              </td></tr>\n",
       "\t<tr><td>2016-04-15 14:28:00</td><td>財經               </td><td>   24              </td></tr>\n",
       "\t<tr><td>2016-04-15 14:25:00</td><td>生活               </td><td>   20              </td></tr>\n",
       "\t<tr><td>2016-04-15 14:24:00</td><td>生活               </td><td>  314              </td></tr>\n",
       "\t<tr><td>2016-04-15 14:24:00</td><td>生活               </td><td>   27              </td></tr>\n",
       "\t<tr><td>2016-04-15 14:23:00</td><td>生活               </td><td>  308              </td></tr>\n",
       "\t<tr><td>2016-04-15 14:22:00</td><td>社會               </td><td> 1076              </td></tr>\n",
       "\t<tr><td>2016-04-15 14:21:00</td><td>生活               </td><td>  775              </td></tr>\n",
       "\t<tr><td>2016-04-15 14:19:00</td><td>財經               </td><td>   92              </td></tr>\n",
       "\t<tr><td>2016-04-15 14:19:00</td><td>生活               </td><td>12347              </td></tr>\n",
       "\t<tr><td>2016-04-15 14:18:00</td><td>生活               </td><td> 1312              </td></tr>\n",
       "\t<tr><td>2016-04-15 14:17:00</td><td>娛樂               </td><td> 1749              </td></tr>\n",
       "\t<tr><td>2016-04-15 14:15:00</td><td>搜奇               </td><td> 1005              </td></tr>\n",
       "\t<tr><td>2016-04-15 14:15:00</td><td>政治               </td><td>  221              </td></tr>\n",
       "\t<tr><td>2016-04-15 14:12:00</td><td>社會               </td><td>11886              </td></tr>\n",
       "\t<tr><td>2016-04-15 14:10:00</td><td>生活               </td><td> 1629              </td></tr>\n",
       "\t<tr><td>2016-04-15 14:00:00</td><td>娛樂               </td><td>11696              </td></tr>\n",
       "\t<tr><td>2016-04-15 13:59:00</td><td>國際               </td><td> 3974              </td></tr>\n",
       "\t<tr><td>2016-04-15 13:59:00</td><td>3C                 </td><td> 3234              </td></tr>\n",
       "\t<tr><td>2016-04-15 13:54:00</td><td>政治               </td><td> 2300              </td></tr>\n",
       "\t<tr><td>2016-04-15 13:54:00</td><td>國際               </td><td> 3519              </td></tr>\n",
       "\t<tr><td>2016-04-15 13:52:00</td><td>社會               </td><td> 4582              </td></tr>\n",
       "\t<tr><td>2016-04-15 13:51:00</td><td>地產               </td><td> 1039              </td></tr>\n",
       "\t<tr><td>2016-04-15 13:51:00</td><td>生活               </td><td>  536              </td></tr>\n",
       "\t<tr><td>2016-04-15 13:50:00</td><td>政治               </td><td>12425              </td></tr>\n",
       "\t<tr><td>2016-04-15 13:50:00</td><td>財經               </td><td> 1336              </td></tr>\n",
       "\t<tr><td>⋮</td><td>⋮</td><td>⋮</td></tr>\n",
       "\t<tr><td>2016-04-13 16:51:00</td><td>財經               </td><td> 7311              </td></tr>\n",
       "\t<tr><td>2016-04-13 16:51:00</td><td>生活               </td><td> 1608              </td></tr>\n",
       "\t<tr><td>2016-04-13 16:49:00</td><td>國際               </td><td> 1525              </td></tr>\n",
       "\t<tr><td>2016-04-13 16:46:00</td><td>政治               </td><td> 3748              </td></tr>\n",
       "\t<tr><td>2016-04-13 16:41:00</td><td>生活               </td><td>65520              </td></tr>\n",
       "\t<tr><td>2016-04-13 16:40:00</td><td>娛樂               </td><td>23314              </td></tr>\n",
       "\t<tr><td>2016-04-13 16:40:00</td><td>生活               </td><td> 5339              </td></tr>\n",
       "\t<tr><td>2016-04-13 16:38:00</td><td>國際               </td><td> 3553              </td></tr>\n",
       "\t<tr><td>2016-04-13 16:38:00</td><td>3C                 </td><td>  761              </td></tr>\n",
       "\t<tr><td>2016-04-13 16:37:00</td><td>財經               </td><td> 3364              </td></tr>\n",
       "\t<tr><td>2016-04-13 16:35:00</td><td>社會               </td><td> 7124              </td></tr>\n",
       "\t<tr><td>2016-04-13 16:35:00</td><td>社會               </td><td> 1562              </td></tr>\n",
       "\t<tr><td>2016-04-13 16:35:00</td><td>社會               </td><td>15959              </td></tr>\n",
       "\t<tr><td>2016-04-13 16:35:00</td><td>體育               </td><td> 2988              </td></tr>\n",
       "\t<tr><td>2016-04-13 16:33:00</td><td>論壇               </td><td> 3654              </td></tr>\n",
       "\t<tr><td>2016-04-13 16:32:00</td><td>社會               </td><td> 6084              </td></tr>\n",
       "\t<tr><td>2016-04-13 16:31:00</td><td>國際               </td><td> 3088              </td></tr>\n",
       "\t<tr><td>2016-04-13 16:30:00</td><td>財經               </td><td>  835              </td></tr>\n",
       "\t<tr><td>2016-04-13 16:29:00</td><td>生活               </td><td>40171              </td></tr>\n",
       "\t<tr><td>2016-04-13 16:27:00</td><td>生活               </td><td> 2840              </td></tr>\n",
       "\t<tr><td>2016-04-13 16:26:00</td><td>生活               </td><td>  820              </td></tr>\n",
       "\t<tr><td>2016-04-13 16:25:00</td><td>生活               </td><td>26224              </td></tr>\n",
       "\t<tr><td>2016-04-13 16:23:00</td><td>社會               </td><td> 9305              </td></tr>\n",
       "\t<tr><td>2016-04-13 16:23:00</td><td>財經               </td><td>  751              </td></tr>\n",
       "\t<tr><td>2016-04-13 16:20:00</td><td>社會               </td><td> 8163              </td></tr>\n",
       "\t<tr><td>2016-04-13 16:19:00</td><td>搜奇               </td><td> 4242              </td></tr>\n",
       "\t<tr><td>2016-04-13 16:18:00</td><td>生活               </td><td> 2381              </td></tr>\n",
       "\t<tr><td>2016-04-13 16:17:00</td><td>搜奇               </td><td>51216              </td></tr>\n",
       "\t<tr><td>2016-04-13 16:14:00</td><td>動物               </td><td> 4352              </td></tr>\n",
       "\t<tr><td>2016-04-13 16:13:00</td><td>政治               </td><td>82200              </td></tr>\n",
       "</tbody>\n",
       "</table>\n"
      ],
      "text/latex": [
       "\\begin{tabular}{r|lll}\n",
       " dt & category & clicked\\\\\n",
       "\\hline\n",
       "\t 2016-04-15 14:32:00 & 社會                &  1754              \\\\\n",
       "\t 2016-04-15 14:32:00 & 國際                &     0              \\\\\n",
       "\t 2016-04-15 14:31:00 & 地產                &     0              \\\\\n",
       "\t 2016-04-15 14:30:00 & 國際                &     0              \\\\\n",
       "\t 2016-04-15 14:28:00 & 時尚                &   311              \\\\\n",
       "\t 2016-04-15 14:28:00 & 財經                &    24              \\\\\n",
       "\t 2016-04-15 14:25:00 & 生活                &    20              \\\\\n",
       "\t 2016-04-15 14:24:00 & 生活                &   314              \\\\\n",
       "\t 2016-04-15 14:24:00 & 生活                &    27              \\\\\n",
       "\t 2016-04-15 14:23:00 & 生活                &   308              \\\\\n",
       "\t 2016-04-15 14:22:00 & 社會                &  1076              \\\\\n",
       "\t 2016-04-15 14:21:00 & 生活                &   775              \\\\\n",
       "\t 2016-04-15 14:19:00 & 財經                &    92              \\\\\n",
       "\t 2016-04-15 14:19:00 & 生活                & 12347              \\\\\n",
       "\t 2016-04-15 14:18:00 & 生活                &  1312              \\\\\n",
       "\t 2016-04-15 14:17:00 & 娛樂                &  1749              \\\\\n",
       "\t 2016-04-15 14:15:00 & 搜奇                &  1005              \\\\\n",
       "\t 2016-04-15 14:15:00 & 政治                &   221              \\\\\n",
       "\t 2016-04-15 14:12:00 & 社會                & 11886              \\\\\n",
       "\t 2016-04-15 14:10:00 & 生活                &  1629              \\\\\n",
       "\t 2016-04-15 14:00:00 & 娛樂                & 11696              \\\\\n",
       "\t 2016-04-15 13:59:00 & 國際                &  3974              \\\\\n",
       "\t 2016-04-15 13:59:00 & 3C                  &  3234              \\\\\n",
       "\t 2016-04-15 13:54:00 & 政治                &  2300              \\\\\n",
       "\t 2016-04-15 13:54:00 & 國際                &  3519              \\\\\n",
       "\t 2016-04-15 13:52:00 & 社會                &  4582              \\\\\n",
       "\t 2016-04-15 13:51:00 & 地產                &  1039              \\\\\n",
       "\t 2016-04-15 13:51:00 & 生活                &   536              \\\\\n",
       "\t 2016-04-15 13:50:00 & 政治                & 12425              \\\\\n",
       "\t 2016-04-15 13:50:00 & 財經                &  1336              \\\\\n",
       "\t ⋮ & ⋮ & ⋮\\\\\n",
       "\t 2016-04-13 16:51:00 & 財經                &  7311              \\\\\n",
       "\t 2016-04-13 16:51:00 & 生活                &  1608              \\\\\n",
       "\t 2016-04-13 16:49:00 & 國際                &  1525              \\\\\n",
       "\t 2016-04-13 16:46:00 & 政治                &  3748              \\\\\n",
       "\t 2016-04-13 16:41:00 & 生活                & 65520              \\\\\n",
       "\t 2016-04-13 16:40:00 & 娛樂                & 23314              \\\\\n",
       "\t 2016-04-13 16:40:00 & 生活                &  5339              \\\\\n",
       "\t 2016-04-13 16:38:00 & 國際                &  3553              \\\\\n",
       "\t 2016-04-13 16:38:00 & 3C                  &   761              \\\\\n",
       "\t 2016-04-13 16:37:00 & 財經                &  3364              \\\\\n",
       "\t 2016-04-13 16:35:00 & 社會                &  7124              \\\\\n",
       "\t 2016-04-13 16:35:00 & 社會                &  1562              \\\\\n",
       "\t 2016-04-13 16:35:00 & 社會                & 15959              \\\\\n",
       "\t 2016-04-13 16:35:00 & 體育                &  2988              \\\\\n",
       "\t 2016-04-13 16:33:00 & 論壇                &  3654              \\\\\n",
       "\t 2016-04-13 16:32:00 & 社會                &  6084              \\\\\n",
       "\t 2016-04-13 16:31:00 & 國際                &  3088              \\\\\n",
       "\t 2016-04-13 16:30:00 & 財經                &   835              \\\\\n",
       "\t 2016-04-13 16:29:00 & 生活                & 40171              \\\\\n",
       "\t 2016-04-13 16:27:00 & 生活                &  2840              \\\\\n",
       "\t 2016-04-13 16:26:00 & 生活                &   820              \\\\\n",
       "\t 2016-04-13 16:25:00 & 生活                & 26224              \\\\\n",
       "\t 2016-04-13 16:23:00 & 社會                &  9305              \\\\\n",
       "\t 2016-04-13 16:23:00 & 財經                &   751              \\\\\n",
       "\t 2016-04-13 16:20:00 & 社會                &  8163              \\\\\n",
       "\t 2016-04-13 16:19:00 & 搜奇                &  4242              \\\\\n",
       "\t 2016-04-13 16:18:00 & 生活                &  2381              \\\\\n",
       "\t 2016-04-13 16:17:00 & 搜奇                & 51216              \\\\\n",
       "\t 2016-04-13 16:14:00 & 動物                &  4352              \\\\\n",
       "\t 2016-04-13 16:13:00 & 政治                & 82200              \\\\\n",
       "\\end{tabular}\n"
      ],
      "text/markdown": [
       "\n",
       "dt | category | clicked | \n",
       "|---|---|---|---|---|---|---|---|---|---|---|---|---|---|---|---|---|---|---|---|---|---|---|---|---|---|---|---|---|---|---|---|---|---|---|---|---|---|---|---|---|---|---|---|---|---|---|---|---|---|---|---|---|---|---|---|---|---|---|---|---|\n",
       "| 2016-04-15 14:32:00 | 社會                |  1754               | \n",
       "| 2016-04-15 14:32:00 | 國際                |     0               | \n",
       "| 2016-04-15 14:31:00 | 地產                |     0               | \n",
       "| 2016-04-15 14:30:00 | 國際                |     0               | \n",
       "| 2016-04-15 14:28:00 | 時尚                |   311               | \n",
       "| 2016-04-15 14:28:00 | 財經                |    24               | \n",
       "| 2016-04-15 14:25:00 | 生活                |    20               | \n",
       "| 2016-04-15 14:24:00 | 生活                |   314               | \n",
       "| 2016-04-15 14:24:00 | 生活                |    27               | \n",
       "| 2016-04-15 14:23:00 | 生活                |   308               | \n",
       "| 2016-04-15 14:22:00 | 社會                |  1076               | \n",
       "| 2016-04-15 14:21:00 | 生活                |   775               | \n",
       "| 2016-04-15 14:19:00 | 財經                |    92               | \n",
       "| 2016-04-15 14:19:00 | 生活                | 12347               | \n",
       "| 2016-04-15 14:18:00 | 生活                |  1312               | \n",
       "| 2016-04-15 14:17:00 | 娛樂                |  1749               | \n",
       "| 2016-04-15 14:15:00 | 搜奇                |  1005               | \n",
       "| 2016-04-15 14:15:00 | 政治                |   221               | \n",
       "| 2016-04-15 14:12:00 | 社會                | 11886               | \n",
       "| 2016-04-15 14:10:00 | 生活                |  1629               | \n",
       "| 2016-04-15 14:00:00 | 娛樂                | 11696               | \n",
       "| 2016-04-15 13:59:00 | 國際                |  3974               | \n",
       "| 2016-04-15 13:59:00 | 3C                  |  3234               | \n",
       "| 2016-04-15 13:54:00 | 政治                |  2300               | \n",
       "| 2016-04-15 13:54:00 | 國際                |  3519               | \n",
       "| 2016-04-15 13:52:00 | 社會                |  4582               | \n",
       "| 2016-04-15 13:51:00 | 地產                |  1039               | \n",
       "| 2016-04-15 13:51:00 | 生活                |   536               | \n",
       "| 2016-04-15 13:50:00 | 政治                | 12425               | \n",
       "| 2016-04-15 13:50:00 | 財經                |  1336               | \n",
       "| ⋮ | ⋮ | ⋮ | \n",
       "| 2016-04-13 16:51:00 | 財經                |  7311               | \n",
       "| 2016-04-13 16:51:00 | 生活                |  1608               | \n",
       "| 2016-04-13 16:49:00 | 國際                |  1525               | \n",
       "| 2016-04-13 16:46:00 | 政治                |  3748               | \n",
       "| 2016-04-13 16:41:00 | 生活                | 65520               | \n",
       "| 2016-04-13 16:40:00 | 娛樂                | 23314               | \n",
       "| 2016-04-13 16:40:00 | 生活                |  5339               | \n",
       "| 2016-04-13 16:38:00 | 國際                |  3553               | \n",
       "| 2016-04-13 16:38:00 | 3C                  |   761               | \n",
       "| 2016-04-13 16:37:00 | 財經                |  3364               | \n",
       "| 2016-04-13 16:35:00 | 社會                |  7124               | \n",
       "| 2016-04-13 16:35:00 | 社會                |  1562               | \n",
       "| 2016-04-13 16:35:00 | 社會                | 15959               | \n",
       "| 2016-04-13 16:35:00 | 體育                |  2988               | \n",
       "| 2016-04-13 16:33:00 | 論壇                |  3654               | \n",
       "| 2016-04-13 16:32:00 | 社會                |  6084               | \n",
       "| 2016-04-13 16:31:00 | 國際                |  3088               | \n",
       "| 2016-04-13 16:30:00 | 財經                |   835               | \n",
       "| 2016-04-13 16:29:00 | 生活                | 40171               | \n",
       "| 2016-04-13 16:27:00 | 生活                |  2840               | \n",
       "| 2016-04-13 16:26:00 | 生活                |   820               | \n",
       "| 2016-04-13 16:25:00 | 生活                | 26224               | \n",
       "| 2016-04-13 16:23:00 | 社會                |  9305               | \n",
       "| 2016-04-13 16:23:00 | 財經                |   751               | \n",
       "| 2016-04-13 16:20:00 | 社會                |  8163               | \n",
       "| 2016-04-13 16:19:00 | 搜奇                |  4242               | \n",
       "| 2016-04-13 16:18:00 | 生活                |  2381               | \n",
       "| 2016-04-13 16:17:00 | 搜奇                | 51216               | \n",
       "| 2016-04-13 16:14:00 | 動物                |  4352               | \n",
       "| 2016-04-13 16:13:00 | 政治                | 82200               | \n",
       "\n",
       "\n"
      ],
      "text/plain": [
       "     dt                  category clicked\n",
       "1    2016-04-15 14:32:00 社會      1754  \n",
       "2    2016-04-15 14:32:00 國際         0  \n",
       "3    2016-04-15 14:31:00 地產         0  \n",
       "4    2016-04-15 14:30:00 國際         0  \n",
       "5    2016-04-15 14:28:00 時尚       311  \n",
       "6    2016-04-15 14:28:00 財經        24  \n",
       "7    2016-04-15 14:25:00 生活        20  \n",
       "8    2016-04-15 14:24:00 生活       314  \n",
       "9    2016-04-15 14:24:00 生活        27  \n",
       "10   2016-04-15 14:23:00 生活       308  \n",
       "11   2016-04-15 14:22:00 社會      1076  \n",
       "12   2016-04-15 14:21:00 生活       775  \n",
       "13   2016-04-15 14:19:00 財經        92  \n",
       "14   2016-04-15 14:19:00 生活     12347  \n",
       "15   2016-04-15 14:18:00 生活      1312  \n",
       "16   2016-04-15 14:17:00 娛樂      1749  \n",
       "17   2016-04-15 14:15:00 搜奇      1005  \n",
       "18   2016-04-15 14:15:00 政治       221  \n",
       "19   2016-04-15 14:12:00 社會     11886  \n",
       "20   2016-04-15 14:10:00 生活      1629  \n",
       "21   2016-04-15 14:00:00 娛樂     11696  \n",
       "22   2016-04-15 13:59:00 國際      3974  \n",
       "23   2016-04-15 13:59:00 3C        3234  \n",
       "24   2016-04-15 13:54:00 政治      2300  \n",
       "25   2016-04-15 13:54:00 國際      3519  \n",
       "26   2016-04-15 13:52:00 社會      4582  \n",
       "27   2016-04-15 13:51:00 地產      1039  \n",
       "28   2016-04-15 13:51:00 生活       536  \n",
       "29   2016-04-15 13:50:00 政治     12425  \n",
       "30   2016-04-15 13:50:00 財經      1336  \n",
       "⋮    ⋮                   ⋮        ⋮      \n",
       "1471 2016-04-13 16:51:00 財經      7311  \n",
       "1472 2016-04-13 16:51:00 生活      1608  \n",
       "1473 2016-04-13 16:49:00 國際      1525  \n",
       "1474 2016-04-13 16:46:00 政治      3748  \n",
       "1475 2016-04-13 16:41:00 生活     65520  \n",
       "1476 2016-04-13 16:40:00 娛樂     23314  \n",
       "1477 2016-04-13 16:40:00 生活      5339  \n",
       "1478 2016-04-13 16:38:00 國際      3553  \n",
       "1479 2016-04-13 16:38:00 3C         761  \n",
       "1480 2016-04-13 16:37:00 財經      3364  \n",
       "1481 2016-04-13 16:35:00 社會      7124  \n",
       "1482 2016-04-13 16:35:00 社會      1562  \n",
       "1483 2016-04-13 16:35:00 社會     15959  \n",
       "1484 2016-04-13 16:35:00 體育      2988  \n",
       "1485 2016-04-13 16:33:00 論壇      3654  \n",
       "1486 2016-04-13 16:32:00 社會      6084  \n",
       "1487 2016-04-13 16:31:00 國際      3088  \n",
       "1488 2016-04-13 16:30:00 財經       835  \n",
       "1489 2016-04-13 16:29:00 生活     40171  \n",
       "1490 2016-04-13 16:27:00 生活      2840  \n",
       "1491 2016-04-13 16:26:00 生活       820  \n",
       "1492 2016-04-13 16:25:00 生活     26224  \n",
       "1493 2016-04-13 16:23:00 社會      9305  \n",
       "1494 2016-04-13 16:23:00 財經       751  \n",
       "1495 2016-04-13 16:20:00 社會      8163  \n",
       "1496 2016-04-13 16:19:00 搜奇      4242  \n",
       "1497 2016-04-13 16:18:00 生活      2381  \n",
       "1498 2016-04-13 16:17:00 搜奇     51216  \n",
       "1499 2016-04-13 16:14:00 動物      4352  \n",
       "1500 2016-04-13 16:13:00 政治     82200  "
      ]
     },
     "metadata": {},
     "output_type": "display_data"
    }
   ],
   "source": [
    "select(applenews,dt:clicked)"
   ]
  },
  {
   "cell_type": "code",
   "execution_count": 239,
   "metadata": {
    "scrolled": true
   },
   "outputs": [
    {
     "data": {
      "text/html": [
       "<table>\n",
       "<thead><tr><th scope=col>category</th></tr></thead>\n",
       "<tbody>\n",
       "\t<tr><td>社會</td></tr>\n",
       "\t<tr><td>國際</td></tr>\n",
       "\t<tr><td>地產</td></tr>\n",
       "\t<tr><td>國際</td></tr>\n",
       "\t<tr><td>時尚</td></tr>\n",
       "\t<tr><td>財經</td></tr>\n",
       "\t<tr><td>生活</td></tr>\n",
       "\t<tr><td>生活</td></tr>\n",
       "\t<tr><td>生活</td></tr>\n",
       "\t<tr><td>生活</td></tr>\n",
       "\t<tr><td>社會</td></tr>\n",
       "\t<tr><td>生活</td></tr>\n",
       "\t<tr><td>財經</td></tr>\n",
       "\t<tr><td>生活</td></tr>\n",
       "\t<tr><td>生活</td></tr>\n",
       "\t<tr><td>娛樂</td></tr>\n",
       "\t<tr><td>搜奇</td></tr>\n",
       "\t<tr><td>政治</td></tr>\n",
       "\t<tr><td>社會</td></tr>\n",
       "\t<tr><td>生活</td></tr>\n",
       "\t<tr><td>娛樂</td></tr>\n",
       "\t<tr><td>國際</td></tr>\n",
       "\t<tr><td>3C  </td></tr>\n",
       "\t<tr><td>政治</td></tr>\n",
       "\t<tr><td>國際</td></tr>\n",
       "\t<tr><td>社會</td></tr>\n",
       "\t<tr><td>地產</td></tr>\n",
       "\t<tr><td>生活</td></tr>\n",
       "\t<tr><td>政治</td></tr>\n",
       "\t<tr><td>財經</td></tr>\n",
       "\t<tr><td>⋮</td></tr>\n",
       "\t<tr><td>財經</td></tr>\n",
       "\t<tr><td>生活</td></tr>\n",
       "\t<tr><td>國際</td></tr>\n",
       "\t<tr><td>政治</td></tr>\n",
       "\t<tr><td>生活</td></tr>\n",
       "\t<tr><td>娛樂</td></tr>\n",
       "\t<tr><td>生活</td></tr>\n",
       "\t<tr><td>國際</td></tr>\n",
       "\t<tr><td>3C  </td></tr>\n",
       "\t<tr><td>財經</td></tr>\n",
       "\t<tr><td>社會</td></tr>\n",
       "\t<tr><td>社會</td></tr>\n",
       "\t<tr><td>社會</td></tr>\n",
       "\t<tr><td>體育</td></tr>\n",
       "\t<tr><td>論壇</td></tr>\n",
       "\t<tr><td>社會</td></tr>\n",
       "\t<tr><td>國際</td></tr>\n",
       "\t<tr><td>財經</td></tr>\n",
       "\t<tr><td>生活</td></tr>\n",
       "\t<tr><td>生活</td></tr>\n",
       "\t<tr><td>生活</td></tr>\n",
       "\t<tr><td>生活</td></tr>\n",
       "\t<tr><td>社會</td></tr>\n",
       "\t<tr><td>財經</td></tr>\n",
       "\t<tr><td>社會</td></tr>\n",
       "\t<tr><td>搜奇</td></tr>\n",
       "\t<tr><td>生活</td></tr>\n",
       "\t<tr><td>搜奇</td></tr>\n",
       "\t<tr><td>動物</td></tr>\n",
       "\t<tr><td>政治</td></tr>\n",
       "</tbody>\n",
       "</table>\n"
      ],
      "text/latex": [
       "\\begin{tabular}{r|l}\n",
       " category\\\\\n",
       "\\hline\n",
       "\t 社會\\\\\n",
       "\t 國際\\\\\n",
       "\t 地產\\\\\n",
       "\t 國際\\\\\n",
       "\t 時尚\\\\\n",
       "\t 財經\\\\\n",
       "\t 生活\\\\\n",
       "\t 生活\\\\\n",
       "\t 生活\\\\\n",
       "\t 生活\\\\\n",
       "\t 社會\\\\\n",
       "\t 生活\\\\\n",
       "\t 財經\\\\\n",
       "\t 生活\\\\\n",
       "\t 生活\\\\\n",
       "\t 娛樂\\\\\n",
       "\t 搜奇\\\\\n",
       "\t 政治\\\\\n",
       "\t 社會\\\\\n",
       "\t 生活\\\\\n",
       "\t 娛樂\\\\\n",
       "\t 國際\\\\\n",
       "\t 3C  \\\\\n",
       "\t 政治\\\\\n",
       "\t 國際\\\\\n",
       "\t 社會\\\\\n",
       "\t 地產\\\\\n",
       "\t 生活\\\\\n",
       "\t 政治\\\\\n",
       "\t 財經\\\\\n",
       "\t ⋮\\\\\n",
       "\t 財經\\\\\n",
       "\t 生活\\\\\n",
       "\t 國際\\\\\n",
       "\t 政治\\\\\n",
       "\t 生活\\\\\n",
       "\t 娛樂\\\\\n",
       "\t 生活\\\\\n",
       "\t 國際\\\\\n",
       "\t 3C  \\\\\n",
       "\t 財經\\\\\n",
       "\t 社會\\\\\n",
       "\t 社會\\\\\n",
       "\t 社會\\\\\n",
       "\t 體育\\\\\n",
       "\t 論壇\\\\\n",
       "\t 社會\\\\\n",
       "\t 國際\\\\\n",
       "\t 財經\\\\\n",
       "\t 生活\\\\\n",
       "\t 生活\\\\\n",
       "\t 生活\\\\\n",
       "\t 生活\\\\\n",
       "\t 社會\\\\\n",
       "\t 財經\\\\\n",
       "\t 社會\\\\\n",
       "\t 搜奇\\\\\n",
       "\t 生活\\\\\n",
       "\t 搜奇\\\\\n",
       "\t 動物\\\\\n",
       "\t 政治\\\\\n",
       "\\end{tabular}\n"
      ],
      "text/markdown": [
       "\n",
       "category | \n",
       "|---|---|---|---|---|---|---|---|---|---|---|---|---|---|---|---|---|---|---|---|---|---|---|---|---|---|---|---|---|---|---|---|---|---|---|---|---|---|---|---|---|---|---|---|---|---|---|---|---|---|---|---|---|---|---|---|---|---|---|---|---|\n",
       "| 社會 | \n",
       "| 國際 | \n",
       "| 地產 | \n",
       "| 國際 | \n",
       "| 時尚 | \n",
       "| 財經 | \n",
       "| 生活 | \n",
       "| 生活 | \n",
       "| 生活 | \n",
       "| 生活 | \n",
       "| 社會 | \n",
       "| 生活 | \n",
       "| 財經 | \n",
       "| 生活 | \n",
       "| 生活 | \n",
       "| 娛樂 | \n",
       "| 搜奇 | \n",
       "| 政治 | \n",
       "| 社會 | \n",
       "| 生活 | \n",
       "| 娛樂 | \n",
       "| 國際 | \n",
       "| 3C   | \n",
       "| 政治 | \n",
       "| 國際 | \n",
       "| 社會 | \n",
       "| 地產 | \n",
       "| 生活 | \n",
       "| 政治 | \n",
       "| 財經 | \n",
       "| ⋮ | \n",
       "| 財經 | \n",
       "| 生活 | \n",
       "| 國際 | \n",
       "| 政治 | \n",
       "| 生活 | \n",
       "| 娛樂 | \n",
       "| 生活 | \n",
       "| 國際 | \n",
       "| 3C   | \n",
       "| 財經 | \n",
       "| 社會 | \n",
       "| 社會 | \n",
       "| 社會 | \n",
       "| 體育 | \n",
       "| 論壇 | \n",
       "| 社會 | \n",
       "| 國際 | \n",
       "| 財經 | \n",
       "| 生活 | \n",
       "| 生活 | \n",
       "| 生活 | \n",
       "| 生活 | \n",
       "| 社會 | \n",
       "| 財經 | \n",
       "| 社會 | \n",
       "| 搜奇 | \n",
       "| 生活 | \n",
       "| 搜奇 | \n",
       "| 動物 | \n",
       "| 政治 | \n",
       "\n",
       "\n"
      ],
      "text/plain": [
       "     category\n",
       "1    社會    \n",
       "2    國際    \n",
       "3    地產    \n",
       "4    國際    \n",
       "5    時尚    \n",
       "6    財經    \n",
       "7    生活    \n",
       "8    生活    \n",
       "9    生活    \n",
       "10   生活    \n",
       "11   社會    \n",
       "12   生活    \n",
       "13   財經    \n",
       "14   生活    \n",
       "15   生活    \n",
       "16   娛樂    \n",
       "17   搜奇    \n",
       "18   政治    \n",
       "19   社會    \n",
       "20   生活    \n",
       "21   娛樂    \n",
       "22   國際    \n",
       "23   3C      \n",
       "24   政治    \n",
       "25   國際    \n",
       "26   社會    \n",
       "27   地產    \n",
       "28   生活    \n",
       "29   政治    \n",
       "30   財經    \n",
       "⋮    ⋮       \n",
       "1471 財經    \n",
       "1472 生活    \n",
       "1473 國際    \n",
       "1474 政治    \n",
       "1475 生活    \n",
       "1476 娛樂    \n",
       "1477 生活    \n",
       "1478 國際    \n",
       "1479 3C      \n",
       "1480 財經    \n",
       "1481 社會    \n",
       "1482 社會    \n",
       "1483 社會    \n",
       "1484 體育    \n",
       "1485 論壇    \n",
       "1486 社會    \n",
       "1487 國際    \n",
       "1488 財經    \n",
       "1489 生活    \n",
       "1490 生活    \n",
       "1491 生活    \n",
       "1492 生活    \n",
       "1493 社會    \n",
       "1494 財經    \n",
       "1495 社會    \n",
       "1496 搜奇    \n",
       "1497 生活    \n",
       "1498 搜奇    \n",
       "1499 動物    \n",
       "1500 政治    "
      ]
     },
     "metadata": {},
     "output_type": "display_data"
    }
   ],
   "source": [
    "select(applenews,contains('cate'))"
   ]
  },
  {
   "cell_type": "code",
   "execution_count": 241,
   "metadata": {
    "scrolled": true
   },
   "outputs": [
    {
     "data": {
      "text/html": [
       "<table>\n",
       "<thead><tr><th scope=col>Sepal.Length</th><th scope=col>Sepal.Width</th></tr></thead>\n",
       "<tbody>\n",
       "\t<tr><td>5.1</td><td>3.5</td></tr>\n",
       "\t<tr><td>4.9</td><td>3.0</td></tr>\n",
       "\t<tr><td>4.7</td><td>3.2</td></tr>\n",
       "\t<tr><td>4.6</td><td>3.1</td></tr>\n",
       "\t<tr><td>5.0</td><td>3.6</td></tr>\n",
       "\t<tr><td>5.4</td><td>3.9</td></tr>\n",
       "\t<tr><td> NA</td><td>3.4</td></tr>\n",
       "\t<tr><td>5.0</td><td>3.4</td></tr>\n",
       "\t<tr><td>4.4</td><td>2.9</td></tr>\n",
       "\t<tr><td>4.9</td><td>3.1</td></tr>\n",
       "\t<tr><td>5.4</td><td>3.7</td></tr>\n",
       "\t<tr><td> NA</td><td>3.4</td></tr>\n",
       "\t<tr><td>4.8</td><td>3.0</td></tr>\n",
       "\t<tr><td>4.3</td><td>3.0</td></tr>\n",
       "\t<tr><td>5.8</td><td>4.0</td></tr>\n",
       "\t<tr><td>5.7</td><td>4.4</td></tr>\n",
       "\t<tr><td>5.4</td><td>3.9</td></tr>\n",
       "\t<tr><td>5.1</td><td>3.5</td></tr>\n",
       "\t<tr><td>5.7</td><td>3.8</td></tr>\n",
       "\t<tr><td>5.1</td><td>3.8</td></tr>\n",
       "\t<tr><td>5.4</td><td>3.4</td></tr>\n",
       "\t<tr><td>5.1</td><td>3.7</td></tr>\n",
       "\t<tr><td>4.6</td><td>3.6</td></tr>\n",
       "\t<tr><td>5.1</td><td>3.3</td></tr>\n",
       "\t<tr><td> NA</td><td>3.4</td></tr>\n",
       "\t<tr><td>5.0</td><td>3.0</td></tr>\n",
       "\t<tr><td>5.0</td><td>3.4</td></tr>\n",
       "\t<tr><td> NA</td><td>3.5</td></tr>\n",
       "\t<tr><td>5.2</td><td>3.4</td></tr>\n",
       "\t<tr><td>4.7</td><td>3.2</td></tr>\n",
       "\t<tr><td>⋮</td><td>⋮</td></tr>\n",
       "\t<tr><td>6.9</td><td>3.2</td></tr>\n",
       "\t<tr><td>5.6</td><td>2.8</td></tr>\n",
       "\t<tr><td> NA</td><td>2.8</td></tr>\n",
       "\t<tr><td>6.3</td><td>2.7</td></tr>\n",
       "\t<tr><td>6.7</td><td>3.3</td></tr>\n",
       "\t<tr><td>7.2</td><td>3.2</td></tr>\n",
       "\t<tr><td>6.2</td><td>2.8</td></tr>\n",
       "\t<tr><td>6.1</td><td>3.0</td></tr>\n",
       "\t<tr><td>6.4</td><td>2.8</td></tr>\n",
       "\t<tr><td>7.2</td><td>3.0</td></tr>\n",
       "\t<tr><td>7.4</td><td>2.8</td></tr>\n",
       "\t<tr><td> NA</td><td>3.8</td></tr>\n",
       "\t<tr><td>6.4</td><td>2.8</td></tr>\n",
       "\t<tr><td> NA</td><td>2.8</td></tr>\n",
       "\t<tr><td>6.1</td><td>2.6</td></tr>\n",
       "\t<tr><td>7.7</td><td>3.0</td></tr>\n",
       "\t<tr><td>6.3</td><td>3.4</td></tr>\n",
       "\t<tr><td>6.4</td><td>3.1</td></tr>\n",
       "\t<tr><td>6.0</td><td>3.0</td></tr>\n",
       "\t<tr><td>6.9</td><td>3.1</td></tr>\n",
       "\t<tr><td>6.7</td><td>3.1</td></tr>\n",
       "\t<tr><td>6.9</td><td>3.1</td></tr>\n",
       "\t<tr><td>5.8</td><td>2.7</td></tr>\n",
       "\t<tr><td>6.8</td><td>3.2</td></tr>\n",
       "\t<tr><td> NA</td><td>3.3</td></tr>\n",
       "\t<tr><td>6.7</td><td>3.0</td></tr>\n",
       "\t<tr><td>6.3</td><td>2.5</td></tr>\n",
       "\t<tr><td>6.5</td><td>3.0</td></tr>\n",
       "\t<tr><td>6.2</td><td>3.4</td></tr>\n",
       "\t<tr><td>5.9</td><td>3.0</td></tr>\n",
       "</tbody>\n",
       "</table>\n"
      ],
      "text/latex": [
       "\\begin{tabular}{r|ll}\n",
       " Sepal.Length & Sepal.Width\\\\\n",
       "\\hline\n",
       "\t 5.1 & 3.5\\\\\n",
       "\t 4.9 & 3.0\\\\\n",
       "\t 4.7 & 3.2\\\\\n",
       "\t 4.6 & 3.1\\\\\n",
       "\t 5.0 & 3.6\\\\\n",
       "\t 5.4 & 3.9\\\\\n",
       "\t  NA & 3.4\\\\\n",
       "\t 5.0 & 3.4\\\\\n",
       "\t 4.4 & 2.9\\\\\n",
       "\t 4.9 & 3.1\\\\\n",
       "\t 5.4 & 3.7\\\\\n",
       "\t  NA & 3.4\\\\\n",
       "\t 4.8 & 3.0\\\\\n",
       "\t 4.3 & 3.0\\\\\n",
       "\t 5.8 & 4.0\\\\\n",
       "\t 5.7 & 4.4\\\\\n",
       "\t 5.4 & 3.9\\\\\n",
       "\t 5.1 & 3.5\\\\\n",
       "\t 5.7 & 3.8\\\\\n",
       "\t 5.1 & 3.8\\\\\n",
       "\t 5.4 & 3.4\\\\\n",
       "\t 5.1 & 3.7\\\\\n",
       "\t 4.6 & 3.6\\\\\n",
       "\t 5.1 & 3.3\\\\\n",
       "\t  NA & 3.4\\\\\n",
       "\t 5.0 & 3.0\\\\\n",
       "\t 5.0 & 3.4\\\\\n",
       "\t  NA & 3.5\\\\\n",
       "\t 5.2 & 3.4\\\\\n",
       "\t 4.7 & 3.2\\\\\n",
       "\t ⋮ & ⋮\\\\\n",
       "\t 6.9 & 3.2\\\\\n",
       "\t 5.6 & 2.8\\\\\n",
       "\t  NA & 2.8\\\\\n",
       "\t 6.3 & 2.7\\\\\n",
       "\t 6.7 & 3.3\\\\\n",
       "\t 7.2 & 3.2\\\\\n",
       "\t 6.2 & 2.8\\\\\n",
       "\t 6.1 & 3.0\\\\\n",
       "\t 6.4 & 2.8\\\\\n",
       "\t 7.2 & 3.0\\\\\n",
       "\t 7.4 & 2.8\\\\\n",
       "\t  NA & 3.8\\\\\n",
       "\t 6.4 & 2.8\\\\\n",
       "\t  NA & 2.8\\\\\n",
       "\t 6.1 & 2.6\\\\\n",
       "\t 7.7 & 3.0\\\\\n",
       "\t 6.3 & 3.4\\\\\n",
       "\t 6.4 & 3.1\\\\\n",
       "\t 6.0 & 3.0\\\\\n",
       "\t 6.9 & 3.1\\\\\n",
       "\t 6.7 & 3.1\\\\\n",
       "\t 6.9 & 3.1\\\\\n",
       "\t 5.8 & 2.7\\\\\n",
       "\t 6.8 & 3.2\\\\\n",
       "\t  NA & 3.3\\\\\n",
       "\t 6.7 & 3.0\\\\\n",
       "\t 6.3 & 2.5\\\\\n",
       "\t 6.5 & 3.0\\\\\n",
       "\t 6.2 & 3.4\\\\\n",
       "\t 5.9 & 3.0\\\\\n",
       "\\end{tabular}\n"
      ],
      "text/markdown": [
       "\n",
       "Sepal.Length | Sepal.Width | \n",
       "|---|---|---|---|---|---|---|---|---|---|---|---|---|---|---|---|---|---|---|---|---|---|---|---|---|---|---|---|---|---|---|---|---|---|---|---|---|---|---|---|---|---|---|---|---|---|---|---|---|---|---|---|---|---|---|---|---|---|---|---|---|\n",
       "| 5.1 | 3.5 | \n",
       "| 4.9 | 3.0 | \n",
       "| 4.7 | 3.2 | \n",
       "| 4.6 | 3.1 | \n",
       "| 5.0 | 3.6 | \n",
       "| 5.4 | 3.9 | \n",
       "|  NA | 3.4 | \n",
       "| 5.0 | 3.4 | \n",
       "| 4.4 | 2.9 | \n",
       "| 4.9 | 3.1 | \n",
       "| 5.4 | 3.7 | \n",
       "|  NA | 3.4 | \n",
       "| 4.8 | 3.0 | \n",
       "| 4.3 | 3.0 | \n",
       "| 5.8 | 4.0 | \n",
       "| 5.7 | 4.4 | \n",
       "| 5.4 | 3.9 | \n",
       "| 5.1 | 3.5 | \n",
       "| 5.7 | 3.8 | \n",
       "| 5.1 | 3.8 | \n",
       "| 5.4 | 3.4 | \n",
       "| 5.1 | 3.7 | \n",
       "| 4.6 | 3.6 | \n",
       "| 5.1 | 3.3 | \n",
       "|  NA | 3.4 | \n",
       "| 5.0 | 3.0 | \n",
       "| 5.0 | 3.4 | \n",
       "|  NA | 3.5 | \n",
       "| 5.2 | 3.4 | \n",
       "| 4.7 | 3.2 | \n",
       "| ⋮ | ⋮ | \n",
       "| 6.9 | 3.2 | \n",
       "| 5.6 | 2.8 | \n",
       "|  NA | 2.8 | \n",
       "| 6.3 | 2.7 | \n",
       "| 6.7 | 3.3 | \n",
       "| 7.2 | 3.2 | \n",
       "| 6.2 | 2.8 | \n",
       "| 6.1 | 3.0 | \n",
       "| 6.4 | 2.8 | \n",
       "| 7.2 | 3.0 | \n",
       "| 7.4 | 2.8 | \n",
       "|  NA | 3.8 | \n",
       "| 6.4 | 2.8 | \n",
       "|  NA | 2.8 | \n",
       "| 6.1 | 2.6 | \n",
       "| 7.7 | 3.0 | \n",
       "| 6.3 | 3.4 | \n",
       "| 6.4 | 3.1 | \n",
       "| 6.0 | 3.0 | \n",
       "| 6.9 | 3.1 | \n",
       "| 6.7 | 3.1 | \n",
       "| 6.9 | 3.1 | \n",
       "| 5.8 | 2.7 | \n",
       "| 6.8 | 3.2 | \n",
       "|  NA | 3.3 | \n",
       "| 6.7 | 3.0 | \n",
       "| 6.3 | 2.5 | \n",
       "| 6.5 | 3.0 | \n",
       "| 6.2 | 3.4 | \n",
       "| 5.9 | 3.0 | \n",
       "\n",
       "\n"
      ],
      "text/plain": [
       "    Sepal.Length Sepal.Width\n",
       "1   5.1          3.5        \n",
       "2   4.9          3.0        \n",
       "3   4.7          3.2        \n",
       "4   4.6          3.1        \n",
       "5   5.0          3.6        \n",
       "6   5.4          3.9        \n",
       "7    NA          3.4        \n",
       "8   5.0          3.4        \n",
       "9   4.4          2.9        \n",
       "10  4.9          3.1        \n",
       "11  5.4          3.7        \n",
       "12   NA          3.4        \n",
       "13  4.8          3.0        \n",
       "14  4.3          3.0        \n",
       "15  5.8          4.0        \n",
       "16  5.7          4.4        \n",
       "17  5.4          3.9        \n",
       "18  5.1          3.5        \n",
       "19  5.7          3.8        \n",
       "20  5.1          3.8        \n",
       "21  5.4          3.4        \n",
       "22  5.1          3.7        \n",
       "23  4.6          3.6        \n",
       "24  5.1          3.3        \n",
       "25   NA          3.4        \n",
       "26  5.0          3.0        \n",
       "27  5.0          3.4        \n",
       "28   NA          3.5        \n",
       "29  5.2          3.4        \n",
       "30  4.7          3.2        \n",
       "⋮   ⋮            ⋮          \n",
       "121 6.9          3.2        \n",
       "122 5.6          2.8        \n",
       "123  NA          2.8        \n",
       "124 6.3          2.7        \n",
       "125 6.7          3.3        \n",
       "126 7.2          3.2        \n",
       "127 6.2          2.8        \n",
       "128 6.1          3.0        \n",
       "129 6.4          2.8        \n",
       "130 7.2          3.0        \n",
       "131 7.4          2.8        \n",
       "132  NA          3.8        \n",
       "133 6.4          2.8        \n",
       "134  NA          2.8        \n",
       "135 6.1          2.6        \n",
       "136 7.7          3.0        \n",
       "137 6.3          3.4        \n",
       "138 6.4          3.1        \n",
       "139 6.0          3.0        \n",
       "140 6.9          3.1        \n",
       "141 6.7          3.1        \n",
       "142 6.9          3.1        \n",
       "143 5.8          2.7        \n",
       "144 6.8          3.2        \n",
       "145  NA          3.3        \n",
       "146 6.7          3.0        \n",
       "147 6.3          2.5        \n",
       "148 6.5          3.0        \n",
       "149 6.2          3.4        \n",
       "150 5.9          3.0        "
      ]
     },
     "metadata": {},
     "output_type": "display_data"
    }
   ],
   "source": [
    "select(iris,starts_with('Sepal'))"
   ]
  },
  {
   "cell_type": "code",
   "execution_count": 242,
   "metadata": {
    "scrolled": true
   },
   "outputs": [
    {
     "data": {
      "text/html": [
       "<table>\n",
       "<thead><tr><th scope=col>Sepal.Length</th><th scope=col>Petal.Length</th></tr></thead>\n",
       "<tbody>\n",
       "\t<tr><td>5.1</td><td>1.4</td></tr>\n",
       "\t<tr><td>4.9</td><td>1.4</td></tr>\n",
       "\t<tr><td>4.7</td><td>1.3</td></tr>\n",
       "\t<tr><td>4.6</td><td>1.5</td></tr>\n",
       "\t<tr><td>5.0</td><td>1.4</td></tr>\n",
       "\t<tr><td>5.4</td><td>1.7</td></tr>\n",
       "\t<tr><td> NA</td><td>1.4</td></tr>\n",
       "\t<tr><td>5.0</td><td>1.5</td></tr>\n",
       "\t<tr><td>4.4</td><td>1.4</td></tr>\n",
       "\t<tr><td>4.9</td><td>1.5</td></tr>\n",
       "\t<tr><td>5.4</td><td>1.5</td></tr>\n",
       "\t<tr><td> NA</td><td>1.6</td></tr>\n",
       "\t<tr><td>4.8</td><td>1.4</td></tr>\n",
       "\t<tr><td>4.3</td><td>1.1</td></tr>\n",
       "\t<tr><td>5.8</td><td>1.2</td></tr>\n",
       "\t<tr><td>5.7</td><td>1.5</td></tr>\n",
       "\t<tr><td>5.4</td><td>1.3</td></tr>\n",
       "\t<tr><td>5.1</td><td>1.4</td></tr>\n",
       "\t<tr><td>5.7</td><td>1.7</td></tr>\n",
       "\t<tr><td>5.1</td><td>1.5</td></tr>\n",
       "\t<tr><td>5.4</td><td>1.7</td></tr>\n",
       "\t<tr><td>5.1</td><td>1.5</td></tr>\n",
       "\t<tr><td>4.6</td><td>1.0</td></tr>\n",
       "\t<tr><td>5.1</td><td>1.7</td></tr>\n",
       "\t<tr><td> NA</td><td>1.9</td></tr>\n",
       "\t<tr><td>5.0</td><td>1.6</td></tr>\n",
       "\t<tr><td>5.0</td><td>1.6</td></tr>\n",
       "\t<tr><td> NA</td><td>1.5</td></tr>\n",
       "\t<tr><td>5.2</td><td>1.4</td></tr>\n",
       "\t<tr><td>4.7</td><td>1.6</td></tr>\n",
       "\t<tr><td>⋮</td><td>⋮</td></tr>\n",
       "\t<tr><td>6.9</td><td>5.7</td></tr>\n",
       "\t<tr><td>5.6</td><td>4.9</td></tr>\n",
       "\t<tr><td> NA</td><td>6.7</td></tr>\n",
       "\t<tr><td>6.3</td><td>4.9</td></tr>\n",
       "\t<tr><td>6.7</td><td>5.7</td></tr>\n",
       "\t<tr><td>7.2</td><td>6.0</td></tr>\n",
       "\t<tr><td>6.2</td><td>4.8</td></tr>\n",
       "\t<tr><td>6.1</td><td>4.9</td></tr>\n",
       "\t<tr><td>6.4</td><td>5.6</td></tr>\n",
       "\t<tr><td>7.2</td><td>5.8</td></tr>\n",
       "\t<tr><td>7.4</td><td>6.1</td></tr>\n",
       "\t<tr><td> NA</td><td>6.4</td></tr>\n",
       "\t<tr><td>6.4</td><td>5.6</td></tr>\n",
       "\t<tr><td> NA</td><td>5.1</td></tr>\n",
       "\t<tr><td>6.1</td><td>5.6</td></tr>\n",
       "\t<tr><td>7.7</td><td>6.1</td></tr>\n",
       "\t<tr><td>6.3</td><td>5.6</td></tr>\n",
       "\t<tr><td>6.4</td><td>5.5</td></tr>\n",
       "\t<tr><td>6.0</td><td>4.8</td></tr>\n",
       "\t<tr><td>6.9</td><td>5.4</td></tr>\n",
       "\t<tr><td>6.7</td><td>5.6</td></tr>\n",
       "\t<tr><td>6.9</td><td>5.1</td></tr>\n",
       "\t<tr><td>5.8</td><td>5.1</td></tr>\n",
       "\t<tr><td>6.8</td><td>5.9</td></tr>\n",
       "\t<tr><td> NA</td><td>5.7</td></tr>\n",
       "\t<tr><td>6.7</td><td>5.2</td></tr>\n",
       "\t<tr><td>6.3</td><td>5.0</td></tr>\n",
       "\t<tr><td>6.5</td><td>5.2</td></tr>\n",
       "\t<tr><td>6.2</td><td>5.4</td></tr>\n",
       "\t<tr><td>5.9</td><td>5.1</td></tr>\n",
       "</tbody>\n",
       "</table>\n"
      ],
      "text/latex": [
       "\\begin{tabular}{r|ll}\n",
       " Sepal.Length & Petal.Length\\\\\n",
       "\\hline\n",
       "\t 5.1 & 1.4\\\\\n",
       "\t 4.9 & 1.4\\\\\n",
       "\t 4.7 & 1.3\\\\\n",
       "\t 4.6 & 1.5\\\\\n",
       "\t 5.0 & 1.4\\\\\n",
       "\t 5.4 & 1.7\\\\\n",
       "\t  NA & 1.4\\\\\n",
       "\t 5.0 & 1.5\\\\\n",
       "\t 4.4 & 1.4\\\\\n",
       "\t 4.9 & 1.5\\\\\n",
       "\t 5.4 & 1.5\\\\\n",
       "\t  NA & 1.6\\\\\n",
       "\t 4.8 & 1.4\\\\\n",
       "\t 4.3 & 1.1\\\\\n",
       "\t 5.8 & 1.2\\\\\n",
       "\t 5.7 & 1.5\\\\\n",
       "\t 5.4 & 1.3\\\\\n",
       "\t 5.1 & 1.4\\\\\n",
       "\t 5.7 & 1.7\\\\\n",
       "\t 5.1 & 1.5\\\\\n",
       "\t 5.4 & 1.7\\\\\n",
       "\t 5.1 & 1.5\\\\\n",
       "\t 4.6 & 1.0\\\\\n",
       "\t 5.1 & 1.7\\\\\n",
       "\t  NA & 1.9\\\\\n",
       "\t 5.0 & 1.6\\\\\n",
       "\t 5.0 & 1.6\\\\\n",
       "\t  NA & 1.5\\\\\n",
       "\t 5.2 & 1.4\\\\\n",
       "\t 4.7 & 1.6\\\\\n",
       "\t ⋮ & ⋮\\\\\n",
       "\t 6.9 & 5.7\\\\\n",
       "\t 5.6 & 4.9\\\\\n",
       "\t  NA & 6.7\\\\\n",
       "\t 6.3 & 4.9\\\\\n",
       "\t 6.7 & 5.7\\\\\n",
       "\t 7.2 & 6.0\\\\\n",
       "\t 6.2 & 4.8\\\\\n",
       "\t 6.1 & 4.9\\\\\n",
       "\t 6.4 & 5.6\\\\\n",
       "\t 7.2 & 5.8\\\\\n",
       "\t 7.4 & 6.1\\\\\n",
       "\t  NA & 6.4\\\\\n",
       "\t 6.4 & 5.6\\\\\n",
       "\t  NA & 5.1\\\\\n",
       "\t 6.1 & 5.6\\\\\n",
       "\t 7.7 & 6.1\\\\\n",
       "\t 6.3 & 5.6\\\\\n",
       "\t 6.4 & 5.5\\\\\n",
       "\t 6.0 & 4.8\\\\\n",
       "\t 6.9 & 5.4\\\\\n",
       "\t 6.7 & 5.6\\\\\n",
       "\t 6.9 & 5.1\\\\\n",
       "\t 5.8 & 5.1\\\\\n",
       "\t 6.8 & 5.9\\\\\n",
       "\t  NA & 5.7\\\\\n",
       "\t 6.7 & 5.2\\\\\n",
       "\t 6.3 & 5.0\\\\\n",
       "\t 6.5 & 5.2\\\\\n",
       "\t 6.2 & 5.4\\\\\n",
       "\t 5.9 & 5.1\\\\\n",
       "\\end{tabular}\n"
      ],
      "text/markdown": [
       "\n",
       "Sepal.Length | Petal.Length | \n",
       "|---|---|---|---|---|---|---|---|---|---|---|---|---|---|---|---|---|---|---|---|---|---|---|---|---|---|---|---|---|---|---|---|---|---|---|---|---|---|---|---|---|---|---|---|---|---|---|---|---|---|---|---|---|---|---|---|---|---|---|---|---|\n",
       "| 5.1 | 1.4 | \n",
       "| 4.9 | 1.4 | \n",
       "| 4.7 | 1.3 | \n",
       "| 4.6 | 1.5 | \n",
       "| 5.0 | 1.4 | \n",
       "| 5.4 | 1.7 | \n",
       "|  NA | 1.4 | \n",
       "| 5.0 | 1.5 | \n",
       "| 4.4 | 1.4 | \n",
       "| 4.9 | 1.5 | \n",
       "| 5.4 | 1.5 | \n",
       "|  NA | 1.6 | \n",
       "| 4.8 | 1.4 | \n",
       "| 4.3 | 1.1 | \n",
       "| 5.8 | 1.2 | \n",
       "| 5.7 | 1.5 | \n",
       "| 5.4 | 1.3 | \n",
       "| 5.1 | 1.4 | \n",
       "| 5.7 | 1.7 | \n",
       "| 5.1 | 1.5 | \n",
       "| 5.4 | 1.7 | \n",
       "| 5.1 | 1.5 | \n",
       "| 4.6 | 1.0 | \n",
       "| 5.1 | 1.7 | \n",
       "|  NA | 1.9 | \n",
       "| 5.0 | 1.6 | \n",
       "| 5.0 | 1.6 | \n",
       "|  NA | 1.5 | \n",
       "| 5.2 | 1.4 | \n",
       "| 4.7 | 1.6 | \n",
       "| ⋮ | ⋮ | \n",
       "| 6.9 | 5.7 | \n",
       "| 5.6 | 4.9 | \n",
       "|  NA | 6.7 | \n",
       "| 6.3 | 4.9 | \n",
       "| 6.7 | 5.7 | \n",
       "| 7.2 | 6.0 | \n",
       "| 6.2 | 4.8 | \n",
       "| 6.1 | 4.9 | \n",
       "| 6.4 | 5.6 | \n",
       "| 7.2 | 5.8 | \n",
       "| 7.4 | 6.1 | \n",
       "|  NA | 6.4 | \n",
       "| 6.4 | 5.6 | \n",
       "|  NA | 5.1 | \n",
       "| 6.1 | 5.6 | \n",
       "| 7.7 | 6.1 | \n",
       "| 6.3 | 5.6 | \n",
       "| 6.4 | 5.5 | \n",
       "| 6.0 | 4.8 | \n",
       "| 6.9 | 5.4 | \n",
       "| 6.7 | 5.6 | \n",
       "| 6.9 | 5.1 | \n",
       "| 5.8 | 5.1 | \n",
       "| 6.8 | 5.9 | \n",
       "|  NA | 5.7 | \n",
       "| 6.7 | 5.2 | \n",
       "| 6.3 | 5.0 | \n",
       "| 6.5 | 5.2 | \n",
       "| 6.2 | 5.4 | \n",
       "| 5.9 | 5.1 | \n",
       "\n",
       "\n"
      ],
      "text/plain": [
       "    Sepal.Length Petal.Length\n",
       "1   5.1          1.4         \n",
       "2   4.9          1.4         \n",
       "3   4.7          1.3         \n",
       "4   4.6          1.5         \n",
       "5   5.0          1.4         \n",
       "6   5.4          1.7         \n",
       "7    NA          1.4         \n",
       "8   5.0          1.5         \n",
       "9   4.4          1.4         \n",
       "10  4.9          1.5         \n",
       "11  5.4          1.5         \n",
       "12   NA          1.6         \n",
       "13  4.8          1.4         \n",
       "14  4.3          1.1         \n",
       "15  5.8          1.2         \n",
       "16  5.7          1.5         \n",
       "17  5.4          1.3         \n",
       "18  5.1          1.4         \n",
       "19  5.7          1.7         \n",
       "20  5.1          1.5         \n",
       "21  5.4          1.7         \n",
       "22  5.1          1.5         \n",
       "23  4.6          1.0         \n",
       "24  5.1          1.7         \n",
       "25   NA          1.9         \n",
       "26  5.0          1.6         \n",
       "27  5.0          1.6         \n",
       "28   NA          1.5         \n",
       "29  5.2          1.4         \n",
       "30  4.7          1.6         \n",
       "⋮   ⋮            ⋮           \n",
       "121 6.9          5.7         \n",
       "122 5.6          4.9         \n",
       "123  NA          6.7         \n",
       "124 6.3          4.9         \n",
       "125 6.7          5.7         \n",
       "126 7.2          6.0         \n",
       "127 6.2          4.8         \n",
       "128 6.1          4.9         \n",
       "129 6.4          5.6         \n",
       "130 7.2          5.8         \n",
       "131 7.4          6.1         \n",
       "132  NA          6.4         \n",
       "133 6.4          5.6         \n",
       "134  NA          5.1         \n",
       "135 6.1          5.6         \n",
       "136 7.7          6.1         \n",
       "137 6.3          5.6         \n",
       "138 6.4          5.5         \n",
       "139 6.0          4.8         \n",
       "140 6.9          5.4         \n",
       "141 6.7          5.6         \n",
       "142 6.9          5.1         \n",
       "143 5.8          5.1         \n",
       "144 6.8          5.9         \n",
       "145  NA          5.7         \n",
       "146 6.7          5.2         \n",
       "147 6.3          5.0         \n",
       "148 6.5          5.2         \n",
       "149 6.2          5.4         \n",
       "150 5.9          5.1         "
      ]
     },
     "metadata": {},
     "output_type": "display_data"
    }
   ],
   "source": [
    "select(iris,ends_with('Length'))"
   ]
  },
  {
   "cell_type": "code",
   "execution_count": 244,
   "metadata": {},
   "outputs": [
    {
     "data": {
      "text/html": [
       "<table>\n",
       "<thead><tr><th scope=col>dt</th><th scope=col>category</th><th scope=col>clicked</th></tr></thead>\n",
       "<tbody>\n",
       "\t<tr><td>2016-04-15 14:32:00</td><td>社會               </td><td> 1754              </td></tr>\n",
       "\t<tr><td>2016-04-15 14:22:00</td><td>社會               </td><td> 1076              </td></tr>\n",
       "\t<tr><td>2016-04-15 14:17:00</td><td>娛樂               </td><td> 1749              </td></tr>\n",
       "\t<tr><td>2016-04-15 14:12:00</td><td>社會               </td><td>11886              </td></tr>\n",
       "\t<tr><td>2016-04-15 14:00:00</td><td>娛樂               </td><td>11696              </td></tr>\n",
       "\t<tr><td>2016-04-15 13:52:00</td><td>社會               </td><td> 4582              </td></tr>\n",
       "\t<tr><td>2016-04-15 13:49:00</td><td>娛樂               </td><td> 3329              </td></tr>\n",
       "\t<tr><td>2016-04-15 13:47:00</td><td>社會               </td><td> 1154              </td></tr>\n",
       "\t<tr><td>2016-04-15 13:45:00</td><td>社會               </td><td> 4322              </td></tr>\n",
       "\t<tr><td>2016-04-15 13:40:00</td><td>娛樂               </td><td> 4307              </td></tr>\n",
       "\t<tr><td>2016-04-15 13:30:00</td><td>娛樂               </td><td> 4651              </td></tr>\n",
       "\t<tr><td>2016-04-15 13:23:00</td><td>娛樂               </td><td> 5141              </td></tr>\n",
       "\t<tr><td>2016-04-15 13:08:00</td><td>娛樂               </td><td>11588              </td></tr>\n",
       "\t<tr><td>2016-04-15 13:07:00</td><td>社會               </td><td> 1989              </td></tr>\n",
       "\t<tr><td>2016-04-15 13:06:00</td><td>社會               </td><td> 1147              </td></tr>\n",
       "\t<tr><td>2016-04-15 13:02:00</td><td>社會               </td><td>15328              </td></tr>\n",
       "\t<tr><td>2016-04-15 13:00:00</td><td>娛樂               </td><td> 5209              </td></tr>\n",
       "\t<tr><td>2016-04-15 12:52:00</td><td>社會               </td><td> 4432              </td></tr>\n",
       "\t<tr><td>2016-04-15 12:41:00</td><td>社會               </td><td> 1011              </td></tr>\n",
       "\t<tr><td>2016-04-15 12:38:00</td><td>社會               </td><td> 8186              </td></tr>\n",
       "\t<tr><td>2016-04-15 12:34:00</td><td>社會               </td><td> 3747              </td></tr>\n",
       "\t<tr><td>2016-04-15 12:33:00</td><td>社會               </td><td>14450              </td></tr>\n",
       "\t<tr><td>2016-04-15 12:29:00</td><td>娛樂               </td><td>27010              </td></tr>\n",
       "\t<tr><td>2016-04-15 12:26:00</td><td>社會               </td><td> 3263              </td></tr>\n",
       "\t<tr><td>2016-04-15 12:09:00</td><td>社會               </td><td> 4273              </td></tr>\n",
       "\t<tr><td>2016-04-15 12:08:00</td><td>社會               </td><td> 8332              </td></tr>\n",
       "\t<tr><td>2016-04-15 12:05:00</td><td>社會               </td><td> 2957              </td></tr>\n",
       "\t<tr><td>2016-04-15 11:59:00</td><td>社會               </td><td>17249              </td></tr>\n",
       "\t<tr><td>2016-04-15 11:53:00</td><td>社會               </td><td> 2518              </td></tr>\n",
       "\t<tr><td>2016-04-15 11:52:00</td><td>娛樂               </td><td>10455              </td></tr>\n",
       "\t<tr><td>⋮</td><td>⋮</td><td>⋮</td></tr>\n",
       "\t<tr><td>2016-04-13 19:03:00</td><td>社會               </td><td>214796             </td></tr>\n",
       "\t<tr><td>2016-04-13 19:03:00</td><td>娛樂               </td><td> 70169             </td></tr>\n",
       "\t<tr><td>2016-04-13 18:56:00</td><td>社會               </td><td> 59229             </td></tr>\n",
       "\t<tr><td>2016-04-13 18:47:00</td><td>社會               </td><td> 18045             </td></tr>\n",
       "\t<tr><td>2016-04-13 18:46:00</td><td>娛樂               </td><td> 40764             </td></tr>\n",
       "\t<tr><td>2016-04-13 18:40:00</td><td>娛樂               </td><td> 19267             </td></tr>\n",
       "\t<tr><td>2016-04-13 18:38:00</td><td>娛樂               </td><td>  9860             </td></tr>\n",
       "\t<tr><td>2016-04-13 18:10:00</td><td>娛樂               </td><td> 17874             </td></tr>\n",
       "\t<tr><td>2016-04-13 18:10:00</td><td>社會               </td><td> 19741             </td></tr>\n",
       "\t<tr><td>2016-04-13 18:10:00</td><td>社會               </td><td> 47145             </td></tr>\n",
       "\t<tr><td>2016-04-13 18:10:00</td><td>社會               </td><td> 47145             </td></tr>\n",
       "\t<tr><td>2016-04-13 18:03:00</td><td>社會               </td><td> 31267             </td></tr>\n",
       "\t<tr><td>2016-04-13 17:56:00</td><td>娛樂               </td><td> 42048             </td></tr>\n",
       "\t<tr><td>2016-04-13 17:32:00</td><td>社會               </td><td>  9292             </td></tr>\n",
       "\t<tr><td>2016-04-13 17:30:00</td><td>娛樂               </td><td> 18752             </td></tr>\n",
       "\t<tr><td>2016-04-13 17:30:00</td><td>社會               </td><td> 12091             </td></tr>\n",
       "\t<tr><td>2016-04-13 17:12:00</td><td>社會               </td><td>  4600             </td></tr>\n",
       "\t<tr><td>2016-04-13 17:11:00</td><td>社會               </td><td>  9284             </td></tr>\n",
       "\t<tr><td>2016-04-13 17:08:00</td><td>娛樂               </td><td>299235             </td></tr>\n",
       "\t<tr><td>2016-04-13 17:05:00</td><td>社會               </td><td> 17937             </td></tr>\n",
       "\t<tr><td>2016-04-13 17:03:00</td><td>社會               </td><td> 18176             </td></tr>\n",
       "\t<tr><td>2016-04-13 16:55:00</td><td>社會               </td><td>  5940             </td></tr>\n",
       "\t<tr><td>2016-04-13 16:52:00</td><td>娛樂               </td><td> 32363             </td></tr>\n",
       "\t<tr><td>2016-04-13 16:40:00</td><td>娛樂               </td><td> 23314             </td></tr>\n",
       "\t<tr><td>2016-04-13 16:35:00</td><td>社會               </td><td>  7124             </td></tr>\n",
       "\t<tr><td>2016-04-13 16:35:00</td><td>社會               </td><td>  1562             </td></tr>\n",
       "\t<tr><td>2016-04-13 16:35:00</td><td>社會               </td><td> 15959             </td></tr>\n",
       "\t<tr><td>2016-04-13 16:32:00</td><td>社會               </td><td>  6084             </td></tr>\n",
       "\t<tr><td>2016-04-13 16:23:00</td><td>社會               </td><td>  9305             </td></tr>\n",
       "\t<tr><td>2016-04-13 16:20:00</td><td>社會               </td><td>  8163             </td></tr>\n",
       "</tbody>\n",
       "</table>\n"
      ],
      "text/latex": [
       "\\begin{tabular}{r|lll}\n",
       " dt & category & clicked\\\\\n",
       "\\hline\n",
       "\t 2016-04-15 14:32:00 & 社會                &  1754              \\\\\n",
       "\t 2016-04-15 14:22:00 & 社會                &  1076              \\\\\n",
       "\t 2016-04-15 14:17:00 & 娛樂                &  1749              \\\\\n",
       "\t 2016-04-15 14:12:00 & 社會                & 11886              \\\\\n",
       "\t 2016-04-15 14:00:00 & 娛樂                & 11696              \\\\\n",
       "\t 2016-04-15 13:52:00 & 社會                &  4582              \\\\\n",
       "\t 2016-04-15 13:49:00 & 娛樂                &  3329              \\\\\n",
       "\t 2016-04-15 13:47:00 & 社會                &  1154              \\\\\n",
       "\t 2016-04-15 13:45:00 & 社會                &  4322              \\\\\n",
       "\t 2016-04-15 13:40:00 & 娛樂                &  4307              \\\\\n",
       "\t 2016-04-15 13:30:00 & 娛樂                &  4651              \\\\\n",
       "\t 2016-04-15 13:23:00 & 娛樂                &  5141              \\\\\n",
       "\t 2016-04-15 13:08:00 & 娛樂                & 11588              \\\\\n",
       "\t 2016-04-15 13:07:00 & 社會                &  1989              \\\\\n",
       "\t 2016-04-15 13:06:00 & 社會                &  1147              \\\\\n",
       "\t 2016-04-15 13:02:00 & 社會                & 15328              \\\\\n",
       "\t 2016-04-15 13:00:00 & 娛樂                &  5209              \\\\\n",
       "\t 2016-04-15 12:52:00 & 社會                &  4432              \\\\\n",
       "\t 2016-04-15 12:41:00 & 社會                &  1011              \\\\\n",
       "\t 2016-04-15 12:38:00 & 社會                &  8186              \\\\\n",
       "\t 2016-04-15 12:34:00 & 社會                &  3747              \\\\\n",
       "\t 2016-04-15 12:33:00 & 社會                & 14450              \\\\\n",
       "\t 2016-04-15 12:29:00 & 娛樂                & 27010              \\\\\n",
       "\t 2016-04-15 12:26:00 & 社會                &  3263              \\\\\n",
       "\t 2016-04-15 12:09:00 & 社會                &  4273              \\\\\n",
       "\t 2016-04-15 12:08:00 & 社會                &  8332              \\\\\n",
       "\t 2016-04-15 12:05:00 & 社會                &  2957              \\\\\n",
       "\t 2016-04-15 11:59:00 & 社會                & 17249              \\\\\n",
       "\t 2016-04-15 11:53:00 & 社會                &  2518              \\\\\n",
       "\t 2016-04-15 11:52:00 & 娛樂                & 10455              \\\\\n",
       "\t ⋮ & ⋮ & ⋮\\\\\n",
       "\t 2016-04-13 19:03:00 & 社會                & 214796             \\\\\n",
       "\t 2016-04-13 19:03:00 & 娛樂                &  70169             \\\\\n",
       "\t 2016-04-13 18:56:00 & 社會                &  59229             \\\\\n",
       "\t 2016-04-13 18:47:00 & 社會                &  18045             \\\\\n",
       "\t 2016-04-13 18:46:00 & 娛樂                &  40764             \\\\\n",
       "\t 2016-04-13 18:40:00 & 娛樂                &  19267             \\\\\n",
       "\t 2016-04-13 18:38:00 & 娛樂                &   9860             \\\\\n",
       "\t 2016-04-13 18:10:00 & 娛樂                &  17874             \\\\\n",
       "\t 2016-04-13 18:10:00 & 社會                &  19741             \\\\\n",
       "\t 2016-04-13 18:10:00 & 社會                &  47145             \\\\\n",
       "\t 2016-04-13 18:10:00 & 社會                &  47145             \\\\\n",
       "\t 2016-04-13 18:03:00 & 社會                &  31267             \\\\\n",
       "\t 2016-04-13 17:56:00 & 娛樂                &  42048             \\\\\n",
       "\t 2016-04-13 17:32:00 & 社會                &   9292             \\\\\n",
       "\t 2016-04-13 17:30:00 & 娛樂                &  18752             \\\\\n",
       "\t 2016-04-13 17:30:00 & 社會                &  12091             \\\\\n",
       "\t 2016-04-13 17:12:00 & 社會                &   4600             \\\\\n",
       "\t 2016-04-13 17:11:00 & 社會                &   9284             \\\\\n",
       "\t 2016-04-13 17:08:00 & 娛樂                & 299235             \\\\\n",
       "\t 2016-04-13 17:05:00 & 社會                &  17937             \\\\\n",
       "\t 2016-04-13 17:03:00 & 社會                &  18176             \\\\\n",
       "\t 2016-04-13 16:55:00 & 社會                &   5940             \\\\\n",
       "\t 2016-04-13 16:52:00 & 娛樂                &  32363             \\\\\n",
       "\t 2016-04-13 16:40:00 & 娛樂                &  23314             \\\\\n",
       "\t 2016-04-13 16:35:00 & 社會                &   7124             \\\\\n",
       "\t 2016-04-13 16:35:00 & 社會                &   1562             \\\\\n",
       "\t 2016-04-13 16:35:00 & 社會                &  15959             \\\\\n",
       "\t 2016-04-13 16:32:00 & 社會                &   6084             \\\\\n",
       "\t 2016-04-13 16:23:00 & 社會                &   9305             \\\\\n",
       "\t 2016-04-13 16:20:00 & 社會                &   8163             \\\\\n",
       "\\end{tabular}\n"
      ],
      "text/markdown": [
       "\n",
       "dt | category | clicked | \n",
       "|---|---|---|---|---|---|---|---|---|---|---|---|---|---|---|---|---|---|---|---|---|---|---|---|---|---|---|---|---|---|---|---|---|---|---|---|---|---|---|---|---|---|---|---|---|---|---|---|---|---|---|---|---|---|---|---|---|---|---|---|---|\n",
       "| 2016-04-15 14:32:00 | 社會                |  1754               | \n",
       "| 2016-04-15 14:22:00 | 社會                |  1076               | \n",
       "| 2016-04-15 14:17:00 | 娛樂                |  1749               | \n",
       "| 2016-04-15 14:12:00 | 社會                | 11886               | \n",
       "| 2016-04-15 14:00:00 | 娛樂                | 11696               | \n",
       "| 2016-04-15 13:52:00 | 社會                |  4582               | \n",
       "| 2016-04-15 13:49:00 | 娛樂                |  3329               | \n",
       "| 2016-04-15 13:47:00 | 社會                |  1154               | \n",
       "| 2016-04-15 13:45:00 | 社會                |  4322               | \n",
       "| 2016-04-15 13:40:00 | 娛樂                |  4307               | \n",
       "| 2016-04-15 13:30:00 | 娛樂                |  4651               | \n",
       "| 2016-04-15 13:23:00 | 娛樂                |  5141               | \n",
       "| 2016-04-15 13:08:00 | 娛樂                | 11588               | \n",
       "| 2016-04-15 13:07:00 | 社會                |  1989               | \n",
       "| 2016-04-15 13:06:00 | 社會                |  1147               | \n",
       "| 2016-04-15 13:02:00 | 社會                | 15328               | \n",
       "| 2016-04-15 13:00:00 | 娛樂                |  5209               | \n",
       "| 2016-04-15 12:52:00 | 社會                |  4432               | \n",
       "| 2016-04-15 12:41:00 | 社會                |  1011               | \n",
       "| 2016-04-15 12:38:00 | 社會                |  8186               | \n",
       "| 2016-04-15 12:34:00 | 社會                |  3747               | \n",
       "| 2016-04-15 12:33:00 | 社會                | 14450               | \n",
       "| 2016-04-15 12:29:00 | 娛樂                | 27010               | \n",
       "| 2016-04-15 12:26:00 | 社會                |  3263               | \n",
       "| 2016-04-15 12:09:00 | 社會                |  4273               | \n",
       "| 2016-04-15 12:08:00 | 社會                |  8332               | \n",
       "| 2016-04-15 12:05:00 | 社會                |  2957               | \n",
       "| 2016-04-15 11:59:00 | 社會                | 17249               | \n",
       "| 2016-04-15 11:53:00 | 社會                |  2518               | \n",
       "| 2016-04-15 11:52:00 | 娛樂                | 10455               | \n",
       "| ⋮ | ⋮ | ⋮ | \n",
       "| 2016-04-13 19:03:00 | 社會                | 214796              | \n",
       "| 2016-04-13 19:03:00 | 娛樂                |  70169              | \n",
       "| 2016-04-13 18:56:00 | 社會                |  59229              | \n",
       "| 2016-04-13 18:47:00 | 社會                |  18045              | \n",
       "| 2016-04-13 18:46:00 | 娛樂                |  40764              | \n",
       "| 2016-04-13 18:40:00 | 娛樂                |  19267              | \n",
       "| 2016-04-13 18:38:00 | 娛樂                |   9860              | \n",
       "| 2016-04-13 18:10:00 | 娛樂                |  17874              | \n",
       "| 2016-04-13 18:10:00 | 社會                |  19741              | \n",
       "| 2016-04-13 18:10:00 | 社會                |  47145              | \n",
       "| 2016-04-13 18:10:00 | 社會                |  47145              | \n",
       "| 2016-04-13 18:03:00 | 社會                |  31267              | \n",
       "| 2016-04-13 17:56:00 | 娛樂                |  42048              | \n",
       "| 2016-04-13 17:32:00 | 社會                |   9292              | \n",
       "| 2016-04-13 17:30:00 | 娛樂                |  18752              | \n",
       "| 2016-04-13 17:30:00 | 社會                |  12091              | \n",
       "| 2016-04-13 17:12:00 | 社會                |   4600              | \n",
       "| 2016-04-13 17:11:00 | 社會                |   9284              | \n",
       "| 2016-04-13 17:08:00 | 娛樂                | 299235              | \n",
       "| 2016-04-13 17:05:00 | 社會                |  17937              | \n",
       "| 2016-04-13 17:03:00 | 社會                |  18176              | \n",
       "| 2016-04-13 16:55:00 | 社會                |   5940              | \n",
       "| 2016-04-13 16:52:00 | 娛樂                |  32363              | \n",
       "| 2016-04-13 16:40:00 | 娛樂                |  23314              | \n",
       "| 2016-04-13 16:35:00 | 社會                |   7124              | \n",
       "| 2016-04-13 16:35:00 | 社會                |   1562              | \n",
       "| 2016-04-13 16:35:00 | 社會                |  15959              | \n",
       "| 2016-04-13 16:32:00 | 社會                |   6084              | \n",
       "| 2016-04-13 16:23:00 | 社會                |   9305              | \n",
       "| 2016-04-13 16:20:00 | 社會                |   8163              | \n",
       "\n",
       "\n"
      ],
      "text/plain": [
       "    dt                  category clicked\n",
       "1   2016-04-15 14:32:00 社會      1754  \n",
       "2   2016-04-15 14:22:00 社會      1076  \n",
       "3   2016-04-15 14:17:00 娛樂      1749  \n",
       "4   2016-04-15 14:12:00 社會     11886  \n",
       "5   2016-04-15 14:00:00 娛樂     11696  \n",
       "6   2016-04-15 13:52:00 社會      4582  \n",
       "7   2016-04-15 13:49:00 娛樂      3329  \n",
       "8   2016-04-15 13:47:00 社會      1154  \n",
       "9   2016-04-15 13:45:00 社會      4322  \n",
       "10  2016-04-15 13:40:00 娛樂      4307  \n",
       "11  2016-04-15 13:30:00 娛樂      4651  \n",
       "12  2016-04-15 13:23:00 娛樂      5141  \n",
       "13  2016-04-15 13:08:00 娛樂     11588  \n",
       "14  2016-04-15 13:07:00 社會      1989  \n",
       "15  2016-04-15 13:06:00 社會      1147  \n",
       "16  2016-04-15 13:02:00 社會     15328  \n",
       "17  2016-04-15 13:00:00 娛樂      5209  \n",
       "18  2016-04-15 12:52:00 社會      4432  \n",
       "19  2016-04-15 12:41:00 社會      1011  \n",
       "20  2016-04-15 12:38:00 社會      8186  \n",
       "21  2016-04-15 12:34:00 社會      3747  \n",
       "22  2016-04-15 12:33:00 社會     14450  \n",
       "23  2016-04-15 12:29:00 娛樂     27010  \n",
       "24  2016-04-15 12:26:00 社會      3263  \n",
       "25  2016-04-15 12:09:00 社會      4273  \n",
       "26  2016-04-15 12:08:00 社會      8332  \n",
       "27  2016-04-15 12:05:00 社會      2957  \n",
       "28  2016-04-15 11:59:00 社會     17249  \n",
       "29  2016-04-15 11:53:00 社會      2518  \n",
       "30  2016-04-15 11:52:00 娛樂     10455  \n",
       "⋮   ⋮                   ⋮        ⋮      \n",
       "278 2016-04-13 19:03:00 社會     214796 \n",
       "279 2016-04-13 19:03:00 娛樂      70169 \n",
       "280 2016-04-13 18:56:00 社會      59229 \n",
       "281 2016-04-13 18:47:00 社會      18045 \n",
       "282 2016-04-13 18:46:00 娛樂      40764 \n",
       "283 2016-04-13 18:40:00 娛樂      19267 \n",
       "284 2016-04-13 18:38:00 娛樂       9860 \n",
       "285 2016-04-13 18:10:00 娛樂      17874 \n",
       "286 2016-04-13 18:10:00 社會      19741 \n",
       "287 2016-04-13 18:10:00 社會      47145 \n",
       "288 2016-04-13 18:10:00 社會      47145 \n",
       "289 2016-04-13 18:03:00 社會      31267 \n",
       "290 2016-04-13 17:56:00 娛樂      42048 \n",
       "291 2016-04-13 17:32:00 社會       9292 \n",
       "292 2016-04-13 17:30:00 娛樂      18752 \n",
       "293 2016-04-13 17:30:00 社會      12091 \n",
       "294 2016-04-13 17:12:00 社會       4600 \n",
       "295 2016-04-13 17:11:00 社會       9284 \n",
       "296 2016-04-13 17:08:00 娛樂     299235 \n",
       "297 2016-04-13 17:05:00 社會      17937 \n",
       "298 2016-04-13 17:03:00 社會      18176 \n",
       "299 2016-04-13 16:55:00 社會       5940 \n",
       "300 2016-04-13 16:52:00 娛樂      32363 \n",
       "301 2016-04-13 16:40:00 娛樂      23314 \n",
       "302 2016-04-13 16:35:00 社會       7124 \n",
       "303 2016-04-13 16:35:00 社會       1562 \n",
       "304 2016-04-13 16:35:00 社會      15959 \n",
       "305 2016-04-13 16:32:00 社會       6084 \n",
       "306 2016-04-13 16:23:00 社會       9305 \n",
       "307 2016-04-13 16:20:00 社會       8163 "
      ]
     },
     "metadata": {},
     "output_type": "display_data"
    }
   ],
   "source": [
    "filter(applenews,category %in% c(\"娛樂\",\"社會\")) %>% select(dt:clicked)"
   ]
  },
  {
   "cell_type": "code",
   "execution_count": 247,
   "metadata": {},
   "outputs": [
    {
     "data": {
      "text/html": [
       "<table>\n",
       "<thead><tr><th scope=col>dt</th><th scope=col>category</th><th scope=col>clicked</th></tr></thead>\n",
       "<tbody>\n",
       "\t<tr><td>2016-04-15 14:32:00</td><td>社會               </td><td> 1754              </td></tr>\n",
       "\t<tr><td>2016-04-15 14:22:00</td><td>社會               </td><td> 1076              </td></tr>\n",
       "\t<tr><td>2016-04-15 14:17:00</td><td>娛樂               </td><td> 1749              </td></tr>\n",
       "\t<tr><td>2016-04-15 14:12:00</td><td>社會               </td><td>11886              </td></tr>\n",
       "\t<tr><td>2016-04-15 14:00:00</td><td>娛樂               </td><td>11696              </td></tr>\n",
       "\t<tr><td>2016-04-15 13:52:00</td><td>社會               </td><td> 4582              </td></tr>\n",
       "</tbody>\n",
       "</table>\n"
      ],
      "text/latex": [
       "\\begin{tabular}{r|lll}\n",
       " dt & category & clicked\\\\\n",
       "\\hline\n",
       "\t 2016-04-15 14:32:00 & 社會                &  1754              \\\\\n",
       "\t 2016-04-15 14:22:00 & 社會                &  1076              \\\\\n",
       "\t 2016-04-15 14:17:00 & 娛樂                &  1749              \\\\\n",
       "\t 2016-04-15 14:12:00 & 社會                & 11886              \\\\\n",
       "\t 2016-04-15 14:00:00 & 娛樂                & 11696              \\\\\n",
       "\t 2016-04-15 13:52:00 & 社會                &  4582              \\\\\n",
       "\\end{tabular}\n"
      ],
      "text/markdown": [
       "\n",
       "dt | category | clicked | \n",
       "|---|---|---|---|---|---|\n",
       "| 2016-04-15 14:32:00 | 社會                |  1754               | \n",
       "| 2016-04-15 14:22:00 | 社會                |  1076               | \n",
       "| 2016-04-15 14:17:00 | 娛樂                |  1749               | \n",
       "| 2016-04-15 14:12:00 | 社會                | 11886               | \n",
       "| 2016-04-15 14:00:00 | 娛樂                | 11696               | \n",
       "| 2016-04-15 13:52:00 | 社會                |  4582               | \n",
       "\n",
       "\n"
      ],
      "text/plain": [
       "  dt                  category clicked\n",
       "1 2016-04-15 14:32:00 社會      1754  \n",
       "2 2016-04-15 14:22:00 社會      1076  \n",
       "3 2016-04-15 14:17:00 娛樂      1749  \n",
       "4 2016-04-15 14:12:00 社會     11886  \n",
       "5 2016-04-15 14:00:00 娛樂     11696  \n",
       "6 2016-04-15 13:52:00 社會      4582  "
      ]
     },
     "metadata": {},
     "output_type": "display_data"
    }
   ],
   "source": [
    "head( select( filter(applenews,category %in% c(\"娛樂\",\"社會\")), dt:clicked ) )"
   ]
  },
  {
   "cell_type": "code",
   "execution_count": 253,
   "metadata": {
    "scrolled": true
   },
   "outputs": [
    {
     "data": {
      "text/html": [
       "<table>\n",
       "<thead><tr><th scope=col>dt</th><th scope=col>category</th><th scope=col>clicked</th></tr></thead>\n",
       "<tbody>\n",
       "\t<tr><td>2016-04-13 17:08:00</td><td>娛樂               </td><td>299235             </td></tr>\n",
       "\t<tr><td>2016-04-14 00:05:00</td><td>娛樂               </td><td>265355             </td></tr>\n",
       "\t<tr><td>2016-04-14 19:15:00</td><td>社會               </td><td>241842             </td></tr>\n",
       "\t<tr><td>2016-04-14 08:23:00</td><td>娛樂               </td><td>239697             </td></tr>\n",
       "\t<tr><td>2016-04-14 09:32:00</td><td>社會               </td><td>228203             </td></tr>\n",
       "\t<tr><td>2016-04-13 20:08:00</td><td>社會               </td><td>217096             </td></tr>\n",
       "\t<tr><td>2016-04-13 19:03:00</td><td>社會               </td><td>214796             </td></tr>\n",
       "\t<tr><td>2016-04-15 09:42:00</td><td>社會               </td><td>172024             </td></tr>\n",
       "\t<tr><td>2016-04-14 06:30:00</td><td>社會               </td><td>171408             </td></tr>\n",
       "\t<tr><td>2016-04-14 20:45:00</td><td>社會               </td><td>150666             </td></tr>\n",
       "\t<tr><td>2016-04-14 14:10:00</td><td>社會               </td><td>145415             </td></tr>\n",
       "\t<tr><td>2016-04-14 15:22:00</td><td>娛樂               </td><td>142444             </td></tr>\n",
       "\t<tr><td>2016-04-14 16:46:00</td><td>社會               </td><td>140109             </td></tr>\n",
       "\t<tr><td>2016-04-14 17:54:00</td><td>社會               </td><td>138085             </td></tr>\n",
       "\t<tr><td>2016-04-14 18:28:00</td><td>娛樂               </td><td>131942             </td></tr>\n",
       "\t<tr><td>2016-04-14 16:39:00</td><td>社會               </td><td>131262             </td></tr>\n",
       "\t<tr><td>2016-04-14 22:37:00</td><td>娛樂               </td><td>126774             </td></tr>\n",
       "\t<tr><td>2016-04-14 06:45:00</td><td>社會               </td><td>122619             </td></tr>\n",
       "\t<tr><td>2016-04-14 18:54:00</td><td>社會               </td><td>112086             </td></tr>\n",
       "\t<tr><td>2016-04-14 10:09:00</td><td>社會               </td><td>106118             </td></tr>\n",
       "</tbody>\n",
       "</table>\n"
      ],
      "text/latex": [
       "\\begin{tabular}{r|lll}\n",
       " dt & category & clicked\\\\\n",
       "\\hline\n",
       "\t 2016-04-13 17:08:00 & 娛樂                & 299235             \\\\\n",
       "\t 2016-04-14 00:05:00 & 娛樂                & 265355             \\\\\n",
       "\t 2016-04-14 19:15:00 & 社會                & 241842             \\\\\n",
       "\t 2016-04-14 08:23:00 & 娛樂                & 239697             \\\\\n",
       "\t 2016-04-14 09:32:00 & 社會                & 228203             \\\\\n",
       "\t 2016-04-13 20:08:00 & 社會                & 217096             \\\\\n",
       "\t 2016-04-13 19:03:00 & 社會                & 214796             \\\\\n",
       "\t 2016-04-15 09:42:00 & 社會                & 172024             \\\\\n",
       "\t 2016-04-14 06:30:00 & 社會                & 171408             \\\\\n",
       "\t 2016-04-14 20:45:00 & 社會                & 150666             \\\\\n",
       "\t 2016-04-14 14:10:00 & 社會                & 145415             \\\\\n",
       "\t 2016-04-14 15:22:00 & 娛樂                & 142444             \\\\\n",
       "\t 2016-04-14 16:46:00 & 社會                & 140109             \\\\\n",
       "\t 2016-04-14 17:54:00 & 社會                & 138085             \\\\\n",
       "\t 2016-04-14 18:28:00 & 娛樂                & 131942             \\\\\n",
       "\t 2016-04-14 16:39:00 & 社會                & 131262             \\\\\n",
       "\t 2016-04-14 22:37:00 & 娛樂                & 126774             \\\\\n",
       "\t 2016-04-14 06:45:00 & 社會                & 122619             \\\\\n",
       "\t 2016-04-14 18:54:00 & 社會                & 112086             \\\\\n",
       "\t 2016-04-14 10:09:00 & 社會                & 106118             \\\\\n",
       "\\end{tabular}\n"
      ],
      "text/markdown": [
       "\n",
       "dt | category | clicked | \n",
       "|---|---|---|---|---|---|---|---|---|---|---|---|---|---|---|---|---|---|---|---|\n",
       "| 2016-04-13 17:08:00 | 娛樂                | 299235              | \n",
       "| 2016-04-14 00:05:00 | 娛樂                | 265355              | \n",
       "| 2016-04-14 19:15:00 | 社會                | 241842              | \n",
       "| 2016-04-14 08:23:00 | 娛樂                | 239697              | \n",
       "| 2016-04-14 09:32:00 | 社會                | 228203              | \n",
       "| 2016-04-13 20:08:00 | 社會                | 217096              | \n",
       "| 2016-04-13 19:03:00 | 社會                | 214796              | \n",
       "| 2016-04-15 09:42:00 | 社會                | 172024              | \n",
       "| 2016-04-14 06:30:00 | 社會                | 171408              | \n",
       "| 2016-04-14 20:45:00 | 社會                | 150666              | \n",
       "| 2016-04-14 14:10:00 | 社會                | 145415              | \n",
       "| 2016-04-14 15:22:00 | 娛樂                | 142444              | \n",
       "| 2016-04-14 16:46:00 | 社會                | 140109              | \n",
       "| 2016-04-14 17:54:00 | 社會                | 138085              | \n",
       "| 2016-04-14 18:28:00 | 娛樂                | 131942              | \n",
       "| 2016-04-14 16:39:00 | 社會                | 131262              | \n",
       "| 2016-04-14 22:37:00 | 娛樂                | 126774              | \n",
       "| 2016-04-14 06:45:00 | 社會                | 122619              | \n",
       "| 2016-04-14 18:54:00 | 社會                | 112086              | \n",
       "| 2016-04-14 10:09:00 | 社會                | 106118              | \n",
       "\n",
       "\n"
      ],
      "text/plain": [
       "   dt                  category clicked\n",
       "1  2016-04-13 17:08:00 娛樂     299235 \n",
       "2  2016-04-14 00:05:00 娛樂     265355 \n",
       "3  2016-04-14 19:15:00 社會     241842 \n",
       "4  2016-04-14 08:23:00 娛樂     239697 \n",
       "5  2016-04-14 09:32:00 社會     228203 \n",
       "6  2016-04-13 20:08:00 社會     217096 \n",
       "7  2016-04-13 19:03:00 社會     214796 \n",
       "8  2016-04-15 09:42:00 社會     172024 \n",
       "9  2016-04-14 06:30:00 社會     171408 \n",
       "10 2016-04-14 20:45:00 社會     150666 \n",
       "11 2016-04-14 14:10:00 社會     145415 \n",
       "12 2016-04-14 15:22:00 娛樂     142444 \n",
       "13 2016-04-14 16:46:00 社會     140109 \n",
       "14 2016-04-14 17:54:00 社會     138085 \n",
       "15 2016-04-14 18:28:00 娛樂     131942 \n",
       "16 2016-04-14 16:39:00 社會     131262 \n",
       "17 2016-04-14 22:37:00 娛樂     126774 \n",
       "18 2016-04-14 06:45:00 社會     122619 \n",
       "19 2016-04-14 18:54:00 社會     112086 \n",
       "20 2016-04-14 10:09:00 社會     106118 "
      ]
     },
     "metadata": {},
     "output_type": "display_data"
    }
   ],
   "source": [
    "applenews %>%\n",
    "filter(category %in% c(\"娛樂\",\"社會\")) %>%\n",
    "select(dt:clicked) %>%\n",
    "arrange(desc(clicked)) %>%\n",
    "head(20)"
   ]
  },
  {
   "cell_type": "code",
   "execution_count": 257,
   "metadata": {},
   "outputs": [],
   "source": [
    "freq_sum = applenews %>% select(clicked) %>% sum()"
   ]
  },
  {
   "cell_type": "code",
   "execution_count": 263,
   "metadata": {},
   "outputs": [],
   "source": [
    "applenews = applenews %>% mutate(portion = clicked / freq_sum )"
   ]
  },
  {
   "cell_type": "code",
   "execution_count": 260,
   "metadata": {},
   "outputs": [
    {
     "data": {
      "text/html": [
       "<table>\n",
       "<thead><tr><th scope=col>category</th><th scope=col>cate_means</th></tr></thead>\n",
       "<tbody>\n",
       "\t<tr><td>3C       </td><td> 3954.270</td></tr>\n",
       "\t<tr><td>財經     </td><td> 5109.446</td></tr>\n",
       "\t<tr><td>地產     </td><td> 6900.375</td></tr>\n",
       "\t<tr><td>動物     </td><td> 4741.808</td></tr>\n",
       "\t<tr><td>國際     </td><td> 8913.723</td></tr>\n",
       "\t<tr><td>論壇     </td><td> 5683.491</td></tr>\n",
       "\t<tr><td>社會     </td><td>29493.557</td></tr>\n",
       "\t<tr><td>生活     </td><td>11469.141</td></tr>\n",
       "\t<tr><td>時尚     </td><td> 6855.237</td></tr>\n",
       "\t<tr><td>搜奇     </td><td>12151.036</td></tr>\n",
       "\t<tr><td>體育     </td><td>16821.758</td></tr>\n",
       "\t<tr><td>娛樂     </td><td>31601.814</td></tr>\n",
       "\t<tr><td>正妹     </td><td>84118.625</td></tr>\n",
       "\t<tr><td>政治     </td><td>11901.958</td></tr>\n",
       "</tbody>\n",
       "</table>\n"
      ],
      "text/latex": [
       "\\begin{tabular}{r|ll}\n",
       " category & cate\\_means\\\\\n",
       "\\hline\n",
       "\t 3C        &  3954.270\\\\\n",
       "\t 財經      &  5109.446\\\\\n",
       "\t 地產      &  6900.375\\\\\n",
       "\t 動物      &  4741.808\\\\\n",
       "\t 國際      &  8913.723\\\\\n",
       "\t 論壇      &  5683.491\\\\\n",
       "\t 社會      & 29493.557\\\\\n",
       "\t 生活      & 11469.141\\\\\n",
       "\t 時尚      &  6855.237\\\\\n",
       "\t 搜奇      & 12151.036\\\\\n",
       "\t 體育      & 16821.758\\\\\n",
       "\t 娛樂      & 31601.814\\\\\n",
       "\t 正妹      & 84118.625\\\\\n",
       "\t 政治      & 11901.958\\\\\n",
       "\\end{tabular}\n"
      ],
      "text/markdown": [
       "\n",
       "category | cate_means | \n",
       "|---|---|---|---|---|---|---|---|---|---|---|---|---|---|\n",
       "| 3C        |  3954.270 | \n",
       "| 財經      |  5109.446 | \n",
       "| 地產      |  6900.375 | \n",
       "| 動物      |  4741.808 | \n",
       "| 國際      |  8913.723 | \n",
       "| 論壇      |  5683.491 | \n",
       "| 社會      | 29493.557 | \n",
       "| 生活      | 11469.141 | \n",
       "| 時尚      |  6855.237 | \n",
       "| 搜奇      | 12151.036 | \n",
       "| 體育      | 16821.758 | \n",
       "| 娛樂      | 31601.814 | \n",
       "| 正妹      | 84118.625 | \n",
       "| 政治      | 11901.958 | \n",
       "\n",
       "\n"
      ],
      "text/plain": [
       "   category cate_means\n",
       "1  3C        3954.270 \n",
       "2  財經      5109.446 \n",
       "3  地產      6900.375 \n",
       "4  動物      4741.808 \n",
       "5  國際      8913.723 \n",
       "6  論壇      5683.491 \n",
       "7  社會     29493.557 \n",
       "8  生活     11469.141 \n",
       "9  時尚      6855.237 \n",
       "10 搜奇     12151.036 \n",
       "11 體育     16821.758 \n",
       "12 娛樂     31601.814 \n",
       "13 正妹     84118.625 \n",
       "14 政治     11901.958 "
      ]
     },
     "metadata": {},
     "output_type": "display_data"
    }
   ],
   "source": [
    "applenews %>% group_by(category) %>% summarise(cate_means= mean(clicked))"
   ]
  },
  {
   "cell_type": "code",
   "execution_count": 261,
   "metadata": {},
   "outputs": [],
   "source": [
    "?summarize_at"
   ]
  },
  {
   "cell_type": "code",
   "execution_count": 262,
   "metadata": {},
   "outputs": [
    {
     "data": {
      "text/html": [
       "<table>\n",
       "<thead><tr><th scope=col>title</th><th scope=col>dt</th><th scope=col>category</th><th scope=col>clicked</th></tr></thead>\n",
       "<tbody>\n",
       "\t<tr><td>【更新】搶2.2萬彩券刮中1.4萬　沒發財還得入獄         </td><td>2016-04-15 14:32:00                                  </td><td>社會                                                 </td><td> 1754                                                </td></tr>\n",
       "\t<tr><td>拿到澳洲護照後　他放火燒中國護照                     </td><td>2016-04-15 14:32:00                                  </td><td>國際                                                 </td><td>    0                                                </td></tr>\n",
       "\t<tr><td>【特企】房市大追擊- 租屋這些事情要小心               </td><td>2016-04-15 14:31:00                                  </td><td>地產                                                 </td><td>    0                                                </td></tr>\n",
       "\t<tr><td>【央廣RTI】美菲軍演  美防長南海登艦                  </td><td>2016-04-15 14:30:00                                  </td><td>國際                                                 </td><td>    0                                                </td></tr>\n",
       "\t<tr><td>全球最閃牽手夫妻　絕美禮服出自台灣…                 </td><td>2016-04-15 14:28:00                                  </td><td>時尚                                                 </td><td>  311                                                </td></tr>\n",
       "\t<tr><td>公司遭搜索　浩鼎籲檢調勿公開商業機密                 </td><td>2016-04-15 14:28:00                                  </td><td>財經                                                 </td><td>   24                                                </td></tr>\n",
       "\t<tr><td>【央廣RTI】每318秒就有1人罹癌  大腸癌名列第一        </td><td>2016-04-15 14:25:00                                  </td><td>生活                                                 </td><td>   20                                                </td></tr>\n",
       "\t<tr><td>垃圾掉滿地　村民請神明幫忙                           </td><td>2016-04-15 14:24:00                                  </td><td>生活                                                 </td><td>  314                                                </td></tr>\n",
       "\t<tr><td>【熊本強震】取消去九州　華航5月8日前退改票免手續費   </td><td>2016-04-15 14:24:00                                  </td><td>生活                                                 </td><td>   27                                                </td></tr>\n",
       "\t<tr><td>麵龜摻非工業色素　千顆不良品早下肚                   </td><td>2016-04-15 14:23:00                                  </td><td>生活                                                 </td><td>  308                                                </td></tr>\n",
       "\t<tr><td>同居人女兒熟睡　淫男伸狼爪                           </td><td>2016-04-15 14:22:00                                  </td><td>社會                                                 </td><td> 1076                                                </td></tr>\n",
       "\t<tr><td>岡山星巴克明開張　前100人咖啡免費                    </td><td>2016-04-15 14:21:00                                  </td><td>生活                                                 </td><td>  775                                                </td></tr>\n",
       "\t<tr><td>揚智攜手DishTV　搶攻印度衛星電視市場                 </td><td>2016-04-15 14:19:00                                  </td><td>財經                                                 </td><td>   92                                                </td></tr>\n",
       "\t<tr><td>又要下雨了　中南部6縣市大雨特報                      </td><td>2016-04-15 14:19:00                                  </td><td>生活                                                 </td><td>12347                                                </td></tr>\n",
       "\t<tr><td>韓留學生超羨慕　「台灣人失業可以賣雞排」　           </td><td>2016-04-15 14:18:00                                  </td><td>生活                                                 </td><td> 1312                                                </td></tr>\n",
       "\t<tr><td>澎恰恰收女弟子　拱當台灣第一名伶                     </td><td>2016-04-15 14:17:00                                  </td><td>娛樂                                                 </td><td> 1749                                                </td></tr>\n",
       "\t<tr><td>手機截圖的極限在哪？　鄉民接力完成                   </td><td>2016-04-15 14:15:00                                  </td><td>搜奇                                                 </td><td> 1005                                                </td></tr>\n",
       "\t<tr><td>陸委會跨部會議確認　下周登陸展開肯亞案協商           </td><td>2016-04-15 14:15:00                                  </td><td>政治                                                 </td><td>  221                                                </td></tr>\n",
       "\t<tr><td>【驚險有片】BMW撞翻撞公車　後方機車神穿越            </td><td>2016-04-15 14:12:00                                  </td><td>社會                                                 </td><td>11886                                                </td></tr>\n",
       "\t<tr><td>熊本強震驚呆了　返台旅客：整晚不敢睡                 </td><td>2016-04-15 14:10:00                                  </td><td>生活                                                 </td><td> 1629                                                </td></tr>\n",
       "\t<tr><td>【唱新聞】詐騙嗎？R.O.C.有CHINA但不是CHINA           </td><td>2016-04-15 14:00:00                                  </td><td>娛樂                                                 </td><td>11696                                                </td></tr>\n",
       "\t<tr><td>封口費不足還找小四　富翁遭小三爆不舉                 </td><td>2016-04-15 13:59:00                                  </td><td>國際                                                 </td><td> 3974                                                </td></tr>\n",
       "\t<tr><td>LINE更綠了　貓熊新角色曝光                           </td><td>2016-04-15 13:59:00                                  </td><td>3C                                                   </td><td> 3234                                                </td></tr>\n",
       "\t<tr><td>【更新】翁啟惠進府報告浩鼎案　堅辭與否受矚目         </td><td>2016-04-15 13:54:00                                  </td><td>政治                                                 </td><td> 2300                                                </td></tr>\n",
       "\t<tr><td>陳敏雄白手起家　曾為在港上市最年輕公司主席           </td><td>2016-04-15 13:54:00                                  </td><td>國際                                                 </td><td> 3519                                                </td></tr>\n",
       "\t<tr><td>九巡翁霸坐展售車？　原因好心酸                       </td><td>2016-04-15 13:52:00                                  </td><td>社會                                                 </td><td> 4582                                                </td></tr>\n",
       "\t<tr><td>高雄水景宅　首購也能買                               </td><td>2016-04-15 13:51:00                                  </td><td>地產                                                 </td><td> 1039                                                </td></tr>\n",
       "\t<tr><td>長榮航董座林寶水　接任北市航空運輸公會理事長         </td><td>2016-04-15 13:51:00                                  </td><td>生活                                                 </td><td>  536                                                </td></tr>\n",
       "\t<tr><td>蔡英文、林全人事公佈記者會　14:30【蘋果Live】同步直播</td><td>2016-04-15 13:50:00                                  </td><td>政治                                                 </td><td>12425                                                </td></tr>\n",
       "\t<tr><td>【九州地震】SONY、瑞薩、東京威力　熊本廠今全面停工   </td><td>2016-04-15 13:50:00                                  </td><td>財經                                                 </td><td> 1336                                                </td></tr>\n",
       "\t<tr><td>⋮</td><td>⋮</td><td>⋮</td><td>⋮</td></tr>\n",
       "\t<tr><td>大倒角握感如何？　網友試機HTC 10                          </td><td>2016-04-13 16:51:00                                       </td><td>財經                                                      </td><td> 7311                                                     </td></tr>\n",
       "\t<tr><td>油污金山蹦火仔撈嘸魚　朱立倫：納入賠償                    </td><td>2016-04-13 16:51:00                                       </td><td>生活                                                      </td><td> 1608                                                     </td></tr>\n",
       "\t<tr><td>英研究：子宮癌病例增加恐與肥胖有關                        </td><td>2016-04-13 16:49:00                                       </td><td>國際                                                      </td><td> 1525                                                     </td></tr>\n",
       "\t<tr><td>【更新】推南向政策　黃志芳：成立新南向辦公室與智庫        </td><td>2016-04-13 16:46:00                                       </td><td>政治                                                      </td><td> 3748                                                     </td></tr>\n",
       "\t<tr><td>大雨下不停　氣象局發布大雨、豪雨特報                      </td><td>2016-04-13 16:41:00                                       </td><td>生活                                                      </td><td>65520                                                     </td></tr>\n",
       "\t<tr><td>等著見小豬？！周揚青出沒台北信義區                        </td><td>2016-04-13 16:40:00                                       </td><td>娛樂                                                      </td><td>23314                                                     </td></tr>\n",
       "\t<tr><td>大巨蛋案　鄧家基：柯P較傾向朝解約方向進行                 </td><td>2016-04-13 16:40:00                                       </td><td>生活                                                      </td><td> 5339                                                     </td></tr>\n",
       "\t<tr><td>新物質「金屬泡棉」　能防彈抗熱擋輻射                      </td><td>2016-04-13 16:38:00                                       </td><td>國際                                                      </td><td> 3553                                                     </td></tr>\n",
       "\t<tr><td>【GAME啥】PK柏青哥　這是我的《不良道》                    </td><td>2016-04-13 16:38:00                                       </td><td>3C                                                        </td><td>  761                                                     </td></tr>\n",
       "\t<tr><td>台積全球市佔逾半　穩居晶圓代工龍頭                        </td><td>2016-04-13 16:37:00                                       </td><td>財經                                                      </td><td> 3364                                                     </td></tr>\n",
       "\t<tr><td>360度搶拍法拉利　警：開違規罰300元                        </td><td>2016-04-13 16:35:00                                       </td><td>社會                                                      </td><td> 7124                                                     </td></tr>\n",
       "\t<tr><td>學蜘蛛人垂降進屋　糗懸3樓高半空                           </td><td>2016-04-13 16:35:00                                       </td><td>社會                                                      </td><td> 1562                                                     </td></tr>\n",
       "\t<tr><td>警政署前署長顏世錫腦出血　昏迷送萬芳醫院治療              </td><td>2016-04-13 16:35:00                                       </td><td>社會                                                      </td><td>15959                                                     </td></tr>\n",
       "\t<tr><td>2300公里超馬挑戰　陳瑞龍奔近北京                          </td><td>2016-04-13 16:35:00                                       </td><td>體育                                                      </td><td> 2988                                                     </td></tr>\n",
       "\t<tr><td>柯文哲的奇航                                              </td><td>2016-04-13 16:33:00                                       </td><td>論壇                                                      </td><td> 3654                                                     </td></tr>\n",
       "\t<tr><td>【更新】罵記者「神經病」被訴　連惠心賠50萬換和解          </td><td>2016-04-13 16:32:00                                       </td><td>社會                                                      </td><td> 6084                                                     </td></tr>\n",
       "\t<tr><td>​美專家：每天吃阿斯匹林　有助預防癌症                      </td><td>2016-04-13 16:31:00                                       </td><td>國際                                                      </td><td> 3088                                                     </td></tr>\n",
       "\t<tr><td>Q1稅收少79億　年減2.2%                                    </td><td>2016-04-13 16:30:00                                       </td><td>財經                                                      </td><td>  835                                                     </td></tr>\n",
       "\t<tr><td>【更新】大巨蛋案處理方向　柯Ｐ：已在談解約了              </td><td>2016-04-13 16:29:00                                       </td><td>生活                                                      </td><td>40171                                                     </td></tr>\n",
       "\t<tr><td>千萬彩金捐澎湖　8千人次受惠                               </td><td>2016-04-13 16:27:00                                       </td><td>生活                                                      </td><td> 2840                                                     </td></tr>\n",
       "\t<tr><td>【台灣英文新聞】高志明：二手菸已立法管制　二手農藥亦應仿效</td><td>2016-04-13 16:26:00                                       </td><td>生活                                                      </td><td>  820                                                     </td></tr>\n",
       "\t<tr><td>化妝常犯的8個錯誤　當心越畫越老越醜                       </td><td>2016-04-13 16:25:00                                       </td><td>生活                                                      </td><td>26224                                                     </td></tr>\n",
       "\t<tr><td>歪國老闆拉鐵門性侵女客　因這事判免驅離                    </td><td>2016-04-13 16:23:00                                       </td><td>社會                                                      </td><td> 9305                                                     </td></tr>\n",
       "\t<tr><td>新台幣收盤~32.35元　升值3.2分                             </td><td>2016-04-13 16:23:00                                       </td><td>財經                                                      </td><td>  751                                                     </td></tr>\n",
       "\t<tr><td>美魔安糾紛被控妨害名譽　前主播妻不起訴                    </td><td>2016-04-13 16:20:00                                       </td><td>社會                                                      </td><td> 8163                                                     </td></tr>\n",
       "\t<tr><td>脫逃大師！　章魚從排水管逃出水族館                        </td><td>2016-04-13 16:19:00                                       </td><td>搜奇                                                      </td><td> 4242                                                     </td></tr>\n",
       "\t<tr><td>【更新】三井倉庫遷建議題　下月初開公聽會                  </td><td>2016-04-13 16:18:00                                       </td><td>生活                                                      </td><td> 2381                                                     </td></tr>\n",
       "\t<tr><td>超尷尬！自慰最常被誰撞見？果然是她！                      </td><td>2016-04-13 16:17:00                                       </td><td>搜奇                                                      </td><td>51216                                                     </td></tr>\n",
       "\t<tr><td>1年5黑熊斷掌　「黑熊媽媽」譴責補獸鋏                      </td><td>2016-04-13 16:14:00                                       </td><td>動物                                                      </td><td> 4352                                                     </td></tr>\n",
       "\t<tr><td>周志偉現身國民黨　坦言曾考慮當璩美鳳的人生伴侶            </td><td>2016-04-13 16:13:00                                       </td><td>政治                                                      </td><td>82200                                                     </td></tr>\n",
       "</tbody>\n",
       "</table>\n"
      ],
      "text/latex": [
       "\\begin{tabular}{r|llll}\n",
       " title & dt & category & clicked\\\\\n",
       "\\hline\n",
       "\t 【更新】搶2.2萬彩券刮中1.4萬　沒發財還得入獄          & 2016-04-15 14:32:00                                   & 社會                                                  &  1754                                                \\\\\n",
       "\t 拿到澳洲護照後　他放火燒中國護照                      & 2016-04-15 14:32:00                                   & 國際                                                  &     0                                                \\\\\n",
       "\t 【特企】房市大追擊- 租屋這些事情要小心                & 2016-04-15 14:31:00                                   & 地產                                                  &     0                                                \\\\\n",
       "\t 【央廣RTI】美菲軍演  美防長南海登艦                   & 2016-04-15 14:30:00                                   & 國際                                                  &     0                                                \\\\\n",
       "\t 全球最閃牽手夫妻　絕美禮服出自台灣…                  & 2016-04-15 14:28:00                                   & 時尚                                                  &   311                                                \\\\\n",
       "\t 公司遭搜索　浩鼎籲檢調勿公開商業機密                  & 2016-04-15 14:28:00                                   & 財經                                                  &    24                                                \\\\\n",
       "\t 【央廣RTI】每318秒就有1人罹癌  大腸癌名列第一         & 2016-04-15 14:25:00                                   & 生活                                                  &    20                                                \\\\\n",
       "\t 垃圾掉滿地　村民請神明幫忙                            & 2016-04-15 14:24:00                                   & 生活                                                  &   314                                                \\\\\n",
       "\t 【熊本強震】取消去九州　華航5月8日前退改票免手續費    & 2016-04-15 14:24:00                                   & 生活                                                  &    27                                                \\\\\n",
       "\t 麵龜摻非工業色素　千顆不良品早下肚                    & 2016-04-15 14:23:00                                   & 生活                                                  &   308                                                \\\\\n",
       "\t 同居人女兒熟睡　淫男伸狼爪                            & 2016-04-15 14:22:00                                   & 社會                                                  &  1076                                                \\\\\n",
       "\t 岡山星巴克明開張　前100人咖啡免費                     & 2016-04-15 14:21:00                                   & 生活                                                  &   775                                                \\\\\n",
       "\t 揚智攜手DishTV　搶攻印度衛星電視市場                  & 2016-04-15 14:19:00                                   & 財經                                                  &    92                                                \\\\\n",
       "\t 又要下雨了　中南部6縣市大雨特報                       & 2016-04-15 14:19:00                                   & 生活                                                  & 12347                                                \\\\\n",
       "\t 韓留學生超羨慕　「台灣人失業可以賣雞排」　            & 2016-04-15 14:18:00                                   & 生活                                                  &  1312                                                \\\\\n",
       "\t 澎恰恰收女弟子　拱當台灣第一名伶                      & 2016-04-15 14:17:00                                   & 娛樂                                                  &  1749                                                \\\\\n",
       "\t 手機截圖的極限在哪？　鄉民接力完成                    & 2016-04-15 14:15:00                                   & 搜奇                                                  &  1005                                                \\\\\n",
       "\t 陸委會跨部會議確認　下周登陸展開肯亞案協商            & 2016-04-15 14:15:00                                   & 政治                                                  &   221                                                \\\\\n",
       "\t 【驚險有片】BMW撞翻撞公車　後方機車神穿越             & 2016-04-15 14:12:00                                   & 社會                                                  & 11886                                                \\\\\n",
       "\t 熊本強震驚呆了　返台旅客：整晚不敢睡                  & 2016-04-15 14:10:00                                   & 生活                                                  &  1629                                                \\\\\n",
       "\t 【唱新聞】詐騙嗎？R.O.C.有CHINA但不是CHINA            & 2016-04-15 14:00:00                                   & 娛樂                                                  & 11696                                                \\\\\n",
       "\t 封口費不足還找小四　富翁遭小三爆不舉                  & 2016-04-15 13:59:00                                   & 國際                                                  &  3974                                                \\\\\n",
       "\t LINE更綠了　貓熊新角色曝光                            & 2016-04-15 13:59:00                                   & 3C                                                    &  3234                                                \\\\\n",
       "\t 【更新】翁啟惠進府報告浩鼎案　堅辭與否受矚目          & 2016-04-15 13:54:00                                   & 政治                                                  &  2300                                                \\\\\n",
       "\t 陳敏雄白手起家　曾為在港上市最年輕公司主席            & 2016-04-15 13:54:00                                   & 國際                                                  &  3519                                                \\\\\n",
       "\t 九巡翁霸坐展售車？　原因好心酸                        & 2016-04-15 13:52:00                                   & 社會                                                  &  4582                                                \\\\\n",
       "\t 高雄水景宅　首購也能買                                & 2016-04-15 13:51:00                                   & 地產                                                  &  1039                                                \\\\\n",
       "\t 長榮航董座林寶水　接任北市航空運輸公會理事長          & 2016-04-15 13:51:00                                   & 生活                                                  &   536                                                \\\\\n",
       "\t 蔡英文、林全人事公佈記者會　14:30【蘋果Live】同步直播 & 2016-04-15 13:50:00                                   & 政治                                                  & 12425                                                \\\\\n",
       "\t 【九州地震】SONY、瑞薩、東京威力　熊本廠今全面停工    & 2016-04-15 13:50:00                                   & 財經                                                  &  1336                                                \\\\\n",
       "\t ⋮ & ⋮ & ⋮ & ⋮\\\\\n",
       "\t 大倒角握感如何？　網友試機HTC 10                           & 2016-04-13 16:51:00                                        & 財經                                                       &  7311                                                     \\\\\n",
       "\t 油污金山蹦火仔撈嘸魚　朱立倫：納入賠償                     & 2016-04-13 16:51:00                                        & 生活                                                       &  1608                                                     \\\\\n",
       "\t 英研究：子宮癌病例增加恐與肥胖有關                         & 2016-04-13 16:49:00                                        & 國際                                                       &  1525                                                     \\\\\n",
       "\t 【更新】推南向政策　黃志芳：成立新南向辦公室與智庫         & 2016-04-13 16:46:00                                        & 政治                                                       &  3748                                                     \\\\\n",
       "\t 大雨下不停　氣象局發布大雨、豪雨特報                       & 2016-04-13 16:41:00                                        & 生活                                                       & 65520                                                     \\\\\n",
       "\t 等著見小豬？！周揚青出沒台北信義區                         & 2016-04-13 16:40:00                                        & 娛樂                                                       & 23314                                                     \\\\\n",
       "\t 大巨蛋案　鄧家基：柯P較傾向朝解約方向進行                  & 2016-04-13 16:40:00                                        & 生活                                                       &  5339                                                     \\\\\n",
       "\t 新物質「金屬泡棉」　能防彈抗熱擋輻射                       & 2016-04-13 16:38:00                                        & 國際                                                       &  3553                                                     \\\\\n",
       "\t 【GAME啥】PK柏青哥　這是我的《不良道》                     & 2016-04-13 16:38:00                                        & 3C                                                         &   761                                                     \\\\\n",
       "\t 台積全球市佔逾半　穩居晶圓代工龍頭                         & 2016-04-13 16:37:00                                        & 財經                                                       &  3364                                                     \\\\\n",
       "\t 360度搶拍法拉利　警：開違規罰300元                         & 2016-04-13 16:35:00                                        & 社會                                                       &  7124                                                     \\\\\n",
       "\t 學蜘蛛人垂降進屋　糗懸3樓高半空                            & 2016-04-13 16:35:00                                        & 社會                                                       &  1562                                                     \\\\\n",
       "\t 警政署前署長顏世錫腦出血　昏迷送萬芳醫院治療               & 2016-04-13 16:35:00                                        & 社會                                                       & 15959                                                     \\\\\n",
       "\t 2300公里超馬挑戰　陳瑞龍奔近北京                           & 2016-04-13 16:35:00                                        & 體育                                                       &  2988                                                     \\\\\n",
       "\t 柯文哲的奇航                                               & 2016-04-13 16:33:00                                        & 論壇                                                       &  3654                                                     \\\\\n",
       "\t 【更新】罵記者「神經病」被訴　連惠心賠50萬換和解           & 2016-04-13 16:32:00                                        & 社會                                                       &  6084                                                     \\\\\n",
       "\t ​美專家：每天吃阿斯匹林　有助預防癌症                       & 2016-04-13 16:31:00                                        & 國際                                                       &  3088                                                     \\\\\n",
       "\t Q1稅收少79億　年減2.2\\%                                     & 2016-04-13 16:30:00                                          & 財經                                                         &   835                                                       \\\\\n",
       "\t 【更新】大巨蛋案處理方向　柯Ｐ：已在談解約了               & 2016-04-13 16:29:00                                        & 生活                                                       & 40171                                                     \\\\\n",
       "\t 千萬彩金捐澎湖　8千人次受惠                                & 2016-04-13 16:27:00                                        & 生活                                                       &  2840                                                     \\\\\n",
       "\t 【台灣英文新聞】高志明：二手菸已立法管制　二手農藥亦應仿效 & 2016-04-13 16:26:00                                        & 生活                                                       &   820                                                     \\\\\n",
       "\t 化妝常犯的8個錯誤　當心越畫越老越醜                        & 2016-04-13 16:25:00                                        & 生活                                                       & 26224                                                     \\\\\n",
       "\t 歪國老闆拉鐵門性侵女客　因這事判免驅離                     & 2016-04-13 16:23:00                                        & 社會                                                       &  9305                                                     \\\\\n",
       "\t 新台幣收盤\\textasciitilde{}32.35元　升值3.2分                              & 2016-04-13 16:23:00                                                         & 財經                                                                        &   751                                                                      \\\\\n",
       "\t 美魔安糾紛被控妨害名譽　前主播妻不起訴                     & 2016-04-13 16:20:00                                        & 社會                                                       &  8163                                                     \\\\\n",
       "\t 脫逃大師！　章魚從排水管逃出水族館                         & 2016-04-13 16:19:00                                        & 搜奇                                                       &  4242                                                     \\\\\n",
       "\t 【更新】三井倉庫遷建議題　下月初開公聽會                   & 2016-04-13 16:18:00                                        & 生活                                                       &  2381                                                     \\\\\n",
       "\t 超尷尬！自慰最常被誰撞見？果然是她！                       & 2016-04-13 16:17:00                                        & 搜奇                                                       & 51216                                                     \\\\\n",
       "\t 1年5黑熊斷掌　「黑熊媽媽」譴責補獸鋏                       & 2016-04-13 16:14:00                                        & 動物                                                       &  4352                                                     \\\\\n",
       "\t 周志偉現身國民黨　坦言曾考慮當璩美鳳的人生伴侶             & 2016-04-13 16:13:00                                        & 政治                                                       & 82200                                                     \\\\\n",
       "\\end{tabular}\n"
      ],
      "text/markdown": [
       "\n",
       "title | dt | category | clicked | \n",
       "|---|---|---|---|---|---|---|---|---|---|---|---|---|---|---|---|---|---|---|---|---|---|---|---|---|---|---|---|---|---|---|---|---|---|---|---|---|---|---|---|---|---|---|---|---|---|---|---|---|---|---|---|---|---|---|---|---|---|---|---|---|\n",
       "| 【更新】搶2.2萬彩券刮中1.4萬　沒發財還得入獄          | 2016-04-15 14:32:00                                   | 社會                                                  |  1754                                                 | \n",
       "| 拿到澳洲護照後　他放火燒中國護照                      | 2016-04-15 14:32:00                                   | 國際                                                  |     0                                                 | \n",
       "| 【特企】房市大追擊- 租屋這些事情要小心                | 2016-04-15 14:31:00                                   | 地產                                                  |     0                                                 | \n",
       "| 【央廣RTI】美菲軍演  美防長南海登艦                   | 2016-04-15 14:30:00                                   | 國際                                                  |     0                                                 | \n",
       "| 全球最閃牽手夫妻　絕美禮服出自台灣…                  | 2016-04-15 14:28:00                                   | 時尚                                                  |   311                                                 | \n",
       "| 公司遭搜索　浩鼎籲檢調勿公開商業機密                  | 2016-04-15 14:28:00                                   | 財經                                                  |    24                                                 | \n",
       "| 【央廣RTI】每318秒就有1人罹癌  大腸癌名列第一         | 2016-04-15 14:25:00                                   | 生活                                                  |    20                                                 | \n",
       "| 垃圾掉滿地　村民請神明幫忙                            | 2016-04-15 14:24:00                                   | 生活                                                  |   314                                                 | \n",
       "| 【熊本強震】取消去九州　華航5月8日前退改票免手續費    | 2016-04-15 14:24:00                                   | 生活                                                  |    27                                                 | \n",
       "| 麵龜摻非工業色素　千顆不良品早下肚                    | 2016-04-15 14:23:00                                   | 生活                                                  |   308                                                 | \n",
       "| 同居人女兒熟睡　淫男伸狼爪                            | 2016-04-15 14:22:00                                   | 社會                                                  |  1076                                                 | \n",
       "| 岡山星巴克明開張　前100人咖啡免費                     | 2016-04-15 14:21:00                                   | 生活                                                  |   775                                                 | \n",
       "| 揚智攜手DishTV　搶攻印度衛星電視市場                  | 2016-04-15 14:19:00                                   | 財經                                                  |    92                                                 | \n",
       "| 又要下雨了　中南部6縣市大雨特報                       | 2016-04-15 14:19:00                                   | 生活                                                  | 12347                                                 | \n",
       "| 韓留學生超羨慕　「台灣人失業可以賣雞排」　            | 2016-04-15 14:18:00                                   | 生活                                                  |  1312                                                 | \n",
       "| 澎恰恰收女弟子　拱當台灣第一名伶                      | 2016-04-15 14:17:00                                   | 娛樂                                                  |  1749                                                 | \n",
       "| 手機截圖的極限在哪？　鄉民接力完成                    | 2016-04-15 14:15:00                                   | 搜奇                                                  |  1005                                                 | \n",
       "| 陸委會跨部會議確認　下周登陸展開肯亞案協商            | 2016-04-15 14:15:00                                   | 政治                                                  |   221                                                 | \n",
       "| 【驚險有片】BMW撞翻撞公車　後方機車神穿越             | 2016-04-15 14:12:00                                   | 社會                                                  | 11886                                                 | \n",
       "| 熊本強震驚呆了　返台旅客：整晚不敢睡                  | 2016-04-15 14:10:00                                   | 生活                                                  |  1629                                                 | \n",
       "| 【唱新聞】詐騙嗎？R.O.C.有CHINA但不是CHINA            | 2016-04-15 14:00:00                                   | 娛樂                                                  | 11696                                                 | \n",
       "| 封口費不足還找小四　富翁遭小三爆不舉                  | 2016-04-15 13:59:00                                   | 國際                                                  |  3974                                                 | \n",
       "| LINE更綠了　貓熊新角色曝光                            | 2016-04-15 13:59:00                                   | 3C                                                    |  3234                                                 | \n",
       "| 【更新】翁啟惠進府報告浩鼎案　堅辭與否受矚目          | 2016-04-15 13:54:00                                   | 政治                                                  |  2300                                                 | \n",
       "| 陳敏雄白手起家　曾為在港上市最年輕公司主席            | 2016-04-15 13:54:00                                   | 國際                                                  |  3519                                                 | \n",
       "| 九巡翁霸坐展售車？　原因好心酸                        | 2016-04-15 13:52:00                                   | 社會                                                  |  4582                                                 | \n",
       "| 高雄水景宅　首購也能買                                | 2016-04-15 13:51:00                                   | 地產                                                  |  1039                                                 | \n",
       "| 長榮航董座林寶水　接任北市航空運輸公會理事長          | 2016-04-15 13:51:00                                   | 生活                                                  |   536                                                 | \n",
       "| 蔡英文、林全人事公佈記者會　14:30【蘋果Live】同步直播 | 2016-04-15 13:50:00                                   | 政治                                                  | 12425                                                 | \n",
       "| 【九州地震】SONY、瑞薩、東京威力　熊本廠今全面停工    | 2016-04-15 13:50:00                                   | 財經                                                  |  1336                                                 | \n",
       "| ⋮ | ⋮ | ⋮ | ⋮ | \n",
       "| 大倒角握感如何？　網友試機HTC 10                           | 2016-04-13 16:51:00                                        | 財經                                                       |  7311                                                      | \n",
       "| 油污金山蹦火仔撈嘸魚　朱立倫：納入賠償                     | 2016-04-13 16:51:00                                        | 生活                                                       |  1608                                                      | \n",
       "| 英研究：子宮癌病例增加恐與肥胖有關                         | 2016-04-13 16:49:00                                        | 國際                                                       |  1525                                                      | \n",
       "| 【更新】推南向政策　黃志芳：成立新南向辦公室與智庫         | 2016-04-13 16:46:00                                        | 政治                                                       |  3748                                                      | \n",
       "| 大雨下不停　氣象局發布大雨、豪雨特報                       | 2016-04-13 16:41:00                                        | 生活                                                       | 65520                                                      | \n",
       "| 等著見小豬？！周揚青出沒台北信義區                         | 2016-04-13 16:40:00                                        | 娛樂                                                       | 23314                                                      | \n",
       "| 大巨蛋案　鄧家基：柯P較傾向朝解約方向進行                  | 2016-04-13 16:40:00                                        | 生活                                                       |  5339                                                      | \n",
       "| 新物質「金屬泡棉」　能防彈抗熱擋輻射                       | 2016-04-13 16:38:00                                        | 國際                                                       |  3553                                                      | \n",
       "| 【GAME啥】PK柏青哥　這是我的《不良道》                     | 2016-04-13 16:38:00                                        | 3C                                                         |   761                                                      | \n",
       "| 台積全球市佔逾半　穩居晶圓代工龍頭                         | 2016-04-13 16:37:00                                        | 財經                                                       |  3364                                                      | \n",
       "| 360度搶拍法拉利　警：開違規罰300元                         | 2016-04-13 16:35:00                                        | 社會                                                       |  7124                                                      | \n",
       "| 學蜘蛛人垂降進屋　糗懸3樓高半空                            | 2016-04-13 16:35:00                                        | 社會                                                       |  1562                                                      | \n",
       "| 警政署前署長顏世錫腦出血　昏迷送萬芳醫院治療               | 2016-04-13 16:35:00                                        | 社會                                                       | 15959                                                      | \n",
       "| 2300公里超馬挑戰　陳瑞龍奔近北京                           | 2016-04-13 16:35:00                                        | 體育                                                       |  2988                                                      | \n",
       "| 柯文哲的奇航                                               | 2016-04-13 16:33:00                                        | 論壇                                                       |  3654                                                      | \n",
       "| 【更新】罵記者「神經病」被訴　連惠心賠50萬換和解           | 2016-04-13 16:32:00                                        | 社會                                                       |  6084                                                      | \n",
       "| ​美專家：每天吃阿斯匹林　有助預防癌症                       | 2016-04-13 16:31:00                                        | 國際                                                       |  3088                                                      | \n",
       "| Q1稅收少79億　年減2.2%                                     | 2016-04-13 16:30:00                                        | 財經                                                       |   835                                                      | \n",
       "| 【更新】大巨蛋案處理方向　柯Ｐ：已在談解約了               | 2016-04-13 16:29:00                                        | 生活                                                       | 40171                                                      | \n",
       "| 千萬彩金捐澎湖　8千人次受惠                                | 2016-04-13 16:27:00                                        | 生活                                                       |  2840                                                      | \n",
       "| 【台灣英文新聞】高志明：二手菸已立法管制　二手農藥亦應仿效 | 2016-04-13 16:26:00                                        | 生活                                                       |   820                                                      | \n",
       "| 化妝常犯的8個錯誤　當心越畫越老越醜                        | 2016-04-13 16:25:00                                        | 生活                                                       | 26224                                                      | \n",
       "| 歪國老闆拉鐵門性侵女客　因這事判免驅離                     | 2016-04-13 16:23:00                                        | 社會                                                       |  9305                                                      | \n",
       "| 新台幣收盤~32.35元　升值3.2分                              | 2016-04-13 16:23:00                                        | 財經                                                       |   751                                                      | \n",
       "| 美魔安糾紛被控妨害名譽　前主播妻不起訴                     | 2016-04-13 16:20:00                                        | 社會                                                       |  8163                                                      | \n",
       "| 脫逃大師！　章魚從排水管逃出水族館                         | 2016-04-13 16:19:00                                        | 搜奇                                                       |  4242                                                      | \n",
       "| 【更新】三井倉庫遷建議題　下月初開公聽會                   | 2016-04-13 16:18:00                                        | 生活                                                       |  2381                                                      | \n",
       "| 超尷尬！自慰最常被誰撞見？果然是她！                       | 2016-04-13 16:17:00                                        | 搜奇                                                       | 51216                                                      | \n",
       "| 1年5黑熊斷掌　「黑熊媽媽」譴責補獸鋏                       | 2016-04-13 16:14:00                                        | 動物                                                       |  4352                                                      | \n",
       "| 周志偉現身國民黨　坦言曾考慮當璩美鳳的人生伴侶             | 2016-04-13 16:13:00                                        | 政治                                                       | 82200                                                      | \n",
       "\n",
       "\n"
      ],
      "text/plain": [
       "     title                                                     \n",
       "1    【更新】搶2.2萬彩券刮中1.4萬　沒發財還得入獄              \n",
       "2    拿到澳洲護照後　他放火燒中國護照                          \n",
       "3    【特企】房市大追擊- 租屋這些事情要小心                    \n",
       "4    【央廣RTI】美菲軍演  美防長南海登艦                       \n",
       "5    全球最閃牽手夫妻　絕美禮服出自台灣…                      \n",
       "6    公司遭搜索　浩鼎籲檢調勿公開商業機密                      \n",
       "7    【央廣RTI】每318秒就有1人罹癌  大腸癌名列第一             \n",
       "8    垃圾掉滿地　村民請神明幫忙                                \n",
       "9    【熊本強震】取消去九州　華航5月8日前退改票免手續費        \n",
       "10   麵龜摻非工業色素　千顆不良品早下肚                        \n",
       "11   同居人女兒熟睡　淫男伸狼爪                                \n",
       "12   岡山星巴克明開張　前100人咖啡免費                         \n",
       "13   揚智攜手DishTV　搶攻印度衛星電視市場                      \n",
       "14   又要下雨了　中南部6縣市大雨特報                           \n",
       "15   韓留學生超羨慕　「台灣人失業可以賣雞排」　                \n",
       "16   澎恰恰收女弟子　拱當台灣第一名伶                          \n",
       "17   手機截圖的極限在哪？　鄉民接力完成                        \n",
       "18   陸委會跨部會議確認　下周登陸展開肯亞案協商                \n",
       "19   【驚險有片】BMW撞翻撞公車　後方機車神穿越                 \n",
       "20   熊本強震驚呆了　返台旅客：整晚不敢睡                      \n",
       "21   【唱新聞】詐騙嗎？R.O.C.有CHINA但不是CHINA                \n",
       "22   封口費不足還找小四　富翁遭小三爆不舉                      \n",
       "23   LINE更綠了　貓熊新角色曝光                                \n",
       "24   【更新】翁啟惠進府報告浩鼎案　堅辭與否受矚目              \n",
       "25   陳敏雄白手起家　曾為在港上市最年輕公司主席                \n",
       "26   九巡翁霸坐展售車？　原因好心酸                            \n",
       "27   高雄水景宅　首購也能買                                    \n",
       "28   長榮航董座林寶水　接任北市航空運輸公會理事長              \n",
       "29   蔡英文、林全人事公佈記者會　14:30【蘋果Live】同步直播     \n",
       "30   【九州地震】SONY、瑞薩、東京威力　熊本廠今全面停工        \n",
       "⋮    ⋮                                                         \n",
       "1471 大倒角握感如何？　網友試機HTC 10                          \n",
       "1472 油污金山蹦火仔撈嘸魚　朱立倫：納入賠償                    \n",
       "1473 英研究：子宮癌病例增加恐與肥胖有關                        \n",
       "1474 【更新】推南向政策　黃志芳：成立新南向辦公室與智庫        \n",
       "1475 大雨下不停　氣象局發布大雨、豪雨特報                      \n",
       "1476 等著見小豬？！周揚青出沒台北信義區                        \n",
       "1477 大巨蛋案　鄧家基：柯P較傾向朝解約方向進行                 \n",
       "1478 新物質「金屬泡棉」　能防彈抗熱擋輻射                      \n",
       "1479 【GAME啥】PK柏青哥　這是我的《不良道》                    \n",
       "1480 台積全球市佔逾半　穩居晶圓代工龍頭                        \n",
       "1481 360度搶拍法拉利　警：開違規罰300元                        \n",
       "1482 學蜘蛛人垂降進屋　糗懸3樓高半空                           \n",
       "1483 警政署前署長顏世錫腦出血　昏迷送萬芳醫院治療              \n",
       "1484 2300公里超馬挑戰　陳瑞龍奔近北京                          \n",
       "1485 柯文哲的奇航                                              \n",
       "1486 【更新】罵記者「神經病」被訴　連惠心賠50萬換和解          \n",
       "1487 ​美專家：每天吃阿斯匹林　有助預防癌症                      \n",
       "1488 Q1稅收少79億　年減2.2%                                    \n",
       "1489 【更新】大巨蛋案處理方向　柯Ｐ：已在談解約了              \n",
       "1490 千萬彩金捐澎湖　8千人次受惠                               \n",
       "1491 【台灣英文新聞】高志明：二手菸已立法管制　二手農藥亦應仿效\n",
       "1492 化妝常犯的8個錯誤　當心越畫越老越醜                       \n",
       "1493 歪國老闆拉鐵門性侵女客　因這事判免驅離                    \n",
       "1494 新台幣收盤~32.35元　升值3.2分                             \n",
       "1495 美魔安糾紛被控妨害名譽　前主播妻不起訴                    \n",
       "1496 脫逃大師！　章魚從排水管逃出水族館                        \n",
       "1497 【更新】三井倉庫遷建議題　下月初開公聽會                  \n",
       "1498 超尷尬！自慰最常被誰撞見？果然是她！                      \n",
       "1499 1年5黑熊斷掌　「黑熊媽媽」譴責補獸鋏                      \n",
       "1500 周志偉現身國民黨　坦言曾考慮當璩美鳳的人生伴侶            \n",
       "     dt                  category clicked\n",
       "1    2016-04-15 14:32:00 社會      1754  \n",
       "2    2016-04-15 14:32:00 國際         0  \n",
       "3    2016-04-15 14:31:00 地產         0  \n",
       "4    2016-04-15 14:30:00 國際         0  \n",
       "5    2016-04-15 14:28:00 時尚       311  \n",
       "6    2016-04-15 14:28:00 財經        24  \n",
       "7    2016-04-15 14:25:00 生活        20  \n",
       "8    2016-04-15 14:24:00 生活       314  \n",
       "9    2016-04-15 14:24:00 生活        27  \n",
       "10   2016-04-15 14:23:00 生活       308  \n",
       "11   2016-04-15 14:22:00 社會      1076  \n",
       "12   2016-04-15 14:21:00 生活       775  \n",
       "13   2016-04-15 14:19:00 財經        92  \n",
       "14   2016-04-15 14:19:00 生活     12347  \n",
       "15   2016-04-15 14:18:00 生活      1312  \n",
       "16   2016-04-15 14:17:00 娛樂      1749  \n",
       "17   2016-04-15 14:15:00 搜奇      1005  \n",
       "18   2016-04-15 14:15:00 政治       221  \n",
       "19   2016-04-15 14:12:00 社會     11886  \n",
       "20   2016-04-15 14:10:00 生活      1629  \n",
       "21   2016-04-15 14:00:00 娛樂     11696  \n",
       "22   2016-04-15 13:59:00 國際      3974  \n",
       "23   2016-04-15 13:59:00 3C        3234  \n",
       "24   2016-04-15 13:54:00 政治      2300  \n",
       "25   2016-04-15 13:54:00 國際      3519  \n",
       "26   2016-04-15 13:52:00 社會      4582  \n",
       "27   2016-04-15 13:51:00 地產      1039  \n",
       "28   2016-04-15 13:51:00 生活       536  \n",
       "29   2016-04-15 13:50:00 政治     12425  \n",
       "30   2016-04-15 13:50:00 財經      1336  \n",
       "⋮    ⋮                   ⋮        ⋮      \n",
       "1471 2016-04-13 16:51:00 財經      7311  \n",
       "1472 2016-04-13 16:51:00 生活      1608  \n",
       "1473 2016-04-13 16:49:00 國際      1525  \n",
       "1474 2016-04-13 16:46:00 政治      3748  \n",
       "1475 2016-04-13 16:41:00 生活     65520  \n",
       "1476 2016-04-13 16:40:00 娛樂     23314  \n",
       "1477 2016-04-13 16:40:00 生活      5339  \n",
       "1478 2016-04-13 16:38:00 國際      3553  \n",
       "1479 2016-04-13 16:38:00 3C         761  \n",
       "1480 2016-04-13 16:37:00 財經      3364  \n",
       "1481 2016-04-13 16:35:00 社會      7124  \n",
       "1482 2016-04-13 16:35:00 社會      1562  \n",
       "1483 2016-04-13 16:35:00 社會     15959  \n",
       "1484 2016-04-13 16:35:00 體育      2988  \n",
       "1485 2016-04-13 16:33:00 論壇      3654  \n",
       "1486 2016-04-13 16:32:00 社會      6084  \n",
       "1487 2016-04-13 16:31:00 國際      3088  \n",
       "1488 2016-04-13 16:30:00 財經       835  \n",
       "1489 2016-04-13 16:29:00 生活     40171  \n",
       "1490 2016-04-13 16:27:00 生活      2840  \n",
       "1491 2016-04-13 16:26:00 生活       820  \n",
       "1492 2016-04-13 16:25:00 生活     26224  \n",
       "1493 2016-04-13 16:23:00 社會      9305  \n",
       "1494 2016-04-13 16:23:00 財經       751  \n",
       "1495 2016-04-13 16:20:00 社會      8163  \n",
       "1496 2016-04-13 16:19:00 搜奇      4242  \n",
       "1497 2016-04-13 16:18:00 生活      2381  \n",
       "1498 2016-04-13 16:17:00 搜奇     51216  \n",
       "1499 2016-04-13 16:14:00 動物      4352  \n",
       "1500 2016-04-13 16:13:00 政治     82200  "
      ]
     },
     "metadata": {},
     "output_type": "display_data"
    }
   ],
   "source": [
    "applenews"
   ]
  },
  {
   "cell_type": "code",
   "execution_count": 265,
   "metadata": {},
   "outputs": [
    {
     "data": {
      "text/html": [
       "<table>\n",
       "<thead><tr><th scope=col>category</th><th scope=col>clicked_mean</th><th scope=col>portion_mean</th><th scope=col>clicked_sum</th><th scope=col>portion_sum</th><th scope=col>clicked_min</th><th scope=col>portion_min</th><th scope=col>clicked_max</th><th scope=col>portion_max</th></tr></thead>\n",
       "<tbody>\n",
       "\t<tr><td>3C          </td><td> 3954.270   </td><td>0.0001832886</td><td> 146308     </td><td>0.006781677 </td><td> 267        </td><td>1.237600e-05</td><td> 20509      </td><td>0.0009506344</td></tr>\n",
       "\t<tr><td>財經        </td><td> 5109.446   </td><td>0.0002368334</td><td> 618243     </td><td>0.028656837 </td><td>  24        </td><td>1.112449e-06</td><td> 54886      </td><td>0.0025440792</td></tr>\n",
       "\t<tr><td>地產        </td><td> 6900.375   </td><td>0.0003198466</td><td> 220812     </td><td>0.010235091 </td><td>   0        </td><td>0.000000e+00</td><td> 80691      </td><td>0.0037401941</td></tr>\n",
       "\t<tr><td>動物        </td><td> 4741.808   </td><td>0.0002197926</td><td> 123287     </td><td>0.005714606 </td><td>1211        </td><td>5.613235e-05</td><td> 11753      </td><td>0.0005447758</td></tr>\n",
       "\t<tr><td>國際        </td><td> 8913.723   </td><td>0.0004131694</td><td>2540411     </td><td>0.117753284 </td><td>   0        </td><td>0.000000e+00</td><td>150825      </td><td>0.0069910495</td></tr>\n",
       "\t<tr><td>論壇        </td><td> 5683.491   </td><td>0.0002634415</td><td> 312592     </td><td>0.014489283 </td><td> 275        </td><td>1.274682e-05</td><td> 68208      </td><td>0.0031615813</td></tr>\n",
       "\t<tr><td>社會        </td><td>29493.557   </td><td>0.0013670871</td><td>5721750     </td><td>0.265214902 </td><td> 918        </td><td>4.255119e-05</td><td>241842      </td><td>0.0112098750</td></tr>\n",
       "\t<tr><td>生活        </td><td>11469.141   </td><td>0.0005316183</td><td>3417804     </td><td>0.158422257 </td><td>  20        </td><td>9.270412e-07</td><td>132880      </td><td>0.0061592618</td></tr>\n",
       "\t<tr><td>時尚        </td><td> 6855.237   </td><td>0.0003177544</td><td> 260499     </td><td>0.012074665 </td><td> 311        </td><td>1.441549e-05</td><td> 67086      </td><td>0.0031095743</td></tr>\n",
       "\t<tr><td>搜奇        </td><td>12151.036   </td><td>0.0005632256</td><td> 668307     </td><td>0.030977406 </td><td> 199        </td><td>9.224060e-06</td><td> 83036      </td><td>0.0038488897</td></tr>\n",
       "\t<tr><td>體育        </td><td>16821.758   </td><td>0.0007797231</td><td>1598067     </td><td>0.074073698 </td><td> 523        </td><td>2.424213e-05</td><td>162907      </td><td>0.0075510751</td></tr>\n",
       "\t<tr><td>娛樂        </td><td>31601.814   </td><td>0.0014648092</td><td>3571005     </td><td>0.165523439 </td><td>1631        </td><td>7.560021e-05</td><td>299235      </td><td>0.0138701588</td></tr>\n",
       "\t<tr><td>正妹        </td><td>84118.625   </td><td>0.0038990716</td><td> 672949     </td><td>0.031192573 </td><td>7999        </td><td>3.707701e-04</td><td>344733      </td><td>0.0159790848</td></tr>\n",
       "\t<tr><td>政治        </td><td>11901.958   </td><td>0.0005516803</td><td>1701980     </td><td>0.078890280 </td><td> 221        </td><td>1.024381e-05</td><td> 83059      </td><td>0.0038499558</td></tr>\n",
       "</tbody>\n",
       "</table>\n"
      ],
      "text/latex": [
       "\\begin{tabular}{r|lllllllll}\n",
       " category & clicked\\_mean & portion\\_mean & clicked\\_sum & portion\\_sum & clicked\\_min & portion\\_min & clicked\\_max & portion\\_max\\\\\n",
       "\\hline\n",
       "\t 3C           &  3954.270    & 0.0001832886 &  146308      & 0.006781677  &  267         & 1.237600e-05 &  20509       & 0.0009506344\\\\\n",
       "\t 財經         &  5109.446    & 0.0002368334 &  618243      & 0.028656837  &   24         & 1.112449e-06 &  54886       & 0.0025440792\\\\\n",
       "\t 地產         &  6900.375    & 0.0003198466 &  220812      & 0.010235091  &    0         & 0.000000e+00 &  80691       & 0.0037401941\\\\\n",
       "\t 動物         &  4741.808    & 0.0002197926 &  123287      & 0.005714606  & 1211         & 5.613235e-05 &  11753       & 0.0005447758\\\\\n",
       "\t 國際         &  8913.723    & 0.0004131694 & 2540411      & 0.117753284  &    0         & 0.000000e+00 & 150825       & 0.0069910495\\\\\n",
       "\t 論壇         &  5683.491    & 0.0002634415 &  312592      & 0.014489283  &  275         & 1.274682e-05 &  68208       & 0.0031615813\\\\\n",
       "\t 社會         & 29493.557    & 0.0013670871 & 5721750      & 0.265214902  &  918         & 4.255119e-05 & 241842       & 0.0112098750\\\\\n",
       "\t 生活         & 11469.141    & 0.0005316183 & 3417804      & 0.158422257  &   20         & 9.270412e-07 & 132880       & 0.0061592618\\\\\n",
       "\t 時尚         &  6855.237    & 0.0003177544 &  260499      & 0.012074665  &  311         & 1.441549e-05 &  67086       & 0.0031095743\\\\\n",
       "\t 搜奇         & 12151.036    & 0.0005632256 &  668307      & 0.030977406  &  199         & 9.224060e-06 &  83036       & 0.0038488897\\\\\n",
       "\t 體育         & 16821.758    & 0.0007797231 & 1598067      & 0.074073698  &  523         & 2.424213e-05 & 162907       & 0.0075510751\\\\\n",
       "\t 娛樂         & 31601.814    & 0.0014648092 & 3571005      & 0.165523439  & 1631         & 7.560021e-05 & 299235       & 0.0138701588\\\\\n",
       "\t 正妹         & 84118.625    & 0.0038990716 &  672949      & 0.031192573  & 7999         & 3.707701e-04 & 344733       & 0.0159790848\\\\\n",
       "\t 政治         & 11901.958    & 0.0005516803 & 1701980      & 0.078890280  &  221         & 1.024381e-05 &  83059       & 0.0038499558\\\\\n",
       "\\end{tabular}\n"
      ],
      "text/markdown": [
       "\n",
       "category | clicked_mean | portion_mean | clicked_sum | portion_sum | clicked_min | portion_min | clicked_max | portion_max | \n",
       "|---|---|---|---|---|---|---|---|---|---|---|---|---|---|\n",
       "| 3C           |  3954.270    | 0.0001832886 |  146308      | 0.006781677  |  267         | 1.237600e-05 |  20509       | 0.0009506344 | \n",
       "| 財經         |  5109.446    | 0.0002368334 |  618243      | 0.028656837  |   24         | 1.112449e-06 |  54886       | 0.0025440792 | \n",
       "| 地產         |  6900.375    | 0.0003198466 |  220812      | 0.010235091  |    0         | 0.000000e+00 |  80691       | 0.0037401941 | \n",
       "| 動物         |  4741.808    | 0.0002197926 |  123287      | 0.005714606  | 1211         | 5.613235e-05 |  11753       | 0.0005447758 | \n",
       "| 國際         |  8913.723    | 0.0004131694 | 2540411      | 0.117753284  |    0         | 0.000000e+00 | 150825       | 0.0069910495 | \n",
       "| 論壇         |  5683.491    | 0.0002634415 |  312592      | 0.014489283  |  275         | 1.274682e-05 |  68208       | 0.0031615813 | \n",
       "| 社會         | 29493.557    | 0.0013670871 | 5721750      | 0.265214902  |  918         | 4.255119e-05 | 241842       | 0.0112098750 | \n",
       "| 生活         | 11469.141    | 0.0005316183 | 3417804      | 0.158422257  |   20         | 9.270412e-07 | 132880       | 0.0061592618 | \n",
       "| 時尚         |  6855.237    | 0.0003177544 |  260499      | 0.012074665  |  311         | 1.441549e-05 |  67086       | 0.0031095743 | \n",
       "| 搜奇         | 12151.036    | 0.0005632256 |  668307      | 0.030977406  |  199         | 9.224060e-06 |  83036       | 0.0038488897 | \n",
       "| 體育         | 16821.758    | 0.0007797231 | 1598067      | 0.074073698  |  523         | 2.424213e-05 | 162907       | 0.0075510751 | \n",
       "| 娛樂         | 31601.814    | 0.0014648092 | 3571005      | 0.165523439  | 1631         | 7.560021e-05 | 299235       | 0.0138701588 | \n",
       "| 正妹         | 84118.625    | 0.0038990716 |  672949      | 0.031192573  | 7999         | 3.707701e-04 | 344733       | 0.0159790848 | \n",
       "| 政治         | 11901.958    | 0.0005516803 | 1701980      | 0.078890280  |  221         | 1.024381e-05 |  83059       | 0.0038499558 | \n",
       "\n",
       "\n"
      ],
      "text/plain": [
       "   category clicked_mean portion_mean clicked_sum portion_sum clicked_min\n",
       "1  3C        3954.270    0.0001832886  146308     0.006781677  267       \n",
       "2  財經      5109.446    0.0002368334  618243     0.028656837   24       \n",
       "3  地產      6900.375    0.0003198466  220812     0.010235091    0       \n",
       "4  動物      4741.808    0.0002197926  123287     0.005714606 1211       \n",
       "5  國際      8913.723    0.0004131694 2540411     0.117753284    0       \n",
       "6  論壇      5683.491    0.0002634415  312592     0.014489283  275       \n",
       "7  社會     29493.557    0.0013670871 5721750     0.265214902  918       \n",
       "8  生活     11469.141    0.0005316183 3417804     0.158422257   20       \n",
       "9  時尚      6855.237    0.0003177544  260499     0.012074665  311       \n",
       "10 搜奇     12151.036    0.0005632256  668307     0.030977406  199       \n",
       "11 體育     16821.758    0.0007797231 1598067     0.074073698  523       \n",
       "12 娛樂     31601.814    0.0014648092 3571005     0.165523439 1631       \n",
       "13 正妹     84118.625    0.0038990716  672949     0.031192573 7999       \n",
       "14 政治     11901.958    0.0005516803 1701980     0.078890280  221       \n",
       "   portion_min  clicked_max portion_max \n",
       "1  1.237600e-05  20509      0.0009506344\n",
       "2  1.112449e-06  54886      0.0025440792\n",
       "3  0.000000e+00  80691      0.0037401941\n",
       "4  5.613235e-05  11753      0.0005447758\n",
       "5  0.000000e+00 150825      0.0069910495\n",
       "6  1.274682e-05  68208      0.0031615813\n",
       "7  4.255119e-05 241842      0.0112098750\n",
       "8  9.270412e-07 132880      0.0061592618\n",
       "9  1.441549e-05  67086      0.0031095743\n",
       "10 9.224060e-06  83036      0.0038488897\n",
       "11 2.424213e-05 162907      0.0075510751\n",
       "12 7.560021e-05 299235      0.0138701588\n",
       "13 3.707701e-04 344733      0.0159790848\n",
       "14 1.024381e-05  83059      0.0038499558"
      ]
     },
     "metadata": {},
     "output_type": "display_data"
    }
   ],
   "source": [
    "applenews %>% group_by(category) %>% summarise_at(.vars=vars(clicked,portion),.funs=funs(mean,sum,min,max))"
   ]
  },
  {
   "cell_type": "code",
   "execution_count": 277,
   "metadata": {},
   "outputs": [
    {
     "data": {
      "text/html": [
       "<table>\n",
       "<thead><tr><th scope=col>category</th><th scope=col>clicked_mean</th></tr></thead>\n",
       "<tbody>\n",
       "\t<tr><td>正妹     </td><td>84118.625</td></tr>\n",
       "\t<tr><td>娛樂     </td><td>31601.814</td></tr>\n",
       "\t<tr><td>社會     </td><td>29493.557</td></tr>\n",
       "\t<tr><td>體育     </td><td>16821.758</td></tr>\n",
       "\t<tr><td>搜奇     </td><td>12151.036</td></tr>\n",
       "\t<tr><td>政治     </td><td>11901.958</td></tr>\n",
       "\t<tr><td>生活     </td><td>11469.141</td></tr>\n",
       "\t<tr><td>國際     </td><td> 8913.723</td></tr>\n",
       "\t<tr><td>地產     </td><td> 6900.375</td></tr>\n",
       "\t<tr><td>時尚     </td><td> 6855.237</td></tr>\n",
       "\t<tr><td>論壇     </td><td> 5683.491</td></tr>\n",
       "\t<tr><td>財經     </td><td> 5109.446</td></tr>\n",
       "\t<tr><td>動物     </td><td> 4741.808</td></tr>\n",
       "\t<tr><td>3C       </td><td> 3954.270</td></tr>\n",
       "</tbody>\n",
       "</table>\n"
      ],
      "text/latex": [
       "\\begin{tabular}{r|ll}\n",
       " category & clicked\\_mean\\\\\n",
       "\\hline\n",
       "\t 正妹      & 84118.625\\\\\n",
       "\t 娛樂      & 31601.814\\\\\n",
       "\t 社會      & 29493.557\\\\\n",
       "\t 體育      & 16821.758\\\\\n",
       "\t 搜奇      & 12151.036\\\\\n",
       "\t 政治      & 11901.958\\\\\n",
       "\t 生活      & 11469.141\\\\\n",
       "\t 國際      &  8913.723\\\\\n",
       "\t 地產      &  6900.375\\\\\n",
       "\t 時尚      &  6855.237\\\\\n",
       "\t 論壇      &  5683.491\\\\\n",
       "\t 財經      &  5109.446\\\\\n",
       "\t 動物      &  4741.808\\\\\n",
       "\t 3C        &  3954.270\\\\\n",
       "\\end{tabular}\n"
      ],
      "text/markdown": [
       "\n",
       "category | clicked_mean | \n",
       "|---|---|---|---|---|---|---|---|---|---|---|---|---|---|\n",
       "| 正妹      | 84118.625 | \n",
       "| 娛樂      | 31601.814 | \n",
       "| 社會      | 29493.557 | \n",
       "| 體育      | 16821.758 | \n",
       "| 搜奇      | 12151.036 | \n",
       "| 政治      | 11901.958 | \n",
       "| 生活      | 11469.141 | \n",
       "| 國際      |  8913.723 | \n",
       "| 地產      |  6900.375 | \n",
       "| 時尚      |  6855.237 | \n",
       "| 論壇      |  5683.491 | \n",
       "| 財經      |  5109.446 | \n",
       "| 動物      |  4741.808 | \n",
       "| 3C        |  3954.270 | \n",
       "\n",
       "\n"
      ],
      "text/plain": [
       "   category clicked_mean\n",
       "1  正妹     84118.625   \n",
       "2  娛樂     31601.814   \n",
       "3  社會     29493.557   \n",
       "4  體育     16821.758   \n",
       "5  搜奇     12151.036   \n",
       "6  政治     11901.958   \n",
       "7  生活     11469.141   \n",
       "8  國際      8913.723   \n",
       "9  地產      6900.375   \n",
       "10 時尚      6855.237   \n",
       "11 論壇      5683.491   \n",
       "12 財經      5109.446   \n",
       "13 動物      4741.808   \n",
       "14 3C        3954.270   "
      ]
     },
     "metadata": {},
     "output_type": "display_data"
    }
   ],
   "source": [
    "cat_stats = applenews %>% group_by(category) %>% summarise(clicked_mean = mean(clicked)) %>% arrange(desc(clicked_mean))\n",
    "cat_stats"
   ]
  },
  {
   "cell_type": "code",
   "execution_count": 278,
   "metadata": {},
   "outputs": [
    {
     "data": {
      "text/html": [
       "<ol class=list-inline>\n",
       "\t<li>'正妹'</li>\n",
       "\t<li>'娛樂'</li>\n",
       "\t<li>'社會'</li>\n",
       "\t<li>'體育'</li>\n",
       "\t<li>'搜奇'</li>\n",
       "\t<li>'政治'</li>\n",
       "\t<li>'生活'</li>\n",
       "\t<li>'國際'</li>\n",
       "\t<li>'地產'</li>\n",
       "\t<li>'時尚'</li>\n",
       "\t<li>'論壇'</li>\n",
       "\t<li>'財經'</li>\n",
       "\t<li>'動物'</li>\n",
       "\t<li>'3C'</li>\n",
       "</ol>\n"
      ],
      "text/latex": [
       "\\begin{enumerate*}\n",
       "\\item '正妹'\n",
       "\\item '娛樂'\n",
       "\\item '社會'\n",
       "\\item '體育'\n",
       "\\item '搜奇'\n",
       "\\item '政治'\n",
       "\\item '生活'\n",
       "\\item '國際'\n",
       "\\item '地產'\n",
       "\\item '時尚'\n",
       "\\item '論壇'\n",
       "\\item '財經'\n",
       "\\item '動物'\n",
       "\\item '3C'\n",
       "\\end{enumerate*}\n"
      ],
      "text/markdown": [
       "1. '正妹'\n",
       "2. '娛樂'\n",
       "3. '社會'\n",
       "4. '體育'\n",
       "5. '搜奇'\n",
       "6. '政治'\n",
       "7. '生活'\n",
       "8. '國際'\n",
       "9. '地產'\n",
       "10. '時尚'\n",
       "11. '論壇'\n",
       "12. '財經'\n",
       "13. '動物'\n",
       "14. '3C'\n",
       "\n",
       "\n"
      ],
      "text/plain": [
       " [1] \"正妹\" \"娛樂\" \"社會\" \"體育\" \"搜奇\" \"政治\" \"生活\" \"國際\" \"地產\" \"時尚\"\n",
       "[11] \"論壇\" \"財經\" \"動物\" \"3C\"  "
      ]
     },
     "metadata": {},
     "output_type": "display_data"
    }
   ],
   "source": [
    "cat_stats$category"
   ]
  },
  {
   "cell_type": "code",
   "execution_count": 282,
   "metadata": {},
   "outputs": [],
   "source": [
    "library(ggplot2)\n",
    "g=ggplot(cat_stats,aes(x=category,y=clicked_mean)) + geom_bar(stat='identity')+ theme(text=element_text(family=\"Songti SC\"))+scale_x_discrete(limits=cat_stats$category)\n"
   ]
  },
  {
   "cell_type": "code",
   "execution_count": 283,
   "metadata": {},
   "outputs": [
    {
     "name": "stderr",
     "output_type": "stream",
     "text": [
      "Warning message in grid.Call(C_textBounds, as.graphicsAnnot(x$label), x$x, x$y, :\n",
      "“font family 'Songti SC' not found in PostScript font database”Warning message in grid.Call(C_textBounds, as.graphicsAnnot(x$label), x$x, x$y, :\n",
      "“font family 'Songti SC' not found in PostScript font database”Warning message in grid.Call(C_textBounds, as.graphicsAnnot(x$label), x$x, x$y, :\n",
      "“font family 'Songti SC' not found in PostScript font database”Warning message in grid.Call(C_textBounds, as.graphicsAnnot(x$label), x$x, x$y, :\n",
      "“font family 'Songti SC' not found in PostScript font database”Warning message in grid.Call(C_textBounds, as.graphicsAnnot(x$label), x$x, x$y, :\n",
      "“font family 'Songti SC' not found in PostScript font database”Warning message in grid.Call(C_textBounds, as.graphicsAnnot(x$label), x$x, x$y, :\n",
      "“font family 'Songti SC' not found in PostScript font database”Warning message in grid.Call(C_textBounds, as.graphicsAnnot(x$label), x$x, x$y, :\n",
      "“font family 'Songti SC' not found in PostScript font database”Warning message in grid.Call(C_textBounds, as.graphicsAnnot(x$label), x$x, x$y, :\n",
      "“font family 'Songti SC' not found in PostScript font database”Warning message in grid.Call(C_textBounds, as.graphicsAnnot(x$label), x$x, x$y, :\n",
      "“font family 'Songti SC' not found in PostScript font database”Warning message in grid.Call(C_textBounds, as.graphicsAnnot(x$label), x$x, x$y, :\n",
      "“font family 'Songti SC' not found in PostScript font database”Warning message in grid.Call(C_textBounds, as.graphicsAnnot(x$label), x$x, x$y, :\n",
      "“font family 'Songti SC' not found in PostScript font database”Warning message in grid.Call(C_textBounds, as.graphicsAnnot(x$label), x$x, x$y, :\n",
      "“font family 'Songti SC' not found in PostScript font database”Warning message in grid.Call(C_textBounds, as.graphicsAnnot(x$label), x$x, x$y, :\n",
      "“font family 'Songti SC' not found in PostScript font database”Warning message in grid.Call(C_textBounds, as.graphicsAnnot(x$label), x$x, x$y, :\n",
      "“font family 'Songti SC' not found in PostScript font database”Warning message in grid.Call(C_textBounds, as.graphicsAnnot(x$label), x$x, x$y, :\n",
      "“font family 'Songti SC' not found in PostScript font database”Warning message in grid.Call(C_textBounds, as.graphicsAnnot(x$label), x$x, x$y, :\n",
      "“font family 'Songti SC' not found in PostScript font database”Warning message in grid.Call(C_textBounds, as.graphicsAnnot(x$label), x$x, x$y, :\n",
      "“font family 'Songti SC' not found in PostScript font database”Warning message in grid.Call(C_textBounds, as.graphicsAnnot(x$label), x$x, x$y, :\n",
      "“font family 'Songti SC' not found in PostScript font database”Warning message in grid.Call(C_textBounds, as.graphicsAnnot(x$label), x$x, x$y, :\n",
      "“font family 'Songti SC' not found in PostScript font database”Warning message in grid.Call(C_textBounds, as.graphicsAnnot(x$label), x$x, x$y, :\n",
      "“font family 'Songti SC' not found in PostScript font database”Warning message in grid.Call(C_textBounds, as.graphicsAnnot(x$label), x$x, x$y, :\n",
      "“font family 'Songti SC' not found in PostScript font database”Warning message in grid.Call(C_textBounds, as.graphicsAnnot(x$label), x$x, x$y, :\n",
      "“font family 'Songti SC' not found in PostScript font database”Warning message in grid.Call(C_textBounds, as.graphicsAnnot(x$label), x$x, x$y, :\n",
      "“font family 'Songti SC' not found in PostScript font database”Warning message in grid.Call(C_textBounds, as.graphicsAnnot(x$label), x$x, x$y, :\n",
      "“font family 'Songti SC' not found in PostScript font database”Warning message in grid.Call(C_textBounds, as.graphicsAnnot(x$label), x$x, x$y, :\n",
      "“font family 'Songti SC' not found in PostScript font database”Warning message in grid.Call(C_textBounds, as.graphicsAnnot(x$label), x$x, x$y, :\n",
      "“font family 'Songti SC' not found in PostScript font database”Warning message in grid.Call(C_textBounds, as.graphicsAnnot(x$label), x$x, x$y, :\n",
      "“font family 'Songti SC' not found in PostScript font database”Warning message in grid.Call(C_textBounds, as.graphicsAnnot(x$label), x$x, x$y, :\n",
      "“font family 'Songti SC' not found in PostScript font database”Warning message in grid.Call(C_textBounds, as.graphicsAnnot(x$label), x$x, x$y, :\n",
      "“font family 'Songti SC' not found in PostScript font database”Warning message in grid.Call(C_textBounds, as.graphicsAnnot(x$label), x$x, x$y, :\n",
      "“font family 'Songti SC' not found in PostScript font database”Warning message in grid.Call(C_textBounds, as.graphicsAnnot(x$label), x$x, x$y, :\n",
      "“font family 'Songti SC' not found in PostScript font database”Warning message in grid.Call(C_textBounds, as.graphicsAnnot(x$label), x$x, x$y, :\n",
      "“font family 'Songti SC' not found in PostScript font database”Warning message in grid.Call(C_textBounds, as.graphicsAnnot(x$label), x$x, x$y, :\n",
      "“font family 'Songti SC' not found in PostScript font database”Warning message in grid.Call(C_textBounds, as.graphicsAnnot(x$label), x$x, x$y, :\n",
      "“font family 'Songti SC' not found in PostScript font database”Warning message in grid.Call(C_textBounds, as.graphicsAnnot(x$label), x$x, x$y, :\n",
      "“font family 'Songti SC' not found in PostScript font database”Warning message in grid.Call(C_textBounds, as.graphicsAnnot(x$label), x$x, x$y, :\n",
      "“font family 'Songti SC' not found in PostScript font database”Warning message in grid.Call(C_textBounds, as.graphicsAnnot(x$label), x$x, x$y, :\n",
      "“font family 'Songti SC' not found in PostScript font database”Warning message in grid.Call(C_textBounds, as.graphicsAnnot(x$label), x$x, x$y, :\n",
      "“font family 'Songti SC' not found in PostScript font database”Warning message in grid.Call(C_textBounds, as.graphicsAnnot(x$label), x$x, x$y, :\n",
      "“font family 'Songti SC' not found in PostScript font database”Warning message in grid.Call(C_textBounds, as.graphicsAnnot(x$label), x$x, x$y, :\n",
      "“font family 'Songti SC' not found in PostScript font database”Warning message in grid.Call(C_textBounds, as.graphicsAnnot(x$label), x$x, x$y, :\n",
      "“font family 'Songti SC' not found in PostScript font database”Warning message in grid.Call(C_textBounds, as.graphicsAnnot(x$label), x$x, x$y, :\n",
      "“font family 'Songti SC' not found in PostScript font database”Warning message in grid.Call(C_textBounds, as.graphicsAnnot(x$label), x$x, x$y, :\n",
      "“font family 'Songti SC' not found in PostScript font database”Warning message in grid.Call(C_textBounds, as.graphicsAnnot(x$label), x$x, x$y, :\n",
      "“font family 'Songti SC' not found in PostScript font database”Warning message in grid.Call(C_textBounds, as.graphicsAnnot(x$label), x$x, x$y, :\n",
      "“font family 'Songti SC' not found in PostScript font database”Warning message in grid.Call(C_textBounds, as.graphicsAnnot(x$label), x$x, x$y, :\n",
      "“font family 'Songti SC' not found in PostScript font database”Warning message in grid.Call(C_textBounds, as.graphicsAnnot(x$label), x$x, x$y, :\n",
      "“font family 'Songti SC' not found in PostScript font database”Warning message in grid.Call(C_textBounds, as.graphicsAnnot(x$label), x$x, x$y, :\n",
      "“font family 'Songti SC' not found in PostScript font database”Warning message in grid.Call(C_textBounds, as.graphicsAnnot(x$label), x$x, x$y, :\n",
      "“font family 'Songti SC' not found in PostScript font database”Warning message in grid.Call(C_textBounds, as.graphicsAnnot(x$label), x$x, x$y, :\n",
      "“font family 'Songti SC' not found in PostScript font database”Warning message in grid.Call(C_textBounds, as.graphicsAnnot(x$label), x$x, x$y, :\n",
      "“font family 'Songti SC' not found in PostScript font database”Warning message in grid.Call(C_textBounds, as.graphicsAnnot(x$label), x$x, x$y, :\n",
      "“font family 'Songti SC' not found in PostScript font database”Warning message in grid.Call(C_textBounds, as.graphicsAnnot(x$label), x$x, x$y, :\n",
      "“font family 'Songti SC' not found in PostScript font database”Warning message in grid.Call(C_textBounds, as.graphicsAnnot(x$label), x$x, x$y, :\n",
      "“font family 'Songti SC' not found in PostScript font database”Warning message in grid.Call(C_textBounds, as.graphicsAnnot(x$label), x$x, x$y, :\n",
      "“font family 'Songti SC' not found in PostScript font database”Warning message in grid.Call(C_textBounds, as.graphicsAnnot(x$label), x$x, x$y, :\n",
      "“font family 'Songti SC' not found in PostScript font database”Warning message in grid.Call(C_textBounds, as.graphicsAnnot(x$label), x$x, x$y, :\n"
     ]
    },
    {
     "name": "stderr",
     "output_type": "stream",
     "text": [
      "“font family 'Songti SC' not found in PostScript font database”Warning message in grid.Call(C_textBounds, as.graphicsAnnot(x$label), x$x, x$y, :\n",
      "“font family 'Songti SC' not found in PostScript font database”Warning message in grid.Call(C_textBounds, as.graphicsAnnot(x$label), x$x, x$y, :\n",
      "“font family 'Songti SC' not found in PostScript font database”Warning message in grid.Call(C_textBounds, as.graphicsAnnot(x$label), x$x, x$y, :\n",
      "“font family 'Songti SC' not found in PostScript font database”Warning message in grid.Call(C_textBounds, as.graphicsAnnot(x$label), x$x, x$y, :\n",
      "“font family 'Songti SC' not found in PostScript font database”Warning message in grid.Call(C_textBounds, as.graphicsAnnot(x$label), x$x, x$y, :\n",
      "“font family 'Songti SC' not found in PostScript font database”Warning message in grid.Call(C_textBounds, as.graphicsAnnot(x$label), x$x, x$y, :\n",
      "“font family 'Songti SC' not found in PostScript font database”Warning message in grid.Call(C_textBounds, as.graphicsAnnot(x$label), x$x, x$y, :\n",
      "“font family 'Songti SC' not found in PostScript font database”Warning message in grid.Call(C_textBounds, as.graphicsAnnot(x$label), x$x, x$y, :\n",
      "“font family 'Songti SC' not found in PostScript font database”Warning message in grid.Call(C_textBounds, as.graphicsAnnot(x$label), x$x, x$y, :\n",
      "“font family 'Songti SC' not found in PostScript font database”Warning message in grid.Call(C_textBounds, as.graphicsAnnot(x$label), x$x, x$y, :\n",
      "“font family 'Songti SC' not found in PostScript font database”Warning message in grid.Call(C_textBounds, as.graphicsAnnot(x$label), x$x, x$y, :\n",
      "“font family 'Songti SC' not found in PostScript font database”Warning message in grid.Call(C_textBounds, as.graphicsAnnot(x$label), x$x, x$y, :\n",
      "“font family 'Songti SC' not found in PostScript font database”Warning message in grid.Call(C_textBounds, as.graphicsAnnot(x$label), x$x, x$y, :\n",
      "“font family 'Songti SC' not found in PostScript font database”Warning message in grid.Call(C_textBounds, as.graphicsAnnot(x$label), x$x, x$y, :\n",
      "“font family 'Songti SC' not found in PostScript font database”Warning message in grid.Call(C_textBounds, as.graphicsAnnot(x$label), x$x, x$y, :\n",
      "“font family 'Songti SC' not found in PostScript font database”Warning message in grid.Call(C_textBounds, as.graphicsAnnot(x$label), x$x, x$y, :\n",
      "“font family 'Songti SC' not found in PostScript font database”Warning message in grid.Call(C_textBounds, as.graphicsAnnot(x$label), x$x, x$y, :\n",
      "“font family 'Songti SC' not found in PostScript font database”Warning message in grid.Call(C_textBounds, as.graphicsAnnot(x$label), x$x, x$y, :\n",
      "“font family 'Songti SC' not found in PostScript font database”Warning message in grid.Call(C_textBounds, as.graphicsAnnot(x$label), x$x, x$y, :\n",
      "“font family 'Songti SC' not found in PostScript font database”Warning message in grid.Call(C_textBounds, as.graphicsAnnot(x$label), x$x, x$y, :\n",
      "“font family 'Songti SC' not found in PostScript font database”Warning message in grid.Call(C_textBounds, as.graphicsAnnot(x$label), x$x, x$y, :\n",
      "“font family 'Songti SC' not found in PostScript font database”Warning message in grid.Call(C_textBounds, as.graphicsAnnot(x$label), x$x, x$y, :\n",
      "“font family 'Songti SC' not found in PostScript font database”Warning message in grid.Call(C_textBounds, as.graphicsAnnot(x$label), x$x, x$y, :\n",
      "“font family 'Songti SC' not found in PostScript font database”Warning message in grid.Call(C_textBounds, as.graphicsAnnot(x$label), x$x, x$y, :\n",
      "“font family 'Songti SC' not found in PostScript font database”Warning message in grid.Call(C_textBounds, as.graphicsAnnot(x$label), x$x, x$y, :\n",
      "“font family 'Songti SC' not found in PostScript font database”Warning message in grid.Call(C_textBounds, as.graphicsAnnot(x$label), x$x, x$y, :\n",
      "“font family 'Songti SC' not found in PostScript font database”Warning message in grid.Call(C_textBounds, as.graphicsAnnot(x$label), x$x, x$y, :\n",
      "“font family 'Songti SC' not found in PostScript font database”Warning message in grid.Call(C_textBounds, as.graphicsAnnot(x$label), x$x, x$y, :\n",
      "“font family 'Songti SC' not found in PostScript font database”Warning message in grid.Call(C_textBounds, as.graphicsAnnot(x$label), x$x, x$y, :\n",
      "“font family 'Songti SC' not found in PostScript font database”Warning message in grid.Call(C_textBounds, as.graphicsAnnot(x$label), x$x, x$y, :\n",
      "“font family 'Songti SC' not found in PostScript font database”Warning message in grid.Call(C_textBounds, as.graphicsAnnot(x$label), x$x, x$y, :\n",
      "“font family 'Songti SC' not found in PostScript font database”Warning message in grid.Call(C_textBounds, as.graphicsAnnot(x$label), x$x, x$y, :\n",
      "“font family 'Songti SC' not found in PostScript font database”Warning message in grid.Call(C_textBounds, as.graphicsAnnot(x$label), x$x, x$y, :\n",
      "“font family 'Songti SC' not found in PostScript font database”Warning message in grid.Call(C_textBounds, as.graphicsAnnot(x$label), x$x, x$y, :\n",
      "“font family 'Songti SC' not found in PostScript font database”Warning message in grid.Call(C_textBounds, as.graphicsAnnot(x$label), x$x, x$y, :\n",
      "“font family 'Songti SC' not found in PostScript font database”Warning message in grid.Call(C_textBounds, as.graphicsAnnot(x$label), x$x, x$y, :\n",
      "“font family 'Songti SC' not found in PostScript font database”Warning message in grid.Call(C_textBounds, as.graphicsAnnot(x$label), x$x, x$y, :\n",
      "“font family 'Songti SC' not found in PostScript font database”Warning message in grid.Call(C_textBounds, as.graphicsAnnot(x$label), x$x, x$y, :\n",
      "“font family 'Songti SC' not found in PostScript font database”Warning message in grid.Call(C_textBounds, as.graphicsAnnot(x$label), x$x, x$y, :\n",
      "“font family 'Songti SC' not found in PostScript font database”Warning message in grid.Call(C_textBounds, as.graphicsAnnot(x$label), x$x, x$y, :\n",
      "“font family 'Songti SC' not found in PostScript font database”Warning message in grid.Call(C_textBounds, as.graphicsAnnot(x$label), x$x, x$y, :\n",
      "“font family 'Songti SC' not found in PostScript font database”Warning message in grid.Call(C_textBounds, as.graphicsAnnot(x$label), x$x, x$y, :\n",
      "“font family 'Songti SC' not found in PostScript font database”Warning message in grid.Call(C_textBounds, as.graphicsAnnot(x$label), x$x, x$y, :\n",
      "“font family 'Songti SC' not found in PostScript font database”Warning message in grid.Call(C_textBounds, as.graphicsAnnot(x$label), x$x, x$y, :\n",
      "“font family 'Songti SC' not found in PostScript font database”Warning message in grid.Call(C_textBounds, as.graphicsAnnot(x$label), x$x, x$y, :\n",
      "“font family 'Songti SC' not found in PostScript font database”Warning message in grid.Call(C_textBounds, as.graphicsAnnot(x$label), x$x, x$y, :\n",
      "“font family 'Songti SC' not found in PostScript font database”Warning message in grid.Call(C_textBounds, as.graphicsAnnot(x$label), x$x, x$y, :\n",
      "“font family 'Songti SC' not found in PostScript font database”Warning message in grid.Call(C_textBounds, as.graphicsAnnot(x$label), x$x, x$y, :\n",
      "“font family 'Songti SC' not found in PostScript font database”Warning message in grid.Call(C_textBounds, as.graphicsAnnot(x$label), x$x, x$y, :\n",
      "“font family 'Songti SC' not found in PostScript font database”Warning message in grid.Call(C_textBounds, as.graphicsAnnot(x$label), x$x, x$y, :\n",
      "“font family 'Songti SC' not found in PostScript font database”Warning message in grid.Call(C_textBounds, as.graphicsAnnot(x$label), x$x, x$y, :\n",
      "“font family 'Songti SC' not found in PostScript font database”Warning message in grid.Call(C_textBounds, as.graphicsAnnot(x$label), x$x, x$y, :\n",
      "“font family 'Songti SC' not found in PostScript font database”Warning message in grid.Call(C_textBounds, as.graphicsAnnot(x$label), x$x, x$y, :\n",
      "“font family 'Songti SC' not found in PostScript font database”Warning message in grid.Call(C_textBounds, as.graphicsAnnot(x$label), x$x, x$y, :\n",
      "“font family 'Songti SC' not found in PostScript font database”Warning message in grid.Call(C_textBounds, as.graphicsAnnot(x$label), x$x, x$y, :\n",
      "“font family 'Songti SC' not found in PostScript font database”Warning message in grid.Call(C_textBounds, as.graphicsAnnot(x$label), x$x, x$y, :\n",
      "“font family 'Songti SC' not found in PostScript font database”Warning message in grid.Call(C_textBounds, as.graphicsAnnot(x$label), x$x, x$y, :\n"
     ]
    },
    {
     "name": "stderr",
     "output_type": "stream",
     "text": [
      "“font family 'Songti SC' not found in PostScript font database”Warning message in grid.Call(C_textBounds, as.graphicsAnnot(x$label), x$x, x$y, :\n",
      "“font family 'Songti SC' not found in PostScript font database”Warning message in grid.Call(C_textBounds, as.graphicsAnnot(x$label), x$x, x$y, :\n",
      "“font family 'Songti SC' not found in PostScript font database”Warning message in grid.Call(C_textBounds, as.graphicsAnnot(x$label), x$x, x$y, :\n",
      "“font family 'Songti SC' not found in PostScript font database”Warning message in grid.Call(C_textBounds, as.graphicsAnnot(x$label), x$x, x$y, :\n",
      "“font family 'Songti SC' not found in PostScript font database”Warning message in grid.Call(C_textBounds, as.graphicsAnnot(x$label), x$x, x$y, :\n",
      "“font family 'Songti SC' not found in PostScript font database”Warning message in grid.Call(C_textBounds, as.graphicsAnnot(x$label), x$x, x$y, :\n",
      "“font family 'Songti SC' not found in PostScript font database”Warning message in grid.Call(C_textBounds, as.graphicsAnnot(x$label), x$x, x$y, :\n",
      "“font family 'Songti SC' not found in PostScript font database”Warning message in grid.Call(C_textBounds, as.graphicsAnnot(x$label), x$x, x$y, :\n",
      "“font family 'Songti SC' not found in PostScript font database”Warning message in grid.Call(C_textBounds, as.graphicsAnnot(x$label), x$x, x$y, :\n",
      "“font family 'Songti SC' not found in PostScript font database”Warning message in grid.Call(C_textBounds, as.graphicsAnnot(x$label), x$x, x$y, :\n",
      "“font family 'Songti SC' not found in PostScript font database”Warning message in grid.Call(C_textBounds, as.graphicsAnnot(x$label), x$x, x$y, :\n",
      "“font family 'Songti SC' not found in PostScript font database”Warning message in grid.Call(C_textBounds, as.graphicsAnnot(x$label), x$x, x$y, :\n",
      "“font family 'Songti SC' not found in PostScript font database”Warning message in grid.Call(C_textBounds, as.graphicsAnnot(x$label), x$x, x$y, :\n",
      "“font family 'Songti SC' not found in PostScript font database”Warning message in grid.Call(C_textBounds, as.graphicsAnnot(x$label), x$x, x$y, :\n",
      "“font family 'Songti SC' not found in PostScript font database”Warning message in grid.Call(C_textBounds, as.graphicsAnnot(x$label), x$x, x$y, :\n",
      "“font family 'Songti SC' not found in PostScript font database”Warning message in grid.Call(C_textBounds, as.graphicsAnnot(x$label), x$x, x$y, :\n",
      "“font family 'Songti SC' not found in PostScript font database”Warning message in grid.Call(C_textBounds, as.graphicsAnnot(x$label), x$x, x$y, :\n",
      "“font family 'Songti SC' not found in PostScript font database”Warning message in grid.Call(C_textBounds, as.graphicsAnnot(x$label), x$x, x$y, :\n",
      "“font family 'Songti SC' not found in PostScript font database”Warning message in grid.Call(C_textBounds, as.graphicsAnnot(x$label), x$x, x$y, :\n",
      "“font family 'Songti SC' not found in PostScript font database”Warning message in grid.Call.graphics(C_text, as.graphicsAnnot(x$label), x$x, x$y, :\n",
      "“font family 'Songti SC' not found in PostScript font database”Warning message in grid.Call.graphics(C_text, as.graphicsAnnot(x$label), x$x, x$y, :\n",
      "“font family 'Songti SC' not found in PostScript font database”Warning message in grid.Call.graphics(C_text, as.graphicsAnnot(x$label), x$x, x$y, :\n",
      "“font family 'Songti SC' not found in PostScript font database”Warning message in grid.Call.graphics(C_text, as.graphicsAnnot(x$label), x$x, x$y, :\n",
      "“font family 'Songti SC' not found in PostScript font database”Warning message in grid.Call.graphics(C_text, as.graphicsAnnot(x$label), x$x, x$y, :\n",
      "“font family 'Songti SC' not found in PostScript font database”Warning message in grid.Call(C_textBounds, as.graphicsAnnot(x$label), x$x, x$y, :\n",
      "“font family 'Songti SC' not found in PostScript font database”Warning message in grid.Call(C_textBounds, as.graphicsAnnot(x$label), x$x, x$y, :\n",
      "“font family 'Songti SC' not found in PostScript font database”Warning message in grid.Call(C_textBounds, as.graphicsAnnot(x$label), x$x, x$y, :\n",
      "“font family 'Songti SC' not found in PostScript font database”Warning message in grid.Call(C_textBounds, as.graphicsAnnot(x$label), x$x, x$y, :\n",
      "“font family 'Songti SC' not found in PostScript font database”Warning message in grid.Call(C_textBounds, as.graphicsAnnot(x$label), x$x, x$y, :\n",
      "“font family 'Songti SC' not found in PostScript font database”Warning message in grid.Call(C_textBounds, as.graphicsAnnot(x$label), x$x, x$y, :\n",
      "“font family 'Songti SC' not found in PostScript font database”Warning message in grid.Call(C_textBounds, as.graphicsAnnot(x$label), x$x, x$y, :\n",
      "“font family 'Songti SC' not found in PostScript font database”Warning message in grid.Call(C_textBounds, as.graphicsAnnot(x$label), x$x, x$y, :\n",
      "“font family 'Songti SC' not found in PostScript font database”Warning message in grid.Call(C_textBounds, as.graphicsAnnot(x$label), x$x, x$y, :\n",
      "“font family 'Songti SC' not found in PostScript font database”Warning message in grid.Call(C_textBounds, as.graphicsAnnot(x$label), x$x, x$y, :\n",
      "“font family 'Songti SC' not found in PostScript font database”Warning message in grid.Call(C_textBounds, as.graphicsAnnot(x$label), x$x, x$y, :\n",
      "“font family 'Songti SC' not found in PostScript font database”Warning message in grid.Call(C_textBounds, as.graphicsAnnot(x$label), x$x, x$y, :\n",
      "“font family 'Songti SC' not found in PostScript font database”Warning message in grid.Call(C_textBounds, as.graphicsAnnot(x$label), x$x, x$y, :\n",
      "“font family 'Songti SC' not found in PostScript font database”Warning message in grid.Call(C_textBounds, as.graphicsAnnot(x$label), x$x, x$y, :\n",
      "“font family 'Songti SC' not found in PostScript font database”Warning message in grid.Call(C_textBounds, as.graphicsAnnot(x$label), x$x, x$y, :\n",
      "“font family 'Songti SC' not found in PostScript font database”Warning message in grid.Call(C_textBounds, as.graphicsAnnot(x$label), x$x, x$y, :\n",
      "“font family 'Songti SC' not found in PostScript font database”Warning message in grid.Call(C_textBounds, as.graphicsAnnot(x$label), x$x, x$y, :\n",
      "“font family 'Songti SC' not found in PostScript font database”Warning message in grid.Call(C_textBounds, as.graphicsAnnot(x$label), x$x, x$y, :\n",
      "“font family 'Songti SC' not found in PostScript font database”Warning message in grid.Call(C_textBounds, as.graphicsAnnot(x$label), x$x, x$y, :\n",
      "“font family 'Songti SC' not found in PostScript font database”Warning message in grid.Call(C_textBounds, as.graphicsAnnot(x$label), x$x, x$y, :\n",
      "“font family 'Songti SC' not found in PostScript font database”Warning message in grid.Call(C_textBounds, as.graphicsAnnot(x$label), x$x, x$y, :\n",
      "“font family 'Songti SC' not found in PostScript font database”Warning message in grid.Call(C_textBounds, as.graphicsAnnot(x$label), x$x, x$y, :\n",
      "“font family 'Songti SC' not found in PostScript font database”Warning message in grid.Call(C_textBounds, as.graphicsAnnot(x$label), x$x, x$y, :\n",
      "“font family 'Songti SC' not found in PostScript font database”Warning message in grid.Call(C_textBounds, as.graphicsAnnot(x$label), x$x, x$y, :\n",
      "“font family 'Songti SC' not found in PostScript font database”Warning message in grid.Call(C_textBounds, as.graphicsAnnot(x$label), x$x, x$y, :\n",
      "“font family 'Songti SC' not found in PostScript font database”Warning message in grid.Call(C_textBounds, as.graphicsAnnot(x$label), x$x, x$y, :\n",
      "“font family 'Songti SC' not found in PostScript font database”Warning message in grid.Call(C_textBounds, as.graphicsAnnot(x$label), x$x, x$y, :\n",
      "“font family 'Songti SC' not found in PostScript font database”Warning message in grid.Call(C_textBounds, as.graphicsAnnot(x$label), x$x, x$y, :\n",
      "“font family 'Songti SC' not found in PostScript font database”Warning message in grid.Call(C_textBounds, as.graphicsAnnot(x$label), x$x, x$y, :\n",
      "“font family 'Songti SC' not found in PostScript font database”Warning message in grid.Call(C_textBounds, as.graphicsAnnot(x$label), x$x, x$y, :\n",
      "“font family 'Songti SC' not found in PostScript font database”Warning message in grid.Call(C_textBounds, as.graphicsAnnot(x$label), x$x, x$y, :\n",
      "“font family 'Songti SC' not found in PostScript font database”Warning message in grid.Call(C_textBounds, as.graphicsAnnot(x$label), x$x, x$y, :\n"
     ]
    },
    {
     "name": "stderr",
     "output_type": "stream",
     "text": [
      "“font family 'Songti SC' not found in PostScript font database”Warning message in grid.Call(C_textBounds, as.graphicsAnnot(x$label), x$x, x$y, :\n",
      "“font family 'Songti SC' not found in PostScript font database”Warning message in grid.Call(C_textBounds, as.graphicsAnnot(x$label), x$x, x$y, :\n",
      "“font family 'Songti SC' not found in PostScript font database”Warning message in grid.Call(C_textBounds, as.graphicsAnnot(x$label), x$x, x$y, :\n",
      "“font family 'Songti SC' not found in PostScript font database”Warning message in grid.Call(C_textBounds, as.graphicsAnnot(x$label), x$x, x$y, :\n",
      "“font family 'Songti SC' not found in PostScript font database”Warning message in grid.Call(C_textBounds, as.graphicsAnnot(x$label), x$x, x$y, :\n",
      "“font family 'Songti SC' not found in PostScript font database”Warning message in grid.Call(C_textBounds, as.graphicsAnnot(x$label), x$x, x$y, :\n",
      "“font family 'Songti SC' not found in PostScript font database”Warning message in grid.Call(C_textBounds, as.graphicsAnnot(x$label), x$x, x$y, :\n",
      "“font family 'Songti SC' not found in PostScript font database”Warning message in grid.Call(C_textBounds, as.graphicsAnnot(x$label), x$x, x$y, :\n",
      "“font family 'Songti SC' not found in PostScript font database”Warning message in grid.Call(C_textBounds, as.graphicsAnnot(x$label), x$x, x$y, :\n",
      "“font family 'Songti SC' not found in PostScript font database”Warning message in grid.Call(C_textBounds, as.graphicsAnnot(x$label), x$x, x$y, :\n",
      "“font family 'Songti SC' not found in PostScript font database”Warning message in grid.Call(C_textBounds, as.graphicsAnnot(x$label), x$x, x$y, :\n",
      "“font family 'Songti SC' not found in PostScript font database”Warning message in grid.Call(C_textBounds, as.graphicsAnnot(x$label), x$x, x$y, :\n",
      "“font family 'Songti SC' not found in PostScript font database”Warning message in grid.Call(C_textBounds, as.graphicsAnnot(x$label), x$x, x$y, :\n",
      "“font family 'Songti SC' not found in PostScript font database”Warning message in grid.Call(C_textBounds, as.graphicsAnnot(x$label), x$x, x$y, :\n",
      "“font family 'Songti SC' not found in PostScript font database”Warning message in grid.Call(C_textBounds, as.graphicsAnnot(x$label), x$x, x$y, :\n",
      "“font family 'Songti SC' not found in PostScript font database”Warning message in grid.Call(C_textBounds, as.graphicsAnnot(x$label), x$x, x$y, :\n",
      "“font family 'Songti SC' not found in PostScript font database”Warning message in grid.Call(C_textBounds, as.graphicsAnnot(x$label), x$x, x$y, :\n",
      "“font family 'Songti SC' not found in PostScript font database”Warning message in grid.Call(C_textBounds, as.graphicsAnnot(x$label), x$x, x$y, :\n",
      "“font family 'Songti SC' not found in PostScript font database”Warning message in grid.Call(C_textBounds, as.graphicsAnnot(x$label), x$x, x$y, :\n",
      "“font family 'Songti SC' not found in PostScript font database”Warning message in grid.Call(C_textBounds, as.graphicsAnnot(x$label), x$x, x$y, :\n",
      "“font family 'Songti SC' not found in PostScript font database”Warning message in grid.Call(C_textBounds, as.graphicsAnnot(x$label), x$x, x$y, :\n",
      "“font family 'Songti SC' not found in PostScript font database”Warning message in grid.Call(C_textBounds, as.graphicsAnnot(x$label), x$x, x$y, :\n",
      "“font family 'Songti SC' not found in PostScript font database”Warning message in grid.Call(C_textBounds, as.graphicsAnnot(x$label), x$x, x$y, :\n",
      "“font family 'Songti SC' not found in PostScript font database”Warning message in grid.Call(C_textBounds, as.graphicsAnnot(x$label), x$x, x$y, :\n",
      "“font family 'Songti SC' not found in PostScript font database”Warning message in grid.Call(C_textBounds, as.graphicsAnnot(x$label), x$x, x$y, :\n",
      "“font family 'Songti SC' not found in PostScript font database”Warning message in grid.Call(C_textBounds, as.graphicsAnnot(x$label), x$x, x$y, :\n",
      "“font family 'Songti SC' not found in PostScript font database”Warning message in grid.Call(C_textBounds, as.graphicsAnnot(x$label), x$x, x$y, :\n",
      "“font family 'Songti SC' not found in PostScript font database”Warning message in grid.Call(C_textBounds, as.graphicsAnnot(x$label), x$x, x$y, :\n",
      "“font family 'Songti SC' not found in PostScript font database”Warning message in grid.Call(C_textBounds, as.graphicsAnnot(x$label), x$x, x$y, :\n",
      "“font family 'Songti SC' not found in PostScript font database”Warning message in grid.Call(C_textBounds, as.graphicsAnnot(x$label), x$x, x$y, :\n",
      "“font family 'Songti SC' not found in PostScript font database”Warning message in grid.Call(C_textBounds, as.graphicsAnnot(x$label), x$x, x$y, :\n",
      "“font family 'Songti SC' not found in PostScript font database”Warning message in grid.Call(C_textBounds, as.graphicsAnnot(x$label), x$x, x$y, :\n",
      "“font family 'Songti SC' not found in PostScript font database”Warning message in grid.Call(C_textBounds, as.graphicsAnnot(x$label), x$x, x$y, :\n",
      "“font family 'Songti SC' not found in PostScript font database”Warning message in grid.Call(C_textBounds, as.graphicsAnnot(x$label), x$x, x$y, :\n",
      "“font family 'Songti SC' not found in PostScript font database”Warning message in grid.Call(C_textBounds, as.graphicsAnnot(x$label), x$x, x$y, :\n",
      "“font family 'Songti SC' not found in PostScript font database”Warning message in grid.Call(C_textBounds, as.graphicsAnnot(x$label), x$x, x$y, :\n",
      "“font family 'Songti SC' not found in PostScript font database”Warning message in grid.Call(C_textBounds, as.graphicsAnnot(x$label), x$x, x$y, :\n",
      "“font family 'Songti SC' not found in PostScript font database”Warning message in grid.Call(C_textBounds, as.graphicsAnnot(x$label), x$x, x$y, :\n",
      "“font family 'Songti SC' not found in PostScript font database”Warning message in grid.Call(C_textBounds, as.graphicsAnnot(x$label), x$x, x$y, :\n",
      "“font family 'Songti SC' not found in PostScript font database”Warning message in grid.Call(C_textBounds, as.graphicsAnnot(x$label), x$x, x$y, :\n",
      "“font family 'Songti SC' not found in PostScript font database”Warning message in grid.Call(C_textBounds, as.graphicsAnnot(x$label), x$x, x$y, :\n",
      "“font family 'Songti SC' not found in PostScript font database”Warning message in grid.Call(C_textBounds, as.graphicsAnnot(x$label), x$x, x$y, :\n",
      "“font family 'Songti SC' not found in PostScript font database”Warning message in grid.Call(C_textBounds, as.graphicsAnnot(x$label), x$x, x$y, :\n",
      "“font family 'Songti SC' not found in PostScript font database”Warning message in grid.Call(C_textBounds, as.graphicsAnnot(x$label), x$x, x$y, :\n",
      "“font family 'Songti SC' not found in PostScript font database”Warning message in grid.Call(C_textBounds, as.graphicsAnnot(x$label), x$x, x$y, :\n",
      "“font family 'Songti SC' not found in PostScript font database”Warning message in grid.Call(C_textBounds, as.graphicsAnnot(x$label), x$x, x$y, :\n",
      "“font family 'Songti SC' not found in PostScript font database”Warning message in grid.Call(C_textBounds, as.graphicsAnnot(x$label), x$x, x$y, :\n",
      "“font family 'Songti SC' not found in PostScript font database”Warning message in grid.Call(C_textBounds, as.graphicsAnnot(x$label), x$x, x$y, :\n",
      "“font family 'Songti SC' not found in PostScript font database”Warning message in grid.Call(C_textBounds, as.graphicsAnnot(x$label), x$x, x$y, :\n",
      "“font family 'Songti SC' not found in PostScript font database”Warning message in grid.Call(C_textBounds, as.graphicsAnnot(x$label), x$x, x$y, :\n",
      "“font family 'Songti SC' not found in PostScript font database”Warning message in grid.Call(C_textBounds, as.graphicsAnnot(x$label), x$x, x$y, :\n",
      "“font family 'Songti SC' not found in PostScript font database”Warning message in grid.Call(C_textBounds, as.graphicsAnnot(x$label), x$x, x$y, :\n",
      "“font family 'Songti SC' not found in PostScript font database”Warning message in grid.Call(C_textBounds, as.graphicsAnnot(x$label), x$x, x$y, :\n",
      "“font family 'Songti SC' not found in PostScript font database”Warning message in grid.Call(C_textBounds, as.graphicsAnnot(x$label), x$x, x$y, :\n",
      "“font family 'Songti SC' not found in PostScript font database”Warning message in grid.Call(C_textBounds, as.graphicsAnnot(x$label), x$x, x$y, :\n",
      "“font family 'Songti SC' not found in PostScript font database”Warning message in grid.Call(C_textBounds, as.graphicsAnnot(x$label), x$x, x$y, :\n",
      "“font family 'Songti SC' not found in PostScript font database”Warning message in grid.Call(C_textBounds, as.graphicsAnnot(x$label), x$x, x$y, :\n"
     ]
    },
    {
     "name": "stderr",
     "output_type": "stream",
     "text": [
      "“font family 'Songti SC' not found in PostScript font database”Warning message in grid.Call(C_textBounds, as.graphicsAnnot(x$label), x$x, x$y, :\n",
      "“font family 'Songti SC' not found in PostScript font database”Warning message in grid.Call(C_textBounds, as.graphicsAnnot(x$label), x$x, x$y, :\n",
      "“font family 'Songti SC' not found in PostScript font database”Warning message in grid.Call(C_textBounds, as.graphicsAnnot(x$label), x$x, x$y, :\n",
      "“font family 'Songti SC' not found in PostScript font database”Warning message in grid.Call(C_textBounds, as.graphicsAnnot(x$label), x$x, x$y, :\n",
      "“font family 'Songti SC' not found in PostScript font database”Warning message in grid.Call(C_textBounds, as.graphicsAnnot(x$label), x$x, x$y, :\n",
      "“font family 'Songti SC' not found in PostScript font database”Warning message in grid.Call(C_textBounds, as.graphicsAnnot(x$label), x$x, x$y, :\n",
      "“font family 'Songti SC' not found in PostScript font database”Warning message in grid.Call(C_textBounds, as.graphicsAnnot(x$label), x$x, x$y, :\n",
      "“font family 'Songti SC' not found in PostScript font database”Warning message in grid.Call(C_textBounds, as.graphicsAnnot(x$label), x$x, x$y, :\n",
      "“font family 'Songti SC' not found in PostScript font database”Warning message in grid.Call(C_textBounds, as.graphicsAnnot(x$label), x$x, x$y, :\n",
      "“font family 'Songti SC' not found in PostScript font database”Warning message in grid.Call(C_textBounds, as.graphicsAnnot(x$label), x$x, x$y, :\n",
      "“font family 'Songti SC' not found in PostScript font database”Warning message in grid.Call(C_textBounds, as.graphicsAnnot(x$label), x$x, x$y, :\n",
      "“font family 'Songti SC' not found in PostScript font database”Warning message in grid.Call(C_textBounds, as.graphicsAnnot(x$label), x$x, x$y, :\n",
      "“font family 'Songti SC' not found in PostScript font database”Warning message in grid.Call(C_textBounds, as.graphicsAnnot(x$label), x$x, x$y, :\n",
      "“font family 'Songti SC' not found in PostScript font database”Warning message in grid.Call(C_textBounds, as.graphicsAnnot(x$label), x$x, x$y, :\n",
      "“font family 'Songti SC' not found in PostScript font database”Warning message in grid.Call(C_textBounds, as.graphicsAnnot(x$label), x$x, x$y, :\n",
      "“font family 'Songti SC' not found in PostScript font database”Warning message in grid.Call(C_textBounds, as.graphicsAnnot(x$label), x$x, x$y, :\n",
      "“font family 'Songti SC' not found in PostScript font database”Warning message in grid.Call(C_textBounds, as.graphicsAnnot(x$label), x$x, x$y, :\n",
      "“font family 'Songti SC' not found in PostScript font database”Warning message in grid.Call(C_textBounds, as.graphicsAnnot(x$label), x$x, x$y, :\n",
      "“font family 'Songti SC' not found in PostScript font database”Warning message in grid.Call(C_textBounds, as.graphicsAnnot(x$label), x$x, x$y, :\n",
      "“font family 'Songti SC' not found in PostScript font database”Warning message in grid.Call(C_textBounds, as.graphicsAnnot(x$label), x$x, x$y, :\n",
      "“font family 'Songti SC' not found in PostScript font database”Warning message in grid.Call(C_textBounds, as.graphicsAnnot(x$label), x$x, x$y, :\n",
      "“font family 'Songti SC' not found in PostScript font database”Warning message in grid.Call(C_textBounds, as.graphicsAnnot(x$label), x$x, x$y, :\n",
      "“font family 'Songti SC' not found in PostScript font database”Warning message in grid.Call(C_textBounds, as.graphicsAnnot(x$label), x$x, x$y, :\n",
      "“font family 'Songti SC' not found in PostScript font database”Warning message in grid.Call(C_textBounds, as.graphicsAnnot(x$label), x$x, x$y, :\n",
      "“font family 'Songti SC' not found in PostScript font database”Warning message in grid.Call(C_textBounds, as.graphicsAnnot(x$label), x$x, x$y, :\n",
      "“font family 'Songti SC' not found in PostScript font database”Warning message in grid.Call(C_textBounds, as.graphicsAnnot(x$label), x$x, x$y, :\n",
      "“font family 'Songti SC' not found in PostScript font database”Warning message in grid.Call(C_textBounds, as.graphicsAnnot(x$label), x$x, x$y, :\n",
      "“font family 'Songti SC' not found in PostScript font database”Warning message in grid.Call(C_textBounds, as.graphicsAnnot(x$label), x$x, x$y, :\n",
      "“font family 'Songti SC' not found in PostScript font database”Warning message in grid.Call(C_textBounds, as.graphicsAnnot(x$label), x$x, x$y, :\n",
      "“font family 'Songti SC' not found in PostScript font database”Warning message in grid.Call(C_textBounds, as.graphicsAnnot(x$label), x$x, x$y, :\n",
      "“font family 'Songti SC' not found in PostScript font database”Warning message in grid.Call(C_textBounds, as.graphicsAnnot(x$label), x$x, x$y, :\n",
      "“font family 'Songti SC' not found in PostScript font database”Warning message in grid.Call(C_textBounds, as.graphicsAnnot(x$label), x$x, x$y, :\n",
      "“font family 'Songti SC' not found in PostScript font database”Warning message in grid.Call(C_textBounds, as.graphicsAnnot(x$label), x$x, x$y, :\n",
      "“font family 'Songti SC' not found in PostScript font database”Warning message in grid.Call(C_textBounds, as.graphicsAnnot(x$label), x$x, x$y, :\n",
      "“font family 'Songti SC' not found in PostScript font database”Warning message in grid.Call(C_textBounds, as.graphicsAnnot(x$label), x$x, x$y, :\n",
      "“font family 'Songti SC' not found in PostScript font database”Warning message in grid.Call(C_textBounds, as.graphicsAnnot(x$label), x$x, x$y, :\n",
      "“font family 'Songti SC' not found in PostScript font database”Warning message in grid.Call(C_textBounds, as.graphicsAnnot(x$label), x$x, x$y, :\n",
      "“font family 'Songti SC' not found in PostScript font database”Warning message in grid.Call(C_textBounds, as.graphicsAnnot(x$label), x$x, x$y, :\n",
      "“font family 'Songti SC' not found in PostScript font database”Warning message in grid.Call(C_textBounds, as.graphicsAnnot(x$label), x$x, x$y, :\n",
      "“font family 'Songti SC' not found in PostScript font database”Warning message in grid.Call(C_textBounds, as.graphicsAnnot(x$label), x$x, x$y, :\n",
      "“font family 'Songti SC' not found in PostScript font database”Warning message in grid.Call(C_textBounds, as.graphicsAnnot(x$label), x$x, x$y, :\n",
      "“font family 'Songti SC' not found in PostScript font database”Warning message in grid.Call(C_textBounds, as.graphicsAnnot(x$label), x$x, x$y, :\n",
      "“font family 'Songti SC' not found in PostScript font database”Warning message in grid.Call(C_textBounds, as.graphicsAnnot(x$label), x$x, x$y, :\n",
      "“font family 'Songti SC' not found in PostScript font database”Warning message in grid.Call(C_textBounds, as.graphicsAnnot(x$label), x$x, x$y, :\n",
      "“font family 'Songti SC' not found in PostScript font database”Warning message in grid.Call(C_textBounds, as.graphicsAnnot(x$label), x$x, x$y, :\n",
      "“font family 'Songti SC' not found in PostScript font database”Warning message in grid.Call(C_textBounds, as.graphicsAnnot(x$label), x$x, x$y, :\n",
      "“font family 'Songti SC' not found in PostScript font database”Warning message in grid.Call(C_textBounds, as.graphicsAnnot(x$label), x$x, x$y, :\n",
      "“font family 'Songti SC' not found in PostScript font database”Warning message in grid.Call(C_textBounds, as.graphicsAnnot(x$label), x$x, x$y, :\n",
      "“font family 'Songti SC' not found in PostScript font database”Warning message in grid.Call(C_textBounds, as.graphicsAnnot(x$label), x$x, x$y, :\n",
      "“font family 'Songti SC' not found in PostScript font database”Warning message in grid.Call(C_textBounds, as.graphicsAnnot(x$label), x$x, x$y, :\n",
      "“font family 'Songti SC' not found in PostScript font database”Warning message in grid.Call(C_textBounds, as.graphicsAnnot(x$label), x$x, x$y, :\n",
      "“font family 'Songti SC' not found in PostScript font database”Warning message in grid.Call.graphics(C_text, as.graphicsAnnot(x$label), x$x, x$y, :\n",
      "“font family 'Songti SC' not found in PostScript font database”Warning message in grid.Call.graphics(C_text, as.graphicsAnnot(x$label), x$x, x$y, :\n",
      "“font family 'Songti SC' not found in PostScript font database”Warning message in grid.Call.graphics(C_text, as.graphicsAnnot(x$label), x$x, x$y, :\n",
      "“font family 'Songti SC' not found in PostScript font database”Warning message in grid.Call.graphics(C_text, as.graphicsAnnot(x$label), x$x, x$y, :\n",
      "“font family 'Songti SC' not found in PostScript font database”Warning message in grid.Call.graphics(C_text, as.graphicsAnnot(x$label), x$x, x$y, :\n"
     ]
    },
    {
     "name": "stderr",
     "output_type": "stream",
     "text": [
      "“font family 'Songti SC' not found in PostScript font database”Warning message in grid.Call.graphics(C_text, as.graphicsAnnot(x$label), x$x, x$y, :\n",
      "“font family 'Songti SC' not found in PostScript font database”Warning message in grid.Call.graphics(C_text, as.graphicsAnnot(x$label), x$x, x$y, :\n",
      "“font family 'Songti SC' not found in PostScript font database”Warning message in grid.Call.graphics(C_text, as.graphicsAnnot(x$label), x$x, x$y, :\n",
      "“font family 'Songti SC' not found in PostScript font database”Warning message in grid.Call.graphics(C_text, as.graphicsAnnot(x$label), x$x, x$y, :\n",
      "“font family 'Songti SC' not found in PostScript font database”Warning message in grid.Call.graphics(C_text, as.graphicsAnnot(x$label), x$x, x$y, :\n",
      "“font family 'Songti SC' not found in PostScript font database”Warning message in grid.Call.graphics(C_text, as.graphicsAnnot(x$label), x$x, x$y, :\n",
      "“font family 'Songti SC' not found in PostScript font database”Warning message in grid.Call.graphics(C_text, as.graphicsAnnot(x$label), x$x, x$y, :\n",
      "“font family 'Songti SC' not found in PostScript font database”Warning message in grid.Call.graphics(C_text, as.graphicsAnnot(x$label), x$x, x$y, :\n",
      "“font family 'Songti SC' not found in PostScript font database”Warning message in grid.Call.graphics(C_text, as.graphicsAnnot(x$label), x$x, x$y, :\n",
      "“font family 'Songti SC' not found in PostScript font database”Warning message in grid.Call(C_textBounds, as.graphicsAnnot(x$label), x$x, x$y, :\n",
      "“font family 'Songti SC' not found in PostScript font database”Warning message in grid.Call(C_textBounds, as.graphicsAnnot(x$label), x$x, x$y, :\n",
      "“font family 'Songti SC' not found in PostScript font database”Warning message in grid.Call(C_textBounds, as.graphicsAnnot(x$label), x$x, x$y, :\n",
      "“font family 'Songti SC' not found in PostScript font database”Warning message in grid.Call.graphics(C_text, as.graphicsAnnot(x$label), x$x, x$y, :\n",
      "“font family 'Songti SC' not found in PostScript font database”Warning message in grid.Call(C_textBounds, as.graphicsAnnot(x$label), x$x, x$y, :\n",
      "“font family 'Songti SC' not found in PostScript font database”Warning message in grid.Call(C_textBounds, as.graphicsAnnot(x$label), x$x, x$y, :\n",
      "“font family 'Songti SC' not found in PostScript font database”Warning message in grid.Call.graphics(C_text, as.graphicsAnnot(x$label), x$x, x$y, :\n",
      "“font family 'Songti SC' not found in PostScript font database”"
     ]
    },
    {
     "data": {},
     "metadata": {},
     "output_type": "display_data"
    },
    {
     "data": {
      "image/png": "[encoded data removed]",
      "text/plain": [
       "plot without title"
      ]
     },
     "metadata": {},
     "output_type": "display_data"
    }
   ],
   "source": [
    "g"
   ]
  },
  {
   "cell_type": "code",
   "execution_count": 284,
   "metadata": {},
   "outputs": [
    {
     "name": "stderr",
     "output_type": "stream",
     "text": [
      "Loading required package: DBI\n",
      "\n",
      "Attaching package: ‘RMySQL’\n",
      "\n",
      "The following object is masked from ‘package:RSQLite’:\n",
      "\n",
      "    isIdCurrent\n",
      "\n"
     ]
    }
   ],
   "source": [
    "# install.packages('dbplyr')\n",
    "# install.packages('RMySQL')\n",
    "library('dbplyr')\n",
    "library('RMySQL')"
   ]
  },
  {
   "cell_type": "code",
   "execution_count": 285,
   "metadata": {},
   "outputs": [],
   "source": [
    "?src_mysql"
   ]
  },
  {
   "cell_type": "code",
   "execution_count": 286,
   "metadata": {},
   "outputs": [],
   "source": [
    "conn = src_mysql(dbname='test',host='127.0.0.1',port=3306,user='root',password='pythonetl')"
   ]
  },
  {
   "cell_type": "code",
   "execution_count": 288,
   "metadata": {},
   "outputs": [
    {
     "data": {
      "text/html": [
       "<ol class=list-inline>\n",
       "\t<li>'iris'</li>\n",
       "\t<li>'pcc'</li>\n",
       "\t<li>'user'</li>\n",
       "</ol>\n"
      ],
      "text/latex": [
       "\\begin{enumerate*}\n",
       "\\item 'iris'\n",
       "\\item 'pcc'\n",
       "\\item 'user'\n",
       "\\end{enumerate*}\n"
      ],
      "text/markdown": [
       "1. 'iris'\n",
       "2. 'pcc'\n",
       "3. 'user'\n",
       "\n",
       "\n"
      ],
      "text/plain": [
       "[1] \"iris\" \"pcc\"  \"user\""
      ]
     },
     "metadata": {},
     "output_type": "display_data"
    }
   ],
   "source": [
    "src_tbls(conn)"
   ]
  },
  {
   "cell_type": "code",
   "execution_count": 289,
   "metadata": {},
   "outputs": [],
   "source": [
    "?copy_to"
   ]
  },
  {
   "cell_type": "code",
   "execution_count": 301,
   "metadata": {},
   "outputs": [],
   "source": [
    "copy_to(conn,iris,overwrite=T,temporary = F)"
   ]
  },
  {
   "cell_type": "code",
   "execution_count": 291,
   "metadata": {},
   "outputs": [],
   "source": [
    "?tbl"
   ]
  },
  {
   "cell_type": "code",
   "execution_count": 294,
   "metadata": {},
   "outputs": [
    {
     "name": "stderr",
     "output_type": "stream",
     "text": [
      "Warning message:\n",
      "“Missing values are always removed in SQL.\n",
      "Use `AVG(x, na.rm = TRUE)` to silence this warning”"
     ]
    },
    {
     "data": {
      "text/html": [
       "<table>\n",
       "<thead><tr><th scope=col>Species</th><th scope=col>cat_means</th></tr></thead>\n",
       "<tbody>\n",
       "\t<tr><td>setosa    </td><td>5.031818  </td></tr>\n",
       "\t<tr><td>versicolor</td><td>5.966667  </td></tr>\n",
       "\t<tr><td>virginica </td><td>6.537209  </td></tr>\n",
       "</tbody>\n",
       "</table>\n"
      ],
      "text/latex": [
       "\\begin{tabular}{r|ll}\n",
       " Species & cat\\_means\\\\\n",
       "\\hline\n",
       "\t setosa     & 5.031818  \\\\\n",
       "\t versicolor & 5.966667  \\\\\n",
       "\t virginica  & 6.537209  \\\\\n",
       "\\end{tabular}\n"
      ],
      "text/markdown": [
       "\n",
       "Species | cat_means | \n",
       "|---|---|---|\n",
       "| setosa     | 5.031818   | \n",
       "| versicolor | 5.966667   | \n",
       "| virginica  | 6.537209   | \n",
       "\n",
       "\n"
      ],
      "text/plain": [
       "  Species    cat_means\n",
       "1 setosa     5.031818 \n",
       "2 versicolor 5.966667 \n",
       "3 virginica  6.537209 "
      ]
     },
     "metadata": {},
     "output_type": "display_data"
    }
   ],
   "source": [
    "tbl(conn,'iris') %>% group_by(Species) %>% summarise( cat_means = mean(Sepal.Length)) %>% collect()"
   ]
  },
  {
   "cell_type": "code",
   "execution_count": 295,
   "metadata": {},
   "outputs": [
    {
     "data": {},
     "metadata": {},
     "output_type": "display_data"
    }
   ],
   "source": [
    "help(package='DBI')"
   ]
  },
  {
   "cell_type": "code",
   "execution_count": 296,
   "metadata": {},
   "outputs": [],
   "source": [
    "library('RMySQL')"
   ]
  },
  {
   "cell_type": "code",
   "execution_count": 297,
   "metadata": {},
   "outputs": [],
   "source": [
    "conn2 = dbConnect(MySQL(),dbname='test',host='127.0.0.1',port=3306,user='root',password='pythonetl')"
   ]
  },
  {
   "cell_type": "code",
   "execution_count": 304,
   "metadata": {
    "scrolled": true
   },
   "outputs": [
    {
     "data": {
      "text/html": [
       "<table>\n",
       "<thead><tr><th scope=col>Sepal.Length</th><th scope=col>Sepal.Width</th><th scope=col>Petal.Length</th><th scope=col>Petal.Width</th><th scope=col>Species</th></tr></thead>\n",
       "<tbody>\n",
       "\t<tr><td>5.1   </td><td>3.5   </td><td>1.4   </td><td>0.2   </td><td>setosa</td></tr>\n",
       "\t<tr><td>4.9   </td><td>3.0   </td><td>1.4   </td><td>0.2   </td><td>setosa</td></tr>\n",
       "\t<tr><td>4.7   </td><td>3.2   </td><td>1.3   </td><td>0.2   </td><td>setosa</td></tr>\n",
       "\t<tr><td>4.6   </td><td>3.1   </td><td>1.5   </td><td>0.2   </td><td>setosa</td></tr>\n",
       "\t<tr><td>5.0   </td><td>3.6   </td><td>1.4   </td><td>0.2   </td><td>setosa</td></tr>\n",
       "\t<tr><td>5.4   </td><td>3.9   </td><td>1.7   </td><td>0.4   </td><td>setosa</td></tr>\n",
       "\t<tr><td> NA   </td><td>3.4   </td><td>1.4   </td><td>0.3   </td><td>setosa</td></tr>\n",
       "\t<tr><td>5.0   </td><td>3.4   </td><td>1.5   </td><td>0.2   </td><td>setosa</td></tr>\n",
       "\t<tr><td>4.4   </td><td>2.9   </td><td>1.4   </td><td>0.2   </td><td>setosa</td></tr>\n",
       "\t<tr><td>4.9   </td><td>3.1   </td><td>1.5   </td><td>0.1   </td><td>setosa</td></tr>\n",
       "\t<tr><td>5.4   </td><td>3.7   </td><td>1.5   </td><td>0.2   </td><td>setosa</td></tr>\n",
       "\t<tr><td> NA   </td><td>3.4   </td><td>1.6   </td><td>0.2   </td><td>setosa</td></tr>\n",
       "\t<tr><td>4.8   </td><td>3.0   </td><td>1.4   </td><td>0.1   </td><td>setosa</td></tr>\n",
       "\t<tr><td>4.3   </td><td>3.0   </td><td>1.1   </td><td>0.1   </td><td>setosa</td></tr>\n",
       "\t<tr><td>5.8   </td><td>4.0   </td><td>1.2   </td><td>0.2   </td><td>setosa</td></tr>\n",
       "\t<tr><td>5.7   </td><td>4.4   </td><td>1.5   </td><td>0.4   </td><td>setosa</td></tr>\n",
       "\t<tr><td>5.4   </td><td>3.9   </td><td>1.3   </td><td>0.4   </td><td>setosa</td></tr>\n",
       "\t<tr><td>5.1   </td><td>3.5   </td><td>1.4   </td><td>0.3   </td><td>setosa</td></tr>\n",
       "\t<tr><td>5.7   </td><td>3.8   </td><td>1.7   </td><td>0.3   </td><td>setosa</td></tr>\n",
       "\t<tr><td>5.1   </td><td>3.8   </td><td>1.5   </td><td>0.3   </td><td>setosa</td></tr>\n",
       "\t<tr><td>5.4   </td><td>3.4   </td><td>1.7   </td><td>0.2   </td><td>setosa</td></tr>\n",
       "\t<tr><td>5.1   </td><td>3.7   </td><td>1.5   </td><td>0.4   </td><td>setosa</td></tr>\n",
       "\t<tr><td>4.6   </td><td>3.6   </td><td>1.0   </td><td>0.2   </td><td>setosa</td></tr>\n",
       "\t<tr><td>5.1   </td><td>3.3   </td><td>1.7   </td><td>0.5   </td><td>setosa</td></tr>\n",
       "\t<tr><td> NA   </td><td>3.4   </td><td>1.9   </td><td>0.2   </td><td>setosa</td></tr>\n",
       "\t<tr><td>5.0   </td><td>3.0   </td><td>1.6   </td><td>0.2   </td><td>setosa</td></tr>\n",
       "\t<tr><td>5.0   </td><td>3.4   </td><td>1.6   </td><td>0.4   </td><td>setosa</td></tr>\n",
       "\t<tr><td> NA   </td><td>3.5   </td><td>1.5   </td><td>0.2   </td><td>setosa</td></tr>\n",
       "\t<tr><td>5.2   </td><td>3.4   </td><td>1.4   </td><td>0.2   </td><td>setosa</td></tr>\n",
       "\t<tr><td>4.7   </td><td>3.2   </td><td>1.6   </td><td>0.2   </td><td>setosa</td></tr>\n",
       "\t<tr><td>4.8   </td><td>3.1   </td><td>1.6   </td><td>0.2   </td><td>setosa</td></tr>\n",
       "\t<tr><td>5.4   </td><td>3.4   </td><td>1.5   </td><td>0.4   </td><td>setosa</td></tr>\n",
       "\t<tr><td>5.2   </td><td>4.1   </td><td>1.5   </td><td>0.1   </td><td>setosa</td></tr>\n",
       "\t<tr><td>5.5   </td><td>4.2   </td><td>1.4   </td><td>0.2   </td><td>setosa</td></tr>\n",
       "\t<tr><td>4.9   </td><td>3.1   </td><td>1.5   </td><td>0.2   </td><td>setosa</td></tr>\n",
       "\t<tr><td>5.0   </td><td>3.2   </td><td>1.2   </td><td>0.2   </td><td>setosa</td></tr>\n",
       "\t<tr><td>5.5   </td><td>3.5   </td><td>1.3   </td><td>0.2   </td><td>setosa</td></tr>\n",
       "\t<tr><td>4.9   </td><td>3.6   </td><td>1.4   </td><td>0.1   </td><td>setosa</td></tr>\n",
       "\t<tr><td>4.4   </td><td>3.0   </td><td>1.3   </td><td>0.2   </td><td>setosa</td></tr>\n",
       "\t<tr><td>5.1   </td><td>3.4   </td><td>1.5   </td><td>0.2   </td><td>setosa</td></tr>\n",
       "\t<tr><td> NA   </td><td>3.5   </td><td>1.3   </td><td>0.3   </td><td>setosa</td></tr>\n",
       "\t<tr><td> NA   </td><td>2.3   </td><td>1.3   </td><td>0.3   </td><td>setosa</td></tr>\n",
       "\t<tr><td>4.4   </td><td>3.2   </td><td>1.3   </td><td>0.2   </td><td>setosa</td></tr>\n",
       "\t<tr><td>5.0   </td><td>3.5   </td><td>1.6   </td><td>0.6   </td><td>setosa</td></tr>\n",
       "\t<tr><td>5.1   </td><td>3.8   </td><td>1.9   </td><td>0.4   </td><td>setosa</td></tr>\n",
       "\t<tr><td>4.8   </td><td>3.0   </td><td>1.4   </td><td>0.3   </td><td>setosa</td></tr>\n",
       "\t<tr><td>5.1   </td><td>3.8   </td><td>1.6   </td><td>0.2   </td><td>setosa</td></tr>\n",
       "\t<tr><td>4.6   </td><td>3.2   </td><td>1.4   </td><td>0.2   </td><td>setosa</td></tr>\n",
       "\t<tr><td>5.3   </td><td>3.7   </td><td>1.5   </td><td>0.2   </td><td>setosa</td></tr>\n",
       "\t<tr><td>5.0   </td><td>3.3   </td><td>1.4   </td><td>0.2   </td><td>setosa</td></tr>\n",
       "</tbody>\n",
       "</table>\n"
      ],
      "text/latex": [
       "\\begin{tabular}{r|lllll}\n",
       " Sepal.Length & Sepal.Width & Petal.Length & Petal.Width & Species\\\\\n",
       "\\hline\n",
       "\t 5.1    & 3.5    & 1.4    & 0.2    & setosa\\\\\n",
       "\t 4.9    & 3.0    & 1.4    & 0.2    & setosa\\\\\n",
       "\t 4.7    & 3.2    & 1.3    & 0.2    & setosa\\\\\n",
       "\t 4.6    & 3.1    & 1.5    & 0.2    & setosa\\\\\n",
       "\t 5.0    & 3.6    & 1.4    & 0.2    & setosa\\\\\n",
       "\t 5.4    & 3.9    & 1.7    & 0.4    & setosa\\\\\n",
       "\t  NA    & 3.4    & 1.4    & 0.3    & setosa\\\\\n",
       "\t 5.0    & 3.4    & 1.5    & 0.2    & setosa\\\\\n",
       "\t 4.4    & 2.9    & 1.4    & 0.2    & setosa\\\\\n",
       "\t 4.9    & 3.1    & 1.5    & 0.1    & setosa\\\\\n",
       "\t 5.4    & 3.7    & 1.5    & 0.2    & setosa\\\\\n",
       "\t  NA    & 3.4    & 1.6    & 0.2    & setosa\\\\\n",
       "\t 4.8    & 3.0    & 1.4    & 0.1    & setosa\\\\\n",
       "\t 4.3    & 3.0    & 1.1    & 0.1    & setosa\\\\\n",
       "\t 5.8    & 4.0    & 1.2    & 0.2    & setosa\\\\\n",
       "\t 5.7    & 4.4    & 1.5    & 0.4    & setosa\\\\\n",
       "\t 5.4    & 3.9    & 1.3    & 0.4    & setosa\\\\\n",
       "\t 5.1    & 3.5    & 1.4    & 0.3    & setosa\\\\\n",
       "\t 5.7    & 3.8    & 1.7    & 0.3    & setosa\\\\\n",
       "\t 5.1    & 3.8    & 1.5    & 0.3    & setosa\\\\\n",
       "\t 5.4    & 3.4    & 1.7    & 0.2    & setosa\\\\\n",
       "\t 5.1    & 3.7    & 1.5    & 0.4    & setosa\\\\\n",
       "\t 4.6    & 3.6    & 1.0    & 0.2    & setosa\\\\\n",
       "\t 5.1    & 3.3    & 1.7    & 0.5    & setosa\\\\\n",
       "\t  NA    & 3.4    & 1.9    & 0.2    & setosa\\\\\n",
       "\t 5.0    & 3.0    & 1.6    & 0.2    & setosa\\\\\n",
       "\t 5.0    & 3.4    & 1.6    & 0.4    & setosa\\\\\n",
       "\t  NA    & 3.5    & 1.5    & 0.2    & setosa\\\\\n",
       "\t 5.2    & 3.4    & 1.4    & 0.2    & setosa\\\\\n",
       "\t 4.7    & 3.2    & 1.6    & 0.2    & setosa\\\\\n",
       "\t 4.8    & 3.1    & 1.6    & 0.2    & setosa\\\\\n",
       "\t 5.4    & 3.4    & 1.5    & 0.4    & setosa\\\\\n",
       "\t 5.2    & 4.1    & 1.5    & 0.1    & setosa\\\\\n",
       "\t 5.5    & 4.2    & 1.4    & 0.2    & setosa\\\\\n",
       "\t 4.9    & 3.1    & 1.5    & 0.2    & setosa\\\\\n",
       "\t 5.0    & 3.2    & 1.2    & 0.2    & setosa\\\\\n",
       "\t 5.5    & 3.5    & 1.3    & 0.2    & setosa\\\\\n",
       "\t 4.9    & 3.6    & 1.4    & 0.1    & setosa\\\\\n",
       "\t 4.4    & 3.0    & 1.3    & 0.2    & setosa\\\\\n",
       "\t 5.1    & 3.4    & 1.5    & 0.2    & setosa\\\\\n",
       "\t  NA    & 3.5    & 1.3    & 0.3    & setosa\\\\\n",
       "\t  NA    & 2.3    & 1.3    & 0.3    & setosa\\\\\n",
       "\t 4.4    & 3.2    & 1.3    & 0.2    & setosa\\\\\n",
       "\t 5.0    & 3.5    & 1.6    & 0.6    & setosa\\\\\n",
       "\t 5.1    & 3.8    & 1.9    & 0.4    & setosa\\\\\n",
       "\t 4.8    & 3.0    & 1.4    & 0.3    & setosa\\\\\n",
       "\t 5.1    & 3.8    & 1.6    & 0.2    & setosa\\\\\n",
       "\t 4.6    & 3.2    & 1.4    & 0.2    & setosa\\\\\n",
       "\t 5.3    & 3.7    & 1.5    & 0.2    & setosa\\\\\n",
       "\t 5.0    & 3.3    & 1.4    & 0.2    & setosa\\\\\n",
       "\\end{tabular}\n"
      ],
      "text/markdown": [
       "\n",
       "Sepal.Length | Sepal.Width | Petal.Length | Petal.Width | Species | \n",
       "|---|---|---|---|---|---|---|---|---|---|---|---|---|---|---|---|---|---|---|---|---|---|---|---|---|---|---|---|---|---|---|---|---|---|---|---|---|---|---|---|---|---|---|---|---|---|---|---|---|---|\n",
       "| 5.1    | 3.5    | 1.4    | 0.2    | setosa | \n",
       "| 4.9    | 3.0    | 1.4    | 0.2    | setosa | \n",
       "| 4.7    | 3.2    | 1.3    | 0.2    | setosa | \n",
       "| 4.6    | 3.1    | 1.5    | 0.2    | setosa | \n",
       "| 5.0    | 3.6    | 1.4    | 0.2    | setosa | \n",
       "| 5.4    | 3.9    | 1.7    | 0.4    | setosa | \n",
       "|  NA    | 3.4    | 1.4    | 0.3    | setosa | \n",
       "| 5.0    | 3.4    | 1.5    | 0.2    | setosa | \n",
       "| 4.4    | 2.9    | 1.4    | 0.2    | setosa | \n",
       "| 4.9    | 3.1    | 1.5    | 0.1    | setosa | \n",
       "| 5.4    | 3.7    | 1.5    | 0.2    | setosa | \n",
       "|  NA    | 3.4    | 1.6    | 0.2    | setosa | \n",
       "| 4.8    | 3.0    | 1.4    | 0.1    | setosa | \n",
       "| 4.3    | 3.0    | 1.1    | 0.1    | setosa | \n",
       "| 5.8    | 4.0    | 1.2    | 0.2    | setosa | \n",
       "| 5.7    | 4.4    | 1.5    | 0.4    | setosa | \n",
       "| 5.4    | 3.9    | 1.3    | 0.4    | setosa | \n",
       "| 5.1    | 3.5    | 1.4    | 0.3    | setosa | \n",
       "| 5.7    | 3.8    | 1.7    | 0.3    | setosa | \n",
       "| 5.1    | 3.8    | 1.5    | 0.3    | setosa | \n",
       "| 5.4    | 3.4    | 1.7    | 0.2    | setosa | \n",
       "| 5.1    | 3.7    | 1.5    | 0.4    | setosa | \n",
       "| 4.6    | 3.6    | 1.0    | 0.2    | setosa | \n",
       "| 5.1    | 3.3    | 1.7    | 0.5    | setosa | \n",
       "|  NA    | 3.4    | 1.9    | 0.2    | setosa | \n",
       "| 5.0    | 3.0    | 1.6    | 0.2    | setosa | \n",
       "| 5.0    | 3.4    | 1.6    | 0.4    | setosa | \n",
       "|  NA    | 3.5    | 1.5    | 0.2    | setosa | \n",
       "| 5.2    | 3.4    | 1.4    | 0.2    | setosa | \n",
       "| 4.7    | 3.2    | 1.6    | 0.2    | setosa | \n",
       "| 4.8    | 3.1    | 1.6    | 0.2    | setosa | \n",
       "| 5.4    | 3.4    | 1.5    | 0.4    | setosa | \n",
       "| 5.2    | 4.1    | 1.5    | 0.1    | setosa | \n",
       "| 5.5    | 4.2    | 1.4    | 0.2    | setosa | \n",
       "| 4.9    | 3.1    | 1.5    | 0.2    | setosa | \n",
       "| 5.0    | 3.2    | 1.2    | 0.2    | setosa | \n",
       "| 5.5    | 3.5    | 1.3    | 0.2    | setosa | \n",
       "| 4.9    | 3.6    | 1.4    | 0.1    | setosa | \n",
       "| 4.4    | 3.0    | 1.3    | 0.2    | setosa | \n",
       "| 5.1    | 3.4    | 1.5    | 0.2    | setosa | \n",
       "|  NA    | 3.5    | 1.3    | 0.3    | setosa | \n",
       "|  NA    | 2.3    | 1.3    | 0.3    | setosa | \n",
       "| 4.4    | 3.2    | 1.3    | 0.2    | setosa | \n",
       "| 5.0    | 3.5    | 1.6    | 0.6    | setosa | \n",
       "| 5.1    | 3.8    | 1.9    | 0.4    | setosa | \n",
       "| 4.8    | 3.0    | 1.4    | 0.3    | setosa | \n",
       "| 5.1    | 3.8    | 1.6    | 0.2    | setosa | \n",
       "| 4.6    | 3.2    | 1.4    | 0.2    | setosa | \n",
       "| 5.3    | 3.7    | 1.5    | 0.2    | setosa | \n",
       "| 5.0    | 3.3    | 1.4    | 0.2    | setosa | \n",
       "\n",
       "\n"
      ],
      "text/plain": [
       "   Sepal.Length Sepal.Width Petal.Length Petal.Width Species\n",
       "1  5.1          3.5         1.4          0.2         setosa \n",
       "2  4.9          3.0         1.4          0.2         setosa \n",
       "3  4.7          3.2         1.3          0.2         setosa \n",
       "4  4.6          3.1         1.5          0.2         setosa \n",
       "5  5.0          3.6         1.4          0.2         setosa \n",
       "6  5.4          3.9         1.7          0.4         setosa \n",
       "7   NA          3.4         1.4          0.3         setosa \n",
       "8  5.0          3.4         1.5          0.2         setosa \n",
       "9  4.4          2.9         1.4          0.2         setosa \n",
       "10 4.9          3.1         1.5          0.1         setosa \n",
       "11 5.4          3.7         1.5          0.2         setosa \n",
       "12  NA          3.4         1.6          0.2         setosa \n",
       "13 4.8          3.0         1.4          0.1         setosa \n",
       "14 4.3          3.0         1.1          0.1         setosa \n",
       "15 5.8          4.0         1.2          0.2         setosa \n",
       "16 5.7          4.4         1.5          0.4         setosa \n",
       "17 5.4          3.9         1.3          0.4         setosa \n",
       "18 5.1          3.5         1.4          0.3         setosa \n",
       "19 5.7          3.8         1.7          0.3         setosa \n",
       "20 5.1          3.8         1.5          0.3         setosa \n",
       "21 5.4          3.4         1.7          0.2         setosa \n",
       "22 5.1          3.7         1.5          0.4         setosa \n",
       "23 4.6          3.6         1.0          0.2         setosa \n",
       "24 5.1          3.3         1.7          0.5         setosa \n",
       "25  NA          3.4         1.9          0.2         setosa \n",
       "26 5.0          3.0         1.6          0.2         setosa \n",
       "27 5.0          3.4         1.6          0.4         setosa \n",
       "28  NA          3.5         1.5          0.2         setosa \n",
       "29 5.2          3.4         1.4          0.2         setosa \n",
       "30 4.7          3.2         1.6          0.2         setosa \n",
       "31 4.8          3.1         1.6          0.2         setosa \n",
       "32 5.4          3.4         1.5          0.4         setosa \n",
       "33 5.2          4.1         1.5          0.1         setosa \n",
       "34 5.5          4.2         1.4          0.2         setosa \n",
       "35 4.9          3.1         1.5          0.2         setosa \n",
       "36 5.0          3.2         1.2          0.2         setosa \n",
       "37 5.5          3.5         1.3          0.2         setosa \n",
       "38 4.9          3.6         1.4          0.1         setosa \n",
       "39 4.4          3.0         1.3          0.2         setosa \n",
       "40 5.1          3.4         1.5          0.2         setosa \n",
       "41  NA          3.5         1.3          0.3         setosa \n",
       "42  NA          2.3         1.3          0.3         setosa \n",
       "43 4.4          3.2         1.3          0.2         setosa \n",
       "44 5.0          3.5         1.6          0.6         setosa \n",
       "45 5.1          3.8         1.9          0.4         setosa \n",
       "46 4.8          3.0         1.4          0.3         setosa \n",
       "47 5.1          3.8         1.6          0.2         setosa \n",
       "48 4.6          3.2         1.4          0.2         setosa \n",
       "49 5.3          3.7         1.5          0.2         setosa \n",
       "50 5.0          3.3         1.4          0.2         setosa "
      ]
     },
     "metadata": {},
     "output_type": "display_data"
    }
   ],
   "source": [
    "dbGetQuery(conn2,'select * from iris') %>% filter(Species == 'setosa')"
   ]
  },
  {
   "cell_type": "code",
   "execution_count": 302,
   "metadata": {},
   "outputs": [
    {
     "data": {
      "text/html": [
       "<ol class=list-inline>\n",
       "\t<li>'iris'</li>\n",
       "\t<li>'pcc'</li>\n",
       "\t<li>'user'</li>\n",
       "</ol>\n"
      ],
      "text/latex": [
       "\\begin{enumerate*}\n",
       "\\item 'iris'\n",
       "\\item 'pcc'\n",
       "\\item 'user'\n",
       "\\end{enumerate*}\n"
      ],
      "text/markdown": [
       "1. 'iris'\n",
       "2. 'pcc'\n",
       "3. 'user'\n",
       "\n",
       "\n"
      ],
      "text/plain": [
       "[1] \"iris\" \"pcc\"  \"user\""
      ]
     },
     "metadata": {},
     "output_type": "display_data"
    }
   ],
   "source": [
    "dbListTables(conn2)"
   ]
  },
  {
   "cell_type": "code",
   "execution_count": null,
   "metadata": {},
   "outputs": [],
   "source": []
  }
 ],
 "metadata": {
  "kernelspec": {
   "display_name": "R",
   "language": "R",
   "name": "ir"
  },
  "language_info": {
   "codemirror_mode": "r",
   "file_extension": ".r",
   "mimetype": "text/x-r-source",
   "name": "R",
   "pygments_lexer": "r",
   "version": "3.5.1"
  }
 },
 "nbformat": 4,
 "nbformat_minor": 2
}
